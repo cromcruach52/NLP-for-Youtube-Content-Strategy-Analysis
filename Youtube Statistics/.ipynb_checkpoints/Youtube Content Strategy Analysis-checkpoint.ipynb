{
 "cells": [
  {
   "cell_type": "markdown",
   "id": "34e75479",
   "metadata": {},
   "source": [
    "# Loading and Preprocessing"
   ]
  },
  {
   "cell_type": "code",
   "execution_count": 20,
   "id": "1f2fe9df",
   "metadata": {},
   "outputs": [],
   "source": [
    "import pandas as pd\n",
    "import numpy as np\n",
    "from datetime import datetime\n",
    "import os"
   ]
  },
  {
   "cell_type": "code",
   "execution_count": 12,
   "id": "8ad4b4a1",
   "metadata": {},
   "outputs": [
    {
     "name": "stdout",
     "output_type": "stream",
     "text": [
      "comments.csv\n",
      "videos-stats.csv\n"
     ]
    }
   ],
   "source": [
    "files = os.listdir('archive')\n",
    "\n",
    "for file in files:\n",
    "    print(file)"
   ]
  },
  {
   "cell_type": "code",
   "execution_count": 13,
   "id": "0d1be76c",
   "metadata": {},
   "outputs": [],
   "source": [
    "comments_df = pd.read_csv('archive/comments.csv')\n",
    "videos_df = pd.read_csv('archive/videos-stats.csv')"
   ]
  },
  {
   "cell_type": "code",
   "execution_count": 16,
   "id": "ccf319df",
   "metadata": {},
   "outputs": [
    {
     "name": "stdout",
     "output_type": "stream",
     "text": [
      "=== COMMENTS DATASET ===\n",
      "\n",
      "Shape: (18409, 5)\n",
      "\n",
      "Columns: ['Unnamed: 0', 'Video ID', 'Comment', 'Likes', 'Sentiment']\n",
      "\n",
      "Data Types:\n",
      "Unnamed: 0      int64\n",
      "Video ID       object\n",
      "Comment        object\n",
      "Likes         float64\n",
      "Sentiment     float64\n",
      "dtype: object\n",
      "\n",
      "First few rows:\n",
      "   Unnamed: 0     Video ID                                            Comment  \\\n",
      "0           0  wAZZ-UWGVHI  Let's not forget that Apple Pay in 2014 requir...   \n",
      "1           1  wAZZ-UWGVHI  Here in NZ 50% of retailers don’t even have co...   \n",
      "2           2  wAZZ-UWGVHI  I will forever acknowledge this channel with t...   \n",
      "3           3  wAZZ-UWGVHI  Whenever I go to a place that doesn’t take App...   \n",
      "4           4  wAZZ-UWGVHI  Apple Pay is so convenient, secure, and easy t...   \n",
      "\n",
      "   Likes  Sentiment  \n",
      "0   95.0        1.0  \n",
      "1   19.0        0.0  \n",
      "2  161.0        2.0  \n",
      "3    8.0        0.0  \n",
      "4   34.0        2.0  \n",
      "\n",
      "Missing values:\n",
      "Unnamed: 0    0\n",
      "Video ID      0\n",
      "Comment       1\n",
      "Likes         0\n",
      "Sentiment     0\n",
      "dtype: int64\n",
      "\n",
      "==================================================\n",
      "\n"
     ]
    }
   ],
   "source": [
    "# Basic information about comments dataset\n",
    "print(\"=== COMMENTS DATASET ===\")\n",
    "print(\"\\nShape:\", comments_df.shape)\n",
    "print(\"\\nColumns:\", list(comments_df.columns))\n",
    "print(\"\\nData Types:\")\n",
    "print(comments_df.dtypes)\n",
    "print(\"\\nFirst few rows:\")\n",
    "print(comments_df.head())\n",
    "print(\"\\nMissing values:\")\n",
    "print(comments_df.isnull().sum())\n",
    "print(\"\\n\" + \"=\"*50 + \"\\n\")"
   ]
  },
  {
   "cell_type": "code",
   "execution_count": 17,
   "id": "531d5805",
   "metadata": {},
   "outputs": [
    {
     "name": "stdout",
     "output_type": "stream",
     "text": [
      "=== VIDEOS DATASET ===\n",
      "\n",
      "Shape: (1881, 8)\n",
      "\n",
      "Columns: ['Unnamed: 0', 'Title', 'Video ID', 'Published At', 'Keyword', 'Likes', 'Comments', 'Views']\n",
      "\n",
      "Data Types:\n",
      "Unnamed: 0        int64\n",
      "Title            object\n",
      "Video ID         object\n",
      "Published At     object\n",
      "Keyword          object\n",
      "Likes           float64\n",
      "Comments        float64\n",
      "Views           float64\n",
      "dtype: object\n",
      "\n",
      "First few rows:\n",
      "   Unnamed: 0                                              Title     Video ID  \\\n",
      "0           0  Apple Pay Is Killing the Physical Wallet After...  wAZZ-UWGVHI   \n",
      "1           1                    The most EXPENSIVE thing I own.  b3x28s61q3c   \n",
      "2           2                 My New House Gaming Setup is SICK!  4mgePWWCAmA   \n",
      "3           3  Petrol Vs Liquid Nitrogen | Freezing Experimen...  kXiYSI7H2b0   \n",
      "4           4                     Best Back to School Tech 2022!  ErMwWXQxHp0   \n",
      "\n",
      "  Published At Keyword    Likes  Comments      Views  \n",
      "0   2022-08-23    tech   3407.0     672.0   135612.0  \n",
      "1   2022-08-24    tech  76779.0    4306.0  1758063.0  \n",
      "2   2022-08-23    tech  63825.0    3338.0  1564007.0  \n",
      "3   2022-08-23    tech  71566.0    1426.0   922918.0  \n",
      "4   2022-08-08    tech  96513.0    5155.0  1855644.0  \n",
      "\n",
      "Missing values:\n",
      "Unnamed: 0      0\n",
      "Title           0\n",
      "Video ID        0\n",
      "Published At    0\n",
      "Keyword         0\n",
      "Likes           2\n",
      "Comments        2\n",
      "Views           2\n",
      "dtype: int64\n"
     ]
    }
   ],
   "source": [
    "# Basic information about videos dataset\n",
    "print(\"=== VIDEOS DATASET ===\")\n",
    "print(\"\\nShape:\", videos_df.shape)\n",
    "print(\"\\nColumns:\", list(videos_df.columns))\n",
    "print(\"\\nData Types:\")\n",
    "print(videos_df.dtypes)\n",
    "print(\"\\nFirst few rows:\")\n",
    "print(videos_df.head())\n",
    "print(\"\\nMissing values:\")\n",
    "print(videos_df.isnull().sum())"
   ]
  },
  {
   "cell_type": "code",
   "execution_count": 18,
   "id": "e7e910a6",
   "metadata": {},
   "outputs": [
    {
     "name": "stdout",
     "output_type": "stream",
     "text": [
      "\n",
      "Numerical Statistics for Videos Dataset:\n",
      "        Unnamed: 0         Likes       Comments         Views\n",
      "count  1881.000000  1.879000e+03    1879.000000  1.879000e+03\n",
      "mean    940.000000  1.700610e+05    7863.331559  1.161292e+07\n",
      "std     543.142247  7.962293e+05   37879.964926  1.084450e+08\n",
      "min       0.000000 -1.000000e+00      -1.000000  2.500000e+01\n",
      "25%     470.000000  2.672500e+03     199.000000  8.451500e+04\n",
      "50%     940.000000  1.478700e+04     814.000000  5.917210e+05\n",
      "75%    1410.000000  6.090600e+04    3377.500000  2.804978e+06\n",
      "max    1880.000000  1.644556e+07  732818.000000  4.034122e+09\n"
     ]
    }
   ],
   "source": [
    "# Basic statistics for numerical columns in videos dataset\n",
    "print(\"\\nNumerical Statistics for Videos Dataset:\")\n",
    "print(videos_df.describe())"
   ]
  },
  {
   "cell_type": "code",
   "execution_count": 102,
   "id": "605689bb",
   "metadata": {},
   "outputs": [],
   "source": [
    "def clean_youtube_data(videos_df, comments_df):\n",
    "    \"\"\"\n",
    "    Clean and prepare YouTube data for analysis.\n",
    "    \"\"\"\n",
    "    # Make copies to avoid modifying original data\n",
    "    clean_videos_df = videos_df.copy()\n",
    "    clean_comments_df = comments_df.copy()\n",
    "    \n",
    "    # Clean Videos DataFrame\n",
    "    # Handle missing values\n",
    "    clean_videos_df.dropna(subset=['Title', 'Video ID', 'Published At'], inplace=True)\n",
    "    \n",
    "    # Replace -1 values in numeric columns\n",
    "    numeric_cols = ['Views', 'Likes', 'Comments']\n",
    "    for col in numeric_cols:\n",
    "        clean_videos_df[col] = clean_videos_df[col].replace(-1, np.nan)\n",
    "        clean_videos_df[col] = clean_videos_df[col].fillna(clean_videos_df[col].median())\n",
    "    \n",
    "    # Convert to appropriate data types\n",
    "    clean_videos_df['Views'] = clean_videos_df['Views'].astype('float64')\n",
    "    clean_videos_df['Likes'] = clean_videos_df['Likes'].astype('float64')\n",
    "    clean_videos_df['Comments'] = clean_videos_df['Comments'].astype('float64')\n",
    "    \n",
    "    # Convert Published At to datetime\n",
    "    clean_videos_df['Published At'] = pd.to_datetime(clean_videos_df['Published At'])\n",
    "    \n",
    "    # Remove any videos with zero views (to avoid division by zero in engagement rate)\n",
    "    clean_videos_df = clean_videos_df[clean_videos_df['Views'] > 0]\n",
    "    \n",
    "    # Sort by publish date\n",
    "    clean_videos_df.sort_values('Published At', inplace=True)\n",
    "    \n",
    "    # Reset index\n",
    "    clean_videos_df.reset_index(drop=True, inplace=True)\n",
    "    \n",
    "    # Clean Comments DataFrame\n",
    "    # Handle missing values\n",
    "    clean_comments_df.dropna(subset=['Comment', 'Video ID'], inplace=True)\n",
    "    \n",
    "    # Clean sentiment scores\n",
    "    clean_comments_df['Sentiment'] = clean_comments_df['Sentiment'].fillna(1.0)\n",
    "    \n",
    "    # Convert likes to numeric, handling any errors\n",
    "    clean_comments_df['Likes'] = pd.to_numeric(clean_comments_df['Likes'], errors='coerce')\n",
    "    clean_comments_df['Likes'] = clean_comments_df['Likes'].fillna(0)\n",
    "    \n",
    "    # Reset index\n",
    "    clean_comments_df.reset_index(drop=True, inplace=True)\n",
    "    \n",
    "    # Print cleaning summary\n",
    "    print(\"=== Data Cleaning Summary ===\")\n",
    "    print(\"\\nVideos Dataset:\")\n",
    "    print(f\"Original rows: {len(videos_df)}\")\n",
    "    print(f\"Cleaned rows: {len(clean_videos_df)}\")\n",
    "    print(f\"Removed rows: {len(videos_df) - len(clean_videos_df)}\")\n",
    "    \n",
    "    print(\"\\nComments Dataset:\")\n",
    "    print(f\"Original rows: {len(comments_df)}\")\n",
    "    print(f\"Cleaned rows: {len(clean_comments_df)}\")\n",
    "    print(f\"Removed rows: {len(comments_df) - len(clean_comments_df)}\")\n",
    "    \n",
    "    # Print data quality summary\n",
    "    print(\"\\nVideos Dataset Quality Check:\")\n",
    "    print(\"Missing values:\")\n",
    "    print(clean_videos_df.isnull().sum())\n",
    "    print(\"\\nData types:\")\n",
    "    print(clean_videos_df.dtypes)\n",
    "    \n",
    "    print(\"\\nComments Dataset Quality Check:\")\n",
    "    print(\"Missing values:\")\n",
    "    print(clean_comments_df.isnull().sum())\n",
    "    print(\"\\nData types:\")\n",
    "    print(clean_comments_df.dtypes)\n",
    "    \n",
    "    return clean_videos_df, clean_comments_df"
   ]
  },
  {
   "cell_type": "code",
   "execution_count": 103,
   "id": "b7316869",
   "metadata": {},
   "outputs": [
    {
     "name": "stdout",
     "output_type": "stream",
     "text": [
      "=== Data Cleaning Summary ===\n",
      "\n",
      "Videos Dataset:\n",
      "Original rows: 1881\n",
      "Cleaned rows: 1881\n",
      "Removed rows: 0\n",
      "\n",
      "Comments Dataset:\n",
      "Original rows: 18409\n",
      "Cleaned rows: 18408\n",
      "Removed rows: 1\n",
      "\n",
      "Videos Dataset Quality Check:\n",
      "Missing values:\n",
      "Unnamed: 0      0\n",
      "Title           0\n",
      "Video ID        0\n",
      "Published At    0\n",
      "Keyword         0\n",
      "Likes           0\n",
      "Comments        0\n",
      "Views           0\n",
      "dtype: int64\n",
      "\n",
      "Data types:\n",
      "Unnamed: 0               int64\n",
      "Title                   object\n",
      "Video ID                object\n",
      "Published At    datetime64[ns]\n",
      "Keyword                 object\n",
      "Likes                  float64\n",
      "Comments               float64\n",
      "Views                  float64\n",
      "dtype: object\n",
      "\n",
      "Comments Dataset Quality Check:\n",
      "Missing values:\n",
      "Unnamed: 0    0\n",
      "Video ID      0\n",
      "Comment       0\n",
      "Likes         0\n",
      "Sentiment     0\n",
      "dtype: int64\n",
      "\n",
      "Data types:\n",
      "Unnamed: 0      int64\n",
      "Video ID       object\n",
      "Comment        object\n",
      "Likes         float64\n",
      "Sentiment     float64\n",
      "dtype: object\n"
     ]
    }
   ],
   "source": [
    "clean_videos_df, clean_comments_df = clean_youtube_data(videos_df, comments_df)"
   ]
  },
  {
   "cell_type": "markdown",
   "id": "e20c16e6",
   "metadata": {},
   "source": [
    "# Visualizations"
   ]
  },
  {
   "cell_type": "code",
   "execution_count": 25,
   "id": "306b4422",
   "metadata": {},
   "outputs": [],
   "source": [
    "import plotly.express as px\n",
    "import plotly.graph_objects as go\n",
    "import seaborn as sns\n",
    "import matplotlib.pyplot as plt\n",
    "from datetime import datetime\n",
    "import pandas as pd"
   ]
  },
  {
   "cell_type": "code",
   "execution_count": 26,
   "id": "8531fdd4",
   "metadata": {},
   "outputs": [
    {
     "name": "stderr",
     "output_type": "stream",
     "text": [
      "C:\\Users\\Nicko\\AppData\\Local\\Temp\\ipykernel_46308\\4078911919.py:1: MatplotlibDeprecationWarning: The seaborn styles shipped by Matplotlib are deprecated since 3.6, as they no longer correspond to the styles shipped by seaborn. However, they will remain available as 'seaborn-v0_8-<style>'. Alternatively, directly use the seaborn API instead.\n",
      "  plt.style.use('seaborn')\n"
     ]
    }
   ],
   "source": [
    "plt.style.use('seaborn')\n",
    "sns.set_palette(\"husl\")"
   ]
  },
  {
   "cell_type": "code",
   "execution_count": 35,
   "id": "1dc0a586",
   "metadata": {},
   "outputs": [
    {
     "data": {
      "application/vnd.plotly.v1+json": {
       "config": {
        "plotlyServerURL": "https://plot.ly"
       },
       "data": [
        {
         "domain": {
          "x": [
           0,
           1
          ],
          "y": [
           0,
           1
          ]
         },
         "hovertemplate": "label=%{label}<br>value=%{value}<extra></extra>",
         "labels": [
          "positive",
          "neutral",
          "negative"
         ],
         "legendgroup": "",
         "name": "",
         "showlegend": true,
         "type": "pie",
         "values": [
          11432,
          4638,
          2338
         ]
        }
       ],
       "layout": {
        "legend": {
         "tracegroupgap": 0
        },
        "template": {
         "data": {
          "bar": [
           {
            "error_x": {
             "color": "#2a3f5f"
            },
            "error_y": {
             "color": "#2a3f5f"
            },
            "marker": {
             "line": {
              "color": "#E5ECF6",
              "width": 0.5
             },
             "pattern": {
              "fillmode": "overlay",
              "size": 10,
              "solidity": 0.2
             }
            },
            "type": "bar"
           }
          ],
          "barpolar": [
           {
            "marker": {
             "line": {
              "color": "#E5ECF6",
              "width": 0.5
             },
             "pattern": {
              "fillmode": "overlay",
              "size": 10,
              "solidity": 0.2
             }
            },
            "type": "barpolar"
           }
          ],
          "carpet": [
           {
            "aaxis": {
             "endlinecolor": "#2a3f5f",
             "gridcolor": "white",
             "linecolor": "white",
             "minorgridcolor": "white",
             "startlinecolor": "#2a3f5f"
            },
            "baxis": {
             "endlinecolor": "#2a3f5f",
             "gridcolor": "white",
             "linecolor": "white",
             "minorgridcolor": "white",
             "startlinecolor": "#2a3f5f"
            },
            "type": "carpet"
           }
          ],
          "choropleth": [
           {
            "colorbar": {
             "outlinewidth": 0,
             "ticks": ""
            },
            "type": "choropleth"
           }
          ],
          "contour": [
           {
            "colorbar": {
             "outlinewidth": 0,
             "ticks": ""
            },
            "colorscale": [
             [
              0,
              "#0d0887"
             ],
             [
              0.1111111111111111,
              "#46039f"
             ],
             [
              0.2222222222222222,
              "#7201a8"
             ],
             [
              0.3333333333333333,
              "#9c179e"
             ],
             [
              0.4444444444444444,
              "#bd3786"
             ],
             [
              0.5555555555555556,
              "#d8576b"
             ],
             [
              0.6666666666666666,
              "#ed7953"
             ],
             [
              0.7777777777777778,
              "#fb9f3a"
             ],
             [
              0.8888888888888888,
              "#fdca26"
             ],
             [
              1,
              "#f0f921"
             ]
            ],
            "type": "contour"
           }
          ],
          "contourcarpet": [
           {
            "colorbar": {
             "outlinewidth": 0,
             "ticks": ""
            },
            "type": "contourcarpet"
           }
          ],
          "heatmap": [
           {
            "colorbar": {
             "outlinewidth": 0,
             "ticks": ""
            },
            "colorscale": [
             [
              0,
              "#0d0887"
             ],
             [
              0.1111111111111111,
              "#46039f"
             ],
             [
              0.2222222222222222,
              "#7201a8"
             ],
             [
              0.3333333333333333,
              "#9c179e"
             ],
             [
              0.4444444444444444,
              "#bd3786"
             ],
             [
              0.5555555555555556,
              "#d8576b"
             ],
             [
              0.6666666666666666,
              "#ed7953"
             ],
             [
              0.7777777777777778,
              "#fb9f3a"
             ],
             [
              0.8888888888888888,
              "#fdca26"
             ],
             [
              1,
              "#f0f921"
             ]
            ],
            "type": "heatmap"
           }
          ],
          "heatmapgl": [
           {
            "colorbar": {
             "outlinewidth": 0,
             "ticks": ""
            },
            "colorscale": [
             [
              0,
              "#0d0887"
             ],
             [
              0.1111111111111111,
              "#46039f"
             ],
             [
              0.2222222222222222,
              "#7201a8"
             ],
             [
              0.3333333333333333,
              "#9c179e"
             ],
             [
              0.4444444444444444,
              "#bd3786"
             ],
             [
              0.5555555555555556,
              "#d8576b"
             ],
             [
              0.6666666666666666,
              "#ed7953"
             ],
             [
              0.7777777777777778,
              "#fb9f3a"
             ],
             [
              0.8888888888888888,
              "#fdca26"
             ],
             [
              1,
              "#f0f921"
             ]
            ],
            "type": "heatmapgl"
           }
          ],
          "histogram": [
           {
            "marker": {
             "pattern": {
              "fillmode": "overlay",
              "size": 10,
              "solidity": 0.2
             }
            },
            "type": "histogram"
           }
          ],
          "histogram2d": [
           {
            "colorbar": {
             "outlinewidth": 0,
             "ticks": ""
            },
            "colorscale": [
             [
              0,
              "#0d0887"
             ],
             [
              0.1111111111111111,
              "#46039f"
             ],
             [
              0.2222222222222222,
              "#7201a8"
             ],
             [
              0.3333333333333333,
              "#9c179e"
             ],
             [
              0.4444444444444444,
              "#bd3786"
             ],
             [
              0.5555555555555556,
              "#d8576b"
             ],
             [
              0.6666666666666666,
              "#ed7953"
             ],
             [
              0.7777777777777778,
              "#fb9f3a"
             ],
             [
              0.8888888888888888,
              "#fdca26"
             ],
             [
              1,
              "#f0f921"
             ]
            ],
            "type": "histogram2d"
           }
          ],
          "histogram2dcontour": [
           {
            "colorbar": {
             "outlinewidth": 0,
             "ticks": ""
            },
            "colorscale": [
             [
              0,
              "#0d0887"
             ],
             [
              0.1111111111111111,
              "#46039f"
             ],
             [
              0.2222222222222222,
              "#7201a8"
             ],
             [
              0.3333333333333333,
              "#9c179e"
             ],
             [
              0.4444444444444444,
              "#bd3786"
             ],
             [
              0.5555555555555556,
              "#d8576b"
             ],
             [
              0.6666666666666666,
              "#ed7953"
             ],
             [
              0.7777777777777778,
              "#fb9f3a"
             ],
             [
              0.8888888888888888,
              "#fdca26"
             ],
             [
              1,
              "#f0f921"
             ]
            ],
            "type": "histogram2dcontour"
           }
          ],
          "mesh3d": [
           {
            "colorbar": {
             "outlinewidth": 0,
             "ticks": ""
            },
            "type": "mesh3d"
           }
          ],
          "parcoords": [
           {
            "line": {
             "colorbar": {
              "outlinewidth": 0,
              "ticks": ""
             }
            },
            "type": "parcoords"
           }
          ],
          "pie": [
           {
            "automargin": true,
            "type": "pie"
           }
          ],
          "scatter": [
           {
            "fillpattern": {
             "fillmode": "overlay",
             "size": 10,
             "solidity": 0.2
            },
            "type": "scatter"
           }
          ],
          "scatter3d": [
           {
            "line": {
             "colorbar": {
              "outlinewidth": 0,
              "ticks": ""
             }
            },
            "marker": {
             "colorbar": {
              "outlinewidth": 0,
              "ticks": ""
             }
            },
            "type": "scatter3d"
           }
          ],
          "scattercarpet": [
           {
            "marker": {
             "colorbar": {
              "outlinewidth": 0,
              "ticks": ""
             }
            },
            "type": "scattercarpet"
           }
          ],
          "scattergeo": [
           {
            "marker": {
             "colorbar": {
              "outlinewidth": 0,
              "ticks": ""
             }
            },
            "type": "scattergeo"
           }
          ],
          "scattergl": [
           {
            "marker": {
             "colorbar": {
              "outlinewidth": 0,
              "ticks": ""
             }
            },
            "type": "scattergl"
           }
          ],
          "scattermapbox": [
           {
            "marker": {
             "colorbar": {
              "outlinewidth": 0,
              "ticks": ""
             }
            },
            "type": "scattermapbox"
           }
          ],
          "scatterpolar": [
           {
            "marker": {
             "colorbar": {
              "outlinewidth": 0,
              "ticks": ""
             }
            },
            "type": "scatterpolar"
           }
          ],
          "scatterpolargl": [
           {
            "marker": {
             "colorbar": {
              "outlinewidth": 0,
              "ticks": ""
             }
            },
            "type": "scatterpolargl"
           }
          ],
          "scatterternary": [
           {
            "marker": {
             "colorbar": {
              "outlinewidth": 0,
              "ticks": ""
             }
            },
            "type": "scatterternary"
           }
          ],
          "surface": [
           {
            "colorbar": {
             "outlinewidth": 0,
             "ticks": ""
            },
            "colorscale": [
             [
              0,
              "#0d0887"
             ],
             [
              0.1111111111111111,
              "#46039f"
             ],
             [
              0.2222222222222222,
              "#7201a8"
             ],
             [
              0.3333333333333333,
              "#9c179e"
             ],
             [
              0.4444444444444444,
              "#bd3786"
             ],
             [
              0.5555555555555556,
              "#d8576b"
             ],
             [
              0.6666666666666666,
              "#ed7953"
             ],
             [
              0.7777777777777778,
              "#fb9f3a"
             ],
             [
              0.8888888888888888,
              "#fdca26"
             ],
             [
              1,
              "#f0f921"
             ]
            ],
            "type": "surface"
           }
          ],
          "table": [
           {
            "cells": {
             "fill": {
              "color": "#EBF0F8"
             },
             "line": {
              "color": "white"
             }
            },
            "header": {
             "fill": {
              "color": "#C8D4E3"
             },
             "line": {
              "color": "white"
             }
            },
            "type": "table"
           }
          ]
         },
         "layout": {
          "annotationdefaults": {
           "arrowcolor": "#2a3f5f",
           "arrowhead": 0,
           "arrowwidth": 1
          },
          "autotypenumbers": "strict",
          "coloraxis": {
           "colorbar": {
            "outlinewidth": 0,
            "ticks": ""
           }
          },
          "colorscale": {
           "diverging": [
            [
             0,
             "#8e0152"
            ],
            [
             0.1,
             "#c51b7d"
            ],
            [
             0.2,
             "#de77ae"
            ],
            [
             0.3,
             "#f1b6da"
            ],
            [
             0.4,
             "#fde0ef"
            ],
            [
             0.5,
             "#f7f7f7"
            ],
            [
             0.6,
             "#e6f5d0"
            ],
            [
             0.7,
             "#b8e186"
            ],
            [
             0.8,
             "#7fbc41"
            ],
            [
             0.9,
             "#4d9221"
            ],
            [
             1,
             "#276419"
            ]
           ],
           "sequential": [
            [
             0,
             "#0d0887"
            ],
            [
             0.1111111111111111,
             "#46039f"
            ],
            [
             0.2222222222222222,
             "#7201a8"
            ],
            [
             0.3333333333333333,
             "#9c179e"
            ],
            [
             0.4444444444444444,
             "#bd3786"
            ],
            [
             0.5555555555555556,
             "#d8576b"
            ],
            [
             0.6666666666666666,
             "#ed7953"
            ],
            [
             0.7777777777777778,
             "#fb9f3a"
            ],
            [
             0.8888888888888888,
             "#fdca26"
            ],
            [
             1,
             "#f0f921"
            ]
           ],
           "sequentialminus": [
            [
             0,
             "#0d0887"
            ],
            [
             0.1111111111111111,
             "#46039f"
            ],
            [
             0.2222222222222222,
             "#7201a8"
            ],
            [
             0.3333333333333333,
             "#9c179e"
            ],
            [
             0.4444444444444444,
             "#bd3786"
            ],
            [
             0.5555555555555556,
             "#d8576b"
            ],
            [
             0.6666666666666666,
             "#ed7953"
            ],
            [
             0.7777777777777778,
             "#fb9f3a"
            ],
            [
             0.8888888888888888,
             "#fdca26"
            ],
            [
             1,
             "#f0f921"
            ]
           ]
          },
          "colorway": [
           "#636efa",
           "#EF553B",
           "#00cc96",
           "#ab63fa",
           "#FFA15A",
           "#19d3f3",
           "#FF6692",
           "#B6E880",
           "#FF97FF",
           "#FECB52"
          ],
          "font": {
           "color": "#2a3f5f"
          },
          "geo": {
           "bgcolor": "white",
           "lakecolor": "white",
           "landcolor": "#E5ECF6",
           "showlakes": true,
           "showland": true,
           "subunitcolor": "white"
          },
          "hoverlabel": {
           "align": "left"
          },
          "hovermode": "closest",
          "mapbox": {
           "style": "light"
          },
          "paper_bgcolor": "white",
          "plot_bgcolor": "#E5ECF6",
          "polar": {
           "angularaxis": {
            "gridcolor": "white",
            "linecolor": "white",
            "ticks": ""
           },
           "bgcolor": "#E5ECF6",
           "radialaxis": {
            "gridcolor": "white",
            "linecolor": "white",
            "ticks": ""
           }
          },
          "scene": {
           "xaxis": {
            "backgroundcolor": "#E5ECF6",
            "gridcolor": "white",
            "gridwidth": 2,
            "linecolor": "white",
            "showbackground": true,
            "ticks": "",
            "zerolinecolor": "white"
           },
           "yaxis": {
            "backgroundcolor": "#E5ECF6",
            "gridcolor": "white",
            "gridwidth": 2,
            "linecolor": "white",
            "showbackground": true,
            "ticks": "",
            "zerolinecolor": "white"
           },
           "zaxis": {
            "backgroundcolor": "#E5ECF6",
            "gridcolor": "white",
            "gridwidth": 2,
            "linecolor": "white",
            "showbackground": true,
            "ticks": "",
            "zerolinecolor": "white"
           }
          },
          "shapedefaults": {
           "line": {
            "color": "#2a3f5f"
           }
          },
          "ternary": {
           "aaxis": {
            "gridcolor": "white",
            "linecolor": "white",
            "ticks": ""
           },
           "baxis": {
            "gridcolor": "white",
            "linecolor": "white",
            "ticks": ""
           },
           "bgcolor": "#E5ECF6",
           "caxis": {
            "gridcolor": "white",
            "linecolor": "white",
            "ticks": ""
           }
          },
          "title": {
           "x": 0.05
          },
          "xaxis": {
           "automargin": true,
           "gridcolor": "white",
           "linecolor": "white",
           "ticks": "",
           "title": {
            "standoff": 15
           },
           "zerolinecolor": "white",
           "zerolinewidth": 2
          },
          "yaxis": {
           "automargin": true,
           "gridcolor": "white",
           "linecolor": "white",
           "ticks": "",
           "title": {
            "standoff": 15
           },
           "zerolinecolor": "white",
           "zerolinewidth": 2
          }
         }
        },
        "title": {
         "text": "Distribution of Comment Sentiments"
        }
       }
      },
      "text/html": [
       "<div>                            <div id=\"47990a18-36c9-42c0-8834-e17d79cb1ff8\" class=\"plotly-graph-div\" style=\"height:525px; width:100%;\"></div>            <script type=\"text/javascript\">                require([\"plotly\"], function(Plotly) {                    window.PLOTLYENV=window.PLOTLYENV || {};                                    if (document.getElementById(\"47990a18-36c9-42c0-8834-e17d79cb1ff8\")) {                    Plotly.newPlot(                        \"47990a18-36c9-42c0-8834-e17d79cb1ff8\",                        [{\"domain\":{\"x\":[0.0,1.0],\"y\":[0.0,1.0]},\"hovertemplate\":\"label=%{label}<br>value=%{value}<extra></extra>\",\"labels\":[\"positive\",\"neutral\",\"negative\"],\"legendgroup\":\"\",\"name\":\"\",\"showlegend\":true,\"values\":[11432,4638,2338],\"type\":\"pie\"}],                        {\"template\":{\"data\":{\"histogram2dcontour\":[{\"type\":\"histogram2dcontour\",\"colorbar\":{\"outlinewidth\":0,\"ticks\":\"\"},\"colorscale\":[[0.0,\"#0d0887\"],[0.1111111111111111,\"#46039f\"],[0.2222222222222222,\"#7201a8\"],[0.3333333333333333,\"#9c179e\"],[0.4444444444444444,\"#bd3786\"],[0.5555555555555556,\"#d8576b\"],[0.6666666666666666,\"#ed7953\"],[0.7777777777777778,\"#fb9f3a\"],[0.8888888888888888,\"#fdca26\"],[1.0,\"#f0f921\"]]}],\"choropleth\":[{\"type\":\"choropleth\",\"colorbar\":{\"outlinewidth\":0,\"ticks\":\"\"}}],\"histogram2d\":[{\"type\":\"histogram2d\",\"colorbar\":{\"outlinewidth\":0,\"ticks\":\"\"},\"colorscale\":[[0.0,\"#0d0887\"],[0.1111111111111111,\"#46039f\"],[0.2222222222222222,\"#7201a8\"],[0.3333333333333333,\"#9c179e\"],[0.4444444444444444,\"#bd3786\"],[0.5555555555555556,\"#d8576b\"],[0.6666666666666666,\"#ed7953\"],[0.7777777777777778,\"#fb9f3a\"],[0.8888888888888888,\"#fdca26\"],[1.0,\"#f0f921\"]]}],\"heatmap\":[{\"type\":\"heatmap\",\"colorbar\":{\"outlinewidth\":0,\"ticks\":\"\"},\"colorscale\":[[0.0,\"#0d0887\"],[0.1111111111111111,\"#46039f\"],[0.2222222222222222,\"#7201a8\"],[0.3333333333333333,\"#9c179e\"],[0.4444444444444444,\"#bd3786\"],[0.5555555555555556,\"#d8576b\"],[0.6666666666666666,\"#ed7953\"],[0.7777777777777778,\"#fb9f3a\"],[0.8888888888888888,\"#fdca26\"],[1.0,\"#f0f921\"]]}],\"heatmapgl\":[{\"type\":\"heatmapgl\",\"colorbar\":{\"outlinewidth\":0,\"ticks\":\"\"},\"colorscale\":[[0.0,\"#0d0887\"],[0.1111111111111111,\"#46039f\"],[0.2222222222222222,\"#7201a8\"],[0.3333333333333333,\"#9c179e\"],[0.4444444444444444,\"#bd3786\"],[0.5555555555555556,\"#d8576b\"],[0.6666666666666666,\"#ed7953\"],[0.7777777777777778,\"#fb9f3a\"],[0.8888888888888888,\"#fdca26\"],[1.0,\"#f0f921\"]]}],\"contourcarpet\":[{\"type\":\"contourcarpet\",\"colorbar\":{\"outlinewidth\":0,\"ticks\":\"\"}}],\"contour\":[{\"type\":\"contour\",\"colorbar\":{\"outlinewidth\":0,\"ticks\":\"\"},\"colorscale\":[[0.0,\"#0d0887\"],[0.1111111111111111,\"#46039f\"],[0.2222222222222222,\"#7201a8\"],[0.3333333333333333,\"#9c179e\"],[0.4444444444444444,\"#bd3786\"],[0.5555555555555556,\"#d8576b\"],[0.6666666666666666,\"#ed7953\"],[0.7777777777777778,\"#fb9f3a\"],[0.8888888888888888,\"#fdca26\"],[1.0,\"#f0f921\"]]}],\"surface\":[{\"type\":\"surface\",\"colorbar\":{\"outlinewidth\":0,\"ticks\":\"\"},\"colorscale\":[[0.0,\"#0d0887\"],[0.1111111111111111,\"#46039f\"],[0.2222222222222222,\"#7201a8\"],[0.3333333333333333,\"#9c179e\"],[0.4444444444444444,\"#bd3786\"],[0.5555555555555556,\"#d8576b\"],[0.6666666666666666,\"#ed7953\"],[0.7777777777777778,\"#fb9f3a\"],[0.8888888888888888,\"#fdca26\"],[1.0,\"#f0f921\"]]}],\"mesh3d\":[{\"type\":\"mesh3d\",\"colorbar\":{\"outlinewidth\":0,\"ticks\":\"\"}}],\"scatter\":[{\"fillpattern\":{\"fillmode\":\"overlay\",\"size\":10,\"solidity\":0.2},\"type\":\"scatter\"}],\"parcoords\":[{\"type\":\"parcoords\",\"line\":{\"colorbar\":{\"outlinewidth\":0,\"ticks\":\"\"}}}],\"scatterpolargl\":[{\"type\":\"scatterpolargl\",\"marker\":{\"colorbar\":{\"outlinewidth\":0,\"ticks\":\"\"}}}],\"bar\":[{\"error_x\":{\"color\":\"#2a3f5f\"},\"error_y\":{\"color\":\"#2a3f5f\"},\"marker\":{\"line\":{\"color\":\"#E5ECF6\",\"width\":0.5},\"pattern\":{\"fillmode\":\"overlay\",\"size\":10,\"solidity\":0.2}},\"type\":\"bar\"}],\"scattergeo\":[{\"type\":\"scattergeo\",\"marker\":{\"colorbar\":{\"outlinewidth\":0,\"ticks\":\"\"}}}],\"scatterpolar\":[{\"type\":\"scatterpolar\",\"marker\":{\"colorbar\":{\"outlinewidth\":0,\"ticks\":\"\"}}}],\"histogram\":[{\"marker\":{\"pattern\":{\"fillmode\":\"overlay\",\"size\":10,\"solidity\":0.2}},\"type\":\"histogram\"}],\"scattergl\":[{\"type\":\"scattergl\",\"marker\":{\"colorbar\":{\"outlinewidth\":0,\"ticks\":\"\"}}}],\"scatter3d\":[{\"type\":\"scatter3d\",\"line\":{\"colorbar\":{\"outlinewidth\":0,\"ticks\":\"\"}},\"marker\":{\"colorbar\":{\"outlinewidth\":0,\"ticks\":\"\"}}}],\"scattermapbox\":[{\"type\":\"scattermapbox\",\"marker\":{\"colorbar\":{\"outlinewidth\":0,\"ticks\":\"\"}}}],\"scatterternary\":[{\"type\":\"scatterternary\",\"marker\":{\"colorbar\":{\"outlinewidth\":0,\"ticks\":\"\"}}}],\"scattercarpet\":[{\"type\":\"scattercarpet\",\"marker\":{\"colorbar\":{\"outlinewidth\":0,\"ticks\":\"\"}}}],\"carpet\":[{\"aaxis\":{\"endlinecolor\":\"#2a3f5f\",\"gridcolor\":\"white\",\"linecolor\":\"white\",\"minorgridcolor\":\"white\",\"startlinecolor\":\"#2a3f5f\"},\"baxis\":{\"endlinecolor\":\"#2a3f5f\",\"gridcolor\":\"white\",\"linecolor\":\"white\",\"minorgridcolor\":\"white\",\"startlinecolor\":\"#2a3f5f\"},\"type\":\"carpet\"}],\"table\":[{\"cells\":{\"fill\":{\"color\":\"#EBF0F8\"},\"line\":{\"color\":\"white\"}},\"header\":{\"fill\":{\"color\":\"#C8D4E3\"},\"line\":{\"color\":\"white\"}},\"type\":\"table\"}],\"barpolar\":[{\"marker\":{\"line\":{\"color\":\"#E5ECF6\",\"width\":0.5},\"pattern\":{\"fillmode\":\"overlay\",\"size\":10,\"solidity\":0.2}},\"type\":\"barpolar\"}],\"pie\":[{\"automargin\":true,\"type\":\"pie\"}]},\"layout\":{\"autotypenumbers\":\"strict\",\"colorway\":[\"#636efa\",\"#EF553B\",\"#00cc96\",\"#ab63fa\",\"#FFA15A\",\"#19d3f3\",\"#FF6692\",\"#B6E880\",\"#FF97FF\",\"#FECB52\"],\"font\":{\"color\":\"#2a3f5f\"},\"hovermode\":\"closest\",\"hoverlabel\":{\"align\":\"left\"},\"paper_bgcolor\":\"white\",\"plot_bgcolor\":\"#E5ECF6\",\"polar\":{\"bgcolor\":\"#E5ECF6\",\"angularaxis\":{\"gridcolor\":\"white\",\"linecolor\":\"white\",\"ticks\":\"\"},\"radialaxis\":{\"gridcolor\":\"white\",\"linecolor\":\"white\",\"ticks\":\"\"}},\"ternary\":{\"bgcolor\":\"#E5ECF6\",\"aaxis\":{\"gridcolor\":\"white\",\"linecolor\":\"white\",\"ticks\":\"\"},\"baxis\":{\"gridcolor\":\"white\",\"linecolor\":\"white\",\"ticks\":\"\"},\"caxis\":{\"gridcolor\":\"white\",\"linecolor\":\"white\",\"ticks\":\"\"}},\"coloraxis\":{\"colorbar\":{\"outlinewidth\":0,\"ticks\":\"\"}},\"colorscale\":{\"sequential\":[[0.0,\"#0d0887\"],[0.1111111111111111,\"#46039f\"],[0.2222222222222222,\"#7201a8\"],[0.3333333333333333,\"#9c179e\"],[0.4444444444444444,\"#bd3786\"],[0.5555555555555556,\"#d8576b\"],[0.6666666666666666,\"#ed7953\"],[0.7777777777777778,\"#fb9f3a\"],[0.8888888888888888,\"#fdca26\"],[1.0,\"#f0f921\"]],\"sequentialminus\":[[0.0,\"#0d0887\"],[0.1111111111111111,\"#46039f\"],[0.2222222222222222,\"#7201a8\"],[0.3333333333333333,\"#9c179e\"],[0.4444444444444444,\"#bd3786\"],[0.5555555555555556,\"#d8576b\"],[0.6666666666666666,\"#ed7953\"],[0.7777777777777778,\"#fb9f3a\"],[0.8888888888888888,\"#fdca26\"],[1.0,\"#f0f921\"]],\"diverging\":[[0,\"#8e0152\"],[0.1,\"#c51b7d\"],[0.2,\"#de77ae\"],[0.3,\"#f1b6da\"],[0.4,\"#fde0ef\"],[0.5,\"#f7f7f7\"],[0.6,\"#e6f5d0\"],[0.7,\"#b8e186\"],[0.8,\"#7fbc41\"],[0.9,\"#4d9221\"],[1,\"#276419\"]]},\"xaxis\":{\"gridcolor\":\"white\",\"linecolor\":\"white\",\"ticks\":\"\",\"title\":{\"standoff\":15},\"zerolinecolor\":\"white\",\"automargin\":true,\"zerolinewidth\":2},\"yaxis\":{\"gridcolor\":\"white\",\"linecolor\":\"white\",\"ticks\":\"\",\"title\":{\"standoff\":15},\"zerolinecolor\":\"white\",\"automargin\":true,\"zerolinewidth\":2},\"scene\":{\"xaxis\":{\"backgroundcolor\":\"#E5ECF6\",\"gridcolor\":\"white\",\"linecolor\":\"white\",\"showbackground\":true,\"ticks\":\"\",\"zerolinecolor\":\"white\",\"gridwidth\":2},\"yaxis\":{\"backgroundcolor\":\"#E5ECF6\",\"gridcolor\":\"white\",\"linecolor\":\"white\",\"showbackground\":true,\"ticks\":\"\",\"zerolinecolor\":\"white\",\"gridwidth\":2},\"zaxis\":{\"backgroundcolor\":\"#E5ECF6\",\"gridcolor\":\"white\",\"linecolor\":\"white\",\"showbackground\":true,\"ticks\":\"\",\"zerolinecolor\":\"white\",\"gridwidth\":2}},\"shapedefaults\":{\"line\":{\"color\":\"#2a3f5f\"}},\"annotationdefaults\":{\"arrowcolor\":\"#2a3f5f\",\"arrowhead\":0,\"arrowwidth\":1},\"geo\":{\"bgcolor\":\"white\",\"landcolor\":\"#E5ECF6\",\"subunitcolor\":\"white\",\"showland\":true,\"showlakes\":true,\"lakecolor\":\"white\"},\"title\":{\"x\":0.05},\"mapbox\":{\"style\":\"light\"}}},\"legend\":{\"tracegroupgap\":0},\"title\":{\"text\":\"Distribution of Comment Sentiments\"}},                        {\"responsive\": true}                    ).then(function(){\n",
       "                            \n",
       "var gd = document.getElementById('47990a18-36c9-42c0-8834-e17d79cb1ff8');\n",
       "var x = new MutationObserver(function (mutations, observer) {{\n",
       "        var display = window.getComputedStyle(gd).display;\n",
       "        if (!display || display === 'none') {{\n",
       "            console.log([gd, 'removed!']);\n",
       "            Plotly.purge(gd);\n",
       "            observer.disconnect();\n",
       "        }}\n",
       "}});\n",
       "\n",
       "// Listen for the removal of the full notebook cells\n",
       "var notebookContainer = gd.closest('#notebook-container');\n",
       "if (notebookContainer) {{\n",
       "    x.observe(notebookContainer, {childList: true});\n",
       "}}\n",
       "\n",
       "// Listen for the clearing of the current output cell\n",
       "var outputEl = gd.closest('.output');\n",
       "if (outputEl) {{\n",
       "    x.observe(outputEl, {childList: true});\n",
       "}}\n",
       "\n",
       "                        })                };                });            </script>        </div>"
      ]
     },
     "metadata": {},
     "output_type": "display_data"
    }
   ],
   "source": [
    "# 1. Sentiment Distribution Pie Chart\n",
    "sentiment_counts = comments_clean['Sentiment_Label'].value_counts()\n",
    "fig = px.pie(values=sentiment_counts.values, \n",
    "             names=sentiment_counts.index,\n",
    "             title='Distribution of Comment Sentiments')\n",
    "fig.show()"
   ]
  },
  {
   "cell_type": "code",
   "execution_count": 36,
   "id": "1c6f76c5",
   "metadata": {},
   "outputs": [
    {
     "data": {
      "application/vnd.plotly.v1+json": {
       "config": {
        "plotlyServerURL": "https://plot.ly"
       },
       "data": [
        {
         "customdata": [
          [
           "J. Holiday - Bed (Official Music Video)"
          ],
          [
           "J Holiday - Bed"
          ],
          [
           "Pink Floyd - We Don&#39;t Need No Education Lyrics in Description!"
          ],
          [
           "Biology: Digestive System Video"
          ],
          [
           "Ice Cube - It Was A Good Day"
          ],
          [
           "Bon Jovi - Bed Of Roses (Official Music Video)"
          ],
          [
           "Girls Aloud - Biology"
          ],
          [
           "The Animals - House of the Rising Sun (1964) HQ/Widescreen ♫ 58 YEARS AGO"
          ],
          [
           "Lec 1 | MIT 6.00 Introduction to Computer Science and Programming, Fall 2008"
          ],
          [
           "Yung Berg - The Business ft. Casha"
          ],
          [
           "Young Money - Bed Rock (Official Music Video)"
          ],
          [
           "Amy Winehouse - In My Bed"
          ],
          [
           "Neon Trees - Animal"
          ],
          [
           "The Literature Review"
          ],
          [
           "Nickelback-Animals"
          ],
          [
           "Writing the Literature Review (Part One): Step-by-Step Tutorial for Graduate Students"
          ],
          [
           "Dru Hill - In My Bed (Official Music Video)"
          ],
          [
           "RSA ANIMATE: Changing Education Paradigms"
          ],
          [
           "1. Introduction to Human Behavioral Biology"
          ],
          [
           "Rihanna - California King Bed"
          ],
          [
           "Chris Brown - Wet the Bed (Audio) ft. Ludacris"
          ],
          [
           "SAT Math: The Ultimate Guessing Trick"
          ],
          [
           "Carbon... SO SIMPLE: Crash Course Biology #1"
          ],
          [
           "Water - Liquid Awesome: Crash Course Biology #2"
          ],
          [
           "Biological Molecules - You Are What You Eat: Crash Course Biology #3"
          ],
          [
           "Eukaryopolis - The City of Animal Cells: Crash Course Biology #4"
          ],
          [
           "ATP &amp; Respiration: Crash Course Biology #7"
          ],
          [
           "Photosynthesis: Crash Course Biology #8"
          ],
          [
           "DNA Structure and Replication: Crash Course Biology #10"
          ],
          [
           "Taxonomy: Life&#39;s Filing System - Crash Course Biology #19"
          ],
          [
           "Michio Kaku: The Universe in a Nutshell (Full Presentation) | Big Think"
          ],
          [
           "How Trees Bend the Laws of Physics"
          ],
          [
           "How and Why We Read: Crash Course English Literature #1"
          ],
          [
           "William Ackman: Everything You Need to Know About Finance and Investing in Under an Hour | Big Think"
          ],
          [
           "The first 20 hours -- how to learn anything | Josh Kaufman | TEDxCSU"
          ],
          [
           "Mathematics and Chemistry : MathChemistry.com : Masters Degree in Math"
          ],
          [
           "Mathematics and Chemistry : MathChemistry.com : Masters Degree in Math"
          ],
          [
           "How to escape education&#39;s death valley | Sir Ken Robinson"
          ],
          [
           "Mining literature for deeper meanings - Amy E. Harter"
          ],
          [
           "Martin Garrix - Animals (Official Video)"
          ],
          [
           "A Long and Difficult Journey, or  The Odyssey: Crash Course Literature 201"
          ],
          [
           "Banjaran Hindi Full Movie - Rishi Kapoor - Sridevi - Kulbhushan Kharbanda - 90&#39;s Hit Movie"
          ],
          [
           "Kumail Nanjiani Plays &quot;Tweet Or Literature&quot; | CONAN on TBS"
          ],
          [
           "Shakespeare vs Milton: The Kings of English Literature Debate"
          ],
          [
           "Force 2016 Full Movie | John Abraham | Vidyut Jamwal | Genelia D&#39;souza | Commando 2 full Movie Force"
          ],
          [
           "5 Fun Physics Phenomena"
          ],
          [
           "Maroon 5 - Animals (Lyric Video)"
          ],
          [
           "What is Literature for?"
          ],
          [
           "Maroon 5 - Animals (Official Music Video)"
          ],
          [
           "Computer science is for everyone | Hadi Partovi | TEDxRainier"
          ],
          [
           "1. Introduction, Financial Terms and Concepts"
          ],
          [
           "How School Makes Kids Less Intelligent | Eddy Zhong | TEDxYouth@BeaconStreet"
          ],
          [
           "Biology: Cell Structure I Nucleus Medical Media"
          ],
          [
           "Daryl Hall &amp; John Oates - Adult Education (Official Video)"
          ],
          [
           "What&#39;s Education For?"
          ],
          [
           "Adults Take The SAT (Again)"
          ],
          [
           "MarI/O - Machine Learning for Video Games"
          ],
          [
           "Computer science education: why does it suck so much and what if it didn’t? | Ashley Gavin | TEDxNYU"
          ],
          [
           "Balancing Chemical Equations Practice Problems"
          ],
          [
           "Quantum Biology: The Hidden Nature of Nature"
          ],
          [
           "LITERATURE - Virginia Woolf"
          ],
          [
           "LITERATURE - Jane Austen"
          ],
          [
           "Money and Finance: Crash Course Economics #11"
          ],
          [
           "11 Of The Most Beautiful Sentences In Literature (Read by LeVar Burton)"
          ],
          [
           "SCIENCE WARS - Acapella Parody | SCIENCE SONGS"
          ],
          [
           "How to Interview for a Job in American English, part 1/5"
          ],
          [
           "LITERATURE - Goethe"
          ],
          [
           "What is Physics?"
          ],
          [
           "One Direction - History (Official Video)"
          ],
          [
           "01 - Introduction To Chemistry - Online Chemistry Course - Learn Chemistry &amp; Solve Problems"
          ],
          [
           "LITERATURE: Leo Tolstoy"
          ],
          [
           "Biomolecules (Updated)"
          ],
          [
           "When a physics teacher knows his stuff !!"
          ],
          [
           "How To Master 5 Basic Cooking Skills | Gordon Ramsay"
          ],
          [
           "An introduction to the discipline of Literature"
          ],
          [
           "LITERATURE: Franz Kafka"
          ],
          [
           "Fun Google Secrets"
          ],
          [
           "Rajini Murugan Tamil Full Movie - Sivakarthikeyan | Keerthy Suresh | D.Imman | UIE Movies"
          ],
          [
           "LITERATURE - Voltaire"
          ],
          [
           "Quantum Physics for 7 Year Olds | Dominic Walliman | TEDxEastVan"
          ],
          [
           "LITERATURE - Fyodor Dostoyevsky"
          ],
          [
           "Koreans Take SAT Math Section"
          ],
          [
           "SAT Math Test Prep Online Crash Course Algebra &amp; Geometry Study Guide Review, Functions,Youtube"
          ],
          [
           "LITERATURE - Charles Dickens"
          ],
          [
           "What Is Computer Science?"
          ],
          [
           "LITERATURE - James Joyce"
          ],
          [
           "Algebra Introduction - Basic Overview - Online Crash Course Review Video Tutorial Lessons"
          ],
          [
           "Static &amp; Kinetic Friction, Tension, Normal Force, Inclined Plane &amp; Pulley System Problems - Physics"
          ],
          [
           "Intro to Chemistry, Basic Concepts - Periodic Table, Elements, Metric System &amp; Unit Conversion"
          ],
          [
           "Thermodynamics: Crash Course Physics #23"
          ],
          [
           "Electric Charge: Crash Course Physics #25"
          ],
          [
           "BEST Magic Show in the world - Genius Rubik&#39;s Cube Magician America&#39;s Got Talent"
          ],
          [
           "How to Raise Successful Kids -- Without Over-Parenting | Julie Lythcott-Haims | TED"
          ],
          [
           "PIKOTARO - PPAP (Pen Pineapple Apple Pen) (Long Version) [Official Video]"
          ],
          [
           "A Day in the Life of a Literature PhD"
          ],
          [
           "Introduction to Corporate Finance - FREE Course"
          ],
          [
           "LITERATURE - George Orwell"
          ],
          [
           "The Map of Physics"
          ],
          [
           "Tell Me About Yourself - A Good Answer to This Interview Question"
          ],
          [
           "Physics Review - Basic Introduction"
          ],
          [
           "Newton&#39;s Law of Motion - First, Second &amp; Third - Physics"
          ],
          [
           "What is Machine Learning?"
          ],
          [
           "Biology 1010 Lecture 1 Intro to Biology"
          ],
          [
           "The Map of Mathematics"
          ],
          [
           "How to Moonwalk (Dance Moves Tutorial) | Mihran Kirakosian"
          ],
          [
           "How to gain control of your free time | Laura Vanderkam"
          ],
          [
           "Jacquees - B.E.D. (Audio)"
          ],
          [
           "Jacquees - B.E.D. (Lyrics) [HD/HQ]"
          ],
          [
           "New interview of Emma Watson with People/EW Network!"
          ],
          [
           "Early Computing: Crash Course Computer Science #1"
          ],
          [
           "What is Computer Science?"
          ],
          [
           "Electronic Computing: Crash Course Computer Science #2"
          ],
          [
           "Boolean Logic &amp; Logic Gates: Crash Course Computer Science #3"
          ],
          [
           "Nintendo Switch: Unboxing &amp; Review"
          ],
          [
           "Representing Numbers and Letters with Binary: Crash Course Computer Science #4"
          ],
          [
           "How to Write a Literature Review in 30 Minutes or Less"
          ],
          [
           "Registers and RAM: Crash Course Computer Science #6"
          ],
          [
           "Jacquees - B.E.D."
          ],
          [
           "history of the entire world, i guess"
          ],
          [
           "11. Introduction to Machine Learning"
          ],
          [
           "Intro to Algorithms: Crash Course Computer Science #13"
          ],
          [
           "Biologist Explains One Concept in 5 Levels of Difficulty - CRISPR | WIRED"
          ],
          [
           "Gordon Ramsay&#39;s perfect burger tutorial | GMA"
          ],
          [
           "Food Emoji Food Challenge"
          ],
          [
           "Literary Genres and Subgenres (Fiction, Nonfiction, Drama, and Poetry) - Video and Worksheet"
          ],
          [
           "Become a Master of Finance with Harvard Professor Mihir Desai (with Lewis Howes)"
          ],
          [
           "Jacquees - B.E.D. (Remix) ft. Ty Dolla $ign, Quavo"
          ],
          [
           "Computer Science Careers and Subfields"
          ],
          [
           "What is Machine Learning?"
          ],
          [
           "DON&#39;T GOOGLE THIS STUFF"
          ],
          [
           "The 7 steps of machine learning"
          ],
          [
           "Map of Computer Science"
          ],
          [
           "Philosophy and Literature with Iris Murdoch and Bryan Magee (1977)"
          ],
          [
           "Evo-Devo (Despacito Biology Parody) | A Capella Science"
          ],
          [
           "But what is a neural network? | Chapter 1, Deep learning"
          ],
          [
           "Todos podemos aprender Machine learning"
          ],
          [
           "Gradient descent, how neural networks learn | Chapter 2, Deep learning"
          ],
          [
           "www.google.com"
          ],
          [
           "Chris Brown - To My Bed (Audio)"
          ],
          [
           "Machine Learning &amp; Artificial Intelligence: Crash Course Computer Science #34"
          ],
          [
           "What is Biology?"
          ],
          [
           "All Sports Golf Battle 2 | Dude Perfect"
          ],
          [
           "Let&#39;s Talk About Education | Jayne Ellspermann | TEDxOcala"
          ],
          [
           "Map of Biology"
          ],
          [
           "How Machines Learn"
          ],
          [
           "Chappelle&#39;s Show - Wu-Tang Financial (ft. RZA and GZA) - Uncensored"
          ],
          [
           "Beach Bunny - Sports (Official Audio)"
          ],
          [
           "How to Kill Pennywise | NowThis Nerd"
          ],
          [
           "Education In Society: Crash Course Sociology #40"
          ],
          [
           "[SAT Writing] 8 MUST KNOW Grammar Concepts for a Perfect Score"
          ],
          [
           "28 STRANGE Sights on Google Earth"
          ],
          [
           "7 AMAZING Physics Tricks That You Must See"
          ],
          [
           "AVENGERS Disney Infinity 2.0 Marvel Super Heroes - Superhero Game Videos PC"
          ],
          [
           "Sony a7R III Training Tutorial"
          ],
          [
           "Machine Learning Tutorial | Machine Learning Basics | Machine Learning Algorithms | Simplilearn"
          ],
          [
           "🖥️ HOW TO GET STARTED WITH MACHINE LEARNING!"
          ],
          [
           "What is Machine Learning?"
          ],
          [
           "HOW2: How To Do 100 Things! [Saturday Supercut]"
          ],
          [
           "Last Minute SAT® Tips: What to Study the Night Before the Exam"
          ],
          [
           "The Mind Bending Story Of Quantum Physics (Part 1/2) | Spark"
          ],
          [
           "Machine Learning Algorithms | Machine Learning Tutorial | Data Science Algorithms | Simplilearn"
          ],
          [
           "How to write a literature review"
          ],
          [
           "El Chombo - Dame Tu Cosita feat. Cutty Ranks (Official Video) [Ultra Music]"
          ],
          [
           "The Math Needed for Computer Science"
          ],
          [
           "《HIStory1-着魔》EP1 遭到江劲腾背叛，邵逸辰重生回到学生时代 | Caravan中文剧场"
          ],
          [
           "30 Easy DIY Projects For Beginners That Increase Your Home Value"
          ],
          [
           "TOP 7 Interview Questions and Answers (PASS GUARANTEED!)"
          ],
          [
           "How To BRAINWASH Yourself For Success &amp; Destroy NEGATIVE THOUGHTS! | Dr. Joe Dispenza"
          ],
          [
           "Nicki Minaj - Bed ft. Ariana Grande (Lyrics)"
          ],
          [
           "Chris Brown - To My Bed (Official Video)"
          ],
          [
           "Machine Learning Interview Questions and Answers | Machine Learning Interview Preparation | Edureka"
          ],
          [
           "What REALLY is Data Science? Told by a Data Scientist"
          ],
          [
           "3 Types of Data Science Interview Questions"
          ],
          [
           "Nicki Minaj - Bed ft. Ariana Grande"
          ],
          [
           "www.google.com search"
          ],
          [
           "Learn Python - Full Course for Beginners [Tutorial]"
          ],
          [
           "3 years of Computer Science in 8 minutes"
          ],
          [
           "Conquering Math as a Computer Science Student"
          ],
          [
           "Viagra Boys - Sports (Official Video)"
          ],
          [
           "Significant Figures - A Fast Review!"
          ],
          [
           "C++ Tutorial for Beginners - Full Course"
          ],
          [
           "01 - Introduction to Physics, Part 1 (Force, Motion &amp; Energy) - Online Physics Course"
          ],
          [
           "An adjunct explains why literature matters | Danielle Carlotti-Smith | TEDxUniversityofTulsa"
          ],
          [
           "Understand Calculus in 35 Minutes"
          ],
          [
           "business 101 everything you need to know about business and startup basics"
          ],
          [
           "Machine Learning Fundamentals: Bias and Variance"
          ],
          [
           "Learn How to Solve a Rubik&#39;s Cube in 10 Minutes (Beginner Tutorial)"
          ],
          [
           "Machine Learning Basics | What Is Machine Learning? | Introduction To Machine Learning | Simplilearn"
          ],
          [
           "Jacquees - B.E.D. (Remix)"
          ],
          [
           "Biology - Intro to Cell Structure - Quick Review!"
          ],
          [
           "Full Interview: Lady Gaga Talks To Stephen Colbert"
          ],
          [
           "The Future of Education - Yuval Noah Harari &amp; Russell Brand - Penguin Talks"
          ],
          [
           "Rich Brian - History (Official Video)"
          ],
          [
           "How to Deal with Difficult People | Jay Johnson | TEDxLivoniaCCLibrary"
          ],
          [
           "Basic Principles of Game Design"
          ],
          [
           "How the SAT is Scored"
          ],
          [
           "Computer Science Terminology"
          ],
          [
           "All Xbox, Nintendo and PlayStation Startups (Unused Brand ID)"
          ],
          [
           "Scrambled"
          ],
          [
           "The Mathematics of Machine Learning"
          ],
          [
           "Data Science In 5 Minutes | Data Science For Beginners | What Is Data Science? | Simplilearn"
          ],
          [
           "Elon Musk on Millennials and How To Start A Business"
          ],
          [
           "Machine Learning Tutorial Python - 10  Support Vector Machine (SVM)"
          ],
          [
           "How I got a 1500+ on the SAT: DOs/DONTs, Advice, Best Books, How to Study, What You Need to Know"
          ],
          [
           "Deep Learning Basics: Introduction and Overview"
          ],
          [
           "Rishtey (2002) (HD) Hindi Full Movie - Anil Kapoor | Karisma Kapoor | Shilpa Shetty"
          ],
          [
           "27 EASY MAGIC TRICKS"
          ],
          [
           "Ten Minute History - The Viking Age (Short Documentary)"
          ],
          [
           "I Went Back To 1st Grade For A Day"
          ],
          [
           "5 Dangerous Things to Avoid Saying In a Job Interview"
          ],
          [
           "Giant Monopoly Game With Real Money"
          ],
          [
           "Python Tutorial - Python Full Course for Beginners"
          ],
          [
           "Intro to Data Science - Crash Course for Beginners"
          ],
          [
           "Surviving 24 Hours Straight In A Desert"
          ],
          [
           "Data Science Full Course | Learn Data Science in 3 Hours | Data Science for Beginners | Edureka"
          ],
          [
           "MySQL Tutorial for Beginners [Full Course]"
          ],
          [
           "The Importance Of Education - What&#39;s The Real Purpose Of Education?"
          ],
          [
           "How to Get Your Brain to Focus | Chris Bailey | TEDxManchester"
          ],
          [
           "Stroll Through the Playlist (a Biology Review)"
          ],
          [
           "All Sports Baseball Battle | Dude Perfect"
          ],
          [
           "The Evolution of XBOX Startup Screens (2001-2019)"
          ],
          [
           "Machine Learning Zero to Hero (Google I/O&#39;19)"
          ],
          [
           "World&#39;s Largest Bowl Of Cereal"
          ],
          [
           "Former FBI Agent Explains How to Read Body Language | Tradecraft | WIRED"
          ],
          [
           "How to Solve a 3x3 Rubik&#39;s Cube In No Time | The Easiest Tutorial"
          ],
          [
           "24 Hours In The Most Haunted Place On Earth"
          ],
          [
           "PSYQUI - Education"
          ],
          [
           "Learn Data Science Tutorial - Full Course for Beginners"
          ],
          [
           "Paying People $10,000 To Eat Ghost Pepper"
          ],
          [
           "Deep Learning In 5 Minutes | What Is Deep Learning? | Deep Learning Explained Simply | Simplilearn"
          ],
          [
           "Web of Complex Biology | Science Documentary | Bill Nye"
          ],
          [
           "Last To Leave VR Wins $20,000"
          ],
          [
           "Top 30 Interview Questions - From a recruiters hiring playbook"
          ],
          [
           "SAT® Test Timer: Mock Proctor With Breaks and Clock!"
          ],
          [
           "I Opened The World&#39;s First FREE Store"
          ],
          [
           "Machine Learning: Living in the Age of AI | A WIRED Film"
          ],
          [
           "FULL FACE OF FLAWLESS In-Depth Makeup Tutorial | NikkieTutorials"
          ],
          [
           "My Regrets as a Computer Science Student"
          ],
          [
           "The problem with America&#39;s college entrance exam"
          ],
          [
           "Java Tutorial for Beginners"
          ],
          [
           "Kids Try Prison Food from Around the World | Kids Try | HiHo Kids"
          ],
          [
           "SPEAKING DUTCH ONLY Makeup Tutorial! | NikkieTutorials"
          ],
          [
           "how i got 1500+ on the SAT 📚 study tips!"
          ],
          [
           "Maroon 5 - Animals (Lyrics)"
          ],
          [
           "Demystifying Data Science | Mr.Asitang Mishra | TEDxOakLawn"
          ],
          [
           "How To Be Effortlessly Confident"
          ],
          [
           "Euphoria’s Alexa Demie Shares Her ’90s Glam Tutorial | Beauty Secrets | Vogue"
          ],
          [
           "SAT Prep Guide: 10 Harvard SAT Tips Guaranteed to Get You a 1500+ *no tutor*"
          ],
          [
           "Last To Leave Roller Coaster Wins $20,000 - Challenge"
          ],
          [
           "Data Science Full Course - Learn Data Science in 10 Hours | Data Science For Beginners | Edureka"
          ],
          [
           "Evolution from ape to man. From Proconsul to Homo heidelbergensis"
          ],
          [
           "Should YOU Major In Computer Science? (2022)"
          ],
          [
           "Intro to Machine Learning (ML Zero to Hero - Part 1)"
          ],
          [
           "How to Solve a Rubik&#39;s Cube | WIRED"
          ],
          [
           "How to Solve a Rubik&#39;s Cube | WIRED"
          ],
          [
           "A brief history of chess - Alex Gendler"
          ],
          [
           "Learn to JUGGLE 3 BALLS - Beginner Tutorial"
          ],
          [
           "Machine Learning Full Course - Learn Machine Learning 10 Hours | Machine Learning Tutorial | Edureka"
          ],
          [
           "How to Get Started with Machine Learning &amp; AI"
          ],
          [
           "Mathematicians vs. Physics Classes be like..."
          ],
          [
           "Going Through The Same Drive Thru 1,000 Times"
          ],
          [
           "All Sports Trick Shots | Dude Perfect"
          ],
          [
           "Alexa Chung Learns How To Dress The French Way | ALEXACHUNG"
          ],
          [
           "I Searched 100 Dumpsters, Here&#39;s What I Found"
          ],
          [
           "Mark Cuban - The #1 Reason Why Most People Fail In Business"
          ],
          [
           "Physicist Explains Dimensions in 5 Levels of Difficulty | WIRED"
          ],
          [
           "MOST POPULAR FOOD FOR ASMR + ALFREDO SAUCE (MOZZARELLA CORN DOG, NUGGETS, ONION RINGS, HASH BROWNS)"
          ],
          [
           "How I Learnt Machine Learning In 6 Steps (3 months)"
          ],
          [
           "How Google Search Works (in 5 minutes)"
          ],
          [
           "SAT Reading Tips: How I Answered All 52 Reading Questions in 8 MINUTES"
          ],
          [
           "Gordon Ramsay&#39;s Top Basic Cooking Skills | Ultimate Cookery Course FULL EPISODE"
          ],
          [
           "8 Year Old LOST His GIRLFRIEND To A Rich Kid, So We Confronted Her... (Fortnite)"
          ],
          [
           "3 Perplexing Physics Problems"
          ],
          [
           "How to Answer Behavioral Interview Questions Sample Answers"
          ],
          [
           "Everything You Need to Know as a Computer Science Student"
          ],
          [
           "How to get a PERFECT 800 on the SAT Math Section: 13 Strategies to maximize your score"
          ],
          [
           "If Google Was A Guy (Full Series)"
          ],
          [
           "AI VS ML VS DL VS Data Science"
          ],
          [
           "ASMR MOST POPULAR FOOD AT POPEYES (CHICKEN SANDWICH, FRIED CHICKEN, CAJUN FRIES, BISCUITS MUKBANG 먹방"
          ],
          [
           "Last to Stop Swinging Wins $1,000,000 (Part 2)"
          ],
          [
           "SAT Math Prep - No Calculator Practice Test 1"
          ],
          [
           "Greek Alphabet Symbols List - College Math, Chemistry, &amp; Physics"
          ],
          [
           "1 A.M Study Session 📚 - [lofi hip hop/chill beats]"
          ],
          [
           "The Weirdest GOOGLE Searches"
          ],
          [
           "How To Run A Profitable Business &amp; Make Money"
          ],
          [
           "Rotimi - In My Bed (Audio) (feat. Wale)"
          ],
          [
           "APIs for Beginners - How to use an API (Full Course / Tutorial)"
          ],
          [
           "Statistics for Data Science | Probability and Statistics | Statistics Tutorial | Ph.D. (Stanford)"
          ],
          [
           "Top 100 Sports Plays of the Decade | 2010 - 2019 Best Moments"
          ],
          [
           "Tell Me About Yourself - A Good Answer To This Interview Question"
          ],
          [
           "Top Interview Tips: Common Questions, Nonverbal Communication &amp; More"
          ],
          [
           "How Literature Can Change Your Life | Joseph Luzzi | TEDxAlbany"
          ],
          [
           "RICH KID Tried To DATE My CRUSH, So I Did This... (Fortnite)"
          ],
          [
           "Animals ¥GLMV¥ /Gacha Life/"
          ],
          [
           "How to solve a Rubik’s cube | The Easiest tutorial | Part 1"
          ],
          [
           "Machine Learning with Python | Machine Learning Tutorial for Beginners | Machine Learning Tutorial"
          ],
          [
           "This Kid Solves RUBIK&#39;S CUBE In 5 Seconds.."
          ],
          [
           "Andrew Ng: Deep Learning, Education, and Real-World AI | Lex Fridman Podcast #73"
          ],
          [
           "SAT Math Test FULL Review (50 Problems) || Algebra &amp; Geometry, Calculator &amp; Non-Calculator"
          ],
          [
           "I Ate A $70,000 Golden Pizza"
          ],
          [
           "ASMR MUKBANG| 직접 만든 떡볶이 양념치킨 김밥 먹방 &amp; 레시피 FRIED CHICKEN AND Tteokbokki EATING"
          ],
          [
           "SAT Reading: The Ultimate Guessing Trick"
          ],
          [
           "Is a Computer Science Degree Worth It?"
          ],
          [
           "8 Actors Before And After They Got The Call From Marvel"
          ],
          [
           "Year 536 Was the Worst Year to Be Alive - What Happened?"
          ],
          [
           "Why Alexander The Great Is The Single Most Important Man In History"
          ],
          [
           "All Xbox Startup Animations (2001-2020)"
          ],
          [
           "Solving the huge Rubik&#39;s Cube 15X15 in record time"
          ],
          [
           "Powfu - Death Bed (Lyrics) ft. beabadoobee | don&#39;t stay awake for too long"
          ],
          [
           "How Making Indie Games Changed My Life"
          ],
          [
           "NLE Choppa - Walk Em Down feat. Roddy Ricch [Official Music Video]"
          ],
          [
           "Making the largest Rubik’s Cube - Guinness World Records"
          ],
          [
           "The Mistake People Make When Reading Literature"
          ],
          [
           "What is a Literature Review? Explained with a REAL Example | Scribbr 🎓"
          ],
          [
           "Don&#39;t learn machine learning"
          ],
          [
           "Powfu - death bed (coffee for your head) (Official Video) ft. beabadoobee"
          ],
          [
           "Game Development for Noobs | Beginner Guide"
          ],
          [
           "How to Write a Literature Review: 3 Minute Step-by-step Guide | Scribbr 🎓"
          ],
          [
           "Chemical Reactions and Equations"
          ],
          [
           "20 Comfort Foods From Around The World"
          ],
          [
           "Stanford CS229: Machine Learning Course, Lecture 1 - Andrew Ng (Autumn 2018)"
          ],
          [
           "Literature in the Victorian Era | A Historical Overview"
          ],
          [
           "ASMR MUKBANG DOUBLE BIG MAC &amp; CHEESY HASH BROWNS &amp; CHICKEN NUGGETS (No Talking) EATING SOUNDS"
          ],
          [
           "Grey Literature"
          ],
          [
           "Introduction to Programming and Computer Science - Full Course"
          ],
          [
           "2 Years of Unity Game Development in 10 Minutes! Len&#39;s Island"
          ],
          [
           "5 Years of Making Games in Unity!"
          ],
          [
           "Skills Needed to Become a Data Scientist"
          ],
          [
           "27 CLEANING TIPS THAT WILL SAVE YOU LOTS OF MONEY"
          ],
          [
           "WHAT IS LITERATURE?"
          ],
          [
           "10 Common Job Interview Questions and Answers (Job Interviews in English)"
          ],
          [
           "How to NOT be Nervous in Job Interviews | How to be Confident in Interviews | Linda Raynier"
          ],
          [
           "All Machine Learning Models Explained in 5 Minutes | Types of ML Models Basics"
          ],
          [
           "Attempting to Learn 3D Game Development in One Week"
          ],
          [
           "15 FATTEST Animals Ever Seen"
          ],
          [
           "How I got a 1500+ | how to self study for the SAT | best SAT prep books 2020"
          ],
          [
           "Computer Science degree: What you need to know"
          ],
          [
           "Python for Data Science - Course for Beginners (Learn Python, Pandas, NumPy, Matplotlib)"
          ],
          [
           "50 SCARIEST Animals In The World"
          ],
          [
           "My College Advice for Computer Science Majors (after graduating 6 years ago)"
          ],
          [
           "Data Scientist vs Data Analyst | Which Is Right For You?"
          ],
          [
           "20 MUST SEE SPORTS MOMENTS"
          ],
          [
           "Full Body Trolling in VRChat! (Part 2)"
          ],
          [
           "Introduction to Graph Theory: A Computer Science Perspective"
          ],
          [
           "HUGE $500 CUBE UNBOXING | What Cubes Did I Get?"
          ],
          [
           "How Much Do You Know About &quot;BIOLOGY&quot;?🌱| QUIZ/TRIVIA/QUESTIONS"
          ],
          [
           "Wireless Keyboard Prank HACK on Rich Kid Playing Fortnite! (N3ON)"
          ],
          [
           "1. Artificial Intelligence and Machine Learning"
          ],
          [
           "Ku Klux Klan Member interview-Steven"
          ],
          [
           "Glass Animals - Heat Waves (Official Video)"
          ],
          [
           "I Bought The World&#39;s Largest Firework ($600,000)"
          ],
          [
           "The Most Iconic Food In Every State | 50 State Favorites"
          ],
          [
           "WHOSE CUBE IS THE BEST? ⚔️ Family Cube Battle!!!"
          ],
          [
           "2020 Machine Learning Roadmap (95% valid for 2022)"
          ],
          [
           "5 Things I Wish I Knew Before Majoring in Computer Science"
          ],
          [
           "All of Biology in 9 minutes"
          ],
          [
           "Lazy Sunday 💤 - [lofi hip hop/chill beats]"
          ],
          [
           "Engineering an Empire: Ancient Greece (S1, E1) | Full Episode | History"
          ],
          [
           "How I Started Making Games with No Experience"
          ],
          [
           "How to choose between software engineering and data science | 5 Key Considerations"
          ],
          [
           "How I Improved My SAT Score by 300+ Points: 5 Life-Saving Study Tips, Practice Books You NEED to Use"
          ],
          [
           "ASMR ICE CREAM BLUE PARTY 다양한 블루 아이스크림 먹방 DESSERTS CANDY MUKBANG EATING SOUNDS 咀嚼音 モッパン"
          ],
          [
           "Financial Education | The 4 Rules Of Being Financially Literate"
          ],
          [
           "One Direction - History (Lyrics)"
          ],
          [
           "Deep Learning Crash Course for Beginners"
          ],
          [
           "ASMR *PURPLE FOOD* JELLY DONUT, PEEPS, CANDY CORN, POPPING BOBA, ROCK CANDY, GRAPE CRUSH MUKBANG 먹방"
          ],
          [
           "EXTRA GLAM Makeup Tutorial"
          ],
          [
           "All physics explained in 15 minutes (worth remembering)"
          ],
          [
           "The Math You&#39;ll Use in Chemistry"
          ],
          [
           "Chess in a Nutshell"
          ],
          [
           "How I Got A 1530 on the SAT Without Studying (Part 1)"
          ],
          [
           "THE MOST SATISFYING FOOD VIDEO COMPILATION | SATISFYING AND TASTY FOOD"
          ],
          [
           "Evolution of Xbox (Animation)"
          ],
          [
           "Maroon 5 - Animals (Lyrics)"
          ],
          [
           "How I Got a 1500+ on the SAT | ONE WEEK Study Plan Prep Tips"
          ],
          [
           "How To Fix a Water Damaged Laptop"
          ],
          [
           "Best Music Mix ♫ No Copyright Gaming Music ♫ Music by Roy Knox and Friends"
          ],
          [
           "Remaking My First Game! | Devlog #1"
          ],
          [
           "The problem of education inequality | CNBC Reports"
          ],
          [
           "Discover the Secrets of Ancient Egypt | Engineering an Empire | Full Episode | History"
          ],
          [
           "Punishing Beginner Mistakes | Ponziani Opening"
          ],
          [
           "Things New Computer Science Students Need to Know"
          ],
          [
           "Data Structures - Computer Science Course for Beginners"
          ],
          [
           "What a first year english major has to read + lecture notes"
          ],
          [
           "Tell Me About Yourself - Job Interview"
          ],
          [
           "15 Most Powerful African Animals in the World"
          ],
          [
           "Modern Physics || Modern Physics Full Lecture Course"
          ],
          [
           "Python Machine Learning Tutorial (Data Science)"
          ],
          [
           "Python Machine Learning Tutorial (Data Science)"
          ],
          [
           "Rotimi - In My Bed (Official Video) (feat. Wale)"
          ],
          [
           "Computer Science in 10 Minutes"
          ],
          [
           "Wild Life - Nature Documentary Full HD 1080p"
          ],
          [
           "Personal finance: How to save, spend, and think rationally about money | Big Think"
          ],
          [
           "Tiësto - The Business (Official Music Video)"
          ],
          [
           "Tiësto - The Business (Lyrics)"
          ],
          [
           "Tiesto - The Business (Official Lyric Video)"
          ],
          [
           "SAT Exam Prep | Tips from a Harvard grad"
          ],
          [
           "Why You Should NOT Learn Machine Learning!"
          ],
          [
           "J. Holiday Bed"
          ],
          [
           "上田麗奈「リテラチュア」 MUSIC VIDEO"
          ],
          [
           "Greatest World Records in Sport History"
          ],
          [
           "BEST Answers to the 10 Most Asked Interview Questions | Interview Questions and Answers"
          ],
          [
           "(Lyrics) Literature - Opening Majo no Tabitabi - Reina Ueda || Bachiko!!!"
          ],
          [
           "Series X vs. Xbox One - What&#39;s the Difference??"
          ],
          [
           "ASMR EDIBLE SLIME, HAIR BRUSH, TIK TOK FRUIT JELLY, JELLO POPSICLE, PURPLE FOOD, CANDY MUKBANG 먹방"
          ],
          [
           "360° Google Dinosaur - T-REX in VR [4K] Video"
          ],
          [
           "SAT Practice Test 2022: Mock Proctor with Timer and Breaks!"
          ],
          [
           "Lightroom Tutorial BASICS | Photo Editing Masterclass"
          ],
          [
           "Architects - &quot;Animals&quot;"
          ],
          [
           "Interview Questions and Answers! (How to PASS a JOB INTERVIEW!)"
          ],
          [
           "A Day in the Life of a Game Developer with a Full Time Job"
          ],
          [
           "Microsoft Excel Tutorial for Beginners - Full Course"
          ],
          [
           "Popular Fast-Food Restaurants In Every State | 50 State Favorites"
          ],
          [
           "Tiesto - The Business (1 Hour Super Unstoppable Extended Version)"
          ],
          [
           "Tiësto - The Business (Official Audio)"
          ],
          [
           "6 Reasons Why Computer Science is the Best Major"
          ],
          [
           "Kubernetes Tutorial for Beginners [FULL COURSE in 4 Hours]"
          ],
          [
           "Majo no Tabitabi: The Journey of Elaina - Opening Full - Literature - by Reina Ueda"
          ],
          [
           "How to Levitate"
          ],
          [
           "The Insane Biology of: The Octopus"
          ],
          [
           "PlayStation 5 Review: Next Gen Gaming!"
          ],
          [
           "BEST VIDEO FOR SOLVING RUBIK&#39;S CUBE | BEGINNERS GUIDE"
          ],
          [
           "Rarest Animals in the World"
          ],
          [
           "Inside Google&#39;s Massive Headquarters"
          ],
          [
           "Lisa Rinna’s Guide to Ageless Skin and Her Signature Plush Lips | Beauty Secrets | Vogue"
          ],
          [
           "Xbox Series X - Unbox &amp; Setup"
          ],
          [
           "What You Need to Succeed in Computer Science"
          ],
          [
           "PlayStation 5 vs Xbox Series X: Which is better?"
          ],
          [
           "ZOMBIE GIRL ESCAPE PREGNANCY PRANK BATTLE - Doctor Nerf Guns Couple Zombies Crime | Sky Nerf War"
          ],
          [
           "How to get a perfect score on the SAT reading section: tips from a 1600 scorer"
          ],
          [
           "How to get a perfect score on the SAT math section: tips from a 1600 scorer"
          ],
          [
           "How to get a perfect score on the SAT writing section: tips from a 1600 scorer"
          ],
          [
           "America Unearthed: Lost Relics of the Bible (S2, E10) | Full Episode | History"
          ],
          [
           "First Steps to becoming a Game Developer - How to become a Game Developer"
          ],
          [
           "Tutorial -  Friday Night Funkin&#39; OST"
          ],
          [
           "How To Play Chess: The Ultimate Beginner Guide"
          ],
          [
           "Figma UI Design Tutorial: Get Started in Just 24 Minutes! (2022)"
          ],
          [
           "Tiësto - The Business (Lyrics)"
          ],
          [
           "20 Creepiest Coincidences in History"
          ],
          [
           "I Gave People $1,000,000 But ONLY 1 Minute To Spend It!"
          ],
          [
           "How To Learn &amp; Study Chess Openings"
          ],
          [
           "I Opened A Restaurant That Pays You To Eat At It"
          ],
          [
           "Tiësto - The Business (Lyrics)"
          ],
          [
           "My Rubik&#39;s Cube Collection! [200+ Cubes]"
          ],
          [
           "How to learn data science in 2022 (the minimize effort maximize outcome way)"
          ],
          [
           "Statistics for Data Science Full Course | Probability and Statistics for Engineers | Great Learning"
          ],
          [
           "Top 100 Best Sports Bloopers 2020"
          ],
          [
           "I Made RICH KID Say **** For The First Time... (Fortnite)"
          ],
          [
           "Physics - Basic Introduction"
          ],
          [
           "The Weeknd - Save Your Tears (Official Music Video)"
          ],
          [
           "Mom Throws Out Her Son&#39;s Xbox, She Instantly Regrets The Decision She Made | Dhar Mann"
          ],
          [
           "How To Use Canva For BEGINNERS! [FULL Canva Tutorial 2021]"
          ],
          [
           "Trolling A Protest With ABSURD Protest Signs"
          ],
          [
           "20 TIMES SPORTS FANS TOOK IT WAY TOO FAR"
          ],
          [
           "Do this to get a data science job abroad"
          ],
          [
           "HTML Tutorial for Beginners: HTML Crash Course"
          ],
          [
           "Cozy Winter ❄️ - [lofi hip hop/study beats]"
          ],
          [
           "Learn to Play Chess Today in Less Than 10 Minutes"
          ],
          [
           "Online Computer Science Bachelor&#39;s - Colorado State University"
          ],
          [
           "Tiësto &amp; Ty Dolla $ign - The Business, Pt. II (Official Lyric Video)"
          ],
          [
           "Saint Punk - Empty Bed [Monstercat Lyric Video]"
          ],
          [
           "I GIRL Voice Trolled the THIRSTIEST 13 Year Old.."
          ],
          [
           "Musica Tutorial completa FNF  (Friday Night Funkin&#39;)"
          ],
          [
           "How to get a data science job"
          ],
          [
           "ASMR MUKBANG | 치즈 불닭볶음면 &amp; 치토스 대왕 통 가래떡 튀김 핫도그 딸기 먹방 &amp; 레시피 FIRE NOODLES AND Tteokbokki EATING"
          ],
          [
           "John Dewey’s 4 Principles of Education"
          ],
          [
           "I Tried to Speedrun Minecraft Education Edition"
          ],
          [
           "The Insane Biology of: Ant Colonies"
          ],
          [
           "18 PUZZLE MASSIVE UNBOXING 😵 (Puppets + Time Machines!?)"
          ],
          [
           "I Survived 100 Days on a SURVIVAL ISLAND in Minecraft Hardcore..."
          ],
          [
           "How To Build A Business That Works | Brian Tracy #GENIUS"
          ],
          [
           "Reinforcement Learning: Machine Learning Meets Control Theory"
          ],
          [
           "Stickers VS Stickerless Rubik&#39;s Cubes"
          ],
          [
           "Joel Corry, RAYE &amp; David Guetta - BED (Lyrics)"
          ],
          [
           "Joel Corry x RAYE x David Guetta - BED [Official Lyric Video]"
          ],
          [
           "Nintendo employees when their joycons drift"
          ],
          [
           "Pink Floyd - Animals (Full Album) 1977"
          ],
          [
           "Rubik&#39;s Cubes From Level 1 to Level 100 (WHAT&#39;S YOUR LEVEL?)"
          ],
          [
           "I Customized A Nintendo Switch In 10 Hours, 1 Hour, 10 Minutes, 1 Minute &amp; 10 Seconds - Challenge"
          ],
          [
           "Joel Corry x RAYE x David Guetta - BED [Official Video]"
          ],
          [
           "Drawing faces tutorial"
          ],
          [
           "SAT Math COMPLETE Test Review (50 Problems) || Algebra &amp; Geometry, Calculator &amp; Non-Calculator"
          ],
          [
           "Evolution of Nintendo [1889-2022]"
          ],
          [
           "why study literature // what your degree *actually* teaches you"
          ],
          [
           "Neil deGrasse Tyson Explains The Weirdness of Quantum Physics"
          ],
          [
           "Offering People $100,000 To Quit Their Job"
          ],
          [
           "LITERATURE REVIEW: Step by step guide for writing an effective literature review"
          ],
          [
           "7 Profitable Business Ideas for 2022"
          ],
          [
           "Where to start with classic literature &amp; tips for beginners 📒 How to start reading classics"
          ],
          [
           "Small Business | TikTok Compilation"
          ],
          [
           "Architects - &quot;Animals&quot; (Orchestral Version) - Live at Abbey Road"
          ],
          [
           "I Spent 50 Hours Buried Alive"
          ],
          [
           "Cell Biology | DNA Replication 🧬"
          ],
          [
           "Day 1 of 14 days of SAT Prep Lessons! By a 1590 SAT Scorer! SAT Math Formulas and Writing Rules!"
          ],
          [
           "jacquees - B.E.D. (Lyrics) | Nightly Music"
          ],
          [
           "CAN WE SOLVE RUBIK&#39;S CUBES MADE OF JELLY?? 🍮"
          ],
          [
           "ASMR SPICY BLACK BEAN ENOKI MUSHROOMS OCTOPUS 짜장불닭 팽이버섯, 낙지 먹방 咀嚼音えのき MUKBANG ZOEY ASMR"
          ],
          [
           "ASMR Guaranteed Tingles 🤤 99.9% of You Will Sleep / 3Hr (No Talking)"
          ],
          [
           "Learn Unity - Beginner&#39;s Game Development Tutorial"
          ],
          [
           "Marvel Movie Kisses Ranked Worst To Best"
          ],
          [
           "Trolling Children on Roblox as Karen"
          ],
          [
           "Using Magnus Carlsen to CHEAT in Chess"
          ],
          [
           "Solving the 46 Hardest SAT Math Problems from the Official Practice Tests"
          ],
          [
           "How I Learned To Make Games | One Year of Indie Gamedev"
          ],
          [
           "ONE HOUR of Amazing Animal Moments | BBC Earth"
          ],
          [
           "Weird Things Spotted On Google Maps"
          ],
          [
           "The math you actually need to know for data science."
          ],
          [
           "4 A.M Study Session 📚 - [lofi hip hop/chill beats]"
          ],
          [
           "Magic trick to solve Rubik&#39;s Cube#shorts"
          ],
          [
           "Ola Runt - Literature (Official Music Video)"
          ],
          [
           "The Map of Particle Physics | The Standard Model Explained"
          ],
          [
           "The Insane Biology of: Hammerhead Sharks"
          ],
          [
           "Marvel Studios Celebrates The Movies"
          ],
          [
           "New Hood Movie🔥🔥 (2022) #lilmama"
          ],
          [
           "Complete Roadmap for Machine Learning | ML Roadmap for Beginners"
          ],
          [
           "The Best FREE Software for Game Development! (In my Opinion)"
          ],
          [
           "The Cutest Wild Baby Animals That Will Make You Go Aww"
          ],
          [
           "The Real History of Slavery - Southern Negro"
          ],
          [
           "What Is Data Science? (Explained in 5 Minutes)"
          ],
          [
           "Talking Tech and AI with Google CEO Sundar Pichai!"
          ],
          [
           "Scoring 1500+ on the SAT in 1 month || Complete Plan, No Coaching Needed, Free Study Material"
          ],
          [
           "What Does A Machine Learning Engineer At Amazon Do?"
          ],
          [
           "Magical Realism In 6 Minutes: Literary Fantasy or Fantastic Literature? 📚"
          ],
          [
           "Frank Wilczek: Physics of Quarks, Dark Matter, Complexity, Life &amp; Aliens | Lex Fridman Podcast #187"
          ],
          [
           "Kinematics In One Dimension - Physics"
          ],
          [
           "Why Millennials Are Leaving Six-Figure Tech Jobs"
          ],
          [
           "Physics’ greatest mystery: Michio Kaku explains the God Equation | Big Think"
          ],
          [
           "What is Data Science?"
          ],
          [
           "Pi&#39;erre Bourne - Biology 101 [Official Audio]"
          ],
          [
           "Should You Learn Machine Learning?"
          ],
          [
           "How much Money does my Mobile Game Make? (after 4 weeks)"
          ],
          [
           "What It Was Like to Be a Mental Patient In the 1900s"
          ],
          [
           "Wolfgang Puck Answers Restaurant Questions From Twitter | Tech Support | WIRED"
          ],
          [
           "Cartoon x nublu x Gameboy Tetris - Biology [NCS Release] (Official Music Video)"
          ],
          [
           "Impossible Moments in Sports"
          ],
          [
           "Secret Hidden BED Entrance to Epic GAMING FORT!"
          ],
          [
           "The Insane Biology of: The Platypus"
          ],
          [
           "I built a FAKE Bed Defense in Roblox Bedwars.."
          ],
          [
           "Numbaa 7 - Chess (Exclusive By: @HalfpintFilmz)"
          ],
          [
           "Masters of Disguise | Animal Armory | Episode 3 | Free Documentary Nature"
          ],
          [
           "How To Introduce Yourself In An Interview! (The BEST ANSWER!)"
          ],
          [
           "The Biggest Myth In Education"
          ],
          [
           "EVERY RUBIK&#39;S CUBE FROM 1x1 TO 19x19"
          ],
          [
           "Gravitas Plus | Financial Literacy: The need of the hour"
          ],
          [
           "What&#39;s a Good SAT® Score: Updated 2021"
          ],
          [
           "What is Machine Learning?"
          ],
          [
           "LAST TO LEAVE THE BED!!"
          ],
          [
           "I Paid Game Developers on Fiverr to Make the Same Game"
          ],
          [
           "Shark Tank US | Lori Gives Out Her Golden Ticket To Souper Cubes!"
          ],
          [
           "Dr. Michio Kaku Answers Physics Questions From Twitter | Tech Support | WIRED"
          ],
          [
           "English Job Interview Dos &amp; Dont&#39;s! | English Conversation Practice"
          ],
          [
           "TOP 21 QUICK ANSWERS TO JOB INTERVIEW QUESTIONS!"
          ],
          [
           "Craziest &quot;Karma/Revenge&quot; Moments in Sports History"
          ],
          [
           "Data science roadmap: What skills you should learn first?"
          ],
          [
           "I Met RICH KID In Real Life..."
          ],
          [
           "A Day In The Life Of Sundar Pichai (Google&#39;s CEO)"
          ],
          [
           "Craziest &quot;1 in a Trillion&quot; Moments in Sports History"
          ],
          [
           "10 Coolest Gadgets and Inventions That Will Blow Your Mind"
          ],
          [
           "Amazing Scene of Wild Animals In 4K - Scenic Relaxation Film"
          ],
          [
           "how to get a 1500+ on the SAT | how to study, study plan, motivation + section tips, resources 📚"
          ],
          [
           "Computer Scientist Explains Machine Learning in 5 Levels of Difficulty | WIRED"
          ],
          [
           "Computer Scientist Explains Machine Learning in 5 Levels of Difficulty | WIRED"
          ],
          [
           "bed"
          ],
          [
           "How to Get Waves (5 Step Tutorial) | GQ"
          ],
          [
           "5 Steps To Start Making Games (in 2021)"
          ],
          [
           "10 *actually good* classic literature books for *actual* beginners"
          ],
          [
           "*XBOX* Mod in Among Us"
          ],
          [
           "How to Start a Business from NOTHING"
          ],
          [
           "SCARY THINGS FOUND ON GOOGLE EARTH"
          ],
          [
           "Soothing Breeze 🍃 [asian lofi hip hop]"
          ],
          [
           "The Insane Biology of: The Dragonfly"
          ],
          [
           "Machine Learning Course for Beginners"
          ],
          [
           "High IQ Moments in Sports"
          ],
          [
           "Last To Leave Circle Wins $500,000"
          ],
          [
           "Data science - كل ما تود معرفته عن مجال علم البيانات"
          ],
          [
           "Extreme $500,000 Game Of Tag!"
          ],
          [
           "What Makes Apple&#39;s New $499 Glasses So Special"
          ],
          [
           "The Entire History of the Akkadians // Ancient Mesopotamia Documentary"
          ],
          [
           "Tutorials That Went WRONG"
          ],
          [
           "Damn Nature You Scary | Funny Scary Animal Encounters"
          ],
          [
           "What Are the New Discoveries in Human Biology? - with Dan Davis"
          ],
          [
           "Machine Learning Explained in 100 Seconds"
          ],
          [
           "trolling zoom classes... but my boat is sinking"
          ],
          [
           "Trolling Zoom Classes....But I “Forget” I&#39;m SCREEN SHARING"
          ],
          [
           "7 MOST COMMON Chess Mistakes"
          ],
          [
           "Rubik&#39;s cube spinner moves #shorts #rubikscube"
          ],
          [
           "The physics anomaly no one talks about: What&#39;s up with those neutrinos?"
          ],
          [
           "Why you should not be a data scientist"
          ],
          [
           "$100 Food Truck Challenge!! USA&#39;s Street Food of the North!!"
          ],
          [
           "The Most Controversial Player in Sports"
          ],
          [
           "R. Kelly&#39;s Victims STARTED ACTIN UP in Court &quot;YOU RUINED OUR LIVES!&quot;"
          ],
          [
           "10 Movies You Should Watch While They&#39;re Still FREE on YouTube  | Flick Connection"
          ],
          [
           "Trolling Feminists on Twitter (Part 2)"
          ],
          [
           "[SFM] An Interview with Foxy"
          ],
          [
           "The WEIRD Nintendo Switch Accessories on Amazon"
          ],
          [
           "How Covid Is Transforming the $380 Billion Luxury Fashion Industry | The Business of Fashion Show"
          ],
          [
           "中国人挑战美国SAT数学…考完一半就弃考了！？！"
          ],
          [
           "DEADPOOL VOICE TROLLING ON COD: VANGUARD | EPISODE 5"
          ],
          [
           "Craziest &quot;Thinking outside the Box&quot; Moments in Sports History"
          ],
          [
           "&#39;Draconology&#39; Explained | Dragon Biology"
          ],
          [
           "I Trained Like A Chess Grandmaster"
          ],
          [
           "25 amazing Xbox Series X and S secrets! 😱🔥😲 #Xbox #XboxSeriesX #XboxSerieS"
          ],
          [
           "B.E.D. | sped up"
          ],
          [
           "The Xbox Series S: Should You Buy One?"
          ],
          [
           "The mistake every new game developer makes (Developing 2)"
          ],
          [
           "The Insane Biology of: The Axolotl"
          ],
          [
           "US vs Japan McDonald&#39;s | Food Wars | Food Insider"
          ],
          [
           "Body Language Expert Explains How to Show Confidence | WIRED"
          ],
          [
           "Strange Creatures Caught On Google Earth"
          ],
          [
           "6 Years of Learning Game Development"
          ],
          [
           "What Was The Worst Time to Be Alive in History?"
          ],
          [
           "Will Constructor Theory REWRITE Physics?"
          ],
          [
           "How to Make Perfect Stir Fry Every Time | 4 Components of Stir Fry | You Can Cook That"
          ],
          [
           "Last To Take Hand Off Lamborghini, Keeps It"
          ],
          [
           "Craziest &quot;Deadly Fall&quot; Moments in Sports History"
          ],
          [
           "Secret Rubik’s cube hiding spot 🤫 *Transforming Cubes* 😱"
          ],
          [
           "10 personal finance lessons that changed my life"
          ],
          [
           "Nintendo Switch OLED Review Vs Original | One Month Later"
          ],
          [
           "Last Minute Cram Tips for the SAT Math Section!"
          ],
          [
           "Brewmaster Answers Beer Questions From Twitter | Tech Support | WIRED"
          ],
          [
           "Why I chose to study literature &amp; how I found my passion"
          ],
          [
           "Can You spot the Fake Rubik’s Cube? 🤔"
          ],
          [
           "My Computer Science Degree in 8 Minutes"
          ],
          [
           "ASMR 먹방 :) 매콤 불닭 새우 버섯 떡볶이~ (가래떡, 어묵, 비엔나소세지, 팽이버섯, 표고버섯, 새송이버섯, 불닭만두, 백만송이버섯) mukbang."
          ],
          [
           "Making Your First Indie Game (5 Tips for 2021 &amp; 2022!)"
          ],
          [
           "how to solve rubik&#39;s cube 3x3 - cube solve magic trick formula #shorts"
          ],
          [
           "What is Data Science? | Complete RoadMap | Simply Explained"
          ],
          [
           "ASMR MUKBANG| 직접 만든 치토스 양념치킨 치즈스틱 핫도그 짜파게티 먹방 &amp; 레시피 FRIED CHICKEN AND BLACK BEAN NOODLES EATING"
          ],
          [
           "Why the Metaverse Is Fashion&#39;s Next Goldmine | The Business of Fashion Show"
          ],
          [
           "OLED Nintendo Switch Unboxing!"
          ],
          [
           "FUNNIEST KAREN TROLLING in SCHOOL ZOOM CLASS COMPILATION 2021"
          ],
          [
           "Is Data Science Dying?"
          ],
          [
           "GENIUS HACKS FOR ANY OCCASION || How to Write Faster! Smart Parenting TikTok Tricks by 123 GO!"
          ],
          [
           "HOW TO STYLE A BED LIKE A DESIGNER! 🛏️ Budget Friendly + Easy to Recreate! (4 DIY Bed Ideas)"
          ],
          [
           "Trolling Feminists on Discord"
          ],
          [
           "Asking Yale Students How They Got Into Yale | GPA, SAT/ACT, Extracurriculars &amp; More!"
          ],
          [
           "BIG VS MEDIUM VS SMALL FOOD CHALLENGE || Last To Stop Wins! Giant VS Tiny Food by 123 GO! FOOD"
          ],
          [
           "How To Learn Anything, Anywhere - Elon Musk"
          ],
          [
           "9-Year-Old Boy Defeats A Professional Chess Streamer"
          ],
          [
           "$456,000 Squid Game In Real Life!"
          ],
          [
           "The Truth About Their Relationship (Official Music Video)"
          ],
          [
           "Biologist Answers Biology Questions From Twitter | Tech Support | WIRED"
          ],
          [
           "$2000 WORLD&#39;S BIGGEST CUBE UNBOXING"
          ],
          [
           "TOP 40 Songs of 2021 2022 \\ Best English Songs  (Best Hit Music Playlist) on Spotify  @Sky Music PE"
          ],
          [
           "Animals Of The World 4K - Scenic Wildlife Film With Calming Music"
          ],
          [
           "James Dyson Answers Design Questions From Twitter | Tech Support | WIRED"
          ],
          [
           "World&#39;s *WEIRDEST* Things SPOTTED on Google Maps!"
          ],
          [
           "ASMR for Those Who Want to Sleep Soundly Now / 3Hr (No Talking)"
          ],
          [
           "Solving Rubik’s cube of all sizes in record time"
          ],
          [
           "How to Start a Blog in 2022 | By Sophia Lee"
          ],
          [
           "I bought the BIGGEST Tech in the world."
          ],
          [
           "EXTREME BLUE TAKIS FIRE NOODLES WITH HUNGRY FAT CHICK • Mukbang &amp; Recipe"
          ],
          [
           "15 Emerging Technologies that Will Change the World"
          ],
          [
           "Google — Year In Search 2021"
          ],
          [
           "B.E.D (sped up &amp; pitched)"
          ],
          [
           "訂閱破10萬回饋！2小時 32首 《Music Panda》 純歌曲大特集！"
          ],
          [
           "COMMON LIVING ROOM DESIGN MISTAKES + HOW TO FIX THEM"
          ],
          [
           "Human Chess In Real Life With 32 Real Humans As Pieces !! You Win Or Dié"
          ],
          [
           "Best Tech/EDC Gifts Under $50 for Father&#39;s Day! - Gift Guide 2022"
          ],
          [
           "Deadliest Battle in History: Stalingrad | Animated History"
          ],
          [
           "The Insane Biology of: The Orca"
          ],
          [
           "LIFE-SAVING GADGETS and EMERGENCY HACKS YOU SHOULD KNOW"
          ],
          [
           "ＳＬＥＥＰＹ 💤 Lofi hip hop mix - Beats to sleep/chill to | Deep Sleeping Music"
          ],
          [
           "11 SMART things to SAY in an INTERVIEW! (Interview Tips for Freshers &amp; Experienced Candidates!)"
          ],
          [
           "I Tried Learning Game Development In One Week"
          ],
          [
           "2021&#39;s Breakthroughs in Neuroscience and Other Biology"
          ],
          [
           "The Abyss 🌿 Deep Lofi Beats"
          ],
          [
           "2021&#39;s Biggest Breakthroughs in Physics"
          ],
          [
           "nintendo switch OLED unboxing (+ accessories!!) 🐶🍃🌸"
          ],
          [
           "ASMR Personal Attention to Fall Asleep FAST (skincare, face tracing, pampering, guided relaxing)"
          ],
          [
           "[2022] My Rubik&#39;s Cube Collection - Fun Fact Edition!"
          ],
          [
           "real talk about my Data Scientist jobs + salary for entry level data science"
          ],
          [
           "2021&#39;s Biggest Breakthroughs in Math and Computer Science"
          ],
          [
           "Funniest Sports Moments of the Year 2021 | Crazy Fan Moments, Epic Fails &amp; Blunders"
          ],
          [
           "My HONEST College Advice For Computer Science Majors // as a senior computer science student"
          ],
          [
           "How I Would Learn Data Science in 2022 (If I Had to Start Over)"
          ],
          [
           "The Magnificent Seven - Full Movie In English | Hollywood Movies | Hollywood Classic Movies"
          ],
          [
           "Best of lofi hip hop 2021 ✨ - beats to relax/study to"
          ],
          [
           "Top New Comedy Video Amazing Funny Video 2021 Episode 117 By Guys Fun Ltd@CS Bisht Vines"
          ],
          [
           "How I Would Learn Data Science in 2022 (If I Could Start Over)"
          ],
          [
           "Mistake: Forgive Only Once | Exclusive English Action Movies"
          ],
          [
           "Best Of Boxing 2021 | Full Episode | SHOWTIME SPORTS"
          ],
          [
           "&quot;What is Literature?&quot;: A Literary Guide for English Students and Teachers"
          ],
          [
           "How to Get Sturdy in 2022 | Dance Tutorial"
          ],
          [
           "jacquees - b.e.d. (sped up)"
          ],
          [
           "How I Would Learn to be a Data Analyst"
          ],
          [
           "ASMR MUKBANG 직접 만든 타키스 대왕 가래떡 떡볶이 불닭볶음면 치즈스틱 핫도그 먹방 &amp; 레시피 FIRE NOODLES AND Tteokbokki EATING SOUND!"
          ],
          [
           "How To BEAT The SAT in 2022! ULTIMATE SAT 2022 GUIDE!"
          ],
          [
           "My Everyday Tech: 2022!"
          ],
          [
           "Things I Wish I NEVER Found on Google Maps"
          ],
          [
           "35 Hero Animals that Saved Human Lives !"
          ],
          [
           "Trolling An ENTIRE MINECRAFT Livestream…"
          ],
          [
           "FANTASTIC BEAUTY TUTORIAL | Amazing Hair Dyeing Techniques, Nail Art Ideas And Makeup Trends"
          ],
          [
           "Evolution of the Rubik&#39;s Cube 🔥📈 #shorts"
          ],
          [
           "Behzad Leito &amp; Sijal Ft Sepehr Khalse, Saman Wilson, Sohrab MJ, &amp; Alireza JJ) - &quot;Business&quot; AUDIO"
          ],
          [
           "Ultimate Machine Learning Roadmap 2022 (HUGE ANNOUNCEMENT)!"
          ],
          [
           "🔥Data Science Full Course 2022 | Data Science | Data Science For Beginners | Simplilearn"
          ],
          [
           "the GameStop Xbox SCAM"
          ],
          [
           "HUSTLANG Robber - HIS STORY (M/V)"
          ],
          [
           "The Scariest Things Found On Google Maps"
          ],
          [
           "Computer Scientist Explains One Concept in 5 Levels of Difficulty | WIRED"
          ],
          [
           "15 Graphically MIND-BLOWING Games of 2022"
          ],
          [
           "Davis High School student receives a perfect score on the SAT exam"
          ],
          [
           "Game development is HARD"
          ],
          [
           "Live Day 1- Introduction To statistics In Data Science"
          ],
          [
           "12 A.M Study Session 📚 [lofi hip hop/chill beats]"
          ],
          [
           "Life Change Begins with Education, Not Inspiration | Jim Rohn Motivational Video"
          ],
          [
           "2Rare - &quot;Cupid Remix&quot; (Official Music Video)"
          ],
          [
           "3 Months of Learning Game Development"
          ],
          [
           "The Insane Biology of: The Venus Flytrap"
          ],
          [
           "World’s Most Dangerous Escape Room!"
          ],
          [
           "Reacting to people following my wolf cut tutorial"
          ],
          [
           "Eating MEAT in VEGAN Zoom Classes!"
          ],
          [
           "Live Day 1- Introduction To Machine Learning Algorithms For Data Science"
          ],
          [
           "The Biology Behind Bonsai Trees"
          ],
          [
           "Clean Girl On The Go Makeup Tutorial | Christen Dominique"
          ],
          [
           "The Computer Science Iceberg Explained (Part 1)"
          ],
          [
           "CS50 FULL REVIEW  - Best Course to Learn Computer Science in 2022? (edX, Harvard)"
          ],
          [
           "if someone asks you to play music, play this playlist (pt.7)"
          ],
          [
           "Best Online Business To Start As A BEGINNER (2022)"
          ],
          [
           "How I Would Learn Data Science in 2022"
          ],
          [
           "I Tried Making a Multiplayer FPS Game in 1 Week..."
          ],
          [
           "TROLLING KID COPS ON GTA 5 RP"
          ],
          [
           "Businesses that Never Fail? 7 Businesses with Amazingly Low Failure Rates [Backed by Data]"
          ],
          [
           "24 HOURS Eating Only 7-ELEVEN &amp; CU FOOD! Korean CONVENIENCE STORE FOOD HACKS in Seoul South Korea"
          ],
          [
           "What Professional Data Scientists ACTUALLY Do"
          ],
          [
           "9 Business Ideas that Will Be BIG in 2022"
          ],
          [
           "TOP 5 HARDEST INTERVIEW QUESTIONS &amp; Top-Scoring ANSWERS!"
          ],
          [
           "Chill Drive - Lofi hip hop mix ~ Stress Relief, Relaxing Your Mind"
          ],
          [
           "How Liquidating Unwanted Goods Became A $644 Billion Business"
          ],
          [
           "The Ultimate Xbox MYSTERY TECH"
          ],
          [
           "DATA SCIENTIST CAREER STORY (how I became a data scientist &amp; revealing my salaries)"
          ],
          [
           "Impossible Sports Moments"
          ],
          [
           "5 Unexplained Historical Mysteries That Experts Cannot Solve | Weird History Moments"
          ],
          [
           "Calm Your Anxiety ~ Lofi Hip Hop Mix [Beats To Relax/ Chill to]"
          ],
          [
           "7 Security Build Hacks vs Pillagers - Minecraft"
          ],
          [
           "Is Computer Science Right for You?"
          ],
          [
           "DATA SCIENCE INTERVIEW GUIDE | every type of interview question explained"
          ],
          [
           "Data Science Career: (Is Becoming A Data Scientist ACTUALLY Worth It?)"
          ],
          [
           "Minecraft Physics Had an Update.."
          ],
          [
           "Amazing Physics Toys/Gadgets 1"
          ],
          [
           "Top 10 Coolest Rubik&#39;s Cube Mods!"
          ],
          [
           "EXTREME Spicy Food TikTok Compilation 17 🥵"
          ],
          [
           "Chill Vibes - Lofi hip hop mix ~ Stress Relief, Chill Music"
          ],
          [
           "10 ESSENTIAL Easy Reads of Western Literature"
          ],
          [
           "Why I regret buying an Xbox Series X"
          ],
          [
           "Machine Learning With Python Full Course 2022 | Machine Learning Tutorial for Beginners| Simplilearn"
          ],
          [
           "&#39;Amphiterra&#39; Explained | Speculative Biology"
          ],
          [
           "Best Funniest animals Videos 2022 🤣 - Funny Dogs And Cats Videos🐱🐶"
          ],
          [
           "Why Did the World’s Best Chess Player Go Insane?"
          ],
          [
           "Chill Drive - Aesthetic Music ~ Lofi hip hop mix"
          ],
          [
           "Floating City 🍃 Chill Lofi Beats"
          ],
          [
           "Trolling Neckbeards of 1942 Germany Gmod Roleplay"
          ],
          [
           "Trolling FEMINIST Classes On Zoom!"
          ],
          [
           "Gang Member interview-Baldacci"
          ],
          [
           "Friday After Next (2002) Full Movie - HD"
          ],
          [
           "Lil Durk - No Interviews (Official Audio)"
          ],
          [
           "SAT® Tips and Trickzzz: Three Tips and Strategies to INCREASE Your Score!"
          ],
          [
           "Takeoff, Rich The Kid - Crypto (Official Video)"
          ],
          [
           "DON XHONI - CRYPTO (Prod. by Rzon &amp; Pllumb)"
          ],
          [
           "TROLLING THE ADMINS OF HARRY POTTER ROLEPLAY"
          ],
          [
           "Marvel Bloopers You Have to See!"
          ],
          [
           "Weird Things Spotted And Caught Deep Below On Google Maps"
          ],
          [
           "Ms. Marvel | Tráiler Oficial Doblado | Disney+"
          ],
          [
           "Marvel Studios’ Ms. Marvel | Official Trailer | Disney+"
          ],
          [
           "INVENTIONS OF THE FUTURE THAT WILL SOON BE AVAILABLE TO EVERYONE"
          ],
          [
           "2 Years of Learning Game Development in Unity | My devlog progress"
          ],
          [
           "Would You Swim With Sharks For $100,000?"
          ],
          [
           "I bought the THINNEST Tech in the world."
          ],
          [
           "Trolling Zoom Classes....But I CONTROL Their Screen 2!"
          ],
          [
           "the minecraft tutorial world had a secret..."
          ],
          [
           "25 Game Dev Tips for Beginners - Tips &amp; Tricks"
          ],
          [
           "Nintendo Switch Sports - Overview Trailer - Nintendo Switch"
          ],
          [
           "Machine Learning vs Deep Learning"
          ],
          [
           "Lofi Video Game Beats"
          ],
          [
           "Einstein and the Quantum: Entanglement and Emergence"
          ],
          [
           "1000 IQ Moments in Sports"
          ],
          [
           "4 Things We&#39;ve Forgotten How to Make"
          ],
          [
           "&#39;Exobiotica&#39; Explained | Speculative Biology"
          ],
          [
           "I Ate Gordon Ramsay’s Food For An Entire Day"
          ],
          [
           "Trolling The POLICE on Zoom!"
          ],
          [
           "Lil Durk Speaks Out About YoungBoy Dissing King Von (Interview)"
          ],
          [
           "Cool Tech Under $50 - April!"
          ],
          [
           "All Sports Golf Battle at The Masters"
          ],
          [
           "The Part of History You&#39;ve Always Skipped | Neoslavery"
          ],
          [
           "Bobby Fischer crushes Chilean Chess Champion in 23 moves | 1960"
          ],
          [
           "I Troll BadBoyHalo with a Horror Mod..."
          ],
          [
           "1 Year of Learning Game Development In 6 Minutes"
          ],
          [
           "The Entire History of Viking Britain // Medieval England Documentary"
          ],
          [
           "TROLLING as an ODER in BROOKHAVEN (JUICY..)"
          ],
          [
           "Blue Rubik’s Cube 🔵"
          ],
          [
           "Chill Songs ♫ Acoustic Love Songs 2022 🍃 Chill Music cover of popular songs"
          ],
          [
           "Can Life Really Be Explained By Physics? (featuring Prof. Brian Cox)"
          ],
          [
           "ASMR | Allergy Test &amp; Skin Treatment Medical Exam"
          ],
          [
           "Overnight in the World&#39;s Tallest Bed - Challenge"
          ],
          [
           "$10,000 Every Day You Survive Prison"
          ],
          [
           "Weird Things Spotted On Google Maps"
          ],
          [
           "Computer Science isn&#39;t programming! // How to become a Master Programmer // Featuring Dr Chuck"
          ],
          [
           "Morning Coffee ☕️ [lofi hip hop/study beats]"
          ],
          [
           "Best Zoom Trolling Compilation of 2022!"
          ],
          [
           "Gordon Ramsay Can&#39;t Stop Laughing At His Food | Kitchen Nightmares FULL EPISODE"
          ],
          [
           "The History Of Earth&#39;s Five Mass Extinction Events [4K] | The Next Great Extinction Event | Spark"
          ],
          [
           "Asking a Theoretical Physicist About the Physics of Consciousness | Roger Penrose &amp; Jordan Peterson"
          ],
          [
           "Learn Family Animals: Cat, Horse, Cow, Chicken, Duck - Farm Animal Sounds - Part 2"
          ],
          [
           "Elon Musk talks Twitter, Tesla and how his brain works — live at TED2022"
          ],
          [
           "What is the Schrödinger Equation? A basic introduction to Quantum Mechanics"
          ],
          [
           "How to build a PC, the last guide you&#39;ll ever need!"
          ],
          [
           "POV: You Get a Shiny Cube on Easter"
          ],
          [
           "Omegle Trolling... But I&#39;m ACTUALLY IN THEIR ROOMS"
          ],
          [
           "Thor: Amor y Trueno de Marvel Studios | Teaser Oficial | Doblado"
          ],
          [
           "Marvel Studios&#39; Thor: Love and Thunder | Official Teaser"
          ],
          [
           "Craziest &quot;You Have to See It to Believe It&quot; Moments in Sports History"
          ],
          [
           "Elon Musk: A future worth getting excited about | TED | Tesla Texas Gigafactory interview"
          ],
          [
           "Infinite cube glitch? 🤔"
          ],
          [
           "Thor: Love and Thunder de Marvel Studios | Teaser Oficial en español | HD"
          ],
          [
           "PlayStation vs Xbox: Which Console Is Better In Fortnite?"
          ],
          [
           "It is IMPOSSIBLE to Un-Solve This Cube  (Cube but Forced)"
          ],
          [
           "The Animated History of Sweden"
          ],
          [
           "The Best NEW Action Movies 2022 (Trailers)"
          ],
          [
           "Splatoon 3 – Release Date Revealed  - Nintendo Switch"
          ],
          [
           "The Man Who Accidentally Killed The Most People In History"
          ],
          [
           "Peaceful Journey 🍃 Chill Lofi Beats"
          ],
          [
           "We Build a Bunk Bed For Triplets"
          ],
          [
           "I Wish I Had Known This Before I Started Unity Game Development..."
          ],
          [
           "I Made My Own Game Engine"
          ],
          [
           "Data Scientist vs Data Analyst vs Data Engineer: What&#39;s the difference?"
          ],
          [
           "Music makes you happy early in the morning ~ lofi hip hop mix - music to put you in a better mood"
          ],
          [
           "The Insane Biology of: The Harpy Eagle"
          ],
          [
           "Busting 100 Food Myths in 24 Hours"
          ],
          [
           "2 Years of Game Development - Chef RPG"
          ],
          [
           "Trolling SALTY ADMINS as BATMAN in GTA 5 RP"
          ],
          [
           "Never Google this word..."
          ],
          [
           "Greatest Last Stands In History"
          ],
          [
           "TERRIFYING Things Google Earth Doesn&#39;t Want You To See"
          ],
          [
           "Intro to Chemistry &amp; What is Chemistry? - [1-1-1]"
          ],
          [
           "ASMR MUKBANG 직접 만든 대왕 가래떡 떡볶이 불닭볶음면 소세지 먹방 &amp; 레시피 FIRE NOODLES AND CHEETOS Tteokbokki EATING SOUND!"
          ],
          [
           "What the Chaga Tribe Eats in a Day!! EXTREME African Food in Tanzania!!"
          ],
          [
           "100+ Computer Science Concepts Explained"
          ],
          [
           "SAT® Reading: How to Crack a 700! Tips &amp; Strategies to score HIGHER!"
          ],
          [
           "Veterinarian Answers Pet Questions From Twitter | Tech Support | WIRED"
          ],
          [
           "The Story of Super Mario World | Gaming Historian"
          ],
          [
           "Work Week In My Life | Data Scientist at Spotify"
          ],
          [
           "Stop Overthinking - Lofi hip hop mix ~ Stress Relief, Relaxing Music"
          ],
          [
           "Kentucky Derby 2022 (FULL RACE) | NBC Sports"
          ],
          [
           "Secret Forest 🍃 Chill Lofi Beats"
          ],
          [
           "My 10 Year Old Solved A Rubik&#39;s Cube!"
          ],
          [
           "DO NOT STUDY Data Science and Business Analytics IF..."
          ],
          [
           "How He Started a Coffee Business (With $1,800)"
          ],
          [
           "ASMR MUKBANG 직접 만든 양념 치킨먹방! 스테이크 짜파게티 레시피 &amp; 먹방 FRIED CHICKEN AND BLACK BEAN NOODLES EATING SOUND!"
          ],
          [
           "Weirdest Things On Amazon!"
          ],
          [
           "Pixel Watch, Pixel 7 and Google&#39;s Hardware Reveal 2022!"
          ],
          [
           "Solo Development: Myths, Reality and Survival Strategies"
          ],
          [
           "I Paid 4 Game Developers on Fiverr to Make the Same Game"
          ],
          [
           "I Cheated in Hide and Seek Using a Bed!"
          ],
          [
           "Doctor Answers Gut Questions From Twitter | Tech Support | WIRED"
          ],
          [
           "Mortal Combat (Full Episode) | Animal Fight Night"
          ],
          [
           "Interview with Google CEO Sundar Pichai at Google I/O 2022"
          ],
          [
           "Data Scientist Overview"
          ],
          [
           "OneRepublic - I Ain’t Worried (From “Top Gun: Maverick”) [Official Music Video]"
          ],
          [
           "Cloning Clan Compounds in Rust - Admin Trolling"
          ],
          [
           "iPhone 14 Pro Max First Look"
          ],
          [
           "Wild Babies 4K - Amazing World Of Young Animals | Scenic Relaxation Film"
          ],
          [
           "15 Emerging Technologies That Will Change Our World"
          ],
          [
           "ASMR MUKBANG 직접 만든 양념 치킨먹방! 스테이크 짜파게티 레시피 &amp; 먹방 FRIED CHICKEN AND BLACK BEAN NOODLES EATING SOUND!"
          ],
          [
           "6 Businesses That Will Never Go Out of Market"
          ],
          [
           "TROLLING LIBERALS IN CALIFORNIA"
          ],
          [
           "Harry Styles - Zane Lowe &amp; Apple Music ‘Harry’s House’ Interview"
          ],
          [
           "The Man Who Revolutionized Computer Science With Math"
          ],
          [
           "Professional ASMR Haircut For SLEEP ✂️💈"
          ],
          [
           "Official Trailer | She-Hulk: Attorney at Law | Disney+"
          ],
          [
           "Mulher-Hulk: Defensora de Heróis | Marvel Studios | Trailer Oficial Dublado | Disney+"
          ],
          [
           "Top 10 Must Have Nintendo Switch Games! 2022 Guide"
          ],
          [
           "ASMR BLACK BEAN NOODLES, SPICY SEAFOOD, SPICY ENOKI MUSHROOM, 불닭 팽이버섯 먹방, OCTOPUS, 짜장 라면 먹방MUKBANG"
          ],
          [
           "A Day in the life of a Data Analyst in Chicago"
          ],
          [
           "Worlds Cleanest Fade - Haircut Tutorial"
          ],
          [
           "How to Discover Your Authentic Self -- at Any Age | Bevy Smith | TED"
          ],
          [
           "ASMR MUKBANG 직접 만든 타키스 대왕 가래떡 떡볶이 불닭볶음면 치즈스틱 핫도그 먹방 &amp; 레시피 FIRE NOODLES AND Tteokbokki EATING SOUND!"
          ],
          [
           "Music Mix 2022 🎧 Remixes of Popular Songs 🎧 EDM Best Music Mix"
          ],
          [
           "Why Thé Rubik&#39;s Cube Is PURPOSEFULLY Made BAD"
          ],
          [
           "👩🏻‍💻 How to learn Data Science FASTER"
          ],
          [
           "Most Unusual Houses!"
          ],
          [
           "I Trolled the WHOLE SERVER with an NPC SOUNDBOARD in GTA 5 RP"
          ],
          [
           "Cozy Cabin 🍃 Chill Lofi Beats"
          ],
          [
           "World&#39;s Largest Experiment!"
          ],
          [
           "All The Differences Between American And Japanese 7-Eleven | Food Wars | Food Insider"
          ],
          [
           "Katt Williams ATTACKED by Fans for NOT being Funny (YOU MUST SEE THIS)"
          ],
          [
           "Facing My Worst Fears... Makeup Challenge! | NikkieTutorials"
          ],
          [
           "TypeScript Tutorial for Beginners [2022]"
          ],
          [
           "Steam Deck is the &quot;END&quot; of Nintendo Switch?"
          ],
          [
           "Marvel Studios&#39; Thor: Love and Thunder | Official Trailer"
          ],
          [
           "Marvel Studios&#39; Thor: Love and Thunder ธอร์: ด้วยรักและอัสนี | ตัวอย่าง Official"
          ],
          [
           "Marvel Studios&#39; Thor: Love and Thunder | Official Trailer"
          ],
          [
           "Thor: Amor e Trovão | Marvel Studios | Trailer Oficial Dublado"
          ],
          [
           "Music to put you in a better mood ~ Study music - lofi / relax / stress relief"
          ],
          [
           "Trolling Zoom Classes....But They Can&#39;t Remove Me!"
          ],
          [
           "My 1 Year Game Dev Journey - From School to Sea of Thieves"
          ],
          [
           "Sushi Chef Answers Sushi Questions From Twitter | Tech Support | WIRED"
          ],
          [
           "10 New Tech Gadgets 2022 | You Can Buy Right Now"
          ],
          [
           "Luckiest People Alive!"
          ],
          [
           "The Hunt - Best Action Movie 2022 special for USA full movie english Full HD 1080p"
          ],
          [
           "My Massive Tech Unboxing 46.0!"
          ],
          [
           "Complete Machine Learning In 6 Hours| Krish Naik"
          ],
          [
           "Rubik’s Cubes Then vs Now #shorts"
          ],
          [
           "Celebrating My 400 Pound Milestone.... McDonald&#39;s Mukbang"
          ],
          [
           "The stuff no one tells you about game development (Developing 7)"
          ],
          [
           "Most Embarrassing Moments in Sports - Funniest Moments in Sports History"
          ],
          [
           "The Rise And Fall Of The Pirate Golden Age | Outlaws | Timeline"
          ],
          [
           "What If Physics IS NOT Describing Reality?"
          ],
          [
           "☀️ Chillhop Essentials · Summer 2022 [lofi hiphop / chill relaxing beats]"
          ],
          [
           "Data Scientist Reveals the Best Way to Become Rich"
          ],
          [
           "Lakeyah Ft. Latto - Mind Yo Business (Official Video)"
          ],
          [
           "The Best Upcoming ACTION Movies 2022 (Trailers)"
          ],
          [
           "Taste Expert Answers Questions From Twitter | Tech Support | WIRED"
          ],
          [
           "I Built Willy Wonka&#39;s Chocolate Factory!"
          ],
          [
           "Trolling Jet Griefers With My Chernobog Is Too Fun on GTA Online"
          ],
          [
           "Cool Tech Under $50 - June!"
          ],
          [
           "Friend’s Mom STEALS New XBOX Series X from Kid!? *CRAZIEST STORY EVER* (LANKYBOX REACTION!)"
          ],
          [
           "This AI says it&#39;s conscious and experts are starting to agree. w Elon Musk."
          ],
          [
           "Living on a clans compound base - Admin Trolling"
          ],
          [
           "alone with my thoughts. 🧺 calm lofi mix"
          ],
          [
           "The Dan Bilzerian Interview: Slowing Down on Partying &amp; Girls, Million Dollar Watch Theft &amp; More"
          ],
          [
           "I had an UNBREAKABLE BED in Roblox Bedwars..."
          ],
          [
           "Nintendo Switch: Five Years In - Scott The Woz"
          ],
          [
           "Paleontologist Answers Dinosaur Questions From Twitter | Tech Support | WIRED"
          ],
          [
           "Best Game in 24 Hours Wins $0.01 - Game Development Challenge"
          ],
          [
           "Marvel’s Midnight Suns | “Darkness Falls” Trailer"
          ],
          [
           "President Joe Biden Visits Jimmy Kimmel Live"
          ],
          [
           "I Was SHOCKED When I Heard This Chess Hustler&#39;s Rating"
          ],
          [
           "I Tried EVERY Game Developer&#39;s WORST NIGHTMARE (Dream Game Devlog)"
          ],
          [
           "I rejected a $360k Google job offer | Software Engineer"
          ],
          [
           "The Price of Education In China | Gen 跟 China"
          ],
          [
           "Xbox &amp; Bethesda Games Showcase 2022"
          ],
          [
           "DARK SECRET 🎥🎥 Best Action Movies 2022 🎥🎥 Latest Hollywood Action Movies"
          ],
          [
           "How to NOT use a cube stand…. 🤦‍♂️"
          ],
          [
           "100 Craziest Animal Fights of All Time 2022"
          ],
          [
           "1 IN A TRILLION MOMENTS IN SPORTS"
          ],
          [
           "Gifting a 9 Year Old MAX Battle Pass!"
          ],
          [
           "25 Largest Animals Ever Caught On Camera"
          ],
          [
           "Tech Monopolies: Last Week Tonight with John Oliver (HBO)"
          ],
          [
           "What is Data Science?"
          ],
          [
           "Extreme Moments Before Disaster!"
          ],
          [
           "Why You&#39;re Always Tired (and how to fix it)"
          ],
          [
           "Hailey Bieber&#39;s Date Night Skin Care &amp; Makeup Routine | Beauty Secrets | Vogue"
          ],
          [
           "Trolling The Kid That Stole My Scooter"
          ],
          [
           "Top 10 BEST Career Paths For Computer Science Majors ($100k+ Jobs)"
          ],
          [
           "Android vs iPhone - Which is ACTUALLY Better? (ft MKBHD)"
          ],
          [
           "Black Adam Action Movie 2022 full movie english Action Movies 2022"
          ],
          [
           "The Best NEW Science-Fiction Movies 2022 (Trailers)"
          ],
          [
           "Computer Science Degree Vs Computer Engineering Degree (Which Is Better?)"
          ],
          [
           "Leonard Susskind Marrying Quantum Physics &amp; General Relativity"
          ],
          [
           "1 Year Of Learning Game Development In Unity..."
          ],
          [
           "MYSTERIOUS KILLER 🎥🎥 Best Action Movies 2022 🎥🎥 Latest Hollywood Action Movies"
          ],
          [
           "Megiddo 1457 BC  - Oldest Battle in History - Bronze Age DOCUMENTARY"
          ],
          [
           "Did Google’s A.I. Just Become Sentient? Two Employees Think So."
          ],
          [
           "The True Ancient Origins Of The Native Americans | 1491: Before Columbus | Timeline"
          ],
          [
           "How I became a Game Developer with ZERO Coding &amp; Design Experience + Tips"
          ],
          [
           "A Perfect Night 🌙 Deep Lofi Beats"
          ],
          [
           "‘Clean Girl’ Makeup Tutorial &amp; Hydrated Skincare Routine"
          ],
          [
           "OVERNIGHT IN THE WORLD&#39;S MOST DANGEROUS BED!!"
          ],
          [
           "Chill Drive - Lofi hip hop mix ~ Deep Focus, Relaxing Music"
          ],
          [
           "iPhone Features Apple Killed With iOS 16"
          ],
          [
           "How to Organise your Life - Building a Second Brain"
          ],
          [
           "Biologist Answers More Biology Questions From Twitter | Tech Support | WIRED"
          ],
          [
           "Xenoblade Chronicles 3 Direct - Nintendo Switch"
          ],
          [
           "Heart Of The Forest 🌺 deep lofi hiphop beats"
          ],
          [
           "ROSHTEIN NEW AMAZING RECORD WIN ON CUBES 2!!"
          ],
          [
           "Pakistan Street Food at Night!! Vegans Won’t Survive Here!!"
          ],
          [
           "Google Engineer on His Sentient AI Claim"
          ],
          [
           "Google engineer warns new AI robot has feelings"
          ],
          [
           "ASMR MUKBANG | 직접 만든 퍼플 디저트 먹방 핫도그 아이스크림 초콜릿 &amp; PURPLE DESSERT JELLY CANDY"
          ],
          [
           "Do metal ice cubes work?"
          ],
          [
           "Mob Hitman interview-John Alite"
          ],
          [
           "Biologist Answers Even More Biology Questions From Twitter | Tech Support | WIRED"
          ],
          [
           "I Made a BETTER Chess"
          ],
          [
           "I Tasted Every Food At Disneyland"
          ],
          [
           "Conspiracy Theory - Action Movie full movie english Action Movies"
          ],
          [
           "Nintendo Direct Mini: Partner Showcase | 6.28.2022"
          ],
          [
           "Why Dani Is The Most Underrated Game Developer Ever"
          ],
          [
           "6 YEARS of Game Development"
          ],
          [
           "18 DEADLY Tech Fails that need to be BANNED."
          ],
          [
           "Cool Tech Under $50 - July!"
          ],
          [
           "When your Rubik&#39;s Cube is from the year 3000"
          ],
          [
           "SAY HALO To Animals!!!|Doodle with me (Part 4)"
          ],
          [
           "TOP SECRET GOVERNMENT CONSPIRACIES REVEALED | The Proof is Out There"
          ],
          [
           "Enchanted Forest 🍃 Chill Lofi Beats"
          ],
          [
           "US vs India KFC | Food Wars | Food Insider"
          ],
          [
           "179 Minecraft Build Hacks!"
          ],
          [
           "Physicists At CERN Just Made An Incredible Discovery That Changes Everything"
          ],
          [
           "How To Make a McDonald&#39;s Cheeseburger"
          ],
          [
           "Reacting To The World’s Most Satisfying Videos!"
          ],
          [
           "Prepper (2016) | Full Post-Apocalyptic Thriller Movie HD"
          ],
          [
           "How to Design a Tutorial"
          ],
          [
           "Has Google Created Sentient AI?"
          ],
          [
           "Tutorials That Went Wrong - Part 2"
          ],
          [
           "YUMMY AND FRESH SUMMER FOOD RECIPES AND DRINK IDEAS"
          ],
          [
           "SAT AUGUST TIPS AND TRICKS! DETAILED SAT GUIDE FOR NEW SAT!"
          ],
          [
           "World&#39;s Fastest Car!"
          ],
          [
           "Is Data Science Dying in 2022?"
          ],
          [
           "My Massive Tech Unboxing 47.0!"
          ],
          [
           "Street Food Singapore!! 5 Hawker FOODS INVENTED in Singapore - with KF Seetoh!"
          ],
          [
           "I Turned Manhunt Into a Multiplayer Game!"
          ],
          [
           "Meet the Man Responsible for the Most Deaths in History"
          ],
          [
           "2022 iPhone 14 Finally Revealed"
          ],
          [
           "Cooking Entire YAK!! Pakistani Mountain Food in Hunza!!"
          ],
          [
           "Physicists At CERN Just Made A Terrifying Discovery That Changes Everything!"
          ],
          [
           "Adie, Janine Berdin - Mahika (Lyrics)"
          ],
          [
           "How to Create Weekly Planner For Business - Canva For Beginners"
          ],
          [
           "TROLLING LIBERALS ON PRIDE MONTH"
          ],
          [
           "iOS 16 Hands-On: Top 5 New Features!"
          ],
          [
           "FASTEST Way to Become a Data Analyst and ACTUALLY Get a Job"
          ],
          [
           "Surviving 100 Days In The Wilderness!"
          ],
          [
           "What&#39;s a Good SAT® Score? Updated for 2022-2023!"
          ],
          [
           "American Eats Pakistan!! From Street Food to Strange Food!! (Full Documentary)"
          ],
          [
           "Bayonetta 3 - Release Date Revealed - Nintendo Switch"
          ],
          [
           "TRICK To Solve Rubik Cube In Just 10 Seconds!!"
          ],
          [
           "&#39;A Storm Is Brewing: Steve Forbes Warns That A &#39;Big Financial Crisis&#39; Is Coming | What&#39;s Ahead"
          ],
          [
           "Ronny Jackson publicly criticized Biden&#39;s health. Then he heard from Obama"
          ],
          [
           "44 Businesses You Can Start During The 2022 Recession"
          ],
          [
           "Toxicologist Answers More Poison Questions From Twitter | Tech Support | WIRED"
          ],
          [
           "Solve 3x3 rubik&#39;s cube 😂"
          ],
          [
           "80s music that will give you memories of your childhood"
          ],
          [
           "Food Theory: The Challenge That Nearly KILLED MrBeast!"
          ],
          [
           "2 Years of Learning Game Development (FPS Indie Game)"
          ],
          [
           "I spent 20 days customizing my new Xbox"
          ],
          [
           "People With Amazing Talent!"
          ],
          [
           "MY SIN ⭐🌟 Best Action Movies 2022 ⭐🌟 Latest Hollywood Action Movies"
          ],
          [
           "The Rise Of Emperor Napoleon Bonaparte | History Hit | Timeline"
          ],
          [
           "Eating ONLY KOREAN GROCERY STORE FOOD for 24 Hours! Lotte Mart FOOD TOUR"
          ],
          [
           "TOP SECRET MISSION ⭐🌟 Best Action Movies 2022 ⭐🌟 Latest Hollywood Action Movies"
          ],
          [
           "Mario Strikers: Battle League - 1st Free Update - Nintendo Switch"
          ],
          [
           "Nintendo Switch HUNTING in NEW YORK CITY!"
          ],
          [
           "Trolling Zoom Classes....But I Leak My Search History!"
          ],
          [
           "What Does Quantum Physics Actually Tell Us About the World?"
          ],
          [
           "I Quit My $21K Day Job To Start My Own Business - Now It Brings In Over $500,000"
          ],
          [
           "How To Make Every Sushi | Method Mastery | Epicurious"
          ],
          [
           "17 Coolest Gadgets You Can Actually Buy"
          ],
          [
           "I Am Groot | Official Trailer | Disney+"
          ],
          [
           "A Day in the Life of an Indie Game Developer"
          ],
          [
           "100 Girls Vs 100 Boys For $500,000"
          ],
          [
           "What happened with me and Apple"
          ],
          [
           "ASMR | Luxury International Flight Attendant Experience | Overnight Flight"
          ],
          [
           "Marvel Studios&#39; X-Men &#39;97, What If...? Season 2, Spider-Man: Freshman Year and More"
          ],
          [
           "Top 10 Marvel Moments That Left Us Speechless"
          ],
          [
           "I Did a Terrible Job of This - Intel $5,000 Extreme Tech Upgrade"
          ],
          [
           "SAT AUGUST ULTIMATE TRICKS GUIDE!"
          ],
          [
           "She Hulk : Defensores de Héroes | Tráiler Oficial Doblado | Disney+"
          ],
          [
           "FULL Marvel Studios Panel from Hall H | San Diego Comic-Con 2022 | AUDIENCE REACTION SDCC 2022"
          ],
          [
           "Pantera Negra: Wakanda para Sempre | Marvel Studios | Teaser Trailer Legendado | Open Caption"
          ],
          [
           "MARVEL COMIC-CON 2022 FULL ANNOUNCEMENT! (AUDIENCE REACTION)"
          ],
          [
           "Marvel Studios&#39; The Multiverse Saga Revealed at Hall H"
          ],
          [
           "Mulher-Hulk: Defensora de Heróis | Trailer 2 Oficial Dublado | Disney+"
          ],
          [
           "Marvel Studios&#39; Black Panther: Wakanda Forever | Official Hindi Teaser"
          ],
          [
           "Official Trailer | She-Hulk: Attorney at Law | Disney+"
          ],
          [
           "😱2/2 Cube Solved in 1 second challenge#short #cube#tranding"
          ],
          [
           "ASMR MUKBANG 직접 만든 치토스 햄버거 치즈스틱 불닭볶음면 핫도그 먹방 &amp; 레시피 FIRE NOODLES AND CHEETOS BURGER EATING SOUND!"
          ],
          [
           "Bizarre Filipino Food in Pampanga!! Pets, Pigs and Pests!!"
          ],
          [
           "Pantera Negra: Wakanda para Sempre | Marvel Studios | Teaser Trailer Oficial Dublado"
          ],
          [
           "Minecraft NOOB vs PRO: MODERN SECRET BASE BUILD CHALLENGE"
          ],
          [
           "Team USA SHOCKS JAMAICA for women&#39;s 4x100 world title | NBC Sports"
          ],
          [
           "Marvel Studios’ Black Panther: Wakanda Forever | Official Teaser"
          ],
          [
           "35 Times Animals Messed With The Wrong Opponent !"
          ],
          [
           "BEST Auditions Of Songs From Movies | Amazing Auditions"
          ],
          [
           "Frozen vs. Fast vs. Fancy Food Taste Test"
          ],
          [
           "Most Expensive Hotel Room!"
          ],
          [
           "Tutorial 😍 do u want to see the result? XO TEAM TIKTOK Elsarca #xoteam #elsarca #tiktok"
          ],
          [
           "Why Copper River King Salmon Is So Expensive | So Expensive Food | Business Insider"
          ],
          [
           "The Sleazy World Go Interview: Sleazy Flow, Scamming, Lil Baby, Offset &amp; More"
          ],
          [
           "Up Close, Soft, Ear-to-Ear ASMR for Sleep"
          ],
          [
           "Military Tank Expert Rates 8 Tank Battles In Movies And TV | How Real Is It? | Insider"
          ],
          [
           "The Traveling Salesman Problem: When Good Enough Beats Perfect"
          ],
          [
           "I&#39;m a Hulk | Marvel Studios&#39; She-Hulk: Attorney at Law | Disney+"
          ],
          [
           "The Killer Lady - Best Action Scene 10/10"
          ],
          [
           "Filipino Street Food That Will Kill You!! Manila Heart Attack Tour!!"
          ],
          [
           "3 Years of Unity Game Development!"
          ],
          [
           "This is the End of an Era for Apple."
          ],
          [
           "100 Million Subscriber Livestream!"
          ],
          [
           "Robert Duvall, Tommy Lee Jones, Danny Glover Best Western Movies | Adventure Western | Lonesome Dove"
          ],
          [
           "ASMR MUKBANG INDOMIE MI GORENG &amp; FRIED CHICKEN | COOKING &amp; EATING SOUNDS | Zach Choi ASMR"
          ],
          [
           "15 Craziest Things That Defy the Laws of Physics"
          ],
          [
           "Mario Kart 8 Deluxe — Booster Course Pass - Wave 2 Release Date - Nintendo Switch"
          ],
          [
           "EVERYDAY SUMMER MAKEUP TUTORIAL ..."
          ],
          [
           "Cake Rescue from Cake Fail to Nailed It | How To Cook That Ann Reardon"
          ],
          [
           "Most EVIL Kings in History!"
          ],
          [
           "NEW Xbox Series X Performance Update | Sony can’t match it"
          ],
          [
           "ASMR Shivers Down Your Spine (childhood back tracing games)"
          ],
          [
           "Why iPhone 14 is so good | Apple fired someone"
          ],
          [
           "Andrew Tate Trolls FEMINIST Zoom Classes!"
          ],
          [
           "The Insane Biology of: The Electric Eel"
          ],
          [
           "MrBeast Hit 100,000,000 Subs So I Did This..."
          ],
          [
           "Minecraft Speedrunner VS $1,000,000 MrBeast Challenge"
          ],
          [
           "I got some things I think sound really nice for ASMR"
          ],
          [
           "ALL MY EXOTIC ANIMALS IN ONE VIDEO ! FULL ZOO TOUR !"
          ],
          [
           "Why Game Companies Stopped Making Games - How Money Works"
          ],
          [
           "My Favorite Tech of the Month!"
          ],
          [
           "How To Beat EVERY DEATH GAME In &quot;Die Now&quot;"
          ],
          [
           "18 AMAZING Nintendo Switch secrets! 🔥😱🤯"
          ],
          [
           "Battle Of The Tech - Super Bike Vs World Superbike"
          ],
          [
           "US vs India McDonald’s | Food Wars | Food Insider"
          ],
          [
           "CNN reporter explains how prosecutors are inching closer to Trump"
          ],
          [
           "Nailing It Clip | Marvel Studios’ She-Hulk: Attorney At Law | Disney+"
          ],
          [
           "DON&#39;T USE DOMAIN.COM Before Watch THIS VIDEO! Best Domain Registrar  for Business"
          ],
          [
           "300 DAYS of Game Development in 3 Minutes"
          ],
          [
           "Nostradamus Effect: The Third Antichrist (S1, E1) | Full Episode"
          ],
          [
           "$1 Burger vs $10,000 Burger!"
          ],
          [
           "Trolling ANGRY BALD Teachers On Zoom!"
          ],
          [
           "SAT AUGUST ULTIMATE STUDY ROUTINE GUIDE!"
          ],
          [
           "INSANE WIN on Cubes 2 Slot! (Bonus Buy)"
          ],
          [
           "Elon Musk&#39;s ALL NEW Phone Just DESTROYED Apple!"
          ],
          [
           "Chinese ambassador: Pelosi&#39;s Taiwan visit will escalate tensions"
          ],
          [
           "Apple iPhone 14 EVENT - Apple are Changing a Product..."
          ],
          [
           "Blood Red Jellyfish!! EXTREME Vietnam Street Food!!"
          ],
          [
           "😯Triangle cube solving challenge #short #viralvideo #cuber #akcuber"
          ],
          [
           "Pokemon Presents - Official Full Presentation (August 3, 2022)"
          ],
          [
           "The Harsh Reality of Being a Data Scientist"
          ],
          [
           "Mukbang Cringe Compilation #10"
          ],
          [
           "Calzones But Fast Food"
          ],
          [
           "Fastest ASMR | Daisy, Lorelei, Sybil, Luna, Mistletoe, Bart, Robyn, PomPom, Fleeb Florb, Tatyana"
          ],
          [
           "Pokémon Presents | 08.03.2022"
          ],
          [
           "Neil Gaiman Answers Mythology Questions From Twitter | Tech Support | WIRED"
          ],
          [
           "Saweetie Full Interview with Kevin Hart | Full Episode Hart to Heart"
          ],
          [
           "*NEW* FPS Chess Game Mode"
          ],
          [
           "I Gave My 100,000,000th Subscriber An Island"
          ],
          [
           "The Xbox Series S Gets An Upgrade!"
          ],
          [
           "How to play &#39;Interstellar&#39; 🎹✨ (Cornfield Chase) Complete Piano Tutorial"
          ],
          [
           "Elon Musk Reveals His Knowledge on Aliens, Challenges Putin to UFC, and Predicts WW3"
          ],
          [
           "Mase GAVE UP HIS BIBLE AGAIN to join Snoop Dogg and Death Row (YOU MUST SEE THIS)"
          ],
          [
           "Apple Watch Series 8 - This Is Insane!"
          ],
          [
           "Chill Drive 🚙 Lofi Hip Hop Radio ~ Lofi Music To Relax/Study To"
          ],
          [
           "See video Alex Jones sent out to followers after jury’s decision"
          ],
          [
           "Liz Cheney: The evidence is there to prosecute Trump"
          ],
          [
           "How to Make Potato Chips in a Microwave - The Best Chips You&#39;ll Ever Taste - Food Wishes"
          ],
          [
           "An Entire Computer Science Degree in 12 Minutes"
          ],
          [
           "Cool Tech Under $50 - August!"
          ],
          [
           "Pink Floyd co-founder explains meaning behind warning at the top of his show"
          ],
          [
           "I wasn&#39;t allowed to post this Mukbang"
          ],
          [
           "Apple&#39;s iPad Revolution is COMING.."
          ],
          [
           "I bought the STRANGEST TECH on the Internet."
          ],
          [
           "US vs India Domino’s Pizza | Food Wars | Food Insider"
          ],
          [
           "See McConnell’s telling prediction about 2022 elections"
          ],
          [
           "Chill Night 🏡 Lofi Hip Hop Radio ~ Lofi Music To Relax/Study To"
          ],
          [
           "Former Trump aide calls Trump’s CPAC speech ‘shameful’"
          ],
          [
           "Apple September 6 Event LEAKED! 🚨 iPhone 14, Apple Watch Series 8 &amp; More!"
          ],
          [
           "Best Back to School Tech 2022!"
          ],
          [
           "Kirk Douglas, James Coburn Best Western Movies | Full Length | Draw! Full Movie English"
          ],
          [
           "How Did Ancient People Learn To Cook? | Footprints Of Civilisation | Absolute History"
          ],
          [
           "&#39;Hold on a second&#39;: CNN anchor presses GOP lawmaker on comparing Trump to Clinton"
          ],
          [
           "Analysis: How FBI&#39;s search of Mar-a-Lago could help Trump in 2024"
          ],
          [
           "ASMR Relaxing Spa Facial Treatment 💆🏽‍♀️ (Personal Attention, Tingly Skincare, Scalp Massage)"
          ],
          [
           "BRAZILIAN STREET FOOD in LOS ANGELES! Insane Brazilian BBQ Meal!"
          ],
          [
           "Republicans rush to Trump&#39;s defense after FBI executes search warrant at Mar-a-Lago"
          ],
          [
           "Xbox Just Got BIG News - Massive Game Pass Change, NEW Partnership Announced, &amp; MORE!"
          ],
          [
           "TROLLING SALTY ADMINS with BANNED CARS... GTA 5 RP"
          ],
          [
           "‘The hypocrisy is jaw-dropping’: Honig on Trump taking the Fifth"
          ],
          [
           "Former Trump White House lawyer reacts to FBI Mar-a-Lago search"
          ],
          [
           "Growing Number Of High Schoolers Are Opting Out Of Higher Education"
          ],
          [
           "Tech Hiring Slowdown: What’s Different This Time? | Tech News Briefing Podcast | WSJ"
          ],
          [
           "Microsoft Xbox Upgrades- they just got it right"
          ],
          [
           "Splatoon 3 Direct - Nintendo Switch"
          ],
          [
           "Deep Cut: Anarchy Rainbow - Splatoon 3 - Nintendo Switch"
          ],
          [
           "&#39;Deadly serious matter’: Bernstein on FBI search of Trump home"
          ],
          [
           "Splatoon 3 Direct – 10/08/2022"
          ],
          [
           "Working Day 🌯 Lofi hip hop radio - Lofi Music for Work, Study, Focus, Coding"
          ],
          [
           "40 Biggest Animals Ever Captured !"
          ],
          [
           "Minecraft, But It Gets More Realistic..."
          ],
          [
           "Physics experiments that changed the world – with Suzie Sheehy"
          ],
          [
           "Merrick Garland announces FBI filed motion to unseal Trump warrant"
          ],
          [
           "Ex-Trump attorney: What Trump fears the most about the FBI search"
          ],
          [
           "Kirby’s Dream Buffet – Overview Trailer – Nintendo Switch"
          ],
          [
           "iPhone 14 Last Minute Changes and Leaks!"
          ],
          [
           "ASMR Brain Penetrating Triggers Ear to Ear for Endless Tingles (No Talking)"
          ],
          [
           "Trump&#39;s ex-Chief of Staff reacts to report about informant tipping off FBI"
          ],
          [
           "Does Gen Z Know 90s Movies? | Do They Know It? | React"
          ],
          [
           "How to Simplify Your Life | Minimalist Philosophy"
          ],
          [
           "Call My Lawyer | Marvel Studios&#39; She-Hulk: Attorney at Law | Disney+"
          ],
          [
           "Sony PlayStation is PAYING for Games NOT to go on Xbox Game Pass?!"
          ],
          [
           "FBI chief responds to threats after search of Trump&#39;s property"
          ],
          [
           "7 Years of Indie Game Development - The Making Of Sapiens"
          ],
          [
           "Things Are Getting HEATED Between Xbox &amp; PlayStation..."
          ],
          [
           "Trump responds to AG Garland’s move to unseal search warrant"
          ],
          [
           "Car Crash | Marvel Studios&#39; She-Hulk: Attorney at Law | Disney+"
          ],
          [
           "Giving School Supplies To The Poorest Schools In America"
          ],
          [
           "50 Cent Talks &quot;Tycoon Houston Comedy Fest, YK Osiris, Love For Houston, Mending Relationships &amp; More"
          ],
          [
           "Reporter confronts Republican over call to defund FBI"
          ],
          [
           "Day in the Life of a Computer Science Student at Waterloo"
          ],
          [
           "Reporter who broke major story about FBI’s search of Trump&#39;s home speaks to CNN"
          ],
          [
           "Blueberry Cornbread - How to Make &quot;Blue Bottom&quot; Cornbread - Food Wishes"
          ],
          [
           "How Google Maps Sent 2 Teens Into a Death Trap, Only 1 Survived"
          ],
          [
           "Debunking Fake Cooking Videos &amp; Vaping Lies | How To Cook That Ann Reardon"
          ],
          [
           "Kabali | কাবালি | New Bangla Dubbed Tamil Movie 2022 | Rajinikanth, Radhika Apte | Pa Ranjith"
          ],
          [
           "31 Tricks to Become a Minecraft Building Pro"
          ],
          [
           "The NEW Xbox Game Pass! What you need to know today"
          ],
          [
           "New Game Pass Additions, Updates, and Events | This Week on Xbox"
          ],
          [
           "The Trojan War: Myth vs. Reality | Digging For The Truth (S2, E9) | Full Episode"
          ],
          [
           "I Survived 100 Days as a WARDEN in Minecraft"
          ],
          [
           "Hear what voters have to say about Liz Cheney&#39;s opponent"
          ],
          [
           "Game development is hard | Indie Game Devlog"
          ],
          [
           "Manchester City v. Bournemouth | PREMIER LEAGUE HIGHLIGHTS | 8/13/2022 | NBC Sports"
          ],
          [
           "ASMR MUKBANG 직접 만든 양념 치킨먹방! 스테이크 짜파게티 레시피 &amp; 먹방 FRIED CHICKEN AND BLACK BEAN NOODLES EATING SOUND!"
          ],
          [
           "Ex-prosecutor says Trump faces serious potential legal liability"
          ],
          [
           "Trump and his allies flood airwaves with falsehoods after FBI search"
          ],
          [
           "Gibi ASMR | Playing Would You Rather on an iPad"
          ],
          [
           "How To BECOME Rainbow Friends In Roblox"
          ],
          [
           "TROLLING as a NEXTBOT in Da Hood Voice Chat"
          ],
          [
           "Cool Back to School Tech 2022 🔥 (Under $100)"
          ],
          [
           "Arsenal v. Leicester City | PREMIER LEAGUE HIGHLIGHTS | 8/13/2022 | NBC Sports"
          ],
          [
           "Armed Trump supporters gathered outside Phoenix FBI office"
          ],
          [
           "ASMR Flight Attendant Sleep Care Service✈️"
          ],
          [
           "Risky Thai Street Food!! Even Locals Don’t Eat This!!"
          ],
          [
           "Almost EVERYONE is Wasting Money on Dash Cams."
          ],
          [
           "GOP strategist says there are two ways FBI&#39;s Trump search can end"
          ],
          [
           "Chelsea v. Tottenham Hotspur | PREMIER LEAGUE HIGHLIGHTS | 8/14/2022 | NBC Sports"
          ],
          [
           "25 Features Mojang Keeps a Secret"
          ],
          [
           "Watch Jordan Klepper confront MAGA crowd on conspiracies"
          ],
          [
           "How To Beat EVERY $1,000,000,000 DEATH GAME In &quot;Zero&quot;"
          ],
          [
           "I Ate $1,000 Worth of Food In One Day."
          ],
          [
           "US vs. India Subway | Food Wars | Food Insider"
          ],
          [
           "GROWING UP as RAINBOW FRIENDS In Minecraft!"
          ],
          [
           "Sculpting You | ASMR"
          ],
          [
           "Champions Chess Tour: FTX Crypto Cup | Day 1 | Commentary by David, Jovanka, Kaja &amp; Simon"
          ],
          [
           "How to Grow Your Thumb"
          ],
          [
           "Dope Tech: The Most Extreme Gaming Monitor!"
          ],
          [
           "EXTREME BLUE HEAT CHEESE STUFFED TAKIS • Mukbang &amp; Recipe"
          ],
          [
           "100 Kids vs 1 Pro"
          ],
          [
           "Stop Overthinking - Lofi Music - Lofi Hip Hop Mix ~ Music to put you in a better mood"
          ],
          [
           "&#39;I thought of Al Capone&#39;: Legendary journalist reacts to Trump search"
          ],
          [
           "Sports Car Giant Test 2022 – Ferrari vs Porsche vs McLaren &amp; more! | CAR magazine (4K)"
          ],
          [
           "13 NEW XBOX GAME PASS GAMES REVEALED FOR AUGUST &amp; SEPTEMBER"
          ],
          [
           "How Two Physicists Unlocked the Secrets of Two Dimensions"
          ],
          [
           "Apple September Event - Every NEW Product Revealed!"
          ],
          [
           "4 Levels of Mozzarella Sticks: Amateur to Food Scientist | Epicurious"
          ],
          [
           "Champions Chess Tour: FTX Crypto Cup | Day 2 | Commentary by David, Jovanka, Kaja &amp; Simon"
          ],
          [
           "Chess Trash Talker Says He&#39;ll Smoke Me, So I Bet $100"
          ],
          [
           "SAT AUGUST GUIDE TO IMPROVE SCORE 200+ POINTS! ULTIMATE TIPS AND BEST PRACTICES!"
          ],
          [
           "Liverpool v. Crystal Palace | PREMIER LEAGUE HIGHLIGHTS | 8/15/2022 | NBC Sports"
          ],
          [
           "The U.S. Is Dealing With A Teacher Shortage, Education Secretary"
          ],
          [
           "Nintendo Switch Online Is About To Get VERY Interesting In 2022..."
          ],
          [
           "The Dark Side Of Game Development"
          ],
          [
           "Nintendo has been accused..."
          ],
          [
           "iPhone 14! MORE Bad News. 😡 Really Apple?"
          ],
          [
           "Boosie on NBA YoungBoy, Terrance &quot;Gangsta&quot; Williams, Yung Bleu, R Kelly, Lil Nas X (Full Interview)"
          ],
          [
           "Chill Vibes - Lofi hip hop mix ~ A playlist for loving the autumn"
          ],
          [
           "iPhone 14: Everything We Know"
          ],
          [
           "불닭 짜장 문어 🐙 전복 오징어 팽이버섯 해산물 가득 해물찜 먹방 레시피 Octopus Seafood Boil Mushrooms Recipe Mukbang ASMR Ssoyoung"
          ],
          [
           "ASMR MUKBANG 직접 만든 바베큐 떡볶이 불닭볶음면 치킨먹방! &amp; 레시피 FIRE NOODLES AND FRIED CHICKEN EATING SOUND!"
          ],
          [
           "Xbox Series Upgrades in 2022! Time to swap?"
          ],
          [
           "Stop Overthinking🍵 Lofi Hip Hop Mix ~ Rainy Night with Rain Sound"
          ],
          [
           "2 Years of Learning Game Development - Decay"
          ],
          [
           "&#39;One Man&#39;s Freebie Is Another Man&#39;s Social Spending&#39;: Tamil Nadu Finance Minister | No Spin"
          ],
          [
           "Pence says he&#39;d consider testifying before Jan. 6 committee if invited"
          ],
          [
           "Cheney says she’s ‘thinking about’ running for president"
          ],
          [
           "See Obama&#39;s clever callback to Biden after he signs bill"
          ],
          [
           "Hear Bannon’s reaction to FBI search of Mar-a-Lago"
          ],
          [
           "BJP Slams Tamil Nadu Finance Minister Palanivel Thiagarajan For Questioning Centre On Freebies"
          ],
          [
           "TREASURE 🦀🦂 Best Action Movies 2022 🦀🦂 Latest Hollywood Action Movies"
          ],
          [
           "Champions Chess Tour: FTX Crypto Cup | Day 3 | Commentary by David, Jovanka, Kaja &amp; Simon"
          ],
          [
           "I Built MrBeast’s 100 Million Playbutton!"
          ],
          [
           "BEST UPCOMING MOVIES 2022 &amp; 2023 (Trailers)"
          ],
          [
           "Hackers tore apart voting machines. Here&#39;s what they found"
          ],
          [
           "Tamil Nadu Finance Min Palanivel Thiagarajan&#39;s Viral &amp; Fiery Retort To Modi Govt On Freebies"
          ],
          [
           "you need to learn SQL RIGHT NOW!! (SQL Tutorial for Beginners)"
          ],
          [
           "Friday Finance | Season 03 | Trailer | Web Series | Hindustan Times"
          ],
          [
           "Is the real estate market sliding into a &#39;house recession&#39;?"
          ],
          [
           "Caicedo? Pulisic? Casemiro? | Who are Manchester United interested in signing? ✍️🔴"
          ],
          [
           "He got an offer to join Trump&#39;s legal team. Hear why he turned it down"
          ],
          [
           "Rents are sky high, and Elon Musk&#39;s tweets cause a stir. Welcome to &#39;Nightcap&#39;"
          ],
          [
           "Pragg Beats Super GM in &quot;10 Moves&quot;!"
          ],
          [
           "iPhone 14 -  Apple Doesn&#39;t Care What You Think"
          ],
          [
           "Ex-Trump lawyer defends Trump against NYT report"
          ],
          [
           "Bible among challenged books school district is reviewing for removal"
          ],
          [
           "SHE-HULK Breakdown: Every Easter Egg and Marvel Reference in Episode 1"
          ],
          [
           "Chartmaster&#39;s Apple warning: &#39;Sell it all&#39;"
          ],
          [
           "Nightly News Full Broadcast - Aug. 17"
          ],
          [
           "Lifetime Movies 2022 #LMN Movies | New Lifetime Movies Based On True Story #1"
          ],
          [
           "$150K On The Line: Hikaru, Fabi, Nepo, and More Battle In Rapid Chess Championship Finals! | Day One"
          ],
          [
           "mukbang CRINGE compilation"
          ],
          [
           "ASMR MUKBANG BLACK BEAN FIRE NOODLES &amp; POPEYES CHICKEN SANDWICH COPYCAT | COOKING &amp; EATING ASMR"
          ],
          [
           "No One Has The Balls To Make This Nintendo Video, So I Will"
          ],
          [
           "Champions Chess Tour: FTX Crypto Cup | Day 4 | Commentary by David, Jovanka, Kaja &amp; Simon"
          ],
          [
           "Quadruplets Build Bunk Bed! / Dollhouse in Real Life"
          ],
          [
           "How To Work For MrBeast"
          ],
          [
           "Finance experts on the prospect of Sir Jim Ratcliffe buying a stake in Manchester United"
          ],
          [
           "Nightly News Full Broadcast - Aug. 18"
          ],
          [
           "Audiologist Answers Hearing Questions From Twitter | Tech Support | WIRED"
          ],
          [
           "PS5, Xbox Predictions for Gamescom - Next-Gen Console Watch"
          ],
          [
           "Judge says he may unseal portions of Trump search affidavit"
          ],
          [
           "Morning News NOW Full Broadcast - Aug. 19"
          ],
          [
           "New Releases, Updates, and Games Coming Soon | This Week on Xbox"
          ],
          [
           "Google Pixel 7 + Pixel 7 Pro Early Hands On"
          ],
          [
           "ULTIMATE SAT READING GUIDE TO IMPROVE YOUR SCORE 300 POINTS!"
          ],
          [
           "Ed Hyman: The Economy is Doing OK"
          ],
          [
           "Calm Your Anxiety 🍁Lofi Chill Mix - Lofi music for sleeping/study/relax/aesthetic"
          ],
          [
           "Apple security flaw could allow hackers full control of iPhones, iPads, Macs"
          ],
          [
           "Stocks moving in after hours: Bed Bath &amp; Beyond, Apple, Tesla, Walmart, Target"
          ],
          [
           "Apple says hackers may have exploited security flaws on iPhone, iPad, and Macs - BBC News"
          ],
          [
           "TOP 10 Chess Grandmaster CRUSHED In 10 Moves!"
          ],
          [
           "The Wild West Was As Wild As You Think - And &#39;Justice&#39; Was Often Even Worse"
          ],
          [
           "Fed: &#39;Things break&#39; when you start quantitative tightening, strategist says"
          ],
          [
           "Seven Steps to Financial Wellness | Arpit Arora | TEDxChowringhee"
          ],
          [
           "100 Chicas VS 100 Chicos por 500,000 Dólares"
          ],
          [
           "Cooper: We&#39;ve entered the &#39;perfect phone call&#39; phase of the Mar-a-Lago saga"
          ],
          [
           "SURVIVOR 🦀🦂 Best Action Movies 2022 🦀🦂 Latest Hollywood Action Movies"
          ],
          [
           "12 SURPRISINGLY Good Movies Included with Prime Video"
          ],
          [
           "Ukraine&#39;s Crimean fightback having &#39;psychological impact&#39; on Russia - BBC News"
          ],
          [
           "Trolling with Teleporters (Roblox Obby Creator)"
          ],
          [
           "Lifetime Movies (2022) #LMN Movies ~ New Lifetime 2022 Based On True Story"
          ],
          [
           "ዳርም የላት - New Ethiopian music 2022 - Nahom Mekuria - Darm yelat (Official video)"
          ],
          [
           "Eating Everything at Asia&#39;s Worst Fast Food Chain!! KFC Should Sue!!"
          ],
          [
           "Secret Hidden Oven Entrance to Epic GAMING FORT!"
          ],
          [
           "San Sebastian Food Tour - GIANT SCARLET PRAWNS 🦐 + Best Tortilla in Spain!! | Europe Food Paradise"
          ],
          [
           "Xbox Just REVEALED Big Official Updates On Xbox Series X Exclusives, Xbox GamePass And Free Games!"
          ],
          [
           "I Made 100 Players Survive Zombie Island Civilization in Minecraft..."
          ],
          [
           "Bournemouth v. Arsenal | PREMIER LEAGUE HIGHLIGHTS | 8/20/2022 | NBC Sports"
          ],
          [
           "Tottenham Hotspur v. Wolves | PREMIER LEAGUE HIGHLIGHTS | 8/20/2022 | NBC Sports"
          ],
          [
           "BIGGEST Winners &amp; Losers From Friday&#39;s NFL Preseason Slate I CBS Sports HQ"
          ],
          [
           "Reactions after Arsenal cruise past Bournemouth | Premier League | NBC Sports"
          ],
          [
           "Fulham v. Brentford | PREMIER LEAGUE HIGHLIGHTS | 8/20/2022 | NBC Sports"
          ],
          [
           "New satellite images debunk Putin&#39;s claim about nuclear plant"
          ],
          [
           "Piper Rockelle - Tea Party (Official Music Video) ♥️🫖♠️"
          ],
          [
           "Why Investors are Angry About Bed Bath &amp; Beyond ($BBBY)"
          ],
          [
           "Finance influencer talks social media, retail hacks, and what to know when you travel"
          ],
          [
           "Apple warns of security vulnerability in iPhones, iPads and Macs"
          ],
          [
           "Apple Announces Serious Security Flaw: Here’s How To Protect Your Data"
          ],
          [
           "Nightly News Full Broadcast - Aug. 19"
          ],
          [
           "Apple September 2022 Event - 8 Things to Expect!"
          ],
          [
           "Magnus Smiling Entire Game Against Alireza || FTX Crypto Cup (2022)"
          ],
          [
           "TOP 4 INSANE ALIEN ENCOUNTERS | The Proof Is Out There"
          ],
          [
           "Champions Chess Tour: FTX Crypto Cup | Day 6 | Commentary by Peter Leko &amp; Lawrence Trent"
          ],
          [
           "Why eggs are becoming more expensive, according to Vital Farms CEO"
          ],
          [
           "Apple urges users to update devices following security threats"
          ],
          [
           "India Today is a Miracle…But That Miracle is Under Threat—Tamil Nadu Finance Minister P Thiaga Rajan"
          ],
          [
           "Where the ultra-wealthy are allocating their assets: Survey"
          ],
          [
           "100 Filles Contre 100 Garçons Pour 500 000 $"
          ],
          [
           "Why did Britain Attack the Greeks in 1944? | Animated History"
          ],
          [
           "I Survived A Plane Crash"
          ],
          [
           "Why Most Google Employees Quit After 1.1 Years (On Average)"
          ],
          [
           "Champions Chess Tour: FTX Crypto Cup | Day 6 | Commentary by David, Jovanka, Kaja &amp; Simon"
          ],
          [
           "MUMEI DON&#39;T GOOGLE THAT"
          ],
          [
           "HOW TO GET THESE HIDDEN ROBLOX FACES 🤩"
          ],
          [
           "The History Of Chess: A Reflection Of Us"
          ],
          [
           "Why The Education System Is Failing America | CNBC Marathon"
          ],
          [
           "Leeds United v. Chelsea | PREMIER LEAGUE HIGHLIGHTS | 8/21/2022 | NBC Sports"
          ],
          [
           "Newcastle United v. Manchester City | PREMIER LEAGUE HIGHLIGHTS | 8/21/2022 | NBC Sports"
          ],
          [
           "Google’s Most Advanced Robot Brain Just Got a Body"
          ],
          [
           "&quot;WE DONE IT BABY! 🇬🇧🇯🇲🏆 EPIC POST-FIGHT SCENES as Leon Edwards Becomes UFC Welterweight Champion"
          ],
          [
           "West Ham United v. Brighton | PREMIER LEAGUE HIGHLIGHTS | 8/21/2022 | NBC Sports"
          ],
          [
           "Americans Are Angry And Worried About U.S. Future, New NBC News Poll Shows"
          ],
          [
           "Microsoft&#39;s HUGE plans for Xbox! We can&#39;t stop it"
          ],
          [
           "The History Of Chess: A Reflection Of Us"
          ],
          [
           "Somebody Is Trolling This Pastor And It IS SO FUNNY"
          ],
          [
           "See Crenshaw&#39;s reaction to Marjorie Taylor Greene calling to defund FBI"
          ],
          [
           "Solvathellam unmai troll|latest Tamil troll|TMM"
          ],
          [
           "Daughter of Russian ultra-nationalist killed in suspected car bomb attack"
          ],
          [
           "18 Million Under Flood Alerts Nationwide"
          ],
          [
           "KILLER PORK SINIGANG MUKBANG"
          ],
          [
           "Inside the war in Ukraine, 6 months since Russia invaded"
          ],
          [
           "SML Movie: Jeffy&#39;s 18th Birthday!"
          ],
          [
           "Champions Chess Tour: FTX Crypto Cup | Day 7 | Commentary by David, Jovanka, Kaja &amp; Simon"
          ],
          [
           "Can you open this cube? Ft. @ZHC"
          ],
          [
           "Champions Chess Tour: FTX Crypto Cup | Day 7 | Commentary by Peter Leko &amp; Lawrence Trent"
          ],
          [
           "Ultimate Showdown || Carlsen vs Praggnanandhaa || FTX Crypto Cup (2022)"
          ],
          [
           "Food Theory: The Pink Sauce Mystery SOLVED (TikTok)"
          ],
          [
           "Lifetime Movies 2022 #LMN Movies | New Lifetime Movies Based On True Story #6"
          ],
          [
           "I Got Banned For Trolling Racists In Gmod RP"
          ],
          [
           "The Nintendo Switch BIGGEST SECRET Has Finally Been Revealed...."
          ],
          [
           "Brian Stelter speaks about cancellation of his CNN show &#39;Reliable Sources&#39;"
          ],
          [
           "Food prices, gas and housing: Financial content creator weighs in"
          ],
          [
           "Ethereum merge: ‘This is a huge milestone for the industry,’ Framework Ventures co-founder says"
          ],
          [
           "Hilariously FAKE Minecraft Speedruns..."
          ],
          [
           "Mohamed El-Erian predicts Fed moves and the housing market: August 21, 2013"
          ],
          [
           "20 Minecraft Block Facts You Maybe Didn&#39;t Know"
          ],
          [
           "20 Minecraft Block Facts You Maybe Didn&#39;t Know"
          ],
          [
           "What in FORTNITE is DRAGON BALL Z?! (Quests) K-CITY GAMING"
          ],
          [
           "Top 10 Marvel karakter, akiket valódi emberekről mintáztak"
          ],
          [
           "How to Write Less but Say More | Jim VandeHei | TED"
          ],
          [
           "Deadly car bomb detonates outside Moscow"
          ],
          [
           "Potential mass shooting foiled in Washington state"
          ],
          [
           "HOW TO: EASY EVERYDAY FALL MAKEUP TUTORIAL! - Tips, Tricks &amp; Techniques for Beginners!"
          ],
          [
           "3 WINS AGAINST MAGNUS CARLSEN!!"
          ],
          [
           "5 Years Of Learning Game Development"
          ],
          [
           "Recession fears? Canadians cutting spending, worried about debt levels | Financial planner reacts"
          ],
          [
           "Dobol B TV Livestream: August 22, 2022 - Replay"
          ],
          [
           "겉바속촉 🔥 곱창 통 대창 염통 3종세트 먹방 Crunchy Beef Intestines Daechang Korean Buldak Ramen Mukbang ASMR Ssoyoung"
          ],
          [
           "BITCOIN 4 YEAR LOW ON EXCHANGES. FTX UP 1000% &amp; VOYAGER WANTS A BONUS?"
          ],
          [
           "19 Year-Old Starts a Trucking Business"
          ],
          [
           "Si SQUIDWARD At Si DREAM Nandito Sa ROBLOX BACKROOM MORPHS!!?"
          ],
          [
           "ASMR Gaming 😴 Fortnite Tryhard Squad Win! Relaxing Gum Chewing 🎮🎧 Controller Sounds 💤"
          ],
          [
           "SEAFOOD MUKBANG | KING CRAB SEAFOOD BOIL MUKBANG | CHEESY ALFREDO SAUCE | ASMR EATING | ASMR FOOD"
          ],
          [
           "Market Drops 📉 NFTs in Trouble 😱 FDIC Issues Warnings ⚠ (Crypto This Week! 🗓👀) #CryptoNews"
          ],
          [
           "This Budget Gaming Laptop Can’t Be Beat!"
          ],
          [
           "Roblox - BẤT NGỜ KHI GAME NARUTO CÓ SỨC MẠNH TRÁI ÁC QUỶ HITO MODEL NIKA CỦA LUFFY - Shindo Life"
          ],
          [
           "&quot;They can ******* play football…sorry&quot;😅 | Erik ten Hag reacts to his first Manchester United win"
          ],
          [
           "KING CRAB LEGS + LOBSTER TAILS + GREEN LIP MUSSELS ,  SEAFOOD BOIL MUKBANG 먹방쇼"
          ],
          [
           "Manchester United v. Liverpool | PREMIER LEAGUE HIGHLIGHTS | 8/22/2022 | NBC Sports"
          ],
          [
           "Nintendo Switch accessories you NEED!"
          ],
          [
           "Easy Fluffy Miniature Strawberry Pancake Recipe | ASMR Cooking Mini Food &amp; Satisfying Video"
          ],
          [
           "Saints Row: Performance Review PS5 vs Xbox Series X|S vs PC vs Xbox One X"
          ],
          [
           "Coldplay Greatest Hits Full Album 2022 - Coldplay Best Songs Playlist 2022"
          ],
          [
           "Manchester United v. Liverpool LIVE postgame Q&amp;A | Premier League | NBC Sports"
          ],
          [
           "Music Mix 2022 🎧 EDM Remixes of Popular Songs 🎧 EDM Gaming Music Mix ​"
          ],
          [
           "shiey - settle down (Music Video)"
          ],
          [
           "اصعب لعبة جوال تخليك تعصب ضحك وتحشيش"
          ],
          [
           "No Consideration of Charges for UPI Services | Cleared Finance Ministrer Nirmala |"
          ],
          [
           "Leon Edwards’ Emotional First Interview Since Shocking the World at UFC 278 - MMA Fighting"
          ],
          [
           "Tech firms can&#39;t hide behind advertising rules with financial products, says CFPB chief"
          ],
          [
           "Housing: ‘This might be almost the worst time you could buy,’ Columbia Business School Professor C"
          ],
          [
           "How Bubblegum Is Made!"
          ],
          [
           "iPhone 14 - what can we expect?! Rumors and more!"
          ],
          [
           "Forget the iPhone 14 - 2023 changes EVERYTHING!"
          ],
          [
           "NLE Choppa on Beef with Vlad, &quot;Snake Oil Salesman&quot;, NBA YoungBoy, King Von, 2Pac (Full Interview)"
          ],
          [
           "The European Energy CRISIS (Winter Is Coming)"
          ],
          [
           "Urgent! If You Hold ANY Crypto WATCH NOW! Terra Luna Classic Recovery!"
          ],
          [
           "Bitcoin 4 Year Cycle Prediction - This May Change Your Mind On BTC"
          ],
          [
           "LEAKED Gameplay for New Xbox Games - Dead Island 2 | RedFall &amp; Gamescom 2022 Event Xbox News Cast 66"
          ],
          [
           "For My Soul | Deep Chill Music Mix"
          ],
          [
           "ATTN: BITCOIN HODLERS!!!!!! LOOK WHAT’S HAPPENING!!!!🚨WARNING!!!! 72 HRS MAXIMUM!!!!!!!!"
          ],
          [
           "Reloading a Controller: Xbox vs. Playstation"
          ],
          [
           "More people use weed than tobacco in the US, new poll reveals"
          ],
          [
           "Sonic Frontiers - Story Trailer"
          ],
          [
           "Why did I order 3000 Rubik&#39;s cubes?"
          ],
          [
           "FORZA HORIZON 2 FINALMENTE NO PC! (FICOU INCRÍVEL)😱 | Emulador de Xbox 360"
          ],
          [
           "speed up tiktok audios that are such a vibe"
          ],
          [
           "Relaxing Whiskey Blues Music | Beautiful Relaxing Blues Ballads | Best Compilation Blues Music"
          ],
          [
           "yvngxchris - GUNNINHIMDOWN [Dir. by @DotComNirvan]"
          ],
          [
           "Ray J Talks Justin Bieber Beef,  Raycon Earbuds, B2K, RSVP Group, Shaves Chest Hair"
          ],
          [
           "How the Great Pyramids were Built | Big History (S1, E5) | Full Episode"
          ],
          [
           "Music Mix 2022 🎧 Remixes of Popular Songs 🎧 EDM Gaming Music Mix"
          ],
          [
           "Lies of P - Gameplay Reveal"
          ],
          [
           "The Mystery Of The 2,000,000 Year Old Human Remains | Mystery Of Our Ancestors | Timeline"
          ],
          [
           "HUGE MARVEL STUDIOS D23 REVEALS! New Phase 6 Films and Casting Rumors D23 Preview"
          ],
          [
           "Backrooms - Missing Tapes"
          ],
          [
           "Why Marvel Phase Four Sucks!"
          ],
          [
           "Best Reggae Music Hits 2022 - Best Reggae Popular Songs 2022-- BEST ENGLISH REGGAE LOVE SONGS 2022"
          ],
          [
           "Coldplay Greatest Hits Full Album Playlist - The Best Of Coldplay Nonstop New Songs"
          ],
          [
           "Troye Sivan - Angel Baby💦New OPM Love Song 2022 Aug💦Top 100 Rap OPM Songs💦Kumpas, Kagome, KG x Moira"
          ],
          [
           "É OFICIAL! IPHONE 14 CHEGA DIA 7 DE SETEMBRO -  VEJA TUDO SOBRE ELE E ATÉ O PREÇO"
          ],
          [
           "10Percent &amp; Moneybagg Yo - Major Payne [Official Music Video]"
          ],
          [
           "More than 100 classified Trump docs recovered from Mar-a-Lago in January"
          ],
          [
           "🔴 URGENT Bitcoin Shocking Trend for Big Profit | Crypto News Today"
          ],
          [
           "차돌짬뽕 스타일로 끓여 만든 차돌 라면!! (Hot spicy instant noodles with Beef brisket) 요리&amp;먹방!! - Mukbang eating show"
          ],
          [
           "The FIRST 42-inch OLED Gaming Monitor - PG42UQ"
          ],
          [
           "My New House Gaming Setup is SICK!"
          ],
          [
           "The Office - 2x2 Sexual Harassment - Group Reaction"
          ],
          [
           "Petrol Vs Liquid Nitrogen | Freezing Experiment | പെട്രോളിനെ ഐസ് ആകാൻ പറ്റുമോ | M4 Tech |"
          ],
          [
           "Mylta Power Station Long drive &amp; Night Food Party Vlog | RON GAMING VLOGS"
          ],
          [
           "Sonic Frontiers - Story Trailer - Nintendo Switch"
          ],
          [
           "Google reports customer to police for pedo behavior over doctor photos: THIS is why privacy MATTERS!"
          ],
          [
           "Large BITCOIN Wallets are BUYING, what do they KNOW? Crypto News Today"
          ],
          [
           "Evolution Of Thomas The Tank Engine on Google Earth!"
          ],
          [
           "Spring Roll Spicy Noodles | MUKBANG"
          ],
          [
           "LEGO Star Wars: The Skywalker Saga Nintendo Switch NEW PATCH Review!"
          ],
          [
           "Nintendo&#39;s Big Switch Reveal Means No Direct? + PSVR 2 Coming Soon!"
          ],
          [
           "Urgent: How to Adjust for Google&#39;s New Update"
          ],
          [
           "This &quot;Nintendo Switch Lite OLED PRO&quot; can play ANYTHING!"
          ],
          [
           "BACK TO SCHOOL HAIR TUTORIAL! | Elementary, Middle, and High School!"
          ],
          [
           "Gary Owen Opens Up About His Divorce From Kenya Duke, Falling Out With His Kids, Healing + More"
          ],
          [
           "GTA 5 ONLINE : RAMP BUGGY VS DRAUGUR (WHICH IS BEST OFF ROAD VEHICLE?)"
          ],
          [
           "15 Kilo Zayıf Gösteren Kız Makyajı |Arkadaşlarımla Çin Restorantı ve Canlı Müzik Vlog"
          ],
          [
           "ASMR Big Food, Medium Food VS Small Food Mukbang Challenge"
          ],
          [
           "NO STREAM FOR 3 DAYS | KYA AAJ 35 KILLS HONGE | GODL LoLzZz | BGMI LIVE"
          ],
          [
           "Nintendo BIG ANNOUNCEMENT Revealed Just Now…"
          ],
          [
           "MUKBANG 새우치킨 사이드 전메뉴 먹방! Korean Fried Chicken 멕시카나 신메뉴 치킨 소떡소떡 새우링 EATING SHOW | HIU 하이유"
          ],
          [
           "Strange food, crocodile head, sheep head, roast pig| Chinese Food Eating Show | Funny Mukbang ASMR"
          ],
          [
           "HILARIOUS WHO KNOWS ME BETTER (COUSIN VS. WIFE ) + HOMEMADE CHICKEN ENCHILADAS MUKBANG CHALLENGE!"
          ],
          [
           "Jerome Powell About To CRASH The Market?! This Can Move Crypto! (New Home Buyers Should Get Ready)"
          ],
          [
           "Best EDM Music Mix 2022 ♫ Top NCS Gaming Music ♫ Best EDM Remixes, Trap, House, Dubstep"
          ],
          [
           "US Citizenship Interview 2022 | 2008 Version U.S Naturalization Interview | N-400 with Mr. Yong Kang"
          ],
          [
           "Guy Fieri Eats Barbecue from a Baltimore Food Truck | Diners, Drive-Ins and Dives | Food Network"
          ],
          [
           "CONHEÇA O PINK DO RAINBOW FRIENDS NO MINECRAFT !! ( RAINBOW FRIENDS  )"
          ],
          [
           "Happy Morning Music - Positive Feelings and Energy - Relaxing Morning Meditation Music For Wake Up"
          ],
          [
           "Music Mix 2022 🎧 Best Remixes of Popular Songs 🎧 EDM Gaming Music Playlist"
          ],
          [
           "History of Abomination"
          ],
          [
           "Monster School : I am Fearless...Bad Mother Herobrine - Sad Story - Minecraft Animation"
          ],
          [
           "Your Hair is visible AIR [ASMR] Hairdresser Roleplay"
          ],
          [
           "UP News: कहा गायब हो गया Abbas Ansari ? 7 राज्यों में पुलिस की आधा दर्जन टीमें कर रही तलाश"
          ],
          [
           "Shotzzy Trolling Karma! 🤣"
          ],
          [
           "THEMURAT VS MINECRAFT #159"
          ],
          [
           "TROLLING AS AN HR AT VINNS HOTELS!!! - ROBLOX Trolling!!"
          ],
          [
           "Trolling TOP PLAYERS with an IMPOSSIBLE CHALLENGE"
          ],
          [
           "BastiGHG vs. NEUE ENDBOSSE (EVIL BASTIGHG)"
          ],
          [
           "Trolling The Angry Admins Of Gmod Pony RP"
          ],
          [
           "I GIRL Voice Trolled Andrew Tate&#39;s BIGGEST Fan.."
          ],
          [
           "Jail for Najib as Federal Court upholds ex-PM’s conviction"
          ],
          [
           "Why Did Prehistoric People Make Cave Paintings? | Footprints of Civilisation | Absolute History"
          ],
          [
           "TROLLING SALTY KIDS in GTA 5 RP"
          ],
          [
           "Najib ke penjara, Mahkamah Persekutuan kekal sabitan"
          ],
          [
           "Trolling ANGRY OLD MEN On Zoom!"
          ],
          [
           "Bunk Bed for Triplets / Emerald Girl, Ruby Girl and Diamond Girl"
          ],
          [
           "FIDE Dunks On Magnus? Why Do They Hate Online Chess?"
          ],
          [
           "The 4 WORST Chess Openings"
          ],
          [
           "Intel, Brookfield ink $30 billion financing deal for chip factory expansion"
          ],
          [
           "Trump legal team trying to stop Department of Justice from reviewing records seized from Mar-a-Lago"
          ],
          [
           "HOW THE WORLD TURNED ON THIS DAY #royalfamily #history #popculture"
          ],
          [
           "Stocks moving in after hours: Nordstrom, Urban Outfitters, Intuit, Toll Brothers, AMC and APE"
          ],
          [
           "iPhone 14 Event = RUINED! FIRST LOOK at EVERYTHING! iPhone 14 Pro, Apple Watch S8 + ONE MORE THING!"
          ],
          [
           "Morning News NOW Full Broadcast - Aug. 23"
          ],
          [
           "Opening Prep Is Useless… Vidit, Bok, Hansen, and More in Fischer Random KO! | Qualifier One"
          ],
          [
           "ABC News Live: Trump files motion to bar review of materials seized from Mar-a-Lago"
          ],
          [
           "T. Raja Singh News: T. Raja Singh को जमानत मिली, टी राजा ने दिया था विवादित बयान| Latest News"
          ],
          [
           "ASMR Medical Triggers On Your EARS (Up Close Sounds, Tingles, Sleep, Study, Intense)"
          ],
          [
           "Why Netflix is Now Making Video Games"
          ],
          [
           "My New House Gaming Setup is SICK!"
          ],
          [
           "World&#39;s Most Dangerous Fruit"
          ],
          [
           "5 &quot;Shocking&quot; Events that Destroyed Ancient Egypt"
          ],
          [
           "Tonnenweise GANZ NEUE Games, Monkey Island 5 Release uvm. - Opening Night Live | gamescom 2022"
          ],
          [
           "When you Don&#39;t get Pen, Pineapple, Apple, Pen : 🙄"
          ],
          [
           "Planning our Halloween theme!! Last year Marvel!! This year ?!"
          ],
          [
           "ASMR FR: Roleplay🤵‍♂️espion🤵‍♂️(tu as une mission sur la Lune !?)"
          ],
          [
           "35 Rare Shocking and Heartbreaking Historical Photos You Wont Find In History Books! EP2"
          ],
          [
           "When Andrew Tate catches you watching Marvel🤣 #shorts"
          ],
          [
           "Bionic Avengers Bad On Defense? - Masters Cosmic Crucible Round 1 - MARVEL Strike Force - MSF"
          ],
          [
           "[ASMR] 전문가의 페스티벌 메이크업 리얼 사운드✨"
          ],
          [
           "The best and worst retail trading platforms: Finance professor"
          ],
          [
           "ASMR Follow My Instructions 💗 (very lofi) (gentle background noise)"
          ],
          [
           "FERİTED VS MİNECRAFT #305"
          ],
          [
           "THE ROCK quiere DC VS MARVEL, con quién se acostó CAPITÁN AMÉRICA, vuelve PUNISHER, EZRA pide perdón"
          ],
          [
           "ASMR- CABELEIREIRA GROSSEIRA E APRESSADA DANDO UM TRATO NO SEU CABELO (CORTE, CREME,PENTE,ETC)"
          ],
          [
           "Backwoods | FULL MOVIE | 2008 | Horror, Slasher, Haylie Duff"
          ],
          [
           "ASMR Slow to Fast (wet/dry) Mouth Sounds EXTRA Sensitivity for Ultimate Tingles"
          ],
          [
           "10 MYSTERIOUS Historical Places You&#39;ve Never Heard Of!"
          ],
          [
           "Gaming Memes Only True Gamers Understand 84 #Memes #shorts"
          ],
          [
           "ASMR: sentando ao seu lado no AVIÃO ✈️  te ajudando a dormir delicadamente!"
          ],
          [
           "Gary Cooper, Anthony Perkins | Full War, Western Movie | Full Length | Friendly Persuasion English"
          ],
          [
           "GENTLE ASMR FOR INSTANT RELAXATION 💤 Hair Straightening, Spraying, Brushing, Hair Play (no talking)"
          ],
          [
           "ASMR MUKBANG 편의점 핵불닭 미니!! 떡볶이 &amp; 핫도그 &amp; 치즈 피자 FIRE Noodle &amp; HOT DOG &amp; CHEESE PIZZA EATING SOUND!"
          ],
          [
           "Sterling Hayden, Sebastian Cabot | Full Western Movie | Wild West | Terror in a Texas Town English"
          ],
          [
           "Tapper: Republicans take credit for bills they opposed"
          ],
          [
           "New Lifetime Movies 2022 - African American  #LMN Movies 2022 | Based On True Story #104"
          ],
          [
           "New Lifetime Movies (2022) #LMN Movies | Based On True Story (2022)"
          ],
          [
           "🎧ASMR for People Who Want to Tingle Without Earphones / NO TALKING"
          ],
          [
           "Spicy Chicken Piccata | Home Movies with Alison Roman"
          ],
          [
           "When Your Rubik’s Cube is IMPOSSIBLE…"
          ],
          [
           "Apple Pay Is Killing the Physical Wallet After Only Eight Years | Tech News Briefing Podcast | WSJ"
          ],
          [
           "China&#39;s Economic CRASH: Why It&#39;s Coming &amp; What It Means"
          ],
          [
           "Charlie Sykes: GOP Candidates Transform Politics Into An ‘Unserious Business’"
          ],
          [
           "Attention: Bitcoin is About to Destroy New Crypto Investors (Wyckoff Analysis)"
          ],
          [
           "CONSTANTINE (2005) MOVIE REACTION!! First Time Watching! Keanu Reeves | John Constantine DC"
          ],
          [
           "🔥5 CRYPTO COINS TO DCA SOON &amp; MAKE F*** YOU MONEY?! (URGENT!)"
          ],
          [
           "Vocal Coaches React To: Ave Maria | Dimash Kudaibergen"
          ],
          [
           "House of the Dragon 1x01 Reaction"
          ],
          [
           "WORST Housing Crash JUST STARTED! Life Changing Crypto Deals Incoming!"
          ],
          [
           "I got sued"
          ],
          [
           "House of the Dragon S1x1 Burlington Bar REACTION Part 2!"
          ],
          [
           "How to Beat the SMART FISH in COLD SKIN"
          ],
          [
           "Bang Bang Title Track Reaction by Foreigners | Hrithik Roshan, Katrina Kaif | Vishal Shekhar Benny D"
          ],
          [
           "ตลาดถุงมือยางทรุด! ฉุดราคาร่วงลงทุนหด | BUSINESS WATCH | 23-08-65"
          ],
          [
           "Hyped and Crying for &quot;TOP GUN: MAVERICK&quot; (2022) Reaction &amp; Commentary"
          ],
          [
           "The Incredible New Way to Poach Eggs that NEVER Fails | Epicurious 101"
          ],
          [
           "I found SECRET ROAD to OBUNGA PLANET in MINECRAFT animation! THE MAN FROM WINDOW Scooby"
          ],
          [
           "House of the Dragon S1x1 Burlington Bar REACTION Part 1!"
          ],
          [
           "RYAN GEORGE | The First Guy To Ever Scuba Dive | REACTION!!"
          ],
          [
           "Azadi - A Tribute To India&#39;s Great Freedom Fighters | Narrated By Annu Kapoor | REACTION!!!"
          ],
          [
           "6 Hilarious Business Ideas That Could Make You $1,000,000 in 2022 (#351)"
          ],
          [
           "Coinbase CEO Brian Armstrong on managing the crypto winter"
          ],
          [
           "NO MORE A FAMILY FRIENDLY VLOGGER | LAKSHAY CHAUDHARY"
          ],
          [
           "Waleska &amp; Efra react to Pawandeep Rajan for the first time in Indian Idol"
          ],
          [
           "K- Trap - Spoilt (Official Video) (REACTION)"
          ],
          [
           "Boycott Urfi Javed &amp; Cringe Instagram Reelers? 😂 #6"
          ],
          [
           "Top Crypto Experts On Ethereum Merge! (DXY vs Bitcoin)"
          ],
          [
           "Twitter whistleblower slams company&#39;s alleged security problems"
          ],
          [
           "Every State Ranked by Education. (All 50 US States)"
          ],
          [
           "House of the Dragon Episode 1 REACTION! | 1x1 &quot;The Heirs of the Dragon&quot;"
          ],
          [
           "The NFL Experience with Kai Nacua and Tyler Allgeier | BYU Sports Nation Full Episode 8.23.22"
          ],
          [
           "Pakistani Couple Reacts to Ratsasan Trailer | Ratsasan vs Cuttputlli Comparison |  Vishnu Vishal"
          ],
          [
           "WAVE COUNT FAVORS UP, as Crypto Market and Bitcoin Pause with Stock Market Elliott Waves Deep Dive"
          ],
          [
           "Reactions after Manchester United take down Liverpool | Premier League | NBC Sports"
          ],
          [
           "CONSEGUI NOVOS TOTENS COM SUPER PODERES NO MINECRAFT!!"
          ],
          [
           "MAJOR Indicator Flashes | But What Does It Mean For Bitcoin?"
          ],
          [
           "CHENNAI EXPRESS | Tangaballi Singing Along DEEPIKA PADUKONE &amp; SHAH RUKH KHAN | Movie Scene REACTION!"
          ],
          [
           "BITCOIN BREAKOUT IN 48 HOURS!!!!! I&#39;M SHAKING!!!!!"
          ],
          [
           "CRYPTO ABOUT TO REACT TO ECONOMIC COLLAPSE"
          ],
          [
           "Why Royal Quinoa is So Expensive | So Expensive Food | Business Insider"
          ],
          [
           "THIS MARKET IS EXTREMELY DEADLY WITHOUT A PLAN...HERE&#39;S MINE"
          ],
          [
           "Rich Gamer Vs Broke Gamer"
          ],
          [
           "Warren Buffet Hates Bitcoin! (How PMI Affects Crypto)"
          ],
          [
           "How To Stop Overthinking"
          ],
          [
           "Funniest ANIMAL Videos!! 😹 (Ultimate Compilation of Funny PETS) 😻"
          ],
          [
           "NOT THE DRESS!!! | Extraordinary Attorney Woo 이상한 변호사 우영우 Episode 2 Reaction"
          ],
          [
           "How To Sell On Amazon As A Beginner Under 15 Minutes"
          ],
          [
           "Top Gun: Maverick (2022) REACTION"
          ],
          [
           "Minecraft but you can CHOOSE YOUR YOUTUBER..."
          ],
          [
           "Incredibly CURSED Minecraft Mods"
          ],
          [
           "I CAUGHT KARL the Haunted Car in The Long Drive Mods?!"
          ],
          [
           "Bill Burr DESTROYS FEMINISM &amp; WOMEN SPORTS REACTION"
          ],
          [
           "How Pratham Mittal Is Fixing Indian Business Education?"
          ],
          [
           "Mt. Gox - Bitcoin to $10,000 ?"
          ],
          [
           "this is not good...but will it effect bitcoin?"
          ],
          [
           "Try Not To Laugh | Hodgetwins | Kevin Ruining Videos [#5] Ultimate Montage | Reaction!"
          ],
          [
           "FRIDAY IS A &quot;MASSIVE&quot; DAY FOR CRYPTO! FIND OUT WHY!"
          ],
          [
           "all eyes on these two...what will they do to bitcoin and markets?"
          ],
          [
           "HOUSE OF THE DRAGON | EPISODE 1 THE HEIRS OF THE DRAGON | REACTION AND REVIEW | GAME OF THRONES"
          ],
          [
           "How To ACTUALLY Get FREE Robux In Roblox! *EASY*"
          ],
          [
           "Monster School : BABY MONSTERS GIANT RUSH RUN CHALLENGE 3 - Minecraft Animation"
          ],
          [
           "New PS4 &amp; PS5 Games This Week"
          ],
          [
           "CO ROBI BOBO na MOIM KOMPUTERZE o 3:00 w NOCY gdy ŚPIĘ w PRAWDZIWYM ŻYCIU? 😰"
          ],
          [
           "Netanyahu: This will make the Middle East a nuclear powder keg"
          ],
          [
           "Tshepiso Ramotsehoa | Life Story | Business Coaching | Government |  Education | Youth | Women"
          ],
          [
           "HOW TO GET THE &quot;DECIMATOR SHIELD&quot; in &quot;The Archon&quot; - Vanguard Zombies"
          ],
          [
           "Chess.com Buys Play Magnus!!! (+ Awesome Game)"
          ],
          [
           "I OPENED MY OWN ARCADE SHOP"
          ],
          [
           "Breaking News: Jharkhand के CM Hemant Soren के करीबी पर ED ने कसी नकेल | Prem Prakash | Ranchi News"
          ],
          [
           "A Make-Over by Amy Rose (Sonic ASMR)"
          ],
          [
           "SAT AUGUST LAST MINUTE TIPS!"
          ],
          [
           "ASMR Realistic Shoe Store (Soft Spoken, Personal Attention)"
          ],
          [
           "[UPDATE] How to get ALL 5 NEW BACKROOMS MORPHS in Backrooms Morphs | Roblox"
          ],
          [
           "АСМР 🤤❤️ СПОРИМ ТЫ УСНЕШЬ за 10 минут? 😴 ASMR I&#39;ll Help You Fall Asleep in 10 Minutes"
          ],
          [
           "JORNAL DA MANHÃ - 24/08/2022"
          ],
          [
           "ASMR Doing Your Makeup For A Date 💕"
          ],
          [
           "Best Chess Opening for White After 1.e4 | Scotch Gambit Traps"
          ],
          [
           "Endgame closure | CM Crevatin Leo - IM Yuri Lapshun | Blitz chess"
          ],
          [
           "FINALS: Can Fedoseev Stop Hansen’s Undefeated Finals Run? Fischer Random Championship | Qual. 1"
          ],
          [
           "ROBLOX ATHLETES TYCOON"
          ],
          [
           "Elefante38 IMPRESSIONA SUPER GM!"
          ],
          [
           "How Data Science Helps Small Businesses"
          ],
          [
           "Chess.com Makes Offer To Play Magnus Group"
          ],
          [
           "BINANCE JUST SCORED A HUGE WIN FOR CRYPTO ADOPTION! [The Afternoon Brew]"
          ],
          [
           "🔴 Live at 8 ප්‍රධාන ප්‍රවෘත්ති විකාශය - 2022-08-24"
          ],
          [
           "TESTING Viral Minecraft Build Hacks That Actually Work"
          ],
          [
           "Why did THESE VILLAGERS BURIED ME ALIVE in Minecraft ? HOW TO SURVIVE UNDERGROUND ?"
          ],
          [
           "Funny animals - Funny cats / dogs - Funny animal videos 222"
          ],
          [
           "Raoul Pal Update: Time Is Running Out &amp; Crypto Will Not Recover Untill It Happens"
          ],
          [
           "Andrew Tate Trolling The World!"
          ],
          [
           "4K ASMR | Pulling, Snipping, Tweezing, Removing Anxieties &amp; Stress"
          ],
          [
           "BITBOY CRYPTO SUES @Atozy  CRAZY CRYPTO STORY"
          ],
          [
           "Please Stalemate Me"
          ],
          [
           "Critical Ethereum Bug (Bitcoin Struggles for Momentum)"
          ],
          [
           "🚨 39 Days Until Europe’s Economic Death 🚨  [Russia Gas Crisis]"
          ],
          [
           "ASMR The Sleepiest Session 🌧 Rainy Evening Whispers &amp; Personal Attention for Sleep"
          ],
          [
           "trolling salty roleplayers on gmod police rp"
          ],
          [
           "🔴 Live at 12 ප්‍රධාන ප්‍රවෘත්ති විකාශය - 2022-08-24"
          ],
          [
           "48 HOURS UNTIL THE CRYPTO MARKET &quot;KNOWS!&quot; (CRUCIAL TIME FOR CRYPTO!)"
          ],
          [
           "One Asset Is About To Smash Bitcoin | Can You Still Invest?"
          ],
          [
           "GET READY FOR 25th-27th AUGUST !!!"
          ],
          [
           "is the BITCOIN crash almost over or is it just getting started? Crypto News Today"
          ],
          [
           "1.19.21 OUT NOW - New Cape &amp; Mob Vote?"
          ],
          [
           "Bed Bath &amp; Beyond is a &#39;JCPenney 2,&#39; says Jim Cramer"
          ],
          [
           "STOCKFISH CRUSHES... Stockfish?!"
          ],
          [
           "John Dean: National Archives letter ‘very damning’ for Trump people"
          ],
          [
           "අද දෙරණ 6.55 ප්‍රධාන පුවත් විකාශය -  2022.08.24| Ada Derana Prime Time News Bulletin"
          ],
          [
           "Funny Troll Football Memes V183"
          ],
          [
           "THIS WILL SHOCK EVERYONE!!!!!"
          ],
          [
           "【ライブ】最新ニュース：ウクライナ侵攻から半年/ロシア軍ミサイル攻撃の可能性/プーチン氏に近い思想家の娘 爆発死/サルVS山羊/渋谷ホテルで火災/母娘刺傷続報　など（日テレNEWSLIVE）"
          ],
          [
           "🔥 TOP 5 CRYPTO EXPLOSIVES QUE PERSONNE NE VOIT ? 👑 Analyse Bitcoin FR ⚡"
          ],
          [
           "Zee Hindustan Live News: Attack On Nitish Kumar Convoy | Bihar News | Tejashwi Yadav |Bihar Politics"
          ],
          [
           "🔴 හිරු රාත්‍රී 6.55 ප්‍රධාන ප්‍රවෘත්ති ප්‍රකාශය - Hiru TV NEWS 6:55 PM Live | 2022-08-24"
          ],
          [
           "TOP 5 BEST GAMING PHONE UNDER 15,000/- RS FOR PUBG &amp; BGMI | GAMING PHONE UNDER 15k FOR PUBG &amp; BGMI"
          ],
          [
           "AWW SO CUTE! Cutest baby animals Videos Compilation Cute moment of the Animals - Cutest Animals #21"
          ],
          [
           "Why Casemiro Is The PERFECT Transfer! | Interview With Semra Hunter"
          ],
          [
           "Mossbag Interview: Kickstarter for New Game - Titan Shell. And Silksong Speculation"
          ],
          [
           "OnePlus 10R vs 10T | Unboxing &amp; Comparison"
          ],
          [
           "Eu sobrevivi 100 DIAS como GODZILLA no Minecraft HARDCORE!"
          ],
          [
           "ALIENS THREATEN GLOBAL INVASION | Countdown to Armageddon"
          ],
          [
           "Racist AI Rapper Gets Bounced From The Music Business"
          ],
          [
           "What Happened Immediately After Hitler&#39;s Death"
          ],
          [
           "Education should be a right for all, not a privilege for the few."
          ],
          [
           "8 Things People get Wrong about the U.S. Military"
          ],
          [
           "helping a homeless woman, starting an online business as a 17 year old (coaching livestream)"
          ],
          [
           "Liger Day 1 Advance Booking &amp; Pre Release Business | Vijay Deverakonda"
          ],
          [
           "What Is The Best Position For Descending? | GCN Tech Clinic"
          ],
          [
           "bitcoin holders...what are these guys up to?"
          ],
          [
           "Twitter Whistleblower Accuses Company of Privacy, Security Issues | Tech News Briefing Podcast | WSJ"
          ],
          [
           "SLOW HORSES en APPLE TV"
          ],
          [
           "iPhone 14 Lineup is NOT what you Expected.. (plot twist)"
          ],
          [
           "20 हजार रोज कमाकर देगी ये मशीन 🔥| New Business Ideas 2022 | Small Business Ideas, New Business Ideas"
          ],
          [
           "Android 13 vs Android 12: What google didn&#39;t tell YOU!"
          ],
          [
           "ఇది కదా మనకి కావలసింది👌 | Mind Blowing Interview Between Sukumar &amp; Puri Jagannadh About Tollywood"
          ],
          [
           "The most EXPENSIVE thing I own."
          ],
          [
           "Minecraft wait what meme part 281 (Yoshie NextBot)"
          ],
          [
           "Teaching Preston How To LADDER CLUTCH in Minecraft Bedwars..."
          ],
          [
           "O Vídeo Mais Visto de Minecraft!"
          ],
          [
           "Cala Maria&#39;s Song but Every Word is a Google Image"
          ],
          [
           "Bir Minecraft Efsanesi: BİLLY VE GİZEMLİ HİKAYESİ"
          ],
          [
           "DESCRIBE YOURSELF! (The S.M.A.R.T way to DESCRIBE YOURSELF in a JOB INTERVIEW!)"
          ],
          [
           "*SHOCKING* 8 INSANE Things Done By Minecraft Players That Will Blow Your Mind 😱"
          ],
          [
           "Busting 100 Minecraft Myths In 24 Hours"
          ],
          [
           "Director Sukumar Interview with Puri Jagannadh Full Interview | TFPC"
          ],
          [
           "Pushpa Sukumar Exclusive Interview With Puri Jagannadh | Vijay Deverakonda| Ananya Panday| News Buzz"
          ],
          [
           "Danny DeVito Answers the Web&#39;s Most Searched Questions | WIRED"
          ],
          [
           "Sukumar Interview With Puri Jagannadh about Liger | Pushpa | Vijay Deverakonda | Pawan Kalyan | FH"
          ],
          [
           "Why do these SCARY DOCTORS PERFORM RADIATION SURGERY ON A VILLAGER in Minecraft ? SCARY VILLAGER !"
          ],
          [
           "Interview-Flop: ÖVP-Innenminister Gerhard Karner bei Armin Wolf zur Abschiebung von Tina"
          ],
          [
           "I Google Translated MINECRAFT 200 Times..."
          ],
          [
           "Bajaj Finance Decade&#39;s Top Wealth Creator | Wonderful Wednesday | Parimal Ade &amp; Aastha Khurana"
          ],
          [
           "Paul Pelosi DUI dashcam footage released"
          ],
          [
           "The REAL REASON Bitcoin Will Hit $500,000 Per Coin By 2030 (NOT CLICKBAIT)"
          ],
          [
           "Youtuber Gets Sued By Crypto Millionaire"
          ],
          [
           "Biden Announces Plan For Federal Student Loan Debt Relief"
          ],
          [
           "Apple September 7 iPhone 14 Event ANNOUNCED! 🥳 EVERYTHING We&#39;re Getting!"
          ],
          [
           "Andrew Tate Announces New &quot;Business&quot; After Ban"
          ],
          [
           "Apple&#39;s  September 7th iPhone 14 Event Everything Leaked!"
          ],
          [
           "Apple Announces Fall iPhone Event (iPhone 14, Apple Watch Pro &amp; More)"
          ],
          [
           "Biden plans to forgive $300 billion in student loan debt: Report"
          ],
          [
           "The Master Alekhine"
          ],
          [
           "How to Assess ANY Chess Position: The Ultimate Guide"
          ],
          [
           "woah...pay attention to bitcoin and these crypto"
          ],
          [
           "ALERT!!!!!!!! BITCOIN BREAKOUT NOW!!!!!?!! BUT… THIS IS VERY SCARY!!!! [watch fast]🚨"
          ],
          [
           "Rep. Boebert skips crypto reporting cutoff, and cutting emissions with blockchain: CNBC Crypto World"
          ],
          [
           "The Next 72 Hours Could Make Or Break You! (Bitcoin &amp; Crypto Analysis)"
          ],
          [
           "National Shutdown | Workers hit the streets over rising cost of living: Pretoria, GP"
          ],
          [
           "U.S. Defense briefing on aid to Ukraine at 2:30PM EST"
          ],
          [
           "Nadler Celebrates Win In New York House Primary"
          ],
          [
           "iPhone 14 Apple Event Announced! Here&#39;s What We&#39;ll Get.."
          ],
          [
           "More than 700 pages of classified documents found at Mar-a-Lago"
          ],
          [
           "6 months later, what&#39;s next in the Ukraine war? l ABC News"
          ],
          [
           "gagnez 200.000 Fcfa par jour avec ce business en afrique"
          ],
          [
           "Futurum Research&#39;s Daniel Newman breaks down tech stocks to watch"
          ],
          [
           "ATOM COSMOS PREND SON ENVOL 🔥 DOSSIER MAJEUR DES BLOCKCHAINS 💎 #atom #cosmos #crypto #ethereum"
          ],
          [
           "Student loan forgiveness a &#39;lose-lose&#39; for Biden: Yahoo Finance’s Rick Newman"
          ],
          [
           "How Biden&#39;s student loan forgiveness program will work"
          ],
          [
           "Primary results in New York and Florida hold national implications for Democrats"
          ],
          [
           "भविष्य में यही 10 बिजनेस चलेगा🚀 10 Best future Business ideas 2022 💥 top 10 business ideas in Future"
          ],
          [
           "Chess.com Buying Chess24? What About Lichess? Hikaru vs Magnus Every Week?"
          ],
          [
           "Ep : 25 | Worlds Biggest Edtech Channel | Khan Sir | Bada Bharat | Dr Vivek Bindra"
          ],
          [
           "I Used the CHEAPEST M2 MacBook Air for 30 days!"
          ],
          [
           "Apple iPhone 14 Event is here 🔥 Big Good news for iPhone lovers ❤️"
          ],
          [
           "Keynote Apple le 7 Septembre : C&#39;est Officiel ! iPhone 14, Watch Series 8 ... On fait le point !"
          ],
          [
           "White House Press Briefing"
          ],
          [
           "Vì sao pin Apple Watch kém hơn nhiều các smartwatch khác? RTOS là gì?"
          ],
          [
           "Was bringt das Apple-September-2022-Event - 4K | Apfeltalk"
          ],
          [
           "President Zelenskyy promises victory over Russia on Ukrainian Independence Day"
          ],
          [
           "Ex-CIA director predicts what&#39;s next in Russia-Ukraine war"
          ],
          [
           "Naik Wahana Roller Coaster! - Runner Coaster"
          ],
          [
           "Chạnh Lòng Thương Cô Lofi, Thằng Hầu Lofi, Đào Nương Lofi | Những Bản Lofi Chill Tâm Trạng 2022"
          ],
          [
           "Cruise ship spots migrants lost at sea floating on dresser"
          ],
          [
           "&quot;Certeza que não vão encontrar nada&quot;, diz Hang à CNN sobre celular apreendido pela PF | NOVO DIA"
          ],
          [
           "7 Reasons The Gaming Industry Is Broken"
          ],
          [
           "I deep fried STEAKS in Movie Theater BUTTER and this happened!"
          ],
          [
           "TANI AQUAPARK 1$ vs DROGI AQUAPARK 100000$ W MINECRAFT?! GPLAY &amp; LUMI"
          ],
          [
           "I Google Translated Minecraft Mobs 1,000 Times"
          ],
          [
           "Resumen en video de la guerra Ucrania - Rusia: 23 de agosto"
          ],
          [
           "GTA 5 CAN CHOP COMPLETE THIS INSANE IMPOSSIBLE STUNT RACE"
          ],
          [
           "Vikram Vedha Teaser | Hrithik Roshan, Saif Ali Khan | Pushkar &amp; Gayatri | Radhika Apte| REACTION!!!"
          ],
          [
           "🚨 DÉPÊCHEZ-VOUS 🚨 Ces PROMOS disparaissent bientôt du PS Store, Xbox Store, Nintendo eShop..."
          ],
          [
           "🎧 FOLLOW ME ON LOCO | ACHANAK BAYANAK GAMING"
          ],
          [
           "Best Gamescom 2022 Game Reveals | Huge Xbox Game Pass Game Steals the Show | News Dose"
          ],
          [
           "Xbox just said &quot;Console Exclusives are DOOMED&quot; but will PlayStation AGREE?"
          ],
          [
           "Xbox Says Console Exclusives are Fading Away"
          ],
          [
           "Xbox REVEALS Big Updates For Xbox Series X Exclusives &amp; Xbox Game Pass For PC | Xbox News"
          ],
          [
           "KING CRAB"
          ],
          [
           "Never Have I Ever: IRL"
          ],
          [
           "If I Can Fix This Xbox Series X I&#39;ll GIVE IT AWAY!!!"
          ],
          [
           "Minecraft, ale MOGĘ ZABIERAĆ UMIEJĘTNOŚCI MOBÓW!"
          ],
          [
           "Crypto news today - Bitcoin price prediction (hindi/urdu)"
          ],
          [
           "TEM JOGÃO! MUITOS JOGOS REVELADOS para o XBOX GAME PASS e GAMEPLAY de JOGO AGUARDADO!"
          ],
          [
           "Proof There’s 43,252,003,274,489,856,000 Rubik&#39;s Cube Combinations! 🤯"
          ],
          [
           "Vikram Vedha Movie Teaser Review | KRK | #krkreview #bollywood #latestreviews #review #hrithik"
          ],
          [
           "LUFFY FORMS 5600 PIRATE ALLIANCE! One Piece Ep 745/746 Reaction"
          ],
          [
           "GEBURT bis TOD als Minecraft SPINNE! ✿ [Deutsch/HD]"
          ],
          [
           "BRUTÁLIS SHULKER FARM! MINECRAFT MESTERFOKON 77."
          ],
          [
           "Xbox Gamepass Continue to Deliver Great Content and Playstation Fanboys Continue to Hate it"
          ],
          [
           "Tóm Tắt 300 Ngày Sinh Tồn Minecraft Siêu Pixelmon Mình Bắt Bộ 3 Sáng Tạo !!"
          ],
          [
           "When customers blame you for unrelated issues. Xbox one X Prior repair gone wrong. No Signal"
          ],
          [
           "🔥Artistic Music Mix 2022: Top 50 Songs ♫ Best NCS Gaming Music ♫ Best Of EDM Remixes 2022"
          ],
          [
           "Free Fire | We Got Level 1 Ghost Id 😨With 9999 Badges😍 Wasting 10,000 Diamonds 💎-Garena Free Fire"
          ],
          [
           "Italian Reaction 🇹🇷 8 Dakikada Türk Futbolu | KOMİK ANLAR"
          ],
          [
           "Wonderland Indonesia 2 : The Sacred Nusantara (Official Music Video) REACTION!!!"
          ],
          [
           "gaming in the future"
          ],
          [
           "The *DESTINY* Challenge in Fortnite!"
          ],
          [
           "JOGOS CONFIRMADOS NO GAME PASS EM SETEMBRO E GRANDES LANÇAMENTOS NO XBOX!"
          ],
          [
           "Weird loophole brings PS5 exclusives to Xbox Series! How it works"
          ],
          [
           "Vengo ADOTTATO Da Una Famiglia Di RAINBOW FRIENDS Su Minecraft!"
          ],
          [
           "BASS BOOSTED 🔈 CAR BASS MUSIC 2022 🔈 SONGS FOR CAR 2022 🔥 EDM POPULAR SONGS REMIXES"
          ],
          [
           "Best Indicators for Crypto Day Trading (Effective)"
          ],
          [
           "LA FECHA DEFINITIVA del NINTENDO DIRECT con ZELDA, METROID y MARIO!? | Nuevo Star Fox | PS Showcase"
          ],
          [
           "Minecraft but I have 1,000,000 diamonds"
          ],
          [
           "Nintendo Switch games that will be NOSTALGIC..."
          ],
          [
           "Denuvo Is Bringing DRM To Nintendo Switch - And This Is NOT GOOD!"
          ],
          [
           "ON A JOUE A SPLATOON 3 EN AVANT PREMIERE SUR NINTENDO SWITCH !"
          ],
          [
           "VIKRAM VEDHA Teaser Reaction! | Hrithik Roshan | Saif Ali Khan | Radhika Apte | Pushkar &amp; Gayatri"
          ],
          [
           "Nintendo Switch OLED Kirby Edition"
          ],
          [
           "Jimmy&#39;s @ Madisons Raider&#39;s Stadium Dog Combo &amp; Chili Cheese Dog Combo Mukbang"
          ],
          [
           "🚨 DÉPÊCHEZ-VOUS 🚨 Ces PROMOS disparaissent bientôt du PS Store, Xbox Store, Nintendo eShop..."
          ],
          [
           "We&#39;ve Played Splatoon 3 - Is It Any Good?"
          ],
          [
           "GTA 5 : WHO KIDNAPPED TREVOR | GTA 5 BANGLA GAMEPLAY #77 | GAMING FUN TIPS"
          ],
          [
           "Top 10 Nintendo 3DS Games| The Completionist"
          ],
          [
           "(Eng subs) Chhichhore Full Movie Reaction by Korean Movie Actress, Kim Sahee, Part 2"
          ],
          [
           "Dave Chappelle - Micheal Jackson And R.Kelly | Sticks And Stones Reaction | Asia and BJ React"
          ],
          [
           "LUFFY BEATS ROB LUCCI ! Luffy vs Rob Lucci ! Part 5 ! Reaction Mashup"
          ],
          [
           "RP ගේ පේජ් එකට මොකද උනේ 😥 | අලුත් පේජ් එක | Rp gaming"
          ],
          [
           "⚡ Sarada&#39;s Chidori VS Boro | Boruto&#39;s Transformation 🔥 Boruto 207 Reaction Mashup 🇯🇵 [ボルト -- 海外の反応]"
          ],
          [
           "Nintendo&#39;s Surprising Event Revealed And Tons of New Games Get Announced | News Wave"
          ],
          [
           "Major Gaurav Arya Thug Life Moments SIGMA MALE RULES 😎 Reaction"
          ],
          [
           "PESA HO TO KIA KUCH NAHI HO SAKTA | GTA 5 | SHADOW GAMING"
          ],
          [
           "ASMR Gaming 😴 Fortnite 1 Kill = 1 Trigger Relaxing Mouth Sounds 🎮🎧 Controller Sounds + Whispering 💤"
          ],
          [
           "ASMR MUKBANG PITBULL EATING RAW FOODS WHOLE DUCK"
          ],
          [
           "ASMR 특별한 날이니까 한우++ 살치살 업진살 등심 갈비살 버섯 리얼먹방 :) I&#39;ll try 3kg of beef MUKBANG"
          ],
          [
           "¡RUMORES apuntan a un NINTENDO DIRECT el DÍA 14 de SEPTIEMBRE! ¿NUEVO STAR FOX en CAMINO?"
          ],
          [
           "Splatoon 3 DEBERÍA SER GRATIS: Jugamos EL MEJOR SHOOTER ONLINE 🐙 (Nintendo Switch)"
          ],
          [
           "족발 대파김치 백김치 요리 먹방 PIG&#39;S FEET &amp; GREEN ONION KIMCHI ASMR MUKBANG REAL SOUND EATING SHOW"
          ],
          [
           "WAIT.. THE ENTITIES ARE PAST VICTIMS!? | Backrooms - Found Footage #2 (Reaction)"
          ],
          [
           "편의점 다 털었습니다✌️"
          ],
          [
           "The Big Lebowski | First Time Watching | Movie Reaction | Movie Review | Movie Commentary"
          ],
          [
           "BLACKPINK - ‘Pink Venom’ DANCE PRACTICE VIDEO"
          ],
          [
           "CRISPY PATA SINIGANG MUKBANG | MUKBANG PHILIPPINES | FILIPINO FOOD MUKBANG"
          ],
          [
           "300KG PIG INTESTINE SOLD EVERYDAY in MANDAUE CEBU CITY | 30 years Recipe | Filipino Food"
          ],
          [
           "Splatoon 3: Early Switch Multiplayer Hands-on - How Is Nintendo&#39;s Shooter Shaping Up?"
          ],
          [
           "🔴SHORT STREAM OR WHAT??😱| BGMI LIVE"
          ],
          [
           "WWE Top 20 Returns That Made The Commentators Go Wild (Reaction)"
          ],
          [
           "FAST FOOD MUKBANG WITH MY SIBLINGS"
          ],
          [
           "Nintendo Switch ATTENTION HOGWARTS LEGACY DIFFERENCES 😱❌⚠️ &amp; COLLECTOR à 300€ &amp; PAS SUR SWITCH ❌"
          ],
          [
           "Finally Improved it ! Lenovo Ideapad Gaming 3 2022 |  i5 12th gen RTX 3050"
          ],
          [
           "I OPENED MY OWN ARCADE SHOP"
          ],
          [
           "One Block VS My HATER In Minecraft!"
          ],
          [
           "Best Gaming Music 2022 ♫ EDM Remixes of Popular Songs ♫ Best Of EDM"
          ],
          [
           "dinner for one. 🍜 asian lofi mix"
          ],
          [
           "LAKE TERROR - FULL HD HORROR MOVIE IN ENGLISH"
          ],
          [
           "[VOD 7] DU SANG ET DES CRÂNES ! Campagne légendaire Valkia sur Immortal Empire"
          ],
          [
           "Hice MINECRAFT RTX para ANDROID en 24 HORAS"
          ],
          [
           "ASMR pour ceux qui n’ont pas de CASQUE/ÉCOUTEURS"
          ],
          [
           "Physics expert explains how NASA got sound from a black hole"
          ],
          [
           "FASTEST ASMR SOUNDS FOR SLEEP"
          ],
          [
           "ASMR raw honey comb eating, mouth sounds 🍯"
          ],
          [
           "Please Leave Whatever You Are Doing And Watch This Amazing Movie- Nigerian Movies"
          ],
          [
           "asmr ultra sensible mouth sounds"
          ],
          [
           "ASMR On My Lap: Face Tracing to Fall Asleep SO Quick"
          ],
          [
           "ASMR LoFi MOUTH SOUNDS With the Apple Mic"
          ],
          [
           "lofi hip hop radio - beats to relax/study to 🍀 Music to Start Your Day with Positive Feelings"
          ],
          [
           "Lofi For Reading 📚 Lofi Hip Hop | Study Music 📚 Study Beats | Lofi Study Music"
          ],
          [
           "THE RISE OF BANGTAN - Chapter 13 : You Never Walk Alone REACTION"
          ],
          [
           "ELE VAI ME BATER SE EU NÃO CONCLUIR ESSES DESAFIOS NO MINECRAFT"
          ],
          [
           "O ASMR MAIS RÁPIDO DE TODOS OS TEMPOS *recorde mundial*"
          ],
          [
           "Marvel&#39;s Spider-Man PC - AMAZING SPIDER-MAN 2 MOVIE SUIT FREE ROAM GAMEPLAY! [MOD]"
          ],
          [
           "Odyssey 🌊 Smooth Lofi Beats To Relax, Study, Vibe To (Lofi Mix)"
          ],
          [
           "INVESTOR BIG SHORT INI MENJUAL 98% ASETNYA, APA ARTINYA UNTUK CRYPTO⁉️"
          ],
          [
           "Ultra Fast RAW NOOB Gamer Sounds 🎮ASMR🕹️"
          ],
          [
           "ASMR Gaming 😴 Fortnite 1 Kill = 1 Trigger Relaxing Mouth Sounds 🎮🎧 Controller Sounds + Whispering 💤"
          ],
          [
           "NEW Crypto Gameplay *BROKEN LEGEND!* | Apex Legends Mobile"
          ],
          [
           "ASMR | RARE AND SPECIFIC TRIGGERS FOR SLEEP"
          ],
          [
           "ASMR Art Student Sketches You (personal attention, pencil sounds)"
          ],
          [
           "Vikram Vedha Movie Teaser Review | KRK | #krkreview #bollywood #latestreviews #review #hrithik"
          ],
          [
           "Vikram Vedha Teaser | Hrithik Roshan, Saif Ali Khan | Pushkar &amp; Gayatri | Radhika Apte|Bhushan Kumar"
          ],
          [
           "AO VIVO: CNN PRIME TIME - 24/08/2022"
          ],
          [
           "Slow &amp; Relaxing ASMR | Without A Plan 🤍"
          ],
          [
           "짜장 낙지다리 🐙 직접 만든 짜장소스 해물찜 먹방 Jjajang Octopus Skewers Stir Fried Seafood Recipe Mukbang ASMR Ssoyoung"
          ],
          [
           "How to Survive a Drone Swarm"
          ],
          [
           "Smoke Chill - Lofi hip hop mix ~ Stress Relief, Relaxing Music"
          ],
          [
           "VINLAND SAGA - Episode 4 (REACTION)"
          ],
          [
           "【ASMR】ささやきながら、ゆっくり＆早くタッピング【睡眠導入】"
          ],
          [
           "full body ASMR REIKI to release anger &amp; resentment towards someone | cutting cords &amp; energy plucking"
          ],
          [
           "CNN reporter explains impact of student debt relief on economy"
          ],
          [
           "ASMR ALIEN FULL BODY EXAM DETAILED Medical Roleplay 👽 Cranial Nerve Orbital Eye Sci-Fi Examination"
          ],
          [
           "Minecraft, But Health Multiplies Every Time You Mine || Minecraft Mods || Minecraft gameplay Tamil"
          ],
          [
           "Pak Reacts to Vikram Vedha Teaser | Hrithik Roshan, Saif Ali Khan | Pushkar &amp; Gayatri | Radhika Apte"
          ],
          [
           "LEGO MARVEL 2023 SETS!"
          ],
          [
           "NAACHO NAACHO Full Video Reaction | NTR | Ram Charan | SS Rajamouli | RRR | Foreigners React."
          ],
          [
           "Jaana - Stebin Ben ft. Kamya Chaudhary | Jaani | Arvindr Khaira | Hunny Bunny | Desi Melodies"
          ],
          [
           "14-Year-Old Polish Rising Star Sarah James Makes Simon Cowell EMOTIONAL on AGT Semifinals"
          ],
          [
           "BEYOND THE BLACK - Is There Anybody Out There? (OFFICIAL MUSIC VIDEO)"
          ],
          [
           "Vikram Vedha Teaser Review &amp; Will The Remake Still Excite Audiences? | Hrithik Roshan, Saif Ali Khan"
          ],
          [
           "Vikram Vedha Teaser • Reaction"
          ],
          [
           "BLACKPINK - ‘Pink Venom’ DANCE PRACTICE VIDEO"
          ],
          [
           "MANN JOGIYA (Official Video) | Yasser Desai | Neil Bhatt | Aishwarya Sharma | New Hindi Song 2022"
          ],
          [
           "Music Mix 2022 🎧 EDM Remixes of Popular Songs 🎧 EDM Gaming Music Mix ​"
          ],
          [
           "Canadian Ultimate Championships Juniors: Open Final | Ultimate Frisbee | CBC Sports"
          ],
          [
           "Official Clip | Marvel Studios’ She-Hulk: Attorney at Law | Disney+"
          ],
          [
           "Previously On | Marvel Studios’ She-Hulk: Attorney at Law | Disney+"
          ],
          [
           "New Christian Worship Songs 2022 With Lyrics - Best Christian Gospel Songs Lyrics Playlist"
          ],
          [
           "Farming Simulator 22 #13 - Khi Xe Bán Tải Chở Quá Tải !!"
          ],
          [
           "Yeh lo ek aur REMAKE aa gaya... Vikram Vedha Teaser Review"
          ],
          [
           "The Masked Singer Vietnam - Ca Sĩ Mặt Nạ - Tập 5 | ViruSs Reaction !"
          ],
          [
           "It&#39;s A Maryland Thing, You Wouldn&#39;t Understand Official Music Video by Jimmy Charles"
          ],
          [
           "MrBeast VISITS INDIA Reason!- YouTubers REACT | Thugesh No.1 Trending on Twitter?, Lakshay Chaudhary"
          ],
          [
           "Brahmos Attack on Pakistan Case | India Punishes Air Force Officers"
          ],
          [
           "SPIDER-MAN #1 Trailer | Marvel Comics"
          ],
          [
           "Minecraft, ale KOLORY CHCĄ NAS ZABIĆ!"
          ],
          [
           "MÌNH SINH TỒN 100 NGÀY LÀM QUÂN CÁCH MẠNG TRONG MINECRAFT ONE PIECE SIÊU KHÓ VÀ MẠNH QUÁ TRỜI !!"
          ],
          [
           "AGATHA: COVEN OF CHAOS - TEASER TRAILER | Marvel Studios &amp; Disney+"
          ],
          [
           "Nguồn gốc của ALLAY | Giả thuyết MINECRAFT | Gamechan"
          ],
          [
           "Lofi For Reading 📚 Lofi Hip Hop | Study Music 📚 Study Beats | Lofi Study Music"
          ],
          [
           "BLACKPINK - ‘Pink Venom’ DANCE PRACTICE VIDEO REACTION!"
          ],
          [
           "Best Nightcore Songs Mix 2022 ♫ 1 Hour Nightcore ♫ Best of Nightcore Gaming Mix"
          ],
          [
           "Music to put you in a better mood ~ lofi / relax / stress relief"
          ],
          [
           "Mutant Genesis for Marvel Champions: The Card Game | Gameplay"
          ],
          [
           "Free Fire | Bất Ngờ Nhận FREE 900 Kim Cương Mua Đồ Cực Ngon - Garena Hứa Sẽ Sửa Vòng Quay Ma Thuật"
          ],
          [
           "John Legend - All She Wanna Do (feat. Saweetie) (Official Music Video)"
          ],
          [
           "Ed Sheeran, Martin Garrix, Kygo, Dua Lipa, Avicii, The Chainsmokers Style - Feeling Me #32"
          ],
          [
           "10 Infuriating Ways Video Games Stopped You From Getting 100%"
          ],
          [
           "ARE YOU HOLDING OUT FOR CAPTAIN MARVEL? | Marvel&#39;s Avengers Game"
          ],
          [
           "TIME FOR TRACK TWO!!!! EMINƎM feat. Young M.A. Unaccommodating REACTION/BAR HUNT!!!"
          ],
          [
           "Reaction &quot;Quên Anh Đi&quot; - &quot;Waiting for you&quot; - Mono Việt Hoàng | ViruSs"
          ],
          [
           "2022 New Songs ( Latest English Songs 2022 ) 🥒 Pop Music 2022 New Song 🥒 New Popular Songs 2022"
          ],
          [
           "ASI serán las VOTACIONES MC LIVE 2022!"
          ]
         ],
         "hovertemplate": "Views=%{x}<br>Likes=%{y}<br>Title=%{customdata[0]}<extra></extra>",
         "legendgroup": "",
         "marker": {
          "color": "#636efa",
          "symbol": "circle"
         },
         "mode": "markers",
         "name": "",
         "showlegend": false,
         "type": "scattergl",
         "x": [
          78137822,
          26826274,
          7178954,
          17716356,
          168546247,
          302125099,
          7073338,
          153478497,
          6091315,
          28325416,
          321977550,
          46251795,
          38478475,
          441183,
          9253680,
          1550802,
          19210396,
          17103736,
          14800155,
          308501014,
          50358797,
          18116954,
          7556654,
          4613023,
          6225136,
          5054426,
          9552698,
          7428280,
          8639567,
          2767666,
          19097087,
          4235793,
          4231789,
          9450554,
          31858250,
          25,
          63,
          6216027,
          257199,
          1582262997,
          3330650,
          15397832,
          1048396,
          596680,
          173717,
          6312772,
          193685278,
          920846,
          826423766,
          759857,
          6224649,
          6701666,
          23925458,
          3371830,
          1188153,
          4154143,
          1167616,
          610308,
          4981769,
          9897790,
          994999,
          719270,
          1366364,
          1061608,
          18496859,
          4271973,
          1453590,
          787667,
          434352213,
          2494758,
          1466906,
          5323008,
          42252029,
          36467409,
          146080,
          2027462,
          14269018,
          2758,
          1804121,
          2796778,
          2609123,
          8596384,
          3243901,
          896227,
          198844,
          956340,
          3452571,
          1539948,
          3588950,
          1331141,
          1875721,
          94900199,
          2947659,
          425478119,
          91932,
          1344472,
          1912405,
          4696990,
          22529756,
          844015,
          1761493,
          null,
          313847,
          10330078,
          11034311,
          7370713,
          10792977,
          85052,
          1545582,
          3134189,
          1248957,
          1750656,
          2302755,
          5370346,
          1530735,
          1713463,
          1672442,
          145167323,
          147339243,
          181827,
          1515048,
          3863719,
          68512549,
          48018833,
          739507,
          196484,
          35695760,
          351985,
          2278698,
          6515548,
          856628,
          4801805,
          39944,
          4418714,
          762553,
          431421,
          238411,
          4056267,
          33227408,
          872008,
          287879,
          106014469,
          45584,
          602137,
          515395,
          2797148,
          15040548,
          8620346,
          398061,
          284841,
          9914057,
          8705503,
          9904507,
          793228,
          130286,
          508969,
          879470,
          10097646,
          327146,
          7209027,
          127492,
          391796,
          4034122271,
          1754969,
          2666406,
          7906241,
          5923959,
          14322764,
          392314,
          42257995,
          145691,
          573706,
          800364,
          94340456,
          9826182,
          35771194,
          7004107,
          95826,
          4820297,
          1433436,
          9769103,
          1071023,
          14593,
          1503148,
          1102647,
          5028230,
          38289391,
          2317183,
          157632,
          689762,
          7825074,
          940004,
          66368842,
          3745331,
          323071,
          61085,
          135056,
          17069314,
          50348575,
          1432027,
          2586478,
          2464907,
          192964,
          674979,
          292643,
          3505369,
          47276202,
          1453787,
          134377650,
          5132684,
          66839006,
          28574258,
          122824,
          98750169,
          317372,
          7367727,
          143605,
          13176819,
          1471735,
          57369066,
          8830062,
          854273,
          107126467,
          44943014,
          49429306,
          66999237,
          1451335,
          313285,
          37780348,
          82298,
          55643,
          93319974,
          2199261,
          258491,
          61197670,
          402110,
          6100867,
          1732512,
          2706505,
          7569833,
          14073219,
          11745320,
          290351,
          106151957,
          271415,
          13590001,
          21485819,
          108874,
          92621700,
          3069097,
          11792862,
          525081,
          1651599,
          29905105,
          29905105,
          7571701,
          1592794,
          1456270,
          578179,
          2110850,
          160818375,
          27922929,
          5249373,
          91053784,
          2228510,
          8445210,
          17069830,
          7497071,
          20026987,
          1879805,
          7975584,
          14835017,
          9033159,
          1187250,
          179728,
          932919,
          34484565,
          31289,
          11829970,
          69330547,
          689166,
          170305,
          84747957,
          14296001,
          984168,
          49183640,
          3368446,
          35373,
          16099483,
          12382988,
          3114396,
          101986,
          2029047,
          5434925,
          13278916,
          1378069,
          10608521,
          226152,
          549530,
          156000008,
          86169225,
          2535222,
          302924,
          11563268,
          9024180,
          3046581,
          543947,
          39581966,
          98559845,
          2475429,
          250793774,
          10106841,
          68989,
          646913,
          null,
          524709805,
          181931,
          1707883,
          1205719,
          5451348,
          847233,
          140607,
          17975269,
          2847,
          4849924,
          30465,
          1510897,
          309718,
          2144508,
          58621,
          240428,
          544895,
          27243,
          58850,
          10331666,
          488575,
          215489,
          113661,
          8122555,
          282641,
          261889,
          11666184,
          14286302,
          362229,
          900960,
          90926,
          3182375,
          25386,
          2884100,
          378164492,
          136439525,
          7320107,
          1782074,
          10817160,
          56994,
          1011277,
          9147428,
          1695814,
          15426,
          1456270,
          338212,
          41739024,
          753025,
          8946712,
          1414209,
          32791832,
          7549484,
          3270832,
          88980,
          5423172,
          385709,
          4783245,
          4526546,
          1723190,
          210192,
          52061447,
          13966109,
          1419701,
          150633,
          10275325,
          2853191,
          113080,
          939411,
          604827,
          2117474,
          3776936,
          745050,
          32605,
          295344,
          58921922,
          374241,
          1722365,
          1257676,
          208293677,
          9090985,
          54244089,
          400968,
          367200,
          20076,
          2792013,
          31518906,
          679025,
          439103,
          2541347,
          10008290,
          26160434,
          66259,
          1564431,
          19469009,
          4613254,
          47696,
          4435209,
          3927439,
          5750667,
          1820413,
          97136,
          4984442,
          7966,
          3750968,
          9629509,
          7132206,
          4795109,
          7108897,
          2530836,
          1642556,
          1651459,
          82596,
          2497202,
          122994457,
          876309,
          273900,
          196727,
          1135106,
          5663,
          3335591,
          2615459,
          1632584,
          2822656,
          4562145,
          110124989,
          2213038,
          116842899,
          933111,
          2570601,
          911,
          95826,
          9444655,
          1546801,
          1778635,
          915457091,
          22439610,
          1435374,
          1425150,
          7795119,
          101255,
          4416622,
          16294784,
          1094217,
          83073,
          5351715,
          2966344,
          4364168,
          525488,
          1332052,
          75785129,
          262959,
          6281449,
          1045672,
          5281537,
          18380002,
          676300,
          257103,
          2372539,
          1603229,
          26260197,
          6058858,
          2549580,
          10963984,
          31667627,
          29657435,
          1684678,
          240450,
          8295441,
          18837,
          928585,
          94508185,
          311071,
          1218268,
          507103,
          1437698,
          5156616,
          191988678,
          489332,
          87567,
          401678,
          738726,
          84410562,
          33779197,
          1379849,
          1667322,
          1266882,
          2854238,
          126212,
          318051,
          10155588,
          9277945,
          559680,
          9803295,
          12964069,
          157525,
          930267,
          3779069,
          14694097,
          30215,
          319957,
          170837,
          1285807,
          5464252,
          609802,
          4012930,
          55195,
          351087,
          72310,
          652244,
          451843,
          1633059,
          2889074,
          510592,
          767162,
          386360,
          3346948,
          1296777,
          2122433,
          2359653,
          12272628,
          9493733,
          1251200,
          5301271,
          1469736,
          2058438,
          5847791,
          10450206,
          58590655,
          1213867,
          99569,
          738202,
          11440455,
          67619,
          3157064,
          2817851,
          621093,
          1502125,
          12867358,
          324079,
          495065,
          6123730,
          20647398,
          760249,
          2812807,
          140916,
          906372,
          1407319,
          4288625,
          622551,
          1732100,
          518790,
          8324871,
          875957,
          2313225,
          3176730,
          3455728,
          11814893,
          10909239,
          180766617,
          304816,
          79882619,
          2644603,
          5399988,
          5646817,
          161103805,
          252524,
          605453,
          9736125,
          7433726,
          1142057,
          10125075,
          952869,
          87484,
          6315803,
          4282206,
          231325,
          2885013,
          1345404,
          5850945,
          2750006,
          589907,
          419705,
          1484533,
          15110047,
          747705,
          3128517,
          447522,
          1345689,
          1148562,
          283172,
          1743151,
          8947796,
          8378324,
          1576038,
          2661,
          6037721,
          1235556,
          705942,
          97578090,
          1836457,
          24994827,
          637152,
          566503,
          19220,
          943119,
          47619,
          23535618,
          318419,
          19256162,
          353784,
          1574015,
          1058423,
          79941868,
          561921,
          640120,
          4502356,
          10129,
          5578536,
          693153,
          1430388,
          977299,
          7755963,
          2943450,
          13844095,
          285526909,
          35490831,
          3526040,
          380649,
          20548194,
          6599382,
          2954979,
          1837300,
          23568994,
          1962673,
          425850,
          9618335,
          11188525,
          7001236,
          239207161,
          1088318,
          2367294,
          443909,
          5231674,
          444953,
          2040877,
          2954971,
          15836037,
          3731583,
          427945,
          470123,
          832026,
          3691767,
          1346386,
          681002,
          951514,
          1669884,
          76828,
          950825,
          1051751,
          24612,
          11642,
          2389222,
          13048900,
          32300300,
          855620,
          18302,
          592998,
          9780,
          1253037,
          302407,
          435863,
          11184537,
          53207,
          4098623,
          2006133,
          37037129,
          1212736,
          26355125,
          7308863,
          520371,
          56956,
          78038,
          1760155,
          2295412,
          4676492,
          4991078,
          879645,
          897553,
          677081,
          961789,
          2529301,
          1309077,
          15666598,
          202934,
          452937,
          125670049,
          5656681,
          2987298,
          37959,
          1152562,
          679453,
          437660,
          199395,
          3921128,
          859569,
          89486,
          18154,
          328489,
          1273223,
          1952077,
          54541,
          368017,
          565863,
          1695867,
          1851336,
          1034342,
          32054,
          2020370,
          1008972,
          1104214,
          23169378,
          872859,
          578389,
          266203,
          482269,
          13829574,
          2458686,
          12244410,
          589429,
          67276,
          179180,
          41925,
          595608,
          617350,
          3854528,
          1756737,
          2844014,
          534114,
          425099,
          1686785,
          2322280,
          8339001,
          13591,
          6366422,
          11805668,
          740962,
          3442343,
          2009963,
          1461872,
          23717752,
          7188648,
          320959,
          85522922,
          11422924,
          928704,
          7892369,
          165986,
          1194578,
          1339489,
          775719,
          1429951,
          5093587,
          1687552,
          383734,
          6340958,
          420420,
          1010630,
          1541386,
          11181957,
          2453529,
          466494,
          2333380,
          720075,
          1687706,
          639089,
          6329576,
          1671725,
          761574,
          4309217,
          6055668,
          93963115,
          2017263,
          327463,
          2817800,
          1198270,
          3452285,
          1487029,
          1089328,
          14914811,
          10786819,
          596902,
          4584546,
          6149318,
          3433953,
          3653854,
          44424347,
          1945140,
          7958011,
          16209382,
          1048056,
          607849,
          5884330,
          708445,
          701005,
          1700683,
          22100487,
          332371,
          9224408,
          107917,
          1085330,
          718461,
          632477,
          1097006,
          10338163,
          36138,
          715895,
          8496353,
          821480,
          293379,
          64368,
          7846143,
          4695664,
          802372,
          17195,
          1085076,
          2381931,
          2287752,
          331718,
          5683239,
          461467,
          838788,
          72414,
          776034,
          2724499,
          18492610,
          2568894,
          527380,
          6478696,
          5637132,
          1280387,
          3248506,
          2158052,
          195145,
          45665114,
          869372,
          5210940,
          258994,
          589007,
          17282158,
          580096,
          63870,
          3593833,
          1345420,
          619387,
          23973948,
          1815856,
          621651,
          4341289,
          85503,
          190491,
          698519,
          11235146,
          3308580,
          1360604,
          99774,
          13637506,
          743338,
          497458,
          25367316,
          967211,
          25291,
          870453,
          191830,
          805728,
          54583132,
          834400,
          936041,
          4181136,
          593989,
          613757,
          1291584,
          2474364,
          63599,
          20779962,
          1010999,
          304037,
          132583,
          1134047,
          5283664,
          1352,
          4290144,
          1045028,
          880432,
          1120660,
          138290,
          7989628,
          3733933,
          1006704,
          99698731,
          1005072,
          786765,
          1557335,
          3934199,
          608323,
          325200,
          1118396,
          467835,
          2610708,
          1156785,
          6573,
          12550897,
          3463977,
          1020154,
          128164,
          374525,
          167574,
          4098562,
          1945769,
          5533307,
          2362949,
          6134948,
          278584,
          1316713,
          5937790,
          2197690,
          17321080,
          1606273,
          3218250,
          960994,
          16115,
          4876825,
          73864,
          45122,
          37830,
          30388,
          137791,
          1766202,
          962507,
          1325826,
          2468059,
          691573,
          149363,
          879609,
          6644534,
          400330,
          425073,
          662992,
          1194593,
          848504,
          190418,
          21114,
          5547667,
          2343365,
          1711823,
          2578373,
          6742766,
          782934,
          513747,
          1457290,
          2575482,
          594480,
          2745019,
          76643,
          23909,
          4195072,
          530889,
          457957,
          31343,
          649114,
          325309,
          2349546,
          7783157,
          858731,
          2361410,
          15014572,
          41517,
          151493,
          3457355,
          925547,
          963335,
          25201,
          21747698,
          2214491,
          371563,
          1348450,
          1407324,
          568816,
          228752,
          1186255,
          485266,
          2861258,
          6389,
          57850,
          7544821,
          17259,
          9734303,
          24686,
          2710713,
          514758,
          6170029,
          118523,
          475535,
          384275,
          667767,
          3074914,
          2225959,
          4357193,
          405989,
          2657361,
          13545273,
          3989464,
          293213,
          702174,
          24012,
          707813,
          297966,
          338844,
          106305,
          108903,
          1341953,
          1086568,
          18609928,
          492976,
          71968133,
          356678,
          1686249,
          377483,
          618566,
          1889567,
          20897,
          1486176,
          553892,
          286969,
          3666465,
          1284173,
          1667301,
          14118968,
          23222262,
          4543326,
          1385264,
          2936679,
          2064594,
          6734947,
          4288833,
          36868871,
          1853171,
          5351960,
          1658204,
          10280971,
          7009241,
          746236,
          195618,
          1228300,
          6897438,
          143959,
          3020492,
          117695,
          4087572,
          578167,
          307938,
          6968660,
          131716,
          1864630,
          1267276,
          2173854,
          203851,
          513997,
          70762,
          129231,
          463378,
          378563,
          310738,
          319489,
          6383519,
          18565979,
          904713,
          267705,
          133708,
          274201,
          855958,
          180396,
          35948,
          1669551,
          386436,
          3487219,
          2270,
          2853947,
          482392,
          11118461,
          115655,
          30191,
          10146,
          174482,
          633520,
          425880,
          1322089,
          2036446,
          208877,
          66888,
          240234,
          810069,
          1229745,
          3432799,
          791624,
          1693731,
          3068118,
          63310479,
          77502,
          83902,
          10730641,
          45214,
          281839,
          61478,
          1195181,
          657999,
          608177,
          165623,
          413179,
          873549,
          689494,
          142040,
          4782514,
          1335899,
          591721,
          53592,
          473122,
          151259,
          1855644,
          128548,
          51321,
          1020152,
          499461,
          1018753,
          156294,
          549566,
          50941,
          855392,
          576311,
          366447,
          65745,
          78520,
          82902,
          2467290,
          1310018,
          566143,
          112040,
          49294,
          104246,
          1655085,
          72517,
          931636,
          1203517,
          1115596,
          229928,
          369997,
          749734,
          2885056,
          153395,
          1208037,
          30352,
          537070,
          265906,
          42216,
          1299714,
          1685445,
          7715681,
          2399810,
          620690,
          17156,
          454927,
          93633,
          587218,
          742272,
          6301646,
          1454316,
          75483,
          103500,
          95369,
          1815767,
          1084758,
          512978,
          647117,
          1057862,
          393718,
          386949,
          747110,
          638770,
          80522,
          389114,
          891548,
          1889320,
          1075761,
          1006579,
          3186890,
          462943,
          1335282,
          2417577,
          367781,
          1902823,
          441062,
          805994,
          4452337,
          297290,
          103248,
          4382539,
          2359142,
          1100740,
          11123363,
          48918,
          1178354,
          83228,
          79741,
          234454,
          154901,
          355919,
          92760,
          229865,
          12464,
          665643,
          37905,
          56101,
          176919,
          109574,
          62815,
          411015,
          65632,
          276221,
          947162,
          906361,
          52695,
          37883,
          808215,
          255706,
          278240,
          264809,
          251101,
          288796,
          189066,
          592173,
          100586,
          1928710,
          7510904,
          1101187,
          890196,
          223700,
          83121,
          12456,
          269716,
          858549,
          65137,
          254621,
          34954,
          240447,
          148992,
          504475,
          282480,
          932432,
          2278082,
          55105,
          154461,
          824297,
          87422,
          108383,
          1206538,
          5992730,
          93564,
          796750,
          257848,
          57446,
          112418,
          159877,
          41735,
          1033764,
          10309,
          29180,
          34655,
          43591,
          7325,
          169562,
          200847,
          146774,
          8862,
          3534,
          4573945,
          791042,
          28219,
          405850,
          1465011,
          53965,
          285609,
          312191,
          1016391,
          2007038,
          748675,
          84465,
          1564078,
          619006,
          573655,
          2219,
          65057,
          203084,
          278274,
          1090694,
          153064,
          2548,
          31657,
          189956,
          905023,
          255839,
          124442,
          502221,
          74253,
          4384,
          49591,
          608005,
          29751,
          889300,
          280369,
          37550877,
          28386,
          141306,
          125307,
          110066,
          51885,
          131943,
          901368,
          961317,
          212395,
          577426,
          230945,
          34715,
          58559,
          51885,
          186568,
          713211,
          128524,
          164119,
          212973,
          98972,
          106690,
          239924,
          193604,
          1847672,
          78841,
          137405,
          2564092,
          65067408,
          14721,
          85298,
          438358,
          3882,
          7816,
          408227,
          32926,
          1204024,
          1204024,
          126228,
          12513,
          58330,
          808787,
          533947,
          19323,
          198004,
          1705786,
          6709,
          187892,
          459455,
          28047,
          188875,
          226258,
          22860,
          102646,
          31510,
          70186,
          64958,
          2699810,
          30405,
          1499121,
          254500,
          48984,
          92899,
          64395,
          27378,
          208701,
          97930,
          268946,
          22593,
          409554,
          2783,
          100366,
          8097268,
          184475,
          164331,
          92841,
          39296,
          11448,
          27258,
          14264,
          14780,
          25648,
          33246,
          83353,
          28892,
          235294,
          19147,
          159448,
          10105,
          33480,
          520431,
          70483,
          9958,
          135067,
          127748,
          106966,
          1554691,
          190106,
          71547,
          29055,
          54917,
          38520,
          318166,
          75301,
          7516,
          384035,
          65005,
          1564007,
          78050,
          922918,
          66633,
          655844,
          199416,
          9099,
          24650,
          3618,
          17418,
          36948,
          13043,
          156610,
          345071,
          507836,
          27564,
          27451,
          56066,
          228095,
          55298,
          286228,
          54030,
          45157,
          4723,
          40240,
          4976,
          47430,
          66379,
          9542,
          19525,
          72885,
          187668,
          75586,
          23135,
          36585,
          216482,
          5388,
          64877,
          389051,
          7383,
          109363,
          127803,
          11745,
          426409,
          288722,
          42648,
          164940,
          55539,
          170926,
          7093,
          127082,
          6640,
          2285,
          132072,
          235019,
          47926,
          106127,
          89985,
          58050,
          176151,
          1564007,
          3392295,
          39193,
          46436,
          25865,
          196801,
          2985,
          8135,
          269849,
          9050,
          121692,
          5110,
          319387,
          314438,
          43046,
          31449,
          4043624,
          9245,
          79531,
          246407,
          6178,
          8186585,
          10108,
          464557,
          2188598,
          288312,
          5903244,
          52046148,
          10572,
          1293718,
          79265,
          135612,
          192740,
          45006,
          20600,
          52323,
          15689,
          38560,
          57411,
          46495,
          390348,
          149396,
          275924,
          23763,
          12332,
          30632,
          76373,
          119487,
          205486,
          11230,
          63886,
          14263,
          7050,
          1223879,
          34941,
          17191,
          1765945,
          45779,
          45872,
          63675,
          26709,
          867,
          10339,
          30871,
          106597,
          273349,
          35571,
          36560,
          9585,
          30328,
          533712,
          39409,
          364725,
          23035,
          111581,
          66279,
          62428,
          10671,
          41900,
          157301,
          481643,
          97946,
          51747,
          6631,
          36410,
          52909,
          39049,
          6160,
          48051,
          10451,
          11848,
          77345,
          19223,
          50724,
          237313,
          4073,
          3311,
          85191,
          3773387,
          10642,
          24792,
          7163,
          36473,
          42948,
          138803,
          500097,
          16243,
          21164,
          2471,
          40223,
          133933,
          53211,
          151345,
          36310,
          2742,
          17763,
          107957,
          218182,
          97163,
          1616,
          10509,
          296801,
          1599,
          38688,
          25316,
          25115,
          78423,
          100979,
          13976,
          4247,
          43235,
          18216,
          7989,
          51716,
          4454,
          180651,
          755642,
          60835,
          21962,
          8502,
          62189,
          7771,
          172513,
          56683,
          5931,
          23448,
          44809,
          2587,
          23175,
          444036,
          305772,
          11649,
          132646,
          6611,
          164869,
          82844,
          42274,
          25594,
          46082,
          25745,
          29780,
          63650,
          23819,
          8064,
          120365,
          1758063,
          94188,
          167962,
          544761,
          136526,
          167863,
          34941,
          88788,
          206418,
          53087,
          19622,
          270284,
          37711,
          59749,
          7487,
          943664,
          13991,
          37352,
          77109,
          474368,
          54596,
          83807,
          26499,
          42191,
          47811,
          60528,
          4951,
          601,
          57692,
          23786,
          6443,
          21012,
          17145,
          1195,
          131012,
          108055,
          86855,
          18531,
          2786,
          3461,
          2201,
          1485,
          97434,
          57858,
          15582,
          4130,
          2018720,
          61195,
          27676,
          4639,
          2597,
          9401,
          1954,
          69951,
          544884,
          99244,
          23653,
          53110,
          71652,
          82874,
          385239,
          42924,
          276901,
          85359,
          191777,
          126185,
          13184,
          14877,
          18992,
          19967,
          16451,
          16396,
          28759,
          2529954,
          114921,
          70181,
          5034,
          10503,
          156011,
          405791,
          34789,
          52954,
          88247,
          4368,
          50148,
          37870,
          5967,
          552256,
          18535,
          35288,
          205943,
          530763,
          12041,
          24863,
          111027,
          3773,
          8867,
          12274,
          795386,
          71578,
          37340,
          59232,
          309098,
          9269,
          22966,
          13184,
          51017,
          31837,
          87181,
          34090,
          9533,
          21868,
          2386,
          41057,
          86658,
          13489,
          87891,
          14537,
          15390,
          231488,
          2225,
          35759,
          74586,
          271333,
          909323,
          16080,
          23836066,
          11293,
          64703,
          46065,
          19693,
          23225,
          155562,
          11630,
          10351,
          3773387,
          145497,
          16123,
          15177,
          12666,
          16307,
          183096,
          8694,
          132960,
          33028,
          25331,
          1266475,
          26789,
          146821,
          59177,
          20861,
          14341,
          12289,
          187063,
          16887,
          19923,
          6817,
          2546,
          55828,
          14537,
          10554,
          32988,
          19755,
          1541874,
          132403,
          66507,
          34348,
          261713,
          15329,
          40275,
          55078,
          43743,
          15786,
          51269,
          116672,
          22525,
          46862,
          35516,
          21112,
          5833454,
          811965,
          141779,
          200452,
          184093,
          23836066,
          1693263,
          148482,
          4114,
          331603,
          150039,
          57394,
          84565,
          426875,
          107906,
          2944,
          450066,
          10737,
          125674,
          129591,
          188490,
          21129,
          97537,
          14336,
          259851,
          29864,
          21332,
          4806,
          121644,
          187956,
          32162,
          67444,
          2813,
          23239,
          131760,
          119878,
          1044608
         ],
         "xaxis": "x",
         "y": [
          515049,
          119272,
          50074,
          132214,
          2307773,
          1072689,
          18353,
          1357197,
          61813,
          229141,
          1430457,
          160501,
          338601,
          2766,
          68133,
          11675,
          144517,
          130817,
          310947,
          1171433,
          361395,
          712273,
          74180,
          48317,
          62343,
          47947,
          96215,
          74324,
          85704,
          28907,
          296448,
          139552,
          56906,
          213398,
          723998,
          0,
          1,
          137327,
          3172,
          11025176,
          47782,
          54154,
          13526,
          5449,
          7791,
          95001,
          1019385,
          15425,
          5743875,
          10846,
          53635,
          310589,
          396477,
          32962,
          23130,
          48633,
          29980,
          11911,
          132298,
          65182,
          24425,
          14691,
          17269,
          47644,
          542855,
          98688,
          34870,
          12527,
          5400589,
          49931,
          34040,
          65238,
          1194852,
          665269,
          3112,
          62103,
          234520,
          17,
          33744,
          49795,
          66550,
          86374,
          45253,
          15399,
          2143,
          17610,
          61100,
          20361,
          45800,
          20329,
          26210,
          954935,
          78076,
          4144389,
          3312,
          19352,
          48535,
          236557,
          454863,
          10959,
          27575,
          null,
          5902,
          409962,
          190593,
          169217,
          79639,
          1158,
          25287,
          62009,
          26902,
          32189,
          47204,
          54951,
          30095,
          32043,
          37041,
          1121873,
          5471653,
          13141,
          28944,
          105414,
          981522,
          672749,
          10877,
          4894,
          340686,
          8864,
          38776,
          null,
          30764,
          202969,
          859,
          132562,
          17219,
          2981,
          4306,
          2991,
          232336,
          44217,
          4293,
          867074,
          881,
          26530,
          10441,
          39868,
          275577,
          99816,
          9368,
          9475,
          51098,
          122180,
          19007,
          12050,
          4759,
          22643,
          15683,
          70465,
          7675,
          68035,
          3518,
          4721,
          16445558,
          59163,
          26849,
          76010,
          130176,
          338470,
          4644,
          394837,
          5190,
          16394,
          43704,
          1499298,
          8383,
          880208,
          186881,
          4440,
          149084,
          36655,
          235659,
          22310,
          356,
          37430,
          25934,
          109335,
          461154,
          43189,
          2206,
          14687,
          82405,
          19436,
          738439,
          56460,
          12759,
          863,
          5213,
          199933,
          752667,
          27736,
          55282,
          49949,
          2464,
          30046,
          4831,
          56258,
          262633,
          29974,
          2523764,
          116385,
          1552125,
          838345,
          6386,
          2129926,
          12875,
          170234,
          3121,
          315980,
          19915,
          778342,
          124490,
          29818,
          2030057,
          1165120,
          511551,
          2021442,
          26171,
          6579,
          1080199,
          2712,
          621,
          2135851,
          37455,
          6383,
          1801566,
          9862,
          158935,
          63890,
          80947,
          195700,
          146566,
          407460,
          12892,
          1103713,
          7742,
          347137,
          869059,
          4227,
          2121115,
          118846,
          116596,
          16747,
          34464,
          339759,
          339758,
          176829,
          29065,
          36835,
          8812,
          51924,
          3557658,
          601464,
          136929,
          1572751,
          46519,
          237869,
          371116,
          463331,
          124675,
          70001,
          132845,
          673896,
          281680,
          33967,
          6557,
          38148,
          1046404,
          2180,
          205831,
          1511358,
          18806,
          4386,
          1638369,
          472660,
          52363,
          397142,
          80368,
          1760,
          102369,
          493471,
          38397,
          3429,
          159719,
          94089,
          129552,
          26619,
          233724,
          5198,
          21809,
          3206546,
          1221507,
          70562,
          11672,
          171757,
          213630,
          72348,
          6875,
          636440,
          1301198,
          79849,
          2286473,
          82390,
          4407,
          7530,
          null,
          7786057,
          6314,
          30633,
          31742,
          112098,
          25161,
          3408,
          378858,
          48,
          131961,
          1409,
          57691,
          5407,
          46254,
          1449,
          7850,
          14030,
          559,
          3792,
          73362,
          22430,
          6806,
          2604,
          74617,
          11395,
          4238,
          22288,
          430267,
          13406,
          19054,
          1519,
          191691,
          1151,
          52635,
          6177588,
          4120158,
          139442,
          20909,
          176978,
          2596,
          56774,
          185175,
          10380,
          1218,
          36835,
          15128,
          353053,
          37645,
          96563,
          18847,
          501165,
          143191,
          152531,
          1869,
          219213,
          15036,
          71688,
          64432,
          28863,
          9354,
          910553,
          227790,
          54822,
          4560,
          41389,
          44471,
          7452,
          22667,
          27439,
          59933,
          21946,
          21123,
          1237,
          7555,
          789062,
          24508,
          9313,
          40534,
          1706185,
          79281,
          385847,
          18698,
          12687,
          288,
          33130,
          241605,
          19712,
          6686,
          82083,
          148120,
          193174,
          1529,
          63857,
          282754,
          120513,
          1796,
          74485,
          77893,
          43643,
          24029,
          4557,
          73498,
          131,
          49642,
          226135,
          238193,
          51599,
          164337,
          36387,
          63543,
          25029,
          4849,
          52160,
          349923,
          51658,
          13503,
          10660,
          12009,
          630,
          47823,
          98001,
          45040,
          21367,
          89572,
          4763784,
          77520,
          3963124,
          9178,
          32280,
          71,
          2313,
          25347,
          66353,
          42848,
          6823113,
          438812,
          25630,
          125907,
          33316,
          4869,
          114246,
          247914,
          19895,
          32,
          65748,
          57666,
          153762,
          8851,
          30536,
          1056430,
          7110,
          222713,
          31665,
          50788,
          345943,
          null,
          3505,
          39281,
          17286,
          121553,
          350411,
          27102,
          111085,
          565673,
          157924,
          101457,
          9624,
          92823,
          842,
          19509,
          2869906,
          10524,
          29443,
          27277,
          22861,
          120500,
          6055504,
          13733,
          3562,
          6626,
          9432,
          953712,
          618688,
          42113,
          18225,
          76217,
          90491,
          3480,
          11496,
          45448,
          237800,
          26837,
          186218,
          428683,
          3251,
          32717,
          103946,
          626889,
          355,
          9615,
          5556,
          24285,
          56485,
          19444,
          199265,
          3083,
          7289,
          2459,
          9154,
          7687,
          26890,
          62098,
          16225,
          18852,
          10259,
          41946,
          32884,
          55231,
          45821,
          56480,
          130796,
          26731,
          135484,
          34514,
          10818,
          223844,
          431284,
          2025653,
          37925,
          2309,
          16723,
          362022,
          5009,
          41945,
          126685,
          19630,
          57500,
          60821,
          14986,
          11961,
          107571,
          127971,
          9562,
          11323,
          8860,
          15137,
          42940,
          287759,
          18184,
          46566,
          36272,
          466063,
          36376,
          100232,
          74081,
          104645,
          300789,
          84728,
          4437532,
          8896,
          3136265,
          38261,
          47683,
          186142,
          639942,
          5000,
          16152,
          455277,
          251667,
          46158,
          367266,
          35004,
          2216,
          121547,
          51562,
          4897,
          12970,
          133987,
          316652,
          79878,
          32152,
          4144,
          96363,
          132236,
          43511,
          117286,
          7455,
          23477,
          24017,
          16028,
          46953,
          158510,
          295514,
          20365,
          328,
          144074,
          40750,
          21286,
          3514143,
          14899,
          738796,
          29610,
          8058,
          692,
          33570,
          4748,
          837671,
          13004,
          218539,
          18486,
          40407,
          44518,
          861503,
          17327,
          20892,
          106511,
          582,
          45027,
          26215,
          100199,
          19894,
          58950,
          61089,
          160983,
          14259033,
          365971,
          128800,
          9760,
          83707,
          22420,
          110145,
          38810,
          454036,
          46684,
          32092,
          343227,
          126347,
          45565,
          169669,
          16578,
          23546,
          22532,
          136598,
          17866,
          66783,
          83509,
          88325,
          77692,
          15576,
          17967,
          35432,
          68762,
          44412,
          22443,
          16649,
          15064,
          2673,
          33558,
          2584,
          909,
          630,
          null,
          187163,
          135952,
          33471,
          700,
          6568,
          275,
          41409,
          6366,
          20106,
          141654,
          1800,
          134194,
          29265,
          280090,
          49530,
          93094,
          309903,
          5015,
          1520,
          2353,
          39845,
          29014,
          197069,
          128268,
          13492,
          25308,
          33529,
          39458,
          47306,
          34575,
          152593,
          8491,
          16576,
          3945358,
          216934,
          127211,
          1861,
          44755,
          18780,
          27889,
          10409,
          94131,
          57308,
          2923,
          889,
          6189,
          27189,
          41927,
          2020,
          13038,
          22624,
          16915,
          19993,
          35423,
          1738,
          22479,
          9669,
          11059,
          287909,
          61424,
          19969,
          12111,
          11249,
          188472,
          36738,
          75063,
          6057,
          4439,
          2295,
          413,
          29562,
          4986,
          143561,
          19154,
          59866,
          32006,
          20616,
          19583,
          17411,
          97646,
          503,
          182663,
          95151,
          36776,
          59583,
          49192,
          48823,
          833480,
          42075,
          9330,
          2897163,
          363771,
          28773,
          702681,
          7774,
          32772,
          18982,
          19800,
          18403,
          39944,
          62375,
          17977,
          227589,
          22894,
          16646,
          59458,
          355223,
          126726,
          7927,
          91777,
          30398,
          16874,
          10705,
          228332,
          10402,
          25394,
          96744,
          85527,
          3550678,
          33213,
          10292,
          53333,
          44783,
          47086,
          11595,
          31942,
          72612,
          203216,
          11420,
          150521,
          79852,
          319390,
          148031,
          1790536,
          12785,
          155712,
          867676,
          11620,
          15593,
          308847,
          20363,
          5544,
          77209,
          702117,
          8031,
          74840,
          4597,
          34468,
          29589,
          7007,
          29581,
          140841,
          2611,
          33974,
          261832,
          20018,
          3984,
          1777,
          129100,
          75028,
          55719,
          549,
          36423,
          71905,
          55097,
          4427,
          39999,
          9700,
          11943,
          2350,
          13852,
          65719,
          632277,
          102993,
          19112,
          193795,
          153490,
          42841,
          24970,
          48525,
          7514,
          731644,
          29615,
          91267,
          1668,
          3494,
          281285,
          14477,
          2769,
          249384,
          62172,
          13542,
          785650,
          88764,
          7785,
          51437,
          3765,
          5180,
          31042,
          95162,
          16909,
          23288,
          3252,
          378105,
          28453,
          9126,
          598389,
          25021,
          2043,
          44083,
          4985,
          24059,
          1602939,
          8870,
          8574,
          183765,
          5940,
          22283,
          45878,
          77411,
          1452,
          446014,
          4192,
          12188,
          5658,
          60991,
          45628,
          82,
          15872,
          10415,
          29773,
          13657,
          4267,
          146358,
          85408,
          35758,
          4493972,
          29921,
          32102,
          21393,
          99436,
          25917,
          9965,
          17160,
          6201,
          89783,
          51846,
          374,
          283831,
          76431,
          10670,
          6545,
          11474,
          3749,
          115164,
          8680,
          356355,
          7375,
          31796,
          7355,
          7240,
          135047,
          51915,
          385059,
          80596,
          121477,
          27780,
          752,
          245113,
          2672,
          409,
          1514,
          962,
          6770,
          7247,
          27854,
          55521,
          31479,
          52388,
          4148,
          30518,
          203103,
          3933,
          11148,
          26024,
          41293,
          27953,
          4452,
          275,
          105355,
          52147,
          53545,
          37370,
          402045,
          16414,
          23783,
          77110,
          103051,
          8436,
          93420,
          3831,
          1244,
          188623,
          23689,
          7004,
          37,
          9165,
          11197,
          77866,
          205557,
          10960,
          135155,
          381271,
          779,
          8433,
          56392,
          23977,
          6851,
          1115,
          557743,
          56267,
          13217,
          28031,
          42940,
          15858,
          2839,
          44713,
          6813,
          12595,
          253,
          2464,
          274209,
          712,
          319041,
          669,
          31578,
          43557,
          634419,
          2236,
          8684,
          22569,
          24252,
          81516,
          26306,
          175132,
          30071,
          117231,
          372266,
          20442,
          5424,
          18957,
          643,
          28895,
          15392,
          13777,
          1346,
          3440,
          44809,
          11743,
          697363,
          17272,
          2946965,
          17728,
          56993,
          15641,
          14868,
          78852,
          1111,
          44866,
          null,
          15312,
          135411,
          61689,
          79336,
          162408,
          599842,
          205854,
          38690,
          63497,
          137796,
          88340,
          62969,
          1435534,
          14386,
          20138,
          47460,
          374130,
          375997,
          13126,
          2936,
          35777,
          23915,
          7812,
          98519,
          741,
          104631,
          27768,
          13488,
          492024,
          600,
          65909,
          12193,
          88302,
          12502,
          29551,
          2229,
          2498,
          17961,
          5409,
          15082,
          15317,
          201509,
          1251353,
          26859,
          6473,
          7665,
          4492,
          28603,
          3769,
          1289,
          48163,
          5630,
          101465,
          114,
          169994,
          11841,
          367987,
          6253,
          1786,
          150,
          3908,
          6465,
          29026,
          32631,
          94707,
          4936,
          2970,
          2271,
          30033,
          61031,
          119930,
          43960,
          32009,
          137884,
          3710978,
          4134,
          4315,
          212578,
          1218,
          3227,
          2713,
          16641,
          13318,
          25825,
          10317,
          20999,
          29541,
          13796,
          3362,
          216935,
          37893,
          6383,
          3498,
          5936,
          4976,
          96513,
          791,
          1313,
          12415,
          4898,
          34526,
          2400,
          6554,
          2364,
          37296,
          8070,
          4634,
          1237,
          1608,
          1969,
          93512,
          59959,
          7538,
          4122,
          2683,
          2382,
          54092,
          2012,
          19359,
          21111,
          40994,
          3102,
          12942,
          7973,
          42757,
          8227,
          45763,
          1822,
          8090,
          11283,
          2363,
          16316,
          55962,
          494889,
          52335,
          11563,
          1149,
          5089,
          5077,
          23558,
          55233,
          31601,
          74900,
          1793,
          2976,
          1507,
          35092,
          9069,
          25476,
          6946,
          29955,
          5947,
          6164,
          26419,
          12124,
          3237,
          15322,
          10119,
          31563,
          51772,
          22891,
          146978,
          7890,
          19987,
          97091,
          7402,
          46638,
          26616,
          23824,
          83345,
          9886,
          1521,
          207617,
          118001,
          21274,
          365592,
          1572,
          25885,
          1941,
          1050,
          12994,
          4248,
          9093,
          1234,
          5444,
          586,
          6920,
          908,
          3016,
          11283,
          5437,
          3216,
          5512,
          766,
          3464,
          24014,
          28966,
          1466,
          1571,
          24954,
          4590,
          3847,
          4836,
          4840,
          3215,
          1289,
          3600,
          1314,
          61448,
          18106,
          18730,
          19621,
          10669,
          16,
          96,
          3991,
          12849,
          644,
          8534,
          1194,
          2983,
          1862,
          18551,
          2254,
          7342,
          9641,
          814,
          5352,
          34599,
          4972,
          1444,
          35503,
          421608,
          1692,
          7277,
          8725,
          1490,
          1274,
          695,
          1537,
          23574,
          506,
          319,
          1455,
          416,
          68,
          2707,
          9062,
          5931,
          83,
          69,
          207061,
          13751,
          105,
          29732,
          15854,
          1213,
          1810,
          7219,
          23502,
          82449,
          18649,
          3205,
          64464,
          7866,
          6325,
          46,
          1121,
          2807,
          4615,
          50488,
          5716,
          57,
          478,
          1111,
          7946,
          5638,
          4232,
          8731,
          736,
          51,
          332,
          24181,
          346,
          31521,
          14800,
          1962726,
          1099,
          1678,
          5812,
          2992,
          2546,
          2639,
          11898,
          11805,
          3823,
          14293,
          2192,
          510,
          1708,
          2546,
          10724,
          9666,
          1139,
          2083,
          1728,
          2113,
          1102,
          830,
          2765,
          110517,
          901,
          4783,
          155534,
          179555,
          804,
          3675,
          11650,
          66,
          124,
          11751,
          490,
          57526,
          57527,
          2170,
          393,
          2048,
          6379,
          5630,
          1341,
          9544,
          52347,
          36,
          1030,
          15652,
          2258,
          3232,
          3495,
          869,
          3221,
          2379,
          2700,
          1215,
          54006,
          3026,
          23668,
          24496,
          774,
          1639,
          718,
          191,
          2750,
          10389,
          46642,
          404,
          14211,
          40,
          765,
          302909,
          8520,
          4706,
          978,
          1834,
          1021,
          1606,
          1025,
          577,
          1987,
          1781,
          2323,
          1872,
          23205,
          1785,
          5010,
          145,
          4663,
          15301,
          1449,
          1259,
          7292,
          2644,
          4147,
          106056,
          20319,
          542,
          470,
          1240,
          2949,
          9627,
          474,
          705,
          11248,
          2677,
          63825,
          4732,
          71566,
          10556,
          33773,
          17526,
          757,
          179,
          317,
          697,
          1897,
          712,
          7166,
          10595,
          14658,
          1204,
          null,
          1968,
          18208,
          2179,
          2817,
          1032,
          3721,
          310,
          2696,
          97,
          1241,
          2716,
          109,
          182,
          4066,
          2779,
          4855,
          286,
          467,
          8260,
          344,
          4873,
          37251,
          451,
          12928,
          1009,
          385,
          24505,
          2385,
          3075,
          2122,
          1569,
          8907,
          59,
          775,
          1027,
          29,
          7385,
          1167,
          589,
          1145,
          1688,
          2945,
          8384,
          63825,
          312575,
          1542,
          1365,
          2330,
          8033,
          207,
          160,
          33342,
          346,
          5577,
          113,
          15150,
          6642,
          3867,
          4656,
          19135,
          423,
          1811,
          39872,
          815,
          354984,
          311,
          18685,
          22450,
          6958,
          26505,
          280080,
          597,
          14665,
          2072,
          3407,
          12829,
          1090,
          1720,
          4049,
          1450,
          3645,
          2952,
          4303,
          34468,
          7185,
          14408,
          1382,
          null,
          2009,
          4852,
          1333,
          10321,
          1006,
          2967,
          489,
          90,
          196898,
          1417,
          1015,
          193217,
          3400,
          1483,
          2951,
          1431,
          15,
          535,
          3916,
          1096,
          26848,
          2645,
          2194,
          765,
          1324,
          6028,
          3638,
          11797,
          1493,
          6773,
          475,
          4063,
          600,
          1815,
          6559,
          17548,
          4484,
          2538,
          324,
          2539,
          3091,
          2740,
          476,
          2719,
          670,
          515,
          1796,
          789,
          2963,
          8484,
          187,
          63,
          2547,
          298445,
          129,
          1804,
          407,
          1808,
          866,
          8534,
          23828,
          701,
          621,
          52,
          519,
          4163,
          8738,
          3759,
          1411,
          257,
          198,
          8560,
          4160,
          1628,
          66,
          608,
          14787,
          105,
          1643,
          1462,
          1992,
          4296,
          7364,
          180,
          431,
          3179,
          2015,
          626,
          3245,
          25,
          11053,
          11244,
          612,
          1229,
          827,
          257,
          408,
          1288,
          686,
          674,
          371,
          1500,
          242,
          970,
          31710,
          6002,
          667,
          5762,
          1445,
          8912,
          5006,
          2667,
          941,
          2713,
          709,
          2374,
          2117,
          539,
          269,
          1827,
          76779,
          1809,
          12675,
          28878,
          7636,
          23676,
          1011,
          9633,
          5524,
          1265,
          469,
          14566,
          878,
          992,
          189,
          28195,
          954,
          2063,
          5595,
          27738,
          1200,
          4187,
          441,
          1294,
          915,
          1573,
          383,
          58,
          3405,
          1908,
          212,
          1700,
          82,
          14,
          827,
          3586,
          848,
          137,
          134,
          24,
          230,
          13,
          1029,
          534,
          295,
          239,
          216891,
          1916,
          1818,
          358,
          44,
          282,
          184,
          588,
          8526,
          2925,
          3685,
          544,
          2521,
          3374,
          19325,
          2990,
          4510,
          1531,
          8260,
          6117,
          406,
          1525,
          858,
          1209,
          1079,
          926,
          959,
          142261,
          6900,
          5675,
          418,
          1562,
          11069,
          29728,
          2342,
          2586,
          7246,
          449,
          1184,
          2468,
          1243,
          48710,
          947,
          2175,
          29966,
          15842,
          1409,
          855,
          10676,
          94,
          629,
          814,
          20892,
          7455,
          2208,
          3465,
          15637,
          959,
          1208,
          406,
          2677,
          3273,
          5333,
          1656,
          920,
          726,
          358,
          2135,
          4996,
          834,
          9574,
          563,
          737,
          7650,
          221,
          2118,
          2694,
          19997,
          26049,
          1716,
          3001265,
          526,
          1159,
          2104,
          3171,
          1944,
          10725,
          760,
          468,
          298406,
          3396,
          304,
          797,
          228,
          549,
          16605,
          703,
          3379,
          2237,
          1722,
          4758,
          2786,
          6160,
          4686,
          404,
          329,
          1144,
          11316,
          2011,
          1075,
          53,
          92,
          3344,
          563,
          357,
          2025,
          1031,
          null,
          3963,
          1120,
          1717,
          11283,
          554,
          903,
          6865,
          1362,
          875,
          656,
          4512,
          1229,
          2025,
          1734,
          1155,
          242721,
          14741,
          5041,
          8815,
          18063,
          3001232,
          119953,
          1634,
          38,
          17307,
          9401,
          519,
          2501,
          44616,
          3500,
          132,
          48041,
          462,
          7387,
          12935,
          4279,
          641,
          2815,
          329,
          19671,
          823,
          488,
          157,
          3516,
          5174,
          2184,
          2481,
          142,
          1677,
          5035,
          714,
          98631
         ],
         "yaxis": "y"
        },
        {
         "hovertemplate": "<b>OLS trendline</b><br>Likes = 0.00553918 * Views + 106165<br>R<sup>2</sup>=0.569238<br><br>Views=%{x}<br>Likes=%{y} <b>(trend)</b><extra></extra>",
         "legendgroup": "",
         "marker": {
          "color": "#636efa",
          "symbol": "circle"
         },
         "mode": "lines",
         "name": "",
         "showlegend": false,
         "type": "scattergl",
         "x": [
          25,
          63,
          601,
          867,
          911,
          1195,
          1352,
          1485,
          1599,
          1616,
          1954,
          2201,
          2219,
          2225,
          2270,
          2285,
          2386,
          2471,
          2546,
          2548,
          2587,
          2597,
          2661,
          2742,
          2758,
          2783,
          2786,
          2813,
          2847,
          2944,
          2985,
          3311,
          3461,
          3534,
          3618,
          3773,
          3882,
          4073,
          4114,
          4130,
          4247,
          4368,
          4384,
          4454,
          4639,
          4723,
          4806,
          4951,
          4976,
          5034,
          5110,
          5388,
          5663,
          5931,
          5967,
          6160,
          6178,
          6389,
          6443,
          6573,
          6611,
          6631,
          6640,
          6709,
          6817,
          7050,
          7093,
          7163,
          7325,
          7383,
          7487,
          7516,
          7771,
          7816,
          7966,
          7989,
          8064,
          8135,
          8502,
          8694,
          8862,
          8867,
          9050,
          9099,
          9245,
          9269,
          9401,
          9533,
          9542,
          9585,
          9780,
          9958,
          10105,
          10108,
          10129,
          10146,
          10309,
          10339,
          10351,
          10451,
          10503,
          10509,
          10554,
          10572,
          10642,
          10671,
          10737,
          11230,
          11293,
          11448,
          11630,
          11642,
          11649,
          11745,
          11848,
          12041,
          12274,
          12289,
          12456,
          12464,
          12513,
          12666,
          13043,
          13184,
          13184,
          13489,
          13591,
          13976,
          13991,
          14263,
          14264,
          14336,
          14341,
          14537,
          14537,
          14593,
          14721,
          14780,
          14877,
          15177,
          15329,
          15390,
          15426,
          15582,
          15689,
          15786,
          16080,
          16115,
          16123,
          16243,
          16307,
          16396,
          16451,
          16887,
          17145,
          17156,
          17191,
          17195,
          17259,
          17418,
          17763,
          18154,
          18216,
          18302,
          18531,
          18535,
          18837,
          18992,
          19147,
          19220,
          19223,
          19323,
          19525,
          19622,
          19693,
          19755,
          19923,
          19967,
          20076,
          20600,
          20861,
          20897,
          21012,
          21112,
          21114,
          21129,
          21164,
          21332,
          21868,
          21962,
          22525,
          22593,
          22860,
          22966,
          23035,
          23135,
          23175,
          23225,
          23239,
          23448,
          23653,
          23763,
          23786,
          23819,
          23909,
          24012,
          24612,
          24650,
          24686,
          24792,
          24863,
          25115,
          25201,
          25291,
          25316,
          25331,
          25386,
          25594,
          25648,
          25745,
          25865,
          26499,
          26709,
          26789,
          27243,
          27258,
          27378,
          27564,
          27676,
          28047,
          28219,
          28386,
          28759,
          28892,
          29055,
          29180,
          29751,
          29780,
          29864,
          30191,
          30215,
          30328,
          30352,
          30388,
          30405,
          30465,
          30632,
          30871,
          31289,
          31343,
          31449,
          31510,
          31657,
          31837,
          32054,
          32162,
          32605,
          32926,
          32988,
          33028,
          33246,
          33480,
          34090,
          34348,
          34655,
          34715,
          34789,
          34941,
          34941,
          34954,
          35288,
          35373,
          35516,
          35571,
          35759,
          35948,
          36138,
          36310,
          36410,
          36473,
          36560,
          36585,
          36948,
          37340,
          37352,
          37711,
          37830,
          37870,
          37883,
          37905,
          37959,
          38520,
          38560,
          38688,
          39049,
          39193,
          39296,
          39409,
          39944,
          40223,
          40240,
          40275,
          41057,
          41517,
          41735,
          41900,
          41925,
          42191,
          42216,
          42274,
          42648,
          42924,
          42948,
          43046,
          43235,
          43591,
          43743,
          44809,
          45006,
          45122,
          45157,
          45214,
          45584,
          45779,
          45872,
          46065,
          46082,
          46436,
          46495,
          46862,
          47430,
          47619,
          47696,
          47811,
          47926,
          48051,
          48918,
          48984,
          49294,
          49591,
          50148,
          50724,
          50941,
          51017,
          51269,
          51321,
          51716,
          51747,
          51885,
          51885,
          52323,
          52695,
          52909,
          52954,
          53087,
          53110,
          53207,
          53211,
          53592,
          53965,
          54030,
          54541,
          54596,
          54917,
          55078,
          55105,
          55195,
          55298,
          55539,
          55643,
          55828,
          56066,
          56101,
          56683,
          56956,
          56994,
          57394,
          57411,
          57446,
          57692,
          57850,
          57858,
          58050,
          58330,
          58559,
          58621,
          58850,
          59177,
          59232,
          59749,
          60528,
          60835,
          61085,
          61195,
          61478,
          62189,
          62428,
          62815,
          63599,
          63650,
          63675,
          63870,
          63886,
          64368,
          64395,
          64703,
          64877,
          64958,
          65005,
          65057,
          65137,
          65632,
          65745,
          66259,
          66279,
          66379,
          66507,
          66633,
          66888,
          67276,
          67444,
          67619,
          68989,
          69951,
          70181,
          70186,
          70483,
          70762,
          71547,
          71578,
          71652,
          72310,
          72414,
          72517,
          72885,
          73864,
          74253,
          74586,
          75301,
          75483,
          75586,
          76373,
          76643,
          76828,
          77109,
          77345,
          77502,
          78038,
          78050,
          78423,
          78520,
          78841,
          79265,
          79531,
          79741,
          80522,
          82298,
          82596,
          82844,
          82874,
          82902,
          83073,
          83121,
          83228,
          83353,
          83807,
          83902,
          84465,
          84565,
          85052,
          85191,
          85298,
          85359,
          85503,
          86658,
          86855,
          87181,
          87422,
          87484,
          87567,
          87891,
          88247,
          88788,
          88980,
          89486,
          89985,
          90926,
          91932,
          92760,
          92841,
          92899,
          93564,
          93633,
          94188,
          95369,
          95826,
          95826,
          97136,
          97163,
          97434,
          97537,
          97930,
          97946,
          98972,
          99244,
          99569,
          99774,
          100366,
          100586,
          100979,
          101255,
          101986,
          102646,
          103248,
          103500,
          104246,
          106127,
          106305,
          106597,
          106690,
          106966,
          107906,
          107917,
          107957,
          108055,
          108383,
          108874,
          108903,
          109363,
          109574,
          110066,
          111027,
          111581,
          112040,
          112418,
          113080,
          113661,
          114921,
          115655,
          116672,
          117695,
          118523,
          119487,
          119878,
          120365,
          121644,
          121692,
          122824,
          124442,
          125307,
          125674,
          126185,
          126212,
          126228,
          127082,
          127492,
          127748,
          127803,
          128164,
          128524,
          128548,
          129231,
          129591,
          130286,
          131012,
          131716,
          131760,
          131943,
          132072,
          132403,
          132583,
          132646,
          132960,
          133708,
          133933,
          135056,
          135067,
          135612,
          136526,
          137405,
          137791,
          138290,
          138803,
          140607,
          140916,
          141306,
          141779,
          142040,
          143605,
          143959,
          145497,
          145691,
          146080,
          146774,
          146821,
          148482,
          148992,
          149363,
          149396,
          150039,
          150633,
          151259,
          151345,
          151493,
          153064,
          153395,
          154461,
          154901,
          155562,
          156011,
          156294,
          156610,
          157301,
          157525,
          157632,
          159448,
          159877,
          164119,
          164331,
          164869,
          164940,
          165623,
          165986,
          167574,
          167863,
          167962,
          169562,
          170305,
          170837,
          170926,
          172513,
          173717,
          174482,
          176151,
          176919,
          179180,
          179728,
          180396,
          180651,
          181827,
          181931,
          183096,
          184093,
          184475,
          186568,
          187063,
          187668,
          187892,
          187956,
          188490,
          188875,
          189066,
          189956,
          190106,
          190418,
          190491,
          191777,
          191830,
          192740,
          192964,
          193604,
          195145,
          195618,
          196484,
          196727,
          196801,
          198004,
          198844,
          199395,
          199416,
          200452,
          200847,
          202934,
          203084,
          203851,
          205486,
          205943,
          206418,
          208701,
          208877,
          210192,
          212395,
          212973,
          215489,
          216482,
          218182,
          223700,
          226152,
          226258,
          228095,
          228752,
          229865,
          229928,
          230945,
          231325,
          231488,
          234454,
          235019,
          235294,
          237313,
          238411,
          239924,
          240234,
          240428,
          240447,
          240450,
          246407,
          251101,
          252524,
          254500,
          254621,
          255706,
          255839,
          257103,
          257199,
          257848,
          258491,
          258994,
          259851,
          261713,
          261889,
          262959,
          264809,
          265906,
          266203,
          267705,
          268946,
          269716,
          269849,
          270284,
          271333,
          271415,
          273349,
          273900,
          274201,
          275924,
          276221,
          276901,
          278240,
          278274,
          278584,
          280369,
          281839,
          282480,
          282641,
          283172,
          284841,
          285609,
          286228,
          286969,
          287879,
          288312,
          288722,
          288796,
          290351,
          292643,
          293213,
          293379,
          295344,
          296801,
          297290,
          297966,
          302407,
          302924,
          304037,
          304816,
          305772,
          307938,
          309098,
          309718,
          310738,
          311071,
          312191,
          313285,
          313847,
          314438,
          317372,
          318051,
          318166,
          318419,
          319387,
          319489,
          319957,
          320959,
          323071,
          324079,
          325200,
          325309,
          327146,
          327463,
          328489,
          331603,
          331718,
          332371,
          338212,
          338844,
          345071,
          351087,
          351985,
          353784,
          355919,
          356678,
          362229,
          364725,
          366447,
          367200,
          367781,
          368017,
          369997,
          371563,
          374241,
          374525,
          377483,
          378563,
          380649,
          383734,
          384035,
          384275,
          385239,
          385709,
          386360,
          386436,
          386949,
          389051,
          389114,
          390348,
          391796,
          392314,
          393718,
          398061,
          400330,
          400968,
          401678,
          402110,
          405791,
          405850,
          405989,
          408227,
          409554,
          411015,
          413179,
          419705,
          420420,
          425073,
          425099,
          425850,
          425880,
          426409,
          426875,
          427945,
          431421,
          435863,
          437660,
          438358,
          439103,
          441062,
          441183,
          443909,
          444036,
          444953,
          447522,
          450066,
          451843,
          452937,
          454927,
          457957,
          459455,
          461467,
          462943,
          463378,
          464557,
          466494,
          467835,
          470123,
          473122,
          474368,
          475535,
          481643,
          482269,
          482392,
          485266,
          488575,
          489332,
          492976,
          495065,
          497458,
          499461,
          500097,
          502221,
          504475,
          507103,
          507836,
          508969,
          510592,
          512978,
          513747,
          513997,
          514758,
          515395,
          518790,
          520371,
          520431,
          525081,
          525488,
          527380,
          530763,
          530889,
          533712,
          533947,
          534114,
          537070,
          543947,
          544761,
          544884,
          544895,
          549530,
          549566,
          552256,
          559680,
          561921,
          565863,
          566143,
          566503,
          568816,
          573655,
          573706,
          576311,
          577426,
          578167,
          578179,
          578389,
          580096,
          587218,
          589007,
          589429,
          589907,
          591721,
          592173,
          592998,
          593989,
          594480,
          595608,
          596680,
          596902,
          602137,
          604827,
          605453,
          607849,
          608005,
          608177,
          608323,
          609802,
          610308,
          613757,
          617350,
          618566,
          619006,
          619387,
          620690,
          621093,
          621651,
          622551,
          632477,
          633520,
          637152,
          638770,
          639089,
          640120,
          646913,
          647117,
          649114,
          652244,
          655844,
          657999,
          662992,
          665643,
          667767,
          674979,
          677081,
          679025,
          679453,
          681002,
          689166,
          689494,
          689762,
          691573,
          693153,
          698519,
          701005,
          702174,
          705942,
          707813,
          708445,
          713211,
          715895,
          718461,
          719270,
          720075,
          738202,
          738726,
          739507,
          740962,
          742272,
          743338,
          745050,
          746236,
          747110,
          747705,
          748675,
          749734,
          753025,
          755642,
          759857,
          760249,
          761574,
          762553,
          767162,
          775719,
          776034,
          782934,
          786765,
          787667,
          791042,
          791624,
          793228,
          795386,
          796750,
          800364,
          802372,
          805728,
          805994,
          808215,
          808787,
          810069,
          811965,
          821480,
          824297,
          832026,
          834400,
          838788,
          844015,
          847233,
          848504,
          854273,
          855392,
          855620,
          855958,
          856628,
          858549,
          858731,
          859569,
          869372,
          870453,
          872008,
          872859,
          873549,
          875957,
          876309,
          879470,
          879609,
          879645,
          880432,
          889300,
          890196,
          891548,
          896227,
          897553,
          900960,
          901368,
          904713,
          905023,
          906361,
          906372,
          909323,
          920846,
          922918,
          925547,
          928585,
          928704,
          930267,
          931636,
          932432,
          932919,
          933111,
          936041,
          939411,
          940004,
          943119,
          943664,
          947162,
          950825,
          951514,
          952869,
          956340,
          960994,
          961317,
          961789,
          962507,
          963335,
          967211,
          977299,
          984168,
          994999,
          1005072,
          1006579,
          1006704,
          1008972,
          1010630,
          1010999,
          1011277,
          1016391,
          1018753,
          1020152,
          1020154,
          1033764,
          1034342,
          1044608,
          1045028,
          1045672,
          1048056,
          1048396,
          1051751,
          1057862,
          1058423,
          1061608,
          1071023,
          1075761,
          1084758,
          1085076,
          1085330,
          1086568,
          1088318,
          1089328,
          1090694,
          1094217,
          1097006,
          1100740,
          1101187,
          1102647,
          1104214,
          1115596,
          1118396,
          1120660,
          1134047,
          1135106,
          1142057,
          1148562,
          1152562,
          1156785,
          1167616,
          1178354,
          1186255,
          1187250,
          1188153,
          1194578,
          1194593,
          1195181,
          1198270,
          1203517,
          1204024,
          1204024,
          1205719,
          1206538,
          1208037,
          1212736,
          1213867,
          1218268,
          1223879,
          1228300,
          1229745,
          1235556,
          1248957,
          1251200,
          1253037,
          1257676,
          1266475,
          1266882,
          1267276,
          1273223,
          1280387,
          1284173,
          1285807,
          1291584,
          1293718,
          1296777,
          1299714,
          1309077,
          1310018,
          1316713,
          1322089,
          1325826,
          1331141,
          1332052,
          1335282,
          1335899,
          1339489,
          1341953,
          1344472,
          1345404,
          1345420,
          1345689,
          1346386,
          1348450,
          1360604,
          1366364,
          1378069,
          1379849,
          1385264,
          1407319,
          1407324,
          1414209,
          1419701,
          1425150,
          1429951,
          1430388,
          1432027,
          1433436,
          1435374,
          1437698,
          1451335,
          1453590,
          1453787,
          1454316,
          1456270,
          1456270,
          1457290,
          1461872,
          1465011,
          1466906,
          1469736,
          1471735,
          1484533,
          1486176,
          1487029,
          1499121,
          1502125,
          1503148,
          1510897,
          1515048,
          1530735,
          1539948,
          1541386,
          1545582,
          1546801,
          1550802,
          1554691,
          1557335,
          1564007,
          1564007,
          1564078,
          1564431,
          1574015,
          1576038,
          1592794,
          1603229,
          1606273,
          1632584,
          1633059,
          1642556,
          1651459,
          1651599,
          1655085,
          1658204,
          1667301,
          1667322,
          1669551,
          1669884,
          1671725,
          1672442,
          1684678,
          1685445,
          1686249,
          1686785,
          1687552,
          1687706,
          1693263,
          1693731,
          1695814,
          1695867,
          1700683,
          1705786,
          1707883,
          1711823,
          1713463,
          1722365,
          1723190,
          1732100,
          1732512,
          1743151,
          1750656,
          1754969,
          1756737,
          1758063,
          1760155,
          1761493,
          1765945,
          1766202,
          1778635,
          1782074,
          1804121,
          1815767,
          1815856,
          1820413,
          1836457,
          1837300,
          1847672,
          1851336,
          1853171,
          1855644,
          1864630,
          1875721,
          1879805,
          1889320,
          1889567,
          1902823,
          1912405,
          1928710,
          1945140,
          1945769,
          1952077,
          1962673,
          2006133,
          2007038,
          2009963,
          2017263,
          2018720,
          2020370,
          2027462,
          2029047,
          2036446,
          2040877,
          2058438,
          2064594,
          2110850,
          2117474,
          2122433,
          2144508,
          2158052,
          2173854,
          2188598,
          2197690,
          2199261,
          2213038,
          2214491,
          2225959,
          2228510,
          2278082,
          2278698,
          2287752,
          2295412,
          2302755,
          2313225,
          2317183,
          2322280,
          2333380,
          2343365,
          2349546,
          2359142,
          2359653,
          2361410,
          2362949,
          2367294,
          2372539,
          2381931,
          2399810,
          2417577,
          2453529,
          2458686,
          2464907,
          2467290,
          2468059,
          2474364,
          2475429,
          2494758,
          2497202,
          2529301,
          2529954,
          2530836,
          2535222,
          2541347,
          2549580,
          2564092,
          2568894,
          2570601,
          2575482,
          2578373,
          2586478,
          2609123,
          2610708,
          2615459,
          2644603,
          2657361,
          2666406,
          2699810,
          2706505,
          2710713,
          2724499,
          2745019,
          2750006,
          2767666,
          2792013,
          2796778,
          2797148,
          2812807,
          2817800,
          2817851,
          2822656,
          2844014,
          2853191,
          2853947,
          2854238,
          2861258,
          2884100,
          2885013,
          2885056,
          2889074,
          2936679,
          2943450,
          2947659,
          2954971,
          2954979,
          2966344,
          2987298,
          3020492,
          3046581,
          3068118,
          3069097,
          3074914,
          3114396,
          3128517,
          3134189,
          3157064,
          3176730,
          3182375,
          3186890,
          3218250,
          3243901,
          3248506,
          3270832,
          3308580,
          3330650,
          3335591,
          3346948,
          3368446,
          3371830,
          3392295,
          3432799,
          3433953,
          3442343,
          3452285,
          3452571,
          3455728,
          3457355,
          3463977,
          3487219,
          3505369,
          3526040,
          3588950,
          3593833,
          3653854,
          3666465,
          3691767,
          3731583,
          3733933,
          3745331,
          3750968,
          3773387,
          3773387,
          3776936,
          3779069,
          3854528,
          3863719,
          3921128,
          3927439,
          3934199,
          3989464,
          4012930,
          4043624,
          4056267,
          4087572,
          4098562,
          4098623,
          4154143,
          4181136,
          4195072,
          4231789,
          4235793,
          4271973,
          4282206,
          4288625,
          4288833,
          4290144,
          4309217,
          4341289,
          4357193,
          4364168,
          4382539,
          4416622,
          4418714,
          4435209,
          4452337,
          4502356,
          4526546,
          4543326,
          4562145,
          4573945,
          4584546,
          4613023,
          4613254,
          4676492,
          4695664,
          4696990,
          4782514,
          4783245,
          4795109,
          4801805,
          4820297,
          4849924,
          4876825,
          4981769,
          4984442,
          4991078,
          5028230,
          5054426,
          5093587,
          5132684,
          5156616,
          5210940,
          5231674,
          5249373,
          5281537,
          5283664,
          5301271,
          5323008,
          5351715,
          5351960,
          5370346,
          5399988,
          5423172,
          5434925,
          5451348,
          5464252,
          5533307,
          5547667,
          5578536,
          5637132,
          5646817,
          5656681,
          5683239,
          5750667,
          5833454,
          5847791,
          5850945,
          5884330,
          5903244,
          5923959,
          5937790,
          5992730,
          6037721,
          6055668,
          6058858,
          6091315,
          6100867,
          6123730,
          6134948,
          6149318,
          6170029,
          6216027,
          6224649,
          6225136,
          6281449,
          6301646,
          6312772,
          6315803,
          6329576,
          6340958,
          6366422,
          6383519,
          6478696,
          6599382,
          6644534,
          6701666,
          6734947,
          6742766,
          6897438,
          6968660,
          7001236,
          7004107,
          7009241,
          7073338,
          7108897,
          7132206,
          7178954,
          7188648,
          7209027,
          7308863,
          7320107,
          7367727,
          7370713,
          7428280,
          7433726,
          7497071,
          7510904,
          7544821,
          7549484,
          7556654,
          7569833,
          7571701,
          7715681,
          7755963,
          7783157,
          7795119,
          7825074,
          7846143,
          7892369,
          7906241,
          7958011,
          7975584,
          7989628,
          8097268,
          8122555,
          8186585,
          8295441,
          8324871,
          8339001,
          8378324,
          8445210,
          8496353,
          8596384,
          8620346,
          8639567,
          8705503,
          8830062,
          8946712,
          8947796,
          9024180,
          9033159,
          9090985,
          9147428,
          9224408,
          9253680,
          9277945,
          9444655,
          9450554,
          9493733,
          9552698,
          9618335,
          9629509,
          9734303,
          9736125,
          9769103,
          9803295,
          9826182,
          9897790,
          9904507,
          9914057,
          10008290,
          10097646,
          10106841,
          10125075,
          10155588,
          10275325,
          10280971,
          10330078,
          10331666,
          10338163,
          10450206,
          10608521,
          10730641,
          10786819,
          10792977,
          10817160,
          10909239,
          10963984,
          11034311,
          11118461,
          11123363,
          11181957,
          11184537,
          11188525,
          11235146,
          11422924,
          11440455,
          11563268,
          11666184,
          11745320,
          11792862,
          11805668,
          11814893,
          11829970,
          12244410,
          12272628,
          12382988,
          12550897,
          12867358,
          12964069,
          13048900,
          13176819,
          13278916,
          13545273,
          13590001,
          13637506,
          13829574,
          13844095,
          13966109,
          14073219,
          14118968,
          14269018,
          14286302,
          14296001,
          14322764,
          14694097,
          14800155,
          14835017,
          14914811,
          15014572,
          15040548,
          15110047,
          15397832,
          15666598,
          15836037,
          16099483,
          16209382,
          16294784,
          17069314,
          17069830,
          17103736,
          17282158,
          17321080,
          17716356,
          17975269,
          18116954,
          18380002,
          18492610,
          18496859,
          18565979,
          18609928,
          19097087,
          19210396,
          19256162,
          19469009,
          20026987,
          20548194,
          20647398,
          20779962,
          21485819,
          21747698,
          22100487,
          22439610,
          22529756,
          23169378,
          23222262,
          23535618,
          23568994,
          23717752,
          23836066,
          23836066,
          23925458,
          23973948,
          24994827,
          25367316,
          26160434,
          26260197,
          26355125,
          26826274,
          27922929,
          28325416,
          28574258,
          29657435,
          29905105,
          29905105,
          31518906,
          31667627,
          31858250,
          32300300,
          32791832,
          33227408,
          33779197,
          34484565,
          35490831,
          35695760,
          35771194,
          36467409,
          36868871,
          37037129,
          37550877,
          37780348,
          38289391,
          38478475,
          39581966,
          41739024,
          42252029,
          42257995,
          44424347,
          44943014,
          45665114,
          46251795,
          47276202,
          48018833,
          49183640,
          49429306,
          50348575,
          50358797,
          52046148,
          52061447,
          54244089,
          54583132,
          57369066,
          58590655,
          58921922,
          61197670,
          63310479,
          65067408,
          66368842,
          66839006,
          66999237,
          68512549,
          69330547,
          71968133,
          75785129,
          78137822,
          79882619,
          79941868,
          84410562,
          84747957,
          85522922,
          86169225,
          91053784,
          92621700,
          93319974,
          93963115,
          94340456,
          94508185,
          94900199,
          97578090,
          98559845,
          98750169,
          99698731,
          106014469,
          106151957,
          107126467,
          110124989,
          116842899,
          122994457,
          125670049,
          134377650,
          136439525,
          145167323,
          147339243,
          153478497,
          156000008,
          160818375,
          161103805,
          168546247,
          180766617,
          191988678,
          193685278,
          208293677,
          239207161,
          250793774,
          285526909,
          302125099,
          308501014,
          321977550,
          378164492,
          425478119,
          434352213,
          524709805,
          826423766,
          915457091,
          1582262997,
          4034122271
         ],
         "xaxis": "x",
         "y": [
          106165.17324114499,
          106165.38372998683,
          106168.36380885287,
          106169.83723074573,
          106170.08095466786,
          106171.65408180161,
          106172.5237330692,
          106173.26044401564,
          106173.89191054115,
          106173.98607660197,
          106175.85831945833,
          106177.22649693028,
          106177.32620217116,
          106177.35943725145,
          106177.60870035362,
          106177.69178805435,
          106178.25124523924,
          106178.72207554335,
          106179.13751404698,
          106179.14859240707,
          106179.36462042897,
          106179.42001222944,
          106179.77451975255,
          106180.22319333647,
          106180.31182021723,
          106180.45029971845,
          106180.4669172586,
          106180.6164751199,
          106180.80480724154,
          106181.34210770624,
          106181.56921408822,
          106183.374986784,
          106184.20586379126,
          106184.61022393478,
          106185.07551505885,
          106185.93408796635,
          106186.53785859163,
          106187.59584198087,
          106187.82294836285,
          106187.91157524363,
          106188.55965930929,
          106189.22990009515,
          106189.31852697591,
          106189.70626957931,
          106190.73101788826,
          106191.19630901232,
          106191.65606095635,
          106192.45924206336,
          106192.59772156457,
          106192.91899400737,
          106193.33997169105,
          106194.8798637445,
          106196.40313825781,
          106197.88763851077,
          106198.08704899251,
          106199.15611074185,
          106199.25581598273,
          106200.42458297293,
          106200.72369869555,
          106201.44379210184,
          106201.65428094368,
          106201.76506454466,
          106201.81491716509,
          106202.19712058842,
          106202.79535203365,
          106204.08598098492,
          106204.32416572701,
          106204.7119083304,
          106205.60925549823,
          106205.93052794103,
          106206.50660266608,
          106206.66723888747,
          106208.07972979982,
          106208.328992902,
          106209.15986990926,
          106209.28727105036,
          106209.702709554,
          106210.09599133742,
          106212.12887041518,
          106213.19239298448,
          106214.1229752326,
          106214.15067113285,
          106215.1643410817,
          106215.43576090407,
          106216.24448119114,
          106216.3774215123,
          106217.1085932787,
          106217.83976504508,
          106217.88961766551,
          106218.12780240759,
          106219.20794251702,
          106220.19391656564,
          106221.00817603276,
          106221.0247935729,
          106221.14111635392,
          106221.23528241474,
          106222.13816876263,
          106222.30434416408,
          106222.37081432466,
          106222.9247323295,
          106223.21276969202,
          106223.2460047723,
          106223.49526787449,
          106223.59497311535,
          106223.98271571874,
          106224.14335194015,
          106224.50893782334,
          106227.2397535872,
          106227.58872193024,
          106228.44729483774,
          106229.45542560655,
          106229.52189576713,
          106229.56067002747,
          106230.09243131212,
          106230.6629668571,
          106231.73202860644,
          106233.02265755771,
          106233.10574525844,
          106234.03078832652,
          106234.07510176691,
          106234.34652158928,
          106235.19401613668,
          106237.28228701492,
          106238.06331140175,
          106238.06331140175,
          106239.7527613165,
          106240.31775768145,
          106242.45034200007,
          106242.5334297008,
          106244.04008667397,
          106244.045625854,
          106244.44444681749,
          106244.47214271773,
          106245.55782200722,
          106245.55782200722,
          106245.86801608992,
          106246.57703113613,
          106246.90384275898,
          106247.44114322367,
          106249.10289723819,
          106249.94485260555,
          106250.28274258849,
          106250.48215307023,
          106251.34626515779,
          106251.93895742296,
          106252.47625788765,
          106254.10477682189,
          106254.29864812357,
          106254.34296156396,
          106255.00766316977,
          106255.36217069287,
          106255.85515771717,
          106256.15981261984,
          106258.57489512094,
          106260.00400357341,
          106260.06493455396,
          106260.25880585564,
          106260.28096257584,
          106260.63547009893,
          106261.51619972663,
          106263.42721684332,
          106265.59303624225,
          106265.93646540525,
          106266.4128348894,
          106267.68130712048,
          106267.70346384068,
          106269.3762962153,
          106270.2348691228,
          106271.0934420303,
          106271.49780217382,
          106271.51441971397,
          106272.06833771881,
          106273.18725208858,
          106273.72455255328,
          106274.11783433672,
          106274.46126349972,
          106275.39184574784,
          106275.63556966998,
          106276.23934029524,
          106279.14187064061,
          106280.58759663324,
          106280.78700711498,
          106281.42401282054,
          106281.97793082538,
          106281.98900918548,
          106282.0720968862,
          106282.2659681879,
          106283.19655043603,
          106286.16555094197,
          106286.68623386651,
          106289.80479223376,
          106290.18145647705,
          106291.66041754997,
          106292.2475706351,
          106292.62977405843,
          106293.18369206328,
          106293.40525926522,
          106293.68221826763,
          106293.75976678831,
          106294.91745541841,
          106296.05298732834,
          106296.66229713366,
          106296.78969827478,
          106296.97249121637,
          106297.47101742073,
          106298.0415529657,
          106301.36506099475,
          106301.57554983658,
          106301.77496031832,
          106302.36211340345,
          106302.75539518689,
          106304.15126855909,
          106304.62763804324,
          106305.1261642476,
          106305.26464374881,
          106305.34773144954,
          106305.6523863522,
          106306.80453580226,
          106307.10365152487,
          106307.64095198957,
          106308.30565359538,
          106311.81749374606,
          106312.98072155622,
          106313.42385596009,
          106315.93864370206,
          106316.02173140278,
          106316.6864330086,
          106317.71672049758,
          106318.337108663,
          106320.39214446096,
          106321.34488342928,
          106322.26992649736,
          106324.33604065541,
          106325.07275160185,
          106325.97563794974,
          106326.66803545579,
          106329.83090726341,
          106329.99154348482,
          106330.45683460889,
          106332.26814648471,
          106332.40108680587,
          106333.02701415135,
          106333.1599544725,
          106333.35936495425,
          106333.45353101507,
          106333.78588181797,
          106334.71092488605,
          106336.03478891762,
          106338.35016617784,
          106338.64928190045,
          106339.23643498558,
          106339.57432496853,
          106340.38858443566,
          106341.38563684435,
          106342.58763891486,
          106343.18587036009,
          106345.63972712152,
          106347.41780391705,
          106347.76123308006,
          106347.98280028198,
          106349.19034153254,
          106350.48650966387,
          106353.86540949339,
          106355.29451794586,
          106356.99504622072,
          106357.32739702362,
          106357.7372963472,
          106358.57925171456,
          106358.57925171456,
          106358.65126105519,
          106360.50134719136,
          106360.97217749547,
          106361.76428024238,
          106362.06893514504,
          106363.11030099414,
          106364.15720602329,
          106365.20965023249,
          106366.1623892008,
          106366.71630720564,
          106367.0652755487,
          106367.5471842129,
          106367.68566371412,
          106369.69638607168,
          106371.86774465065,
          106371.93421481123,
          106373.9227804486,
          106374.58194287436,
          106374.8035100763,
          106374.87551941692,
          106374.997381378,
          106375.2964971006,
          106378.40397710775,
          106378.62554430969,
          106379.33455935588,
          106381.33420335334,
          106382.13184528031,
          106382.7023808253,
          106383.32830817076,
          106386.29176949666,
          106387.83720073015,
          106387.93136679097,
          106388.12523809267,
          106392.45687689052,
          106395.00489971277,
          106396.21244096333,
          106397.1264056713,
          106397.26488517251,
          106398.73830706539,
          106398.8767865666,
          106399.1980590094,
          106401.2697123475,
          106402.79852604086,
          106402.93146636202,
          106403.47430600676,
          106404.5212110359,
          106406.49315913313,
          106407.33511450049,
          106413.23988043207,
          106414.3310989016,
          106414.97364378722,
          106415.1675150889,
          106415.48324835167,
          106417.53274496958,
          106418.61288507901,
          106419.12802882351,
          106420.19709057285,
          106420.29125663367,
          106422.2521263708,
          106422.57893799365,
          106424.61181707142,
          106427.7580713389,
          106428.80497636805,
          106429.23149323177,
          106429.86849893733,
          106430.5055046429,
          106431.19790214895,
          106436.0003712509,
          106436.3659571341,
          106438.0831029491,
          106439.72823942346,
          106442.81356271042,
          106446.0041304183,
          106447.20613248879,
          106447.62711017247,
          106449.02298354467,
          106449.31102090719,
          106451.4989970263,
          106451.6707116078,
          106452.43511845448,
          106452.43511845448,
          106454.86127931566,
          106456.92185429367,
          106458.10723882403,
          106458.3565019262,
          106459.09321287264,
          106459.22061401376,
          106459.75791447844,
          106459.78007119863,
          106461.89049879707,
          106463.95661295512,
          106464.31665965827,
          106467.147180663,
          106467.45183556566,
          106469.22991236119,
          106470.12172034898,
          106470.27127821029,
          106470.76980441464,
          106471.34033995963,
          106472.6752823513,
          106473.25135707633,
          106474.27610538527,
          106475.59443023679,
          106475.78830153849,
          106479.01210432664,
          106480.52430047985,
          106480.7347893217,
          106482.95046134105,
          106483.04462740188,
          106483.23849870356,
          106484.60113699548,
          106485.47632744312,
          106485.52064088351,
          106486.58416345279,
          106488.13513386635,
          106489.40360609743,
          106489.74703526043,
          106491.01550749151,
          106492.82681936733,
          106493.13147426999,
          106495.99523035501,
          106500.31025161271,
          106502.01077988755,
          106503.39557489965,
          106504.00488470498,
          106505.57247265868,
          106509.51082967308,
          106510.83469370464,
          106512.97835638338,
          106517.32107354132,
          106517.60357172378,
          106517.74205122498,
          106518.82219133442,
          106518.9108182152,
          106521.58070299852,
          106521.73026085983,
          106523.43632831472,
          106524.40014564316,
          106524.84881922707,
          106525.10916068935,
          106525.39719805187,
          106525.84033245573,
          106528.58222657969,
          106529.20815392515,
          106532.05529247003,
          106532.166076071,
          106532.71999407583,
          106533.42900912203,
          106534.12694580812,
          106535.53943672046,
          106537.68863857923,
          106538.61922082737,
          106539.58857733583,
          106547.17725400213,
          106552.50594520869,
          106553.77995661981,
          106553.80765252004,
          106555.45278899443,
          106556.99822022792,
          106561.34647656592,
          106561.5181911474,
          106561.92809047099,
          106565.57287094284,
          106566.14894566787,
          106566.71948121284,
          106568.75789947066,
          106574.18075673803,
          106576.33549777685,
          106578.18004473297,
          106582.14055846757,
          106583.14868923638,
          106583.71922478135,
          106588.07855947944,
          106589.5741380925,
          106590.59888640145,
          106592.15539599505,
          106593.46264248647,
          106594.33229375407,
          106597.30129426,
          106597.36776442059,
          106599.43387857864,
          106599.97117904334,
          106601.74925583886,
          106604.09786817938,
          106605.57129007226,
          106606.73451788242,
          106611.0606175002,
          106620.89820126614,
          106622.54887692057,
          106623.92259357257,
          106624.08876897402,
          106624.24386601537,
          106625.19106580365,
          106625.45694644598,
          106626.04963871115,
          106626.7420362172,
          106629.25682395916,
          106629.78304606376,
          106632.90160443101,
          106633.45552243585,
          106636.15310311942,
          106636.92304914613,
          106637.51574141132,
          106637.85363139426,
          106638.65127332123,
          106645.04902627712,
          106646.14024474665,
          106647.94601744243,
          106649.2809598341,
          106649.6243889971,
          106650.08414094111,
          106651.87883527679,
          106653.85078337402,
          106656.84747978019,
          106657.91100234949,
          106660.71382745398,
          106663.47787829812,
          106668.69024672365,
          106674.26266185234,
          106678.84910293239,
          106679.29777651632,
          106679.61904895912,
          106683.3026036913,
          106683.68480711464,
          106686.7590520415,
          106693.30082367864,
          106695.83222896076,
          106695.83222896076,
          106703.08855482415,
          106703.23811268546,
          106704.73923047858,
          106705.30976602355,
          106707.48666378258,
          106707.57529066334,
          106713.25848939299,
          106714.76514636616,
          106716.56537988188,
          106717.7009117918,
          106720.98010638045,
          106722.1987259911,
          106724.37562375011,
          106725.90443744347,
          106729.95357805885,
          106733.60943689078,
          106736.94402327991,
          106738.3398966521,
          106742.4721249682,
          106752.89132263922,
          106753.87729668783,
          106755.49473726196,
          106756.00988100647,
          106757.53869469982,
          106762.74552394531,
          106762.80645492584,
          106763.02802212778,
          106763.57086177252,
          106765.3877128284,
          106768.10745023214,
          106768.26808645355,
          106770.81610927581,
          106771.98487626603,
          106774.71015284983,
          106780.03330487633,
          106783.10201062314,
          106785.64449426535,
          106787.73830432365,
          106791.40524151568,
          106794.62350512379,
          106801.60287198477,
          106805.66863014028,
          106811.3019762495,
          106816.96855743899,
          106821.55499851906,
          106826.89476808571,
          106829.06058748462,
          106831.75816816819,
          106838.84277945009,
          106839.1086600924,
          106845.37901190718,
          106854.34140522548,
          106859.13279596734,
          106861.1656750451,
          106863.99619604982,
          106864.14575391113,
          106864.23438079191,
          106868.96484055322,
          106871.23590437307,
          106872.65393446546,
          106872.95858936812,
          106874.95823336559,
          106876.95233818301,
          106877.08527850416,
          106880.86853847721,
          106882.86264329463,
          106886.71237342826,
          106890.7338181434,
          106894.63340089747,
          106894.8771248196,
          106895.89079476845,
          106896.6053489947,
          106898.43881759071,
          106899.43586999942,
          106899.78483834247,
          106901.52414087766,
          106905.66744755386,
          106906.91376306475,
          106913.13426225909,
          106913.19519323962,
          106916.21404636599,
          106921.27685693021,
          106926.14579619275,
          106928.28391969143,
          106931.04797053558,
          106933.8895699004,
          106943.8822507077,
          106945.59385734265,
          106947.75413756153,
          106950.37416972441,
          106951.81989571704,
          106960.48871249276,
          106962.44958222989,
          106970.96884114432,
          106972.04344207371,
          106974.19818311253,
          106978.04237406612,
          106978.30271552839,
          106987.50329358876,
          106990.32827541344,
          106992.3833112114,
          106992.566104153,
          106996.1277969241,
          106999.41806987285,
          107002.88559658315,
          107003.3619660673,
          107004.18176471446,
          107012.88381657048,
          107014.71728516651,
          107020.6220510981,
          107023.05929031938,
          107026.72068833136,
          107029.20778017309,
          107030.77536812678,
          107032.52574902207,
          107036.35332243552,
          107037.59409876635,
          107038.18679103153,
          107048.24594199941,
          107050.62225024017,
          107074.11945200543,
          107075.29375817569,
          107078.27383704172,
          107078.66711882516,
          107082.45037879821,
          107084.46110115577,
          107093.25731907263,
          107094.8581421066,
          107095.4065209314,
          107104.26920900882,
          107108.38481978477,
          107111.33166357051,
          107111.82465059482,
          107120.61532933162,
          107127.28450210988,
          107131.5219748469,
          107140.76686634765,
          107145.02095662482,
          107157.54504271424,
          107160.58051338074,
          107164.28068565307,
          107165.69317656542,
          107172.20725230231,
          107172.78332702735,
          107179.23647178372,
          107184.75903429197,
          107186.87500107045,
          107198.46850491173,
          107201.21039903568,
          107204.56160296495,
          107205.8023792958,
          107206.15688681889,
          107209.11480896473,
          107211.24739328337,
          107212.30537667261,
          107217.23524691568,
          107218.06612392294,
          107219.79434809803,
          107220.19870824156,
          107227.32209378379,
          107227.61567032636,
          107232.6563241704,
          107233.89710050123,
          107237.4421757322,
          107245.97805218677,
          107248.59808434965,
          107253.39501427156,
          107254.74103502333,
          107255.15093434691,
          107261.81456794511,
          107266.46747918577,
          107269.51956739243,
          107269.63589017343,
          107275.37448070357,
          107277.56245682269,
          107289.12272558367,
          107289.95360259093,
          107294.20215368805,
          107303.25871306716,
          107305.79011834928,
          107308.42122887226,
          107321.06717692273,
          107322.04207261125,
          107329.32609437489,
          107341.52890802149,
          107344.73055408946,
          107358.6671310912,
          107364.16753687926,
          107373.58414296152,
          107404.14933846853,
          107417.73140794718,
          107418.31856103231,
          107428.49403478121,
          107432.133276073,
          107438.29838346686,
          107438.64735180991,
          107444.28069791912,
          107446.3855863375,
          107447.2884726854,
          107463.71768070891,
          107466.84731743626,
          107468.37059194957,
          107479.55419646726,
          107485.63621616039,
          107494.0169955736,
          107495.7341413886,
          107496.808742318,
          107496.91398673892,
          107496.93060427906,
          107529.92749982732,
          107555.92841097446,
          107563.81066418331,
          107574.75608395893,
          107575.4263247448,
          107581.43633509729,
          107582.17304604372,
          107589.1745696249,
          107589.70633090954,
          107593.30125876094,
          107596.86295153205,
          107599.6491590964,
          107604.39623639786,
          107614.71018964797,
          107615.68508533649,
          107621.61200798827,
          107631.85949107778,
          107637.93597159086,
          107639.58110806523,
          107647.90095649792,
          107654.77507893796,
          107659.04024757523,
          107659.77695852166,
          107662.18650184272,
          107667.99710171348,
          107668.45131447744,
          107679.16408869103,
          107682.2161768977,
          107683.88347009226,
          107693.42747731564,
          107695.07261379,
          107698.83925622291,
          107706.25621830771,
          107706.44455042935,
          107708.16169624435,
          107718.04913263072,
          107726.19172730186,
          107729.74234171287,
          107730.63414970067,
          107733.57545430637,
          107742.82034580712,
          107747.07443608428,
          107750.50318853423,
          107754.6077209501,
          107759.64837479412,
          107762.04683975509,
          107764.31790357492,
          107764.7278028985,
          107773.34122787375,
          107786.03702854466,
          107789.19436117224,
          107790.11386506027,
          107800.99835385536,
          107809.06893918586,
          107811.77759822953,
          107815.52208394224,
          107840.12158253713,
          107842.98533862215,
          107849.150446016,
          107853.46546727371,
          107858.76092339997,
          107870.75878738478,
          107877.18423624091,
          107880.61852787092,
          107886.26849152027,
          107888.11303847638,
          107894.31692013057,
          107900.37678310352,
          107903.48980229071,
          107906.76345769932,
          107923.01541196129,
          107926.77651521414,
          107927.41352091971,
          107928.81493347195,
          107934.1768597588,
          107934.74185612373,
          107937.33419238638,
          107942.88445079485,
          107954.58319905706,
          107960.16669254584,
          107966.37611338007,
          107966.97988400536,
          107977.15535775425,
          107978.91127782958,
          107984.59447655923,
          108001.84348322992,
          108002.48048893549,
          108006.09757350708,
          108038.45192416973,
          108041.9526859603,
          108076.44516012163,
          108109.76886729275,
          108114.74305097619,
          108124.70803588325,
          108136.53418528655,
          108140.7384229433,
          108171.4864113919,
          108185.31220479267,
          108194.85067283601,
          108199.02167541244,
          108202.23993902055,
          108203.54718551198,
          108214.51476200779,
          108223.18911796357,
          108238.02304213315,
          108239.5961692669,
          108255.98106385003,
          108261.96337830229,
          108273.51810788324,
          108290.60647833251,
          108292.27377152708,
          108293.6031747387,
          108298.94294430534,
          108301.54635892808,
          108305.15236513958,
          108305.57334282326,
          108308.41494218809,
          108320.0582986498,
          108320.40726699286,
          108327.24261517257,
          108335.26334788263,
          108338.13264314769,
          108345.90965193564,
          108369.9663108858,
          108382.5347104156,
          108386.06870728647,
          108390.00152512082,
          108392.39445090172,
          108412.78417265984,
          108413.1109842827,
          108413.88093030943,
          108426.27761525773,
          108433.62810718194,
          108441.72084923263,
          108453.70763485735,
          108489.85632385314,
          108493.81683758774,
          108519.5906423529,
          108519.73466103415,
          108523.8945852505,
          108524.06076065195,
          108526.99098689754,
          108529.57224480009,
          108535.49916745187,
          108554.75335730007,
          108579.35839507502,
          108589.31230162198,
          108593.17864929575,
          108597.3053384318,
          108608.1565921466,
          108608.82683293245,
          108623.92663774436,
          108624.6301136105,
          108629.70954171488,
          108643.93969525919,
          108658.03136930229,
          108667.87449224829,
          108673.93435522122,
          108684.95732351752,
          108701.74103906413,
          108710.03873077662,
          108721.18356103399,
          108729.35939078541,
          108731.76893410645,
          108738.29962738352,
          108749.02901913723,
          108756.45705958213,
          108769.13070353285,
          108785.74270449797,
          108792.64452283827,
          108799.10874595473,
          108832.94205769029,
          108836.4095844006,
          108837.09090354654,
          108853.01050700562,
          108871.33965378573,
          108875.53281308236,
          108895.71758517869,
          108907.28893229978,
          108920.54419015558,
          108931.6391677925,
          108935.16208630327,
          108946.92730472605,
          108959.41261655513,
          108973.9695817223,
          108978.02980069777,
          108984.30569169259,
          108993.29578091112,
          109006.51226450659,
          109010.7718939638,
          109012.1566889759,
          109016.37200499272,
          109019.90046268354,
          109038.70597894782,
          109047.46342260433,
          109047.79577340723,
          109073.55296063224,
          109075.80740691193,
          109086.28753556349,
          109105.02658166719,
          109105.7245183533,
          109121.3616236299,
          109122.66333094126,
          109123.58837400934,
          109139.96219023239,
          109178.05513142516,
          109182.56402398455,
          109183.2453431305,
          109183.30627411103,
          109208.98037363532,
          109209.17978411706,
          109224.08017844723,
          109265.20305112647,
          109277.61635361491,
          109299.45180136566,
          109301.00277177921,
          109302.99687659663,
          109315.80900004855,
          109342.61309230272,
          109342.89559048519,
          109357.32515451124,
          109363.5013402652,
          109367.60587268106,
          109367.67234284163,
          109368.83557065179,
          109378.2909509944,
          109417.74099129903,
          109427.6505844056,
          109429.98811838601,
          109432.63584644915,
          109442.68391905693,
          109445.1876284388,
          109449.75745197872,
          109455.24677940668,
          109457.96651681043,
          109464.21471190502,
          109470.15271291688,
          109471.38241088763,
          109500.38001844095,
          109515.28041277111,
          109518.74793948141,
          109532.01981487735,
          109532.8839269649,
          109533.83666593322,
          109534.64538622029,
          109542.83783351186,
          109545.64065861634,
          109564.74529060324,
          109584.6475645171,
          109591.38320745595,
          109593.82044667723,
          109595.93087427567,
          109603.14842587872,
          109605.38071543822,
          109608.47157790522,
          109613.45683994878,
          109668.43874110909,
          109674.21610589956,
          109694.33440783531,
          109703.29680115361,
          109705.06379958904,
          109710.77469421894,
          109748.40234428765,
          109749.53233701752,
          109760.59407957415,
          109777.93171312561,
          109797.8727612998,
          109809.80969430409,
          109837.4668202857,
          109852.15118659398,
          109863.91640501676,
          109903.86497152575,
          109915.50832798747,
          109926.27649400153,
          109928.64726306224,
          109937.2274529572,
          109982.44931887226,
          109984.26616992812,
          109985.75067018109,
          109995.78212524872,
          110004.53402972518,
          110034.25726986484,
          110048.02767146514,
          110054.5029729417,
          110075.37460336403,
          110085.73840923457,
          110089.23917102515,
          110115.63890313578,
          110130.50606238566,
          110144.71959838983,
          110149.20079504896,
          110153.65983498792,
          110254.06855172508,
          110256.97108207043,
          110261.29718168823,
          110269.35668865863,
          110276.61301452202,
          110282.5177804536,
          110292.00085669645,
          110298.57032423385,
          110303.41156759614,
          110306.70737972493,
          110312.08038437186,
          110317.94637604311,
          110336.17581758236,
          110350.671851769,
          110374.01949567295,
          110376.19085425192,
          110383.53026781604,
          110388.95312508341,
          110414.48320592644,
          110461.88196960051,
          110463.62681131576,
          110501.84715364965,
          110523.06775241502,
          110528.06409281868,
          110546.75882548199,
          110549.98262827015,
          110558.86747306777,
          110570.8210236122,
          110578.37646519819,
          110598.39506189308,
          110609.51773543024,
          110628.10722367265,
          110629.58064556551,
          110641.88316445299,
          110645.05157544067,
          110652.1528042627,
          110662.65508963444,
          110715.36038779488,
          110730.96425799119,
          110773.7765805852,
          110786.92659402007,
          110811.2325160724,
          110840.18581018533,
          110858.01089158106,
          110865.05118942255,
          110897.00671912171,
          110903.20506159586,
          110904.4679946469,
          110906.34023750325,
          110910.05148813566,
          110920.69225300863,
          110921.70038377744,
          110926.34221665798,
          110980.64279867234,
          110986.63065230465,
          110995.2440772799,
          110999.95791950109,
          111003.77995373447,
          111017.11829929099,
          111019.06809066802,
          111036.57743880099,
          111037.3473848277,
          111037.54679530945,
          111041.90613000754,
          111091.02757867666,
          111095.99068400002,
          111103.47965542544,
          111129.39747887185,
          111136.74243161602,
          111155.61441804087,
          111157.87440350062,
          111176.40296076248,
          111178.12010657748,
          111185.53152948224,
          111185.59246046277,
          111201.93858078556,
          111265.76655248315,
          111277.24373354342,
          111291.80623789063,
          111308.63426687763,
          111309.2934293034,
          111317.95116771903,
          111325.53430520528,
          111329.9434925238,
          111332.64107320736,
          111333.70459577665,
          111349.93439331843,
          111368.6014300815,
          111371.8861638502,
          111389.14070970094,
          111392.1595628273,
          111411.53561463658,
          111431.82563115383,
          111435.64212620717,
          111443.14771517273,
          111462.3742091207,
          111488.1535530659,
          111489.94270822153,
          111492.55720120437,
          111496.53433247912,
          111501.12077355917,
          111522.59063542674,
          111578.4698837549,
          111616.51851150728,
          111676.51337061138,
          111732.30953123882,
          111740.65707557174,
          111741.34947307779,
          111753.91233342754,
          111763.09629394776,
          111765.14025138562,
          111766.68014343908,
          111795.00751020655,
          111808.09105348084,
          111815.84036636853,
          111815.85144472863,
          111891.2396851872,
          111894.44133125518,
          111951.30655363195,
          111953.63300925227,
          111957.20024120343,
          111970.4056464388,
          111972.28896765524,
          111990.87291671759,
          112024.72284599331,
          112027.83032600045,
          112045.47261445457,
          112097.62399461016,
          112123.86862967943,
          112173.7046325748,
          112175.46609183018,
          112176.87304356247,
          112183.73054846238,
          112193.42411354705,
          112199.01868539593,
          112206.58520534204,
          112226.09973665251,
          112241.54850980747,
          112262.23180810815,
          112264.70782158978,
          112272.79502446043,
          112281.47491959626,
          112344.52186690703,
          112360.03157104252,
          112372.57227467207,
          112446.72527797986,
          112452.59126965111,
          112491.09411016747,
          112527.12647638224,
          112549.2831965758,
          112572.67515392015,
          112632.67001302425,
          112692.14972838387,
          112735.9147899462,
          112741.42627409434,
          112746.42815367803,
          112782.01738548894,
          112782.10047318967,
          112785.35751105812,
          112802.4680382276,
          112831.53211594149,
          112834.34048022602,
          112834.34048022602,
          112843.72939040804,
          112848.26597886768,
          112856.56920976022,
          112882.5978168076,
          112888.86262944233,
          112913.24056083529,
          112944.32090008681,
          112968.80961508073,
          112976.81373025065,
          113009.00190551185,
          113083.23245734032,
          113095.65683818885,
          113105.83231193775,
          113131.52856818223,
          113180.267813428,
          113182.5222597077,
          113184.70469664676,
          113217.64620039453,
          113257.3288862612,
          113278.30022192441,
          113287.35124212348,
          113319.35108526301,
          113331.17169548628,
          113348.11604725431,
          113364.38461905642,
          113416.2479618495,
          113421.46033027503,
          113458.545140699,
          113488.32377263914,
          113509.02368847998,
          113538.46443043716,
          113543.51062346125,
          113561.40217501755,
          113564.8198491074,
          113584.70550548112,
          113598.35404512036,
          113612.30723966224,
          113617.46975546735,
          113617.55838234813,
          113619.04842178113,
          113622.90923027486,
          113634.34209789474,
          113701.66529220287,
          113733.57096928159,
          113798.40707174799,
          113808.26681223413,
          113838.26147219616,
          113960.42808816339,
          113960.45578406363,
          113998.5930386968,
          114029.01421552255,
          114059.19720760622,
          114085.79081101854,
          114088.2114326997,
          114097.290148799,
          114105.09485348719,
          114115.82978442096,
          114128.70283885342,
          114204.24063717331,
          114216.73148818243,
          114217.82270665196,
          114220.75293289755,
          114231.5764907121,
          114231.5764907121,
          114237.22645436147,
          114262.60697734318,
          114279.99446351509,
          114290.49120970679,
          114306.16708924373,
          114317.23991016045,
          114388.13033641974,
          114397.23120923925,
          114401.95612982052,
          114468.93589496566,
          114485.57559183102,
          114491.24217302052,
          114534.1652792155,
          114557.15841559635,
          114644.05153301544,
          114695.08399880126,
          114703.04933971084,
          114726.29173919388,
          114733.04399967287,
          114755.20625904648,
          114776.74813025467,
          114791.3937223026,
          114828.35113158546,
          114828.35113158546,
          114828.7444133689,
          114830.69974392597,
          114883.78724550974,
          114894.99300674764,
          114987.80750763846,
          115045.6088514434,
          115062.47011551069,
          115208.21148176388,
          115210.84259228686,
          115263.44818520642,
          115312.76350517722,
          115313.538990384,
          115332.84857203269,
          115350.12527460362,
          115400.51519550382,
          115400.63151828483,
          115412.9783506127,
          115414.82289756881,
          115425.02052803789,
          115428.99212013259,
          115496.76952720468,
          115501.0180783018,
          115505.4715790607,
          115508.44057956664,
          115512.68913066376,
          115513.54216439121,
          115544.3233879201,
          115546.91572418275,
          115558.45383622355,
          115558.74741276611,
          115585.42410387917,
          115613.69053966609,
          115625.30620022757,
          115647.13056961822,
          115656.21482489757,
          115705.52460568835,
          115710.09442922827,
          115759.44852345942,
          115761.73066563935,
          115820.66200217417,
          115862.23354843733,
          115886.12403198604,
          115895.91730231159,
          115903.26225505576,
          115914.85021971699,
          115922.26164262173,
          115946.92207219717,
          115948.3456414696,
          116017.21426701122,
          116036.26350719764,
          116158.38580972448,
          116222.89510056803,
          116223.38808759234,
          116248.63013107284,
          116337.50073576921,
          116342.17026455,
          116399.62264001189,
          116419.9181957092,
          116430.08259109799,
          116443.78098335766,
          116493.5560552725,
          116554.99110118918,
          116577.6131125068,
          116630.31841066723,
          116631.68658813919,
          116705.11395886063,
          116758.1903820843,
          116848.50671277329,
          116939.51544096833,
          116942.99958521877,
          116977.94073296401,
          117036.63388475675,
          117277.36664965976,
          117282.37960760355,
          117298.5817092451,
          117339.01772359834,
          117347.08830892884,
          117356.22795600869,
          117395.51182091187,
          117404.29142128857,
          117445.2758144666,
          117469.819921261,
          117567.09346209078,
          117601.19265446867,
          117857.41296678697,
          117894.10449542751,
          117921.57328928748,
          118043.85068885567,
          118118.87334343107,
          118206.40346655571,
          118288.07313718917,
          118338.43536218914,
          118347.13741404515,
          118423.45069757181,
          118431.49912618213,
          118495.02244297706,
          118509.1528912805,
          118783.74112463927,
          118787.15325954907,
          118837.30499570719,
          118879.73511487785,
          118920.40931397318,
          118978.40452907982,
          119000.32860371136,
          119028.56180441799,
          119090.04670295512,
          119145.35541573829,
          119179.59308761738,
          119232.74705936173,
          119235.57758036646,
          119245.30991971148,
          119253.83471780595,
          119277.9024551162,
          119306.95545447001,
          119358.97943348448,
          119458.01443356964,
          119556.42904548938,
          119755.57364658908,
          119784.13919809862,
          119818.59843717965,
          119831.79830323497,
          119836.05793269217,
          119870.98246289727,
          119876.88168964881,
          119983.94850080414,
          119997.4862568424,
          120175.28839721566,
          120178.90548178725,
          120183.79103858993,
          120208.08588228218,
          120242.01336007856,
          120287.61742941695,
          120368.00201027918,
          120394.60115287155,
          120404.05653321414,
          120431.09327103033,
          120447.10704055023,
          120492.00209484244,
          120617.43682703821,
          120626.21642741491,
          120652.53307182482,
          120813.96693515507,
          120884.63579421243,
          120934.73767775012,
          121119.76844808651,
          121156.85325851048,
          121180.16212815412,
          121256.5252643012,
          121370.18923889416,
          121397.81312979548,
          121495.63504945004,
          121630.49746608819,
          121656.89165901876,
          121658.94115563667,
          121745.6791760144,
          121773.33630199601,
          121773.61880017848,
          121800.23456031099,
          121918.54036778449,
          121969.37342308856,
          121973.56104320515,
          121975.17294459922,
          122014.05798853893,
          122140.58393920424,
          122145.64121058842,
          122145.8793953305,
          122168.13582076493,
          122431.82848696852,
          122469.33427507617,
          122492.64868389984,
          122533.15116841366,
          122533.19548185405,
          122596.148263104,
          122712.21624183794,
          122896.0837843642,
          123040.59545264664,
          123159.8927733488,
          123165.31563061617,
          123197.53704095766,
          123416.23494762817,
          123494.45370909148,
          123525.87193832594,
          123652.58068193286,
          123761.51419676449,
          123792.78286813764,
          123817.79226605613,
          123991.50095237362,
          124133.58645979487,
          124159.0943839177,
          124282.76211767805,
          124491.85508614466,
          124614.10478981261,
          124641.47387843172,
          124704.38234624127,
          124823.46363892156,
          124842.2082242053,
          124955.5675438956,
          125179.92649257557,
          125186.3187063514,
          125232.7924269574,
          125287.86295499849,
          125289.44716049233,
          125306.93435190509,
          125315.94659784382,
          125352.62704812425,
          125481.36867080894,
          125581.9047886872,
          125696.40517946746,
          126044.87499631166,
          126071.92281248794,
          126404.38993817233,
          126474.24453776257,
          126614.39687134692,
          126834.9448641536,
          126847.96193726732,
          126911.09751145887,
          126942.32186939164,
          127066.50474689649,
          127066.50474689649,
          127086.16329688822,
          127097.97836793144,
          127515.95935520287,
          127566.86995902762,
          127884.8687464256,
          127919.826511711,
          127957.27136883812,
          128263.39415421236,
          128393.37655322788,
          128563.39614563315,
          128633.42799898493,
          128806.83203039978,
          128867.70761913157,
          128868.04550911453,
          129175.58078540112,
          129325.0998724473,
          129402.29388560166,
          129605.67595943838,
          129627.85483635213,
          129828.26237050287,
          129884.94479993804,
          129920.50079666865,
          129921.65294611872,
          129928.91481116216,
          130034.56359222508,
          130212.21617473704,
          130300.31129422663,
          130338.94707506415,
          130440.70735173312,
          130629.49922532238,
          130641.0871899836,
          130732.4559648818,
          130827.3310407506,
          131104.395287591,
          131238.38805296156,
          131331.33549417352,
          131435.57732350417,
          131500.93964807517,
          131559.66049576816,
          131717.39972600614,
          131718.6792765973,
          132068.96594449738,
          132175.1631043851,
          132182.50805712928,
          132656.24089158775,
          132660.2900322031,
          132726.0068642972,
          132763.09721390123,
          132865.52773135604,
          133029.6370186497,
          133178.6465011314,
          133759.95021212962,
          133774.75644039895,
          133811.51443920008,
          134017.30605635783,
          134162.41041690545,
          134379.33024678045,
          134595.89556913232,
          134728.45922605039,
          135029.3696429991,
          135144.2190021224,
          135242.25694979887,
          135420.41913687528,
          135432.20097283818,
          135529.7293159502,
          135650.13447266203,
          135809.14771431114,
          135810.504813423,
          135912.3481777927,
          136076.54055278708,
          136204.96090302893,
          136270.06288613766,
          136361.03284007235,
          136432.51041941677,
          136815.0184976583,
          136894.5611231532,
          137065.55007206692,
          137390.12386618237,
          137443.77082495103,
          137498.40929694835,
          137645.51884067347,
          138019.01467297628,
          138477.58677164232,
          138557.00199599608,
          138574.4725698687,
          138759.39809578418,
          138864.16614721942,
          138978.91026192182,
          139055.5226611711,
          139359.84521302962,
          139609.05846258672,
          139708.47012691517,
          139726.14011126952,
          139905.9252781001,
          139958.83552592233,
          140085.47779936867,
          140147.6163211515,
          140227.21433844685,
          140341.93629642905,
          140596.72750029486,
          140644.48631067207,
          140647.18389135564,
          140959.1117374206,
          141070.98655685794,
          141132.61547407633,
          141149.404728803,
          141225.69585560946,
          141288.74280292023,
          141429.79248367244,
          141524.49584495975,
          142051.6983844253,
          142720.19986774528,
          142970.30492529017,
          143286.76935981476,
          143471.1188110052,
          143514.42965980357,
          144371.1857162481,
          144765.6971976545,
          144946.14152691083,
          144962.04451282974,
          144990.4826631982,
          145345.52748675982,
          145542.4951901005,
          145671.60793784843,
          145930.55352675053,
          145984.25033813962,
          146097.13328834577,
          146650.14286765677,
          146712.42540812085,
          146976.2011620252,
          146992.74115364967,
          147311.61513149532,
          147341.78150603885,
          147692.66086620407,
          147769.28434381346,
          147957.1567135147,
          147982.98591008032,
          148022.70183102728,
          148095.702684885,
          148106.0498732154,
          148903.58101658255,
          149126.71026729175,
          149277.34272952768,
          149343.60240126651,
          149509.52853961603,
          149626.23352405554,
          149882.2876609724,
          149959.12716660366,
          150245.8905177088,
          150343.23052869915,
          150421.02277329873,
          151017.2601137074,
          151157.329359591,
          151512.0030580894,
          152114.9760414369,
          152277.994110261,
          152356.26272434474,
          152574.07990138757,
          152944.57349810415,
          153227.86378331896,
          153781.9535027394,
          153914.68333505891,
          154021.15191476903,
          154386.38329043964,
          155076.338018087,
          155722.48337073164,
          155728.4878419041,
          156151.5925707203,
          156201.32886837478,
          156521.63749385296,
          156834.2854333242,
          157260.69151344924,
          157422.83439182572,
          157557.24259569988,
          158480.6793015669,
          158513.35492467234,
          158752.53117998177,
          159079.14893153508,
          159442.7240923712,
          159504.6188902319,
          160085.09172422288,
          160095.18411027102,
          160277.8551899068,
          160467.25083412137,
          160594.02604788885,
          160990.67565279393,
          161027.88232517897,
          161080.7814946411,
          161602.75504814097,
          162097.7140205449,
          162148.64678108983,
          162249.64819009215,
          162418.66519090868,
          163081.9099923627,
          163113.1842029159,
          163385.19671755217,
          163393.99293546902,
          163429.98098824342,
          164050.60733840513,
          164927.5426277659,
          165603.98729527526,
          165915.1673520337,
          165949.27762277168,
          166083.2316138819,
          166593.27377355756,
          166896.51618530665,
          167286.07010056975,
          167752.19210164173,
          167779.34516223893,
          168103.90787799426,
          168118.19896251912,
          168140.28921255207,
          168398.53132558806,
          169438.66747671456,
          169535.77484214288,
          170216.05816142575,
          170786.1284152858,
          171224.47696759517,
          171487.8206654557,
          171558.7554051554,
          171609.85434110177,
          171693.36855869135,
          173989.02633794595,
          174145.3309205514,
          174756.63483069168,
          175686.71301343673,
          177439.64747073015,
          177975.34711238998,
          178445.2412950749,
          179153.80766768486,
          179719.34133308526,
          181194.74071323418,
          181442.49715843855,
          181705.6359066373,
          182769.5351401714,
          182849.96957365406,
          183525.82708807828,
          184119.1286630613,
          184372.5406110951,
          185203.69457735593,
          185299.4337653123,
          185353.1582726016,
          185501.4033482367,
          187558.28369314532,
          188145.75805071744,
          188338.8649455644,
          188780.8582783456,
          189333.452419153,
          189477.33816008997,
          189862.30563427298,
          191456.39856449878,
          192945.14182938426,
          193883.69495760335,
          195342.9697846314,
          195951.72013276938,
          196424.77718726196,
          200715.03831014113,
          200717.8965270461,
          200905.7079657668,
          201894.01954836058,
          202109.61551420402,
          204299.12044701126,
          205733.28617087996,
          206518.10489603603,
          207975.17512940482,
          208598.93111629388,
          208622.46709231948,
          209005.3352172642,
          209248.77664121083,
          211947.23805440427,
          212574.87700650725,
          212828.38312060185,
          214007.38097636146,
          217098.1215814018,
          219985.1809968828,
          220534.68981440322,
          221268.98567833792,
          225178.85468975408,
          226629.44962164632,
          228583.61141173763,
          230462.07476728765,
          230961.40969192976,
          234504.39111284085,
          234797.3251105199,
          236533.06041376304,
          236717.9360870581,
          237541.93343269645,
          238197.29598094162,
          238197.29598094162,
          238692.45436382724,
          238961.04920437367,
          244615.88179299358,
          246679.16543003818,
          251072.38883165683,
          251624.99405082432,
          252150.81733445788,
          254760.59647507657,
          260835.1659710433,
          263064.61393117945,
          264442.99457278085,
          270442.90700005536,
          271814.79572264,
          271814.79572264,
          280753.9300239112,
          281577.7224198877,
          282633.6175382519,
          285082.21207864257,
          287804.8963261876,
          290217.63021494495,
          293274.0888346658,
          297181.2491870383,
          302755.1377376111,
          303890.2763657475,
          304308.1188735177,
          308164.5791109073,
          310388.34941149387,
          311320.3607680758,
          314166.1034395759,
          315437.1846244599,
          318256.8654538323,
          319304.235774102,
          325416.67110487947,
          337365.0037416987,
          340206.63080242276,
          340239.67755059147,
          352239.4913267804,
          355112.48122493847,
          359112.3231378806,
          362362.0548278499,
          368036.4296436805,
          372149.99646219617,
          378602.07215682074,
          379962.86036258837,
          385054.85686649143,
          385111.4783649461,
          394458.01935877634,
          394542.76327433664,
          406632.8102935138,
          408510.83051466,
          423942.6205435902,
          430709.22195972246,
          432544.1695168123,
          445149.9474335749,
          456853.17689243285,
          466585.12295567,
          473794.00020276586,
          476398.3232510369,
          477285.8716093704,
          485668.379246759,
          490199.4174479816,
          504809.4811950933,
          525952.5092830763,
          538984.4994086621,
          548649.2441395521,
          548977.4350182392,
          573730.3356653976,
          575599.2273178239,
          579891.8979840241,
          583471.8866668385,
          610528.3384248205,
          619213.3074495712,
          623081.1728586805,
          626643.6466541818,
          628733.8063928211,
          629662.8875231575,
          631834.3236506468,
          646667.644049609,
          652105.7617580157,
          653160.0006615454,
          658414.256366606,
          693398.2662870621,
          694159.837073555,
          699557.8234225112,
          716167.1766595684,
          753378.8896984454,
          787453.477038557,
          802274.0628625877,
          850507.0325911251,
          861928.1294533985,
          910272.9740013732,
          922303.6299320715,
          956310.0632008676,
          970277.1666238626,
          996966.9689760813,
          998548.0171372932,
          1039773.0433749901,
          1107463.873062929,
          1169624.88945594,
          1179022.662326038,
          1259941.2146057526,
          1431176.5684047637,
          1495356.9039627754,
          1687749.992372798,
          1779690.355260178,
          1815007.696418406,
          1889656.6557510102,
          2200886.2438574345,
          2462964.942552782,
          2512120.146985116,
          3012627.1178120445,
          4683875.070903843,
          5177046.688385631,
          8870604.659049185,
          22451894.631049007
         ],
         "yaxis": "y"
        }
       ],
       "layout": {
        "legend": {
         "tracegroupgap": 0
        },
        "template": {
         "data": {
          "bar": [
           {
            "error_x": {
             "color": "#2a3f5f"
            },
            "error_y": {
             "color": "#2a3f5f"
            },
            "marker": {
             "line": {
              "color": "#E5ECF6",
              "width": 0.5
             },
             "pattern": {
              "fillmode": "overlay",
              "size": 10,
              "solidity": 0.2
             }
            },
            "type": "bar"
           }
          ],
          "barpolar": [
           {
            "marker": {
             "line": {
              "color": "#E5ECF6",
              "width": 0.5
             },
             "pattern": {
              "fillmode": "overlay",
              "size": 10,
              "solidity": 0.2
             }
            },
            "type": "barpolar"
           }
          ],
          "carpet": [
           {
            "aaxis": {
             "endlinecolor": "#2a3f5f",
             "gridcolor": "white",
             "linecolor": "white",
             "minorgridcolor": "white",
             "startlinecolor": "#2a3f5f"
            },
            "baxis": {
             "endlinecolor": "#2a3f5f",
             "gridcolor": "white",
             "linecolor": "white",
             "minorgridcolor": "white",
             "startlinecolor": "#2a3f5f"
            },
            "type": "carpet"
           }
          ],
          "choropleth": [
           {
            "colorbar": {
             "outlinewidth": 0,
             "ticks": ""
            },
            "type": "choropleth"
           }
          ],
          "contour": [
           {
            "colorbar": {
             "outlinewidth": 0,
             "ticks": ""
            },
            "colorscale": [
             [
              0,
              "#0d0887"
             ],
             [
              0.1111111111111111,
              "#46039f"
             ],
             [
              0.2222222222222222,
              "#7201a8"
             ],
             [
              0.3333333333333333,
              "#9c179e"
             ],
             [
              0.4444444444444444,
              "#bd3786"
             ],
             [
              0.5555555555555556,
              "#d8576b"
             ],
             [
              0.6666666666666666,
              "#ed7953"
             ],
             [
              0.7777777777777778,
              "#fb9f3a"
             ],
             [
              0.8888888888888888,
              "#fdca26"
             ],
             [
              1,
              "#f0f921"
             ]
            ],
            "type": "contour"
           }
          ],
          "contourcarpet": [
           {
            "colorbar": {
             "outlinewidth": 0,
             "ticks": ""
            },
            "type": "contourcarpet"
           }
          ],
          "heatmap": [
           {
            "colorbar": {
             "outlinewidth": 0,
             "ticks": ""
            },
            "colorscale": [
             [
              0,
              "#0d0887"
             ],
             [
              0.1111111111111111,
              "#46039f"
             ],
             [
              0.2222222222222222,
              "#7201a8"
             ],
             [
              0.3333333333333333,
              "#9c179e"
             ],
             [
              0.4444444444444444,
              "#bd3786"
             ],
             [
              0.5555555555555556,
              "#d8576b"
             ],
             [
              0.6666666666666666,
              "#ed7953"
             ],
             [
              0.7777777777777778,
              "#fb9f3a"
             ],
             [
              0.8888888888888888,
              "#fdca26"
             ],
             [
              1,
              "#f0f921"
             ]
            ],
            "type": "heatmap"
           }
          ],
          "heatmapgl": [
           {
            "colorbar": {
             "outlinewidth": 0,
             "ticks": ""
            },
            "colorscale": [
             [
              0,
              "#0d0887"
             ],
             [
              0.1111111111111111,
              "#46039f"
             ],
             [
              0.2222222222222222,
              "#7201a8"
             ],
             [
              0.3333333333333333,
              "#9c179e"
             ],
             [
              0.4444444444444444,
              "#bd3786"
             ],
             [
              0.5555555555555556,
              "#d8576b"
             ],
             [
              0.6666666666666666,
              "#ed7953"
             ],
             [
              0.7777777777777778,
              "#fb9f3a"
             ],
             [
              0.8888888888888888,
              "#fdca26"
             ],
             [
              1,
              "#f0f921"
             ]
            ],
            "type": "heatmapgl"
           }
          ],
          "histogram": [
           {
            "marker": {
             "pattern": {
              "fillmode": "overlay",
              "size": 10,
              "solidity": 0.2
             }
            },
            "type": "histogram"
           }
          ],
          "histogram2d": [
           {
            "colorbar": {
             "outlinewidth": 0,
             "ticks": ""
            },
            "colorscale": [
             [
              0,
              "#0d0887"
             ],
             [
              0.1111111111111111,
              "#46039f"
             ],
             [
              0.2222222222222222,
              "#7201a8"
             ],
             [
              0.3333333333333333,
              "#9c179e"
             ],
             [
              0.4444444444444444,
              "#bd3786"
             ],
             [
              0.5555555555555556,
              "#d8576b"
             ],
             [
              0.6666666666666666,
              "#ed7953"
             ],
             [
              0.7777777777777778,
              "#fb9f3a"
             ],
             [
              0.8888888888888888,
              "#fdca26"
             ],
             [
              1,
              "#f0f921"
             ]
            ],
            "type": "histogram2d"
           }
          ],
          "histogram2dcontour": [
           {
            "colorbar": {
             "outlinewidth": 0,
             "ticks": ""
            },
            "colorscale": [
             [
              0,
              "#0d0887"
             ],
             [
              0.1111111111111111,
              "#46039f"
             ],
             [
              0.2222222222222222,
              "#7201a8"
             ],
             [
              0.3333333333333333,
              "#9c179e"
             ],
             [
              0.4444444444444444,
              "#bd3786"
             ],
             [
              0.5555555555555556,
              "#d8576b"
             ],
             [
              0.6666666666666666,
              "#ed7953"
             ],
             [
              0.7777777777777778,
              "#fb9f3a"
             ],
             [
              0.8888888888888888,
              "#fdca26"
             ],
             [
              1,
              "#f0f921"
             ]
            ],
            "type": "histogram2dcontour"
           }
          ],
          "mesh3d": [
           {
            "colorbar": {
             "outlinewidth": 0,
             "ticks": ""
            },
            "type": "mesh3d"
           }
          ],
          "parcoords": [
           {
            "line": {
             "colorbar": {
              "outlinewidth": 0,
              "ticks": ""
             }
            },
            "type": "parcoords"
           }
          ],
          "pie": [
           {
            "automargin": true,
            "type": "pie"
           }
          ],
          "scatter": [
           {
            "fillpattern": {
             "fillmode": "overlay",
             "size": 10,
             "solidity": 0.2
            },
            "type": "scatter"
           }
          ],
          "scatter3d": [
           {
            "line": {
             "colorbar": {
              "outlinewidth": 0,
              "ticks": ""
             }
            },
            "marker": {
             "colorbar": {
              "outlinewidth": 0,
              "ticks": ""
             }
            },
            "type": "scatter3d"
           }
          ],
          "scattercarpet": [
           {
            "marker": {
             "colorbar": {
              "outlinewidth": 0,
              "ticks": ""
             }
            },
            "type": "scattercarpet"
           }
          ],
          "scattergeo": [
           {
            "marker": {
             "colorbar": {
              "outlinewidth": 0,
              "ticks": ""
             }
            },
            "type": "scattergeo"
           }
          ],
          "scattergl": [
           {
            "marker": {
             "colorbar": {
              "outlinewidth": 0,
              "ticks": ""
             }
            },
            "type": "scattergl"
           }
          ],
          "scattermapbox": [
           {
            "marker": {
             "colorbar": {
              "outlinewidth": 0,
              "ticks": ""
             }
            },
            "type": "scattermapbox"
           }
          ],
          "scatterpolar": [
           {
            "marker": {
             "colorbar": {
              "outlinewidth": 0,
              "ticks": ""
             }
            },
            "type": "scatterpolar"
           }
          ],
          "scatterpolargl": [
           {
            "marker": {
             "colorbar": {
              "outlinewidth": 0,
              "ticks": ""
             }
            },
            "type": "scatterpolargl"
           }
          ],
          "scatterternary": [
           {
            "marker": {
             "colorbar": {
              "outlinewidth": 0,
              "ticks": ""
             }
            },
            "type": "scatterternary"
           }
          ],
          "surface": [
           {
            "colorbar": {
             "outlinewidth": 0,
             "ticks": ""
            },
            "colorscale": [
             [
              0,
              "#0d0887"
             ],
             [
              0.1111111111111111,
              "#46039f"
             ],
             [
              0.2222222222222222,
              "#7201a8"
             ],
             [
              0.3333333333333333,
              "#9c179e"
             ],
             [
              0.4444444444444444,
              "#bd3786"
             ],
             [
              0.5555555555555556,
              "#d8576b"
             ],
             [
              0.6666666666666666,
              "#ed7953"
             ],
             [
              0.7777777777777778,
              "#fb9f3a"
             ],
             [
              0.8888888888888888,
              "#fdca26"
             ],
             [
              1,
              "#f0f921"
             ]
            ],
            "type": "surface"
           }
          ],
          "table": [
           {
            "cells": {
             "fill": {
              "color": "#EBF0F8"
             },
             "line": {
              "color": "white"
             }
            },
            "header": {
             "fill": {
              "color": "#C8D4E3"
             },
             "line": {
              "color": "white"
             }
            },
            "type": "table"
           }
          ]
         },
         "layout": {
          "annotationdefaults": {
           "arrowcolor": "#2a3f5f",
           "arrowhead": 0,
           "arrowwidth": 1
          },
          "autotypenumbers": "strict",
          "coloraxis": {
           "colorbar": {
            "outlinewidth": 0,
            "ticks": ""
           }
          },
          "colorscale": {
           "diverging": [
            [
             0,
             "#8e0152"
            ],
            [
             0.1,
             "#c51b7d"
            ],
            [
             0.2,
             "#de77ae"
            ],
            [
             0.3,
             "#f1b6da"
            ],
            [
             0.4,
             "#fde0ef"
            ],
            [
             0.5,
             "#f7f7f7"
            ],
            [
             0.6,
             "#e6f5d0"
            ],
            [
             0.7,
             "#b8e186"
            ],
            [
             0.8,
             "#7fbc41"
            ],
            [
             0.9,
             "#4d9221"
            ],
            [
             1,
             "#276419"
            ]
           ],
           "sequential": [
            [
             0,
             "#0d0887"
            ],
            [
             0.1111111111111111,
             "#46039f"
            ],
            [
             0.2222222222222222,
             "#7201a8"
            ],
            [
             0.3333333333333333,
             "#9c179e"
            ],
            [
             0.4444444444444444,
             "#bd3786"
            ],
            [
             0.5555555555555556,
             "#d8576b"
            ],
            [
             0.6666666666666666,
             "#ed7953"
            ],
            [
             0.7777777777777778,
             "#fb9f3a"
            ],
            [
             0.8888888888888888,
             "#fdca26"
            ],
            [
             1,
             "#f0f921"
            ]
           ],
           "sequentialminus": [
            [
             0,
             "#0d0887"
            ],
            [
             0.1111111111111111,
             "#46039f"
            ],
            [
             0.2222222222222222,
             "#7201a8"
            ],
            [
             0.3333333333333333,
             "#9c179e"
            ],
            [
             0.4444444444444444,
             "#bd3786"
            ],
            [
             0.5555555555555556,
             "#d8576b"
            ],
            [
             0.6666666666666666,
             "#ed7953"
            ],
            [
             0.7777777777777778,
             "#fb9f3a"
            ],
            [
             0.8888888888888888,
             "#fdca26"
            ],
            [
             1,
             "#f0f921"
            ]
           ]
          },
          "colorway": [
           "#636efa",
           "#EF553B",
           "#00cc96",
           "#ab63fa",
           "#FFA15A",
           "#19d3f3",
           "#FF6692",
           "#B6E880",
           "#FF97FF",
           "#FECB52"
          ],
          "font": {
           "color": "#2a3f5f"
          },
          "geo": {
           "bgcolor": "white",
           "lakecolor": "white",
           "landcolor": "#E5ECF6",
           "showlakes": true,
           "showland": true,
           "subunitcolor": "white"
          },
          "hoverlabel": {
           "align": "left"
          },
          "hovermode": "closest",
          "mapbox": {
           "style": "light"
          },
          "paper_bgcolor": "white",
          "plot_bgcolor": "#E5ECF6",
          "polar": {
           "angularaxis": {
            "gridcolor": "white",
            "linecolor": "white",
            "ticks": ""
           },
           "bgcolor": "#E5ECF6",
           "radialaxis": {
            "gridcolor": "white",
            "linecolor": "white",
            "ticks": ""
           }
          },
          "scene": {
           "xaxis": {
            "backgroundcolor": "#E5ECF6",
            "gridcolor": "white",
            "gridwidth": 2,
            "linecolor": "white",
            "showbackground": true,
            "ticks": "",
            "zerolinecolor": "white"
           },
           "yaxis": {
            "backgroundcolor": "#E5ECF6",
            "gridcolor": "white",
            "gridwidth": 2,
            "linecolor": "white",
            "showbackground": true,
            "ticks": "",
            "zerolinecolor": "white"
           },
           "zaxis": {
            "backgroundcolor": "#E5ECF6",
            "gridcolor": "white",
            "gridwidth": 2,
            "linecolor": "white",
            "showbackground": true,
            "ticks": "",
            "zerolinecolor": "white"
           }
          },
          "shapedefaults": {
           "line": {
            "color": "#2a3f5f"
           }
          },
          "ternary": {
           "aaxis": {
            "gridcolor": "white",
            "linecolor": "white",
            "ticks": ""
           },
           "baxis": {
            "gridcolor": "white",
            "linecolor": "white",
            "ticks": ""
           },
           "bgcolor": "#E5ECF6",
           "caxis": {
            "gridcolor": "white",
            "linecolor": "white",
            "ticks": ""
           }
          },
          "title": {
           "x": 0.05
          },
          "xaxis": {
           "automargin": true,
           "gridcolor": "white",
           "linecolor": "white",
           "ticks": "",
           "title": {
            "standoff": 15
           },
           "zerolinecolor": "white",
           "zerolinewidth": 2
          },
          "yaxis": {
           "automargin": true,
           "gridcolor": "white",
           "linecolor": "white",
           "ticks": "",
           "title": {
            "standoff": 15
           },
           "zerolinecolor": "white",
           "zerolinewidth": 2
          }
         }
        },
        "title": {
         "text": "Correlation between Views and Likes"
        },
        "xaxis": {
         "anchor": "y",
         "domain": [
          0,
          1
         ],
         "title": {
          "text": "Views"
         }
        },
        "yaxis": {
         "anchor": "x",
         "domain": [
          0,
          1
         ],
         "title": {
          "text": "Likes"
         }
        }
       }
      },
      "text/html": [
       "<div>                            <div id=\"e2f33fa4-d1c8-43d0-8242-7af7b920ef9e\" class=\"plotly-graph-div\" style=\"height:525px; width:100%;\"></div>            <script type=\"text/javascript\">                require([\"plotly\"], function(Plotly) {                    window.PLOTLYENV=window.PLOTLYENV || {};                                    if (document.getElementById(\"e2f33fa4-d1c8-43d0-8242-7af7b920ef9e\")) {                    Plotly.newPlot(                        \"e2f33fa4-d1c8-43d0-8242-7af7b920ef9e\",                        [{\"customdata\":[[\"J. Holiday - Bed (Official Music Video)\"],[\"J Holiday - Bed\"],[\"Pink Floyd - We Don&#39;t Need No Education Lyrics in Description!\"],[\"Biology: Digestive System Video\"],[\"Ice Cube - It Was A Good Day\"],[\"Bon Jovi - Bed Of Roses (Official Music Video)\"],[\"Girls Aloud - Biology\"],[\"The Animals - House of the Rising Sun (1964) HQ/Widescreen \\u266b 58 YEARS AGO\"],[\"Lec 1 | MIT 6.00 Introduction to Computer Science and Programming, Fall 2008\"],[\"Yung Berg - The Business ft. Casha\"],[\"Young Money - Bed Rock (Official Music Video)\"],[\"Amy Winehouse - In My Bed\"],[\"Neon Trees - Animal\"],[\"The Literature Review\"],[\"Nickelback-Animals\"],[\"Writing the Literature Review (Part One): Step-by-Step Tutorial for Graduate Students\"],[\"Dru Hill - In My Bed (Official Music Video)\"],[\"RSA ANIMATE: Changing Education Paradigms\"],[\"1. Introduction to Human Behavioral Biology\"],[\"Rihanna - California King Bed\"],[\"Chris Brown - Wet the Bed (Audio) ft. Ludacris\"],[\"SAT Math: The Ultimate Guessing Trick\"],[\"Carbon... SO SIMPLE: Crash Course Biology #1\"],[\"Water - Liquid Awesome: Crash Course Biology #2\"],[\"Biological Molecules - You Are What You Eat: Crash Course Biology #3\"],[\"Eukaryopolis - The City of Animal Cells: Crash Course Biology #4\"],[\"ATP &amp; Respiration: Crash Course Biology #7\"],[\"Photosynthesis: Crash Course Biology #8\"],[\"DNA Structure and Replication: Crash Course Biology #10\"],[\"Taxonomy: Life&#39;s Filing System - Crash Course Biology #19\"],[\"Michio Kaku: The Universe in a Nutshell (Full Presentation) | Big Think\"],[\"How Trees Bend the Laws of Physics\"],[\"How and Why We Read: Crash Course English Literature #1\"],[\"William Ackman: Everything You Need to Know About Finance and Investing in Under an Hour | Big Think\"],[\"The first 20 hours -- how to learn anything | Josh Kaufman | TEDxCSU\"],[\"Mathematics and Chemistry : MathChemistry.com : Masters Degree in Math\"],[\"Mathematics and Chemistry : MathChemistry.com : Masters Degree in Math\"],[\"How to escape education&#39;s death valley | Sir Ken Robinson\"],[\"Mining literature for deeper meanings - Amy E. Harter\"],[\"Martin Garrix - Animals (Official Video)\"],[\"A Long and Difficult Journey, or  The Odyssey: Crash Course Literature 201\"],[\"Banjaran Hindi Full Movie - Rishi Kapoor - Sridevi - Kulbhushan Kharbanda - 90&#39;s Hit Movie\"],[\"Kumail Nanjiani Plays &quot;Tweet Or Literature&quot; | CONAN on TBS\"],[\"Shakespeare vs Milton: The Kings of English Literature Debate\"],[\"Force 2016 Full Movie | John Abraham | Vidyut Jamwal | Genelia D&#39;souza | Commando 2 full Movie Force\"],[\"5 Fun Physics Phenomena\"],[\"Maroon 5 - Animals (Lyric Video)\"],[\"What is Literature for?\"],[\"Maroon 5 - Animals (Official Music Video)\"],[\"Computer science is for everyone | Hadi Partovi | TEDxRainier\"],[\"1. Introduction, Financial Terms and Concepts\"],[\"How School Makes Kids Less Intelligent | Eddy Zhong | TEDxYouth@BeaconStreet\"],[\"Biology: Cell Structure I Nucleus Medical Media\"],[\"Daryl Hall &amp; John Oates - Adult Education (Official Video)\"],[\"What&#39;s Education For?\"],[\"Adults Take The SAT (Again)\"],[\"MarI/O - Machine Learning for Video Games\"],[\"Computer science education: why does it suck so much and what if it didn\\u2019t? | Ashley Gavin | TEDxNYU\"],[\"Balancing Chemical Equations Practice Problems\"],[\"Quantum Biology: The Hidden Nature of Nature\"],[\"LITERATURE - Virginia Woolf\"],[\"LITERATURE - Jane Austen\"],[\"Money and Finance: Crash Course Economics #11\"],[\"11 Of The Most Beautiful Sentences In Literature (Read by LeVar Burton)\"],[\"SCIENCE WARS - Acapella Parody | SCIENCE SONGS\"],[\"How to Interview for a Job in American English, part 1/5\"],[\"LITERATURE - Goethe\"],[\"What is Physics?\"],[\"One Direction - History (Official Video)\"],[\"01 - Introduction To Chemistry - Online Chemistry Course - Learn Chemistry &amp; Solve Problems\"],[\"LITERATURE: Leo Tolstoy\"],[\"Biomolecules (Updated)\"],[\"When a physics teacher knows his stuff !!\"],[\"How To Master 5 Basic Cooking Skills | Gordon Ramsay\"],[\"An introduction to the discipline of Literature\"],[\"LITERATURE: Franz Kafka\"],[\"Fun Google Secrets\"],[\"Rajini Murugan Tamil Full Movie - Sivakarthikeyan | Keerthy Suresh | D.Imman | UIE Movies\"],[\"LITERATURE - Voltaire\"],[\"Quantum Physics for 7 Year Olds | Dominic Walliman | TEDxEastVan\"],[\"LITERATURE - Fyodor Dostoyevsky\"],[\"Koreans Take SAT Math Section\"],[\"SAT Math Test Prep Online Crash Course Algebra &amp; Geometry Study Guide Review, Functions,Youtube\"],[\"LITERATURE - Charles Dickens\"],[\"What Is Computer Science?\"],[\"LITERATURE - James Joyce\"],[\"Algebra Introduction - Basic Overview - Online Crash Course Review Video Tutorial Lessons\"],[\"Static &amp; Kinetic Friction, Tension, Normal Force, Inclined Plane &amp; Pulley System Problems - Physics\"],[\"Intro to Chemistry, Basic Concepts - Periodic Table, Elements, Metric System &amp; Unit Conversion\"],[\"Thermodynamics: Crash Course Physics #23\"],[\"Electric Charge: Crash Course Physics #25\"],[\"BEST Magic Show in the world - Genius Rubik&#39;s Cube Magician America&#39;s Got Talent\"],[\"How to Raise Successful Kids -- Without Over-Parenting | Julie Lythcott-Haims | TED\"],[\"PIKOTARO - PPAP (Pen Pineapple Apple Pen) (Long Version) [Official Video]\"],[\"A Day in the Life of a Literature PhD\"],[\"Introduction to Corporate Finance - FREE Course\"],[\"LITERATURE - George Orwell\"],[\"The Map of Physics\"],[\"Tell Me About Yourself - A Good Answer to This Interview Question\"],[\"Physics Review - Basic Introduction\"],[\"Newton&#39;s Law of Motion - First, Second &amp; Third - Physics\"],[\"What is Machine Learning?\"],[\"Biology 1010 Lecture 1 Intro to Biology\"],[\"The Map of Mathematics\"],[\"How to Moonwalk (Dance Moves Tutorial) | Mihran Kirakosian\"],[\"How to gain control of your free time | Laura Vanderkam\"],[\"Jacquees - B.E.D. (Audio)\"],[\"Jacquees - B.E.D. (Lyrics) [HD/HQ]\"],[\"New interview of Emma Watson with People/EW Network!\"],[\"Early Computing: Crash Course Computer Science #1\"],[\"What is Computer Science?\"],[\"Electronic Computing: Crash Course Computer Science #2\"],[\"Boolean Logic &amp; Logic Gates: Crash Course Computer Science #3\"],[\"Nintendo Switch: Unboxing &amp; Review\"],[\"Representing Numbers and Letters with Binary: Crash Course Computer Science #4\"],[\"How to Write a Literature Review in 30 Minutes or Less\"],[\"Registers and RAM: Crash Course Computer Science #6\"],[\"Jacquees - B.E.D.\"],[\"history of the entire world, i guess\"],[\"11. Introduction to Machine Learning\"],[\"Intro to Algorithms: Crash Course Computer Science #13\"],[\"Biologist Explains One Concept in 5 Levels of Difficulty - CRISPR | WIRED\"],[\"Gordon Ramsay&#39;s perfect burger tutorial | GMA\"],[\"Food Emoji Food Challenge\"],[\"Literary Genres and Subgenres (Fiction, Nonfiction, Drama, and Poetry) - Video and Worksheet\"],[\"Become a Master of Finance with Harvard Professor Mihir Desai (with Lewis Howes)\"],[\"Jacquees - B.E.D. (Remix) ft. Ty Dolla $ign, Quavo\"],[\"Computer Science Careers and Subfields\"],[\"What is Machine Learning?\"],[\"DON&#39;T GOOGLE THIS STUFF\"],[\"The 7 steps of machine learning\"],[\"Map of Computer Science\"],[\"Philosophy and Literature with Iris Murdoch and Bryan Magee (1977)\"],[\"Evo-Devo (Despacito Biology Parody) | A Capella Science\"],[\"But what is a neural network? | Chapter 1, Deep learning\"],[\"Todos podemos aprender Machine learning\"],[\"Gradient descent, how neural networks learn | Chapter 2, Deep learning\"],[\"www.google.com\"],[\"Chris Brown - To My Bed (Audio)\"],[\"Machine Learning &amp; Artificial Intelligence: Crash Course Computer Science #34\"],[\"What is Biology?\"],[\"All Sports Golf Battle 2 | Dude Perfect\"],[\"Let&#39;s Talk About Education | Jayne Ellspermann | TEDxOcala\"],[\"Map of Biology\"],[\"How Machines Learn\"],[\"Chappelle&#39;s Show - Wu-Tang Financial (ft. RZA and GZA) - Uncensored\"],[\"Beach Bunny - Sports (Official Audio)\"],[\"How to Kill Pennywise | NowThis Nerd\"],[\"Education In Society: Crash Course Sociology #40\"],[\"[SAT Writing] 8 MUST KNOW Grammar Concepts for a Perfect Score\"],[\"28 STRANGE Sights on Google Earth\"],[\"7 AMAZING Physics Tricks That You Must See\"],[\"AVENGERS Disney Infinity 2.0 Marvel Super Heroes - Superhero Game Videos PC\"],[\"Sony a7R III Training Tutorial\"],[\"Machine Learning Tutorial | Machine Learning Basics | Machine Learning Algorithms | Simplilearn\"],[\"\\ud83d\\udda5\\ufe0f HOW TO GET STARTED WITH MACHINE LEARNING!\"],[\"What is Machine Learning?\"],[\"HOW2: How To Do 100 Things! [Saturday Supercut]\"],[\"Last Minute SAT\\u00ae Tips: What to Study the Night Before the Exam\"],[\"The Mind Bending Story Of Quantum Physics (Part 1/2) | Spark\"],[\"Machine Learning Algorithms | Machine Learning Tutorial | Data Science Algorithms | Simplilearn\"],[\"How to write a literature review\"],[\"El Chombo - Dame Tu Cosita feat. Cutty Ranks (Official Video) [Ultra Music]\"],[\"The Math Needed for Computer Science\"],[\"\\u300aHIStory1-\\u7740\\u9b54\\u300bEP1 \\u906d\\u5230\\u6c5f\\u52b2\\u817e\\u80cc\\u53db\\uff0c\\u90b5\\u9038\\u8fb0\\u91cd\\u751f\\u56de\\u5230\\u5b66\\u751f\\u65f6\\u4ee3 | Caravan\\u4e2d\\u6587\\u5267\\u573a\"],[\"30 Easy DIY Projects For Beginners That Increase Your Home Value\"],[\"TOP 7 Interview Questions and Answers (PASS GUARANTEED!)\"],[\"How To BRAINWASH Yourself For Success &amp; Destroy NEGATIVE THOUGHTS! | Dr. Joe Dispenza\"],[\"Nicki Minaj - Bed ft. Ariana Grande (Lyrics)\"],[\"Chris Brown - To My Bed (Official Video)\"],[\"Machine Learning Interview Questions and Answers | Machine Learning Interview Preparation | Edureka\"],[\"What REALLY is Data Science? Told by a Data Scientist\"],[\"3 Types of Data Science Interview Questions\"],[\"Nicki Minaj - Bed ft. Ariana Grande\"],[\"www.google.com search\"],[\"Learn Python - Full Course for Beginners [Tutorial]\"],[\"3 years of Computer Science in 8 minutes\"],[\"Conquering Math as a Computer Science Student\"],[\"Viagra Boys - Sports (Official Video)\"],[\"Significant Figures - A Fast Review!\"],[\"C++ Tutorial for Beginners - Full Course\"],[\"01 - Introduction to Physics, Part 1 (Force, Motion &amp; Energy) - Online Physics Course\"],[\"An adjunct explains why literature matters | Danielle Carlotti-Smith | TEDxUniversityofTulsa\"],[\"Understand Calculus in 35 Minutes\"],[\"business 101 everything you need to know about business and startup basics\"],[\"Machine Learning Fundamentals: Bias and Variance\"],[\"Learn How to Solve a Rubik&#39;s Cube in 10 Minutes (Beginner Tutorial)\"],[\"Machine Learning Basics | What Is Machine Learning? | Introduction To Machine Learning | Simplilearn\"],[\"Jacquees - B.E.D. (Remix)\"],[\"Biology - Intro to Cell Structure - Quick Review!\"],[\"Full Interview: Lady Gaga Talks To Stephen Colbert\"],[\"The Future of Education - Yuval Noah Harari &amp; Russell Brand - Penguin Talks\"],[\"Rich Brian - History (Official Video)\"],[\"How to Deal with Difficult People | Jay Johnson | TEDxLivoniaCCLibrary\"],[\"Basic Principles of Game Design\"],[\"How the SAT is Scored\"],[\"Computer Science Terminology\"],[\"All Xbox, Nintendo and PlayStation Startups (Unused Brand ID)\"],[\"Scrambled\"],[\"The Mathematics of Machine Learning\"],[\"Data Science In 5 Minutes | Data Science For Beginners | What Is Data Science? | Simplilearn\"],[\"Elon Musk on Millennials and How To Start A Business\"],[\"Machine Learning Tutorial Python - 10  Support Vector Machine (SVM)\"],[\"How I got a 1500+ on the SAT: DOs/DONTs, Advice, Best Books, How to Study, What You Need to Know\"],[\"Deep Learning Basics: Introduction and Overview\"],[\"Rishtey (2002) (HD) Hindi Full Movie - Anil Kapoor | Karisma Kapoor | Shilpa Shetty\"],[\"27 EASY MAGIC TRICKS\"],[\"Ten Minute History - The Viking Age (Short Documentary)\"],[\"I Went Back To 1st Grade For A Day\"],[\"5 Dangerous Things to Avoid Saying In a Job Interview\"],[\"Giant Monopoly Game With Real Money\"],[\"Python Tutorial - Python Full Course for Beginners\"],[\"Intro to Data Science - Crash Course for Beginners\"],[\"Surviving 24 Hours Straight In A Desert\"],[\"Data Science Full Course | Learn Data Science in 3 Hours | Data Science for Beginners | Edureka\"],[\"MySQL Tutorial for Beginners [Full Course]\"],[\"The Importance Of Education - What&#39;s The Real Purpose Of Education?\"],[\"How to Get Your Brain to Focus | Chris Bailey | TEDxManchester\"],[\"Stroll Through the Playlist (a Biology Review)\"],[\"All Sports Baseball Battle | Dude Perfect\"],[\"The Evolution of XBOX Startup Screens (2001-2019)\"],[\"Machine Learning Zero to Hero (Google I/O&#39;19)\"],[\"World&#39;s Largest Bowl Of Cereal\"],[\"Former FBI Agent Explains How to Read Body Language | Tradecraft | WIRED\"],[\"How to Solve a 3x3 Rubik&#39;s Cube In No Time | The Easiest Tutorial\"],[\"24 Hours In The Most Haunted Place On Earth\"],[\"PSYQUI - Education\"],[\"Learn Data Science Tutorial - Full Course for Beginners\"],[\"Paying People $10,000 To Eat Ghost Pepper\"],[\"Deep Learning In 5 Minutes | What Is Deep Learning? | Deep Learning Explained Simply | Simplilearn\"],[\"Web of Complex Biology | Science Documentary | Bill Nye\"],[\"Last To Leave VR Wins $20,000\"],[\"Top 30 Interview Questions - From a recruiters hiring playbook\"],[\"SAT\\u00ae Test Timer: Mock Proctor With Breaks and Clock!\"],[\"I Opened The World&#39;s First FREE Store\"],[\"Machine Learning: Living in the Age of AI | A WIRED Film\"],[\"FULL FACE OF FLAWLESS In-Depth Makeup Tutorial | NikkieTutorials\"],[\"My Regrets as a Computer Science Student\"],[\"The problem with America&#39;s college entrance exam\"],[\"Java Tutorial for Beginners\"],[\"Kids Try Prison Food from Around the World | Kids Try | HiHo Kids\"],[\"SPEAKING DUTCH ONLY Makeup Tutorial! | NikkieTutorials\"],[\"how i got 1500+ on the SAT \\ud83d\\udcda study tips!\"],[\"Maroon 5 - Animals (Lyrics)\"],[\"Demystifying Data Science | Mr.Asitang Mishra | TEDxOakLawn\"],[\"How To Be Effortlessly Confident\"],[\"Euphoria\\u2019s Alexa Demie Shares Her \\u201990s Glam Tutorial | Beauty Secrets | Vogue\"],[\"SAT Prep Guide: 10 Harvard SAT Tips Guaranteed to Get You a 1500+ *no tutor*\"],[\"Last To Leave Roller Coaster Wins $20,000 - Challenge\"],[\"Data Science Full Course - Learn Data Science in 10 Hours | Data Science For Beginners | Edureka\"],[\"Evolution from ape to man. From Proconsul to Homo heidelbergensis\"],[\"Should YOU Major In Computer Science? (2022)\"],[\"Intro to Machine Learning (ML Zero to Hero - Part 1)\"],[\"How to Solve a Rubik&#39;s Cube | WIRED\"],[\"How to Solve a Rubik&#39;s Cube | WIRED\"],[\"A brief history of chess - Alex Gendler\"],[\"Learn to JUGGLE 3 BALLS - Beginner Tutorial\"],[\"Machine Learning Full Course - Learn Machine Learning 10 Hours | Machine Learning Tutorial | Edureka\"],[\"How to Get Started with Machine Learning &amp; AI\"],[\"Mathematicians vs. Physics Classes be like...\"],[\"Going Through The Same Drive Thru 1,000 Times\"],[\"All Sports Trick Shots | Dude Perfect\"],[\"Alexa Chung Learns How To Dress The French Way | ALEXACHUNG\"],[\"I Searched 100 Dumpsters, Here&#39;s What I Found\"],[\"Mark Cuban - The #1 Reason Why Most People Fail In Business\"],[\"Physicist Explains Dimensions in 5 Levels of Difficulty | WIRED\"],[\"MOST POPULAR FOOD FOR ASMR + ALFREDO SAUCE (MOZZARELLA CORN DOG, NUGGETS, ONION RINGS, HASH BROWNS)\"],[\"How I Learnt Machine Learning In 6 Steps (3 months)\"],[\"How Google Search Works (in 5 minutes)\"],[\"SAT Reading Tips: How I Answered All 52 Reading Questions in 8 MINUTES\"],[\"Gordon Ramsay&#39;s Top Basic Cooking Skills | Ultimate Cookery Course FULL EPISODE\"],[\"8 Year Old LOST His GIRLFRIEND To A Rich Kid, So We Confronted Her... (Fortnite)\"],[\"3 Perplexing Physics Problems\"],[\"How to Answer Behavioral Interview Questions Sample Answers\"],[\"Everything You Need to Know as a Computer Science Student\"],[\"How to get a PERFECT 800 on the SAT Math Section: 13 Strategies to maximize your score\"],[\"If Google Was A Guy (Full Series)\"],[\"AI VS ML VS DL VS Data Science\"],[\"ASMR MOST POPULAR FOOD AT POPEYES (CHICKEN SANDWICH, FRIED CHICKEN, CAJUN FRIES, BISCUITS MUKBANG \\uba39\\ubc29\"],[\"Last to Stop Swinging Wins $1,000,000 (Part 2)\"],[\"SAT Math Prep - No Calculator Practice Test 1\"],[\"Greek Alphabet Symbols List - College Math, Chemistry, &amp; Physics\"],[\"1 A.M Study Session \\ud83d\\udcda - [lofi hip hop/chill beats]\"],[\"The Weirdest GOOGLE Searches\"],[\"How To Run A Profitable Business &amp; Make Money\"],[\"Rotimi - In My Bed (Audio) (feat. Wale)\"],[\"APIs for Beginners - How to use an API (Full Course / Tutorial)\"],[\"Statistics for Data Science | Probability and Statistics | Statistics Tutorial | Ph.D. (Stanford)\"],[\"Top 100 Sports Plays of the Decade | 2010 - 2019 Best Moments\"],[\"Tell Me About Yourself - A Good Answer To This Interview Question\"],[\"Top Interview Tips: Common Questions, Nonverbal Communication &amp; More\"],[\"How Literature Can Change Your Life | Joseph Luzzi | TEDxAlbany\"],[\"RICH KID Tried To DATE My CRUSH, So I Did This... (Fortnite)\"],[\"Animals \\u00a5GLMV\\u00a5 /Gacha Life/\"],[\"How to solve a Rubik\\u2019s cube | The Easiest tutorial | Part 1\"],[\"Machine Learning with Python | Machine Learning Tutorial for Beginners | Machine Learning Tutorial\"],[\"This Kid Solves RUBIK&#39;S CUBE In 5 Seconds..\"],[\"Andrew Ng: Deep Learning, Education, and Real-World AI | Lex Fridman Podcast #73\"],[\"SAT Math Test FULL Review (50 Problems) || Algebra &amp; Geometry, Calculator &amp; Non-Calculator\"],[\"I Ate A $70,000 Golden Pizza\"],[\"ASMR MUKBANG| \\uc9c1\\uc811 \\ub9cc\\ub4e0 \\ub5a1\\ubcf6\\uc774 \\uc591\\ub150\\uce58\\ud0a8 \\uae40\\ubc25 \\uba39\\ubc29 &amp; \\ub808\\uc2dc\\ud53c FRIED CHICKEN AND Tteokbokki EATING\"],[\"SAT Reading: The Ultimate Guessing Trick\"],[\"Is a Computer Science Degree Worth It?\"],[\"8 Actors Before And After They Got The Call From Marvel\"],[\"Year 536 Was the Worst Year to Be Alive - What Happened?\"],[\"Why Alexander The Great Is The Single Most Important Man In History\"],[\"All Xbox Startup Animations (2001-2020)\"],[\"Solving the huge Rubik&#39;s Cube 15X15 in record time\"],[\"Powfu - Death Bed (Lyrics) ft. beabadoobee | don&#39;t stay awake for too long\"],[\"How Making Indie Games Changed My Life\"],[\"NLE Choppa - Walk Em Down feat. Roddy Ricch [Official Music Video]\"],[\"Making the largest Rubik\\u2019s Cube - Guinness World Records\"],[\"The Mistake People Make When Reading Literature\"],[\"What is a Literature Review? Explained with a REAL Example | Scribbr \\ud83c\\udf93\"],[\"Don&#39;t learn machine learning\"],[\"Powfu - death bed (coffee for your head) (Official Video) ft. beabadoobee\"],[\"Game Development for Noobs | Beginner Guide\"],[\"How to Write a Literature Review: 3 Minute Step-by-step Guide | Scribbr \\ud83c\\udf93\"],[\"Chemical Reactions and Equations\"],[\"20 Comfort Foods From Around The World\"],[\"Stanford CS229: Machine Learning Course, Lecture 1 - Andrew Ng (Autumn 2018)\"],[\"Literature in the Victorian Era | A Historical Overview\"],[\"ASMR MUKBANG DOUBLE BIG MAC &amp; CHEESY HASH BROWNS &amp; CHICKEN NUGGETS (No Talking) EATING SOUNDS\"],[\"Grey Literature\"],[\"Introduction to Programming and Computer Science - Full Course\"],[\"2 Years of Unity Game Development in 10 Minutes! Len&#39;s Island\"],[\"5 Years of Making Games in Unity!\"],[\"Skills Needed to Become a Data Scientist\"],[\"27 CLEANING TIPS THAT WILL SAVE YOU LOTS OF MONEY\"],[\"WHAT IS LITERATURE?\"],[\"10 Common Job Interview Questions and Answers (Job Interviews in English)\"],[\"How to NOT be Nervous in Job Interviews | How to be Confident in Interviews | Linda Raynier\"],[\"All Machine Learning Models Explained in 5 Minutes | Types of ML Models Basics\"],[\"Attempting to Learn 3D Game Development in One Week\"],[\"15 FATTEST Animals Ever Seen\"],[\"How I got a 1500+ | how to self study for the SAT | best SAT prep books 2020\"],[\"Computer Science degree: What you need to know\"],[\"Python for Data Science - Course for Beginners (Learn Python, Pandas, NumPy, Matplotlib)\"],[\"50 SCARIEST Animals In The World\"],[\"My College Advice for Computer Science Majors (after graduating 6 years ago)\"],[\"Data Scientist vs Data Analyst | Which Is Right For You?\"],[\"20 MUST SEE SPORTS MOMENTS\"],[\"Full Body Trolling in VRChat! (Part 2)\"],[\"Introduction to Graph Theory: A Computer Science Perspective\"],[\"HUGE $500 CUBE UNBOXING | What Cubes Did I Get?\"],[\"How Much Do You Know About &quot;BIOLOGY&quot;?\\ud83c\\udf31| QUIZ/TRIVIA/QUESTIONS\"],[\"Wireless Keyboard Prank HACK on Rich Kid Playing Fortnite! (N3ON)\"],[\"1. Artificial Intelligence and Machine Learning\"],[\"Ku Klux Klan Member interview-Steven\"],[\"Glass Animals - Heat Waves (Official Video)\"],[\"I Bought The World&#39;s Largest Firework ($600,000)\"],[\"The Most Iconic Food In Every State | 50 State Favorites\"],[\"WHOSE CUBE IS THE BEST? \\u2694\\ufe0f Family Cube Battle!!!\"],[\"2020 Machine Learning Roadmap (95% valid for 2022)\"],[\"5 Things I Wish I Knew Before Majoring in Computer Science\"],[\"All of Biology in 9 minutes\"],[\"Lazy Sunday \\ud83d\\udca4 - [lofi hip hop/chill beats]\"],[\"Engineering an Empire: Ancient Greece (S1, E1) | Full Episode | History\"],[\"How I Started Making Games with No Experience\"],[\"How to choose between software engineering and data science | 5 Key Considerations\"],[\"How I Improved My SAT Score by 300+ Points: 5 Life-Saving Study Tips, Practice Books You NEED to Use\"],[\"ASMR ICE CREAM BLUE PARTY \\ub2e4\\uc591\\ud55c \\ube14\\ub8e8 \\uc544\\uc774\\uc2a4\\ud06c\\ub9bc \\uba39\\ubc29 DESSERTS CANDY MUKBANG EATING SOUNDS \\u5480\\u56bc\\u97f3 \\u30e2\\u30c3\\u30d1\\u30f3\"],[\"Financial Education | The 4 Rules Of Being Financially Literate\"],[\"One Direction - History (Lyrics)\"],[\"Deep Learning Crash Course for Beginners\"],[\"ASMR *PURPLE FOOD* JELLY DONUT, PEEPS, CANDY CORN, POPPING BOBA, ROCK CANDY, GRAPE CRUSH MUKBANG \\uba39\\ubc29\"],[\"EXTRA GLAM Makeup Tutorial\"],[\"All physics explained in 15 minutes (worth remembering)\"],[\"The Math You&#39;ll Use in Chemistry\"],[\"Chess in a Nutshell\"],[\"How I Got A 1530 on the SAT Without Studying (Part 1)\"],[\"THE MOST SATISFYING FOOD VIDEO COMPILATION | SATISFYING AND TASTY FOOD\"],[\"Evolution of Xbox (Animation)\"],[\"Maroon 5 - Animals (Lyrics)\"],[\"How I Got a 1500+ on the SAT | ONE WEEK Study Plan Prep Tips\"],[\"How To Fix a Water Damaged Laptop\"],[\"Best Music Mix \\u266b No Copyright Gaming Music \\u266b Music by Roy Knox and Friends\"],[\"Remaking My First Game! | Devlog #1\"],[\"The problem of education inequality | CNBC Reports\"],[\"Discover the Secrets of Ancient Egypt | Engineering an Empire | Full Episode | History\"],[\"Punishing Beginner Mistakes | Ponziani Opening\"],[\"Things New Computer Science Students Need to Know\"],[\"Data Structures - Computer Science Course for Beginners\"],[\"What a first year english major has to read + lecture notes\"],[\"Tell Me About Yourself - Job Interview\"],[\"15 Most Powerful African Animals in the World\"],[\"Modern Physics || Modern Physics Full Lecture Course\"],[\"Python Machine Learning Tutorial (Data Science)\"],[\"Python Machine Learning Tutorial (Data Science)\"],[\"Rotimi - In My Bed (Official Video) (feat. Wale)\"],[\"Computer Science in 10 Minutes\"],[\"Wild Life - Nature Documentary Full HD 1080p\"],[\"Personal finance: How to save, spend, and think rationally about money | Big Think\"],[\"Ti\\u00ebsto - The Business (Official Music Video)\"],[\"Ti\\u00ebsto - The Business (Lyrics)\"],[\"Tiesto - The Business (Official Lyric Video)\"],[\"SAT Exam Prep | Tips from a Harvard grad\"],[\"Why You Should NOT Learn Machine Learning!\"],[\"J. Holiday Bed\"],[\"\\u4e0a\\u7530\\u9e97\\u5948\\u300c\\u30ea\\u30c6\\u30e9\\u30c1\\u30e5\\u30a2\\u300d MUSIC VIDEO\"],[\"Greatest World Records in Sport History\"],[\"BEST Answers to the 10 Most Asked Interview Questions | Interview Questions and Answers\"],[\"(Lyrics) Literature - Opening Majo no Tabitabi - Reina Ueda || Bachiko!!!\"],[\"Series X vs. Xbox One - What&#39;s the Difference??\"],[\"ASMR EDIBLE SLIME, HAIR BRUSH, TIK TOK FRUIT JELLY, JELLO POPSICLE, PURPLE FOOD, CANDY MUKBANG \\uba39\\ubc29\"],[\"360\\u00b0 Google Dinosaur - T-REX in VR [4K] Video\"],[\"SAT Practice Test 2022: Mock Proctor with Timer and Breaks!\"],[\"Lightroom Tutorial BASICS | Photo Editing Masterclass\"],[\"Architects - &quot;Animals&quot;\"],[\"Interview Questions and Answers! (How to PASS a JOB INTERVIEW!)\"],[\"A Day in the Life of a Game Developer with a Full Time Job\"],[\"Microsoft Excel Tutorial for Beginners - Full Course\"],[\"Popular Fast-Food Restaurants In Every State | 50 State Favorites\"],[\"Tiesto - The Business (1 Hour Super Unstoppable Extended Version)\"],[\"Ti\\u00ebsto - The Business (Official Audio)\"],[\"6 Reasons Why Computer Science is the Best Major\"],[\"Kubernetes Tutorial for Beginners [FULL COURSE in 4 Hours]\"],[\"Majo no Tabitabi: The Journey of Elaina - Opening Full - Literature - by Reina Ueda\"],[\"How to Levitate\"],[\"The Insane Biology of: The Octopus\"],[\"PlayStation 5 Review: Next Gen Gaming!\"],[\"BEST VIDEO FOR SOLVING RUBIK&#39;S CUBE | BEGINNERS GUIDE\"],[\"Rarest Animals in the World\"],[\"Inside Google&#39;s Massive Headquarters\"],[\"Lisa Rinna\\u2019s Guide to Ageless Skin and Her Signature Plush Lips | Beauty Secrets | Vogue\"],[\"Xbox Series X - Unbox &amp; Setup\"],[\"What You Need to Succeed in Computer Science\"],[\"PlayStation 5 vs Xbox Series X: Which is better?\"],[\"ZOMBIE GIRL ESCAPE PREGNANCY PRANK BATTLE - Doctor Nerf Guns Couple Zombies Crime | Sky Nerf War\"],[\"How to get a perfect score on the SAT reading section: tips from a 1600 scorer\"],[\"How to get a perfect score on the SAT math section: tips from a 1600 scorer\"],[\"How to get a perfect score on the SAT writing section: tips from a 1600 scorer\"],[\"America Unearthed: Lost Relics of the Bible (S2, E10) | Full Episode | History\"],[\"First Steps to becoming a Game Developer - How to become a Game Developer\"],[\"Tutorial -  Friday Night Funkin&#39; OST\"],[\"How To Play Chess: The Ultimate Beginner Guide\"],[\"Figma UI Design Tutorial: Get Started in Just 24 Minutes! (2022)\"],[\"Ti\\u00ebsto - The Business (Lyrics)\"],[\"20 Creepiest Coincidences in History\"],[\"I Gave People $1,000,000 But ONLY 1 Minute To Spend It!\"],[\"How To Learn &amp; Study Chess Openings\"],[\"I Opened A Restaurant That Pays You To Eat At It\"],[\"Ti\\u00ebsto - The Business (Lyrics)\"],[\"My Rubik&#39;s Cube Collection! [200+ Cubes]\"],[\"How to learn data science in 2022 (the minimize effort maximize outcome way)\"],[\"Statistics for Data Science Full Course | Probability and Statistics for Engineers | Great Learning\"],[\"Top 100 Best Sports Bloopers 2020\"],[\"I Made RICH KID Say **** For The First Time... (Fortnite)\"],[\"Physics - Basic Introduction\"],[\"The Weeknd - Save Your Tears (Official Music Video)\"],[\"Mom Throws Out Her Son&#39;s Xbox, She Instantly Regrets The Decision She Made | Dhar Mann\"],[\"How To Use Canva For BEGINNERS! [FULL Canva Tutorial 2021]\"],[\"Trolling A Protest With ABSURD Protest Signs\"],[\"20 TIMES SPORTS FANS TOOK IT WAY TOO FAR\"],[\"Do this to get a data science job abroad\"],[\"HTML Tutorial for Beginners: HTML Crash Course\"],[\"Cozy Winter \\u2744\\ufe0f - [lofi hip hop/study beats]\"],[\"Learn to Play Chess Today in Less Than 10 Minutes\"],[\"Online Computer Science Bachelor&#39;s - Colorado State University\"],[\"Ti\\u00ebsto &amp; Ty Dolla $ign - The Business, Pt. II (Official Lyric Video)\"],[\"Saint Punk - Empty Bed [Monstercat Lyric Video]\"],[\"I GIRL Voice Trolled the THIRSTIEST 13 Year Old..\"],[\"Musica Tutorial completa FNF  (Friday Night Funkin&#39;)\"],[\"How to get a data science job\"],[\"ASMR MUKBANG | \\uce58\\uc988 \\ubd88\\ub2ed\\ubcf6\\uc74c\\uba74 &amp; \\uce58\\ud1a0\\uc2a4 \\ub300\\uc655 \\ud1b5 \\uac00\\ub798\\ub5a1 \\ud280\\uae40 \\ud56b\\ub3c4\\uadf8 \\ub538\\uae30 \\uba39\\ubc29 &amp; \\ub808\\uc2dc\\ud53c FIRE NOODLES AND Tteokbokki EATING\"],[\"John Dewey\\u2019s 4 Principles of Education\"],[\"I Tried to Speedrun Minecraft Education Edition\"],[\"The Insane Biology of: Ant Colonies\"],[\"18 PUZZLE MASSIVE UNBOXING \\ud83d\\ude35 (Puppets + Time Machines!?)\"],[\"I Survived 100 Days on a SURVIVAL ISLAND in Minecraft Hardcore...\"],[\"How To Build A Business That Works | Brian Tracy #GENIUS\"],[\"Reinforcement Learning: Machine Learning Meets Control Theory\"],[\"Stickers VS Stickerless Rubik&#39;s Cubes\"],[\"Joel Corry, RAYE &amp; David Guetta - BED (Lyrics)\"],[\"Joel Corry x RAYE x David Guetta - BED [Official Lyric Video]\"],[\"Nintendo employees when their joycons drift\"],[\"Pink Floyd - Animals (Full Album) 1977\"],[\"Rubik&#39;s Cubes From Level 1 to Level 100 (WHAT&#39;S YOUR LEVEL?)\"],[\"I Customized A Nintendo Switch In 10 Hours, 1 Hour, 10 Minutes, 1 Minute &amp; 10 Seconds - Challenge\"],[\"Joel Corry x RAYE x David Guetta - BED [Official Video]\"],[\"Drawing faces tutorial\"],[\"SAT Math COMPLETE Test Review (50 Problems) || Algebra &amp; Geometry, Calculator &amp; Non-Calculator\"],[\"Evolution of Nintendo [1889-2022]\"],[\"why study literature // what your degree *actually* teaches you\"],[\"Neil deGrasse Tyson Explains The Weirdness of Quantum Physics\"],[\"Offering People $100,000 To Quit Their Job\"],[\"LITERATURE REVIEW: Step by step guide for writing an effective literature review\"],[\"7 Profitable Business Ideas for 2022\"],[\"Where to start with classic literature &amp; tips for beginners \\ud83d\\udcd2 How to start reading classics\"],[\"Small Business | TikTok Compilation\"],[\"Architects - &quot;Animals&quot; (Orchestral Version) - Live at Abbey Road\"],[\"I Spent 50 Hours Buried Alive\"],[\"Cell Biology | DNA Replication \\ud83e\\uddec\"],[\"Day 1 of 14 days of SAT Prep Lessons! By a 1590 SAT Scorer! SAT Math Formulas and Writing Rules!\"],[\"jacquees - B.E.D. (Lyrics) | Nightly Music\"],[\"CAN WE SOLVE RUBIK&#39;S CUBES MADE OF JELLY?? \\ud83c\\udf6e\"],[\"ASMR SPICY BLACK BEAN ENOKI MUSHROOMS OCTOPUS \\uc9dc\\uc7a5\\ubd88\\ub2ed \\ud33d\\uc774\\ubc84\\uc12f, \\ub099\\uc9c0 \\uba39\\ubc29 \\u5480\\u56bc\\u97f3\\u3048\\u306e\\u304d MUKBANG ZOEY ASMR\"],[\"ASMR Guaranteed Tingles \\ud83e\\udd24 99.9% of You Will Sleep / 3Hr (No Talking)\"],[\"Learn Unity - Beginner&#39;s Game Development Tutorial\"],[\"Marvel Movie Kisses Ranked Worst To Best\"],[\"Trolling Children on Roblox as Karen\"],[\"Using Magnus Carlsen to CHEAT in Chess\"],[\"Solving the 46 Hardest SAT Math Problems from the Official Practice Tests\"],[\"How I Learned To Make Games | One Year of Indie Gamedev\"],[\"ONE HOUR of Amazing Animal Moments | BBC Earth\"],[\"Weird Things Spotted On Google Maps\"],[\"The math you actually need to know for data science.\"],[\"4 A.M Study Session \\ud83d\\udcda - [lofi hip hop/chill beats]\"],[\"Magic trick to solve Rubik&#39;s Cube#shorts\"],[\"Ola Runt - Literature (Official Music Video)\"],[\"The Map of Particle Physics | The Standard Model Explained\"],[\"The Insane Biology of: Hammerhead Sharks\"],[\"Marvel Studios Celebrates The Movies\"],[\"New Hood Movie\\ud83d\\udd25\\ud83d\\udd25 (2022) #lilmama\"],[\"Complete Roadmap for Machine Learning | ML Roadmap for Beginners\"],[\"The Best FREE Software for Game Development! (In my Opinion)\"],[\"The Cutest Wild Baby Animals That Will Make You Go Aww\"],[\"The Real History of Slavery - Southern Negro\"],[\"What Is Data Science? (Explained in 5 Minutes)\"],[\"Talking Tech and AI with Google CEO Sundar Pichai!\"],[\"Scoring 1500+ on the SAT in 1 month || Complete Plan, No Coaching Needed, Free Study Material\"],[\"What Does A Machine Learning Engineer At Amazon Do?\"],[\"Magical Realism In 6 Minutes: Literary Fantasy or Fantastic Literature? \\ud83d\\udcda\"],[\"Frank Wilczek: Physics of Quarks, Dark Matter, Complexity, Life &amp; Aliens | Lex Fridman Podcast #187\"],[\"Kinematics In One Dimension - Physics\"],[\"Why Millennials Are Leaving Six-Figure Tech Jobs\"],[\"Physics\\u2019 greatest mystery: Michio Kaku explains the God Equation | Big Think\"],[\"What is Data Science?\"],[\"Pi&#39;erre Bourne - Biology 101 [Official Audio]\"],[\"Should You Learn Machine Learning?\"],[\"How much Money does my Mobile Game Make? (after 4 weeks)\"],[\"What It Was Like to Be a Mental Patient In the 1900s\"],[\"Wolfgang Puck Answers Restaurant Questions From Twitter | Tech Support | WIRED\"],[\"Cartoon x nublu x Gameboy Tetris - Biology [NCS Release] (Official Music Video)\"],[\"Impossible Moments in Sports\"],[\"Secret Hidden BED Entrance to Epic GAMING FORT!\"],[\"The Insane Biology of: The Platypus\"],[\"I built a FAKE Bed Defense in Roblox Bedwars..\"],[\"Numbaa 7 - Chess (Exclusive By: @HalfpintFilmz)\"],[\"Masters of Disguise | Animal Armory | Episode 3 | Free Documentary Nature\"],[\"How To Introduce Yourself In An Interview! (The BEST ANSWER!)\"],[\"The Biggest Myth In Education\"],[\"EVERY RUBIK&#39;S CUBE FROM 1x1 TO 19x19\"],[\"Gravitas Plus | Financial Literacy: The need of the hour\"],[\"What&#39;s a Good SAT\\u00ae Score: Updated 2021\"],[\"What is Machine Learning?\"],[\"LAST TO LEAVE THE BED!!\"],[\"I Paid Game Developers on Fiverr to Make the Same Game\"],[\"Shark Tank US | Lori Gives Out Her Golden Ticket To Souper Cubes!\"],[\"Dr. Michio Kaku Answers Physics Questions From Twitter | Tech Support | WIRED\"],[\"English Job Interview Dos &amp; Dont&#39;s! | English Conversation Practice\"],[\"TOP 21 QUICK ANSWERS TO JOB INTERVIEW QUESTIONS!\"],[\"Craziest &quot;Karma/Revenge&quot; Moments in Sports History\"],[\"Data science roadmap: What skills you should learn first?\"],[\"I Met RICH KID In Real Life...\"],[\"A Day In The Life Of Sundar Pichai (Google&#39;s CEO)\"],[\"Craziest &quot;1 in a Trillion&quot; Moments in Sports History\"],[\"10 Coolest Gadgets and Inventions That Will Blow Your Mind\"],[\"Amazing Scene of Wild Animals In 4K - Scenic Relaxation Film\"],[\"how to get a 1500+ on the SAT | how to study, study plan, motivation + section tips, resources \\ud83d\\udcda\"],[\"Computer Scientist Explains Machine Learning in 5 Levels of Difficulty | WIRED\"],[\"Computer Scientist Explains Machine Learning in 5 Levels of Difficulty | WIRED\"],[\"bed\"],[\"How to Get Waves (5 Step Tutorial) | GQ\"],[\"5 Steps To Start Making Games (in 2021)\"],[\"10 *actually good* classic literature books for *actual* beginners\"],[\"*XBOX* Mod in Among Us\"],[\"How to Start a Business from NOTHING\"],[\"SCARY THINGS FOUND ON GOOGLE EARTH\"],[\"Soothing Breeze \\ud83c\\udf43 [asian lofi hip hop]\"],[\"The Insane Biology of: The Dragonfly\"],[\"Machine Learning Course for Beginners\"],[\"High IQ Moments in Sports\"],[\"Last To Leave Circle Wins $500,000\"],[\"Data science - \\u0643\\u0644 \\u0645\\u0627 \\u062a\\u0648\\u062f \\u0645\\u0639\\u0631\\u0641\\u062a\\u0647 \\u0639\\u0646 \\u0645\\u062c\\u0627\\u0644 \\u0639\\u0644\\u0645 \\u0627\\u0644\\u0628\\u064a\\u0627\\u0646\\u0627\\u062a\"],[\"Extreme $500,000 Game Of Tag!\"],[\"What Makes Apple&#39;s New $499 Glasses So Special\"],[\"The Entire History of the Akkadians // Ancient Mesopotamia Documentary\"],[\"Tutorials That Went WRONG\"],[\"Damn Nature You Scary | Funny Scary Animal Encounters\"],[\"What Are the New Discoveries in Human Biology? - with Dan Davis\"],[\"Machine Learning Explained in 100 Seconds\"],[\"trolling zoom classes... but my boat is sinking\"],[\"Trolling Zoom Classes....But I \\u201cForget\\u201d I&#39;m SCREEN SHARING\"],[\"7 MOST COMMON Chess Mistakes\"],[\"Rubik&#39;s cube spinner moves #shorts #rubikscube\"],[\"The physics anomaly no one talks about: What&#39;s up with those neutrinos?\"],[\"Why you should not be a data scientist\"],[\"$100 Food Truck Challenge!! USA&#39;s Street Food of the North!!\"],[\"The Most Controversial Player in Sports\"],[\"R. Kelly&#39;s Victims STARTED ACTIN UP in Court &quot;YOU RUINED OUR LIVES!&quot;\"],[\"10 Movies You Should Watch While They&#39;re Still FREE on YouTube  | Flick Connection\"],[\"Trolling Feminists on Twitter (Part 2)\"],[\"[SFM] An Interview with Foxy\"],[\"The WEIRD Nintendo Switch Accessories on Amazon\"],[\"How Covid Is Transforming the $380 Billion Luxury Fashion Industry | The Business of Fashion Show\"],[\"\\u4e2d\\u56fd\\u4eba\\u6311\\u6218\\u7f8e\\u56fdSAT\\u6570\\u5b66\\u2026\\u8003\\u5b8c\\u4e00\\u534a\\u5c31\\u5f03\\u8003\\u4e86\\uff01\\uff1f\\uff01\"],[\"DEADPOOL VOICE TROLLING ON COD: VANGUARD | EPISODE 5\"],[\"Craziest &quot;Thinking outside the Box&quot; Moments in Sports History\"],[\"&#39;Draconology&#39; Explained | Dragon Biology\"],[\"I Trained Like A Chess Grandmaster\"],[\"25 amazing Xbox Series X and S secrets! \\ud83d\\ude31\\ud83d\\udd25\\ud83d\\ude32 #Xbox #XboxSeriesX #XboxSerieS\"],[\"B.E.D. | sped up\"],[\"The Xbox Series S: Should You Buy One?\"],[\"The mistake every new game developer makes (Developing 2)\"],[\"The Insane Biology of: The Axolotl\"],[\"US vs Japan McDonald&#39;s | Food Wars | Food Insider\"],[\"Body Language Expert Explains How to Show Confidence | WIRED\"],[\"Strange Creatures Caught On Google Earth\"],[\"6 Years of Learning Game Development\"],[\"What Was The Worst Time to Be Alive in History?\"],[\"Will Constructor Theory REWRITE Physics?\"],[\"How to Make Perfect Stir Fry Every Time | 4 Components of Stir Fry | You Can Cook That\"],[\"Last To Take Hand Off Lamborghini, Keeps It\"],[\"Craziest &quot;Deadly Fall&quot; Moments in Sports History\"],[\"Secret Rubik\\u2019s cube hiding spot \\ud83e\\udd2b *Transforming Cubes* \\ud83d\\ude31\"],[\"10 personal finance lessons that changed my life\"],[\"Nintendo Switch OLED Review Vs Original | One Month Later\"],[\"Last Minute Cram Tips for the SAT Math Section!\"],[\"Brewmaster Answers Beer Questions From Twitter | Tech Support | WIRED\"],[\"Why I chose to study literature &amp; how I found my passion\"],[\"Can You spot the Fake Rubik\\u2019s Cube? \\ud83e\\udd14\"],[\"My Computer Science Degree in 8 Minutes\"],[\"ASMR \\uba39\\ubc29 :) \\ub9e4\\ucf64 \\ubd88\\ub2ed \\uc0c8\\uc6b0 \\ubc84\\uc12f \\ub5a1\\ubcf6\\uc774~ (\\uac00\\ub798\\ub5a1, \\uc5b4\\ubb35, \\ube44\\uc5d4\\ub098\\uc18c\\uc138\\uc9c0, \\ud33d\\uc774\\ubc84\\uc12f, \\ud45c\\uace0\\ubc84\\uc12f, \\uc0c8\\uc1a1\\uc774\\ubc84\\uc12f, \\ubd88\\ub2ed\\ub9cc\\ub450, \\ubc31\\ub9cc\\uc1a1\\uc774\\ubc84\\uc12f) mukbang.\"],[\"Making Your First Indie Game (5 Tips for 2021 &amp; 2022!)\"],[\"how to solve rubik&#39;s cube 3x3 - cube solve magic trick formula #shorts\"],[\"What is Data Science? | Complete RoadMap | Simply Explained\"],[\"ASMR MUKBANG| \\uc9c1\\uc811 \\ub9cc\\ub4e0 \\uce58\\ud1a0\\uc2a4 \\uc591\\ub150\\uce58\\ud0a8 \\uce58\\uc988\\uc2a4\\ud2f1 \\ud56b\\ub3c4\\uadf8 \\uc9dc\\ud30c\\uac8c\\ud2f0 \\uba39\\ubc29 &amp; \\ub808\\uc2dc\\ud53c FRIED CHICKEN AND BLACK BEAN NOODLES EATING\"],[\"Why the Metaverse Is Fashion&#39;s Next Goldmine | The Business of Fashion Show\"],[\"OLED Nintendo Switch Unboxing!\"],[\"FUNNIEST KAREN TROLLING in SCHOOL ZOOM CLASS COMPILATION 2021\"],[\"Is Data Science Dying?\"],[\"GENIUS HACKS FOR ANY OCCASION || How to Write Faster! Smart Parenting TikTok Tricks by 123 GO!\"],[\"HOW TO STYLE A BED LIKE A DESIGNER! \\ud83d\\udecf\\ufe0f Budget Friendly + Easy to Recreate! (4 DIY Bed Ideas)\"],[\"Trolling Feminists on Discord\"],[\"Asking Yale Students How They Got Into Yale | GPA, SAT/ACT, Extracurriculars &amp; More!\"],[\"BIG VS MEDIUM VS SMALL FOOD CHALLENGE || Last To Stop Wins! Giant VS Tiny Food by 123 GO! FOOD\"],[\"How To Learn Anything, Anywhere - Elon Musk\"],[\"9-Year-Old Boy Defeats A Professional Chess Streamer\"],[\"$456,000 Squid Game In Real Life!\"],[\"The Truth About Their Relationship (Official Music Video)\"],[\"Biologist Answers Biology Questions From Twitter | Tech Support | WIRED\"],[\"$2000 WORLD&#39;S BIGGEST CUBE UNBOXING\"],[\"TOP 40 Songs of 2021 2022 \\\\ Best English Songs  (Best Hit Music Playlist) on Spotify  @Sky Music PE\"],[\"Animals Of The World 4K - Scenic Wildlife Film With Calming Music\"],[\"James Dyson Answers Design Questions From Twitter | Tech Support | WIRED\"],[\"World&#39;s *WEIRDEST* Things SPOTTED on Google Maps!\"],[\"ASMR for Those Who Want to Sleep Soundly Now / 3Hr (No Talking)\"],[\"Solving Rubik\\u2019s cube of all sizes in record time\"],[\"How to Start a Blog in 2022 | By Sophia Lee\"],[\"I bought the BIGGEST Tech in the world.\"],[\"EXTREME BLUE TAKIS FIRE NOODLES WITH HUNGRY FAT CHICK \\u2022 Mukbang &amp; Recipe\"],[\"15 Emerging Technologies that Will Change the World\"],[\"Google \\u2014 Year In Search 2021\"],[\"B.E.D (sped up &amp; pitched)\"],[\"\\u8a02\\u95b1\\u783410\\u842c\\u56de\\u994b\\uff012\\u5c0f\\u6642 32\\u9996 \\u300aMusic Panda\\u300b \\u7d14\\u6b4c\\u66f2\\u5927\\u7279\\u96c6\\uff01\"],[\"COMMON LIVING ROOM DESIGN MISTAKES + HOW TO FIX THEM\"],[\"Human Chess In Real Life With 32 Real Humans As Pieces !! You Win Or Di\\u00e9\"],[\"Best Tech/EDC Gifts Under $50 for Father&#39;s Day! - Gift Guide 2022\"],[\"Deadliest Battle in History: Stalingrad | Animated History\"],[\"The Insane Biology of: The Orca\"],[\"LIFE-SAVING GADGETS and EMERGENCY HACKS YOU SHOULD KNOW\"],[\"\\uff33\\uff2c\\uff25\\uff25\\uff30\\uff39 \\ud83d\\udca4 Lofi hip hop mix - Beats to sleep/chill to | Deep Sleeping Music\"],[\"11 SMART things to SAY in an INTERVIEW! (Interview Tips for Freshers &amp; Experienced Candidates!)\"],[\"I Tried Learning Game Development In One Week\"],[\"2021&#39;s Breakthroughs in Neuroscience and Other Biology\"],[\"The Abyss \\ud83c\\udf3f Deep Lofi Beats\"],[\"2021&#39;s Biggest Breakthroughs in Physics\"],[\"nintendo switch OLED unboxing (+ accessories!!) \\ud83d\\udc36\\ud83c\\udf43\\ud83c\\udf38\"],[\"ASMR Personal Attention to Fall Asleep FAST (skincare, face tracing, pampering, guided relaxing)\"],[\"[2022] My Rubik&#39;s Cube Collection - Fun Fact Edition!\"],[\"real talk about my Data Scientist jobs + salary for entry level data science\"],[\"2021&#39;s Biggest Breakthroughs in Math and Computer Science\"],[\"Funniest Sports Moments of the Year 2021 | Crazy Fan Moments, Epic Fails &amp; Blunders\"],[\"My HONEST College Advice For Computer Science Majors // as a senior computer science student\"],[\"How I Would Learn Data Science in 2022 (If I Had to Start Over)\"],[\"The Magnificent Seven - Full Movie In English | Hollywood Movies | Hollywood Classic Movies\"],[\"Best of lofi hip hop 2021 \\u2728 - beats to relax/study to\"],[\"Top New Comedy Video Amazing Funny Video 2021 Episode 117 By Guys Fun Ltd@CS Bisht Vines\"],[\"How I Would Learn Data Science in 2022 (If I Could Start Over)\"],[\"Mistake: Forgive Only Once | Exclusive English Action Movies\"],[\"Best Of Boxing 2021 | Full Episode | SHOWTIME SPORTS\"],[\"&quot;What is Literature?&quot;: A Literary Guide for English Students and Teachers\"],[\"How to Get Sturdy in 2022 | Dance Tutorial\"],[\"jacquees - b.e.d. (sped up)\"],[\"How I Would Learn to be a Data Analyst\"],[\"ASMR MUKBANG \\uc9c1\\uc811 \\ub9cc\\ub4e0 \\ud0c0\\ud0a4\\uc2a4 \\ub300\\uc655 \\uac00\\ub798\\ub5a1 \\ub5a1\\ubcf6\\uc774 \\ubd88\\ub2ed\\ubcf6\\uc74c\\uba74 \\uce58\\uc988\\uc2a4\\ud2f1 \\ud56b\\ub3c4\\uadf8 \\uba39\\ubc29 &amp; \\ub808\\uc2dc\\ud53c FIRE NOODLES AND Tteokbokki EATING SOUND!\"],[\"How To BEAT The SAT in 2022! ULTIMATE SAT 2022 GUIDE!\"],[\"My Everyday Tech: 2022!\"],[\"Things I Wish I NEVER Found on Google Maps\"],[\"35 Hero Animals that Saved Human Lives !\"],[\"Trolling An ENTIRE MINECRAFT Livestream\\u2026\"],[\"FANTASTIC BEAUTY TUTORIAL | Amazing Hair Dyeing Techniques, Nail Art Ideas And Makeup Trends\"],[\"Evolution of the Rubik&#39;s Cube \\ud83d\\udd25\\ud83d\\udcc8 #shorts\"],[\"Behzad Leito &amp; Sijal Ft Sepehr Khalse, Saman Wilson, Sohrab MJ, &amp; Alireza JJ) - &quot;Business&quot; AUDIO\"],[\"Ultimate Machine Learning Roadmap 2022 (HUGE ANNOUNCEMENT)!\"],[\"\\ud83d\\udd25Data Science Full Course 2022 | Data Science | Data Science For Beginners | Simplilearn\"],[\"the GameStop Xbox SCAM\"],[\"HUSTLANG Robber - HIS STORY (M/V)\"],[\"The Scariest Things Found On Google Maps\"],[\"Computer Scientist Explains One Concept in 5 Levels of Difficulty | WIRED\"],[\"15 Graphically MIND-BLOWING Games of 2022\"],[\"Davis High School student receives a perfect score on the SAT exam\"],[\"Game development is HARD\"],[\"Live Day 1- Introduction To statistics In Data Science\"],[\"12 A.M Study Session \\ud83d\\udcda [lofi hip hop/chill beats]\"],[\"Life Change Begins with Education, Not Inspiration | Jim Rohn Motivational Video\"],[\"2Rare - &quot;Cupid Remix&quot; (Official Music Video)\"],[\"3 Months of Learning Game Development\"],[\"The Insane Biology of: The Venus Flytrap\"],[\"World\\u2019s Most Dangerous Escape Room!\"],[\"Reacting to people following my wolf cut tutorial\"],[\"Eating MEAT in VEGAN Zoom Classes!\"],[\"Live Day 1- Introduction To Machine Learning Algorithms For Data Science\"],[\"The Biology Behind Bonsai Trees\"],[\"Clean Girl On The Go Makeup Tutorial | Christen Dominique\"],[\"The Computer Science Iceberg Explained (Part 1)\"],[\"CS50 FULL REVIEW  - Best Course to Learn Computer Science in 2022? (edX, Harvard)\"],[\"if someone asks you to play music, play this playlist (pt.7)\"],[\"Best Online Business To Start As A BEGINNER (2022)\"],[\"How I Would Learn Data Science in 2022\"],[\"I Tried Making a Multiplayer FPS Game in 1 Week...\"],[\"TROLLING KID COPS ON GTA 5 RP\"],[\"Businesses that Never Fail? 7 Businesses with Amazingly Low Failure Rates [Backed by Data]\"],[\"24 HOURS Eating Only 7-ELEVEN &amp; CU FOOD! Korean CONVENIENCE STORE FOOD HACKS in Seoul South Korea\"],[\"What Professional Data Scientists ACTUALLY Do\"],[\"9 Business Ideas that Will Be BIG in 2022\"],[\"TOP 5 HARDEST INTERVIEW QUESTIONS &amp; Top-Scoring ANSWERS!\"],[\"Chill Drive - Lofi hip hop mix ~ Stress Relief, Relaxing Your Mind\"],[\"How Liquidating Unwanted Goods Became A $644 Billion Business\"],[\"The Ultimate Xbox MYSTERY TECH\"],[\"DATA SCIENTIST CAREER STORY (how I became a data scientist &amp; revealing my salaries)\"],[\"Impossible Sports Moments\"],[\"5 Unexplained Historical Mysteries That Experts Cannot Solve | Weird History Moments\"],[\"Calm Your Anxiety ~ Lofi Hip Hop Mix [Beats To Relax/ Chill to]\"],[\"7 Security Build Hacks vs Pillagers - Minecraft\"],[\"Is Computer Science Right for You?\"],[\"DATA SCIENCE INTERVIEW GUIDE | every type of interview question explained\"],[\"Data Science Career: (Is Becoming A Data Scientist ACTUALLY Worth It?)\"],[\"Minecraft Physics Had an Update..\"],[\"Amazing Physics Toys/Gadgets 1\"],[\"Top 10 Coolest Rubik&#39;s Cube Mods!\"],[\"EXTREME Spicy Food TikTok Compilation 17 \\ud83e\\udd75\"],[\"Chill Vibes - Lofi hip hop mix ~ Stress Relief, Chill Music\"],[\"10 ESSENTIAL Easy Reads of Western Literature\"],[\"Why I regret buying an Xbox Series X\"],[\"Machine Learning With Python Full Course 2022 | Machine Learning Tutorial for Beginners| Simplilearn\"],[\"&#39;Amphiterra&#39; Explained | Speculative Biology\"],[\"Best Funniest animals Videos 2022 \\ud83e\\udd23 - Funny Dogs And Cats Videos\\ud83d\\udc31\\ud83d\\udc36\"],[\"Why Did the World\\u2019s Best Chess Player Go Insane?\"],[\"Chill Drive - Aesthetic Music ~ Lofi hip hop mix\"],[\"Floating City \\ud83c\\udf43 Chill Lofi Beats\"],[\"Trolling Neckbeards of 1942 Germany Gmod Roleplay\"],[\"Trolling FEMINIST Classes On Zoom!\"],[\"Gang Member interview-Baldacci\"],[\"Friday After Next (2002) Full Movie - HD\"],[\"Lil Durk - No Interviews (Official Audio)\"],[\"SAT\\u00ae Tips and Trickzzz: Three Tips and Strategies to INCREASE Your Score!\"],[\"Takeoff, Rich The Kid - Crypto (Official Video)\"],[\"DON XHONI - CRYPTO (Prod. by Rzon &amp; Pllumb)\"],[\"TROLLING THE ADMINS OF HARRY POTTER ROLEPLAY\"],[\"Marvel Bloopers You Have to See!\"],[\"Weird Things Spotted And Caught Deep Below On Google Maps\"],[\"Ms. Marvel | Tr\\u00e1iler Oficial Doblado | Disney+\"],[\"Marvel Studios\\u2019 Ms. Marvel | Official Trailer | Disney+\"],[\"INVENTIONS OF THE FUTURE THAT WILL SOON BE AVAILABLE TO EVERYONE\"],[\"2 Years of Learning Game Development in Unity | My devlog progress\"],[\"Would You Swim With Sharks For $100,000?\"],[\"I bought the THINNEST Tech in the world.\"],[\"Trolling Zoom Classes....But I CONTROL Their Screen 2!\"],[\"the minecraft tutorial world had a secret...\"],[\"25 Game Dev Tips for Beginners - Tips &amp; Tricks\"],[\"Nintendo Switch Sports - Overview Trailer - Nintendo Switch\"],[\"Machine Learning vs Deep Learning\"],[\"Lofi Video Game Beats\"],[\"Einstein and the Quantum: Entanglement and Emergence\"],[\"1000 IQ Moments in Sports\"],[\"4 Things We&#39;ve Forgotten How to Make\"],[\"&#39;Exobiotica&#39; Explained | Speculative Biology\"],[\"I Ate Gordon Ramsay\\u2019s Food For An Entire Day\"],[\"Trolling The POLICE on Zoom!\"],[\"Lil Durk Speaks Out About YoungBoy Dissing King Von (Interview)\"],[\"Cool Tech Under $50 - April!\"],[\"All Sports Golf Battle at The Masters\"],[\"The Part of History You&#39;ve Always Skipped | Neoslavery\"],[\"Bobby Fischer crushes Chilean Chess Champion in 23 moves | 1960\"],[\"I Troll BadBoyHalo with a Horror Mod...\"],[\"1 Year of Learning Game Development In 6 Minutes\"],[\"The Entire History of Viking Britain // Medieval England Documentary\"],[\"TROLLING as an ODER in BROOKHAVEN (JUICY..)\"],[\"Blue Rubik\\u2019s Cube \\ud83d\\udd35\"],[\"Chill Songs \\u266b Acoustic Love Songs 2022 \\ud83c\\udf43 Chill Music cover of popular songs\"],[\"Can Life Really Be Explained By Physics? (featuring Prof. Brian Cox)\"],[\"ASMR | Allergy Test &amp; Skin Treatment Medical Exam\"],[\"Overnight in the World&#39;s Tallest Bed - Challenge\"],[\"$10,000 Every Day You Survive Prison\"],[\"Weird Things Spotted On Google Maps\"],[\"Computer Science isn&#39;t programming! // How to become a Master Programmer // Featuring Dr Chuck\"],[\"Morning Coffee \\u2615\\ufe0f [lofi hip hop/study beats]\"],[\"Best Zoom Trolling Compilation of 2022!\"],[\"Gordon Ramsay Can&#39;t Stop Laughing At His Food | Kitchen Nightmares FULL EPISODE\"],[\"The History Of Earth&#39;s Five Mass Extinction Events [4K] | The Next Great Extinction Event | Spark\"],[\"Asking a Theoretical Physicist About the Physics of Consciousness | Roger Penrose &amp; Jordan Peterson\"],[\"Learn Family Animals: Cat, Horse, Cow, Chicken, Duck - Farm Animal Sounds - Part 2\"],[\"Elon Musk talks Twitter, Tesla and how his brain works \\u2014 live at TED2022\"],[\"What is the Schr\\u00f6dinger Equation? A basic introduction to Quantum Mechanics\"],[\"How to build a PC, the last guide you&#39;ll ever need!\"],[\"POV: You Get a Shiny Cube on Easter\"],[\"Omegle Trolling... But I&#39;m ACTUALLY IN THEIR ROOMS\"],[\"Thor: Amor y Trueno de Marvel Studios | Teaser Oficial | Doblado\"],[\"Marvel Studios&#39; Thor: Love and Thunder | Official Teaser\"],[\"Craziest &quot;You Have to See It to Believe It&quot; Moments in Sports History\"],[\"Elon Musk: A future worth getting excited about | TED | Tesla Texas Gigafactory interview\"],[\"Infinite cube glitch? \\ud83e\\udd14\"],[\"Thor: Love and Thunder de Marvel Studios | Teaser Oficial en espa\\u00f1ol | HD\"],[\"PlayStation vs Xbox: Which Console Is Better In Fortnite?\"],[\"It is IMPOSSIBLE to Un-Solve This Cube  (Cube but Forced)\"],[\"The Animated History of Sweden\"],[\"The Best NEW Action Movies 2022 (Trailers)\"],[\"Splatoon 3 \\u2013 Release Date Revealed  - Nintendo Switch\"],[\"The Man Who Accidentally Killed The Most People In History\"],[\"Peaceful Journey \\ud83c\\udf43 Chill Lofi Beats\"],[\"We Build a Bunk Bed For Triplets\"],[\"I Wish I Had Known This Before I Started Unity Game Development...\"],[\"I Made My Own Game Engine\"],[\"Data Scientist vs Data Analyst vs Data Engineer: What&#39;s the difference?\"],[\"Music makes you happy early in the morning ~ lofi hip hop mix - music to put you in a better mood\"],[\"The Insane Biology of: The Harpy Eagle\"],[\"Busting 100 Food Myths in 24 Hours\"],[\"2 Years of Game Development - Chef RPG\"],[\"Trolling SALTY ADMINS as BATMAN in GTA 5 RP\"],[\"Never Google this word...\"],[\"Greatest Last Stands In History\"],[\"TERRIFYING Things Google Earth Doesn&#39;t Want You To See\"],[\"Intro to Chemistry &amp; What is Chemistry? - [1-1-1]\"],[\"ASMR MUKBANG \\uc9c1\\uc811 \\ub9cc\\ub4e0 \\ub300\\uc655 \\uac00\\ub798\\ub5a1 \\ub5a1\\ubcf6\\uc774 \\ubd88\\ub2ed\\ubcf6\\uc74c\\uba74 \\uc18c\\uc138\\uc9c0 \\uba39\\ubc29 &amp; \\ub808\\uc2dc\\ud53c FIRE NOODLES AND CHEETOS Tteokbokki EATING SOUND!\"],[\"What the Chaga Tribe Eats in a Day!! EXTREME African Food in Tanzania!!\"],[\"100+ Computer Science Concepts Explained\"],[\"SAT\\u00ae Reading: How to Crack a 700! Tips &amp; Strategies to score HIGHER!\"],[\"Veterinarian Answers Pet Questions From Twitter | Tech Support | WIRED\"],[\"The Story of Super Mario World | Gaming Historian\"],[\"Work Week In My Life | Data Scientist at Spotify\"],[\"Stop Overthinking - Lofi hip hop mix ~ Stress Relief, Relaxing Music\"],[\"Kentucky Derby 2022 (FULL RACE) | NBC Sports\"],[\"Secret Forest \\ud83c\\udf43 Chill Lofi Beats\"],[\"My 10 Year Old Solved A Rubik&#39;s Cube!\"],[\"DO NOT STUDY Data Science and Business Analytics IF...\"],[\"How He Started a Coffee Business (With $1,800)\"],[\"ASMR MUKBANG \\uc9c1\\uc811 \\ub9cc\\ub4e0 \\uc591\\ub150 \\uce58\\ud0a8\\uba39\\ubc29! \\uc2a4\\ud14c\\uc774\\ud06c \\uc9dc\\ud30c\\uac8c\\ud2f0 \\ub808\\uc2dc\\ud53c &amp; \\uba39\\ubc29 FRIED CHICKEN AND BLACK BEAN NOODLES EATING SOUND!\"],[\"Weirdest Things On Amazon!\"],[\"Pixel Watch, Pixel 7 and Google&#39;s Hardware Reveal 2022!\"],[\"Solo Development: Myths, Reality and Survival Strategies\"],[\"I Paid 4 Game Developers on Fiverr to Make the Same Game\"],[\"I Cheated in Hide and Seek Using a Bed!\"],[\"Doctor Answers Gut Questions From Twitter | Tech Support | WIRED\"],[\"Mortal Combat (Full Episode) | Animal Fight Night\"],[\"Interview with Google CEO Sundar Pichai at Google I/O 2022\"],[\"Data Scientist Overview\"],[\"OneRepublic - I Ain\\u2019t Worried (From \\u201cTop Gun: Maverick\\u201d) [Official Music Video]\"],[\"Cloning Clan Compounds in Rust - Admin Trolling\"],[\"iPhone 14 Pro Max First Look\"],[\"Wild Babies 4K - Amazing World Of Young Animals | Scenic Relaxation Film\"],[\"15 Emerging Technologies That Will Change Our World\"],[\"ASMR MUKBANG \\uc9c1\\uc811 \\ub9cc\\ub4e0 \\uc591\\ub150 \\uce58\\ud0a8\\uba39\\ubc29! \\uc2a4\\ud14c\\uc774\\ud06c \\uc9dc\\ud30c\\uac8c\\ud2f0 \\ub808\\uc2dc\\ud53c &amp; \\uba39\\ubc29 FRIED CHICKEN AND BLACK BEAN NOODLES EATING SOUND!\"],[\"6 Businesses That Will Never Go Out of Market\"],[\"TROLLING LIBERALS IN CALIFORNIA\"],[\"Harry Styles - Zane Lowe &amp; Apple Music \\u2018Harry\\u2019s House\\u2019 Interview\"],[\"The Man Who Revolutionized Computer Science With Math\"],[\"Professional ASMR Haircut For SLEEP \\u2702\\ufe0f\\ud83d\\udc88\"],[\"Official Trailer | She-Hulk: Attorney at Law | Disney+\"],[\"Mulher-Hulk: Defensora de Her\\u00f3is | Marvel Studios | Trailer Oficial Dublado | Disney+\"],[\"Top 10 Must Have Nintendo Switch Games! 2022 Guide\"],[\"ASMR BLACK BEAN NOODLES, SPICY SEAFOOD, SPICY ENOKI MUSHROOM, \\ubd88\\ub2ed \\ud33d\\uc774\\ubc84\\uc12f \\uba39\\ubc29, OCTOPUS, \\uc9dc\\uc7a5 \\ub77c\\uba74 \\uba39\\ubc29MUKBANG\"],[\"A Day in the life of a Data Analyst in Chicago\"],[\"Worlds Cleanest Fade - Haircut Tutorial\"],[\"How to Discover Your Authentic Self -- at Any Age | Bevy Smith | TED\"],[\"ASMR MUKBANG \\uc9c1\\uc811 \\ub9cc\\ub4e0 \\ud0c0\\ud0a4\\uc2a4 \\ub300\\uc655 \\uac00\\ub798\\ub5a1 \\ub5a1\\ubcf6\\uc774 \\ubd88\\ub2ed\\ubcf6\\uc74c\\uba74 \\uce58\\uc988\\uc2a4\\ud2f1 \\ud56b\\ub3c4\\uadf8 \\uba39\\ubc29 &amp; \\ub808\\uc2dc\\ud53c FIRE NOODLES AND Tteokbokki EATING SOUND!\"],[\"Music Mix 2022 \\ud83c\\udfa7 Remixes of Popular Songs \\ud83c\\udfa7 EDM Best Music Mix\"],[\"Why Th\\u00e9 Rubik&#39;s Cube Is PURPOSEFULLY Made BAD\"],[\"\\ud83d\\udc69\\ud83c\\udffb\\u200d\\ud83d\\udcbb How to learn Data Science FASTER\"],[\"Most Unusual Houses!\"],[\"I Trolled the WHOLE SERVER with an NPC SOUNDBOARD in GTA 5 RP\"],[\"Cozy Cabin \\ud83c\\udf43 Chill Lofi Beats\"],[\"World&#39;s Largest Experiment!\"],[\"All The Differences Between American And Japanese 7-Eleven | Food Wars | Food Insider\"],[\"Katt Williams ATTACKED by Fans for NOT being Funny (YOU MUST SEE THIS)\"],[\"Facing My Worst Fears... Makeup Challenge! | NikkieTutorials\"],[\"TypeScript Tutorial for Beginners [2022]\"],[\"Steam Deck is the &quot;END&quot; of Nintendo Switch?\"],[\"Marvel Studios&#39; Thor: Love and Thunder | Official Trailer\"],[\"Marvel Studios&#39; Thor: Love and Thunder \\u0e18\\u0e2d\\u0e23\\u0e4c: \\u0e14\\u0e49\\u0e27\\u0e22\\u0e23\\u0e31\\u0e01\\u0e41\\u0e25\\u0e30\\u0e2d\\u0e31\\u0e2a\\u0e19\\u0e35 | \\u0e15\\u0e31\\u0e27\\u0e2d\\u0e22\\u0e48\\u0e32\\u0e07 Official\"],[\"Marvel Studios&#39; Thor: Love and Thunder | Official Trailer\"],[\"Thor: Amor e Trov\\u00e3o | Marvel Studios | Trailer Oficial Dublado\"],[\"Music to put you in a better mood ~ Study music - lofi / relax / stress relief\"],[\"Trolling Zoom Classes....But They Can&#39;t Remove Me!\"],[\"My 1 Year Game Dev Journey - From School to Sea of Thieves\"],[\"Sushi Chef Answers Sushi Questions From Twitter | Tech Support | WIRED\"],[\"10 New Tech Gadgets 2022 | You Can Buy Right Now\"],[\"Luckiest People Alive!\"],[\"The Hunt - Best Action Movie 2022 special for USA full movie english Full HD 1080p\"],[\"My Massive Tech Unboxing 46.0!\"],[\"Complete Machine Learning In 6 Hours| Krish Naik\"],[\"Rubik\\u2019s Cubes Then vs Now #shorts\"],[\"Celebrating My 400 Pound Milestone.... McDonald&#39;s Mukbang\"],[\"The stuff no one tells you about game development (Developing 7)\"],[\"Most Embarrassing Moments in Sports - Funniest Moments in Sports History\"],[\"The Rise And Fall Of The Pirate Golden Age | Outlaws | Timeline\"],[\"What If Physics IS NOT Describing Reality?\"],[\"\\u2600\\ufe0f Chillhop Essentials \\u00b7 Summer 2022 [lofi hiphop / chill relaxing beats]\"],[\"Data Scientist Reveals the Best Way to Become Rich\"],[\"Lakeyah Ft. Latto - Mind Yo Business (Official Video)\"],[\"The Best Upcoming ACTION Movies 2022 (Trailers)\"],[\"Taste Expert Answers Questions From Twitter | Tech Support | WIRED\"],[\"I Built Willy Wonka&#39;s Chocolate Factory!\"],[\"Trolling Jet Griefers With My Chernobog Is Too Fun on GTA Online\"],[\"Cool Tech Under $50 - June!\"],[\"Friend\\u2019s Mom STEALS New XBOX Series X from Kid!? *CRAZIEST STORY EVER* (LANKYBOX REACTION!)\"],[\"This AI says it&#39;s conscious and experts are starting to agree. w Elon Musk.\"],[\"Living on a clans compound base - Admin Trolling\"],[\"alone with my thoughts. \\ud83e\\uddfa calm lofi mix\"],[\"The Dan Bilzerian Interview: Slowing Down on Partying &amp; Girls, Million Dollar Watch Theft &amp; More\"],[\"I had an UNBREAKABLE BED in Roblox Bedwars...\"],[\"Nintendo Switch: Five Years In - Scott The Woz\"],[\"Paleontologist Answers Dinosaur Questions From Twitter | Tech Support | WIRED\"],[\"Best Game in 24 Hours Wins $0.01 - Game Development Challenge\"],[\"Marvel\\u2019s Midnight Suns | \\u201cDarkness Falls\\u201d Trailer\"],[\"President Joe Biden Visits Jimmy Kimmel Live\"],[\"I Was SHOCKED When I Heard This Chess Hustler&#39;s Rating\"],[\"I Tried EVERY Game Developer&#39;s WORST NIGHTMARE (Dream Game Devlog)\"],[\"I rejected a $360k Google job offer | Software Engineer\"],[\"The Price of Education In China | Gen \\u8ddf China\"],[\"Xbox &amp; Bethesda Games Showcase 2022\"],[\"DARK SECRET \\ud83c\\udfa5\\ud83c\\udfa5 Best Action Movies 2022 \\ud83c\\udfa5\\ud83c\\udfa5 Latest Hollywood Action Movies\"],[\"How to NOT use a cube stand\\u2026. \\ud83e\\udd26\\u200d\\u2642\\ufe0f\"],[\"100 Craziest Animal Fights of All Time 2022\"],[\"1 IN A TRILLION MOMENTS IN SPORTS\"],[\"Gifting a 9 Year Old MAX Battle Pass!\"],[\"25 Largest Animals Ever Caught On Camera\"],[\"Tech Monopolies: Last Week Tonight with John Oliver (HBO)\"],[\"What is Data Science?\"],[\"Extreme Moments Before Disaster!\"],[\"Why You&#39;re Always Tired (and how to fix it)\"],[\"Hailey Bieber&#39;s Date Night Skin Care &amp; Makeup Routine | Beauty Secrets | Vogue\"],[\"Trolling The Kid That Stole My Scooter\"],[\"Top 10 BEST Career Paths For Computer Science Majors ($100k+ Jobs)\"],[\"Android vs iPhone - Which is ACTUALLY Better? (ft MKBHD)\"],[\"Black Adam Action Movie 2022 full movie english Action Movies 2022\"],[\"The Best NEW Science-Fiction Movies 2022 (Trailers)\"],[\"Computer Science Degree Vs Computer Engineering Degree (Which Is Better?)\"],[\"Leonard Susskind Marrying Quantum Physics &amp; General Relativity\"],[\"1 Year Of Learning Game Development In Unity...\"],[\"MYSTERIOUS KILLER \\ud83c\\udfa5\\ud83c\\udfa5 Best Action Movies 2022 \\ud83c\\udfa5\\ud83c\\udfa5 Latest Hollywood Action Movies\"],[\"Megiddo 1457 BC  - Oldest Battle in History - Bronze Age DOCUMENTARY\"],[\"Did Google\\u2019s A.I. Just Become Sentient? Two Employees Think So.\"],[\"The True Ancient Origins Of The Native Americans | 1491: Before Columbus | Timeline\"],[\"How I became a Game Developer with ZERO Coding &amp; Design Experience + Tips\"],[\"A Perfect Night \\ud83c\\udf19 Deep Lofi Beats\"],[\"\\u2018Clean Girl\\u2019 Makeup Tutorial &amp; Hydrated Skincare Routine\"],[\"OVERNIGHT IN THE WORLD&#39;S MOST DANGEROUS BED!!\"],[\"Chill Drive - Lofi hip hop mix ~ Deep Focus, Relaxing Music\"],[\"iPhone Features Apple Killed With iOS 16\"],[\"How to Organise your Life - Building a Second Brain\"],[\"Biologist Answers More Biology Questions From Twitter | Tech Support | WIRED\"],[\"Xenoblade Chronicles 3 Direct - Nintendo Switch\"],[\"Heart Of The Forest \\ud83c\\udf3a deep lofi hiphop beats\"],[\"ROSHTEIN NEW AMAZING RECORD WIN ON CUBES 2!!\"],[\"Pakistan Street Food at Night!! Vegans Won\\u2019t Survive Here!!\"],[\"Google Engineer on His Sentient AI Claim\"],[\"Google engineer warns new AI robot has feelings\"],[\"ASMR MUKBANG | \\uc9c1\\uc811 \\ub9cc\\ub4e0 \\ud37c\\ud50c \\ub514\\uc800\\ud2b8 \\uba39\\ubc29 \\ud56b\\ub3c4\\uadf8 \\uc544\\uc774\\uc2a4\\ud06c\\ub9bc \\ucd08\\ucf5c\\ub9bf &amp; PURPLE DESSERT JELLY CANDY\"],[\"Do metal ice cubes work?\"],[\"Mob Hitman interview-John Alite\"],[\"Biologist Answers Even More Biology Questions From Twitter | Tech Support | WIRED\"],[\"I Made a BETTER Chess\"],[\"I Tasted Every Food At Disneyland\"],[\"Conspiracy Theory - Action Movie full movie english Action Movies\"],[\"Nintendo Direct Mini: Partner Showcase | 6.28.2022\"],[\"Why Dani Is The Most Underrated Game Developer Ever\"],[\"6 YEARS of Game Development\"],[\"18 DEADLY Tech Fails that need to be BANNED.\"],[\"Cool Tech Under $50 - July!\"],[\"When your Rubik&#39;s Cube is from the year 3000\"],[\"SAY HALO To Animals!!!|Doodle with me (Part 4)\"],[\"TOP SECRET GOVERNMENT CONSPIRACIES REVEALED | The Proof is Out There\"],[\"Enchanted Forest \\ud83c\\udf43 Chill Lofi Beats\"],[\"US vs India KFC | Food Wars | Food Insider\"],[\"179 Minecraft Build Hacks!\"],[\"Physicists At CERN Just Made An Incredible Discovery That Changes Everything\"],[\"How To Make a McDonald&#39;s Cheeseburger\"],[\"Reacting To The World\\u2019s Most Satisfying Videos!\"],[\"Prepper (2016) | Full Post-Apocalyptic Thriller Movie HD\"],[\"How to Design a Tutorial\"],[\"Has Google Created Sentient AI?\"],[\"Tutorials That Went Wrong - Part 2\"],[\"YUMMY AND FRESH SUMMER FOOD RECIPES AND DRINK IDEAS\"],[\"SAT AUGUST TIPS AND TRICKS! DETAILED SAT GUIDE FOR NEW SAT!\"],[\"World&#39;s Fastest Car!\"],[\"Is Data Science Dying in 2022?\"],[\"My Massive Tech Unboxing 47.0!\"],[\"Street Food Singapore!! 5 Hawker FOODS INVENTED in Singapore - with KF Seetoh!\"],[\"I Turned Manhunt Into a Multiplayer Game!\"],[\"Meet the Man Responsible for the Most Deaths in History\"],[\"2022 iPhone 14 Finally Revealed\"],[\"Cooking Entire YAK!! Pakistani Mountain Food in Hunza!!\"],[\"Physicists At CERN Just Made A Terrifying Discovery That Changes Everything!\"],[\"Adie, Janine Berdin - Mahika (Lyrics)\"],[\"How to Create Weekly Planner For Business - Canva For Beginners\"],[\"TROLLING LIBERALS ON PRIDE MONTH\"],[\"iOS 16 Hands-On: Top 5 New Features!\"],[\"FASTEST Way to Become a Data Analyst and ACTUALLY Get a Job\"],[\"Surviving 100 Days In The Wilderness!\"],[\"What&#39;s a Good SAT\\u00ae Score? Updated for 2022-2023!\"],[\"American Eats Pakistan!! From Street Food to Strange Food!! (Full Documentary)\"],[\"Bayonetta 3 - Release Date Revealed - Nintendo Switch\"],[\"TRICK To Solve Rubik Cube In Just 10 Seconds!!\"],[\"&#39;A Storm Is Brewing: Steve Forbes Warns That A &#39;Big Financial Crisis&#39; Is Coming | What&#39;s Ahead\"],[\"Ronny Jackson publicly criticized Biden&#39;s health. Then he heard from Obama\"],[\"44 Businesses You Can Start During The 2022 Recession\"],[\"Toxicologist Answers More Poison Questions From Twitter | Tech Support | WIRED\"],[\"Solve 3x3 rubik&#39;s cube \\ud83d\\ude02\"],[\"80s music that will give you memories of your childhood\"],[\"Food Theory: The Challenge That Nearly KILLED MrBeast!\"],[\"2 Years of Learning Game Development (FPS Indie Game)\"],[\"I spent 20 days customizing my new Xbox\"],[\"People With Amazing Talent!\"],[\"MY SIN \\u2b50\\ud83c\\udf1f Best Action Movies 2022 \\u2b50\\ud83c\\udf1f Latest Hollywood Action Movies\"],[\"The Rise Of Emperor Napoleon Bonaparte | History Hit | Timeline\"],[\"Eating ONLY KOREAN GROCERY STORE FOOD for 24 Hours! Lotte Mart FOOD TOUR\"],[\"TOP SECRET MISSION \\u2b50\\ud83c\\udf1f Best Action Movies 2022 \\u2b50\\ud83c\\udf1f Latest Hollywood Action Movies\"],[\"Mario Strikers: Battle League - 1st Free Update - Nintendo Switch\"],[\"Nintendo Switch HUNTING in NEW YORK CITY!\"],[\"Trolling Zoom Classes....But I Leak My Search History!\"],[\"What Does Quantum Physics Actually Tell Us About the World?\"],[\"I Quit My $21K Day Job To Start My Own Business - Now It Brings In Over $500,000\"],[\"How To Make Every Sushi | Method Mastery | Epicurious\"],[\"17 Coolest Gadgets You Can Actually Buy\"],[\"I Am Groot | Official Trailer | Disney+\"],[\"A Day in the Life of an Indie Game Developer\"],[\"100 Girls Vs 100 Boys For $500,000\"],[\"What happened with me and Apple\"],[\"ASMR | Luxury International Flight Attendant Experience | Overnight Flight\"],[\"Marvel Studios&#39; X-Men &#39;97, What If...? Season 2, Spider-Man: Freshman Year and More\"],[\"Top 10 Marvel Moments That Left Us Speechless\"],[\"I Did a Terrible Job of This - Intel $5,000 Extreme Tech Upgrade\"],[\"SAT AUGUST ULTIMATE TRICKS GUIDE!\"],[\"She Hulk : Defensores de H\\u00e9roes | Tr\\u00e1iler Oficial Doblado | Disney+\"],[\"FULL Marvel Studios Panel from Hall H | San Diego Comic-Con 2022 | AUDIENCE REACTION SDCC 2022\"],[\"Pantera Negra: Wakanda para Sempre | Marvel Studios | Teaser Trailer Legendado | Open Caption\"],[\"MARVEL COMIC-CON 2022 FULL ANNOUNCEMENT! (AUDIENCE REACTION)\"],[\"Marvel Studios&#39; The Multiverse Saga Revealed at Hall H\"],[\"Mulher-Hulk: Defensora de Her\\u00f3is | Trailer 2 Oficial Dublado | Disney+\"],[\"Marvel Studios&#39; Black Panther: Wakanda Forever | Official Hindi Teaser\"],[\"Official Trailer | She-Hulk: Attorney at Law | Disney+\"],[\"\\ud83d\\ude312/2 Cube Solved in 1 second challenge#short #cube#tranding\"],[\"ASMR MUKBANG \\uc9c1\\uc811 \\ub9cc\\ub4e0 \\uce58\\ud1a0\\uc2a4 \\ud584\\ubc84\\uac70 \\uce58\\uc988\\uc2a4\\ud2f1 \\ubd88\\ub2ed\\ubcf6\\uc74c\\uba74 \\ud56b\\ub3c4\\uadf8 \\uba39\\ubc29 &amp; \\ub808\\uc2dc\\ud53c FIRE NOODLES AND CHEETOS BURGER EATING SOUND!\"],[\"Bizarre Filipino Food in Pampanga!! Pets, Pigs and Pests!!\"],[\"Pantera Negra: Wakanda para Sempre | Marvel Studios | Teaser Trailer Oficial Dublado\"],[\"Minecraft NOOB vs PRO: MODERN SECRET BASE BUILD CHALLENGE\"],[\"Team USA SHOCKS JAMAICA for women&#39;s 4x100 world title | NBC Sports\"],[\"Marvel Studios\\u2019 Black Panther: Wakanda Forever | Official Teaser\"],[\"35 Times Animals Messed With The Wrong Opponent !\"],[\"BEST Auditions Of Songs From Movies | Amazing Auditions\"],[\"Frozen vs. Fast vs. Fancy Food Taste Test\"],[\"Most Expensive Hotel Room!\"],[\"Tutorial \\ud83d\\ude0d do u want to see the result? XO TEAM TIKTOK Elsarca #xoteam #elsarca #tiktok\"],[\"Why Copper River King Salmon Is So Expensive | So Expensive Food | Business Insider\"],[\"The Sleazy World Go Interview: Sleazy Flow, Scamming, Lil Baby, Offset &amp; More\"],[\"Up Close, Soft, Ear-to-Ear ASMR for Sleep\"],[\"Military Tank Expert Rates 8 Tank Battles In Movies And TV | How Real Is It? | Insider\"],[\"The Traveling Salesman Problem: When Good Enough Beats Perfect\"],[\"I&#39;m a Hulk | Marvel Studios&#39; She-Hulk: Attorney at Law | Disney+\"],[\"The Killer Lady - Best Action Scene 10/10\"],[\"Filipino Street Food That Will Kill You!! Manila Heart Attack Tour!!\"],[\"3 Years of Unity Game Development!\"],[\"This is the End of an Era for Apple.\"],[\"100 Million Subscriber Livestream!\"],[\"Robert Duvall, Tommy Lee Jones, Danny Glover Best Western Movies | Adventure Western | Lonesome Dove\"],[\"ASMR MUKBANG INDOMIE MI GORENG &amp; FRIED CHICKEN | COOKING &amp; EATING SOUNDS | Zach Choi ASMR\"],[\"15 Craziest Things That Defy the Laws of Physics\"],[\"Mario Kart 8 Deluxe \\u2014 Booster Course Pass - Wave 2 Release Date - Nintendo Switch\"],[\"EVERYDAY SUMMER MAKEUP TUTORIAL ...\"],[\"Cake Rescue from Cake Fail to Nailed It | How To Cook That Ann Reardon\"],[\"Most EVIL Kings in History!\"],[\"NEW Xbox Series X Performance Update | Sony can\\u2019t match it\"],[\"ASMR Shivers Down Your Spine (childhood back tracing games)\"],[\"Why iPhone 14 is so good | Apple fired someone\"],[\"Andrew Tate Trolls FEMINIST Zoom Classes!\"],[\"The Insane Biology of: The Electric Eel\"],[\"MrBeast Hit 100,000,000 Subs So I Did This...\"],[\"Minecraft Speedrunner VS $1,000,000 MrBeast Challenge\"],[\"I got some things I think sound really nice for ASMR\"],[\"ALL MY EXOTIC ANIMALS IN ONE VIDEO ! FULL ZOO TOUR !\"],[\"Why Game Companies Stopped Making Games - How Money Works\"],[\"My Favorite Tech of the Month!\"],[\"How To Beat EVERY DEATH GAME In &quot;Die Now&quot;\"],[\"18 AMAZING Nintendo Switch secrets! \\ud83d\\udd25\\ud83d\\ude31\\ud83e\\udd2f\"],[\"Battle Of The Tech - Super Bike Vs World Superbike\"],[\"US vs India McDonald\\u2019s | Food Wars | Food Insider\"],[\"CNN reporter explains how prosecutors are inching closer to Trump\"],[\"Nailing It Clip | Marvel Studios\\u2019 She-Hulk: Attorney At Law | Disney+\"],[\"DON&#39;T USE DOMAIN.COM Before Watch THIS VIDEO! Best Domain Registrar  for Business\"],[\"300 DAYS of Game Development in 3 Minutes\"],[\"Nostradamus Effect: The Third Antichrist (S1, E1) | Full Episode\"],[\"$1 Burger vs $10,000 Burger!\"],[\"Trolling ANGRY BALD Teachers On Zoom!\"],[\"SAT AUGUST ULTIMATE STUDY ROUTINE GUIDE!\"],[\"INSANE WIN on Cubes 2 Slot! (Bonus Buy)\"],[\"Elon Musk&#39;s ALL NEW Phone Just DESTROYED Apple!\"],[\"Chinese ambassador: Pelosi&#39;s Taiwan visit will escalate tensions\"],[\"Apple iPhone 14 EVENT - Apple are Changing a Product...\"],[\"Blood Red Jellyfish!! EXTREME Vietnam Street Food!!\"],[\"\\ud83d\\ude2fTriangle cube solving challenge #short #viralvideo #cuber #akcuber\"],[\"Pokemon Presents - Official Full Presentation (August 3, 2022)\"],[\"The Harsh Reality of Being a Data Scientist\"],[\"Mukbang Cringe Compilation #10\"],[\"Calzones But Fast Food\"],[\"Fastest ASMR | Daisy, Lorelei, Sybil, Luna, Mistletoe, Bart, Robyn, PomPom, Fleeb Florb, Tatyana\"],[\"Pok\\u00e9mon Presents | 08.03.2022\"],[\"Neil Gaiman Answers Mythology Questions From Twitter | Tech Support | WIRED\"],[\"Saweetie Full Interview with Kevin Hart | Full Episode Hart to Heart\"],[\"*NEW* FPS Chess Game Mode\"],[\"I Gave My 100,000,000th Subscriber An Island\"],[\"The Xbox Series S Gets An Upgrade!\"],[\"How to play &#39;Interstellar&#39; \\ud83c\\udfb9\\u2728 (Cornfield Chase) Complete Piano Tutorial\"],[\"Elon Musk Reveals His Knowledge on Aliens, Challenges Putin to UFC, and Predicts WW3\"],[\"Mase GAVE UP HIS BIBLE AGAIN to join Snoop Dogg and Death Row (YOU MUST SEE THIS)\"],[\"Apple Watch Series 8 - This Is Insane!\"],[\"Chill Drive \\ud83d\\ude99 Lofi Hip Hop Radio ~ Lofi Music To Relax/Study To\"],[\"See video Alex Jones sent out to followers after jury\\u2019s decision\"],[\"Liz Cheney: The evidence is there to prosecute Trump\"],[\"How to Make Potato Chips in a Microwave - The Best Chips You&#39;ll Ever Taste - Food Wishes\"],[\"An Entire Computer Science Degree in 12 Minutes\"],[\"Cool Tech Under $50 - August!\"],[\"Pink Floyd co-founder explains meaning behind warning at the top of his show\"],[\"I wasn&#39;t allowed to post this Mukbang\"],[\"Apple&#39;s iPad Revolution is COMING..\"],[\"I bought the STRANGEST TECH on the Internet.\"],[\"US vs India Domino\\u2019s Pizza | Food Wars | Food Insider\"],[\"See McConnell\\u2019s telling prediction about 2022 elections\"],[\"Chill Night \\ud83c\\udfe1 Lofi Hip Hop Radio ~ Lofi Music To Relax/Study To\"],[\"Former Trump aide calls Trump\\u2019s CPAC speech \\u2018shameful\\u2019\"],[\"Apple September 6 Event LEAKED! \\ud83d\\udea8 iPhone 14, Apple Watch Series 8 &amp; More!\"],[\"Best Back to School Tech 2022!\"],[\"Kirk Douglas, James Coburn Best Western Movies | Full Length | Draw! Full Movie English\"],[\"How Did Ancient People Learn To Cook? | Footprints Of Civilisation | Absolute History\"],[\"&#39;Hold on a second&#39;: CNN anchor presses GOP lawmaker on comparing Trump to Clinton\"],[\"Analysis: How FBI&#39;s search of Mar-a-Lago could help Trump in 2024\"],[\"ASMR Relaxing Spa Facial Treatment \\ud83d\\udc86\\ud83c\\udffd\\u200d\\u2640\\ufe0f (Personal Attention, Tingly Skincare, Scalp Massage)\"],[\"BRAZILIAN STREET FOOD in LOS ANGELES! Insane Brazilian BBQ Meal!\"],[\"Republicans rush to Trump&#39;s defense after FBI executes search warrant at Mar-a-Lago\"],[\"Xbox Just Got BIG News - Massive Game Pass Change, NEW Partnership Announced, &amp; MORE!\"],[\"TROLLING SALTY ADMINS with BANNED CARS... GTA 5 RP\"],[\"\\u2018The hypocrisy is jaw-dropping\\u2019: Honig on Trump taking the Fifth\"],[\"Former Trump White House lawyer reacts to FBI Mar-a-Lago search\"],[\"Growing Number Of High Schoolers Are Opting Out Of Higher Education\"],[\"Tech Hiring Slowdown: What\\u2019s Different This Time? | Tech News Briefing Podcast | WSJ\"],[\"Microsoft Xbox Upgrades- they just got it right\"],[\"Splatoon 3 Direct - Nintendo Switch\"],[\"Deep Cut: Anarchy Rainbow - Splatoon 3 - Nintendo Switch\"],[\"&#39;Deadly serious matter\\u2019: Bernstein on FBI search of Trump home\"],[\"Splatoon 3 Direct \\u2013 10/08/2022\"],[\"Working Day \\ud83c\\udf2f Lofi hip hop radio - Lofi Music for Work, Study, Focus, Coding\"],[\"40 Biggest Animals Ever Captured !\"],[\"Minecraft, But It Gets More Realistic...\"],[\"Physics experiments that changed the world \\u2013 with Suzie Sheehy\"],[\"Merrick Garland announces FBI filed motion to unseal Trump warrant\"],[\"Ex-Trump attorney: What Trump fears the most about the FBI search\"],[\"Kirby\\u2019s Dream Buffet \\u2013 Overview Trailer \\u2013 Nintendo Switch\"],[\"iPhone 14 Last Minute Changes and Leaks!\"],[\"ASMR Brain Penetrating Triggers Ear to Ear for Endless Tingles (No Talking)\"],[\"Trump&#39;s ex-Chief of Staff reacts to report about informant tipping off FBI\"],[\"Does Gen Z Know 90s Movies? | Do They Know It? | React\"],[\"How to Simplify Your Life | Minimalist Philosophy\"],[\"Call My Lawyer | Marvel Studios&#39; She-Hulk: Attorney at Law | Disney+\"],[\"Sony PlayStation is PAYING for Games NOT to go on Xbox Game Pass?!\"],[\"FBI chief responds to threats after search of Trump&#39;s property\"],[\"7 Years of Indie Game Development - The Making Of Sapiens\"],[\"Things Are Getting HEATED Between Xbox &amp; PlayStation...\"],[\"Trump responds to AG Garland\\u2019s move to unseal search warrant\"],[\"Car Crash | Marvel Studios&#39; She-Hulk: Attorney at Law | Disney+\"],[\"Giving School Supplies To The Poorest Schools In America\"],[\"50 Cent Talks &quot;Tycoon Houston Comedy Fest, YK Osiris, Love For Houston, Mending Relationships &amp; More\"],[\"Reporter confronts Republican over call to defund FBI\"],[\"Day in the Life of a Computer Science Student at Waterloo\"],[\"Reporter who broke major story about FBI\\u2019s search of Trump&#39;s home speaks to CNN\"],[\"Blueberry Cornbread - How to Make &quot;Blue Bottom&quot; Cornbread - Food Wishes\"],[\"How Google Maps Sent 2 Teens Into a Death Trap, Only 1 Survived\"],[\"Debunking Fake Cooking Videos &amp; Vaping Lies | How To Cook That Ann Reardon\"],[\"Kabali | \\u0995\\u09be\\u09ac\\u09be\\u09b2\\u09bf | New Bangla Dubbed Tamil Movie 2022 | Rajinikanth, Radhika Apte | Pa Ranjith\"],[\"31 Tricks to Become a Minecraft Building Pro\"],[\"The NEW Xbox Game Pass! What you need to know today\"],[\"New Game Pass Additions, Updates, and Events | This Week on Xbox\"],[\"The Trojan War: Myth vs. Reality | Digging For The Truth (S2, E9) | Full Episode\"],[\"I Survived 100 Days as a WARDEN in Minecraft\"],[\"Hear what voters have to say about Liz Cheney&#39;s opponent\"],[\"Game development is hard | Indie Game Devlog\"],[\"Manchester City v. Bournemouth | PREMIER LEAGUE HIGHLIGHTS | 8/13/2022 | NBC Sports\"],[\"ASMR MUKBANG \\uc9c1\\uc811 \\ub9cc\\ub4e0 \\uc591\\ub150 \\uce58\\ud0a8\\uba39\\ubc29! \\uc2a4\\ud14c\\uc774\\ud06c \\uc9dc\\ud30c\\uac8c\\ud2f0 \\ub808\\uc2dc\\ud53c &amp; \\uba39\\ubc29 FRIED CHICKEN AND BLACK BEAN NOODLES EATING SOUND!\"],[\"Ex-prosecutor says Trump faces serious potential legal liability\"],[\"Trump and his allies flood airwaves with falsehoods after FBI search\"],[\"Gibi ASMR | Playing Would You Rather on an iPad\"],[\"How To BECOME Rainbow Friends In Roblox\"],[\"TROLLING as a NEXTBOT in Da Hood Voice Chat\"],[\"Cool Back to School Tech 2022 \\ud83d\\udd25 (Under $100)\"],[\"Arsenal v. Leicester City | PREMIER LEAGUE HIGHLIGHTS | 8/13/2022 | NBC Sports\"],[\"Armed Trump supporters gathered outside Phoenix FBI office\"],[\"ASMR Flight Attendant Sleep Care Service\\u2708\\ufe0f\"],[\"Risky Thai Street Food!! Even Locals Don\\u2019t Eat This!!\"],[\"Almost EVERYONE is Wasting Money on Dash Cams.\"],[\"GOP strategist says there are two ways FBI&#39;s Trump search can end\"],[\"Chelsea v. Tottenham Hotspur | PREMIER LEAGUE HIGHLIGHTS | 8/14/2022 | NBC Sports\"],[\"25 Features Mojang Keeps a Secret\"],[\"Watch Jordan Klepper confront MAGA crowd on conspiracies\"],[\"How To Beat EVERY $1,000,000,000 DEATH GAME In &quot;Zero&quot;\"],[\"I Ate $1,000 Worth of Food In One Day.\"],[\"US\\u00a0vs.\\u00a0India\\u00a0Subway\\u00a0|\\u00a0Food\\u00a0Wars | Food Insider\"],[\"GROWING UP as RAINBOW FRIENDS In Minecraft!\"],[\"Sculpting You | ASMR\"],[\"Champions Chess Tour: FTX Crypto Cup | Day 1 | Commentary by David, Jovanka, Kaja &amp; Simon\"],[\"How to Grow Your Thumb\"],[\"Dope Tech: The Most Extreme Gaming Monitor!\"],[\"EXTREME BLUE HEAT CHEESE STUFFED TAKIS \\u2022 Mukbang &amp; Recipe\"],[\"100 Kids vs 1 Pro\"],[\"Stop Overthinking - Lofi Music - Lofi Hip Hop Mix ~ Music to put you in a better mood\"],[\"&#39;I thought of Al Capone&#39;: Legendary journalist reacts to Trump search\"],[\"Sports Car Giant Test 2022 \\u2013 Ferrari vs Porsche vs McLaren &amp; more! | CAR magazine (4K)\"],[\"13 NEW XBOX GAME PASS GAMES REVEALED FOR AUGUST &amp; SEPTEMBER\"],[\"How Two Physicists Unlocked the Secrets of Two Dimensions\"],[\"Apple September Event - Every NEW Product Revealed!\"],[\"4 Levels of Mozzarella Sticks: Amateur to Food Scientist | Epicurious\"],[\"Champions Chess Tour: FTX Crypto Cup | Day 2 | Commentary by David, Jovanka, Kaja &amp; Simon\"],[\"Chess Trash Talker Says He&#39;ll Smoke Me, So I Bet $100\"],[\"SAT AUGUST GUIDE TO IMPROVE SCORE 200+ POINTS! ULTIMATE TIPS AND BEST PRACTICES!\"],[\"Liverpool v. Crystal Palace | PREMIER LEAGUE HIGHLIGHTS | 8/15/2022 | NBC Sports\"],[\"The U.S. Is Dealing With A Teacher Shortage, Education Secretary\"],[\"Nintendo Switch Online Is About To Get VERY Interesting In 2022...\"],[\"The Dark Side Of Game Development\"],[\"Nintendo has been accused...\"],[\"iPhone 14! MORE Bad News. \\ud83d\\ude21 Really Apple?\"],[\"Boosie on NBA YoungBoy, Terrance &quot;Gangsta&quot; Williams, Yung Bleu, R Kelly, Lil Nas X (Full Interview)\"],[\"Chill Vibes - Lofi hip hop mix ~ A playlist for loving the autumn\"],[\"iPhone 14: Everything We Know\"],[\"\\ubd88\\ub2ed \\uc9dc\\uc7a5 \\ubb38\\uc5b4 \\ud83d\\udc19 \\uc804\\ubcf5 \\uc624\\uc9d5\\uc5b4 \\ud33d\\uc774\\ubc84\\uc12f \\ud574\\uc0b0\\ubb3c \\uac00\\ub4dd \\ud574\\ubb3c\\ucc1c \\uba39\\ubc29 \\ub808\\uc2dc\\ud53c Octopus Seafood Boil Mushrooms Recipe Mukbang ASMR Ssoyoung\"],[\"ASMR MUKBANG \\uc9c1\\uc811 \\ub9cc\\ub4e0 \\ubc14\\ubca0\\ud050 \\ub5a1\\ubcf6\\uc774 \\ubd88\\ub2ed\\ubcf6\\uc74c\\uba74 \\uce58\\ud0a8\\uba39\\ubc29! &amp; \\ub808\\uc2dc\\ud53c FIRE NOODLES AND FRIED CHICKEN EATING SOUND!\"],[\"Xbox Series Upgrades in 2022! Time to swap?\"],[\"Stop Overthinking\\ud83c\\udf75 Lofi Hip Hop Mix ~ Rainy Night with Rain Sound\"],[\"2 Years of Learning Game Development - Decay\"],[\"&#39;One Man&#39;s Freebie Is Another Man&#39;s Social Spending&#39;: Tamil Nadu Finance Minister | No Spin\"],[\"Pence says he&#39;d consider testifying before Jan. 6 committee if invited\"],[\"Cheney says she\\u2019s \\u2018thinking about\\u2019 running for president\"],[\"See Obama&#39;s clever callback to Biden after he signs bill\"],[\"Hear Bannon\\u2019s reaction to FBI search of Mar-a-Lago\"],[\"BJP Slams Tamil Nadu Finance Minister Palanivel Thiagarajan For Questioning Centre On Freebies\"],[\"TREASURE \\ud83e\\udd80\\ud83e\\udd82 Best Action Movies 2022 \\ud83e\\udd80\\ud83e\\udd82 Latest Hollywood Action Movies\"],[\"Champions Chess Tour: FTX Crypto Cup | Day 3 | Commentary by David, Jovanka, Kaja &amp; Simon\"],[\"I Built MrBeast\\u2019s 100 Million Playbutton!\"],[\"BEST UPCOMING MOVIES 2022 &amp; 2023 (Trailers)\"],[\"Hackers tore apart voting machines. Here&#39;s what they found\"],[\"Tamil Nadu Finance Min Palanivel Thiagarajan&#39;s Viral &amp; Fiery Retort To Modi Govt On Freebies\"],[\"you need to learn SQL RIGHT NOW!! (SQL Tutorial for Beginners)\"],[\"Friday Finance | Season 03 | Trailer | Web Series | Hindustan Times\"],[\"Is the real estate market sliding into a &#39;house recession&#39;?\"],[\"Caicedo? Pulisic? Casemiro? | Who are Manchester United interested in signing? \\u270d\\ufe0f\\ud83d\\udd34\"],[\"He got an offer to join Trump&#39;s legal team. Hear why he turned it down\"],[\"Rents are sky high, and Elon Musk&#39;s tweets cause a stir. Welcome to &#39;Nightcap&#39;\"],[\"Pragg Beats Super GM in &quot;10 Moves&quot;!\"],[\"iPhone 14 -  Apple Doesn&#39;t Care What You Think\"],[\"Ex-Trump lawyer defends Trump against NYT report\"],[\"Bible among challenged books school district is reviewing for removal\"],[\"SHE-HULK Breakdown: Every Easter Egg and Marvel Reference in Episode 1\"],[\"Chartmaster&#39;s Apple warning: &#39;Sell it all&#39;\"],[\"Nightly News Full Broadcast - Aug. 17\"],[\"Lifetime Movies 2022 #LMN Movies | New Lifetime Movies Based On True Story #1\"],[\"$150K On The Line: Hikaru, Fabi, Nepo, and More Battle In Rapid Chess Championship Finals! | Day One\"],[\"mukbang CRINGE compilation\"],[\"ASMR MUKBANG BLACK BEAN FIRE NOODLES &amp; POPEYES CHICKEN SANDWICH COPYCAT | COOKING &amp; EATING ASMR\"],[\"No One Has The Balls To Make This Nintendo Video, So I Will\"],[\"Champions Chess Tour: FTX Crypto Cup | Day 4 | Commentary by David, Jovanka, Kaja &amp; Simon\"],[\"Quadruplets Build Bunk Bed! / Dollhouse in Real Life\"],[\"How To Work For MrBeast\"],[\"Finance experts on the prospect of Sir Jim Ratcliffe buying a stake in Manchester United\"],[\"Nightly News Full Broadcast - Aug. 18\"],[\"Audiologist Answers Hearing Questions From Twitter | Tech Support | WIRED\"],[\"PS5, Xbox Predictions for Gamescom - Next-Gen Console Watch\"],[\"Judge says he may unseal portions of Trump search affidavit\"],[\"Morning News NOW Full Broadcast - Aug. 19\"],[\"New Releases, Updates, and Games Coming Soon | This Week on Xbox\"],[\"Google Pixel 7 + Pixel 7 Pro Early Hands On\"],[\"ULTIMATE SAT READING GUIDE TO IMPROVE YOUR SCORE 300 POINTS!\"],[\"Ed Hyman: The Economy is Doing OK\"],[\"Calm Your Anxiety \\ud83c\\udf41Lofi Chill Mix - Lofi music for sleeping/study/relax/aesthetic\"],[\"Apple security flaw could allow hackers full control of iPhones, iPads, Macs\"],[\"Stocks moving in after hours: Bed Bath &amp; Beyond, Apple, Tesla, Walmart, Target\"],[\"Apple says hackers may have exploited security flaws on iPhone, iPad, and Macs - BBC News\"],[\"TOP 10 Chess Grandmaster CRUSHED In 10 Moves!\"],[\"The Wild West Was As Wild As You Think - And &#39;Justice&#39; Was Often Even Worse\"],[\"Fed: &#39;Things break&#39; when you start quantitative tightening, strategist says\"],[\"Seven Steps to Financial Wellness | Arpit Arora | TEDxChowringhee\"],[\"100 Chicas VS 100 Chicos por 500,000 D\\u00f3lares\"],[\"Cooper: We&#39;ve entered the &#39;perfect phone call&#39; phase of the Mar-a-Lago saga\"],[\"SURVIVOR \\ud83e\\udd80\\ud83e\\udd82 Best Action Movies 2022 \\ud83e\\udd80\\ud83e\\udd82 Latest Hollywood Action Movies\"],[\"12 SURPRISINGLY Good Movies Included with Prime Video\"],[\"Ukraine&#39;s Crimean fightback having &#39;psychological impact&#39; on Russia - BBC News\"],[\"Trolling with Teleporters (Roblox Obby Creator)\"],[\"Lifetime Movies (2022) #LMN Movies ~ New Lifetime 2022 Based On True Story\"],[\"\\u12f3\\u122d\\u121d \\u12e8\\u120b\\u1275 - New Ethiopian music 2022 - Nahom Mekuria - Darm yelat (Official video)\"],[\"Eating Everything at Asia&#39;s Worst Fast Food Chain!! KFC Should Sue!!\"],[\"Secret Hidden Oven Entrance to Epic GAMING FORT!\"],[\"San Sebastian Food Tour - GIANT SCARLET PRAWNS \\ud83e\\udd90 + Best Tortilla in Spain!! | Europe Food Paradise\"],[\"Xbox Just REVEALED Big Official Updates On Xbox Series X Exclusives, Xbox GamePass And Free Games!\"],[\"I Made 100 Players Survive Zombie Island Civilization in Minecraft...\"],[\"Bournemouth v. Arsenal | PREMIER LEAGUE HIGHLIGHTS | 8/20/2022 | NBC Sports\"],[\"Tottenham Hotspur v. Wolves | PREMIER LEAGUE HIGHLIGHTS | 8/20/2022 | NBC Sports\"],[\"BIGGEST Winners &amp; Losers From Friday&#39;s NFL Preseason Slate I CBS Sports HQ\"],[\"Reactions after Arsenal cruise past Bournemouth | Premier League | NBC Sports\"],[\"Fulham v. Brentford | PREMIER LEAGUE HIGHLIGHTS | 8/20/2022 | NBC Sports\"],[\"New satellite images debunk Putin&#39;s claim about nuclear plant\"],[\"Piper Rockelle - Tea Party (Official Music Video) \\u2665\\ufe0f\\ud83e\\uded6\\u2660\\ufe0f\"],[\"Why Investors are Angry About Bed Bath &amp; Beyond ($BBBY)\"],[\"Finance influencer talks social media, retail hacks, and what to know when you travel\"],[\"Apple warns of security vulnerability in iPhones, iPads and Macs\"],[\"Apple Announces Serious Security Flaw: Here\\u2019s How To Protect Your Data\"],[\"Nightly News Full Broadcast - Aug. 19\"],[\"Apple September 2022 Event - 8 Things to Expect!\"],[\"Magnus Smiling Entire Game Against Alireza || FTX Crypto Cup (2022)\"],[\"TOP 4 INSANE ALIEN ENCOUNTERS | The Proof Is Out There\"],[\"Champions Chess Tour: FTX Crypto Cup | Day 6 | Commentary by Peter Leko &amp; Lawrence Trent\"],[\"Why eggs are becoming more expensive, according to Vital Farms CEO\"],[\"Apple urges users to update devices following security threats\"],[\"India Today is a Miracle\\u2026But That Miracle is Under Threat\\u2014Tamil Nadu Finance Minister P Thiaga Rajan\"],[\"Where the ultra-wealthy are allocating their assets: Survey\"],[\"100 Filles Contre 100 Gar\\u00e7ons Pour 500 000 $\"],[\"Why did Britain Attack the Greeks in 1944? | Animated History\"],[\"I Survived A Plane Crash\"],[\"Why Most Google Employees Quit After 1.1 Years (On Average)\"],[\"Champions Chess Tour: FTX Crypto Cup | Day 6 | Commentary by David, Jovanka, Kaja &amp; Simon\"],[\"MUMEI DON&#39;T GOOGLE THAT\"],[\"HOW TO GET THESE HIDDEN ROBLOX FACES \\ud83e\\udd29\"],[\"The History Of Chess: A Reflection Of Us\"],[\"Why The Education System Is Failing America | CNBC Marathon\"],[\"Leeds United v. Chelsea | PREMIER LEAGUE HIGHLIGHTS | 8/21/2022 | NBC Sports\"],[\"Newcastle United v. Manchester City | PREMIER LEAGUE HIGHLIGHTS | 8/21/2022 | NBC Sports\"],[\"Google\\u2019s Most Advanced Robot Brain Just Got a Body\"],[\"&quot;WE DONE IT BABY! \\ud83c\\uddec\\ud83c\\udde7\\ud83c\\uddef\\ud83c\\uddf2\\ud83c\\udfc6 EPIC POST-FIGHT SCENES as Leon Edwards Becomes UFC Welterweight Champion\"],[\"West Ham United v. Brighton | PREMIER LEAGUE HIGHLIGHTS | 8/21/2022 | NBC Sports\"],[\"Americans Are Angry And Worried About U.S. Future, New NBC News Poll Shows\"],[\"Microsoft&#39;s HUGE plans for Xbox! We can&#39;t stop it\"],[\"The History Of Chess: A Reflection Of Us\"],[\"Somebody Is Trolling This Pastor And It IS SO FUNNY\"],[\"See Crenshaw&#39;s reaction to Marjorie Taylor Greene calling to defund FBI\"],[\"Solvathellam unmai troll|latest Tamil troll|TMM\"],[\"Daughter of Russian ultra-nationalist killed in suspected car bomb attack\"],[\"18 Million Under Flood Alerts Nationwide\"],[\"KILLER PORK SINIGANG MUKBANG\"],[\"Inside the war in Ukraine, 6 months since Russia invaded\"],[\"SML Movie: Jeffy&#39;s 18th Birthday!\"],[\"Champions Chess Tour: FTX Crypto Cup | Day 7 | Commentary by David, Jovanka, Kaja &amp; Simon\"],[\"Can you open this cube? Ft. @ZHC\"],[\"Champions Chess Tour: FTX Crypto Cup | Day 7 | Commentary by Peter Leko &amp; Lawrence Trent\"],[\"Ultimate Showdown || Carlsen vs Praggnanandhaa || FTX Crypto Cup (2022)\"],[\"Food Theory: The Pink Sauce Mystery SOLVED (TikTok)\"],[\"Lifetime Movies 2022 #LMN Movies | New Lifetime Movies Based On True Story #6\"],[\"I Got Banned For Trolling Racists In Gmod RP\"],[\"The Nintendo Switch BIGGEST SECRET Has Finally Been Revealed....\"],[\"Brian Stelter speaks about cancellation of his CNN show &#39;Reliable Sources&#39;\"],[\"Food prices, gas and housing: Financial content creator weighs in\"],[\"Ethereum merge: \\u2018This is a huge milestone for the industry,\\u2019 Framework Ventures co-founder says\"],[\"Hilariously FAKE Minecraft Speedruns...\"],[\"Mohamed El-Erian predicts Fed moves and the housing market: August 21, 2013\"],[\"20 Minecraft Block Facts You Maybe Didn&#39;t Know\"],[\"20 Minecraft Block Facts You Maybe Didn&#39;t Know\"],[\"What in FORTNITE is DRAGON BALL Z?! (Quests) K-CITY GAMING\"],[\"Top 10 Marvel karakter, akiket val\\u00f3di emberekr\\u0151l mint\\u00e1ztak\"],[\"How to Write Less but Say More | Jim VandeHei | TED\"],[\"Deadly car bomb detonates outside Moscow\"],[\"Potential mass shooting foiled in Washington state\"],[\"HOW TO: EASY EVERYDAY FALL MAKEUP TUTORIAL! - Tips, Tricks &amp; Techniques for Beginners!\"],[\"3 WINS AGAINST MAGNUS CARLSEN!!\"],[\"5 Years Of Learning Game Development\"],[\"Recession fears? Canadians cutting spending, worried about debt levels | Financial planner reacts\"],[\"Dobol B TV Livestream: August 22, 2022 - Replay\"],[\"\\uac89\\ubc14\\uc18d\\ucd09 \\ud83d\\udd25 \\uacf1\\ucc3d \\ud1b5 \\ub300\\ucc3d \\uc5fc\\ud1b5 3\\uc885\\uc138\\ud2b8 \\uba39\\ubc29 Crunchy Beef Intestines Daechang Korean Buldak Ramen Mukbang ASMR Ssoyoung\"],[\"BITCOIN 4 YEAR LOW ON EXCHANGES. FTX UP 1000% &amp; VOYAGER WANTS A BONUS?\"],[\"19 Year-Old Starts a Trucking Business\"],[\"Si SQUIDWARD At Si DREAM Nandito Sa ROBLOX BACKROOM MORPHS!!?\"],[\"ASMR Gaming \\ud83d\\ude34 Fortnite Tryhard Squad Win! Relaxing Gum Chewing \\ud83c\\udfae\\ud83c\\udfa7 Controller Sounds \\ud83d\\udca4\"],[\"SEAFOOD MUKBANG | KING CRAB SEAFOOD BOIL MUKBANG | CHEESY ALFREDO SAUCE | ASMR EATING | ASMR FOOD\"],[\"Market Drops \\ud83d\\udcc9 NFTs in Trouble \\ud83d\\ude31 FDIC Issues Warnings \\u26a0 (Crypto This Week! \\ud83d\\uddd3\\ud83d\\udc40) #CryptoNews\"],[\"This Budget Gaming Laptop Can\\u2019t Be Beat!\"],[\"Roblox - B\\u1ea4T NG\\u1edc KHI GAME NARUTO C\\u00d3 S\\u1ee8C M\\u1ea0NH TR\\u00c1I \\u00c1C QU\\u1ef6 HITO MODEL NIKA C\\u1ee6A LUFFY - Shindo Life\"],[\"&quot;They can ******* play football\\u2026sorry&quot;\\ud83d\\ude05 | Erik ten Hag reacts to his first Manchester United win\"],[\"KING CRAB LEGS + LOBSTER TAILS + GREEN LIP MUSSELS ,  SEAFOOD BOIL MUKBANG \\uba39\\ubc29\\uc1fc\"],[\"Manchester United v. Liverpool | PREMIER LEAGUE HIGHLIGHTS | 8/22/2022 | NBC Sports\"],[\"Nintendo Switch accessories you NEED!\"],[\"Easy Fluffy Miniature Strawberry Pancake Recipe | ASMR Cooking Mini Food &amp; Satisfying Video\"],[\"Saints Row: Performance Review PS5 vs Xbox Series X|S vs PC vs Xbox One X\"],[\"Coldplay Greatest Hits Full Album 2022 - Coldplay Best Songs Playlist 2022\"],[\"Manchester United v. Liverpool LIVE postgame Q&amp;A | Premier League | NBC Sports\"],[\"Music Mix 2022 \\ud83c\\udfa7 EDM Remixes of Popular Songs \\ud83c\\udfa7 EDM Gaming Music Mix \\u200b\"],[\"shiey - settle down (Music Video)\"],[\"\\u0627\\u0635\\u0639\\u0628 \\u0644\\u0639\\u0628\\u0629 \\u062c\\u0648\\u0627\\u0644 \\u062a\\u062e\\u0644\\u064a\\u0643 \\u062a\\u0639\\u0635\\u0628 \\u0636\\u062d\\u0643 \\u0648\\u062a\\u062d\\u0634\\u064a\\u0634\"],[\"No Consideration of Charges for UPI Services | Cleared Finance Ministrer Nirmala |\"],[\"Leon Edwards\\u2019 Emotional First Interview Since Shocking the World at UFC 278 - MMA Fighting\"],[\"Tech firms can&#39;t hide behind advertising rules with financial products, says CFPB chief\"],[\"Housing: \\u2018This might be almost the worst time you could buy,\\u2019 Columbia Business School Professor C\"],[\"How Bubblegum Is Made!\"],[\"iPhone 14 - what can we expect?! Rumors and more!\"],[\"Forget the iPhone 14 - 2023 changes EVERYTHING!\"],[\"NLE Choppa on Beef with Vlad, &quot;Snake Oil Salesman&quot;, NBA YoungBoy, King Von, 2Pac (Full Interview)\"],[\"The European Energy CRISIS (Winter Is Coming)\"],[\"Urgent! If You Hold ANY Crypto WATCH NOW! Terra Luna Classic Recovery!\"],[\"Bitcoin 4 Year Cycle Prediction - This May Change Your Mind On BTC\"],[\"LEAKED Gameplay for New Xbox Games - Dead Island 2 | RedFall &amp; Gamescom 2022 Event Xbox News Cast 66\"],[\"For My Soul | Deep Chill Music Mix\"],[\"ATTN: BITCOIN HODLERS!!!!!! LOOK WHAT\\u2019S HAPPENING!!!!\\ud83d\\udea8WARNING!!!! 72 HRS MAXIMUM!!!!!!!!\"],[\"Reloading a Controller: Xbox vs. Playstation\"],[\"More people use weed than tobacco in the US, new poll reveals\"],[\"Sonic Frontiers - Story Trailer\"],[\"Why did I order 3000 Rubik&#39;s cubes?\"],[\"FORZA HORIZON 2 FINALMENTE NO PC! (FICOU INCR\\u00cdVEL)\\ud83d\\ude31 | Emulador de Xbox 360\"],[\"speed up tiktok audios that are such a vibe\"],[\"Relaxing Whiskey Blues Music | Beautiful Relaxing Blues Ballads | Best Compilation Blues Music\"],[\"yvngxchris - GUNNINHIMDOWN [Dir. by @DotComNirvan]\"],[\"Ray J Talks Justin Bieber Beef,  Raycon Earbuds, B2K, RSVP Group, Shaves Chest Hair\"],[\"How the Great Pyramids were Built | Big History (S1, E5) | Full Episode\"],[\"Music Mix 2022 \\ud83c\\udfa7 Remixes of Popular Songs \\ud83c\\udfa7 EDM Gaming Music Mix\"],[\"Lies of P - Gameplay Reveal\"],[\"The Mystery Of The 2,000,000 Year Old Human Remains | Mystery Of Our Ancestors | Timeline\"],[\"HUGE MARVEL STUDIOS D23 REVEALS! New Phase 6 Films and Casting Rumors D23 Preview\"],[\"Backrooms - Missing Tapes\"],[\"Why Marvel Phase Four Sucks!\"],[\"Best Reggae Music Hits 2022 - Best Reggae Popular Songs 2022-- BEST ENGLISH REGGAE LOVE SONGS 2022\"],[\"Coldplay Greatest Hits Full Album Playlist - The Best Of Coldplay Nonstop New Songs\"],[\"Troye Sivan - Angel Baby\\ud83d\\udca6New OPM Love Song 2022 Aug\\ud83d\\udca6Top 100 Rap OPM Songs\\ud83d\\udca6Kumpas, Kagome, KG x Moira\"],[\"\\u00c9 OFICIAL! IPHONE 14 CHEGA DIA 7 DE SETEMBRO -  VEJA TUDO SOBRE ELE E AT\\u00c9 O PRE\\u00c7O\"],[\"10Percent &amp; Moneybagg Yo - Major Payne [Official Music Video]\"],[\"More than 100 classified Trump docs recovered from Mar-a-Lago in January\"],[\"\\ud83d\\udd34 URGENT Bitcoin Shocking Trend for Big Profit | Crypto News Today\"],[\"\\ucc28\\ub3cc\\uc9ec\\ubf55 \\uc2a4\\ud0c0\\uc77c\\ub85c \\ub053\\uc5ec \\ub9cc\\ub4e0 \\ucc28\\ub3cc \\ub77c\\uba74!! (Hot spicy instant noodles with Beef brisket) \\uc694\\ub9ac&amp;\\uba39\\ubc29!! - Mukbang eating show\"],[\"The FIRST 42-inch OLED Gaming Monitor - PG42UQ\"],[\"My New House Gaming Setup is SICK!\"],[\"The Office - 2x2 Sexual Harassment - Group Reaction\"],[\"Petrol Vs Liquid Nitrogen | Freezing Experiment | \\u0d2a\\u0d46\\u0d1f\\u0d4d\\u0d30\\u0d4b\\u0d33\\u0d3f\\u0d28\\u0d46 \\u0d10\\u0d38\\u0d4d \\u0d06\\u0d15\\u0d3e\\u0d7b \\u0d2a\\u0d31\\u0d4d\\u0d31\\u0d41\\u0d2e\\u0d4b | M4 Tech |\"],[\"Mylta Power Station Long drive &amp; Night Food Party Vlog | RON GAMING VLOGS\"],[\"Sonic Frontiers - Story Trailer - Nintendo Switch\"],[\"Google reports customer to police for pedo behavior over doctor photos: THIS is why privacy MATTERS!\"],[\"Large BITCOIN Wallets are BUYING, what do they KNOW? Crypto News Today\"],[\"Evolution Of Thomas The Tank Engine on Google Earth!\"],[\"Spring Roll Spicy Noodles | MUKBANG\"],[\"LEGO Star Wars: The Skywalker Saga Nintendo Switch NEW PATCH Review!\"],[\"Nintendo&#39;s Big Switch Reveal Means No Direct? + PSVR 2 Coming Soon!\"],[\"Urgent: How to Adjust for Google&#39;s New Update\"],[\"This &quot;Nintendo Switch Lite OLED PRO&quot; can play ANYTHING!\"],[\"BACK TO SCHOOL HAIR TUTORIAL! | Elementary, Middle, and High School!\"],[\"Gary Owen Opens Up About His Divorce From Kenya Duke, Falling Out With His Kids, Healing + More\"],[\"GTA 5 ONLINE : RAMP BUGGY VS DRAUGUR (WHICH IS BEST OFF ROAD VEHICLE?)\"],[\"15 Kilo Zay\\u0131f G\\u00f6steren K\\u0131z Makyaj\\u0131 |Arkada\\u015flar\\u0131mla \\u00c7in Restorant\\u0131 ve Canl\\u0131 M\\u00fczik Vlog\"],[\"ASMR Big Food, Medium Food VS Small Food Mukbang Challenge\"],[\"NO STREAM FOR 3 DAYS | KYA AAJ 35 KILLS HONGE | GODL LoLzZz | BGMI LIVE\"],[\"Nintendo BIG ANNOUNCEMENT Revealed Just Now\\u2026\"],[\"MUKBANG \\uc0c8\\uc6b0\\uce58\\ud0a8 \\uc0ac\\uc774\\ub4dc \\uc804\\uba54\\ub274 \\uba39\\ubc29! Korean Fried Chicken \\uba55\\uc2dc\\uce74\\ub098 \\uc2e0\\uba54\\ub274 \\uce58\\ud0a8 \\uc18c\\ub5a1\\uc18c\\ub5a1 \\uc0c8\\uc6b0\\ub9c1 EATING SHOW | HIU \\ud558\\uc774\\uc720\"],[\"Strange food, crocodile head, sheep head, roast pig| Chinese Food Eating Show | Funny Mukbang ASMR\"],[\"HILARIOUS WHO KNOWS ME BETTER (COUSIN VS. WIFE ) + HOMEMADE CHICKEN ENCHILADAS MUKBANG CHALLENGE!\"],[\"Jerome Powell About To CRASH The Market?! This Can Move Crypto! (New Home Buyers Should Get Ready)\"],[\"Best EDM Music Mix 2022 \\u266b Top NCS Gaming Music \\u266b Best EDM Remixes, Trap, House, Dubstep\"],[\"US Citizenship Interview 2022 | 2008 Version U.S Naturalization Interview | N-400 with Mr. Yong Kang\"],[\"Guy Fieri Eats Barbecue from a Baltimore Food Truck | Diners, Drive-Ins and Dives | Food Network\"],[\"CONHE\\u00c7A O PINK DO RAINBOW FRIENDS NO MINECRAFT !! ( RAINBOW FRIENDS  )\"],[\"Happy Morning Music - Positive Feelings and Energy - Relaxing Morning Meditation Music For Wake Up\"],[\"Music Mix 2022 \\ud83c\\udfa7 Best Remixes of Popular Songs \\ud83c\\udfa7 EDM Gaming Music Playlist\"],[\"History of Abomination\"],[\"Monster School : I am Fearless...Bad Mother Herobrine - Sad Story - Minecraft Animation\"],[\"Your Hair is visible AIR [ASMR] Hairdresser Roleplay\"],[\"UP News: \\u0915\\u0939\\u093e \\u0917\\u093e\\u092f\\u092c \\u0939\\u094b \\u0917\\u092f\\u093e Abbas Ansari ? 7 \\u0930\\u093e\\u091c\\u094d\\u092f\\u094b\\u0902 \\u092e\\u0947\\u0902 \\u092a\\u0941\\u0932\\u093f\\u0938 \\u0915\\u0940 \\u0906\\u0927\\u093e \\u0926\\u0930\\u094d\\u091c\\u0928 \\u091f\\u0940\\u092e\\u0947\\u0902 \\u0915\\u0930 \\u0930\\u0939\\u0940 \\u0924\\u0932\\u093e\\u0936\"],[\"Shotzzy Trolling Karma! \\ud83e\\udd23\"],[\"THEMURAT VS MINECRAFT #159\"],[\"TROLLING AS AN HR AT VINNS HOTELS!!! - ROBLOX Trolling!!\"],[\"Trolling TOP PLAYERS with an IMPOSSIBLE CHALLENGE\"],[\"BastiGHG vs. NEUE ENDBOSSE (EVIL BASTIGHG)\"],[\"Trolling The Angry Admins Of Gmod Pony RP\"],[\"I GIRL Voice Trolled Andrew Tate&#39;s BIGGEST Fan..\"],[\"Jail for Najib as Federal Court upholds ex-PM\\u2019s conviction\"],[\"Why Did Prehistoric People Make Cave Paintings? | Footprints of Civilisation | Absolute History\"],[\"TROLLING SALTY KIDS in GTA 5 RP\"],[\"Najib ke penjara, Mahkamah Persekutuan kekal sabitan\"],[\"Trolling ANGRY OLD MEN On Zoom!\"],[\"Bunk Bed for Triplets / Emerald Girl, Ruby Girl and Diamond Girl\"],[\"FIDE Dunks On Magnus? Why Do They Hate Online Chess?\"],[\"The 4 WORST Chess Openings\"],[\"Intel, Brookfield ink $30 billion financing deal for chip factory expansion\"],[\"Trump legal team trying to stop Department of Justice from reviewing records seized from Mar-a-Lago\"],[\"HOW THE WORLD TURNED ON THIS DAY #royalfamily #history #popculture\"],[\"Stocks moving in after hours: Nordstrom, Urban Outfitters, Intuit, Toll Brothers, AMC and APE\"],[\"iPhone 14 Event = RUINED! FIRST LOOK at EVERYTHING! iPhone 14 Pro, Apple Watch S8 + ONE MORE THING!\"],[\"Morning News NOW Full Broadcast - Aug. 23\"],[\"Opening Prep Is Useless\\u2026 Vidit, Bok, Hansen, and More in Fischer Random KO! | Qualifier One\"],[\"ABC News Live: Trump files motion to bar review of materials seized from Mar-a-Lago\"],[\"T. Raja Singh News: T. Raja Singh \\u0915\\u094b \\u091c\\u092e\\u093e\\u0928\\u0924 \\u092e\\u093f\\u0932\\u0940, \\u091f\\u0940 \\u0930\\u093e\\u091c\\u093e \\u0928\\u0947 \\u0926\\u093f\\u092f\\u093e \\u0925\\u093e \\u0935\\u093f\\u0935\\u093e\\u0926\\u093f\\u0924 \\u092c\\u092f\\u093e\\u0928| Latest News\"],[\"ASMR Medical Triggers On Your EARS (Up Close Sounds, Tingles, Sleep, Study, Intense)\"],[\"Why Netflix is Now Making Video Games\"],[\"My New House Gaming Setup is SICK!\"],[\"World&#39;s Most Dangerous Fruit\"],[\"5 &quot;Shocking&quot; Events that Destroyed Ancient Egypt\"],[\"Tonnenweise GANZ NEUE Games, Monkey Island 5 Release uvm. - Opening Night Live | gamescom 2022\"],[\"When you Don&#39;t get Pen, Pineapple, Apple, Pen : \\ud83d\\ude44\"],[\"Planning our Halloween theme!! Last year Marvel!! This year ?!\"],[\"ASMR FR: Roleplay\\ud83e\\udd35\\u200d\\u2642\\ufe0fespion\\ud83e\\udd35\\u200d\\u2642\\ufe0f(tu as une mission sur la Lune !?)\"],[\"35 Rare Shocking and Heartbreaking Historical Photos You Wont Find In History Books! EP2\"],[\"When Andrew Tate catches you watching Marvel\\ud83e\\udd23 #shorts\"],[\"Bionic Avengers Bad On Defense? - Masters Cosmic Crucible Round 1 - MARVEL Strike Force - MSF\"],[\"[ASMR] \\uc804\\ubb38\\uac00\\uc758 \\ud398\\uc2a4\\ud2f0\\ubc8c \\uba54\\uc774\\ud06c\\uc5c5 \\ub9ac\\uc5bc \\uc0ac\\uc6b4\\ub4dc\\u2728\"],[\"The best and worst retail trading platforms: Finance professor\"],[\"ASMR Follow My Instructions \\ud83d\\udc97 (very lofi) (gentle background noise)\"],[\"FER\\u0130TED VS M\\u0130NECRAFT #305\"],[\"THE ROCK quiere DC VS MARVEL, con qui\\u00e9n se acost\\u00f3 CAPIT\\u00c1N AM\\u00c9RICA, vuelve PUNISHER, EZRA pide perd\\u00f3n\"],[\"ASMR- CABELEIREIRA GROSSEIRA E APRESSADA DANDO UM TRATO NO SEU CABELO (CORTE, CREME,PENTE,ETC)\"],[\"Backwoods | FULL MOVIE | 2008 | Horror, Slasher, Haylie Duff\"],[\"ASMR Slow to Fast (wet/dry) Mouth Sounds EXTRA Sensitivity for Ultimate Tingles\"],[\"10 MYSTERIOUS Historical Places You&#39;ve Never Heard Of!\"],[\"Gaming Memes Only True Gamers Understand 84 #Memes #shorts\"],[\"ASMR: sentando ao seu lado no AVI\\u00c3O \\u2708\\ufe0f  te ajudando a dormir delicadamente!\"],[\"Gary Cooper, Anthony Perkins | Full War, Western Movie | Full Length | Friendly Persuasion English\"],[\"GENTLE ASMR FOR INSTANT RELAXATION \\ud83d\\udca4 Hair Straightening, Spraying, Brushing, Hair Play (no talking)\"],[\"ASMR MUKBANG \\ud3b8\\uc758\\uc810 \\ud575\\ubd88\\ub2ed \\ubbf8\\ub2c8!! \\ub5a1\\ubcf6\\uc774 &amp; \\ud56b\\ub3c4\\uadf8 &amp; \\uce58\\uc988 \\ud53c\\uc790 FIRE Noodle &amp; HOT DOG &amp; CHEESE PIZZA EATING SOUND!\"],[\"Sterling Hayden, Sebastian Cabot | Full Western Movie | Wild West | Terror in a Texas Town English\"],[\"Tapper: Republicans take credit for bills they opposed\"],[\"New Lifetime Movies 2022 - African American  #LMN Movies 2022 | Based On True Story #104\"],[\"New Lifetime Movies (2022) #LMN Movies | Based On True Story (2022)\"],[\"\\ud83c\\udfa7ASMR for People Who Want to Tingle Without Earphones / NO TALKING\"],[\"Spicy Chicken Piccata | Home Movies with Alison Roman\"],[\"When Your Rubik\\u2019s Cube is IMPOSSIBLE\\u2026\"],[\"Apple Pay Is Killing the Physical Wallet After Only Eight Years | Tech News Briefing Podcast | WSJ\"],[\"China&#39;s Economic CRASH: Why It&#39;s Coming &amp; What It Means\"],[\"Charlie Sykes: GOP Candidates Transform Politics Into An \\u2018Unserious Business\\u2019\"],[\"Attention: Bitcoin is About to Destroy New Crypto Investors (Wyckoff Analysis)\"],[\"CONSTANTINE (2005) MOVIE REACTION!! First Time Watching! Keanu Reeves | John Constantine DC\"],[\"\\ud83d\\udd255 CRYPTO COINS TO DCA SOON &amp; MAKE F*** YOU MONEY?! (URGENT!)\"],[\"Vocal Coaches React To: Ave Maria | Dimash Kudaibergen\"],[\"House of the Dragon 1x01 Reaction\"],[\"WORST Housing Crash JUST STARTED! Life Changing Crypto Deals Incoming!\"],[\"I got sued\"],[\"House of the Dragon S1x1 Burlington Bar REACTION Part 2!\"],[\"How to Beat the SMART FISH in COLD SKIN\"],[\"Bang Bang Title Track Reaction by Foreigners | Hrithik Roshan, Katrina Kaif | Vishal Shekhar Benny D\"],[\"\\u0e15\\u0e25\\u0e32\\u0e14\\u0e16\\u0e38\\u0e07\\u0e21\\u0e37\\u0e2d\\u0e22\\u0e32\\u0e07\\u0e17\\u0e23\\u0e38\\u0e14! \\u0e09\\u0e38\\u0e14\\u0e23\\u0e32\\u0e04\\u0e32\\u0e23\\u0e48\\u0e27\\u0e07\\u0e25\\u0e07\\u0e17\\u0e38\\u0e19\\u0e2b\\u0e14 | BUSINESS WATCH | 23-08-65\"],[\"Hyped and Crying for &quot;TOP GUN: MAVERICK&quot; (2022) Reaction &amp; Commentary\"],[\"The Incredible New Way to Poach Eggs that NEVER Fails | Epicurious 101\"],[\"I found SECRET ROAD to OBUNGA PLANET in MINECRAFT animation! THE MAN FROM WINDOW Scooby\"],[\"House of the Dragon S1x1 Burlington Bar REACTION Part 1!\"],[\"RYAN GEORGE | The First Guy To Ever Scuba Dive | REACTION!!\"],[\"Azadi - A Tribute To India&#39;s Great Freedom Fighters | Narrated By Annu Kapoor | REACTION!!!\"],[\"6 Hilarious Business Ideas That Could Make You $1,000,000 in 2022 (#351)\"],[\"Coinbase CEO Brian Armstrong on managing the crypto winter\"],[\"NO MORE A FAMILY FRIENDLY VLOGGER | LAKSHAY CHAUDHARY\"],[\"Waleska &amp; Efra react to Pawandeep Rajan for the first time in Indian Idol\"],[\"K- Trap - Spoilt (Official Video) (REACTION)\"],[\"Boycott Urfi Javed &amp; Cringe Instagram Reelers? \\ud83d\\ude02 #6\"],[\"Top Crypto Experts On Ethereum Merge! (DXY vs Bitcoin)\"],[\"Twitter whistleblower slams company&#39;s alleged security problems\"],[\"Every State Ranked by Education. (All 50 US States)\"],[\"House of the Dragon Episode 1 REACTION! | 1x1 &quot;The Heirs of the Dragon&quot;\"],[\"The NFL Experience with Kai Nacua and Tyler Allgeier | BYU Sports Nation Full Episode 8.23.22\"],[\"Pakistani Couple Reacts to Ratsasan Trailer | Ratsasan vs Cuttputlli Comparison |  Vishnu Vishal\"],[\"WAVE COUNT FAVORS UP, as Crypto Market and Bitcoin Pause with Stock Market Elliott Waves Deep Dive\"],[\"Reactions after Manchester United take down Liverpool | Premier League | NBC Sports\"],[\"CONSEGUI NOVOS TOTENS COM SUPER PODERES NO MINECRAFT!!\"],[\"MAJOR Indicator Flashes | But What Does It Mean For Bitcoin?\"],[\"CHENNAI EXPRESS | Tangaballi Singing Along DEEPIKA PADUKONE &amp; SHAH RUKH KHAN | Movie Scene REACTION!\"],[\"BITCOIN BREAKOUT IN 48 HOURS!!!!! I&#39;M SHAKING!!!!!\"],[\"CRYPTO ABOUT TO REACT TO ECONOMIC COLLAPSE\"],[\"Why Royal Quinoa is So Expensive | So Expensive Food | Business Insider\"],[\"THIS MARKET IS EXTREMELY DEADLY WITHOUT A PLAN...HERE&#39;S MINE\"],[\"Rich Gamer Vs Broke Gamer\"],[\"Warren Buffet Hates Bitcoin! (How PMI Affects Crypto)\"],[\"How To Stop Overthinking\"],[\"Funniest ANIMAL Videos!! \\ud83d\\ude39 (Ultimate Compilation of Funny PETS) \\ud83d\\ude3b\"],[\"NOT THE DRESS!!! | Extraordinary Attorney Woo \\uc774\\uc0c1\\ud55c \\ubcc0\\ud638\\uc0ac \\uc6b0\\uc601\\uc6b0 Episode 2 Reaction\"],[\"How To Sell On Amazon As A Beginner Under 15 Minutes\"],[\"Top Gun: Maverick (2022) REACTION\"],[\"Minecraft but you can CHOOSE YOUR YOUTUBER...\"],[\"Incredibly CURSED Minecraft Mods\"],[\"I CAUGHT KARL the Haunted Car in The Long Drive Mods?!\"],[\"Bill Burr DESTROYS FEMINISM &amp; WOMEN SPORTS REACTION\"],[\"How Pratham Mittal Is Fixing Indian Business Education?\"],[\"Mt. Gox - Bitcoin to $10,000 ?\"],[\"this is not good...but will it effect bitcoin?\"],[\"Try Not To Laugh | Hodgetwins | Kevin Ruining Videos [#5] Ultimate Montage | Reaction!\"],[\"FRIDAY IS A &quot;MASSIVE&quot; DAY FOR CRYPTO! FIND OUT WHY!\"],[\"all eyes on these two...what will they do to bitcoin and markets?\"],[\"HOUSE OF THE DRAGON | EPISODE 1 THE HEIRS OF THE DRAGON | REACTION AND REVIEW | GAME OF THRONES\"],[\"How To ACTUALLY Get FREE Robux In Roblox! *EASY*\"],[\"Monster School : BABY MONSTERS GIANT RUSH RUN CHALLENGE 3 - Minecraft Animation\"],[\"New PS4 &amp; PS5 Games This Week\"],[\"CO ROBI BOBO na MOIM KOMPUTERZE o 3:00 w NOCY gdy \\u015aPI\\u0118 w PRAWDZIWYM \\u017bYCIU? \\ud83d\\ude30\"],[\"Netanyahu: This will make the Middle East a nuclear powder keg\"],[\"Tshepiso Ramotsehoa | Life Story | Business Coaching | Government |  Education | Youth | Women\"],[\"HOW TO GET THE &quot;DECIMATOR SHIELD&quot; in &quot;The Archon&quot; - Vanguard Zombies\"],[\"Chess.com Buys Play Magnus!!! (+ Awesome Game)\"],[\"I OPENED MY OWN ARCADE SHOP\"],[\"Breaking News: Jharkhand \\u0915\\u0947 CM Hemant Soren \\u0915\\u0947 \\u0915\\u0930\\u0940\\u092c\\u0940 \\u092a\\u0930 ED \\u0928\\u0947 \\u0915\\u0938\\u0940 \\u0928\\u0915\\u0947\\u0932 | Prem Prakash | Ranchi News\"],[\"A Make-Over by Amy Rose (Sonic ASMR)\"],[\"SAT AUGUST LAST MINUTE TIPS!\"],[\"ASMR Realistic Shoe Store (Soft Spoken, Personal Attention)\"],[\"[UPDATE] How to get ALL 5 NEW BACKROOMS MORPHS in Backrooms Morphs | Roblox\"],[\"\\u0410\\u0421\\u041c\\u0420 \\ud83e\\udd24\\u2764\\ufe0f \\u0421\\u041f\\u041e\\u0420\\u0418\\u041c \\u0422\\u042b \\u0423\\u0421\\u041d\\u0415\\u0428\\u042c \\u0437\\u0430 10 \\u043c\\u0438\\u043d\\u0443\\u0442? \\ud83d\\ude34 ASMR I&#39;ll Help You Fall Asleep in 10 Minutes\"],[\"JORNAL DA MANH\\u00c3 - 24/08/2022\"],[\"ASMR Doing Your Makeup For A Date \\ud83d\\udc95\"],[\"Best Chess Opening for White After 1.e4 | Scotch Gambit Traps\"],[\"Endgame closure | CM Crevatin Leo - IM Yuri Lapshun | Blitz chess\"],[\"FINALS: Can Fedoseev Stop Hansen\\u2019s Undefeated Finals Run? Fischer Random Championship | Qual. 1\"],[\"ROBLOX ATHLETES TYCOON\"],[\"Elefante38 IMPRESSIONA SUPER GM!\"],[\"How Data Science Helps Small Businesses\"],[\"Chess.com Makes Offer To Play Magnus Group\"],[\"BINANCE JUST SCORED A HUGE WIN FOR CRYPTO ADOPTION! [The Afternoon Brew]\"],[\"\\ud83d\\udd34 Live at 8 \\u0db4\\u0dca\\u200d\\u0dbb\\u0db0\\u0dcf\\u0db1 \\u0db4\\u0dca\\u200d\\u0dbb\\u0dc0\\u0dd8\\u0dad\\u0dca\\u0dad\\u0dd2 \\u0dc0\\u0dd2\\u0d9a\\u0dcf\\u0dc1\\u0dba - 2022-08-24\"],[\"TESTING Viral Minecraft Build Hacks That Actually Work\"],[\"Why did THESE VILLAGERS BURIED ME ALIVE in Minecraft ? HOW TO SURVIVE UNDERGROUND ?\"],[\"Funny animals - Funny cats / dogs - Funny animal videos 222\"],[\"Raoul Pal Update: Time Is Running Out &amp; Crypto Will Not Recover Untill It Happens\"],[\"Andrew Tate Trolling The World!\"],[\"4K ASMR | Pulling, Snipping, Tweezing, Removing Anxieties &amp; Stress\"],[\"BITBOY CRYPTO SUES @Atozy  CRAZY CRYPTO STORY\"],[\"Please Stalemate Me\"],[\"Critical Ethereum Bug (Bitcoin Struggles for Momentum)\"],[\"\\ud83d\\udea8 39 Days Until Europe\\u2019s Economic Death \\ud83d\\udea8  [Russia Gas Crisis]\"],[\"ASMR The Sleepiest Session \\ud83c\\udf27 Rainy Evening Whispers &amp; Personal Attention for Sleep\"],[\"trolling salty roleplayers on gmod police rp\"],[\"\\ud83d\\udd34 Live at 12 \\u0db4\\u0dca\\u200d\\u0dbb\\u0db0\\u0dcf\\u0db1 \\u0db4\\u0dca\\u200d\\u0dbb\\u0dc0\\u0dd8\\u0dad\\u0dca\\u0dad\\u0dd2 \\u0dc0\\u0dd2\\u0d9a\\u0dcf\\u0dc1\\u0dba - 2022-08-24\"],[\"48 HOURS UNTIL THE CRYPTO MARKET &quot;KNOWS!&quot; (CRUCIAL TIME FOR CRYPTO!)\"],[\"One Asset Is About To Smash Bitcoin | Can You Still Invest?\"],[\"GET READY FOR 25th-27th AUGUST !!!\"],[\"is the BITCOIN crash almost over or is it just getting started? Crypto News Today\"],[\"1.19.21 OUT NOW - New Cape &amp; Mob Vote?\"],[\"Bed Bath &amp; Beyond is a &#39;JCPenney 2,&#39; says Jim Cramer\"],[\"STOCKFISH CRUSHES... Stockfish?!\"],[\"John Dean: National Archives letter \\u2018very damning\\u2019 for Trump people\"],[\"\\u0d85\\u0daf \\u0daf\\u0dd9\\u0dbb\\u0dab 6.55 \\u0db4\\u0dca\\u200d\\u0dbb\\u0db0\\u0dcf\\u0db1 \\u0db4\\u0dd4\\u0dc0\\u0dad\\u0dca \\u0dc0\\u0dd2\\u0d9a\\u0dcf\\u0dc1\\u0dba -  2022.08.24| Ada Derana Prime Time News Bulletin\"],[\"Funny Troll Football Memes V183\"],[\"THIS WILL SHOCK EVERYONE!!!!!\"],[\"\\u3010\\u30e9\\u30a4\\u30d6\\u3011\\u6700\\u65b0\\u30cb\\u30e5\\u30fc\\u30b9\\uff1a\\u30a6\\u30af\\u30e9\\u30a4\\u30ca\\u4fb5\\u653b\\u304b\\u3089\\u534a\\u5e74/\\u30ed\\u30b7\\u30a2\\u8ecd\\u30df\\u30b5\\u30a4\\u30eb\\u653b\\u6483\\u306e\\u53ef\\u80fd\\u6027/\\u30d7\\u30fc\\u30c1\\u30f3\\u6c0f\\u306b\\u8fd1\\u3044\\u601d\\u60f3\\u5bb6\\u306e\\u5a18 \\u7206\\u767a\\u6b7b/\\u30b5\\u30ebVS\\u5c71\\u7f8a/\\u6e0b\\u8c37\\u30db\\u30c6\\u30eb\\u3067\\u706b\\u707d/\\u6bcd\\u5a18\\u523a\\u50b7\\u7d9a\\u5831\\u3000\\u306a\\u3069\\uff08\\u65e5\\u30c6\\u30ecNEWSLIVE\\uff09\"],[\"\\ud83d\\udd25 TOP 5 CRYPTO EXPLOSIVES QUE PERSONNE NE VOIT ? \\ud83d\\udc51 Analyse Bitcoin FR \\u26a1\"],[\"Zee Hindustan Live News: Attack On Nitish Kumar Convoy | Bihar News | Tejashwi Yadav |Bihar Politics\"],[\"\\ud83d\\udd34 \\u0dc4\\u0dd2\\u0dbb\\u0dd4 \\u0dbb\\u0dcf\\u0dad\\u0dca\\u200d\\u0dbb\\u0dd3 6.55 \\u0db4\\u0dca\\u200d\\u0dbb\\u0db0\\u0dcf\\u0db1 \\u0db4\\u0dca\\u200d\\u0dbb\\u0dc0\\u0dd8\\u0dad\\u0dca\\u0dad\\u0dd2 \\u0db4\\u0dca\\u200d\\u0dbb\\u0d9a\\u0dcf\\u0dc1\\u0dba - Hiru TV NEWS 6:55 PM Live | 2022-08-24\"],[\"TOP 5 BEST GAMING PHONE UNDER 15,000/- RS FOR PUBG &amp; BGMI | GAMING PHONE UNDER 15k FOR PUBG &amp; BGMI\"],[\"AWW SO CUTE! Cutest baby animals Videos Compilation Cute moment of the Animals - Cutest Animals #21\"],[\"Why Casemiro Is The PERFECT Transfer! | Interview With Semra Hunter\"],[\"Mossbag Interview: Kickstarter for New Game - Titan Shell. And Silksong Speculation\"],[\"OnePlus 10R vs 10T | Unboxing &amp; Comparison\"],[\"Eu sobrevivi 100 DIAS como GODZILLA no Minecraft HARDCORE!\"],[\"ALIENS THREATEN GLOBAL INVASION | Countdown to Armageddon\"],[\"Racist AI Rapper Gets Bounced From The Music Business\"],[\"What Happened Immediately After Hitler&#39;s Death\"],[\"Education should be a right for all, not a privilege for the few.\"],[\"8 Things People get Wrong about the U.S. Military\"],[\"helping a homeless woman, starting an online business as a 17 year old (coaching livestream)\"],[\"Liger Day 1 Advance Booking &amp; Pre Release Business | Vijay Deverakonda\"],[\"What Is The Best Position For Descending? | GCN Tech Clinic\"],[\"bitcoin holders...what are these guys up to?\"],[\"Twitter Whistleblower Accuses Company of Privacy, Security Issues | Tech News Briefing Podcast | WSJ\"],[\"SLOW HORSES en APPLE TV\"],[\"iPhone 14 Lineup is NOT what you Expected.. (plot twist)\"],[\"20 \\u0939\\u091c\\u093e\\u0930 \\u0930\\u094b\\u091c \\u0915\\u092e\\u093e\\u0915\\u0930 \\u0926\\u0947\\u0917\\u0940 \\u092f\\u0947 \\u092e\\u0936\\u0940\\u0928 \\ud83d\\udd25| New Business Ideas 2022 | Small Business Ideas, New Business Ideas\"],[\"Android 13 vs Android 12: What google didn&#39;t tell YOU!\"],[\"\\u0c07\\u0c26\\u0c3f \\u0c15\\u0c26\\u0c3e \\u0c2e\\u0c28\\u0c15\\u0c3f \\u0c15\\u0c3e\\u0c35\\u0c32\\u0c38\\u0c3f\\u0c02\\u0c26\\u0c3f\\ud83d\\udc4c | Mind Blowing Interview Between Sukumar &amp; Puri Jagannadh About Tollywood\"],[\"The most EXPENSIVE thing I own.\"],[\"Minecraft wait what meme part 281 (Yoshie NextBot)\"],[\"Teaching Preston How To LADDER CLUTCH in Minecraft Bedwars...\"],[\"O V\\u00eddeo Mais Visto de Minecraft!\"],[\"Cala Maria&#39;s Song but Every Word is a Google Image\"],[\"Bir Minecraft Efsanesi: B\\u0130LLY VE G\\u0130ZEML\\u0130 H\\u0130KAYES\\u0130\"],[\"DESCRIBE YOURSELF! (The S.M.A.R.T way to DESCRIBE YOURSELF in a JOB INTERVIEW!)\"],[\"*SHOCKING* 8 INSANE Things Done By Minecraft Players That Will Blow Your Mind \\ud83d\\ude31\"],[\"Busting 100 Minecraft Myths In 24 Hours\"],[\"Director Sukumar Interview with Puri Jagannadh Full Interview | TFPC\"],[\"Pushpa Sukumar Exclusive Interview With Puri Jagannadh | Vijay Deverakonda| Ananya Panday| News Buzz\"],[\"Danny DeVito Answers the Web&#39;s Most Searched Questions | WIRED\"],[\"Sukumar Interview With Puri Jagannadh about Liger | Pushpa | Vijay Deverakonda | Pawan Kalyan | FH\"],[\"Why do these SCARY DOCTORS PERFORM RADIATION SURGERY ON A VILLAGER in Minecraft ? SCARY VILLAGER !\"],[\"Interview-Flop: \\u00d6VP-Innenminister Gerhard Karner bei Armin Wolf zur Abschiebung von Tina\"],[\"I Google Translated MINECRAFT 200 Times...\"],[\"Bajaj Finance Decade&#39;s Top Wealth Creator | Wonderful Wednesday | Parimal Ade &amp; Aastha Khurana\"],[\"Paul Pelosi DUI dashcam footage released\"],[\"The REAL REASON Bitcoin Will Hit $500,000 Per Coin By 2030 (NOT CLICKBAIT)\"],[\"Youtuber Gets Sued By Crypto Millionaire\"],[\"Biden Announces Plan For Federal Student Loan Debt Relief\"],[\"Apple September 7 iPhone 14 Event ANNOUNCED! \\ud83e\\udd73 EVERYTHING We&#39;re Getting!\"],[\"Andrew Tate Announces New &quot;Business&quot; After Ban\"],[\"Apple&#39;s  September 7th iPhone 14 Event Everything Leaked!\"],[\"Apple Announces Fall iPhone Event (iPhone 14, Apple Watch Pro &amp; More)\"],[\"Biden plans to forgive $300 billion in student loan debt: Report\"],[\"The Master Alekhine\"],[\"How to Assess ANY Chess Position: The Ultimate Guide\"],[\"woah...pay attention to bitcoin and these crypto\"],[\"ALERT!!!!!!!! BITCOIN BREAKOUT NOW!!!!!?!! BUT\\u2026 THIS IS VERY SCARY!!!! [watch fast]\\ud83d\\udea8\"],[\"Rep. Boebert skips crypto reporting cutoff, and cutting emissions with blockchain: CNBC Crypto World\"],[\"The Next 72 Hours Could Make Or Break You! (Bitcoin &amp; Crypto Analysis)\"],[\"National Shutdown | Workers hit the streets over rising cost of living: Pretoria, GP\"],[\"U.S. Defense briefing on aid to Ukraine at 2:30PM EST\"],[\"Nadler Celebrates Win In New York House Primary\"],[\"iPhone 14 Apple Event Announced! Here&#39;s What We&#39;ll Get..\"],[\"More than 700 pages of classified documents found at Mar-a-Lago\"],[\"6 months later, what&#39;s next in the Ukraine war? l ABC News\"],[\"gagnez 200.000 Fcfa par jour avec ce business en afrique\"],[\"Futurum Research&#39;s Daniel Newman breaks down tech stocks to watch\"],[\"ATOM COSMOS PREND SON ENVOL \\ud83d\\udd25 DOSSIER MAJEUR DES BLOCKCHAINS \\ud83d\\udc8e #atom #cosmos #crypto #ethereum\"],[\"Student loan forgiveness a &#39;lose-lose&#39; for Biden: Yahoo Finance\\u2019s Rick Newman\"],[\"How Biden&#39;s student loan forgiveness program will work\"],[\"Primary results in New York and Florida hold national implications for Democrats\"],[\"\\u092d\\u0935\\u093f\\u0937\\u094d\\u092f \\u092e\\u0947\\u0902 \\u092f\\u0939\\u0940 10 \\u092c\\u093f\\u091c\\u0928\\u0947\\u0938 \\u091a\\u0932\\u0947\\u0917\\u093e\\ud83d\\ude80 10 Best future Business ideas 2022 \\ud83d\\udca5 top 10 business ideas in Future\"],[\"Chess.com Buying Chess24? What About Lichess? Hikaru vs Magnus Every Week?\"],[\"Ep : 25 | Worlds Biggest Edtech Channel | Khan Sir | Bada Bharat | Dr Vivek Bindra\"],[\"I Used the CHEAPEST M2 MacBook Air for 30 days!\"],[\"Apple iPhone 14 Event is here \\ud83d\\udd25 Big Good news for iPhone lovers \\u2764\\ufe0f\"],[\"Keynote Apple le 7 Septembre : C&#39;est Officiel ! iPhone 14, Watch Series 8 ... On fait le point !\"],[\"White House Press Briefing\"],[\"V\\u00ec sao pin Apple Watch k\\u00e9m h\\u01a1n nhi\\u1ec1u c\\u00e1c smartwatch kh\\u00e1c? RTOS l\\u00e0 g\\u00ec?\"],[\"Was bringt das Apple-September-2022-Event - 4K | Apfeltalk\"],[\"President Zelenskyy promises victory over Russia on Ukrainian Independence Day\"],[\"Ex-CIA director predicts what&#39;s next in Russia-Ukraine war\"],[\"Naik Wahana Roller Coaster! - Runner Coaster\"],[\"Ch\\u1ea1nh L\\u00f2ng Th\\u01b0\\u01a1ng C\\u00f4 Lofi, Th\\u1eb1ng H\\u1ea7u Lofi, \\u0110\\u00e0o N\\u01b0\\u01a1ng Lofi | Nh\\u1eefng B\\u1ea3n Lofi Chill T\\u00e2m Tr\\u1ea1ng 2022\"],[\"Cruise ship spots migrants lost at sea floating on dresser\"],[\"&quot;Certeza que n\\u00e3o v\\u00e3o encontrar nada&quot;, diz Hang \\u00e0 CNN sobre celular apreendido pela PF | NOVO DIA\"],[\"7 Reasons The Gaming Industry Is Broken\"],[\"I deep fried STEAKS in Movie Theater BUTTER and this happened!\"],[\"TANI AQUAPARK 1$ vs DROGI AQUAPARK 100000$ W MINECRAFT?! GPLAY &amp; LUMI\"],[\"I Google Translated Minecraft Mobs 1,000 Times\"],[\"Resumen en video de la guerra Ucrania - Rusia: 23 de agosto\"],[\"GTA 5 CAN CHOP COMPLETE THIS INSANE IMPOSSIBLE STUNT RACE\"],[\"Vikram Vedha Teaser | Hrithik Roshan, Saif Ali Khan | Pushkar &amp; Gayatri | Radhika Apte| REACTION!!!\"],[\"\\ud83d\\udea8 D\\u00c9P\\u00caCHEZ-VOUS \\ud83d\\udea8 Ces PROMOS disparaissent bient\\u00f4t du PS Store, Xbox Store, Nintendo eShop...\"],[\"\\ud83c\\udfa7 FOLLOW ME ON LOCO | ACHANAK BAYANAK GAMING\"],[\"Best Gamescom 2022 Game Reveals | Huge Xbox Game Pass Game Steals the Show | News Dose\"],[\"Xbox just said &quot;Console Exclusives are DOOMED&quot; but will PlayStation AGREE?\"],[\"Xbox Says Console Exclusives are Fading Away\"],[\"Xbox REVEALS Big Updates For Xbox Series X Exclusives &amp; Xbox Game Pass For PC | Xbox News\"],[\"KING CRAB\"],[\"Never Have I Ever: IRL\"],[\"If I Can Fix This Xbox Series X I&#39;ll GIVE IT AWAY!!!\"],[\"Minecraft, ale MOG\\u0118 ZABIERA\\u0106 UMIEJ\\u0118TNO\\u015aCI MOB\\u00d3W!\"],[\"Crypto news today - Bitcoin price prediction (hindi/urdu)\"],[\"TEM JOG\\u00c3O! MUITOS JOGOS REVELADOS para o XBOX GAME PASS e GAMEPLAY de JOGO AGUARDADO!\"],[\"Proof There\\u2019s 43,252,003,274,489,856,000 Rubik&#39;s Cube Combinations! \\ud83e\\udd2f\"],[\"Vikram Vedha Movie Teaser Review | KRK | #krkreview #bollywood #latestreviews #review #hrithik\"],[\"LUFFY FORMS 5600 PIRATE ALLIANCE! One Piece Ep 745/746 Reaction\"],[\"GEBURT bis TOD als Minecraft SPINNE! \\u273f [Deutsch/HD]\"],[\"BRUT\\u00c1LIS SHULKER FARM! MINECRAFT MESTERFOKON 77.\"],[\"Xbox Gamepass Continue to Deliver Great Content and Playstation Fanboys Continue to Hate it\"],[\"T\\u00f3m T\\u1eaft 300 Ng\\u00e0y Sinh T\\u1ed3n Minecraft Si\\u00eau Pixelmon M\\u00ecnh B\\u1eaft B\\u1ed9 3 S\\u00e1ng T\\u1ea1o !!\"],[\"When customers blame you for unrelated issues. Xbox one X Prior repair gone wrong. No Signal\"],[\"\\ud83d\\udd25Artistic Music Mix 2022: Top 50 Songs \\u266b Best NCS Gaming Music \\u266b Best Of EDM Remixes 2022\"],[\"Free Fire | We Got Level 1 Ghost Id \\ud83d\\ude28With 9999 Badges\\ud83d\\ude0d Wasting 10,000 Diamonds \\ud83d\\udc8e-Garena Free Fire\"],[\"Italian Reaction \\ud83c\\uddf9\\ud83c\\uddf7 8 Dakikada T\\u00fcrk Futbolu | KOM\\u0130K ANLAR\"],[\"Wonderland Indonesia 2 : The Sacred Nusantara (Official Music Video) REACTION!!!\"],[\"gaming in the future\"],[\"The *DESTINY* Challenge in Fortnite!\"],[\"JOGOS CONFIRMADOS NO GAME PASS EM SETEMBRO E GRANDES LAN\\u00c7AMENTOS NO XBOX!\"],[\"Weird loophole brings PS5 exclusives to Xbox Series! How it works\"],[\"Vengo ADOTTATO Da Una Famiglia Di RAINBOW FRIENDS Su Minecraft!\"],[\"BASS BOOSTED \\ud83d\\udd08 CAR BASS MUSIC 2022 \\ud83d\\udd08 SONGS FOR CAR 2022 \\ud83d\\udd25 EDM POPULAR SONGS REMIXES\"],[\"Best Indicators for Crypto Day Trading (Effective)\"],[\"LA FECHA DEFINITIVA del NINTENDO DIRECT con ZELDA, METROID y MARIO!? | Nuevo Star Fox | PS Showcase\"],[\"Minecraft but I have 1,000,000 diamonds\"],[\"Nintendo Switch games that will be NOSTALGIC...\"],[\"Denuvo Is Bringing DRM To Nintendo Switch - And This Is NOT GOOD!\"],[\"ON A JOUE A SPLATOON 3 EN AVANT PREMIERE SUR NINTENDO SWITCH !\"],[\"VIKRAM VEDHA Teaser Reaction! | Hrithik Roshan | Saif Ali Khan | Radhika Apte | Pushkar &amp; Gayatri\"],[\"Nintendo Switch OLED Kirby Edition\"],[\"Jimmy&#39;s @ Madisons Raider&#39;s Stadium Dog Combo &amp; Chili Cheese Dog Combo Mukbang\"],[\"\\ud83d\\udea8 D\\u00c9P\\u00caCHEZ-VOUS \\ud83d\\udea8 Ces PROMOS disparaissent bient\\u00f4t du PS Store, Xbox Store, Nintendo eShop...\"],[\"We&#39;ve Played Splatoon 3 - Is It Any Good?\"],[\"GTA 5 : WHO KIDNAPPED TREVOR | GTA 5 BANGLA GAMEPLAY #77 | GAMING FUN TIPS\"],[\"Top 10 Nintendo 3DS Games| The Completionist\"],[\"(Eng subs) Chhichhore Full Movie Reaction by Korean Movie Actress, Kim Sahee, Part 2\"],[\"Dave Chappelle - Micheal Jackson And R.Kelly | Sticks And Stones Reaction | Asia and BJ React\"],[\"LUFFY BEATS ROB LUCCI ! Luffy vs Rob Lucci ! Part 5 ! Reaction Mashup\"],[\"RP \\u0d9c\\u0dda \\u0db4\\u0dda\\u0da2\\u0dca \\u0d91\\u0d9a\\u0da7 \\u0db8\\u0ddc\\u0d9a\\u0daf \\u0d8b\\u0db1\\u0dda \\ud83d\\ude25 | \\u0d85\\u0dbd\\u0dd4\\u0dad\\u0dca \\u0db4\\u0dda\\u0da2\\u0dca \\u0d91\\u0d9a | Rp gaming\"],[\"\\u26a1 Sarada&#39;s Chidori VS Boro | Boruto&#39;s Transformation \\ud83d\\udd25 Boruto 207 Reaction Mashup \\ud83c\\uddef\\ud83c\\uddf5 [\\u30dc\\u30eb\\u30c8 -- \\u6d77\\u5916\\u306e\\u53cd\\u5fdc]\"],[\"Nintendo&#39;s Surprising Event Revealed And Tons of New Games Get Announced | News Wave\"],[\"Major Gaurav Arya Thug Life Moments SIGMA MALE RULES \\ud83d\\ude0e Reaction\"],[\"PESA HO TO KIA KUCH NAHI HO SAKTA | GTA 5 | SHADOW GAMING\"],[\"ASMR Gaming \\ud83d\\ude34 Fortnite 1 Kill = 1 Trigger Relaxing Mouth Sounds \\ud83c\\udfae\\ud83c\\udfa7 Controller Sounds + Whispering \\ud83d\\udca4\"],[\"ASMR MUKBANG PITBULL EATING RAW FOODS WHOLE DUCK\"],[\"ASMR \\ud2b9\\ubcc4\\ud55c \\ub0a0\\uc774\\ub2c8\\uae4c \\ud55c\\uc6b0++ \\uc0b4\\uce58\\uc0b4 \\uc5c5\\uc9c4\\uc0b4 \\ub4f1\\uc2ec \\uac08\\ube44\\uc0b4 \\ubc84\\uc12f \\ub9ac\\uc5bc\\uba39\\ubc29 :) I&#39;ll try 3kg of beef MUKBANG\"],[\"\\u00a1RUMORES apuntan a un NINTENDO DIRECT el D\\u00cdA 14 de SEPTIEMBRE! \\u00bfNUEVO STAR FOX en CAMINO?\"],[\"Splatoon 3 DEBER\\u00cdA SER GRATIS: Jugamos EL MEJOR SHOOTER ONLINE \\ud83d\\udc19 (Nintendo Switch)\"],[\"\\uc871\\ubc1c \\ub300\\ud30c\\uae40\\uce58 \\ubc31\\uae40\\uce58 \\uc694\\ub9ac \\uba39\\ubc29 PIG&#39;S FEET &amp; GREEN ONION KIMCHI ASMR MUKBANG REAL SOUND EATING SHOW\"],[\"WAIT.. THE ENTITIES ARE PAST VICTIMS!? | Backrooms - Found Footage #2 (Reaction)\"],[\"\\ud3b8\\uc758\\uc810 \\ub2e4 \\ud138\\uc5c8\\uc2b5\\ub2c8\\ub2e4\\u270c\\ufe0f\"],[\"The Big Lebowski | First Time Watching | Movie Reaction | Movie Review | Movie Commentary\"],[\"BLACKPINK - \\u2018Pink Venom\\u2019 DANCE PRACTICE VIDEO\"],[\"CRISPY PATA SINIGANG MUKBANG | MUKBANG PHILIPPINES | FILIPINO FOOD MUKBANG\"],[\"300KG PIG INTESTINE SOLD EVERYDAY in MANDAUE CEBU CITY | 30 years Recipe | Filipino Food\"],[\"Splatoon 3: Early Switch Multiplayer Hands-on - How Is Nintendo&#39;s Shooter Shaping Up?\"],[\"\\ud83d\\udd34SHORT STREAM OR WHAT??\\ud83d\\ude31| BGMI LIVE\"],[\"WWE Top 20 Returns That Made The Commentators Go Wild (Reaction)\"],[\"FAST FOOD MUKBANG WITH MY SIBLINGS\"],[\"Nintendo Switch ATTENTION HOGWARTS LEGACY DIFFERENCES \\ud83d\\ude31\\u274c\\u26a0\\ufe0f &amp; COLLECTOR \\u00e0 300\\u20ac &amp; PAS SUR SWITCH \\u274c\"],[\"Finally Improved it ! Lenovo Ideapad Gaming 3 2022 |  i5 12th gen RTX 3050\"],[\"I OPENED MY OWN ARCADE SHOP\"],[\"One Block VS My HATER In Minecraft!\"],[\"Best Gaming Music 2022 \\u266b EDM Remixes of Popular Songs \\u266b Best Of EDM\"],[\"dinner for one. \\ud83c\\udf5c asian lofi mix\"],[\"LAKE TERROR - FULL HD HORROR MOVIE IN ENGLISH\"],[\"[VOD 7] DU SANG ET DES CR\\u00c2NES ! Campagne l\\u00e9gendaire Valkia sur Immortal Empire\"],[\"Hice MINECRAFT RTX para ANDROID en 24 HORAS\"],[\"ASMR pour ceux qui n\\u2019ont pas de CASQUE/\\u00c9COUTEURS\"],[\"Physics expert explains how NASA got sound from a black hole\"],[\"FASTEST ASMR SOUNDS FOR SLEEP\"],[\"ASMR raw honey comb eating, mouth sounds \\ud83c\\udf6f\"],[\"Please Leave Whatever You Are Doing And Watch This Amazing Movie- Nigerian Movies\"],[\"asmr ultra sensible mouth sounds\"],[\"ASMR On My Lap: Face Tracing to Fall Asleep SO Quick\"],[\"ASMR LoFi MOUTH SOUNDS With the Apple Mic\"],[\"lofi hip hop radio - beats to relax/study to \\ud83c\\udf40 Music to Start Your Day with Positive Feelings\"],[\"Lofi For Reading \\ud83d\\udcda Lofi Hip Hop | Study Music \\ud83d\\udcda Study Beats | Lofi Study Music\"],[\"THE RISE OF BANGTAN - Chapter 13 : You Never Walk Alone REACTION\"],[\"ELE VAI ME BATER SE EU N\\u00c3O CONCLUIR ESSES DESAFIOS NO MINECRAFT\"],[\"O ASMR MAIS R\\u00c1PIDO DE TODOS OS TEMPOS *recorde mundial*\"],[\"Marvel&#39;s Spider-Man PC - AMAZING SPIDER-MAN 2 MOVIE SUIT FREE ROAM GAMEPLAY! [MOD]\"],[\"Odyssey \\ud83c\\udf0a Smooth Lofi Beats To Relax, Study, Vibe To (Lofi Mix)\"],[\"INVESTOR BIG SHORT INI MENJUAL 98% ASETNYA, APA ARTINYA UNTUK CRYPTO\\u2049\\ufe0f\"],[\"Ultra Fast RAW NOOB Gamer Sounds \\ud83c\\udfaeASMR\\ud83d\\udd79\\ufe0f\"],[\"ASMR Gaming \\ud83d\\ude34 Fortnite 1 Kill = 1 Trigger Relaxing Mouth Sounds \\ud83c\\udfae\\ud83c\\udfa7 Controller Sounds + Whispering \\ud83d\\udca4\"],[\"NEW Crypto Gameplay *BROKEN LEGEND!* | Apex Legends Mobile\"],[\"ASMR | RARE AND SPECIFIC TRIGGERS FOR SLEEP\"],[\"ASMR Art Student Sketches You (personal attention, pencil sounds)\"],[\"Vikram Vedha Movie Teaser Review | KRK | #krkreview #bollywood #latestreviews #review #hrithik\"],[\"Vikram Vedha Teaser | Hrithik Roshan, Saif Ali Khan | Pushkar &amp; Gayatri | Radhika Apte|Bhushan Kumar\"],[\"AO VIVO: CNN PRIME TIME - 24/08/2022\"],[\"Slow &amp; Relaxing ASMR | Without A Plan \\ud83e\\udd0d\"],[\"\\uc9dc\\uc7a5 \\ub099\\uc9c0\\ub2e4\\ub9ac \\ud83d\\udc19 \\uc9c1\\uc811 \\ub9cc\\ub4e0 \\uc9dc\\uc7a5\\uc18c\\uc2a4 \\ud574\\ubb3c\\ucc1c \\uba39\\ubc29 Jjajang Octopus Skewers Stir Fried Seafood Recipe Mukbang ASMR Ssoyoung\"],[\"How to Survive a Drone Swarm\"],[\"Smoke Chill - Lofi hip hop mix ~ Stress Relief, Relaxing Music\"],[\"VINLAND SAGA - Episode 4 (REACTION)\"],[\"\\u3010ASMR\\u3011\\u3055\\u3055\\u3084\\u304d\\u306a\\u304c\\u3089\\u3001\\u3086\\u3063\\u304f\\u308a\\uff06\\u65e9\\u304f\\u30bf\\u30c3\\u30d4\\u30f3\\u30b0\\u3010\\u7761\\u7720\\u5c0e\\u5165\\u3011\"],[\"full body ASMR REIKI to release anger &amp; resentment towards someone | cutting cords &amp; energy plucking\"],[\"CNN reporter explains impact of student debt relief on economy\"],[\"ASMR ALIEN FULL BODY EXAM DETAILED Medical Roleplay \\ud83d\\udc7d Cranial Nerve Orbital Eye Sci-Fi Examination\"],[\"Minecraft, But Health Multiplies Every Time You Mine || Minecraft Mods || Minecraft gameplay Tamil\"],[\"Pak Reacts to Vikram Vedha Teaser | Hrithik Roshan, Saif Ali Khan | Pushkar &amp; Gayatri | Radhika Apte\"],[\"LEGO MARVEL 2023 SETS!\"],[\"NAACHO NAACHO Full Video Reaction | NTR | Ram Charan | SS Rajamouli | RRR | Foreigners React.\"],[\"Jaana - Stebin Ben ft. Kamya Chaudhary | Jaani | Arvindr Khaira | Hunny Bunny | Desi Melodies\"],[\"14-Year-Old Polish Rising Star Sarah James Makes Simon Cowell EMOTIONAL on AGT Semifinals\"],[\"BEYOND THE BLACK - Is There Anybody Out There? (OFFICIAL MUSIC VIDEO)\"],[\"Vikram Vedha Teaser Review &amp; Will The Remake Still Excite Audiences? | Hrithik Roshan, Saif Ali Khan\"],[\"Vikram Vedha Teaser \\u2022 Reaction\"],[\"BLACKPINK - \\u2018Pink Venom\\u2019 DANCE PRACTICE VIDEO\"],[\"MANN JOGIYA (Official Video) | Yasser Desai | Neil Bhatt | Aishwarya Sharma | New Hindi Song 2022\"],[\"Music Mix 2022 \\ud83c\\udfa7 EDM Remixes of Popular Songs \\ud83c\\udfa7 EDM Gaming Music Mix \\u200b\"],[\"Canadian Ultimate Championships Juniors: Open Final | Ultimate Frisbee | CBC Sports\"],[\"Official Clip | Marvel Studios\\u2019 She-Hulk: Attorney at Law | Disney+\"],[\"Previously On | Marvel Studios\\u2019 She-Hulk: Attorney at Law | Disney+\"],[\"New Christian Worship Songs 2022 With Lyrics - Best Christian Gospel Songs Lyrics Playlist\"],[\"Farming Simulator 22 #13 - Khi Xe B\\u00e1n T\\u1ea3i Ch\\u1edf Qu\\u00e1 T\\u1ea3i !!\"],[\"Yeh lo ek aur REMAKE aa gaya... Vikram Vedha Teaser Review\"],[\"The Masked Singer Vietnam - Ca S\\u0129 M\\u1eb7t N\\u1ea1 - T\\u1eadp 5 | ViruSs Reaction !\"],[\"It&#39;s A Maryland Thing, You Wouldn&#39;t Understand Official Music Video by Jimmy Charles\"],[\"MrBeast VISITS INDIA Reason!- YouTubers REACT | Thugesh No.1 Trending on Twitter?, Lakshay Chaudhary\"],[\"Brahmos Attack on Pakistan Case | India Punishes Air Force Officers\"],[\"SPIDER-MAN #1 Trailer | Marvel Comics\"],[\"Minecraft, ale KOLORY CHC\\u0104 NAS ZABI\\u0106!\"],[\"M\\u00ccNH SINH T\\u1ed2N 100 NG\\u00c0Y L\\u00c0M QU\\u00c2N C\\u00c1CH M\\u1ea0NG TRONG MINECRAFT ONE PIECE SI\\u00caU KH\\u00d3 V\\u00c0 M\\u1ea0NH QU\\u00c1 TR\\u1edcI !!\"],[\"AGATHA: COVEN OF CHAOS - TEASER TRAILER | Marvel Studios &amp; Disney+\"],[\"Ngu\\u1ed3n g\\u1ed1c c\\u1ee7a ALLAY | Gi\\u1ea3 thuy\\u1ebft MINECRAFT | Gamechan\"],[\"Lofi For Reading \\ud83d\\udcda Lofi Hip Hop | Study Music \\ud83d\\udcda Study Beats | Lofi Study Music\"],[\"BLACKPINK - \\u2018Pink Venom\\u2019 DANCE PRACTICE VIDEO REACTION!\"],[\"Best Nightcore Songs Mix 2022 \\u266b 1 Hour Nightcore \\u266b Best of Nightcore Gaming Mix\"],[\"Music to put you in a better mood ~ lofi / relax / stress relief\"],[\"Mutant Genesis for Marvel Champions: The Card Game | Gameplay\"],[\"Free Fire | B\\u1ea5t Ng\\u1edd Nh\\u1eadn FREE 900 Kim C\\u01b0\\u01a1ng Mua \\u0110\\u1ed3 C\\u1ef1c Ngon - Garena H\\u1ee9a S\\u1ebd S\\u1eeda V\\u00f2ng Quay Ma Thu\\u1eadt\"],[\"John Legend - All She Wanna Do (feat. Saweetie) (Official Music Video)\"],[\"Ed Sheeran, Martin Garrix, Kygo, Dua Lipa, Avicii, The Chainsmokers Style - Feeling Me #32\"],[\"10 Infuriating Ways Video Games Stopped You From Getting 100%\"],[\"ARE YOU HOLDING OUT FOR CAPTAIN MARVEL? | Marvel&#39;s Avengers Game\"],[\"TIME FOR TRACK TWO!!!! EMIN\\u018eM feat. Young M.A. Unaccommodating REACTION/BAR HUNT!!!\"],[\"Reaction &quot;Qu\\u00ean Anh \\u0110i&quot; - &quot;Waiting for you&quot; - Mono Vi\\u1ec7t Ho\\u00e0ng | ViruSs\"],[\"2022 New Songs ( Latest English Songs 2022 ) \\ud83e\\udd52 Pop Music 2022 New Song \\ud83e\\udd52 New Popular Songs 2022\"],[\"ASI ser\\u00e1n las VOTACIONES MC LIVE 2022!\"]],\"hovertemplate\":\"Views=%{x}<br>Likes=%{y}<br>Title=%{customdata[0]}<extra></extra>\",\"legendgroup\":\"\",\"marker\":{\"color\":\"#636efa\",\"symbol\":\"circle\"},\"mode\":\"markers\",\"name\":\"\",\"showlegend\":false,\"x\":[78137822.0,26826274.0,7178954.0,17716356.0,168546247.0,302125099.0,7073338.0,153478497.0,6091315.0,28325416.0,321977550.0,46251795.0,38478475.0,441183.0,9253680.0,1550802.0,19210396.0,17103736.0,14800155.0,308501014.0,50358797.0,18116954.0,7556654.0,4613023.0,6225136.0,5054426.0,9552698.0,7428280.0,8639567.0,2767666.0,19097087.0,4235793.0,4231789.0,9450554.0,31858250.0,25.0,63.0,6216027.0,257199.0,1582262997.0,3330650.0,15397832.0,1048396.0,596680.0,173717.0,6312772.0,193685278.0,920846.0,826423766.0,759857.0,6224649.0,6701666.0,23925458.0,3371830.0,1188153.0,4154143.0,1167616.0,610308.0,4981769.0,9897790.0,994999.0,719270.0,1366364.0,1061608.0,18496859.0,4271973.0,1453590.0,787667.0,434352213.0,2494758.0,1466906.0,5323008.0,42252029.0,36467409.0,146080.0,2027462.0,14269018.0,2758.0,1804121.0,2796778.0,2609123.0,8596384.0,3243901.0,896227.0,198844.0,956340.0,3452571.0,1539948.0,3588950.0,1331141.0,1875721.0,94900199.0,2947659.0,425478119.0,91932.0,1344472.0,1912405.0,4696990.0,22529756.0,844015.0,1761493.0,null,313847.0,10330078.0,11034311.0,7370713.0,10792977.0,85052.0,1545582.0,3134189.0,1248957.0,1750656.0,2302755.0,5370346.0,1530735.0,1713463.0,1672442.0,145167323.0,147339243.0,181827.0,1515048.0,3863719.0,68512549.0,48018833.0,739507.0,196484.0,35695760.0,351985.0,2278698.0,6515548.0,856628.0,4801805.0,39944.0,4418714.0,762553.0,431421.0,238411.0,4056267.0,33227408.0,872008.0,287879.0,106014469.0,45584.0,602137.0,515395.0,2797148.0,15040548.0,8620346.0,398061.0,284841.0,9914057.0,8705503.0,9904507.0,793228.0,130286.0,508969.0,879470.0,10097646.0,327146.0,7209027.0,127492.0,391796.0,4034122271.0,1754969.0,2666406.0,7906241.0,5923959.0,14322764.0,392314.0,42257995.0,145691.0,573706.0,800364.0,94340456.0,9826182.0,35771194.0,7004107.0,95826.0,4820297.0,1433436.0,9769103.0,1071023.0,14593.0,1503148.0,1102647.0,5028230.0,38289391.0,2317183.0,157632.0,689762.0,7825074.0,940004.0,66368842.0,3745331.0,323071.0,61085.0,135056.0,17069314.0,50348575.0,1432027.0,2586478.0,2464907.0,192964.0,674979.0,292643.0,3505369.0,47276202.0,1453787.0,134377650.0,5132684.0,66839006.0,28574258.0,122824.0,98750169.0,317372.0,7367727.0,143605.0,13176819.0,1471735.0,57369066.0,8830062.0,854273.0,107126467.0,44943014.0,49429306.0,66999237.0,1451335.0,313285.0,37780348.0,82298.0,55643.0,93319974.0,2199261.0,258491.0,61197670.0,402110.0,6100867.0,1732512.0,2706505.0,7569833.0,14073219.0,11745320.0,290351.0,106151957.0,271415.0,13590001.0,21485819.0,108874.0,92621700.0,3069097.0,11792862.0,525081.0,1651599.0,29905105.0,29905105.0,7571701.0,1592794.0,1456270.0,578179.0,2110850.0,160818375.0,27922929.0,5249373.0,91053784.0,2228510.0,8445210.0,17069830.0,7497071.0,20026987.0,1879805.0,7975584.0,14835017.0,9033159.0,1187250.0,179728.0,932919.0,34484565.0,31289.0,11829970.0,69330547.0,689166.0,170305.0,84747957.0,14296001.0,984168.0,49183640.0,3368446.0,35373.0,16099483.0,12382988.0,3114396.0,101986.0,2029047.0,5434925.0,13278916.0,1378069.0,10608521.0,226152.0,549530.0,156000008.0,86169225.0,2535222.0,302924.0,11563268.0,9024180.0,3046581.0,543947.0,39581966.0,98559845.0,2475429.0,250793774.0,10106841.0,68989.0,646913.0,null,524709805.0,181931.0,1707883.0,1205719.0,5451348.0,847233.0,140607.0,17975269.0,2847.0,4849924.0,30465.0,1510897.0,309718.0,2144508.0,58621.0,240428.0,544895.0,27243.0,58850.0,10331666.0,488575.0,215489.0,113661.0,8122555.0,282641.0,261889.0,11666184.0,14286302.0,362229.0,900960.0,90926.0,3182375.0,25386.0,2884100.0,378164492.0,136439525.0,7320107.0,1782074.0,10817160.0,56994.0,1011277.0,9147428.0,1695814.0,15426.0,1456270.0,338212.0,41739024.0,753025.0,8946712.0,1414209.0,32791832.0,7549484.0,3270832.0,88980.0,5423172.0,385709.0,4783245.0,4526546.0,1723190.0,210192.0,52061447.0,13966109.0,1419701.0,150633.0,10275325.0,2853191.0,113080.0,939411.0,604827.0,2117474.0,3776936.0,745050.0,32605.0,295344.0,58921922.0,374241.0,1722365.0,1257676.0,208293677.0,9090985.0,54244089.0,400968.0,367200.0,20076.0,2792013.0,31518906.0,679025.0,439103.0,2541347.0,10008290.0,26160434.0,66259.0,1564431.0,19469009.0,4613254.0,47696.0,4435209.0,3927439.0,5750667.0,1820413.0,97136.0,4984442.0,7966.0,3750968.0,9629509.0,7132206.0,4795109.0,7108897.0,2530836.0,1642556.0,1651459.0,82596.0,2497202.0,122994457.0,876309.0,273900.0,196727.0,1135106.0,5663.0,3335591.0,2615459.0,1632584.0,2822656.0,4562145.0,110124989.0,2213038.0,116842899.0,933111.0,2570601.0,911.0,95826.0,9444655.0,1546801.0,1778635.0,915457091.0,22439610.0,1435374.0,1425150.0,7795119.0,101255.0,4416622.0,16294784.0,1094217.0,83073.0,5351715.0,2966344.0,4364168.0,525488.0,1332052.0,75785129.0,262959.0,6281449.0,1045672.0,5281537.0,18380002.0,676300.0,257103.0,2372539.0,1603229.0,26260197.0,6058858.0,2549580.0,10963984.0,31667627.0,29657435.0,1684678.0,240450.0,8295441.0,18837.0,928585.0,94508185.0,311071.0,1218268.0,507103.0,1437698.0,5156616.0,191988678.0,489332.0,87567.0,401678.0,738726.0,84410562.0,33779197.0,1379849.0,1667322.0,1266882.0,2854238.0,126212.0,318051.0,10155588.0,9277945.0,559680.0,9803295.0,12964069.0,157525.0,930267.0,3779069.0,14694097.0,30215.0,319957.0,170837.0,1285807.0,5464252.0,609802.0,4012930.0,55195.0,351087.0,72310.0,652244.0,451843.0,1633059.0,2889074.0,510592.0,767162.0,386360.0,3346948.0,1296777.0,2122433.0,2359653.0,12272628.0,9493733.0,1251200.0,5301271.0,1469736.0,2058438.0,5847791.0,10450206.0,58590655.0,1213867.0,99569.0,738202.0,11440455.0,67619.0,3157064.0,2817851.0,621093.0,1502125.0,12867358.0,324079.0,495065.0,6123730.0,20647398.0,760249.0,2812807.0,140916.0,906372.0,1407319.0,4288625.0,622551.0,1732100.0,518790.0,8324871.0,875957.0,2313225.0,3176730.0,3455728.0,11814893.0,10909239.0,180766617.0,304816.0,79882619.0,2644603.0,5399988.0,5646817.0,161103805.0,252524.0,605453.0,9736125.0,7433726.0,1142057.0,10125075.0,952869.0,87484.0,6315803.0,4282206.0,231325.0,2885013.0,1345404.0,5850945.0,2750006.0,589907.0,419705.0,1484533.0,15110047.0,747705.0,3128517.0,447522.0,1345689.0,1148562.0,283172.0,1743151.0,8947796.0,8378324.0,1576038.0,2661.0,6037721.0,1235556.0,705942.0,97578090.0,1836457.0,24994827.0,637152.0,566503.0,19220.0,943119.0,47619.0,23535618.0,318419.0,19256162.0,353784.0,1574015.0,1058423.0,79941868.0,561921.0,640120.0,4502356.0,10129.0,5578536.0,693153.0,1430388.0,977299.0,7755963.0,2943450.0,13844095.0,285526909.0,35490831.0,3526040.0,380649.0,20548194.0,6599382.0,2954979.0,1837300.0,23568994.0,1962673.0,425850.0,9618335.0,11188525.0,7001236.0,239207161.0,1088318.0,2367294.0,443909.0,5231674.0,444953.0,2040877.0,2954971.0,15836037.0,3731583.0,427945.0,470123.0,832026.0,3691767.0,1346386.0,681002.0,951514.0,1669884.0,76828.0,950825.0,1051751.0,24612.0,11642.0,2389222.0,13048900.0,32300300.0,855620.0,18302.0,592998.0,9780.0,1253037.0,302407.0,435863.0,11184537.0,53207.0,4098623.0,2006133.0,37037129.0,1212736.0,26355125.0,7308863.0,520371.0,56956.0,78038.0,1760155.0,2295412.0,4676492.0,4991078.0,879645.0,897553.0,677081.0,961789.0,2529301.0,1309077.0,15666598.0,202934.0,452937.0,125670049.0,5656681.0,2987298.0,37959.0,1152562.0,679453.0,437660.0,199395.0,3921128.0,859569.0,89486.0,18154.0,328489.0,1273223.0,1952077.0,54541.0,368017.0,565863.0,1695867.0,1851336.0,1034342.0,32054.0,2020370.0,1008972.0,1104214.0,23169378.0,872859.0,578389.0,266203.0,482269.0,13829574.0,2458686.0,12244410.0,589429.0,67276.0,179180.0,41925.0,595608.0,617350.0,3854528.0,1756737.0,2844014.0,534114.0,425099.0,1686785.0,2322280.0,8339001.0,13591.0,6366422.0,11805668.0,740962.0,3442343.0,2009963.0,1461872.0,23717752.0,7188648.0,320959.0,85522922.0,11422924.0,928704.0,7892369.0,165986.0,1194578.0,1339489.0,775719.0,1429951.0,5093587.0,1687552.0,383734.0,6340958.0,420420.0,1010630.0,1541386.0,11181957.0,2453529.0,466494.0,2333380.0,720075.0,1687706.0,639089.0,6329576.0,1671725.0,761574.0,4309217.0,6055668.0,93963115.0,2017263.0,327463.0,2817800.0,1198270.0,3452285.0,1487029.0,1089328.0,14914811.0,10786819.0,596902.0,4584546.0,6149318.0,3433953.0,3653854.0,44424347.0,1945140.0,7958011.0,16209382.0,1048056.0,607849.0,5884330.0,708445.0,701005.0,1700683.0,22100487.0,332371.0,9224408.0,107917.0,1085330.0,718461.0,632477.0,1097006.0,10338163.0,36138.0,715895.0,8496353.0,821480.0,293379.0,64368.0,7846143.0,4695664.0,802372.0,17195.0,1085076.0,2381931.0,2287752.0,331718.0,5683239.0,461467.0,838788.0,72414.0,776034.0,2724499.0,18492610.0,2568894.0,527380.0,6478696.0,5637132.0,1280387.0,3248506.0,2158052.0,195145.0,45665114.0,869372.0,5210940.0,258994.0,589007.0,17282158.0,580096.0,63870.0,3593833.0,1345420.0,619387.0,23973948.0,1815856.0,621651.0,4341289.0,85503.0,190491.0,698519.0,11235146.0,3308580.0,1360604.0,99774.0,13637506.0,743338.0,497458.0,25367316.0,967211.0,25291.0,870453.0,191830.0,805728.0,54583132.0,834400.0,936041.0,4181136.0,593989.0,613757.0,1291584.0,2474364.0,63599.0,20779962.0,1010999.0,304037.0,132583.0,1134047.0,5283664.0,1352.0,4290144.0,1045028.0,880432.0,1120660.0,138290.0,7989628.0,3733933.0,1006704.0,99698731.0,1005072.0,786765.0,1557335.0,3934199.0,608323.0,325200.0,1118396.0,467835.0,2610708.0,1156785.0,6573.0,12550897.0,3463977.0,1020154.0,128164.0,374525.0,167574.0,4098562.0,1945769.0,5533307.0,2362949.0,6134948.0,278584.0,1316713.0,5937790.0,2197690.0,17321080.0,1606273.0,3218250.0,960994.0,16115.0,4876825.0,73864.0,45122.0,37830.0,30388.0,137791.0,1766202.0,962507.0,1325826.0,2468059.0,691573.0,149363.0,879609.0,6644534.0,400330.0,425073.0,662992.0,1194593.0,848504.0,190418.0,21114.0,5547667.0,2343365.0,1711823.0,2578373.0,6742766.0,782934.0,513747.0,1457290.0,2575482.0,594480.0,2745019.0,76643.0,23909.0,4195072.0,530889.0,457957.0,31343.0,649114.0,325309.0,2349546.0,7783157.0,858731.0,2361410.0,15014572.0,41517.0,151493.0,3457355.0,925547.0,963335.0,25201.0,21747698.0,2214491.0,371563.0,1348450.0,1407324.0,568816.0,228752.0,1186255.0,485266.0,2861258.0,6389.0,57850.0,7544821.0,17259.0,9734303.0,24686.0,2710713.0,514758.0,6170029.0,118523.0,475535.0,384275.0,667767.0,3074914.0,2225959.0,4357193.0,405989.0,2657361.0,13545273.0,3989464.0,293213.0,702174.0,24012.0,707813.0,297966.0,338844.0,106305.0,108903.0,1341953.0,1086568.0,18609928.0,492976.0,71968133.0,356678.0,1686249.0,377483.0,618566.0,1889567.0,20897.0,1486176.0,553892.0,286969.0,3666465.0,1284173.0,1667301.0,14118968.0,23222262.0,4543326.0,1385264.0,2936679.0,2064594.0,6734947.0,4288833.0,36868871.0,1853171.0,5351960.0,1658204.0,10280971.0,7009241.0,746236.0,195618.0,1228300.0,6897438.0,143959.0,3020492.0,117695.0,4087572.0,578167.0,307938.0,6968660.0,131716.0,1864630.0,1267276.0,2173854.0,203851.0,513997.0,70762.0,129231.0,463378.0,378563.0,310738.0,319489.0,6383519.0,18565979.0,904713.0,267705.0,133708.0,274201.0,855958.0,180396.0,35948.0,1669551.0,386436.0,3487219.0,2270.0,2853947.0,482392.0,11118461.0,115655.0,30191.0,10146.0,174482.0,633520.0,425880.0,1322089.0,2036446.0,208877.0,66888.0,240234.0,810069.0,1229745.0,3432799.0,791624.0,1693731.0,3068118.0,63310479.0,77502.0,83902.0,10730641.0,45214.0,281839.0,61478.0,1195181.0,657999.0,608177.0,165623.0,413179.0,873549.0,689494.0,142040.0,4782514.0,1335899.0,591721.0,53592.0,473122.0,151259.0,1855644.0,128548.0,51321.0,1020152.0,499461.0,1018753.0,156294.0,549566.0,50941.0,855392.0,576311.0,366447.0,65745.0,78520.0,82902.0,2467290.0,1310018.0,566143.0,112040.0,49294.0,104246.0,1655085.0,72517.0,931636.0,1203517.0,1115596.0,229928.0,369997.0,749734.0,2885056.0,153395.0,1208037.0,30352.0,537070.0,265906.0,42216.0,1299714.0,1685445.0,7715681.0,2399810.0,620690.0,17156.0,454927.0,93633.0,587218.0,742272.0,6301646.0,1454316.0,75483.0,103500.0,95369.0,1815767.0,1084758.0,512978.0,647117.0,1057862.0,393718.0,386949.0,747110.0,638770.0,80522.0,389114.0,891548.0,1889320.0,1075761.0,1006579.0,3186890.0,462943.0,1335282.0,2417577.0,367781.0,1902823.0,441062.0,805994.0,4452337.0,297290.0,103248.0,4382539.0,2359142.0,1100740.0,11123363.0,48918.0,1178354.0,83228.0,79741.0,234454.0,154901.0,355919.0,92760.0,229865.0,12464.0,665643.0,37905.0,56101.0,176919.0,109574.0,62815.0,411015.0,65632.0,276221.0,947162.0,906361.0,52695.0,37883.0,808215.0,255706.0,278240.0,264809.0,251101.0,288796.0,189066.0,592173.0,100586.0,1928710.0,7510904.0,1101187.0,890196.0,223700.0,83121.0,12456.0,269716.0,858549.0,65137.0,254621.0,34954.0,240447.0,148992.0,504475.0,282480.0,932432.0,2278082.0,55105.0,154461.0,824297.0,87422.0,108383.0,1206538.0,5992730.0,93564.0,796750.0,257848.0,57446.0,112418.0,159877.0,41735.0,1033764.0,10309.0,29180.0,34655.0,43591.0,7325.0,169562.0,200847.0,146774.0,8862.0,3534.0,4573945.0,791042.0,28219.0,405850.0,1465011.0,53965.0,285609.0,312191.0,1016391.0,2007038.0,748675.0,84465.0,1564078.0,619006.0,573655.0,2219.0,65057.0,203084.0,278274.0,1090694.0,153064.0,2548.0,31657.0,189956.0,905023.0,255839.0,124442.0,502221.0,74253.0,4384.0,49591.0,608005.0,29751.0,889300.0,280369.0,37550877.0,28386.0,141306.0,125307.0,110066.0,51885.0,131943.0,901368.0,961317.0,212395.0,577426.0,230945.0,34715.0,58559.0,51885.0,186568.0,713211.0,128524.0,164119.0,212973.0,98972.0,106690.0,239924.0,193604.0,1847672.0,78841.0,137405.0,2564092.0,65067408.0,14721.0,85298.0,438358.0,3882.0,7816.0,408227.0,32926.0,1204024.0,1204024.0,126228.0,12513.0,58330.0,808787.0,533947.0,19323.0,198004.0,1705786.0,6709.0,187892.0,459455.0,28047.0,188875.0,226258.0,22860.0,102646.0,31510.0,70186.0,64958.0,2699810.0,30405.0,1499121.0,254500.0,48984.0,92899.0,64395.0,27378.0,208701.0,97930.0,268946.0,22593.0,409554.0,2783.0,100366.0,8097268.0,184475.0,164331.0,92841.0,39296.0,11448.0,27258.0,14264.0,14780.0,25648.0,33246.0,83353.0,28892.0,235294.0,19147.0,159448.0,10105.0,33480.0,520431.0,70483.0,9958.0,135067.0,127748.0,106966.0,1554691.0,190106.0,71547.0,29055.0,54917.0,38520.0,318166.0,75301.0,7516.0,384035.0,65005.0,1564007.0,78050.0,922918.0,66633.0,655844.0,199416.0,9099.0,24650.0,3618.0,17418.0,36948.0,13043.0,156610.0,345071.0,507836.0,27564.0,27451.0,56066.0,228095.0,55298.0,286228.0,54030.0,45157.0,4723.0,40240.0,4976.0,47430.0,66379.0,9542.0,19525.0,72885.0,187668.0,75586.0,23135.0,36585.0,216482.0,5388.0,64877.0,389051.0,7383.0,109363.0,127803.0,11745.0,426409.0,288722.0,42648.0,164940.0,55539.0,170926.0,7093.0,127082.0,6640.0,2285.0,132072.0,235019.0,47926.0,106127.0,89985.0,58050.0,176151.0,1564007.0,3392295.0,39193.0,46436.0,25865.0,196801.0,2985.0,8135.0,269849.0,9050.0,121692.0,5110.0,319387.0,314438.0,43046.0,31449.0,4043624.0,9245.0,79531.0,246407.0,6178.0,8186585.0,10108.0,464557.0,2188598.0,288312.0,5903244.0,52046148.0,10572.0,1293718.0,79265.0,135612.0,192740.0,45006.0,20600.0,52323.0,15689.0,38560.0,57411.0,46495.0,390348.0,149396.0,275924.0,23763.0,12332.0,30632.0,76373.0,119487.0,205486.0,11230.0,63886.0,14263.0,7050.0,1223879.0,34941.0,17191.0,1765945.0,45779.0,45872.0,63675.0,26709.0,867.0,10339.0,30871.0,106597.0,273349.0,35571.0,36560.0,9585.0,30328.0,533712.0,39409.0,364725.0,23035.0,111581.0,66279.0,62428.0,10671.0,41900.0,157301.0,481643.0,97946.0,51747.0,6631.0,36410.0,52909.0,39049.0,6160.0,48051.0,10451.0,11848.0,77345.0,19223.0,50724.0,237313.0,4073.0,3311.0,85191.0,3773387.0,10642.0,24792.0,7163.0,36473.0,42948.0,138803.0,500097.0,16243.0,21164.0,2471.0,40223.0,133933.0,53211.0,151345.0,36310.0,2742.0,17763.0,107957.0,218182.0,97163.0,1616.0,10509.0,296801.0,1599.0,38688.0,25316.0,25115.0,78423.0,100979.0,13976.0,4247.0,43235.0,18216.0,7989.0,51716.0,4454.0,180651.0,755642.0,60835.0,21962.0,8502.0,62189.0,7771.0,172513.0,56683.0,5931.0,23448.0,44809.0,2587.0,23175.0,444036.0,305772.0,11649.0,132646.0,6611.0,164869.0,82844.0,42274.0,25594.0,46082.0,25745.0,29780.0,63650.0,23819.0,8064.0,120365.0,1758063.0,94188.0,167962.0,544761.0,136526.0,167863.0,34941.0,88788.0,206418.0,53087.0,19622.0,270284.0,37711.0,59749.0,7487.0,943664.0,13991.0,37352.0,77109.0,474368.0,54596.0,83807.0,26499.0,42191.0,47811.0,60528.0,4951.0,601.0,57692.0,23786.0,6443.0,21012.0,17145.0,1195.0,131012.0,108055.0,86855.0,18531.0,2786.0,3461.0,2201.0,1485.0,97434.0,57858.0,15582.0,4130.0,2018720.0,61195.0,27676.0,4639.0,2597.0,9401.0,1954.0,69951.0,544884.0,99244.0,23653.0,53110.0,71652.0,82874.0,385239.0,42924.0,276901.0,85359.0,191777.0,126185.0,13184.0,14877.0,18992.0,19967.0,16451.0,16396.0,28759.0,2529954.0,114921.0,70181.0,5034.0,10503.0,156011.0,405791.0,34789.0,52954.0,88247.0,4368.0,50148.0,37870.0,5967.0,552256.0,18535.0,35288.0,205943.0,530763.0,12041.0,24863.0,111027.0,3773.0,8867.0,12274.0,795386.0,71578.0,37340.0,59232.0,309098.0,9269.0,22966.0,13184.0,51017.0,31837.0,87181.0,34090.0,9533.0,21868.0,2386.0,41057.0,86658.0,13489.0,87891.0,14537.0,15390.0,231488.0,2225.0,35759.0,74586.0,271333.0,909323.0,16080.0,23836066.0,11293.0,64703.0,46065.0,19693.0,23225.0,155562.0,11630.0,10351.0,3773387.0,145497.0,16123.0,15177.0,12666.0,16307.0,183096.0,8694.0,132960.0,33028.0,25331.0,1266475.0,26789.0,146821.0,59177.0,20861.0,14341.0,12289.0,187063.0,16887.0,19923.0,6817.0,2546.0,55828.0,14537.0,10554.0,32988.0,19755.0,1541874.0,132403.0,66507.0,34348.0,261713.0,15329.0,40275.0,55078.0,43743.0,15786.0,51269.0,116672.0,22525.0,46862.0,35516.0,21112.0,5833454.0,811965.0,141779.0,200452.0,184093.0,23836066.0,1693263.0,148482.0,4114.0,331603.0,150039.0,57394.0,84565.0,426875.0,107906.0,2944.0,450066.0,10737.0,125674.0,129591.0,188490.0,21129.0,97537.0,14336.0,259851.0,29864.0,21332.0,4806.0,121644.0,187956.0,32162.0,67444.0,2813.0,23239.0,131760.0,119878.0,1044608.0],\"xaxis\":\"x\",\"y\":[515049.0,119272.0,50074.0,132214.0,2307773.0,1072689.0,18353.0,1357197.0,61813.0,229141.0,1430457.0,160501.0,338601.0,2766.0,68133.0,11675.0,144517.0,130817.0,310947.0,1171433.0,361395.0,712273.0,74180.0,48317.0,62343.0,47947.0,96215.0,74324.0,85704.0,28907.0,296448.0,139552.0,56906.0,213398.0,723998.0,0.0,1.0,137327.0,3172.0,11025176.0,47782.0,54154.0,13526.0,5449.0,7791.0,95001.0,1019385.0,15425.0,5743875.0,10846.0,53635.0,310589.0,396477.0,32962.0,23130.0,48633.0,29980.0,11911.0,132298.0,65182.0,24425.0,14691.0,17269.0,47644.0,542855.0,98688.0,34870.0,12527.0,5400589.0,49931.0,34040.0,65238.0,1194852.0,665269.0,3112.0,62103.0,234520.0,17.0,33744.0,49795.0,66550.0,86374.0,45253.0,15399.0,2143.0,17610.0,61100.0,20361.0,45800.0,20329.0,26210.0,954935.0,78076.0,4144389.0,3312.0,19352.0,48535.0,236557.0,454863.0,10959.0,27575.0,null,5902.0,409962.0,190593.0,169217.0,79639.0,1158.0,25287.0,62009.0,26902.0,32189.0,47204.0,54951.0,30095.0,32043.0,37041.0,1121873.0,5471653.0,13141.0,28944.0,105414.0,981522.0,672749.0,10877.0,4894.0,340686.0,8864.0,38776.0,null,30764.0,202969.0,859.0,132562.0,17219.0,2981.0,4306.0,2991.0,232336.0,44217.0,4293.0,867074.0,881.0,26530.0,10441.0,39868.0,275577.0,99816.0,9368.0,9475.0,51098.0,122180.0,19007.0,12050.0,4759.0,22643.0,15683.0,70465.0,7675.0,68035.0,3518.0,4721.0,16445558.0,59163.0,26849.0,76010.0,130176.0,338470.0,4644.0,394837.0,5190.0,16394.0,43704.0,1499298.0,8383.0,880208.0,186881.0,4440.0,149084.0,36655.0,235659.0,22310.0,356.0,37430.0,25934.0,109335.0,461154.0,43189.0,2206.0,14687.0,82405.0,19436.0,738439.0,56460.0,12759.0,863.0,5213.0,199933.0,752667.0,27736.0,55282.0,49949.0,2464.0,30046.0,4831.0,56258.0,262633.0,29974.0,2523764.0,116385.0,1552125.0,838345.0,6386.0,2129926.0,12875.0,170234.0,3121.0,315980.0,19915.0,778342.0,124490.0,29818.0,2030057.0,1165120.0,511551.0,2021442.0,26171.0,6579.0,1080199.0,2712.0,621.0,2135851.0,37455.0,6383.0,1801566.0,9862.0,158935.0,63890.0,80947.0,195700.0,146566.0,407460.0,12892.0,1103713.0,7742.0,347137.0,869059.0,4227.0,2121115.0,118846.0,116596.0,16747.0,34464.0,339759.0,339758.0,176829.0,29065.0,36835.0,8812.0,51924.0,3557658.0,601464.0,136929.0,1572751.0,46519.0,237869.0,371116.0,463331.0,124675.0,70001.0,132845.0,673896.0,281680.0,33967.0,6557.0,38148.0,1046404.0,2180.0,205831.0,1511358.0,18806.0,4386.0,1638369.0,472660.0,52363.0,397142.0,80368.0,1760.0,102369.0,493471.0,38397.0,3429.0,159719.0,94089.0,129552.0,26619.0,233724.0,5198.0,21809.0,3206546.0,1221507.0,70562.0,11672.0,171757.0,213630.0,72348.0,6875.0,636440.0,1301198.0,79849.0,2286473.0,82390.0,4407.0,7530.0,null,7786057.0,6314.0,30633.0,31742.0,112098.0,25161.0,3408.0,378858.0,48.0,131961.0,1409.0,57691.0,5407.0,46254.0,1449.0,7850.0,14030.0,559.0,3792.0,73362.0,22430.0,6806.0,2604.0,74617.0,11395.0,4238.0,22288.0,430267.0,13406.0,19054.0,1519.0,191691.0,1151.0,52635.0,6177588.0,4120158.0,139442.0,20909.0,176978.0,2596.0,56774.0,185175.0,10380.0,1218.0,36835.0,15128.0,353053.0,37645.0,96563.0,18847.0,501165.0,143191.0,152531.0,1869.0,219213.0,15036.0,71688.0,64432.0,28863.0,9354.0,910553.0,227790.0,54822.0,4560.0,41389.0,44471.0,7452.0,22667.0,27439.0,59933.0,21946.0,21123.0,1237.0,7555.0,789062.0,24508.0,9313.0,40534.0,1706185.0,79281.0,385847.0,18698.0,12687.0,288.0,33130.0,241605.0,19712.0,6686.0,82083.0,148120.0,193174.0,1529.0,63857.0,282754.0,120513.0,1796.0,74485.0,77893.0,43643.0,24029.0,4557.0,73498.0,131.0,49642.0,226135.0,238193.0,51599.0,164337.0,36387.0,63543.0,25029.0,4849.0,52160.0,349923.0,51658.0,13503.0,10660.0,12009.0,630.0,47823.0,98001.0,45040.0,21367.0,89572.0,4763784.0,77520.0,3963124.0,9178.0,32280.0,71.0,2313.0,25347.0,66353.0,42848.0,6823113.0,438812.0,25630.0,125907.0,33316.0,4869.0,114246.0,247914.0,19895.0,32.0,65748.0,57666.0,153762.0,8851.0,30536.0,1056430.0,7110.0,222713.0,31665.0,50788.0,345943.0,null,3505.0,39281.0,17286.0,121553.0,350411.0,27102.0,111085.0,565673.0,157924.0,101457.0,9624.0,92823.0,842.0,19509.0,2869906.0,10524.0,29443.0,27277.0,22861.0,120500.0,6055504.0,13733.0,3562.0,6626.0,9432.0,953712.0,618688.0,42113.0,18225.0,76217.0,90491.0,3480.0,11496.0,45448.0,237800.0,26837.0,186218.0,428683.0,3251.0,32717.0,103946.0,626889.0,355.0,9615.0,5556.0,24285.0,56485.0,19444.0,199265.0,3083.0,7289.0,2459.0,9154.0,7687.0,26890.0,62098.0,16225.0,18852.0,10259.0,41946.0,32884.0,55231.0,45821.0,56480.0,130796.0,26731.0,135484.0,34514.0,10818.0,223844.0,431284.0,2025653.0,37925.0,2309.0,16723.0,362022.0,5009.0,41945.0,126685.0,19630.0,57500.0,60821.0,14986.0,11961.0,107571.0,127971.0,9562.0,11323.0,8860.0,15137.0,42940.0,287759.0,18184.0,46566.0,36272.0,466063.0,36376.0,100232.0,74081.0,104645.0,300789.0,84728.0,4437532.0,8896.0,3136265.0,38261.0,47683.0,186142.0,639942.0,5000.0,16152.0,455277.0,251667.0,46158.0,367266.0,35004.0,2216.0,121547.0,51562.0,4897.0,12970.0,133987.0,316652.0,79878.0,32152.0,4144.0,96363.0,132236.0,43511.0,117286.0,7455.0,23477.0,24017.0,16028.0,46953.0,158510.0,295514.0,20365.0,328.0,144074.0,40750.0,21286.0,3514143.0,14899.0,738796.0,29610.0,8058.0,692.0,33570.0,4748.0,837671.0,13004.0,218539.0,18486.0,40407.0,44518.0,861503.0,17327.0,20892.0,106511.0,582.0,45027.0,26215.0,100199.0,19894.0,58950.0,61089.0,160983.0,14259033.0,365971.0,128800.0,9760.0,83707.0,22420.0,110145.0,38810.0,454036.0,46684.0,32092.0,343227.0,126347.0,45565.0,169669.0,16578.0,23546.0,22532.0,136598.0,17866.0,66783.0,83509.0,88325.0,77692.0,15576.0,17967.0,35432.0,68762.0,44412.0,22443.0,16649.0,15064.0,2673.0,33558.0,2584.0,909.0,630.0,null,187163.0,135952.0,33471.0,700.0,6568.0,275.0,41409.0,6366.0,20106.0,141654.0,1800.0,134194.0,29265.0,280090.0,49530.0,93094.0,309903.0,5015.0,1520.0,2353.0,39845.0,29014.0,197069.0,128268.0,13492.0,25308.0,33529.0,39458.0,47306.0,34575.0,152593.0,8491.0,16576.0,3945358.0,216934.0,127211.0,1861.0,44755.0,18780.0,27889.0,10409.0,94131.0,57308.0,2923.0,889.0,6189.0,27189.0,41927.0,2020.0,13038.0,22624.0,16915.0,19993.0,35423.0,1738.0,22479.0,9669.0,11059.0,287909.0,61424.0,19969.0,12111.0,11249.0,188472.0,36738.0,75063.0,6057.0,4439.0,2295.0,413.0,29562.0,4986.0,143561.0,19154.0,59866.0,32006.0,20616.0,19583.0,17411.0,97646.0,503.0,182663.0,95151.0,36776.0,59583.0,49192.0,48823.0,833480.0,42075.0,9330.0,2897163.0,363771.0,28773.0,702681.0,7774.0,32772.0,18982.0,19800.0,18403.0,39944.0,62375.0,17977.0,227589.0,22894.0,16646.0,59458.0,355223.0,126726.0,7927.0,91777.0,30398.0,16874.0,10705.0,228332.0,10402.0,25394.0,96744.0,85527.0,3550678.0,33213.0,10292.0,53333.0,44783.0,47086.0,11595.0,31942.0,72612.0,203216.0,11420.0,150521.0,79852.0,319390.0,148031.0,1790536.0,12785.0,155712.0,867676.0,11620.0,15593.0,308847.0,20363.0,5544.0,77209.0,702117.0,8031.0,74840.0,4597.0,34468.0,29589.0,7007.0,29581.0,140841.0,2611.0,33974.0,261832.0,20018.0,3984.0,1777.0,129100.0,75028.0,55719.0,549.0,36423.0,71905.0,55097.0,4427.0,39999.0,9700.0,11943.0,2350.0,13852.0,65719.0,632277.0,102993.0,19112.0,193795.0,153490.0,42841.0,24970.0,48525.0,7514.0,731644.0,29615.0,91267.0,1668.0,3494.0,281285.0,14477.0,2769.0,249384.0,62172.0,13542.0,785650.0,88764.0,7785.0,51437.0,3765.0,5180.0,31042.0,95162.0,16909.0,23288.0,3252.0,378105.0,28453.0,9126.0,598389.0,25021.0,2043.0,44083.0,4985.0,24059.0,1602939.0,8870.0,8574.0,183765.0,5940.0,22283.0,45878.0,77411.0,1452.0,446014.0,4192.0,12188.0,5658.0,60991.0,45628.0,82.0,15872.0,10415.0,29773.0,13657.0,4267.0,146358.0,85408.0,35758.0,4493972.0,29921.0,32102.0,21393.0,99436.0,25917.0,9965.0,17160.0,6201.0,89783.0,51846.0,374.0,283831.0,76431.0,10670.0,6545.0,11474.0,3749.0,115164.0,8680.0,356355.0,7375.0,31796.0,7355.0,7240.0,135047.0,51915.0,385059.0,80596.0,121477.0,27780.0,752.0,245113.0,2672.0,409.0,1514.0,962.0,6770.0,7247.0,27854.0,55521.0,31479.0,52388.0,4148.0,30518.0,203103.0,3933.0,11148.0,26024.0,41293.0,27953.0,4452.0,275.0,105355.0,52147.0,53545.0,37370.0,402045.0,16414.0,23783.0,77110.0,103051.0,8436.0,93420.0,3831.0,1244.0,188623.0,23689.0,7004.0,37.0,9165.0,11197.0,77866.0,205557.0,10960.0,135155.0,381271.0,779.0,8433.0,56392.0,23977.0,6851.0,1115.0,557743.0,56267.0,13217.0,28031.0,42940.0,15858.0,2839.0,44713.0,6813.0,12595.0,253.0,2464.0,274209.0,712.0,319041.0,669.0,31578.0,43557.0,634419.0,2236.0,8684.0,22569.0,24252.0,81516.0,26306.0,175132.0,30071.0,117231.0,372266.0,20442.0,5424.0,18957.0,643.0,28895.0,15392.0,13777.0,1346.0,3440.0,44809.0,11743.0,697363.0,17272.0,2946965.0,17728.0,56993.0,15641.0,14868.0,78852.0,1111.0,44866.0,null,15312.0,135411.0,61689.0,79336.0,162408.0,599842.0,205854.0,38690.0,63497.0,137796.0,88340.0,62969.0,1435534.0,14386.0,20138.0,47460.0,374130.0,375997.0,13126.0,2936.0,35777.0,23915.0,7812.0,98519.0,741.0,104631.0,27768.0,13488.0,492024.0,600.0,65909.0,12193.0,88302.0,12502.0,29551.0,2229.0,2498.0,17961.0,5409.0,15082.0,15317.0,201509.0,1251353.0,26859.0,6473.0,7665.0,4492.0,28603.0,3769.0,1289.0,48163.0,5630.0,101465.0,114.0,169994.0,11841.0,367987.0,6253.0,1786.0,150.0,3908.0,6465.0,29026.0,32631.0,94707.0,4936.0,2970.0,2271.0,30033.0,61031.0,119930.0,43960.0,32009.0,137884.0,3710978.0,4134.0,4315.0,212578.0,1218.0,3227.0,2713.0,16641.0,13318.0,25825.0,10317.0,20999.0,29541.0,13796.0,3362.0,216935.0,37893.0,6383.0,3498.0,5936.0,4976.0,96513.0,791.0,1313.0,12415.0,4898.0,34526.0,2400.0,6554.0,2364.0,37296.0,8070.0,4634.0,1237.0,1608.0,1969.0,93512.0,59959.0,7538.0,4122.0,2683.0,2382.0,54092.0,2012.0,19359.0,21111.0,40994.0,3102.0,12942.0,7973.0,42757.0,8227.0,45763.0,1822.0,8090.0,11283.0,2363.0,16316.0,55962.0,494889.0,52335.0,11563.0,1149.0,5089.0,5077.0,23558.0,55233.0,31601.0,74900.0,1793.0,2976.0,1507.0,35092.0,9069.0,25476.0,6946.0,29955.0,5947.0,6164.0,26419.0,12124.0,3237.0,15322.0,10119.0,31563.0,51772.0,22891.0,146978.0,7890.0,19987.0,97091.0,7402.0,46638.0,26616.0,23824.0,83345.0,9886.0,1521.0,207617.0,118001.0,21274.0,365592.0,1572.0,25885.0,1941.0,1050.0,12994.0,4248.0,9093.0,1234.0,5444.0,586.0,6920.0,908.0,3016.0,11283.0,5437.0,3216.0,5512.0,766.0,3464.0,24014.0,28966.0,1466.0,1571.0,24954.0,4590.0,3847.0,4836.0,4840.0,3215.0,1289.0,3600.0,1314.0,61448.0,18106.0,18730.0,19621.0,10669.0,16.0,96.0,3991.0,12849.0,644.0,8534.0,1194.0,2983.0,1862.0,18551.0,2254.0,7342.0,9641.0,814.0,5352.0,34599.0,4972.0,1444.0,35503.0,421608.0,1692.0,7277.0,8725.0,1490.0,1274.0,695.0,1537.0,23574.0,506.0,319.0,1455.0,416.0,68.0,2707.0,9062.0,5931.0,83.0,69.0,207061.0,13751.0,105.0,29732.0,15854.0,1213.0,1810.0,7219.0,23502.0,82449.0,18649.0,3205.0,64464.0,7866.0,6325.0,46.0,1121.0,2807.0,4615.0,50488.0,5716.0,57.0,478.0,1111.0,7946.0,5638.0,4232.0,8731.0,736.0,51.0,332.0,24181.0,346.0,31521.0,14800.0,1962726.0,1099.0,1678.0,5812.0,2992.0,2546.0,2639.0,11898.0,11805.0,3823.0,14293.0,2192.0,510.0,1708.0,2546.0,10724.0,9666.0,1139.0,2083.0,1728.0,2113.0,1102.0,830.0,2765.0,110517.0,901.0,4783.0,155534.0,179555.0,804.0,3675.0,11650.0,66.0,124.0,11751.0,490.0,57526.0,57527.0,2170.0,393.0,2048.0,6379.0,5630.0,1341.0,9544.0,52347.0,36.0,1030.0,15652.0,2258.0,3232.0,3495.0,869.0,3221.0,2379.0,2700.0,1215.0,54006.0,3026.0,23668.0,24496.0,774.0,1639.0,718.0,191.0,2750.0,10389.0,46642.0,404.0,14211.0,40.0,765.0,302909.0,8520.0,4706.0,978.0,1834.0,1021.0,1606.0,1025.0,577.0,1987.0,1781.0,2323.0,1872.0,23205.0,1785.0,5010.0,145.0,4663.0,15301.0,1449.0,1259.0,7292.0,2644.0,4147.0,106056.0,20319.0,542.0,470.0,1240.0,2949.0,9627.0,474.0,705.0,11248.0,2677.0,63825.0,4732.0,71566.0,10556.0,33773.0,17526.0,757.0,179.0,317.0,697.0,1897.0,712.0,7166.0,10595.0,14658.0,1204.0,null,1968.0,18208.0,2179.0,2817.0,1032.0,3721.0,310.0,2696.0,97.0,1241.0,2716.0,109.0,182.0,4066.0,2779.0,4855.0,286.0,467.0,8260.0,344.0,4873.0,37251.0,451.0,12928.0,1009.0,385.0,24505.0,2385.0,3075.0,2122.0,1569.0,8907.0,59.0,775.0,1027.0,29.0,7385.0,1167.0,589.0,1145.0,1688.0,2945.0,8384.0,63825.0,312575.0,1542.0,1365.0,2330.0,8033.0,207.0,160.0,33342.0,346.0,5577.0,113.0,15150.0,6642.0,3867.0,4656.0,19135.0,423.0,1811.0,39872.0,815.0,354984.0,311.0,18685.0,22450.0,6958.0,26505.0,280080.0,597.0,14665.0,2072.0,3407.0,12829.0,1090.0,1720.0,4049.0,1450.0,3645.0,2952.0,4303.0,34468.0,7185.0,14408.0,1382.0,null,2009.0,4852.0,1333.0,10321.0,1006.0,2967.0,489.0,90.0,196898.0,1417.0,1015.0,193217.0,3400.0,1483.0,2951.0,1431.0,15.0,535.0,3916.0,1096.0,26848.0,2645.0,2194.0,765.0,1324.0,6028.0,3638.0,11797.0,1493.0,6773.0,475.0,4063.0,600.0,1815.0,6559.0,17548.0,4484.0,2538.0,324.0,2539.0,3091.0,2740.0,476.0,2719.0,670.0,515.0,1796.0,789.0,2963.0,8484.0,187.0,63.0,2547.0,298445.0,129.0,1804.0,407.0,1808.0,866.0,8534.0,23828.0,701.0,621.0,52.0,519.0,4163.0,8738.0,3759.0,1411.0,257.0,198.0,8560.0,4160.0,1628.0,66.0,608.0,14787.0,105.0,1643.0,1462.0,1992.0,4296.0,7364.0,180.0,431.0,3179.0,2015.0,626.0,3245.0,25.0,11053.0,11244.0,612.0,1229.0,827.0,257.0,408.0,1288.0,686.0,674.0,371.0,1500.0,242.0,970.0,31710.0,6002.0,667.0,5762.0,1445.0,8912.0,5006.0,2667.0,941.0,2713.0,709.0,2374.0,2117.0,539.0,269.0,1827.0,76779.0,1809.0,12675.0,28878.0,7636.0,23676.0,1011.0,9633.0,5524.0,1265.0,469.0,14566.0,878.0,992.0,189.0,28195.0,954.0,2063.0,5595.0,27738.0,1200.0,4187.0,441.0,1294.0,915.0,1573.0,383.0,58.0,3405.0,1908.0,212.0,1700.0,82.0,14.0,827.0,3586.0,848.0,137.0,134.0,24.0,230.0,13.0,1029.0,534.0,295.0,239.0,216891.0,1916.0,1818.0,358.0,44.0,282.0,184.0,588.0,8526.0,2925.0,3685.0,544.0,2521.0,3374.0,19325.0,2990.0,4510.0,1531.0,8260.0,6117.0,406.0,1525.0,858.0,1209.0,1079.0,926.0,959.0,142261.0,6900.0,5675.0,418.0,1562.0,11069.0,29728.0,2342.0,2586.0,7246.0,449.0,1184.0,2468.0,1243.0,48710.0,947.0,2175.0,29966.0,15842.0,1409.0,855.0,10676.0,94.0,629.0,814.0,20892.0,7455.0,2208.0,3465.0,15637.0,959.0,1208.0,406.0,2677.0,3273.0,5333.0,1656.0,920.0,726.0,358.0,2135.0,4996.0,834.0,9574.0,563.0,737.0,7650.0,221.0,2118.0,2694.0,19997.0,26049.0,1716.0,3001265.0,526.0,1159.0,2104.0,3171.0,1944.0,10725.0,760.0,468.0,298406.0,3396.0,304.0,797.0,228.0,549.0,16605.0,703.0,3379.0,2237.0,1722.0,4758.0,2786.0,6160.0,4686.0,404.0,329.0,1144.0,11316.0,2011.0,1075.0,53.0,92.0,3344.0,563.0,357.0,2025.0,1031.0,null,3963.0,1120.0,1717.0,11283.0,554.0,903.0,6865.0,1362.0,875.0,656.0,4512.0,1229.0,2025.0,1734.0,1155.0,242721.0,14741.0,5041.0,8815.0,18063.0,3001232.0,119953.0,1634.0,38.0,17307.0,9401.0,519.0,2501.0,44616.0,3500.0,132.0,48041.0,462.0,7387.0,12935.0,4279.0,641.0,2815.0,329.0,19671.0,823.0,488.0,157.0,3516.0,5174.0,2184.0,2481.0,142.0,1677.0,5035.0,714.0,98631.0],\"yaxis\":\"y\",\"type\":\"scattergl\"},{\"hovertemplate\":\"<b>OLS trendline</b><br>Likes = 0.00553918 * Views + 106165<br>R<sup>2</sup>=0.569238<br><br>Views=%{x}<br>Likes=%{y} <b>(trend)</b><extra></extra>\",\"legendgroup\":\"\",\"marker\":{\"color\":\"#636efa\",\"symbol\":\"circle\"},\"mode\":\"lines\",\"name\":\"\",\"showlegend\":false,\"x\":[25.0,63.0,601.0,867.0,911.0,1195.0,1352.0,1485.0,1599.0,1616.0,1954.0,2201.0,2219.0,2225.0,2270.0,2285.0,2386.0,2471.0,2546.0,2548.0,2587.0,2597.0,2661.0,2742.0,2758.0,2783.0,2786.0,2813.0,2847.0,2944.0,2985.0,3311.0,3461.0,3534.0,3618.0,3773.0,3882.0,4073.0,4114.0,4130.0,4247.0,4368.0,4384.0,4454.0,4639.0,4723.0,4806.0,4951.0,4976.0,5034.0,5110.0,5388.0,5663.0,5931.0,5967.0,6160.0,6178.0,6389.0,6443.0,6573.0,6611.0,6631.0,6640.0,6709.0,6817.0,7050.0,7093.0,7163.0,7325.0,7383.0,7487.0,7516.0,7771.0,7816.0,7966.0,7989.0,8064.0,8135.0,8502.0,8694.0,8862.0,8867.0,9050.0,9099.0,9245.0,9269.0,9401.0,9533.0,9542.0,9585.0,9780.0,9958.0,10105.0,10108.0,10129.0,10146.0,10309.0,10339.0,10351.0,10451.0,10503.0,10509.0,10554.0,10572.0,10642.0,10671.0,10737.0,11230.0,11293.0,11448.0,11630.0,11642.0,11649.0,11745.0,11848.0,12041.0,12274.0,12289.0,12456.0,12464.0,12513.0,12666.0,13043.0,13184.0,13184.0,13489.0,13591.0,13976.0,13991.0,14263.0,14264.0,14336.0,14341.0,14537.0,14537.0,14593.0,14721.0,14780.0,14877.0,15177.0,15329.0,15390.0,15426.0,15582.0,15689.0,15786.0,16080.0,16115.0,16123.0,16243.0,16307.0,16396.0,16451.0,16887.0,17145.0,17156.0,17191.0,17195.0,17259.0,17418.0,17763.0,18154.0,18216.0,18302.0,18531.0,18535.0,18837.0,18992.0,19147.0,19220.0,19223.0,19323.0,19525.0,19622.0,19693.0,19755.0,19923.0,19967.0,20076.0,20600.0,20861.0,20897.0,21012.0,21112.0,21114.0,21129.0,21164.0,21332.0,21868.0,21962.0,22525.0,22593.0,22860.0,22966.0,23035.0,23135.0,23175.0,23225.0,23239.0,23448.0,23653.0,23763.0,23786.0,23819.0,23909.0,24012.0,24612.0,24650.0,24686.0,24792.0,24863.0,25115.0,25201.0,25291.0,25316.0,25331.0,25386.0,25594.0,25648.0,25745.0,25865.0,26499.0,26709.0,26789.0,27243.0,27258.0,27378.0,27564.0,27676.0,28047.0,28219.0,28386.0,28759.0,28892.0,29055.0,29180.0,29751.0,29780.0,29864.0,30191.0,30215.0,30328.0,30352.0,30388.0,30405.0,30465.0,30632.0,30871.0,31289.0,31343.0,31449.0,31510.0,31657.0,31837.0,32054.0,32162.0,32605.0,32926.0,32988.0,33028.0,33246.0,33480.0,34090.0,34348.0,34655.0,34715.0,34789.0,34941.0,34941.0,34954.0,35288.0,35373.0,35516.0,35571.0,35759.0,35948.0,36138.0,36310.0,36410.0,36473.0,36560.0,36585.0,36948.0,37340.0,37352.0,37711.0,37830.0,37870.0,37883.0,37905.0,37959.0,38520.0,38560.0,38688.0,39049.0,39193.0,39296.0,39409.0,39944.0,40223.0,40240.0,40275.0,41057.0,41517.0,41735.0,41900.0,41925.0,42191.0,42216.0,42274.0,42648.0,42924.0,42948.0,43046.0,43235.0,43591.0,43743.0,44809.0,45006.0,45122.0,45157.0,45214.0,45584.0,45779.0,45872.0,46065.0,46082.0,46436.0,46495.0,46862.0,47430.0,47619.0,47696.0,47811.0,47926.0,48051.0,48918.0,48984.0,49294.0,49591.0,50148.0,50724.0,50941.0,51017.0,51269.0,51321.0,51716.0,51747.0,51885.0,51885.0,52323.0,52695.0,52909.0,52954.0,53087.0,53110.0,53207.0,53211.0,53592.0,53965.0,54030.0,54541.0,54596.0,54917.0,55078.0,55105.0,55195.0,55298.0,55539.0,55643.0,55828.0,56066.0,56101.0,56683.0,56956.0,56994.0,57394.0,57411.0,57446.0,57692.0,57850.0,57858.0,58050.0,58330.0,58559.0,58621.0,58850.0,59177.0,59232.0,59749.0,60528.0,60835.0,61085.0,61195.0,61478.0,62189.0,62428.0,62815.0,63599.0,63650.0,63675.0,63870.0,63886.0,64368.0,64395.0,64703.0,64877.0,64958.0,65005.0,65057.0,65137.0,65632.0,65745.0,66259.0,66279.0,66379.0,66507.0,66633.0,66888.0,67276.0,67444.0,67619.0,68989.0,69951.0,70181.0,70186.0,70483.0,70762.0,71547.0,71578.0,71652.0,72310.0,72414.0,72517.0,72885.0,73864.0,74253.0,74586.0,75301.0,75483.0,75586.0,76373.0,76643.0,76828.0,77109.0,77345.0,77502.0,78038.0,78050.0,78423.0,78520.0,78841.0,79265.0,79531.0,79741.0,80522.0,82298.0,82596.0,82844.0,82874.0,82902.0,83073.0,83121.0,83228.0,83353.0,83807.0,83902.0,84465.0,84565.0,85052.0,85191.0,85298.0,85359.0,85503.0,86658.0,86855.0,87181.0,87422.0,87484.0,87567.0,87891.0,88247.0,88788.0,88980.0,89486.0,89985.0,90926.0,91932.0,92760.0,92841.0,92899.0,93564.0,93633.0,94188.0,95369.0,95826.0,95826.0,97136.0,97163.0,97434.0,97537.0,97930.0,97946.0,98972.0,99244.0,99569.0,99774.0,100366.0,100586.0,100979.0,101255.0,101986.0,102646.0,103248.0,103500.0,104246.0,106127.0,106305.0,106597.0,106690.0,106966.0,107906.0,107917.0,107957.0,108055.0,108383.0,108874.0,108903.0,109363.0,109574.0,110066.0,111027.0,111581.0,112040.0,112418.0,113080.0,113661.0,114921.0,115655.0,116672.0,117695.0,118523.0,119487.0,119878.0,120365.0,121644.0,121692.0,122824.0,124442.0,125307.0,125674.0,126185.0,126212.0,126228.0,127082.0,127492.0,127748.0,127803.0,128164.0,128524.0,128548.0,129231.0,129591.0,130286.0,131012.0,131716.0,131760.0,131943.0,132072.0,132403.0,132583.0,132646.0,132960.0,133708.0,133933.0,135056.0,135067.0,135612.0,136526.0,137405.0,137791.0,138290.0,138803.0,140607.0,140916.0,141306.0,141779.0,142040.0,143605.0,143959.0,145497.0,145691.0,146080.0,146774.0,146821.0,148482.0,148992.0,149363.0,149396.0,150039.0,150633.0,151259.0,151345.0,151493.0,153064.0,153395.0,154461.0,154901.0,155562.0,156011.0,156294.0,156610.0,157301.0,157525.0,157632.0,159448.0,159877.0,164119.0,164331.0,164869.0,164940.0,165623.0,165986.0,167574.0,167863.0,167962.0,169562.0,170305.0,170837.0,170926.0,172513.0,173717.0,174482.0,176151.0,176919.0,179180.0,179728.0,180396.0,180651.0,181827.0,181931.0,183096.0,184093.0,184475.0,186568.0,187063.0,187668.0,187892.0,187956.0,188490.0,188875.0,189066.0,189956.0,190106.0,190418.0,190491.0,191777.0,191830.0,192740.0,192964.0,193604.0,195145.0,195618.0,196484.0,196727.0,196801.0,198004.0,198844.0,199395.0,199416.0,200452.0,200847.0,202934.0,203084.0,203851.0,205486.0,205943.0,206418.0,208701.0,208877.0,210192.0,212395.0,212973.0,215489.0,216482.0,218182.0,223700.0,226152.0,226258.0,228095.0,228752.0,229865.0,229928.0,230945.0,231325.0,231488.0,234454.0,235019.0,235294.0,237313.0,238411.0,239924.0,240234.0,240428.0,240447.0,240450.0,246407.0,251101.0,252524.0,254500.0,254621.0,255706.0,255839.0,257103.0,257199.0,257848.0,258491.0,258994.0,259851.0,261713.0,261889.0,262959.0,264809.0,265906.0,266203.0,267705.0,268946.0,269716.0,269849.0,270284.0,271333.0,271415.0,273349.0,273900.0,274201.0,275924.0,276221.0,276901.0,278240.0,278274.0,278584.0,280369.0,281839.0,282480.0,282641.0,283172.0,284841.0,285609.0,286228.0,286969.0,287879.0,288312.0,288722.0,288796.0,290351.0,292643.0,293213.0,293379.0,295344.0,296801.0,297290.0,297966.0,302407.0,302924.0,304037.0,304816.0,305772.0,307938.0,309098.0,309718.0,310738.0,311071.0,312191.0,313285.0,313847.0,314438.0,317372.0,318051.0,318166.0,318419.0,319387.0,319489.0,319957.0,320959.0,323071.0,324079.0,325200.0,325309.0,327146.0,327463.0,328489.0,331603.0,331718.0,332371.0,338212.0,338844.0,345071.0,351087.0,351985.0,353784.0,355919.0,356678.0,362229.0,364725.0,366447.0,367200.0,367781.0,368017.0,369997.0,371563.0,374241.0,374525.0,377483.0,378563.0,380649.0,383734.0,384035.0,384275.0,385239.0,385709.0,386360.0,386436.0,386949.0,389051.0,389114.0,390348.0,391796.0,392314.0,393718.0,398061.0,400330.0,400968.0,401678.0,402110.0,405791.0,405850.0,405989.0,408227.0,409554.0,411015.0,413179.0,419705.0,420420.0,425073.0,425099.0,425850.0,425880.0,426409.0,426875.0,427945.0,431421.0,435863.0,437660.0,438358.0,439103.0,441062.0,441183.0,443909.0,444036.0,444953.0,447522.0,450066.0,451843.0,452937.0,454927.0,457957.0,459455.0,461467.0,462943.0,463378.0,464557.0,466494.0,467835.0,470123.0,473122.0,474368.0,475535.0,481643.0,482269.0,482392.0,485266.0,488575.0,489332.0,492976.0,495065.0,497458.0,499461.0,500097.0,502221.0,504475.0,507103.0,507836.0,508969.0,510592.0,512978.0,513747.0,513997.0,514758.0,515395.0,518790.0,520371.0,520431.0,525081.0,525488.0,527380.0,530763.0,530889.0,533712.0,533947.0,534114.0,537070.0,543947.0,544761.0,544884.0,544895.0,549530.0,549566.0,552256.0,559680.0,561921.0,565863.0,566143.0,566503.0,568816.0,573655.0,573706.0,576311.0,577426.0,578167.0,578179.0,578389.0,580096.0,587218.0,589007.0,589429.0,589907.0,591721.0,592173.0,592998.0,593989.0,594480.0,595608.0,596680.0,596902.0,602137.0,604827.0,605453.0,607849.0,608005.0,608177.0,608323.0,609802.0,610308.0,613757.0,617350.0,618566.0,619006.0,619387.0,620690.0,621093.0,621651.0,622551.0,632477.0,633520.0,637152.0,638770.0,639089.0,640120.0,646913.0,647117.0,649114.0,652244.0,655844.0,657999.0,662992.0,665643.0,667767.0,674979.0,677081.0,679025.0,679453.0,681002.0,689166.0,689494.0,689762.0,691573.0,693153.0,698519.0,701005.0,702174.0,705942.0,707813.0,708445.0,713211.0,715895.0,718461.0,719270.0,720075.0,738202.0,738726.0,739507.0,740962.0,742272.0,743338.0,745050.0,746236.0,747110.0,747705.0,748675.0,749734.0,753025.0,755642.0,759857.0,760249.0,761574.0,762553.0,767162.0,775719.0,776034.0,782934.0,786765.0,787667.0,791042.0,791624.0,793228.0,795386.0,796750.0,800364.0,802372.0,805728.0,805994.0,808215.0,808787.0,810069.0,811965.0,821480.0,824297.0,832026.0,834400.0,838788.0,844015.0,847233.0,848504.0,854273.0,855392.0,855620.0,855958.0,856628.0,858549.0,858731.0,859569.0,869372.0,870453.0,872008.0,872859.0,873549.0,875957.0,876309.0,879470.0,879609.0,879645.0,880432.0,889300.0,890196.0,891548.0,896227.0,897553.0,900960.0,901368.0,904713.0,905023.0,906361.0,906372.0,909323.0,920846.0,922918.0,925547.0,928585.0,928704.0,930267.0,931636.0,932432.0,932919.0,933111.0,936041.0,939411.0,940004.0,943119.0,943664.0,947162.0,950825.0,951514.0,952869.0,956340.0,960994.0,961317.0,961789.0,962507.0,963335.0,967211.0,977299.0,984168.0,994999.0,1005072.0,1006579.0,1006704.0,1008972.0,1010630.0,1010999.0,1011277.0,1016391.0,1018753.0,1020152.0,1020154.0,1033764.0,1034342.0,1044608.0,1045028.0,1045672.0,1048056.0,1048396.0,1051751.0,1057862.0,1058423.0,1061608.0,1071023.0,1075761.0,1084758.0,1085076.0,1085330.0,1086568.0,1088318.0,1089328.0,1090694.0,1094217.0,1097006.0,1100740.0,1101187.0,1102647.0,1104214.0,1115596.0,1118396.0,1120660.0,1134047.0,1135106.0,1142057.0,1148562.0,1152562.0,1156785.0,1167616.0,1178354.0,1186255.0,1187250.0,1188153.0,1194578.0,1194593.0,1195181.0,1198270.0,1203517.0,1204024.0,1204024.0,1205719.0,1206538.0,1208037.0,1212736.0,1213867.0,1218268.0,1223879.0,1228300.0,1229745.0,1235556.0,1248957.0,1251200.0,1253037.0,1257676.0,1266475.0,1266882.0,1267276.0,1273223.0,1280387.0,1284173.0,1285807.0,1291584.0,1293718.0,1296777.0,1299714.0,1309077.0,1310018.0,1316713.0,1322089.0,1325826.0,1331141.0,1332052.0,1335282.0,1335899.0,1339489.0,1341953.0,1344472.0,1345404.0,1345420.0,1345689.0,1346386.0,1348450.0,1360604.0,1366364.0,1378069.0,1379849.0,1385264.0,1407319.0,1407324.0,1414209.0,1419701.0,1425150.0,1429951.0,1430388.0,1432027.0,1433436.0,1435374.0,1437698.0,1451335.0,1453590.0,1453787.0,1454316.0,1456270.0,1456270.0,1457290.0,1461872.0,1465011.0,1466906.0,1469736.0,1471735.0,1484533.0,1486176.0,1487029.0,1499121.0,1502125.0,1503148.0,1510897.0,1515048.0,1530735.0,1539948.0,1541386.0,1545582.0,1546801.0,1550802.0,1554691.0,1557335.0,1564007.0,1564007.0,1564078.0,1564431.0,1574015.0,1576038.0,1592794.0,1603229.0,1606273.0,1632584.0,1633059.0,1642556.0,1651459.0,1651599.0,1655085.0,1658204.0,1667301.0,1667322.0,1669551.0,1669884.0,1671725.0,1672442.0,1684678.0,1685445.0,1686249.0,1686785.0,1687552.0,1687706.0,1693263.0,1693731.0,1695814.0,1695867.0,1700683.0,1705786.0,1707883.0,1711823.0,1713463.0,1722365.0,1723190.0,1732100.0,1732512.0,1743151.0,1750656.0,1754969.0,1756737.0,1758063.0,1760155.0,1761493.0,1765945.0,1766202.0,1778635.0,1782074.0,1804121.0,1815767.0,1815856.0,1820413.0,1836457.0,1837300.0,1847672.0,1851336.0,1853171.0,1855644.0,1864630.0,1875721.0,1879805.0,1889320.0,1889567.0,1902823.0,1912405.0,1928710.0,1945140.0,1945769.0,1952077.0,1962673.0,2006133.0,2007038.0,2009963.0,2017263.0,2018720.0,2020370.0,2027462.0,2029047.0,2036446.0,2040877.0,2058438.0,2064594.0,2110850.0,2117474.0,2122433.0,2144508.0,2158052.0,2173854.0,2188598.0,2197690.0,2199261.0,2213038.0,2214491.0,2225959.0,2228510.0,2278082.0,2278698.0,2287752.0,2295412.0,2302755.0,2313225.0,2317183.0,2322280.0,2333380.0,2343365.0,2349546.0,2359142.0,2359653.0,2361410.0,2362949.0,2367294.0,2372539.0,2381931.0,2399810.0,2417577.0,2453529.0,2458686.0,2464907.0,2467290.0,2468059.0,2474364.0,2475429.0,2494758.0,2497202.0,2529301.0,2529954.0,2530836.0,2535222.0,2541347.0,2549580.0,2564092.0,2568894.0,2570601.0,2575482.0,2578373.0,2586478.0,2609123.0,2610708.0,2615459.0,2644603.0,2657361.0,2666406.0,2699810.0,2706505.0,2710713.0,2724499.0,2745019.0,2750006.0,2767666.0,2792013.0,2796778.0,2797148.0,2812807.0,2817800.0,2817851.0,2822656.0,2844014.0,2853191.0,2853947.0,2854238.0,2861258.0,2884100.0,2885013.0,2885056.0,2889074.0,2936679.0,2943450.0,2947659.0,2954971.0,2954979.0,2966344.0,2987298.0,3020492.0,3046581.0,3068118.0,3069097.0,3074914.0,3114396.0,3128517.0,3134189.0,3157064.0,3176730.0,3182375.0,3186890.0,3218250.0,3243901.0,3248506.0,3270832.0,3308580.0,3330650.0,3335591.0,3346948.0,3368446.0,3371830.0,3392295.0,3432799.0,3433953.0,3442343.0,3452285.0,3452571.0,3455728.0,3457355.0,3463977.0,3487219.0,3505369.0,3526040.0,3588950.0,3593833.0,3653854.0,3666465.0,3691767.0,3731583.0,3733933.0,3745331.0,3750968.0,3773387.0,3773387.0,3776936.0,3779069.0,3854528.0,3863719.0,3921128.0,3927439.0,3934199.0,3989464.0,4012930.0,4043624.0,4056267.0,4087572.0,4098562.0,4098623.0,4154143.0,4181136.0,4195072.0,4231789.0,4235793.0,4271973.0,4282206.0,4288625.0,4288833.0,4290144.0,4309217.0,4341289.0,4357193.0,4364168.0,4382539.0,4416622.0,4418714.0,4435209.0,4452337.0,4502356.0,4526546.0,4543326.0,4562145.0,4573945.0,4584546.0,4613023.0,4613254.0,4676492.0,4695664.0,4696990.0,4782514.0,4783245.0,4795109.0,4801805.0,4820297.0,4849924.0,4876825.0,4981769.0,4984442.0,4991078.0,5028230.0,5054426.0,5093587.0,5132684.0,5156616.0,5210940.0,5231674.0,5249373.0,5281537.0,5283664.0,5301271.0,5323008.0,5351715.0,5351960.0,5370346.0,5399988.0,5423172.0,5434925.0,5451348.0,5464252.0,5533307.0,5547667.0,5578536.0,5637132.0,5646817.0,5656681.0,5683239.0,5750667.0,5833454.0,5847791.0,5850945.0,5884330.0,5903244.0,5923959.0,5937790.0,5992730.0,6037721.0,6055668.0,6058858.0,6091315.0,6100867.0,6123730.0,6134948.0,6149318.0,6170029.0,6216027.0,6224649.0,6225136.0,6281449.0,6301646.0,6312772.0,6315803.0,6329576.0,6340958.0,6366422.0,6383519.0,6478696.0,6599382.0,6644534.0,6701666.0,6734947.0,6742766.0,6897438.0,6968660.0,7001236.0,7004107.0,7009241.0,7073338.0,7108897.0,7132206.0,7178954.0,7188648.0,7209027.0,7308863.0,7320107.0,7367727.0,7370713.0,7428280.0,7433726.0,7497071.0,7510904.0,7544821.0,7549484.0,7556654.0,7569833.0,7571701.0,7715681.0,7755963.0,7783157.0,7795119.0,7825074.0,7846143.0,7892369.0,7906241.0,7958011.0,7975584.0,7989628.0,8097268.0,8122555.0,8186585.0,8295441.0,8324871.0,8339001.0,8378324.0,8445210.0,8496353.0,8596384.0,8620346.0,8639567.0,8705503.0,8830062.0,8946712.0,8947796.0,9024180.0,9033159.0,9090985.0,9147428.0,9224408.0,9253680.0,9277945.0,9444655.0,9450554.0,9493733.0,9552698.0,9618335.0,9629509.0,9734303.0,9736125.0,9769103.0,9803295.0,9826182.0,9897790.0,9904507.0,9914057.0,10008290.0,10097646.0,10106841.0,10125075.0,10155588.0,10275325.0,10280971.0,10330078.0,10331666.0,10338163.0,10450206.0,10608521.0,10730641.0,10786819.0,10792977.0,10817160.0,10909239.0,10963984.0,11034311.0,11118461.0,11123363.0,11181957.0,11184537.0,11188525.0,11235146.0,11422924.0,11440455.0,11563268.0,11666184.0,11745320.0,11792862.0,11805668.0,11814893.0,11829970.0,12244410.0,12272628.0,12382988.0,12550897.0,12867358.0,12964069.0,13048900.0,13176819.0,13278916.0,13545273.0,13590001.0,13637506.0,13829574.0,13844095.0,13966109.0,14073219.0,14118968.0,14269018.0,14286302.0,14296001.0,14322764.0,14694097.0,14800155.0,14835017.0,14914811.0,15014572.0,15040548.0,15110047.0,15397832.0,15666598.0,15836037.0,16099483.0,16209382.0,16294784.0,17069314.0,17069830.0,17103736.0,17282158.0,17321080.0,17716356.0,17975269.0,18116954.0,18380002.0,18492610.0,18496859.0,18565979.0,18609928.0,19097087.0,19210396.0,19256162.0,19469009.0,20026987.0,20548194.0,20647398.0,20779962.0,21485819.0,21747698.0,22100487.0,22439610.0,22529756.0,23169378.0,23222262.0,23535618.0,23568994.0,23717752.0,23836066.0,23836066.0,23925458.0,23973948.0,24994827.0,25367316.0,26160434.0,26260197.0,26355125.0,26826274.0,27922929.0,28325416.0,28574258.0,29657435.0,29905105.0,29905105.0,31518906.0,31667627.0,31858250.0,32300300.0,32791832.0,33227408.0,33779197.0,34484565.0,35490831.0,35695760.0,35771194.0,36467409.0,36868871.0,37037129.0,37550877.0,37780348.0,38289391.0,38478475.0,39581966.0,41739024.0,42252029.0,42257995.0,44424347.0,44943014.0,45665114.0,46251795.0,47276202.0,48018833.0,49183640.0,49429306.0,50348575.0,50358797.0,52046148.0,52061447.0,54244089.0,54583132.0,57369066.0,58590655.0,58921922.0,61197670.0,63310479.0,65067408.0,66368842.0,66839006.0,66999237.0,68512549.0,69330547.0,71968133.0,75785129.0,78137822.0,79882619.0,79941868.0,84410562.0,84747957.0,85522922.0,86169225.0,91053784.0,92621700.0,93319974.0,93963115.0,94340456.0,94508185.0,94900199.0,97578090.0,98559845.0,98750169.0,99698731.0,106014469.0,106151957.0,107126467.0,110124989.0,116842899.0,122994457.0,125670049.0,134377650.0,136439525.0,145167323.0,147339243.0,153478497.0,156000008.0,160818375.0,161103805.0,168546247.0,180766617.0,191988678.0,193685278.0,208293677.0,239207161.0,250793774.0,285526909.0,302125099.0,308501014.0,321977550.0,378164492.0,425478119.0,434352213.0,524709805.0,826423766.0,915457091.0,1582262997.0,4034122271.0],\"xaxis\":\"x\",\"y\":[106165.17324114499,106165.38372998683,106168.36380885287,106169.83723074573,106170.08095466786,106171.65408180161,106172.5237330692,106173.26044401564,106173.89191054115,106173.98607660197,106175.85831945833,106177.22649693028,106177.32620217116,106177.35943725145,106177.60870035362,106177.69178805435,106178.25124523924,106178.72207554335,106179.13751404698,106179.14859240707,106179.36462042897,106179.42001222944,106179.77451975255,106180.22319333647,106180.31182021723,106180.45029971845,106180.4669172586,106180.6164751199,106180.80480724154,106181.34210770624,106181.56921408822,106183.374986784,106184.20586379126,106184.61022393478,106185.07551505885,106185.93408796635,106186.53785859163,106187.59584198087,106187.82294836285,106187.91157524363,106188.55965930929,106189.22990009515,106189.31852697591,106189.70626957931,106190.73101788826,106191.19630901232,106191.65606095635,106192.45924206336,106192.59772156457,106192.91899400737,106193.33997169105,106194.8798637445,106196.40313825781,106197.88763851077,106198.08704899251,106199.15611074185,106199.25581598273,106200.42458297293,106200.72369869555,106201.44379210184,106201.65428094368,106201.76506454466,106201.81491716509,106202.19712058842,106202.79535203365,106204.08598098492,106204.32416572701,106204.7119083304,106205.60925549823,106205.93052794103,106206.50660266608,106206.66723888747,106208.07972979982,106208.328992902,106209.15986990926,106209.28727105036,106209.702709554,106210.09599133742,106212.12887041518,106213.19239298448,106214.1229752326,106214.15067113285,106215.1643410817,106215.43576090407,106216.24448119114,106216.3774215123,106217.1085932787,106217.83976504508,106217.88961766551,106218.12780240759,106219.20794251702,106220.19391656564,106221.00817603276,106221.0247935729,106221.14111635392,106221.23528241474,106222.13816876263,106222.30434416408,106222.37081432466,106222.9247323295,106223.21276969202,106223.2460047723,106223.49526787449,106223.59497311535,106223.98271571874,106224.14335194015,106224.50893782334,106227.2397535872,106227.58872193024,106228.44729483774,106229.45542560655,106229.52189576713,106229.56067002747,106230.09243131212,106230.6629668571,106231.73202860644,106233.02265755771,106233.10574525844,106234.03078832652,106234.07510176691,106234.34652158928,106235.19401613668,106237.28228701492,106238.06331140175,106238.06331140175,106239.7527613165,106240.31775768145,106242.45034200007,106242.5334297008,106244.04008667397,106244.045625854,106244.44444681749,106244.47214271773,106245.55782200722,106245.55782200722,106245.86801608992,106246.57703113613,106246.90384275898,106247.44114322367,106249.10289723819,106249.94485260555,106250.28274258849,106250.48215307023,106251.34626515779,106251.93895742296,106252.47625788765,106254.10477682189,106254.29864812357,106254.34296156396,106255.00766316977,106255.36217069287,106255.85515771717,106256.15981261984,106258.57489512094,106260.00400357341,106260.06493455396,106260.25880585564,106260.28096257584,106260.63547009893,106261.51619972663,106263.42721684332,106265.59303624225,106265.93646540525,106266.4128348894,106267.68130712048,106267.70346384068,106269.3762962153,106270.2348691228,106271.0934420303,106271.49780217382,106271.51441971397,106272.06833771881,106273.18725208858,106273.72455255328,106274.11783433672,106274.46126349972,106275.39184574784,106275.63556966998,106276.23934029524,106279.14187064061,106280.58759663324,106280.78700711498,106281.42401282054,106281.97793082538,106281.98900918548,106282.0720968862,106282.2659681879,106283.19655043603,106286.16555094197,106286.68623386651,106289.80479223376,106290.18145647705,106291.66041754997,106292.2475706351,106292.62977405843,106293.18369206328,106293.40525926522,106293.68221826763,106293.75976678831,106294.91745541841,106296.05298732834,106296.66229713366,106296.78969827478,106296.97249121637,106297.47101742073,106298.0415529657,106301.36506099475,106301.57554983658,106301.77496031832,106302.36211340345,106302.75539518689,106304.15126855909,106304.62763804324,106305.1261642476,106305.26464374881,106305.34773144954,106305.6523863522,106306.80453580226,106307.10365152487,106307.64095198957,106308.30565359538,106311.81749374606,106312.98072155622,106313.42385596009,106315.93864370206,106316.02173140278,106316.6864330086,106317.71672049758,106318.337108663,106320.39214446096,106321.34488342928,106322.26992649736,106324.33604065541,106325.07275160185,106325.97563794974,106326.66803545579,106329.83090726341,106329.99154348482,106330.45683460889,106332.26814648471,106332.40108680587,106333.02701415135,106333.1599544725,106333.35936495425,106333.45353101507,106333.78588181797,106334.71092488605,106336.03478891762,106338.35016617784,106338.64928190045,106339.23643498558,106339.57432496853,106340.38858443566,106341.38563684435,106342.58763891486,106343.18587036009,106345.63972712152,106347.41780391705,106347.76123308006,106347.98280028198,106349.19034153254,106350.48650966387,106353.86540949339,106355.29451794586,106356.99504622072,106357.32739702362,106357.7372963472,106358.57925171456,106358.57925171456,106358.65126105519,106360.50134719136,106360.97217749547,106361.76428024238,106362.06893514504,106363.11030099414,106364.15720602329,106365.20965023249,106366.1623892008,106366.71630720564,106367.0652755487,106367.5471842129,106367.68566371412,106369.69638607168,106371.86774465065,106371.93421481123,106373.9227804486,106374.58194287436,106374.8035100763,106374.87551941692,106374.997381378,106375.2964971006,106378.40397710775,106378.62554430969,106379.33455935588,106381.33420335334,106382.13184528031,106382.7023808253,106383.32830817076,106386.29176949666,106387.83720073015,106387.93136679097,106388.12523809267,106392.45687689052,106395.00489971277,106396.21244096333,106397.1264056713,106397.26488517251,106398.73830706539,106398.8767865666,106399.1980590094,106401.2697123475,106402.79852604086,106402.93146636202,106403.47430600676,106404.5212110359,106406.49315913313,106407.33511450049,106413.23988043207,106414.3310989016,106414.97364378722,106415.1675150889,106415.48324835167,106417.53274496958,106418.61288507901,106419.12802882351,106420.19709057285,106420.29125663367,106422.2521263708,106422.57893799365,106424.61181707142,106427.7580713389,106428.80497636805,106429.23149323177,106429.86849893733,106430.5055046429,106431.19790214895,106436.0003712509,106436.3659571341,106438.0831029491,106439.72823942346,106442.81356271042,106446.0041304183,106447.20613248879,106447.62711017247,106449.02298354467,106449.31102090719,106451.4989970263,106451.6707116078,106452.43511845448,106452.43511845448,106454.86127931566,106456.92185429367,106458.10723882403,106458.3565019262,106459.09321287264,106459.22061401376,106459.75791447844,106459.78007119863,106461.89049879707,106463.95661295512,106464.31665965827,106467.147180663,106467.45183556566,106469.22991236119,106470.12172034898,106470.27127821029,106470.76980441464,106471.34033995963,106472.6752823513,106473.25135707633,106474.27610538527,106475.59443023679,106475.78830153849,106479.01210432664,106480.52430047985,106480.7347893217,106482.95046134105,106483.04462740188,106483.23849870356,106484.60113699548,106485.47632744312,106485.52064088351,106486.58416345279,106488.13513386635,106489.40360609743,106489.74703526043,106491.01550749151,106492.82681936733,106493.13147426999,106495.99523035501,106500.31025161271,106502.01077988755,106503.39557489965,106504.00488470498,106505.57247265868,106509.51082967308,106510.83469370464,106512.97835638338,106517.32107354132,106517.60357172378,106517.74205122498,106518.82219133442,106518.9108182152,106521.58070299852,106521.73026085983,106523.43632831472,106524.40014564316,106524.84881922707,106525.10916068935,106525.39719805187,106525.84033245573,106528.58222657969,106529.20815392515,106532.05529247003,106532.166076071,106532.71999407583,106533.42900912203,106534.12694580812,106535.53943672046,106537.68863857923,106538.61922082737,106539.58857733583,106547.17725400213,106552.50594520869,106553.77995661981,106553.80765252004,106555.45278899443,106556.99822022792,106561.34647656592,106561.5181911474,106561.92809047099,106565.57287094284,106566.14894566787,106566.71948121284,106568.75789947066,106574.18075673803,106576.33549777685,106578.18004473297,106582.14055846757,106583.14868923638,106583.71922478135,106588.07855947944,106589.5741380925,106590.59888640145,106592.15539599505,106593.46264248647,106594.33229375407,106597.30129426,106597.36776442059,106599.43387857864,106599.97117904334,106601.74925583886,106604.09786817938,106605.57129007226,106606.73451788242,106611.0606175002,106620.89820126614,106622.54887692057,106623.92259357257,106624.08876897402,106624.24386601537,106625.19106580365,106625.45694644598,106626.04963871115,106626.7420362172,106629.25682395916,106629.78304606376,106632.90160443101,106633.45552243585,106636.15310311942,106636.92304914613,106637.51574141132,106637.85363139426,106638.65127332123,106645.04902627712,106646.14024474665,106647.94601744243,106649.2809598341,106649.6243889971,106650.08414094111,106651.87883527679,106653.85078337402,106656.84747978019,106657.91100234949,106660.71382745398,106663.47787829812,106668.69024672365,106674.26266185234,106678.84910293239,106679.29777651632,106679.61904895912,106683.3026036913,106683.68480711464,106686.7590520415,106693.30082367864,106695.83222896076,106695.83222896076,106703.08855482415,106703.23811268546,106704.73923047858,106705.30976602355,106707.48666378258,106707.57529066334,106713.25848939299,106714.76514636616,106716.56537988188,106717.7009117918,106720.98010638045,106722.1987259911,106724.37562375011,106725.90443744347,106729.95357805885,106733.60943689078,106736.94402327991,106738.3398966521,106742.4721249682,106752.89132263922,106753.87729668783,106755.49473726196,106756.00988100647,106757.53869469982,106762.74552394531,106762.80645492584,106763.02802212778,106763.57086177252,106765.3877128284,106768.10745023214,106768.26808645355,106770.81610927581,106771.98487626603,106774.71015284983,106780.03330487633,106783.10201062314,106785.64449426535,106787.73830432365,106791.40524151568,106794.62350512379,106801.60287198477,106805.66863014028,106811.3019762495,106816.96855743899,106821.55499851906,106826.89476808571,106829.06058748462,106831.75816816819,106838.84277945009,106839.1086600924,106845.37901190718,106854.34140522548,106859.13279596734,106861.1656750451,106863.99619604982,106864.14575391113,106864.23438079191,106868.96484055322,106871.23590437307,106872.65393446546,106872.95858936812,106874.95823336559,106876.95233818301,106877.08527850416,106880.86853847721,106882.86264329463,106886.71237342826,106890.7338181434,106894.63340089747,106894.8771248196,106895.89079476845,106896.6053489947,106898.43881759071,106899.43586999942,106899.78483834247,106901.52414087766,106905.66744755386,106906.91376306475,106913.13426225909,106913.19519323962,106916.21404636599,106921.27685693021,106926.14579619275,106928.28391969143,106931.04797053558,106933.8895699004,106943.8822507077,106945.59385734265,106947.75413756153,106950.37416972441,106951.81989571704,106960.48871249276,106962.44958222989,106970.96884114432,106972.04344207371,106974.19818311253,106978.04237406612,106978.30271552839,106987.50329358876,106990.32827541344,106992.3833112114,106992.566104153,106996.1277969241,106999.41806987285,107002.88559658315,107003.3619660673,107004.18176471446,107012.88381657048,107014.71728516651,107020.6220510981,107023.05929031938,107026.72068833136,107029.20778017309,107030.77536812678,107032.52574902207,107036.35332243552,107037.59409876635,107038.18679103153,107048.24594199941,107050.62225024017,107074.11945200543,107075.29375817569,107078.27383704172,107078.66711882516,107082.45037879821,107084.46110115577,107093.25731907263,107094.8581421066,107095.4065209314,107104.26920900882,107108.38481978477,107111.33166357051,107111.82465059482,107120.61532933162,107127.28450210988,107131.5219748469,107140.76686634765,107145.02095662482,107157.54504271424,107160.58051338074,107164.28068565307,107165.69317656542,107172.20725230231,107172.78332702735,107179.23647178372,107184.75903429197,107186.87500107045,107198.46850491173,107201.21039903568,107204.56160296495,107205.8023792958,107206.15688681889,107209.11480896473,107211.24739328337,107212.30537667261,107217.23524691568,107218.06612392294,107219.79434809803,107220.19870824156,107227.32209378379,107227.61567032636,107232.6563241704,107233.89710050123,107237.4421757322,107245.97805218677,107248.59808434965,107253.39501427156,107254.74103502333,107255.15093434691,107261.81456794511,107266.46747918577,107269.51956739243,107269.63589017343,107275.37448070357,107277.56245682269,107289.12272558367,107289.95360259093,107294.20215368805,107303.25871306716,107305.79011834928,107308.42122887226,107321.06717692273,107322.04207261125,107329.32609437489,107341.52890802149,107344.73055408946,107358.6671310912,107364.16753687926,107373.58414296152,107404.14933846853,107417.73140794718,107418.31856103231,107428.49403478121,107432.133276073,107438.29838346686,107438.64735180991,107444.28069791912,107446.3855863375,107447.2884726854,107463.71768070891,107466.84731743626,107468.37059194957,107479.55419646726,107485.63621616039,107494.0169955736,107495.7341413886,107496.808742318,107496.91398673892,107496.93060427906,107529.92749982732,107555.92841097446,107563.81066418331,107574.75608395893,107575.4263247448,107581.43633509729,107582.17304604372,107589.1745696249,107589.70633090954,107593.30125876094,107596.86295153205,107599.6491590964,107604.39623639786,107614.71018964797,107615.68508533649,107621.61200798827,107631.85949107778,107637.93597159086,107639.58110806523,107647.90095649792,107654.77507893796,107659.04024757523,107659.77695852166,107662.18650184272,107667.99710171348,107668.45131447744,107679.16408869103,107682.2161768977,107683.88347009226,107693.42747731564,107695.07261379,107698.83925622291,107706.25621830771,107706.44455042935,107708.16169624435,107718.04913263072,107726.19172730186,107729.74234171287,107730.63414970067,107733.57545430637,107742.82034580712,107747.07443608428,107750.50318853423,107754.6077209501,107759.64837479412,107762.04683975509,107764.31790357492,107764.7278028985,107773.34122787375,107786.03702854466,107789.19436117224,107790.11386506027,107800.99835385536,107809.06893918586,107811.77759822953,107815.52208394224,107840.12158253713,107842.98533862215,107849.150446016,107853.46546727371,107858.76092339997,107870.75878738478,107877.18423624091,107880.61852787092,107886.26849152027,107888.11303847638,107894.31692013057,107900.37678310352,107903.48980229071,107906.76345769932,107923.01541196129,107926.77651521414,107927.41352091971,107928.81493347195,107934.1768597588,107934.74185612373,107937.33419238638,107942.88445079485,107954.58319905706,107960.16669254584,107966.37611338007,107966.97988400536,107977.15535775425,107978.91127782958,107984.59447655923,108001.84348322992,108002.48048893549,108006.09757350708,108038.45192416973,108041.9526859603,108076.44516012163,108109.76886729275,108114.74305097619,108124.70803588325,108136.53418528655,108140.7384229433,108171.4864113919,108185.31220479267,108194.85067283601,108199.02167541244,108202.23993902055,108203.54718551198,108214.51476200779,108223.18911796357,108238.02304213315,108239.5961692669,108255.98106385003,108261.96337830229,108273.51810788324,108290.60647833251,108292.27377152708,108293.6031747387,108298.94294430534,108301.54635892808,108305.15236513958,108305.57334282326,108308.41494218809,108320.0582986498,108320.40726699286,108327.24261517257,108335.26334788263,108338.13264314769,108345.90965193564,108369.9663108858,108382.5347104156,108386.06870728647,108390.00152512082,108392.39445090172,108412.78417265984,108413.1109842827,108413.88093030943,108426.27761525773,108433.62810718194,108441.72084923263,108453.70763485735,108489.85632385314,108493.81683758774,108519.5906423529,108519.73466103415,108523.8945852505,108524.06076065195,108526.99098689754,108529.57224480009,108535.49916745187,108554.75335730007,108579.35839507502,108589.31230162198,108593.17864929575,108597.3053384318,108608.1565921466,108608.82683293245,108623.92663774436,108624.6301136105,108629.70954171488,108643.93969525919,108658.03136930229,108667.87449224829,108673.93435522122,108684.95732351752,108701.74103906413,108710.03873077662,108721.18356103399,108729.35939078541,108731.76893410645,108738.29962738352,108749.02901913723,108756.45705958213,108769.13070353285,108785.74270449797,108792.64452283827,108799.10874595473,108832.94205769029,108836.4095844006,108837.09090354654,108853.01050700562,108871.33965378573,108875.53281308236,108895.71758517869,108907.28893229978,108920.54419015558,108931.6391677925,108935.16208630327,108946.92730472605,108959.41261655513,108973.9695817223,108978.02980069777,108984.30569169259,108993.29578091112,109006.51226450659,109010.7718939638,109012.1566889759,109016.37200499272,109019.90046268354,109038.70597894782,109047.46342260433,109047.79577340723,109073.55296063224,109075.80740691193,109086.28753556349,109105.02658166719,109105.7245183533,109121.3616236299,109122.66333094126,109123.58837400934,109139.96219023239,109178.05513142516,109182.56402398455,109183.2453431305,109183.30627411103,109208.98037363532,109209.17978411706,109224.08017844723,109265.20305112647,109277.61635361491,109299.45180136566,109301.00277177921,109302.99687659663,109315.80900004855,109342.61309230272,109342.89559048519,109357.32515451124,109363.5013402652,109367.60587268106,109367.67234284163,109368.83557065179,109378.2909509944,109417.74099129903,109427.6505844056,109429.98811838601,109432.63584644915,109442.68391905693,109445.1876284388,109449.75745197872,109455.24677940668,109457.96651681043,109464.21471190502,109470.15271291688,109471.38241088763,109500.38001844095,109515.28041277111,109518.74793948141,109532.01981487735,109532.8839269649,109533.83666593322,109534.64538622029,109542.83783351186,109545.64065861634,109564.74529060324,109584.6475645171,109591.38320745595,109593.82044667723,109595.93087427567,109603.14842587872,109605.38071543822,109608.47157790522,109613.45683994878,109668.43874110909,109674.21610589956,109694.33440783531,109703.29680115361,109705.06379958904,109710.77469421894,109748.40234428765,109749.53233701752,109760.59407957415,109777.93171312561,109797.8727612998,109809.80969430409,109837.4668202857,109852.15118659398,109863.91640501676,109903.86497152575,109915.50832798747,109926.27649400153,109928.64726306224,109937.2274529572,109982.44931887226,109984.26616992812,109985.75067018109,109995.78212524872,110004.53402972518,110034.25726986484,110048.02767146514,110054.5029729417,110075.37460336403,110085.73840923457,110089.23917102515,110115.63890313578,110130.50606238566,110144.71959838983,110149.20079504896,110153.65983498792,110254.06855172508,110256.97108207043,110261.29718168823,110269.35668865863,110276.61301452202,110282.5177804536,110292.00085669645,110298.57032423385,110303.41156759614,110306.70737972493,110312.08038437186,110317.94637604311,110336.17581758236,110350.671851769,110374.01949567295,110376.19085425192,110383.53026781604,110388.95312508341,110414.48320592644,110461.88196960051,110463.62681131576,110501.84715364965,110523.06775241502,110528.06409281868,110546.75882548199,110549.98262827015,110558.86747306777,110570.8210236122,110578.37646519819,110598.39506189308,110609.51773543024,110628.10722367265,110629.58064556551,110641.88316445299,110645.05157544067,110652.1528042627,110662.65508963444,110715.36038779488,110730.96425799119,110773.7765805852,110786.92659402007,110811.2325160724,110840.18581018533,110858.01089158106,110865.05118942255,110897.00671912171,110903.20506159586,110904.4679946469,110906.34023750325,110910.05148813566,110920.69225300863,110921.70038377744,110926.34221665798,110980.64279867234,110986.63065230465,110995.2440772799,110999.95791950109,111003.77995373447,111017.11829929099,111019.06809066802,111036.57743880099,111037.3473848277,111037.54679530945,111041.90613000754,111091.02757867666,111095.99068400002,111103.47965542544,111129.39747887185,111136.74243161602,111155.61441804087,111157.87440350062,111176.40296076248,111178.12010657748,111185.53152948224,111185.59246046277,111201.93858078556,111265.76655248315,111277.24373354342,111291.80623789063,111308.63426687763,111309.2934293034,111317.95116771903,111325.53430520528,111329.9434925238,111332.64107320736,111333.70459577665,111349.93439331843,111368.6014300815,111371.8861638502,111389.14070970094,111392.1595628273,111411.53561463658,111431.82563115383,111435.64212620717,111443.14771517273,111462.3742091207,111488.1535530659,111489.94270822153,111492.55720120437,111496.53433247912,111501.12077355917,111522.59063542674,111578.4698837549,111616.51851150728,111676.51337061138,111732.30953123882,111740.65707557174,111741.34947307779,111753.91233342754,111763.09629394776,111765.14025138562,111766.68014343908,111795.00751020655,111808.09105348084,111815.84036636853,111815.85144472863,111891.2396851872,111894.44133125518,111951.30655363195,111953.63300925227,111957.20024120343,111970.4056464388,111972.28896765524,111990.87291671759,112024.72284599331,112027.83032600045,112045.47261445457,112097.62399461016,112123.86862967943,112173.7046325748,112175.46609183018,112176.87304356247,112183.73054846238,112193.42411354705,112199.01868539593,112206.58520534204,112226.09973665251,112241.54850980747,112262.23180810815,112264.70782158978,112272.79502446043,112281.47491959626,112344.52186690703,112360.03157104252,112372.57227467207,112446.72527797986,112452.59126965111,112491.09411016747,112527.12647638224,112549.2831965758,112572.67515392015,112632.67001302425,112692.14972838387,112735.9147899462,112741.42627409434,112746.42815367803,112782.01738548894,112782.10047318967,112785.35751105812,112802.4680382276,112831.53211594149,112834.34048022602,112834.34048022602,112843.72939040804,112848.26597886768,112856.56920976022,112882.5978168076,112888.86262944233,112913.24056083529,112944.32090008681,112968.80961508073,112976.81373025065,113009.00190551185,113083.23245734032,113095.65683818885,113105.83231193775,113131.52856818223,113180.267813428,113182.5222597077,113184.70469664676,113217.64620039453,113257.3288862612,113278.30022192441,113287.35124212348,113319.35108526301,113331.17169548628,113348.11604725431,113364.38461905642,113416.2479618495,113421.46033027503,113458.545140699,113488.32377263914,113509.02368847998,113538.46443043716,113543.51062346125,113561.40217501755,113564.8198491074,113584.70550548112,113598.35404512036,113612.30723966224,113617.46975546735,113617.55838234813,113619.04842178113,113622.90923027486,113634.34209789474,113701.66529220287,113733.57096928159,113798.40707174799,113808.26681223413,113838.26147219616,113960.42808816339,113960.45578406363,113998.5930386968,114029.01421552255,114059.19720760622,114085.79081101854,114088.2114326997,114097.290148799,114105.09485348719,114115.82978442096,114128.70283885342,114204.24063717331,114216.73148818243,114217.82270665196,114220.75293289755,114231.5764907121,114231.5764907121,114237.22645436147,114262.60697734318,114279.99446351509,114290.49120970679,114306.16708924373,114317.23991016045,114388.13033641974,114397.23120923925,114401.95612982052,114468.93589496566,114485.57559183102,114491.24217302052,114534.1652792155,114557.15841559635,114644.05153301544,114695.08399880126,114703.04933971084,114726.29173919388,114733.04399967287,114755.20625904648,114776.74813025467,114791.3937223026,114828.35113158546,114828.35113158546,114828.7444133689,114830.69974392597,114883.78724550974,114894.99300674764,114987.80750763846,115045.6088514434,115062.47011551069,115208.21148176388,115210.84259228686,115263.44818520642,115312.76350517722,115313.538990384,115332.84857203269,115350.12527460362,115400.51519550382,115400.63151828483,115412.9783506127,115414.82289756881,115425.02052803789,115428.99212013259,115496.76952720468,115501.0180783018,115505.4715790607,115508.44057956664,115512.68913066376,115513.54216439121,115544.3233879201,115546.91572418275,115558.45383622355,115558.74741276611,115585.42410387917,115613.69053966609,115625.30620022757,115647.13056961822,115656.21482489757,115705.52460568835,115710.09442922827,115759.44852345942,115761.73066563935,115820.66200217417,115862.23354843733,115886.12403198604,115895.91730231159,115903.26225505576,115914.85021971699,115922.26164262173,115946.92207219717,115948.3456414696,116017.21426701122,116036.26350719764,116158.38580972448,116222.89510056803,116223.38808759234,116248.63013107284,116337.50073576921,116342.17026455,116399.62264001189,116419.9181957092,116430.08259109799,116443.78098335766,116493.5560552725,116554.99110118918,116577.6131125068,116630.31841066723,116631.68658813919,116705.11395886063,116758.1903820843,116848.50671277329,116939.51544096833,116942.99958521877,116977.94073296401,117036.63388475675,117277.36664965976,117282.37960760355,117298.5817092451,117339.01772359834,117347.08830892884,117356.22795600869,117395.51182091187,117404.29142128857,117445.2758144666,117469.819921261,117567.09346209078,117601.19265446867,117857.41296678697,117894.10449542751,117921.57328928748,118043.85068885567,118118.87334343107,118206.40346655571,118288.07313718917,118338.43536218914,118347.13741404515,118423.45069757181,118431.49912618213,118495.02244297706,118509.1528912805,118783.74112463927,118787.15325954907,118837.30499570719,118879.73511487785,118920.40931397318,118978.40452907982,119000.32860371136,119028.56180441799,119090.04670295512,119145.35541573829,119179.59308761738,119232.74705936173,119235.57758036646,119245.30991971148,119253.83471780595,119277.9024551162,119306.95545447001,119358.97943348448,119458.01443356964,119556.42904548938,119755.57364658908,119784.13919809862,119818.59843717965,119831.79830323497,119836.05793269217,119870.98246289727,119876.88168964881,119983.94850080414,119997.4862568424,120175.28839721566,120178.90548178725,120183.79103858993,120208.08588228218,120242.01336007856,120287.61742941695,120368.00201027918,120394.60115287155,120404.05653321414,120431.09327103033,120447.10704055023,120492.00209484244,120617.43682703821,120626.21642741491,120652.53307182482,120813.96693515507,120884.63579421243,120934.73767775012,121119.76844808651,121156.85325851048,121180.16212815412,121256.5252643012,121370.18923889416,121397.81312979548,121495.63504945004,121630.49746608819,121656.89165901876,121658.94115563667,121745.6791760144,121773.33630199601,121773.61880017848,121800.23456031099,121918.54036778449,121969.37342308856,121973.56104320515,121975.17294459922,122014.05798853893,122140.58393920424,122145.64121058842,122145.8793953305,122168.13582076493,122431.82848696852,122469.33427507617,122492.64868389984,122533.15116841366,122533.19548185405,122596.148263104,122712.21624183794,122896.0837843642,123040.59545264664,123159.8927733488,123165.31563061617,123197.53704095766,123416.23494762817,123494.45370909148,123525.87193832594,123652.58068193286,123761.51419676449,123792.78286813764,123817.79226605613,123991.50095237362,124133.58645979487,124159.0943839177,124282.76211767805,124491.85508614466,124614.10478981261,124641.47387843172,124704.38234624127,124823.46363892156,124842.2082242053,124955.5675438956,125179.92649257557,125186.3187063514,125232.7924269574,125287.86295499849,125289.44716049233,125306.93435190509,125315.94659784382,125352.62704812425,125481.36867080894,125581.9047886872,125696.40517946746,126044.87499631166,126071.92281248794,126404.38993817233,126474.24453776257,126614.39687134692,126834.9448641536,126847.96193726732,126911.09751145887,126942.32186939164,127066.50474689649,127066.50474689649,127086.16329688822,127097.97836793144,127515.95935520287,127566.86995902762,127884.8687464256,127919.826511711,127957.27136883812,128263.39415421236,128393.37655322788,128563.39614563315,128633.42799898493,128806.83203039978,128867.70761913157,128868.04550911453,129175.58078540112,129325.0998724473,129402.29388560166,129605.67595943838,129627.85483635213,129828.26237050287,129884.94479993804,129920.50079666865,129921.65294611872,129928.91481116216,130034.56359222508,130212.21617473704,130300.31129422663,130338.94707506415,130440.70735173312,130629.49922532238,130641.0871899836,130732.4559648818,130827.3310407506,131104.395287591,131238.38805296156,131331.33549417352,131435.57732350417,131500.93964807517,131559.66049576816,131717.39972600614,131718.6792765973,132068.96594449738,132175.1631043851,132182.50805712928,132656.24089158775,132660.2900322031,132726.0068642972,132763.09721390123,132865.52773135604,133029.6370186497,133178.6465011314,133759.95021212962,133774.75644039895,133811.51443920008,134017.30605635783,134162.41041690545,134379.33024678045,134595.89556913232,134728.45922605039,135029.3696429991,135144.2190021224,135242.25694979887,135420.41913687528,135432.20097283818,135529.7293159502,135650.13447266203,135809.14771431114,135810.504813423,135912.3481777927,136076.54055278708,136204.96090302893,136270.06288613766,136361.03284007235,136432.51041941677,136815.0184976583,136894.5611231532,137065.55007206692,137390.12386618237,137443.77082495103,137498.40929694835,137645.51884067347,138019.01467297628,138477.58677164232,138557.00199599608,138574.4725698687,138759.39809578418,138864.16614721942,138978.91026192182,139055.5226611711,139359.84521302962,139609.05846258672,139708.47012691517,139726.14011126952,139905.9252781001,139958.83552592233,140085.47779936867,140147.6163211515,140227.21433844685,140341.93629642905,140596.72750029486,140644.48631067207,140647.18389135564,140959.1117374206,141070.98655685794,141132.61547407633,141149.404728803,141225.69585560946,141288.74280292023,141429.79248367244,141524.49584495975,142051.6983844253,142720.19986774528,142970.30492529017,143286.76935981476,143471.1188110052,143514.42965980357,144371.1857162481,144765.6971976545,144946.14152691083,144962.04451282974,144990.4826631982,145345.52748675982,145542.4951901005,145671.60793784843,145930.55352675053,145984.25033813962,146097.13328834577,146650.14286765677,146712.42540812085,146976.2011620252,146992.74115364967,147311.61513149532,147341.78150603885,147692.66086620407,147769.28434381346,147957.1567135147,147982.98591008032,148022.70183102728,148095.702684885,148106.0498732154,148903.58101658255,149126.71026729175,149277.34272952768,149343.60240126651,149509.52853961603,149626.23352405554,149882.2876609724,149959.12716660366,150245.8905177088,150343.23052869915,150421.02277329873,151017.2601137074,151157.329359591,151512.0030580894,152114.9760414369,152277.994110261,152356.26272434474,152574.07990138757,152944.57349810415,153227.86378331896,153781.9535027394,153914.68333505891,154021.15191476903,154386.38329043964,155076.338018087,155722.48337073164,155728.4878419041,156151.5925707203,156201.32886837478,156521.63749385296,156834.2854333242,157260.69151344924,157422.83439182572,157557.24259569988,158480.6793015669,158513.35492467234,158752.53117998177,159079.14893153508,159442.7240923712,159504.6188902319,160085.09172422288,160095.18411027102,160277.8551899068,160467.25083412137,160594.02604788885,160990.67565279393,161027.88232517897,161080.7814946411,161602.75504814097,162097.7140205449,162148.64678108983,162249.64819009215,162418.66519090868,163081.9099923627,163113.1842029159,163385.19671755217,163393.99293546902,163429.98098824342,164050.60733840513,164927.5426277659,165603.98729527526,165915.1673520337,165949.27762277168,166083.2316138819,166593.27377355756,166896.51618530665,167286.07010056975,167752.19210164173,167779.34516223893,168103.90787799426,168118.19896251912,168140.28921255207,168398.53132558806,169438.66747671456,169535.77484214288,170216.05816142575,170786.1284152858,171224.47696759517,171487.8206654557,171558.7554051554,171609.85434110177,171693.36855869135,173989.02633794595,174145.3309205514,174756.63483069168,175686.71301343673,177439.64747073015,177975.34711238998,178445.2412950749,179153.80766768486,179719.34133308526,181194.74071323418,181442.49715843855,181705.6359066373,182769.5351401714,182849.96957365406,183525.82708807828,184119.1286630613,184372.5406110951,185203.69457735593,185299.4337653123,185353.1582726016,185501.4033482367,187558.28369314532,188145.75805071744,188338.8649455644,188780.8582783456,189333.452419153,189477.33816008997,189862.30563427298,191456.39856449878,192945.14182938426,193883.69495760335,195342.9697846314,195951.72013276938,196424.77718726196,200715.03831014113,200717.8965270461,200905.7079657668,201894.01954836058,202109.61551420402,204299.12044701126,205733.28617087996,206518.10489603603,207975.17512940482,208598.93111629388,208622.46709231948,209005.3352172642,209248.77664121083,211947.23805440427,212574.87700650725,212828.38312060185,214007.38097636146,217098.1215814018,219985.1809968828,220534.68981440322,221268.98567833792,225178.85468975408,226629.44962164632,228583.61141173763,230462.07476728765,230961.40969192976,234504.39111284085,234797.3251105199,236533.06041376304,236717.9360870581,237541.93343269645,238197.29598094162,238197.29598094162,238692.45436382724,238961.04920437367,244615.88179299358,246679.16543003818,251072.38883165683,251624.99405082432,252150.81733445788,254760.59647507657,260835.1659710433,263064.61393117945,264442.99457278085,270442.90700005536,271814.79572264,271814.79572264,280753.9300239112,281577.7224198877,282633.6175382519,285082.21207864257,287804.8963261876,290217.63021494495,293274.0888346658,297181.2491870383,302755.1377376111,303890.2763657475,304308.1188735177,308164.5791109073,310388.34941149387,311320.3607680758,314166.1034395759,315437.1846244599,318256.8654538323,319304.235774102,325416.67110487947,337365.0037416987,340206.63080242276,340239.67755059147,352239.4913267804,355112.48122493847,359112.3231378806,362362.0548278499,368036.4296436805,372149.99646219617,378602.07215682074,379962.86036258837,385054.85686649143,385111.4783649461,394458.01935877634,394542.76327433664,406632.8102935138,408510.83051466,423942.6205435902,430709.22195972246,432544.1695168123,445149.9474335749,456853.17689243285,466585.12295567,473794.00020276586,476398.3232510369,477285.8716093704,485668.379246759,490199.4174479816,504809.4811950933,525952.5092830763,538984.4994086621,548649.2441395521,548977.4350182392,573730.3356653976,575599.2273178239,579891.8979840241,583471.8866668385,610528.3384248205,619213.3074495712,623081.1728586805,626643.6466541818,628733.8063928211,629662.8875231575,631834.3236506468,646667.644049609,652105.7617580157,653160.0006615454,658414.256366606,693398.2662870621,694159.837073555,699557.8234225112,716167.1766595684,753378.8896984454,787453.477038557,802274.0628625877,850507.0325911251,861928.1294533985,910272.9740013732,922303.6299320715,956310.0632008676,970277.1666238626,996966.9689760813,998548.0171372932,1039773.0433749901,1107463.873062929,1169624.88945594,1179022.662326038,1259941.2146057526,1431176.5684047637,1495356.9039627754,1687749.992372798,1779690.355260178,1815007.696418406,1889656.6557510102,2200886.2438574345,2462964.942552782,2512120.146985116,3012627.1178120445,4683875.070903843,5177046.688385631,8870604.659049185,22451894.631049007],\"yaxis\":\"y\",\"type\":\"scattergl\"}],                        {\"template\":{\"data\":{\"histogram2dcontour\":[{\"type\":\"histogram2dcontour\",\"colorbar\":{\"outlinewidth\":0,\"ticks\":\"\"},\"colorscale\":[[0.0,\"#0d0887\"],[0.1111111111111111,\"#46039f\"],[0.2222222222222222,\"#7201a8\"],[0.3333333333333333,\"#9c179e\"],[0.4444444444444444,\"#bd3786\"],[0.5555555555555556,\"#d8576b\"],[0.6666666666666666,\"#ed7953\"],[0.7777777777777778,\"#fb9f3a\"],[0.8888888888888888,\"#fdca26\"],[1.0,\"#f0f921\"]]}],\"choropleth\":[{\"type\":\"choropleth\",\"colorbar\":{\"outlinewidth\":0,\"ticks\":\"\"}}],\"histogram2d\":[{\"type\":\"histogram2d\",\"colorbar\":{\"outlinewidth\":0,\"ticks\":\"\"},\"colorscale\":[[0.0,\"#0d0887\"],[0.1111111111111111,\"#46039f\"],[0.2222222222222222,\"#7201a8\"],[0.3333333333333333,\"#9c179e\"],[0.4444444444444444,\"#bd3786\"],[0.5555555555555556,\"#d8576b\"],[0.6666666666666666,\"#ed7953\"],[0.7777777777777778,\"#fb9f3a\"],[0.8888888888888888,\"#fdca26\"],[1.0,\"#f0f921\"]]}],\"heatmap\":[{\"type\":\"heatmap\",\"colorbar\":{\"outlinewidth\":0,\"ticks\":\"\"},\"colorscale\":[[0.0,\"#0d0887\"],[0.1111111111111111,\"#46039f\"],[0.2222222222222222,\"#7201a8\"],[0.3333333333333333,\"#9c179e\"],[0.4444444444444444,\"#bd3786\"],[0.5555555555555556,\"#d8576b\"],[0.6666666666666666,\"#ed7953\"],[0.7777777777777778,\"#fb9f3a\"],[0.8888888888888888,\"#fdca26\"],[1.0,\"#f0f921\"]]}],\"heatmapgl\":[{\"type\":\"heatmapgl\",\"colorbar\":{\"outlinewidth\":0,\"ticks\":\"\"},\"colorscale\":[[0.0,\"#0d0887\"],[0.1111111111111111,\"#46039f\"],[0.2222222222222222,\"#7201a8\"],[0.3333333333333333,\"#9c179e\"],[0.4444444444444444,\"#bd3786\"],[0.5555555555555556,\"#d8576b\"],[0.6666666666666666,\"#ed7953\"],[0.7777777777777778,\"#fb9f3a\"],[0.8888888888888888,\"#fdca26\"],[1.0,\"#f0f921\"]]}],\"contourcarpet\":[{\"type\":\"contourcarpet\",\"colorbar\":{\"outlinewidth\":0,\"ticks\":\"\"}}],\"contour\":[{\"type\":\"contour\",\"colorbar\":{\"outlinewidth\":0,\"ticks\":\"\"},\"colorscale\":[[0.0,\"#0d0887\"],[0.1111111111111111,\"#46039f\"],[0.2222222222222222,\"#7201a8\"],[0.3333333333333333,\"#9c179e\"],[0.4444444444444444,\"#bd3786\"],[0.5555555555555556,\"#d8576b\"],[0.6666666666666666,\"#ed7953\"],[0.7777777777777778,\"#fb9f3a\"],[0.8888888888888888,\"#fdca26\"],[1.0,\"#f0f921\"]]}],\"surface\":[{\"type\":\"surface\",\"colorbar\":{\"outlinewidth\":0,\"ticks\":\"\"},\"colorscale\":[[0.0,\"#0d0887\"],[0.1111111111111111,\"#46039f\"],[0.2222222222222222,\"#7201a8\"],[0.3333333333333333,\"#9c179e\"],[0.4444444444444444,\"#bd3786\"],[0.5555555555555556,\"#d8576b\"],[0.6666666666666666,\"#ed7953\"],[0.7777777777777778,\"#fb9f3a\"],[0.8888888888888888,\"#fdca26\"],[1.0,\"#f0f921\"]]}],\"mesh3d\":[{\"type\":\"mesh3d\",\"colorbar\":{\"outlinewidth\":0,\"ticks\":\"\"}}],\"scatter\":[{\"fillpattern\":{\"fillmode\":\"overlay\",\"size\":10,\"solidity\":0.2},\"type\":\"scatter\"}],\"parcoords\":[{\"type\":\"parcoords\",\"line\":{\"colorbar\":{\"outlinewidth\":0,\"ticks\":\"\"}}}],\"scatterpolargl\":[{\"type\":\"scatterpolargl\",\"marker\":{\"colorbar\":{\"outlinewidth\":0,\"ticks\":\"\"}}}],\"bar\":[{\"error_x\":{\"color\":\"#2a3f5f\"},\"error_y\":{\"color\":\"#2a3f5f\"},\"marker\":{\"line\":{\"color\":\"#E5ECF6\",\"width\":0.5},\"pattern\":{\"fillmode\":\"overlay\",\"size\":10,\"solidity\":0.2}},\"type\":\"bar\"}],\"scattergeo\":[{\"type\":\"scattergeo\",\"marker\":{\"colorbar\":{\"outlinewidth\":0,\"ticks\":\"\"}}}],\"scatterpolar\":[{\"type\":\"scatterpolar\",\"marker\":{\"colorbar\":{\"outlinewidth\":0,\"ticks\":\"\"}}}],\"histogram\":[{\"marker\":{\"pattern\":{\"fillmode\":\"overlay\",\"size\":10,\"solidity\":0.2}},\"type\":\"histogram\"}],\"scattergl\":[{\"type\":\"scattergl\",\"marker\":{\"colorbar\":{\"outlinewidth\":0,\"ticks\":\"\"}}}],\"scatter3d\":[{\"type\":\"scatter3d\",\"line\":{\"colorbar\":{\"outlinewidth\":0,\"ticks\":\"\"}},\"marker\":{\"colorbar\":{\"outlinewidth\":0,\"ticks\":\"\"}}}],\"scattermapbox\":[{\"type\":\"scattermapbox\",\"marker\":{\"colorbar\":{\"outlinewidth\":0,\"ticks\":\"\"}}}],\"scatterternary\":[{\"type\":\"scatterternary\",\"marker\":{\"colorbar\":{\"outlinewidth\":0,\"ticks\":\"\"}}}],\"scattercarpet\":[{\"type\":\"scattercarpet\",\"marker\":{\"colorbar\":{\"outlinewidth\":0,\"ticks\":\"\"}}}],\"carpet\":[{\"aaxis\":{\"endlinecolor\":\"#2a3f5f\",\"gridcolor\":\"white\",\"linecolor\":\"white\",\"minorgridcolor\":\"white\",\"startlinecolor\":\"#2a3f5f\"},\"baxis\":{\"endlinecolor\":\"#2a3f5f\",\"gridcolor\":\"white\",\"linecolor\":\"white\",\"minorgridcolor\":\"white\",\"startlinecolor\":\"#2a3f5f\"},\"type\":\"carpet\"}],\"table\":[{\"cells\":{\"fill\":{\"color\":\"#EBF0F8\"},\"line\":{\"color\":\"white\"}},\"header\":{\"fill\":{\"color\":\"#C8D4E3\"},\"line\":{\"color\":\"white\"}},\"type\":\"table\"}],\"barpolar\":[{\"marker\":{\"line\":{\"color\":\"#E5ECF6\",\"width\":0.5},\"pattern\":{\"fillmode\":\"overlay\",\"size\":10,\"solidity\":0.2}},\"type\":\"barpolar\"}],\"pie\":[{\"automargin\":true,\"type\":\"pie\"}]},\"layout\":{\"autotypenumbers\":\"strict\",\"colorway\":[\"#636efa\",\"#EF553B\",\"#00cc96\",\"#ab63fa\",\"#FFA15A\",\"#19d3f3\",\"#FF6692\",\"#B6E880\",\"#FF97FF\",\"#FECB52\"],\"font\":{\"color\":\"#2a3f5f\"},\"hovermode\":\"closest\",\"hoverlabel\":{\"align\":\"left\"},\"paper_bgcolor\":\"white\",\"plot_bgcolor\":\"#E5ECF6\",\"polar\":{\"bgcolor\":\"#E5ECF6\",\"angularaxis\":{\"gridcolor\":\"white\",\"linecolor\":\"white\",\"ticks\":\"\"},\"radialaxis\":{\"gridcolor\":\"white\",\"linecolor\":\"white\",\"ticks\":\"\"}},\"ternary\":{\"bgcolor\":\"#E5ECF6\",\"aaxis\":{\"gridcolor\":\"white\",\"linecolor\":\"white\",\"ticks\":\"\"},\"baxis\":{\"gridcolor\":\"white\",\"linecolor\":\"white\",\"ticks\":\"\"},\"caxis\":{\"gridcolor\":\"white\",\"linecolor\":\"white\",\"ticks\":\"\"}},\"coloraxis\":{\"colorbar\":{\"outlinewidth\":0,\"ticks\":\"\"}},\"colorscale\":{\"sequential\":[[0.0,\"#0d0887\"],[0.1111111111111111,\"#46039f\"],[0.2222222222222222,\"#7201a8\"],[0.3333333333333333,\"#9c179e\"],[0.4444444444444444,\"#bd3786\"],[0.5555555555555556,\"#d8576b\"],[0.6666666666666666,\"#ed7953\"],[0.7777777777777778,\"#fb9f3a\"],[0.8888888888888888,\"#fdca26\"],[1.0,\"#f0f921\"]],\"sequentialminus\":[[0.0,\"#0d0887\"],[0.1111111111111111,\"#46039f\"],[0.2222222222222222,\"#7201a8\"],[0.3333333333333333,\"#9c179e\"],[0.4444444444444444,\"#bd3786\"],[0.5555555555555556,\"#d8576b\"],[0.6666666666666666,\"#ed7953\"],[0.7777777777777778,\"#fb9f3a\"],[0.8888888888888888,\"#fdca26\"],[1.0,\"#f0f921\"]],\"diverging\":[[0,\"#8e0152\"],[0.1,\"#c51b7d\"],[0.2,\"#de77ae\"],[0.3,\"#f1b6da\"],[0.4,\"#fde0ef\"],[0.5,\"#f7f7f7\"],[0.6,\"#e6f5d0\"],[0.7,\"#b8e186\"],[0.8,\"#7fbc41\"],[0.9,\"#4d9221\"],[1,\"#276419\"]]},\"xaxis\":{\"gridcolor\":\"white\",\"linecolor\":\"white\",\"ticks\":\"\",\"title\":{\"standoff\":15},\"zerolinecolor\":\"white\",\"automargin\":true,\"zerolinewidth\":2},\"yaxis\":{\"gridcolor\":\"white\",\"linecolor\":\"white\",\"ticks\":\"\",\"title\":{\"standoff\":15},\"zerolinecolor\":\"white\",\"automargin\":true,\"zerolinewidth\":2},\"scene\":{\"xaxis\":{\"backgroundcolor\":\"#E5ECF6\",\"gridcolor\":\"white\",\"linecolor\":\"white\",\"showbackground\":true,\"ticks\":\"\",\"zerolinecolor\":\"white\",\"gridwidth\":2},\"yaxis\":{\"backgroundcolor\":\"#E5ECF6\",\"gridcolor\":\"white\",\"linecolor\":\"white\",\"showbackground\":true,\"ticks\":\"\",\"zerolinecolor\":\"white\",\"gridwidth\":2},\"zaxis\":{\"backgroundcolor\":\"#E5ECF6\",\"gridcolor\":\"white\",\"linecolor\":\"white\",\"showbackground\":true,\"ticks\":\"\",\"zerolinecolor\":\"white\",\"gridwidth\":2}},\"shapedefaults\":{\"line\":{\"color\":\"#2a3f5f\"}},\"annotationdefaults\":{\"arrowcolor\":\"#2a3f5f\",\"arrowhead\":0,\"arrowwidth\":1},\"geo\":{\"bgcolor\":\"white\",\"landcolor\":\"#E5ECF6\",\"subunitcolor\":\"white\",\"showland\":true,\"showlakes\":true,\"lakecolor\":\"white\"},\"title\":{\"x\":0.05},\"mapbox\":{\"style\":\"light\"}}},\"xaxis\":{\"anchor\":\"y\",\"domain\":[0.0,1.0],\"title\":{\"text\":\"Views\"}},\"yaxis\":{\"anchor\":\"x\",\"domain\":[0.0,1.0],\"title\":{\"text\":\"Likes\"}},\"legend\":{\"tracegroupgap\":0},\"title\":{\"text\":\"Correlation between Views and Likes\"}},                        {\"responsive\": true}                    ).then(function(){\n",
       "                            \n",
       "var gd = document.getElementById('e2f33fa4-d1c8-43d0-8242-7af7b920ef9e');\n",
       "var x = new MutationObserver(function (mutations, observer) {{\n",
       "        var display = window.getComputedStyle(gd).display;\n",
       "        if (!display || display === 'none') {{\n",
       "            console.log([gd, 'removed!']);\n",
       "            Plotly.purge(gd);\n",
       "            observer.disconnect();\n",
       "        }}\n",
       "}});\n",
       "\n",
       "// Listen for the removal of the full notebook cells\n",
       "var notebookContainer = gd.closest('#notebook-container');\n",
       "if (notebookContainer) {{\n",
       "    x.observe(notebookContainer, {childList: true});\n",
       "}}\n",
       "\n",
       "// Listen for the clearing of the current output cell\n",
       "var outputEl = gd.closest('.output');\n",
       "if (outputEl) {{\n",
       "    x.observe(outputEl, {childList: true});\n",
       "}}\n",
       "\n",
       "                        })                };                });            </script>        </div>"
      ]
     },
     "metadata": {},
     "output_type": "display_data"
    }
   ],
   "source": [
    "# 2. Views vs Likes Scatter Plot\n",
    "fig = px.scatter(videos_clean, x='Views', y='Likes',\n",
    "                 title='Correlation between Views and Likes',\n",
    "                 trendline=\"ols\",\n",
    "                 hover_data=['Title'])\n",
    "fig.show()"
   ]
  },
  {
   "cell_type": "code",
   "execution_count": 37,
   "id": "26ac305d",
   "metadata": {},
   "outputs": [
    {
     "data": {
      "application/vnd.plotly.v1+json": {
       "config": {
        "plotlyServerURL": "https://plot.ly"
       },
       "data": [
        {
         "alignmentgroup": "True",
         "hovertemplate": "Title=%{x}<br>Views=%{y}<extra></extra>",
         "legendgroup": "",
         "marker": {
          "color": "#636efa",
          "pattern": {
           "shape": ""
          }
         },
         "name": "",
         "offsetgroup": "",
         "orientation": "v",
         "showlegend": false,
         "textposition": "auto",
         "type": "bar",
         "x": [
          "El Chombo - Dame Tu Cosita feat. Cutty Ranks (Official Video) [Ultra Music]",
          "Martin Garrix - Animals (Official Video)",
          "The Weeknd - Save Your Tears (Official Music Video)",
          "Maroon 5 - Animals (Official Music Video)",
          "Powfu - death bed (coffee for your head) (Official Video) ft. beabadoobee",
          "One Direction - History (Official Video)",
          "PIKOTARO - PPAP (Pen Pineapple Apple Pen) (Long Version) [Official Video]",
          "Glass Animals - Heat Waves (Official Video)",
          "Young Money - Bed Rock (Official Music Video)",
          "Rihanna - California King Bed"
         ],
         "xaxis": "x",
         "y": [
          4034122271,
          1582262997,
          915457091,
          826423766,
          524709805,
          434352213,
          425478119,
          378164492,
          321977550,
          308501014
         ],
         "yaxis": "y"
        }
       ],
       "layout": {
        "barmode": "relative",
        "legend": {
         "tracegroupgap": 0
        },
        "template": {
         "data": {
          "bar": [
           {
            "error_x": {
             "color": "#2a3f5f"
            },
            "error_y": {
             "color": "#2a3f5f"
            },
            "marker": {
             "line": {
              "color": "#E5ECF6",
              "width": 0.5
             },
             "pattern": {
              "fillmode": "overlay",
              "size": 10,
              "solidity": 0.2
             }
            },
            "type": "bar"
           }
          ],
          "barpolar": [
           {
            "marker": {
             "line": {
              "color": "#E5ECF6",
              "width": 0.5
             },
             "pattern": {
              "fillmode": "overlay",
              "size": 10,
              "solidity": 0.2
             }
            },
            "type": "barpolar"
           }
          ],
          "carpet": [
           {
            "aaxis": {
             "endlinecolor": "#2a3f5f",
             "gridcolor": "white",
             "linecolor": "white",
             "minorgridcolor": "white",
             "startlinecolor": "#2a3f5f"
            },
            "baxis": {
             "endlinecolor": "#2a3f5f",
             "gridcolor": "white",
             "linecolor": "white",
             "minorgridcolor": "white",
             "startlinecolor": "#2a3f5f"
            },
            "type": "carpet"
           }
          ],
          "choropleth": [
           {
            "colorbar": {
             "outlinewidth": 0,
             "ticks": ""
            },
            "type": "choropleth"
           }
          ],
          "contour": [
           {
            "colorbar": {
             "outlinewidth": 0,
             "ticks": ""
            },
            "colorscale": [
             [
              0,
              "#0d0887"
             ],
             [
              0.1111111111111111,
              "#46039f"
             ],
             [
              0.2222222222222222,
              "#7201a8"
             ],
             [
              0.3333333333333333,
              "#9c179e"
             ],
             [
              0.4444444444444444,
              "#bd3786"
             ],
             [
              0.5555555555555556,
              "#d8576b"
             ],
             [
              0.6666666666666666,
              "#ed7953"
             ],
             [
              0.7777777777777778,
              "#fb9f3a"
             ],
             [
              0.8888888888888888,
              "#fdca26"
             ],
             [
              1,
              "#f0f921"
             ]
            ],
            "type": "contour"
           }
          ],
          "contourcarpet": [
           {
            "colorbar": {
             "outlinewidth": 0,
             "ticks": ""
            },
            "type": "contourcarpet"
           }
          ],
          "heatmap": [
           {
            "colorbar": {
             "outlinewidth": 0,
             "ticks": ""
            },
            "colorscale": [
             [
              0,
              "#0d0887"
             ],
             [
              0.1111111111111111,
              "#46039f"
             ],
             [
              0.2222222222222222,
              "#7201a8"
             ],
             [
              0.3333333333333333,
              "#9c179e"
             ],
             [
              0.4444444444444444,
              "#bd3786"
             ],
             [
              0.5555555555555556,
              "#d8576b"
             ],
             [
              0.6666666666666666,
              "#ed7953"
             ],
             [
              0.7777777777777778,
              "#fb9f3a"
             ],
             [
              0.8888888888888888,
              "#fdca26"
             ],
             [
              1,
              "#f0f921"
             ]
            ],
            "type": "heatmap"
           }
          ],
          "heatmapgl": [
           {
            "colorbar": {
             "outlinewidth": 0,
             "ticks": ""
            },
            "colorscale": [
             [
              0,
              "#0d0887"
             ],
             [
              0.1111111111111111,
              "#46039f"
             ],
             [
              0.2222222222222222,
              "#7201a8"
             ],
             [
              0.3333333333333333,
              "#9c179e"
             ],
             [
              0.4444444444444444,
              "#bd3786"
             ],
             [
              0.5555555555555556,
              "#d8576b"
             ],
             [
              0.6666666666666666,
              "#ed7953"
             ],
             [
              0.7777777777777778,
              "#fb9f3a"
             ],
             [
              0.8888888888888888,
              "#fdca26"
             ],
             [
              1,
              "#f0f921"
             ]
            ],
            "type": "heatmapgl"
           }
          ],
          "histogram": [
           {
            "marker": {
             "pattern": {
              "fillmode": "overlay",
              "size": 10,
              "solidity": 0.2
             }
            },
            "type": "histogram"
           }
          ],
          "histogram2d": [
           {
            "colorbar": {
             "outlinewidth": 0,
             "ticks": ""
            },
            "colorscale": [
             [
              0,
              "#0d0887"
             ],
             [
              0.1111111111111111,
              "#46039f"
             ],
             [
              0.2222222222222222,
              "#7201a8"
             ],
             [
              0.3333333333333333,
              "#9c179e"
             ],
             [
              0.4444444444444444,
              "#bd3786"
             ],
             [
              0.5555555555555556,
              "#d8576b"
             ],
             [
              0.6666666666666666,
              "#ed7953"
             ],
             [
              0.7777777777777778,
              "#fb9f3a"
             ],
             [
              0.8888888888888888,
              "#fdca26"
             ],
             [
              1,
              "#f0f921"
             ]
            ],
            "type": "histogram2d"
           }
          ],
          "histogram2dcontour": [
           {
            "colorbar": {
             "outlinewidth": 0,
             "ticks": ""
            },
            "colorscale": [
             [
              0,
              "#0d0887"
             ],
             [
              0.1111111111111111,
              "#46039f"
             ],
             [
              0.2222222222222222,
              "#7201a8"
             ],
             [
              0.3333333333333333,
              "#9c179e"
             ],
             [
              0.4444444444444444,
              "#bd3786"
             ],
             [
              0.5555555555555556,
              "#d8576b"
             ],
             [
              0.6666666666666666,
              "#ed7953"
             ],
             [
              0.7777777777777778,
              "#fb9f3a"
             ],
             [
              0.8888888888888888,
              "#fdca26"
             ],
             [
              1,
              "#f0f921"
             ]
            ],
            "type": "histogram2dcontour"
           }
          ],
          "mesh3d": [
           {
            "colorbar": {
             "outlinewidth": 0,
             "ticks": ""
            },
            "type": "mesh3d"
           }
          ],
          "parcoords": [
           {
            "line": {
             "colorbar": {
              "outlinewidth": 0,
              "ticks": ""
             }
            },
            "type": "parcoords"
           }
          ],
          "pie": [
           {
            "automargin": true,
            "type": "pie"
           }
          ],
          "scatter": [
           {
            "fillpattern": {
             "fillmode": "overlay",
             "size": 10,
             "solidity": 0.2
            },
            "type": "scatter"
           }
          ],
          "scatter3d": [
           {
            "line": {
             "colorbar": {
              "outlinewidth": 0,
              "ticks": ""
             }
            },
            "marker": {
             "colorbar": {
              "outlinewidth": 0,
              "ticks": ""
             }
            },
            "type": "scatter3d"
           }
          ],
          "scattercarpet": [
           {
            "marker": {
             "colorbar": {
              "outlinewidth": 0,
              "ticks": ""
             }
            },
            "type": "scattercarpet"
           }
          ],
          "scattergeo": [
           {
            "marker": {
             "colorbar": {
              "outlinewidth": 0,
              "ticks": ""
             }
            },
            "type": "scattergeo"
           }
          ],
          "scattergl": [
           {
            "marker": {
             "colorbar": {
              "outlinewidth": 0,
              "ticks": ""
             }
            },
            "type": "scattergl"
           }
          ],
          "scattermapbox": [
           {
            "marker": {
             "colorbar": {
              "outlinewidth": 0,
              "ticks": ""
             }
            },
            "type": "scattermapbox"
           }
          ],
          "scatterpolar": [
           {
            "marker": {
             "colorbar": {
              "outlinewidth": 0,
              "ticks": ""
             }
            },
            "type": "scatterpolar"
           }
          ],
          "scatterpolargl": [
           {
            "marker": {
             "colorbar": {
              "outlinewidth": 0,
              "ticks": ""
             }
            },
            "type": "scatterpolargl"
           }
          ],
          "scatterternary": [
           {
            "marker": {
             "colorbar": {
              "outlinewidth": 0,
              "ticks": ""
             }
            },
            "type": "scatterternary"
           }
          ],
          "surface": [
           {
            "colorbar": {
             "outlinewidth": 0,
             "ticks": ""
            },
            "colorscale": [
             [
              0,
              "#0d0887"
             ],
             [
              0.1111111111111111,
              "#46039f"
             ],
             [
              0.2222222222222222,
              "#7201a8"
             ],
             [
              0.3333333333333333,
              "#9c179e"
             ],
             [
              0.4444444444444444,
              "#bd3786"
             ],
             [
              0.5555555555555556,
              "#d8576b"
             ],
             [
              0.6666666666666666,
              "#ed7953"
             ],
             [
              0.7777777777777778,
              "#fb9f3a"
             ],
             [
              0.8888888888888888,
              "#fdca26"
             ],
             [
              1,
              "#f0f921"
             ]
            ],
            "type": "surface"
           }
          ],
          "table": [
           {
            "cells": {
             "fill": {
              "color": "#EBF0F8"
             },
             "line": {
              "color": "white"
             }
            },
            "header": {
             "fill": {
              "color": "#C8D4E3"
             },
             "line": {
              "color": "white"
             }
            },
            "type": "table"
           }
          ]
         },
         "layout": {
          "annotationdefaults": {
           "arrowcolor": "#2a3f5f",
           "arrowhead": 0,
           "arrowwidth": 1
          },
          "autotypenumbers": "strict",
          "coloraxis": {
           "colorbar": {
            "outlinewidth": 0,
            "ticks": ""
           }
          },
          "colorscale": {
           "diverging": [
            [
             0,
             "#8e0152"
            ],
            [
             0.1,
             "#c51b7d"
            ],
            [
             0.2,
             "#de77ae"
            ],
            [
             0.3,
             "#f1b6da"
            ],
            [
             0.4,
             "#fde0ef"
            ],
            [
             0.5,
             "#f7f7f7"
            ],
            [
             0.6,
             "#e6f5d0"
            ],
            [
             0.7,
             "#b8e186"
            ],
            [
             0.8,
             "#7fbc41"
            ],
            [
             0.9,
             "#4d9221"
            ],
            [
             1,
             "#276419"
            ]
           ],
           "sequential": [
            [
             0,
             "#0d0887"
            ],
            [
             0.1111111111111111,
             "#46039f"
            ],
            [
             0.2222222222222222,
             "#7201a8"
            ],
            [
             0.3333333333333333,
             "#9c179e"
            ],
            [
             0.4444444444444444,
             "#bd3786"
            ],
            [
             0.5555555555555556,
             "#d8576b"
            ],
            [
             0.6666666666666666,
             "#ed7953"
            ],
            [
             0.7777777777777778,
             "#fb9f3a"
            ],
            [
             0.8888888888888888,
             "#fdca26"
            ],
            [
             1,
             "#f0f921"
            ]
           ],
           "sequentialminus": [
            [
             0,
             "#0d0887"
            ],
            [
             0.1111111111111111,
             "#46039f"
            ],
            [
             0.2222222222222222,
             "#7201a8"
            ],
            [
             0.3333333333333333,
             "#9c179e"
            ],
            [
             0.4444444444444444,
             "#bd3786"
            ],
            [
             0.5555555555555556,
             "#d8576b"
            ],
            [
             0.6666666666666666,
             "#ed7953"
            ],
            [
             0.7777777777777778,
             "#fb9f3a"
            ],
            [
             0.8888888888888888,
             "#fdca26"
            ],
            [
             1,
             "#f0f921"
            ]
           ]
          },
          "colorway": [
           "#636efa",
           "#EF553B",
           "#00cc96",
           "#ab63fa",
           "#FFA15A",
           "#19d3f3",
           "#FF6692",
           "#B6E880",
           "#FF97FF",
           "#FECB52"
          ],
          "font": {
           "color": "#2a3f5f"
          },
          "geo": {
           "bgcolor": "white",
           "lakecolor": "white",
           "landcolor": "#E5ECF6",
           "showlakes": true,
           "showland": true,
           "subunitcolor": "white"
          },
          "hoverlabel": {
           "align": "left"
          },
          "hovermode": "closest",
          "mapbox": {
           "style": "light"
          },
          "paper_bgcolor": "white",
          "plot_bgcolor": "#E5ECF6",
          "polar": {
           "angularaxis": {
            "gridcolor": "white",
            "linecolor": "white",
            "ticks": ""
           },
           "bgcolor": "#E5ECF6",
           "radialaxis": {
            "gridcolor": "white",
            "linecolor": "white",
            "ticks": ""
           }
          },
          "scene": {
           "xaxis": {
            "backgroundcolor": "#E5ECF6",
            "gridcolor": "white",
            "gridwidth": 2,
            "linecolor": "white",
            "showbackground": true,
            "ticks": "",
            "zerolinecolor": "white"
           },
           "yaxis": {
            "backgroundcolor": "#E5ECF6",
            "gridcolor": "white",
            "gridwidth": 2,
            "linecolor": "white",
            "showbackground": true,
            "ticks": "",
            "zerolinecolor": "white"
           },
           "zaxis": {
            "backgroundcolor": "#E5ECF6",
            "gridcolor": "white",
            "gridwidth": 2,
            "linecolor": "white",
            "showbackground": true,
            "ticks": "",
            "zerolinecolor": "white"
           }
          },
          "shapedefaults": {
           "line": {
            "color": "#2a3f5f"
           }
          },
          "ternary": {
           "aaxis": {
            "gridcolor": "white",
            "linecolor": "white",
            "ticks": ""
           },
           "baxis": {
            "gridcolor": "white",
            "linecolor": "white",
            "ticks": ""
           },
           "bgcolor": "#E5ECF6",
           "caxis": {
            "gridcolor": "white",
            "linecolor": "white",
            "ticks": ""
           }
          },
          "title": {
           "x": 0.05
          },
          "xaxis": {
           "automargin": true,
           "gridcolor": "white",
           "linecolor": "white",
           "ticks": "",
           "title": {
            "standoff": 15
           },
           "zerolinecolor": "white",
           "zerolinewidth": 2
          },
          "yaxis": {
           "automargin": true,
           "gridcolor": "white",
           "linecolor": "white",
           "ticks": "",
           "title": {
            "standoff": 15
           },
           "zerolinecolor": "white",
           "zerolinewidth": 2
          }
         }
        },
        "title": {
         "text": "Top 10 Most Viewed Videos"
        },
        "xaxis": {
         "anchor": "y",
         "domain": [
          0,
          1
         ],
         "tickangle": 45,
         "title": {
          "text": "Title"
         }
        },
        "yaxis": {
         "anchor": "x",
         "domain": [
          0,
          1
         ],
         "title": {
          "text": "Views"
         }
        }
       }
      },
      "text/html": [
       "<div>                            <div id=\"5f1bb9c0-4b54-442e-939f-84e0bc0323c5\" class=\"plotly-graph-div\" style=\"height:525px; width:100%;\"></div>            <script type=\"text/javascript\">                require([\"plotly\"], function(Plotly) {                    window.PLOTLYENV=window.PLOTLYENV || {};                                    if (document.getElementById(\"5f1bb9c0-4b54-442e-939f-84e0bc0323c5\")) {                    Plotly.newPlot(                        \"5f1bb9c0-4b54-442e-939f-84e0bc0323c5\",                        [{\"alignmentgroup\":\"True\",\"hovertemplate\":\"Title=%{x}<br>Views=%{y}<extra></extra>\",\"legendgroup\":\"\",\"marker\":{\"color\":\"#636efa\",\"pattern\":{\"shape\":\"\"}},\"name\":\"\",\"offsetgroup\":\"\",\"orientation\":\"v\",\"showlegend\":false,\"textposition\":\"auto\",\"x\":[\"El Chombo - Dame Tu Cosita feat. Cutty Ranks (Official Video) [Ultra Music]\",\"Martin Garrix - Animals (Official Video)\",\"The Weeknd - Save Your Tears (Official Music Video)\",\"Maroon 5 - Animals (Official Music Video)\",\"Powfu - death bed (coffee for your head) (Official Video) ft. beabadoobee\",\"One Direction - History (Official Video)\",\"PIKOTARO - PPAP (Pen Pineapple Apple Pen) (Long Version) [Official Video]\",\"Glass Animals - Heat Waves (Official Video)\",\"Young Money - Bed Rock (Official Music Video)\",\"Rihanna - California King Bed\"],\"xaxis\":\"x\",\"y\":[4034122271.0,1582262997.0,915457091.0,826423766.0,524709805.0,434352213.0,425478119.0,378164492.0,321977550.0,308501014.0],\"yaxis\":\"y\",\"type\":\"bar\"}],                        {\"template\":{\"data\":{\"histogram2dcontour\":[{\"type\":\"histogram2dcontour\",\"colorbar\":{\"outlinewidth\":0,\"ticks\":\"\"},\"colorscale\":[[0.0,\"#0d0887\"],[0.1111111111111111,\"#46039f\"],[0.2222222222222222,\"#7201a8\"],[0.3333333333333333,\"#9c179e\"],[0.4444444444444444,\"#bd3786\"],[0.5555555555555556,\"#d8576b\"],[0.6666666666666666,\"#ed7953\"],[0.7777777777777778,\"#fb9f3a\"],[0.8888888888888888,\"#fdca26\"],[1.0,\"#f0f921\"]]}],\"choropleth\":[{\"type\":\"choropleth\",\"colorbar\":{\"outlinewidth\":0,\"ticks\":\"\"}}],\"histogram2d\":[{\"type\":\"histogram2d\",\"colorbar\":{\"outlinewidth\":0,\"ticks\":\"\"},\"colorscale\":[[0.0,\"#0d0887\"],[0.1111111111111111,\"#46039f\"],[0.2222222222222222,\"#7201a8\"],[0.3333333333333333,\"#9c179e\"],[0.4444444444444444,\"#bd3786\"],[0.5555555555555556,\"#d8576b\"],[0.6666666666666666,\"#ed7953\"],[0.7777777777777778,\"#fb9f3a\"],[0.8888888888888888,\"#fdca26\"],[1.0,\"#f0f921\"]]}],\"heatmap\":[{\"type\":\"heatmap\",\"colorbar\":{\"outlinewidth\":0,\"ticks\":\"\"},\"colorscale\":[[0.0,\"#0d0887\"],[0.1111111111111111,\"#46039f\"],[0.2222222222222222,\"#7201a8\"],[0.3333333333333333,\"#9c179e\"],[0.4444444444444444,\"#bd3786\"],[0.5555555555555556,\"#d8576b\"],[0.6666666666666666,\"#ed7953\"],[0.7777777777777778,\"#fb9f3a\"],[0.8888888888888888,\"#fdca26\"],[1.0,\"#f0f921\"]]}],\"heatmapgl\":[{\"type\":\"heatmapgl\",\"colorbar\":{\"outlinewidth\":0,\"ticks\":\"\"},\"colorscale\":[[0.0,\"#0d0887\"],[0.1111111111111111,\"#46039f\"],[0.2222222222222222,\"#7201a8\"],[0.3333333333333333,\"#9c179e\"],[0.4444444444444444,\"#bd3786\"],[0.5555555555555556,\"#d8576b\"],[0.6666666666666666,\"#ed7953\"],[0.7777777777777778,\"#fb9f3a\"],[0.8888888888888888,\"#fdca26\"],[1.0,\"#f0f921\"]]}],\"contourcarpet\":[{\"type\":\"contourcarpet\",\"colorbar\":{\"outlinewidth\":0,\"ticks\":\"\"}}],\"contour\":[{\"type\":\"contour\",\"colorbar\":{\"outlinewidth\":0,\"ticks\":\"\"},\"colorscale\":[[0.0,\"#0d0887\"],[0.1111111111111111,\"#46039f\"],[0.2222222222222222,\"#7201a8\"],[0.3333333333333333,\"#9c179e\"],[0.4444444444444444,\"#bd3786\"],[0.5555555555555556,\"#d8576b\"],[0.6666666666666666,\"#ed7953\"],[0.7777777777777778,\"#fb9f3a\"],[0.8888888888888888,\"#fdca26\"],[1.0,\"#f0f921\"]]}],\"surface\":[{\"type\":\"surface\",\"colorbar\":{\"outlinewidth\":0,\"ticks\":\"\"},\"colorscale\":[[0.0,\"#0d0887\"],[0.1111111111111111,\"#46039f\"],[0.2222222222222222,\"#7201a8\"],[0.3333333333333333,\"#9c179e\"],[0.4444444444444444,\"#bd3786\"],[0.5555555555555556,\"#d8576b\"],[0.6666666666666666,\"#ed7953\"],[0.7777777777777778,\"#fb9f3a\"],[0.8888888888888888,\"#fdca26\"],[1.0,\"#f0f921\"]]}],\"mesh3d\":[{\"type\":\"mesh3d\",\"colorbar\":{\"outlinewidth\":0,\"ticks\":\"\"}}],\"scatter\":[{\"fillpattern\":{\"fillmode\":\"overlay\",\"size\":10,\"solidity\":0.2},\"type\":\"scatter\"}],\"parcoords\":[{\"type\":\"parcoords\",\"line\":{\"colorbar\":{\"outlinewidth\":0,\"ticks\":\"\"}}}],\"scatterpolargl\":[{\"type\":\"scatterpolargl\",\"marker\":{\"colorbar\":{\"outlinewidth\":0,\"ticks\":\"\"}}}],\"bar\":[{\"error_x\":{\"color\":\"#2a3f5f\"},\"error_y\":{\"color\":\"#2a3f5f\"},\"marker\":{\"line\":{\"color\":\"#E5ECF6\",\"width\":0.5},\"pattern\":{\"fillmode\":\"overlay\",\"size\":10,\"solidity\":0.2}},\"type\":\"bar\"}],\"scattergeo\":[{\"type\":\"scattergeo\",\"marker\":{\"colorbar\":{\"outlinewidth\":0,\"ticks\":\"\"}}}],\"scatterpolar\":[{\"type\":\"scatterpolar\",\"marker\":{\"colorbar\":{\"outlinewidth\":0,\"ticks\":\"\"}}}],\"histogram\":[{\"marker\":{\"pattern\":{\"fillmode\":\"overlay\",\"size\":10,\"solidity\":0.2}},\"type\":\"histogram\"}],\"scattergl\":[{\"type\":\"scattergl\",\"marker\":{\"colorbar\":{\"outlinewidth\":0,\"ticks\":\"\"}}}],\"scatter3d\":[{\"type\":\"scatter3d\",\"line\":{\"colorbar\":{\"outlinewidth\":0,\"ticks\":\"\"}},\"marker\":{\"colorbar\":{\"outlinewidth\":0,\"ticks\":\"\"}}}],\"scattermapbox\":[{\"type\":\"scattermapbox\",\"marker\":{\"colorbar\":{\"outlinewidth\":0,\"ticks\":\"\"}}}],\"scatterternary\":[{\"type\":\"scatterternary\",\"marker\":{\"colorbar\":{\"outlinewidth\":0,\"ticks\":\"\"}}}],\"scattercarpet\":[{\"type\":\"scattercarpet\",\"marker\":{\"colorbar\":{\"outlinewidth\":0,\"ticks\":\"\"}}}],\"carpet\":[{\"aaxis\":{\"endlinecolor\":\"#2a3f5f\",\"gridcolor\":\"white\",\"linecolor\":\"white\",\"minorgridcolor\":\"white\",\"startlinecolor\":\"#2a3f5f\"},\"baxis\":{\"endlinecolor\":\"#2a3f5f\",\"gridcolor\":\"white\",\"linecolor\":\"white\",\"minorgridcolor\":\"white\",\"startlinecolor\":\"#2a3f5f\"},\"type\":\"carpet\"}],\"table\":[{\"cells\":{\"fill\":{\"color\":\"#EBF0F8\"},\"line\":{\"color\":\"white\"}},\"header\":{\"fill\":{\"color\":\"#C8D4E3\"},\"line\":{\"color\":\"white\"}},\"type\":\"table\"}],\"barpolar\":[{\"marker\":{\"line\":{\"color\":\"#E5ECF6\",\"width\":0.5},\"pattern\":{\"fillmode\":\"overlay\",\"size\":10,\"solidity\":0.2}},\"type\":\"barpolar\"}],\"pie\":[{\"automargin\":true,\"type\":\"pie\"}]},\"layout\":{\"autotypenumbers\":\"strict\",\"colorway\":[\"#636efa\",\"#EF553B\",\"#00cc96\",\"#ab63fa\",\"#FFA15A\",\"#19d3f3\",\"#FF6692\",\"#B6E880\",\"#FF97FF\",\"#FECB52\"],\"font\":{\"color\":\"#2a3f5f\"},\"hovermode\":\"closest\",\"hoverlabel\":{\"align\":\"left\"},\"paper_bgcolor\":\"white\",\"plot_bgcolor\":\"#E5ECF6\",\"polar\":{\"bgcolor\":\"#E5ECF6\",\"angularaxis\":{\"gridcolor\":\"white\",\"linecolor\":\"white\",\"ticks\":\"\"},\"radialaxis\":{\"gridcolor\":\"white\",\"linecolor\":\"white\",\"ticks\":\"\"}},\"ternary\":{\"bgcolor\":\"#E5ECF6\",\"aaxis\":{\"gridcolor\":\"white\",\"linecolor\":\"white\",\"ticks\":\"\"},\"baxis\":{\"gridcolor\":\"white\",\"linecolor\":\"white\",\"ticks\":\"\"},\"caxis\":{\"gridcolor\":\"white\",\"linecolor\":\"white\",\"ticks\":\"\"}},\"coloraxis\":{\"colorbar\":{\"outlinewidth\":0,\"ticks\":\"\"}},\"colorscale\":{\"sequential\":[[0.0,\"#0d0887\"],[0.1111111111111111,\"#46039f\"],[0.2222222222222222,\"#7201a8\"],[0.3333333333333333,\"#9c179e\"],[0.4444444444444444,\"#bd3786\"],[0.5555555555555556,\"#d8576b\"],[0.6666666666666666,\"#ed7953\"],[0.7777777777777778,\"#fb9f3a\"],[0.8888888888888888,\"#fdca26\"],[1.0,\"#f0f921\"]],\"sequentialminus\":[[0.0,\"#0d0887\"],[0.1111111111111111,\"#46039f\"],[0.2222222222222222,\"#7201a8\"],[0.3333333333333333,\"#9c179e\"],[0.4444444444444444,\"#bd3786\"],[0.5555555555555556,\"#d8576b\"],[0.6666666666666666,\"#ed7953\"],[0.7777777777777778,\"#fb9f3a\"],[0.8888888888888888,\"#fdca26\"],[1.0,\"#f0f921\"]],\"diverging\":[[0,\"#8e0152\"],[0.1,\"#c51b7d\"],[0.2,\"#de77ae\"],[0.3,\"#f1b6da\"],[0.4,\"#fde0ef\"],[0.5,\"#f7f7f7\"],[0.6,\"#e6f5d0\"],[0.7,\"#b8e186\"],[0.8,\"#7fbc41\"],[0.9,\"#4d9221\"],[1,\"#276419\"]]},\"xaxis\":{\"gridcolor\":\"white\",\"linecolor\":\"white\",\"ticks\":\"\",\"title\":{\"standoff\":15},\"zerolinecolor\":\"white\",\"automargin\":true,\"zerolinewidth\":2},\"yaxis\":{\"gridcolor\":\"white\",\"linecolor\":\"white\",\"ticks\":\"\",\"title\":{\"standoff\":15},\"zerolinecolor\":\"white\",\"automargin\":true,\"zerolinewidth\":2},\"scene\":{\"xaxis\":{\"backgroundcolor\":\"#E5ECF6\",\"gridcolor\":\"white\",\"linecolor\":\"white\",\"showbackground\":true,\"ticks\":\"\",\"zerolinecolor\":\"white\",\"gridwidth\":2},\"yaxis\":{\"backgroundcolor\":\"#E5ECF6\",\"gridcolor\":\"white\",\"linecolor\":\"white\",\"showbackground\":true,\"ticks\":\"\",\"zerolinecolor\":\"white\",\"gridwidth\":2},\"zaxis\":{\"backgroundcolor\":\"#E5ECF6\",\"gridcolor\":\"white\",\"linecolor\":\"white\",\"showbackground\":true,\"ticks\":\"\",\"zerolinecolor\":\"white\",\"gridwidth\":2}},\"shapedefaults\":{\"line\":{\"color\":\"#2a3f5f\"}},\"annotationdefaults\":{\"arrowcolor\":\"#2a3f5f\",\"arrowhead\":0,\"arrowwidth\":1},\"geo\":{\"bgcolor\":\"white\",\"landcolor\":\"#E5ECF6\",\"subunitcolor\":\"white\",\"showland\":true,\"showlakes\":true,\"lakecolor\":\"white\"},\"title\":{\"x\":0.05},\"mapbox\":{\"style\":\"light\"}}},\"xaxis\":{\"anchor\":\"y\",\"domain\":[0.0,1.0],\"title\":{\"text\":\"Title\"},\"tickangle\":45},\"yaxis\":{\"anchor\":\"x\",\"domain\":[0.0,1.0],\"title\":{\"text\":\"Views\"}},\"legend\":{\"tracegroupgap\":0},\"title\":{\"text\":\"Top 10 Most Viewed Videos\"},\"barmode\":\"relative\"},                        {\"responsive\": true}                    ).then(function(){\n",
       "                            \n",
       "var gd = document.getElementById('5f1bb9c0-4b54-442e-939f-84e0bc0323c5');\n",
       "var x = new MutationObserver(function (mutations, observer) {{\n",
       "        var display = window.getComputedStyle(gd).display;\n",
       "        if (!display || display === 'none') {{\n",
       "            console.log([gd, 'removed!']);\n",
       "            Plotly.purge(gd);\n",
       "            observer.disconnect();\n",
       "        }}\n",
       "}});\n",
       "\n",
       "// Listen for the removal of the full notebook cells\n",
       "var notebookContainer = gd.closest('#notebook-container');\n",
       "if (notebookContainer) {{\n",
       "    x.observe(notebookContainer, {childList: true});\n",
       "}}\n",
       "\n",
       "// Listen for the clearing of the current output cell\n",
       "var outputEl = gd.closest('.output');\n",
       "if (outputEl) {{\n",
       "    x.observe(outputEl, {childList: true});\n",
       "}}\n",
       "\n",
       "                        })                };                });            </script>        </div>"
      ]
     },
     "metadata": {},
     "output_type": "display_data"
    }
   ],
   "source": [
    "# 3. Top 10 Most Viewed Videos\n",
    "top_videos = videos_clean.nlargest(10, 'Views')\n",
    "fig = px.bar(top_videos, x='Title', y='Views',\n",
    "             title='Top 10 Most Viewed Videos')\n",
    "fig.update_xaxes(tickangle=45)\n",
    "fig.show()\n"
   ]
  },
  {
   "cell_type": "code",
   "execution_count": 38,
   "id": "1512dc71",
   "metadata": {},
   "outputs": [
    {
     "data": {
      "application/vnd.plotly.v1+json": {
       "config": {
        "plotlyServerURL": "https://plot.ly"
       },
       "data": [
        {
         "alignmentgroup": "True",
         "bingroup": "x",
         "hovertemplate": "Engagement_Rate=%{x}<br>count=%{y}<extra></extra>",
         "legendgroup": "",
         "marker": {
          "color": "#636efa",
          "pattern": {
           "shape": ""
          }
         },
         "name": "",
         "offsetgroup": "",
         "orientation": "v",
         "showlegend": false,
         "type": "histogram",
         "x": [
          0.6803580985402946,
          0.45856163252488963,
          0.7406232161398444,
          0.7800419002643659,
          1.4118795537464561,
          0.3674835370099457,
          0.2956595598853045,
          0.9101085997734262,
          1.0708525170673329,
          0.8352992944569639,
          0.4704194438401062,
          0.3611535509054297,
          0.9295170871506732,
          0.6777233030284485,
          0.7509552956229306,
          0.8320211090777546,
          0.7779641814775708,
          0.8049995626686475,
          2.2089498387010136,
          0.39960225219875617,
          0.7359766755349616,
          4.1122199681028055,
          1.0847922903443772,
          1.1298881449322928,
          1.0680569870280745,
          1.0094519140254503,
          1.0745131898862499,
          1.0852848842531515,
          1.0438601841967312,
          1.1325427273377642,
          1.7080301304591636,
          3.4778847785998983,
          1.4904807399423743,
          2.4021554715205053,
          2.3188875722928914,
          4,
          4.761904761904762,
          2.3089346297884483,
          1.2675010400507,
          0.7179989054626169,
          1.5369972828126643,
          0.3704807274166909,
          1.3212564717911934,
          1.0025474291077294,
          5.536591122342661,
          1.6263695251467976,
          0.5390125727573368,
          1.7262386978930244,
          0.7166100787086997,
          1.4773832444788955,
          0.8881625293249467,
          4.978060679240057,
          1.7019444309070282,
          1.047413422384877,
          2.058068279085269,
          1.2701055307917901,
          2.644448174742381,
          2.1790636858766392,
          2.8185369494249937,
          0.7058242294492003,
          2.5213090666422784,
          2.091008939619336,
          1.3299530725341124,
          4.822872472701788,
          3.171657414915689,
          2.352683408813679,
          2.4931376798134277,
          1.6429531769135943,
          1.3434435983868236,
          2.0933493348853878,
          2.4008355000252233,
          1.2654311246573366,
          2.8667712028693346,
          1.8952210177586237,
          2.1775739320920042,
          3.1843260194272442,
          1.7125635415135085,
          0.6526468455402465,
          1.9413886319154867,
          1.858281207875634,
          2.6571380498351362,
          1.1834859866660215,
          1.5292081971675462,
          1.7866009392709659,
          1.1164530989117096,
          1.937386285212372,
          1.899048564099044,
          1.3721891908038453,
          1.3229774725198178,
          1.5877356343167253,
          1.4429651318079821,
          1.0367133160595374,
          2.710557768045761,
          1.0432538835210936,
          3.796284210068311,
          1.483779506006819,
          2.6586418671777157,
          5.1564299689801345,
          2.0556325598910172,
          1.3606393251304776,
          1.6205571069541576,
          null,
          1.9678378318097673,
          4.072776604397372,
          1.7777367340833512,
          2.32693906274739,
          0.7464113006077934,
          1.3838592860838075,
          1.700330360990229,
          2.0339871016074653,
          2.249236763155177,
          1.8888348139211815,
          2.1053477247905223,
          1.1403548300239872,
          2.0435281090456545,
          2.0428220510159836,
          2.2859387649915512,
          0.7893250191022673,
          3.9821773755142753,
          7.437289291469364,
          1.961588015693232,
          2.9058013794481434,
          1.6112274555716792,
          1.531994748810326,
          1.5287211615305873,
          2.5930864599662056,
          0.979217139514609,
          2.610906714774777,
          1.7265122451505202,
          null,
          3.699738976545245,
          4.301320024449139,
          2.245643901462047,
          3.144489550579648,
          2.3127572771990934,
          0.7076614258462152,
          1.8262580166183608,
          0.08091183346658393,
          0.7103081889505194,
          5.236763882900157,
          1.529462030922714,
          0.8584658382809992,
          1.96998946998947,
          4.541823538497053,
          2.0591973146809726,
          1.4634906697822212,
          1.8683361803040688,
          1.2117495051822746,
          2.423497906099819,
          3.428930526153187,
          0.5705131612618325,
          1.4257878034158393,
          0.19332612920562325,
          1.6069780693571079,
          3.830803002624994,
          4.5578414402448875,
          1.8973927479049881,
          0.8722924134991462,
          2.9191859292181475,
          1.0207202719590314,
          2.8354720296175446,
          1.2511613186454174,
          0.42582685516226887,
          3.461371682348805,
          1.055428168103432,
          0.971359208503763,
          2.34378732195817,
          2.430313031758395,
          1.1998042384416565,
          0.9673317439693956,
          3.7112793515042113,
          3.0081609744363837,
          5.6533027472500015,
          1.6687920185588248,
          0.09317962968729869,
          2.578709002556638,
          2.790591291652169,
          4.95377037547221,
          3.1737670936043982,
          2.6539029297436367,
          2.5323819392630007,
          2.1929501047129705,
          2.5286096073459876,
          2.581582119658211,
          2.3904295753763445,
          2.228358686854022,
          1.3296764108888544,
          1.913702974689526,
          1.4184937068615509,
          2.176837807823568,
          1.1279126561614625,
          2.2466925672656712,
          1.1480703550620939,
          1.5640273182797462,
          4.0613363625952195,
          1.5797658999754443,
          3.9672432176282433,
          1.3027529987438276,
          1.507587851294699,
          1.9851581010693236,
          2.15961628129062,
          2.231078089355907,
          1.344292199581269,
          4.768148342392874,
          2.169195914476,
          1.6387147829515238,
          0.5681357398379845,
          2.157675092706153,
          1.97996467418503,
          2.44055546766565,
          2.4230222693616956,
          3.1107579416410394,
          5.292939490653293,
          2.249227543094129,
          4.168294619563163,
          2.4148560336179665,
          2.2457435326068036,
          2.4449451722756455,
          1.4279744655117939,
          1.3928743410255275,
          1.4942703686565282,
          3.6107895251283844,
          1.9712467508146239,
          2.682407993375789,
          1.086543679168791,
          3.1980095534520787,
          1.8429928307385959,
          2.1466077214038335,
          2.9554333379883104,
          3.4727453887093245,
          1.1951188828783494,
          2.3870013079943635,
          1.7803707699995588,
          2.596995640080312,
          3.068839058741942,
          2.5035438064211286,
          2.7415939406644987,
          3.82779455495835,
          3.1961514942702856,
          2.6819746221614134,
          1.13854548842024,
          3.8179376977383335,
          4.708094685398018,
          1.0677966116065105,
          3.1424202789086824,
          2.6113831779703327,
          4.10156578159762,
          4.051472344177673,
          2.360911103985351,
          3.9864168516016276,
          1.3583386289095896,
          3.4811771898050017,
          2.13647501602992,
          1.2455264744932346,
          1.2455264744932346,
          2.4195884121678866,
          1.9738899066671522,
          2.616273081228069,
          1.6778540901693075,
          2.604685316341758,
          2.291262425702287,
          2.2380531784470032,
          2.6717857542224563,
          1.7848879295340434,
          2.135193470076419,
          3.044862117105436,
          2.2516627289199715,
          6.471594039859033,
          0.6516357153474959,
          3.8650285534935804,
          1.7142694503625064,
          4.824834376664348,
          3.2440478463846367,
          2.9287850073699726,
          3.7679159618979794,
          4.492887378218259,
          3.143270039798965,
          7.5106267378311875,
          1.8724307838481415,
          2.296906730016136,
          2.932384940638395,
          2.6787234667214705,
          2.002667745725127,
          3.5677879429359303,
          5.534116126514985,
          0.8203866163626767,
          2.4455193878720336,
          5.456138862974584,
          0.6991528858411168,
          4.067653138321703,
          1.2579325172521412,
          3.4426293805032064,
          8.101931596458831,
          1.7594723018256924,
          1.0103535559679722,
          2.0092607844745074,
          2.2870200285223548,
          2.4943400898510735,
          4.31423216202937,
          2.124859506417461,
          1.4676156133468765,
          2.9357586830660196,
          4.277310480516565,
          1.5224502277383867,
          2.5674576526620703,
          2.613027521671014,
          1.305641909965493,
          1.650537014760712,
          1.3609345672164967,
          3.4228006539472555,
          0.9463584211624009,
          0.8327231030942308,
          6.63439098986795,
          1.1839304512353284,
          null,
          1.52118865017207,
          3.675569309243614,
          1.8293407686592114,
          2.888815719085459,
          2.2356488707013384,
          3.1100063382800243,
          2.4650266345203296,
          2.2125844125058713,
          1.7211099402880226,
          2.7835075353758123,
          4.923682914820286,
          4.00351579227439,
          1.763216861790403,
          2.1880543229495997,
          2.62363316900087,
          3.3165854226629174,
          2.6823516457299115,
          2.1399992658664613,
          7.016142735768904,
          0.7494822229057734,
          4.780637568438827,
          3.5175809438068764,
          2.3596484282207615,
          0.9430407057877725,
          4.2233787737801665,
          1.6361893779425634,
          0.19491377814716448,
          3.101614399583601,
          3.78765918797225,
          2.3286272420529213,
          1.8069639047137234,
          6.205616874189874,
          4.679744741195934,
          3.2545334766478278,
          1.6668352352869766,
          3.150142160052228,
          2.0504481696783943,
          1.3110566676804667,
          1.7022027962977342,
          4.865424430641822,
          5.833614331187202,
          2.0990927723071446,
          0.6413439209724652,
          8.53753403345002,
          2.616273081228069,
          4.661868886970303,
          0.8815778730235763,
          5.280037183360446,
          1.0970398957740006,
          1.3380624787425337,
          1.6231206600472947,
          1.9481331439340757,
          4.769428695818067,
          2.2521915037086986,
          4.140860736115322,
          4.303503418380178,
          1.5345231114024056,
          1.549724668654643,
          1.7100842042955218,
          4.814645657303799,
          1.9064548858966597,
          1.6932991143059244,
          3.9573825756268395,
          3.122821692457828,
          0.43849707916781216,
          1.6062717147222179,
          7.103820304209409,
          2.475487300020971,
          4.667615698373254,
          2.863459008233395,
          0.59378819233368,
          2.9102744782229384,
          3.8429688698052447,
          2.7076900157104933,
          1.3632515246193089,
          6.937508183229523,
          0.5658498634145492,
          3.37010486007525,
          0.8312873558807068,
          0.8905965635186947,
          0.7193926696787183,
          4.976955767043754,
          3.540305010893246,
          1.4743972902968718,
          1.23294554860597,
          0.7876383780579187,
          2.974264570523913,
          1.5891487874143424,
          3.4822871492952356,
          1.603860399728625,
          0.7545975728078518,
          2.383072488265745,
          4.187592805307489,
          1.5079606774027379,
          2.737655459682038,
          3.916470982891647,
          1.7147782663680562,
          2.1294792866292767,
          0.7821527485420386,
          1.3431567452001276,
          5.081535167188272,
          1.5401523380149673,
          1.6821491338187295,
          1.3658074395729316,
          2.5087468114937117,
          3.5458734646755854,
          1.218241337162513,
          2.4114711466490513,
          1.5084343671419247,
          4.0289037329625295,
          1.6650125737302592,
          6.109254685456922,
          2.5364788271032936,
          0.2878219137956762,
          6.060989901963805,
          5.075940124132895,
          5.603196307573439,
          1.2377698646646218,
          15.027370651598094,
          1.5205701178591742,
          3.8856277234703356,
          2.8476942074649756,
          0.7735267776165428,
          2.052893978599979,
          4.4843736601871536,
          3.5908556473047457,
          4.015561099695071,
          0.995487139257816,
          1.3703799228273856,
          8.01317233809001,
          2.6537682883559786,
          0.2724503965470417,
          4.4190558449341575,
          2.484939293334495,
          0.7749200994500789,
          2.1378981185501886,
          1.906889772282346,
          9.896361786478616,
          0.44452175778201714,
          5.023949434595822,
          2.671589282487838,
          1.5747063600229376,
          1.9492477269134,
          0.044539140274216654,
          1.2522527825192487,
          2.0344572308538726,
          4.132815235343827,
          1.7389550284687756,
          2.348106530375691,
          1.455953185749674,
          2.8460710605075317,
          3.7454733772414617,
          3.185893855817121,
          0.9891628137793979,
          1.9465775901438966,
          null,
          1.5219581257317105,
          1.740076770076277,
          1.0954766911027682,
          0.4673384590374551,
          6.044587940499678,
          1.153640991849638,
          1.1861381775091975,
          1.8973919327772808,
          0.5418000578944201,
          6.079025190570542,
          4.361821584529008,
          1.186748239183426,
          4.820300472474385,
          2.2163829913255113,
          3.1627821442132236,
          3.5127028877651725,
          2.532365620700864,
          5.545816135972377,
          1.6580672714297437,
          2.437102161572628,
          3.2786704224298058,
          2.9344085406227265,
          4.202496374204895,
          1.665513172242443,
          1.3458305244434339,
          1.172092658262363,
          1.870760870958537,
          3.1523739191752145,
          1.142850631131839,
          6.224889137267717,
          3.2276215228022327,
          2.9775298703768263,
          3.7163851080487094,
          0.4640597865923667,
          2.7796241516844518,
          4.894225271583762,
          1.9597696488782599,
          3.32956419778389,
          2.16473575622917,
          3.710870105034361,
          2.8700719674607686,
          4.508490722498974,
          1.244415025649512,
          3.2076185237391273,
          3.4383652253317494,
          1.9581476846836268,
          1.22219839055739,
          3.314190507738578,
          5.215939475644977,
          5.839297037775161,
          2.1211266723062945,
          3.624671553035541,
          1.5875960530108364,
          1.7537064865451053,
          1.9527157316422739,
          2.3665022079739044,
          3.2666003384306843,
          2.555131771385965,
          2.7629671808675846,
          1.3161841773460479,
          2.728996581524811,
          2.7047261326977106,
          2.0317394125322665,
          0.4807038883603414,
          1.4209584364759362,
          2.24056905370844,
          2.6416495214072246,
          2.4318653145871094,
          0.5396810591331874,
          3.889400288074591,
          4.4463525408015885,
          3.4712719972152555,
          3.416354510008098,
          2.875392943586859,
          2.3157618104529654,
          3.2553862586759004,
          7.888315414306629,
          1.3858762445107224,
          4.6602180172053105,
          3.2434756147630064,
          3.931896479986686,
          0.4931781644685724,
          4.814258251846001,
          2.483512266066072,
          1.8118205734086905,
          0.6388650037162068,
          1.2839214520505782,
          0.41001746653787474,
          6.456328592920606,
          1.690034555348135,
          3.1744757229881784,
          6.943833979422309,
          3.0174234721332067,
          2.8899601639628196,
          7.145858632587367,
          5.730286991834467,
          4.366881022698603,
          4.400566308940981,
          2.387329108863517,
          3.2333563289703355,
          2.5987793541591953,
          0.7899634429129292,
          2.5152575599730342,
          2.9922969922838694,
          4.053157045339237,
          1.5326307956241447,
          0.9275946539140458,
          3.3907774946487548,
          0.41169604901634693,
          2.096038396350446,
          2.714331252797492,
          4.80869955962973,
          3.4782153660223694,
          4.259332064861911,
          3.6371779962123734,
          3.959620892273754,
          2.9445384298843216,
          1.9885040746204403,
          1.3976674639192976,
          2.678482654274289,
          0.4658211245495254,
          10.82834598380858,
          5.685474739550619,
          3.0161752374358457,
          5.5169713192079435,
          1.200605186976567,
          6.918000475570432,
          0.8997390941272387,
          6.056399248366668,
          3.8895105892024877,
          1.7328757022001156,
          1.7675703672988337,
          2.4000445774803625,
          5.781645077903183,
          2.7905213030884877,
          1.838843889601417,
          3.5899781388258556,
          1.3697639270119122,
          15.70838030815483,
          2.4735657709258176,
          3.587615615965606,
          3.1188114604315937,
          3.733590194274145,
          0.8459767911799732,
          2.9636372358168352,
          4.878427753503089,
          1.5392681062589253,
          3.9854318418314256,
          3.7336751777877444,
          10.254310254310255,
          3.581163664366069,
          4.20201055841517,
          1.157863129734783,
          5.432410736494584,
          2.5765955216436947,
          4.326342114636587,
          1.1001469217606974,
          3.25526186065301,
          3.416234456039493,
          2.4278622125838116,
          6.071675387501234,
          0.8275827206277776,
          3.9203465901467642,
          7.619540991674986,
          2.145095820214694,
          0.7743332452720572,
          2.1739115663592044,
          1.209367604021787,
          5.208192128749588,
          1.1281505355566344,
          3.779906070265794,
          2.7949633389290396,
          0.41572509973382576,
          0.35001762286226196,
          3.8387413243884305,
          2.1494040167637296,
          1.9545085377848541,
          2.4687760008926602,
          7.5784900786661975,
          3.7852809244011567,
          1.879935022713003,
          0.6919778164884028,
          0.07453748426870883,
          1.5342023195426335,
          1.0111967503825041,
          5.120418824578912,
          2.6901141011462104,
          4.050540169411152,
          3.512901561436579,
          2.998168171531971,
          0.5669663439154632,
          2.1595124642812444,
          3.7537534028905584,
          4.043409916128332,
          4.321980322730299,
          1.8939981856926507,
          3.388478489823869,
          3.3396377690520738,
          1.7886231836841078,
          0.9766546658330759,
          3.7056802207528508,
          3.614965950621828,
          0.25110506193956555,
          3.8233382090037384,
          6.1501460230201,
          null,
          1.4637095847159531,
          0.42749757742188155,
          4.049344335102031,
          3.9121407496448475,
          1.207255336442956,
          3.1186094069529653,
          3.3864921786028663,
          2.1229667302674873,
          4.754246173683016,
          1.2911576044676683,
          3.7739395192361904,
          3.4230032867136106,
          1.5268678597082048,
          0.7870858456658452,
          4.288402422291414,
          0.3575395677311339,
          4.253712239509757,
          1.315407661072581,
          2.724910457195028,
          3.2432917296701604,
          2.4554655697935694,
          1.3230740276691069,
          4.333226700697874,
          2.657221546126909,
          1.6141738996981736,
          3.2013708382680464,
          5.05522972879168,
          4.1799188803365395,
          1.9248401040445562,
          2.667910290991286,
          0.9950022334140444,
          4.486187627504509,
          3.8334249575548034,
          3.255413706411461,
          3.9091120747307473,
          4.378672633262567,
          5.387391659422008,
          4.161945300990316,
          2.8396371787305377,
          6.59210345930631,
          5.413375460768826,
          2.4240728688275417,
          6.934987185438284,
          3.321189906801064,
          5.277073923102347,
          1.968102432653757,
          2.1842992154555803,
          2.204779831943105,
          3.94748904493867,
          3.6704826135749165,
          4.08720838789601,
          1.0233113799608107,
          1.1809309601282534,
          3.5271699302551767,
          5.734073750545954,
          1.1274172552552255,
          1.0036948498075269,
          1.0450872747492785,
          1.2703534812199102,
          7.116384204092528,
          3.559887895516685,
          4.7249655338219325,
          2.4140054616821733,
          1.4054879781546417,
          1.5335427134656479,
          0.6434528082610759,
          1.0555978752317923,
          7.43801652892562,
          2.0616140194218104,
          0.9946332737030411,
          5.360069038696593,
          0.8293512594152427,
          3.9561523486144092,
          1.1250403446844919,
          2.1394057835158335,
          6.539802364289271,
          5.056469198939541,
          1.364133543990491,
          0.7687272852541468,
          1.1960785230748863,
          4.083584725185785,
          2.970569654352162,
          0.8386649531394581,
          5.124149416569271,
          1.7460781798908476,
          2.503279911122742,
          3.549147941817067,
          3.7526532868713693,
          0.61061551490628,
          3.0835714218950083,
          3.509756132981518,
          3.3037075270745038,
          3.1821764523464955,
          9.101056983017394,
          4.8046220765606735,
          3.1282176634761396,
          1.4471190132953686,
          2.6095789841424537,
          1.4135449396517783,
          0.8171255345201722,
          3.839407615291262,
          4.831732397963172,
          3.6624907466663554,
          5.658627087198516,
          1.9000029684454252,
          4.127259492430838,
          3.2383597969478863,
          5.98517482369273,
          1.8285337003262636,
          4.047133343047425,
          4.353990903725307,
          1.073765217401609,
          1.7941163124384867,
          3.61826763751632,
          0.6295891967877493,
          3.7204526415029924,
          2.3173119385725993,
          1.4345898751384654,
          3.946741229257885,
          1.7986251668721431,
          3.3423623432265632,
          1.9432890907800413,
          3.897619067488963,
          1.4663042014202188,
          0.9340100293941812,
          3.6264559434807513,
          0.4939720657539676,
          2.050131739486868,
          2.0633202770304004,
          3.406531420995667,
          1.3408478793908527,
          9.526513612737274,
          4.193106785328587,
          4.185448128252735,
          0.6824187462084992,
          2.136865606242565,
          5.404919200497589,
          1.1563313410733778,
          2.7967472184703768,
          5.273905440381488,
          3.0040440683468725,
          0.8188244021084016,
          5.030919930404432,
          3.362921369108292,
          2.467122582896823,
          0.8252670523680219,
          4.503460993170678,
          3.2884929007767223,
          4.2506134640572,
          1.142334029537833,
          2.8117439649372926,
          1.43324302392988,
          7.825557584813769,
          4.84274928585896,
          3.1863789086917644,
          2.5251984223596433,
          1.457841222446051,
          3.062080536912752,
          1.6751160410917822,
          1.6714356052732904,
          7.14444173026975,
          3.594068043035766,
          3.532010661004391,
          3.2838902554272145,
          2.4757928306914385,
          1.371948462248054,
          0.8161895003887748,
          2.1494494730934175,
          1.6124455762361884,
          3.468942469688182,
          1.8514652708515351,
          2.4411827642439947,
          3.524013105775767,
          4.256267483204834,
          3.706056354052106,
          3.2934714022698395,
          2.9511815582817644,
          3.4519250820259813,
          0.8063706823998478,
          2.3787656645901025,
          3.979092469702016,
          1.621671195214798,
          3.580170513888186,
          1.9059325188929443,
          0.6853440620246029,
          0.616291487197945,
          1.6470454673542505,
          2.7819533318623124,
          4.903710662282762,
          7.20141976547046,
          4.729378186737227,
          2.254487097727269,
          3.5067232147162413,
          5.210600400031721,
          1.3055556896071911,
          1.195612639471825,
          4.489900939148335,
          2.7870083101038894,
          4.572674472705825,
          0.8672250454066196,
          0.517563426001487,
          1.8316130189239486,
          3.5911159219836835,
          2.8403727191760724,
          3.9088543838738237,
          1.869906605180739,
          2.436793076571443,
          2.7126449140880324,
          9.094144161954846,
          5.447163718201901,
          2.898920919564197,
          3.402388895508161,
          3.048923612518241,
          1.1294343240651965,
          0.9932257240868723,
          4.486220969612086,
          1.0240930387599771,
          3.847451027035129,
          3.6266321044546848,
          3.213310571928787,
          2.3428041321404423,
          2.1862022654324393,
          0.4342239705479432,
          4.115946414416666,
          4.414593122798549,
          5.402686132056255,
          1.1903103603862775,
          7.100591715976331,
          0.3736005131762477,
          1.0560482589940174,
          3.7563377978083485,
          1.2618456980707797,
          3.1361631354400177,
          1.8792864949406907,
          2.4359033758773925,
          3.756218312433446,
          4.685559137156922,
          3.1544008787430156,
          4.492446918711432,
          1.4434916058523053,
          3.0316971764773464,
          4.440239806813157,
          3.1248462484624846,
          1.8198384114392396,
          1.3925849925721676,
          3.707653249616579,
          4.686869210786792,
          6.009432527004412,
          2.3395618655782133,
          3.611571323943548,
          1.1624715484132788,
          5.5522611653818545,
          3.3335558373940324,
          2.6638977406996314,
          2.9380548592408755,
          0.46418665319470087,
          6.465717517571319,
          0.32768375449491294,
          0.5273231329752102,
          2.89535651724435,
          0.5625371664136376,
          2.43211699975917,
          2.402113127875178,
          2.2829581065383917,
          5.167926000125757,
          3.857065175172843,
          3.048718306253733,
          4.99534595097735,
          5.612175954642621,
          3.9423805913570886,
          0.97070165329551,
          4.665609304784563,
          3.4948005791759904,
          5.302958828951092,
          0.41529791043153613,
          3.0534842863480476,
          4.8949862199112095,
          1.4808803193116533,
          7.916734748175536,
          2.8594765771978334,
          3.5247479277724536,
          3.144193407694204,
          1.022156720705418,
          2.81410487139856,
          4.100954460988971,
          3.6191405775858385,
          4.052190679124671,
          2.3831780608976043,
          1.3687600644122384,
          2.0329086082491976,
          2.788554066481321,
          4.1763079477259035,
          1.4843469117928243,
          6.005947707513505,
          2.5682880038419587,
          4.880417793193926,
          5.710805673544731,
          4.092204876601739,
          1.4860045754272642,
          3.811303309740297,
          5.242487898438213,
          5.5376636413066205,
          4.674222516323915,
          4.997466513715673,
          1.6193660103459497,
          0.12123919216411957,
          1.5804619835652907,
          3.4991346688840457,
          3.4399837245152893,
          2.6955128876367263,
          1.2889950403560602,
          6.204301667224243,
          2.6354663989090064,
          2.1292482597490183,
          6.148798954407134,
          1.9737631802346014,
          2.8027750076441285,
          0.7296527168638116,
          4.904567279076227,
          2.6552189569673077,
          2.5926048017354777,
          3.6760926141731014,
          2.20408617301346,
          3.174464444577084,
          3.1386247925515454,
          1.4474190389592223,
          3.9989715533338113,
          1.4181912600511886,
          0.4477401199053004,
          3.9912349350446084,
          4.770959377700951,
          3.762315898548156,
          4.8786140564343246,
          3.3342602957808074,
          3.094871587134408,
          1.235173181373314,
          9.38751801817553,
          10.411620431605751,
          2.3885659323506827,
          3.037841588947186,
          6.096675557868714,
          3.7917417302741825,
          2.653505106159067,
          1.1966527685370665,
          4.158204605579785,
          7.773855941909756,
          4.60317585755191,
          2.797765685490429,
          0.5773457286492621,
          2.0391319620889936,
          2.780364980759755,
          2.6778277527902716,
          5.056702829702195,
          5.579160038393642,
          4.2385286444499535,
          1.4524246272517756,
          3.8649073028291228,
          3.3882706771399596,
          1.0939030046899965,
          3.8443888659859407,
          3.8450147674531823,
          4.276899888454797,
          5.486461177869114,
          3.5068960752534175,
          4.268006771165854,
          2.5394218240252457,
          4.380792001553795,
          5.5079676508589746,
          3.2011686368236334,
          null,
          5.543107443661162,
          3.848911690142958,
          4.953927547145128,
          4.979964625463548,
          1.1725998670724376,
          2.7523373907330817,
          4.538349218171885,
          2.849276383418612,
          2.2985488029164918,
          6.9111408829048235,
          1.355942370444786,
          1.696918485751252,
          4.067653712531636,
          0.7942062551162304,
          null,
          2.9536172871371678,
          3.89574097621713,
          5.393280099799679,
          1.839364490590108,
          1.887863080084655,
          3.0134332003582185,
          0.35123186319326105,
          5.709959085572976,
          3.4481799653831233,
          0.654233399889545,
          2.678117963426699,
          5.085554865635707,
          4.763621248433126,
          7.651499714435774,
          0.46919129035196944,
          3.6484986297549646,
          0.9776086661469168,
          4.556653758716086,
          6.679878931180126,
          5.98524894114168,
          3.394477261807185,
          2.1604723324898827,
          4.026086693800742,
          1.613205727976585,
          5.095932908109082,
          4.98608715793032,
          3.309976832527639,
          7.126125694745211,
          3.118779104533703,
          2.587923273752825,
          6.132019026535436,
          1.699847921780008,
          3.493512532156952,
          2.4163506951373646,
          4.094803605207522,
          3.015241822501978,
          2.758024614683932,
          3.0552712634336987,
          5.110132158590308,
          6.147205957223453,
          3.032388596825818,
          3.369459136475813,
          5.717003155937919,
          6.7669172932330826,
          1.616400551941652,
          2.2747332103024953,
          2.6291198383634296,
          7.409598948060486,
          2.5881767415052996,
          4.654579596021697,
          2.7221762089650845,
          4.957540963999522,
          1.0489772471839955,
          3.856708502609037,
          5.372495923951714,
          3.841063808280065,
          5.776353420310652,
          1.9846126687177599,
          4.642976573912738,
          6.216034157631315,
          6.399834842971794,
          5.38485375795571,
          2.2413106542283914,
          3.2644756049011368,
          1.2500044351562416,
          4.438986304043723,
          2.2272777094013376,
          3.2053240202492708,
          4.48602956047335,
          6.68626941910242,
          5.830402803627484,
          5.447318925440931,
          3.4990877368040914,
          2.677414812728809,
          4.79956775871435,
          2.990794962792846,
          1.7471071670601517,
          6.542021197193611,
          2.2372664978589034,
          3.6857310969925754,
          5.478852624749144,
          0.6200018670068768,
          2.827302663626975,
          2.8788847152189088,
          2.958389143496689,
          3.552774813914658,
          1.6724890270899715,
          3.411419192599251,
          5.243320704344241,
          4.487299390221092,
          2.5954736244840024,
          2.35750326786684,
          2.9599209065328163,
          2.3955680081507897,
          2.7514414610021474,
          4.2671108787374,
          4.984435328369534,
          2.7305822027296993,
          4.185112459835773,
          5.463139530165943,
          2.394336473341903,
          3.416380427591332,
          2.9717169767089096,
          3.4961079219781115,
          2.535734850442495,
          4.028340008390134,
          1.54918061306148,
          3.57867766495404,
          2.5551729013223357,
          1.5196932052618735,
          5.567978095765834,
          3.9731398955495565,
          11.192013705851345,
          3.225091701267991,
          4.388016817973268,
          7.314762175478491,
          2.1376241234610074,
          3.4844210282744323,
          6.713587562782858,
          2.41423279342948,
          3.039359422578099,
          7.548379575658662,
          2.429620576488096,
          5.797101449275362,
          4.260257689648478,
          8.127748318675634,
          0.5213082423227201,
          5.276776161439467,
          2.6204575864764252,
          3.001932367149758,
          1.6703540982918978,
          2.0319787726068377,
          1.8145060926031429,
          5.335121584161504,
          1.1477059017148368,
          2.8843081611779233,
          2.7524776616766315,
          3.6661162065285087,
          3.6955736103117345,
          2.084005197488924,
          4.758947865179702,
          4.078239282061298,
          1.2094693723725476,
          3.7146168992018294,
          5.083842972556172,
          2.4509750352431356,
          4.960415954112003,
          3.042059173591565,
          1.6734292831027453,
          4.139682003923763,
          3.452870050383244,
          2.567133149010707,
          6.293672998353974,
          3.1414625915329397,
          1.974311468336741,
          3.5019677755726732,
          1.5186734852006818,
          4.932095299094885,
          5.176627773995801,
          3.4024383596489636,
          3.3520617820348035,
          3.268735434809273,
          2.9446159643027476,
          2.81395684144759,
          1.5337154036192173,
          5.764456993695991,
          3.1252219159334023,
          2.7680455384511644,
          1.3777490297542045,
          2.6659126008744263,
          5.367458279845956,
          1.1357439348119038,
          4.854240865321198,
          6.397390420848113,
          6.748285938762937,
          5.892821289722015,
          5.743850991005333,
          1.5517681836429327,
          1.2097757191613847,
          1.4046723456942085,
          2.6109577875801606,
          3.2704408066984345,
          3.3912135876269094,
          4.165456801203706,
          3.168092648614539,
          2.1997919485659314,
          2.479873490511788,
          6.374783334403287,
          3.1238425972019224,
          2.8646518649842796,
          1.6613246168004823,
          0.6109701050199857,
          1.3898554470801106,
          3.3975040311918328,
          0.24538990246713313,
          2.3070559314630485,
          3.000238149800718,
          5.282968261063925,
          0.02285824280266118,
          1.1319845857418112,
          1.783728069524982,
          2.2974809824482936,
          2.3488954050693156,
          3.5546950173002223,
          4.648967214052755,
          3.1491347365531697,
          4.602931701030928,
          4.100698746221319,
          1.1632681959784763,
          0.951597542769875,
          0.4282549969667466,
          1.5261772978858543,
          3.7860689753400534,
          4.361049476099028,
          7.182402598888152,
          1.3747543433933367,
          3.0232781727554374,
          7.3191517054831445,
          2.094822795092129,
          1.075745214935676,
          3.6901585430175916,
          3.0063015701702467,
          2.7629027379956943,
          0.5103923641299248,
          3.8241284293758233,
          2.589662630929303,
          5.247841691725676,
          1.7100753941055518,
          4.215841869860049,
          1.1699662774425914,
          1.4744027303754266,
          1.916113280098135,
          4.736939063067908,
          4.360445310477332,
          1.297675468291582,
          2.009054895302773,
          4.701805552974511,
          2.54284854660056,
          null,
          9.502032770728102,
          1.4489311001760397,
          2.514592791624201,
          0.6382852080991845,
          2.412945920926612,
          2.421804207239143,
          4.241175304104855,
          2.669783283801382,
          4.314212987628012,
          4.324272830383139,
          1.359599099200977,
          1.1707385100801004,
          2.3433979269941414,
          1.8629816929769278,
          1.4777136554332198,
          2.756994904302953,
          5.430395693017473,
          4.183217477656405,
          2.7472527472527473,
          1.9426982973749882,
          0.6575206890016635,
          1.0502495516688526,
          2.406982516348172,
          3.628196268140981,
          1.9284338966311643,
          1.043728872907492,
          1.9844890510948905,
          0.7340041539795528,
          4.76262530735767,
          1.3814661692043964,
          3.6486000224895987,
          5.660397547517736,
          5.393392010524814,
          4.33664482491369,
          1.246231582523035,
          4.776269482151835,
          2.9418712408918286,
          5.240435578683627,
          2.764830267615561,
          1.4675471061763896,
          1.3440935716314182,
          2.008992678735375,
          2.8414030542441804,
          1.0114962436943862,
          3.082241106150079,
          3.430727983742892,
          5.240435578683627,
          7.649757729085374,
          3.7694314866147605,
          0.932121627089104,
          2.6066451781938715,
          1.1236166086780952,
          2.2743806329062766,
          1.6590120911050708,
          0.35386205631783396,
          1.5314766223838352,
          6.008101004940271,
          1.210030314176634,
          3.6148611768130707,
          6.467786647280986,
          0.28656743173172045,
          6.038991916310033,
          5.11149147693967,
          5.498473850140752,
          2.0350334878928384,
          2.5076765609007166,
          3.0399753078556784,
          2.050051630929964,
          4.87041786542461,
          4.870500920247437,
          1.9425167157841365,
          3.2446255893870375,
          3.841933824789988,
          1.3887463571991143,
          1.4005135341148092,
          7.312529110386586,
          5.234237692167834,
          3.2098985453040414,
          1.1328066775972574,
          0.5535094628829327,
          3.515469414850203,
          8.496452383499127,
          2.0182660489741893,
          1.6339753732464708,
          4.47944006999125,
          3.3415817469750406,
          8.111710568073626,
          4.244436212350041,
          2.024384987222513,
          2.1302980580114896,
          11.721756290083867,
          1.7315480204733307,
          9.726129666011788,
          1.7495508737546954,
          2.1862452771289247,
          1.1227579781038899,
          0.8254803126597999,
          1.3732564769694442,
          11.532727458388644,
          17.82104957872584,
          1.9209489664940467,
          4.041469500969347,
          1.9403521379805964,
          1.0800470278779668,
          3.8358863755034416,
          5.239734381352487,
          3.0590698042365716,
          1.2451395396430456,
          5.939535830618892,
          14.456673654786862,
          6.563210800498936,
          7.487380818844644,
          4.2151556156968875,
          8.452900810979413,
          5.555555555555555,
          5.16118196105719,
          6.8254188010521935,
          10.299030149515074,
          10.017235075991017,
          3.2192313481511214,
          1.4646214745175654,
          14.841696535244923,
          3.4235085919170842,
          2.5268504462068866,
          12.733480618598112,
          5.632760037610963,
          2.4039515295738485,
          5.084793298805228,
          7.09723025347159,
          12.244221644766604,
          0.7743161837673138,
          1.638272242299088,
          2.274341278656882,
          8.361889927310488,
          3.2071308687917623,
          2.6918633218682353,
          17.72219265566791,
          3.0603981407944585,
          4.864241212214445,
          4.294290242946483,
          6.390775144138374,
          7.90882830327288,
          16.541353383458645,
          5.793755832179603,
          10.12606811890721,
          8.704253214638971,
          0.7464503042596349,
          9.646213377556661,
          4.690550005741187,
          6.078813467576053,
          6.233228551713562,
          5.148457952876572,
          3.309753644902064,
          3.550555691207398,
          4.85778551734146,
          null,
          3.68137552170656,
          8.001929020802736,
          4.526384317696842,
          1.004793381500063,
          1.9507680918008512,
          8.953207697588415,
          8.977344907897523,
          6.744532803180915,
          2.3713826366559485,
          2.7640733712839975,
          4.171500022597508,
          1.3099979040033536,
          1.0089628681177976,
          5.81738354942718,
          1.5250335699213504,
          6.7605112057788475,
          1.3313161875945536,
          1.3612136121361214,
          4.336157278665201,
          8.25909428359317,
          8.002836136072876,
          9.948053083014823,
          7.259921441148584,
          12.736483088430273,
          1.14238319914243,
          3.6526181353767564,
          6.001280460778267,
          1.29328558267122,
          7.7377602701181765,
          1.30835455317085,
          3.1257314679774573,
          5.867451411722032,
          1.1560693641618496,
          1.8035599062022944,
          17.13855421686747,
          1.3566739606126914,
          6.410139923677994,
          0.5731451499665984,
          1.26444935942912,
          1.8261139954959624,
          2.7604600766794465,
          5.429801894918174,
          5.501529937383268,
          4.294290242946483,
          9.270331737068856,
          4.18186921133876,
          3.490826083211301,
          10.49294413299826,
          4.287071712033984,
          7.805695142378559,
          2.089735709895513,
          12.517000248287005,
          4.088397790055249,
          4.8565230253426686,
          2.8375733855185907,
          4.927251265705868,
          2.21156475998448,
          9.445709241276774,
          15.746128652739355,
          0.5134008503263409,
          5.310978907517577,
          2.337453320089022,
          16.257249185291002,
          13.88798964066041,
          5.656607730818162,
          3.2152750296794617,
          4.1049860404643566,
          1.0579832385847012,
          4.051860484475152,
          0.46244065127580697,
          0.5523828583817576,
          6.31857737419599,
          1.201034537665859,
          2.8108244496309847,
          3.0078459133410025,
          7.072221645740376,
          3.49953339554726,
          9.669902912621358,
          9.280813409017068,
          10.759130601058066,
          10.03630705394191,
          5.974464823814252,
          10.029035380148404,
          9.964441985100475,
          5.119280302016118,
          5.534857424508198,
          6.379665867104321,
          null,
          7.593366414207364,
          6.638471711206841,
          1.134014578991857,
          5.475312186718317,
          9.314336598397151,
          5.528597814857715,
          5.111126691439389,
          3.234042553191489,
          17.356536062797055,
          4.510460490541198,
          6.462683962538537,
          11.288347032325468,
          7.798335481334235,
          3.4988664108824556,
          5.545347467608952,
          6.331199221236288,
          1.845444059976932,
          6.451300899506722,
          13.196851413948366,
          1.195155585992101,
          9.909310076129783,
          7.722583003008069,
          6.701312910284464,
          12.81168492436098,
          5.186626219994724,
          1.2600428695626105,
          10.028166154939228,
          3.376790732743848,
          6.780985456913393,
          6.603274751077692,
          0.7483516649315771,
          6.900749663612482,
          6.138131384125199,
          4.937947494033413,
          4.333093877343437,
          3.781223852521473,
          5.046658362771323,
          5.745260594817091,
          5.655255617553913,
          7.835759406756386,
          6.220113780264228,
          7.23706112832595,
          12.272727272727273,
          6.008199621235771,
          7.606927566740025,
          5.899729912221472,
          2.3828301764819964,
          4.505020028091349,
          6.221906789685356,
          4.498700029075525,
          5.303216302479745,
          2.506795530051344,
          3.2984704957096405,
          8.322893994175525,
          1.2779552715654952,
          7.792836398838335,
          6.645260365768532,
          5.371096427494311,
          2.1281549781130673,
          6.462396345900305,
          4.774073829677042,
          4.605060641507111,
          3.1137781137781135,
          2.5495750708215295,
          1.312681798970738,
          3.5696952954088985,
          17.195692619947003,
          2.5279989428127787,
          4.494629578628477,
          10.35740335521517,
          1.1822327309576086,
          8.069879674314775,
          1.9625816978485853,
          1.763016786225209,
          10.58168316831683,
          7.079646017699115,
          5.233809859131203,
          9.75609756097561,
          4.3992969396195205,
          6.1028598514773265,
          8.79155882938483,
          5.820996391364778,
          7.939274502619356,
          1.4024041213508873,
          13.774429008712033,
          7.778420261362322,
          12.373737373737374,
          8.449117536612842,
          7.119653492149432,
          1.1450381679389312,
          6.818118914370803,
          2.3521720603142757,
          1.0355880660803813,
          5.841908751479829,
          16.407904022582922,
          0.4148643650806413,
          5.829365590014155,
          0.7483493997553807,
          1.2419949543954978,
          12.93205193053448,
          1.6632548618219039,
          3.7737954428797784,
          10.436799381523,
          5.078748651564186,
          7.244007242656,
          2.6650576246353492,
          8.344063868143188,
          4.930416296005911,
          26.334896384813188,
          6.156402962351928,
          6.232195451692337,
          7.025594928324738,
          4.54012659217004,
          6.136886419860249,
          3.2511167216935326,
          9.012760241773002,
          4.08955223880597,
          2.35946093454805,
          3.7450396825396823,
          1.59930212271009,
          4.61217828940146,
          1.9896377457850258,
          8.087543611054882,
          5.41209814946371,
          5.767399616190323,
          15.24397872074251,
          3.2254371655075698,
          11.051042933729784,
          2.930945944636611,
          2.4864844500536853,
          2.492100703292223,
          5.657382604963668,
          2.410437272944234,
          1.6904048603323907,
          3.3524776278883395,
          3.2620720934569936,
          7.397612751054249,
          7.295459413150568,
          8.087253109234979,
          6.343809025903939,
          7.4016411458714915,
          5.858699154008614,
          3.5359824899052796,
          3.4533431300514326,
          2.137583401309322,
          7.009978852762358,
          8.01858210462533,
          13.14475873544093,
          6.198433058309645,
          8.858151854031783,
          9.94878162346733,
          8.376166000380735,
          0.6299212598425197,
          1.4225941422594142,
          1.8929563704088177,
          3.591689417426311,
          2.5698002417822807,
          1.9372942636662889,
          5.384063173007897,
          1.9936434556486564,
          14.766015447523854,
          2.28956228956229,
          3.464909579818133,
          1.8528120571053268,
          1.9509690668720319,
          6.271186440677965,
          11.291164698422763,
          3.472505923686576,
          7.222864575805753,
          8.169864194869584,
          1.9252984212552944,
          3.308158706520583,
          11.821903787103377,
          2.1086188903661136,
          2.2867252479426816,
          3.06920317601064,
          15.697797319578912,
          2.1803803426849933,
          5.849104002679619,
          4.965369114559452,
          5.309171708991042,
          7.338551859099804,
          1.7240818920841745,
          1.9986176032990077,
          4.40876643184532,
          5.438047311487102,
          3.5118325242718447,
          10.492706862942798,
          5.370682392586352,
          11.899634396754646,
          9.434076955808157,
          7.221273481336911,
          3.814458082687159,
          6.20793895857395,
          6.337396994457062,
          8.1631780681381,
          9.713945172824792,
          16.10968294772922,
          7.2860247033863,
          9.502428590087016,
          7.381643622984277,
          5.068550062318238,
          8.73684091243895,
          16.735347985347985,
          2.468692669697695,
          7.09796672828096,
          21.183174124350597,
          9.438919631475258,
          5.691934178581063,
          6.489458172749943,
          14.779332145302341,
          3.2762268658516134,
          12.714890789801512,
          3.9979085387925837,
          9.975051113693066,
          2.7299231380864035,
          9.371828126762152,
          7.324425615121395,
          2.704850223664988,
          10.638743748079019,
          8.154793786823781,
          6.385062128579147,
          5.4726979792816515,
          11.28492825547524,
          9.309413916223983,
          3.5118325242718447,
          6.011721583001744,
          11.76304300028269,
          7.129993920693729,
          5.550014667057789,
          10.626245672925627,
          3.548564111944394,
          15.968147527242246,
          5.531334486202109,
          6.677975489856677,
          6.805545259100007,
          11.504022027283794,
          4.457590974754075,
          5.1267056530214425,
          3.687880149294996,
          11.50561797752809,
          6.608126625464918,
          3.7567371892848525,
          7.937479038672038,
          2.9581347881885756,
          12.587064676616915,
          13.053441788590451,
          5.490126627114141,
          1.9319042393706627,
          5.6116357321176595,
          16.127558015538515,
          9.059203444564048,
          7.153417929828622,
          7.222699914015478,
          6.105690271471356,
          8.321833938580909,
          2.413795473446188,
          1.9847422936178132,
          5.719180338670356,
          1.9737880941102164,
          3.544490096277672,
          9.532704155197273,
          11.341154819415689,
          3.5800240673886883,
          7.442170279762626,
          7.2875133235955944,
          0.38682169012416356,
          11.34420844376423,
          4.407407659667214,
          8.684117140105108,
          2.008532668616078,
          2.4963391674220765,
          9.62649523964521,
          6.503691269786114,
          12.67839166222538,
          5.912764141946494,
          0.7921373037993251,
          5.773762765121759,
          6.244178548398653,
          4.464469973171906,
          4.339586886488536,
          7.108645568085365,
          5.598582637307011,
          null,
          3.1895047695293917,
          1.6975656697791208,
          5.33073250262024,
          4.45564415982393,
          4.0054798095113835,
          2.3091247672253257,
          13.46998801699408,
          3.7285965754520722,
          5.910300266058533,
          4.195517759269734,
          4.166380965441579,
          5.562708102108768,
          4.9784473560667495,
          5.8621466381349245,
          6.096059113300493,
          4.293614040669558,
          1.9279156121261385,
          3.733275026625946,
          5.072536068485223,
          10.343141781599517,
          13.053294952279456,
          7.867413390595554,
          1.135491170646947,
          0.9479824987846379,
          5.551216364146283,
          6.785569085371137,
          0.9234414747186117,
          3.185715130373086,
          11.177510980966325,
          3.5966489351843274,
          5.1290760869565215,
          10.99305435202837,
          4.880320387445282,
          6.328277925426103,
          10.04313571158491,
          2.360867950554406,
          3.185195702588859,
          2.967079159703497,
          2.4972098214285716,
          8.013053634582896,
          2.9199035628181087,
          2.4329645602850176,
          3.474823137744486,
          3.141955213574036,
          2.87939730575241,
          6.799950251850009,
          4.314690706363798,
          5.26128688233203,
          8.464219630793062,
          4.249392835458409,
          0.607284072140009,
          9.747101304987133
         ],
         "xaxis": "x",
         "yaxis": "y"
        }
       ],
       "layout": {
        "barmode": "relative",
        "legend": {
         "tracegroupgap": 0
        },
        "template": {
         "data": {
          "bar": [
           {
            "error_x": {
             "color": "#2a3f5f"
            },
            "error_y": {
             "color": "#2a3f5f"
            },
            "marker": {
             "line": {
              "color": "#E5ECF6",
              "width": 0.5
             },
             "pattern": {
              "fillmode": "overlay",
              "size": 10,
              "solidity": 0.2
             }
            },
            "type": "bar"
           }
          ],
          "barpolar": [
           {
            "marker": {
             "line": {
              "color": "#E5ECF6",
              "width": 0.5
             },
             "pattern": {
              "fillmode": "overlay",
              "size": 10,
              "solidity": 0.2
             }
            },
            "type": "barpolar"
           }
          ],
          "carpet": [
           {
            "aaxis": {
             "endlinecolor": "#2a3f5f",
             "gridcolor": "white",
             "linecolor": "white",
             "minorgridcolor": "white",
             "startlinecolor": "#2a3f5f"
            },
            "baxis": {
             "endlinecolor": "#2a3f5f",
             "gridcolor": "white",
             "linecolor": "white",
             "minorgridcolor": "white",
             "startlinecolor": "#2a3f5f"
            },
            "type": "carpet"
           }
          ],
          "choropleth": [
           {
            "colorbar": {
             "outlinewidth": 0,
             "ticks": ""
            },
            "type": "choropleth"
           }
          ],
          "contour": [
           {
            "colorbar": {
             "outlinewidth": 0,
             "ticks": ""
            },
            "colorscale": [
             [
              0,
              "#0d0887"
             ],
             [
              0.1111111111111111,
              "#46039f"
             ],
             [
              0.2222222222222222,
              "#7201a8"
             ],
             [
              0.3333333333333333,
              "#9c179e"
             ],
             [
              0.4444444444444444,
              "#bd3786"
             ],
             [
              0.5555555555555556,
              "#d8576b"
             ],
             [
              0.6666666666666666,
              "#ed7953"
             ],
             [
              0.7777777777777778,
              "#fb9f3a"
             ],
             [
              0.8888888888888888,
              "#fdca26"
             ],
             [
              1,
              "#f0f921"
             ]
            ],
            "type": "contour"
           }
          ],
          "contourcarpet": [
           {
            "colorbar": {
             "outlinewidth": 0,
             "ticks": ""
            },
            "type": "contourcarpet"
           }
          ],
          "heatmap": [
           {
            "colorbar": {
             "outlinewidth": 0,
             "ticks": ""
            },
            "colorscale": [
             [
              0,
              "#0d0887"
             ],
             [
              0.1111111111111111,
              "#46039f"
             ],
             [
              0.2222222222222222,
              "#7201a8"
             ],
             [
              0.3333333333333333,
              "#9c179e"
             ],
             [
              0.4444444444444444,
              "#bd3786"
             ],
             [
              0.5555555555555556,
              "#d8576b"
             ],
             [
              0.6666666666666666,
              "#ed7953"
             ],
             [
              0.7777777777777778,
              "#fb9f3a"
             ],
             [
              0.8888888888888888,
              "#fdca26"
             ],
             [
              1,
              "#f0f921"
             ]
            ],
            "type": "heatmap"
           }
          ],
          "heatmapgl": [
           {
            "colorbar": {
             "outlinewidth": 0,
             "ticks": ""
            },
            "colorscale": [
             [
              0,
              "#0d0887"
             ],
             [
              0.1111111111111111,
              "#46039f"
             ],
             [
              0.2222222222222222,
              "#7201a8"
             ],
             [
              0.3333333333333333,
              "#9c179e"
             ],
             [
              0.4444444444444444,
              "#bd3786"
             ],
             [
              0.5555555555555556,
              "#d8576b"
             ],
             [
              0.6666666666666666,
              "#ed7953"
             ],
             [
              0.7777777777777778,
              "#fb9f3a"
             ],
             [
              0.8888888888888888,
              "#fdca26"
             ],
             [
              1,
              "#f0f921"
             ]
            ],
            "type": "heatmapgl"
           }
          ],
          "histogram": [
           {
            "marker": {
             "pattern": {
              "fillmode": "overlay",
              "size": 10,
              "solidity": 0.2
             }
            },
            "type": "histogram"
           }
          ],
          "histogram2d": [
           {
            "colorbar": {
             "outlinewidth": 0,
             "ticks": ""
            },
            "colorscale": [
             [
              0,
              "#0d0887"
             ],
             [
              0.1111111111111111,
              "#46039f"
             ],
             [
              0.2222222222222222,
              "#7201a8"
             ],
             [
              0.3333333333333333,
              "#9c179e"
             ],
             [
              0.4444444444444444,
              "#bd3786"
             ],
             [
              0.5555555555555556,
              "#d8576b"
             ],
             [
              0.6666666666666666,
              "#ed7953"
             ],
             [
              0.7777777777777778,
              "#fb9f3a"
             ],
             [
              0.8888888888888888,
              "#fdca26"
             ],
             [
              1,
              "#f0f921"
             ]
            ],
            "type": "histogram2d"
           }
          ],
          "histogram2dcontour": [
           {
            "colorbar": {
             "outlinewidth": 0,
             "ticks": ""
            },
            "colorscale": [
             [
              0,
              "#0d0887"
             ],
             [
              0.1111111111111111,
              "#46039f"
             ],
             [
              0.2222222222222222,
              "#7201a8"
             ],
             [
              0.3333333333333333,
              "#9c179e"
             ],
             [
              0.4444444444444444,
              "#bd3786"
             ],
             [
              0.5555555555555556,
              "#d8576b"
             ],
             [
              0.6666666666666666,
              "#ed7953"
             ],
             [
              0.7777777777777778,
              "#fb9f3a"
             ],
             [
              0.8888888888888888,
              "#fdca26"
             ],
             [
              1,
              "#f0f921"
             ]
            ],
            "type": "histogram2dcontour"
           }
          ],
          "mesh3d": [
           {
            "colorbar": {
             "outlinewidth": 0,
             "ticks": ""
            },
            "type": "mesh3d"
           }
          ],
          "parcoords": [
           {
            "line": {
             "colorbar": {
              "outlinewidth": 0,
              "ticks": ""
             }
            },
            "type": "parcoords"
           }
          ],
          "pie": [
           {
            "automargin": true,
            "type": "pie"
           }
          ],
          "scatter": [
           {
            "fillpattern": {
             "fillmode": "overlay",
             "size": 10,
             "solidity": 0.2
            },
            "type": "scatter"
           }
          ],
          "scatter3d": [
           {
            "line": {
             "colorbar": {
              "outlinewidth": 0,
              "ticks": ""
             }
            },
            "marker": {
             "colorbar": {
              "outlinewidth": 0,
              "ticks": ""
             }
            },
            "type": "scatter3d"
           }
          ],
          "scattercarpet": [
           {
            "marker": {
             "colorbar": {
              "outlinewidth": 0,
              "ticks": ""
             }
            },
            "type": "scattercarpet"
           }
          ],
          "scattergeo": [
           {
            "marker": {
             "colorbar": {
              "outlinewidth": 0,
              "ticks": ""
             }
            },
            "type": "scattergeo"
           }
          ],
          "scattergl": [
           {
            "marker": {
             "colorbar": {
              "outlinewidth": 0,
              "ticks": ""
             }
            },
            "type": "scattergl"
           }
          ],
          "scattermapbox": [
           {
            "marker": {
             "colorbar": {
              "outlinewidth": 0,
              "ticks": ""
             }
            },
            "type": "scattermapbox"
           }
          ],
          "scatterpolar": [
           {
            "marker": {
             "colorbar": {
              "outlinewidth": 0,
              "ticks": ""
             }
            },
            "type": "scatterpolar"
           }
          ],
          "scatterpolargl": [
           {
            "marker": {
             "colorbar": {
              "outlinewidth": 0,
              "ticks": ""
             }
            },
            "type": "scatterpolargl"
           }
          ],
          "scatterternary": [
           {
            "marker": {
             "colorbar": {
              "outlinewidth": 0,
              "ticks": ""
             }
            },
            "type": "scatterternary"
           }
          ],
          "surface": [
           {
            "colorbar": {
             "outlinewidth": 0,
             "ticks": ""
            },
            "colorscale": [
             [
              0,
              "#0d0887"
             ],
             [
              0.1111111111111111,
              "#46039f"
             ],
             [
              0.2222222222222222,
              "#7201a8"
             ],
             [
              0.3333333333333333,
              "#9c179e"
             ],
             [
              0.4444444444444444,
              "#bd3786"
             ],
             [
              0.5555555555555556,
              "#d8576b"
             ],
             [
              0.6666666666666666,
              "#ed7953"
             ],
             [
              0.7777777777777778,
              "#fb9f3a"
             ],
             [
              0.8888888888888888,
              "#fdca26"
             ],
             [
              1,
              "#f0f921"
             ]
            ],
            "type": "surface"
           }
          ],
          "table": [
           {
            "cells": {
             "fill": {
              "color": "#EBF0F8"
             },
             "line": {
              "color": "white"
             }
            },
            "header": {
             "fill": {
              "color": "#C8D4E3"
             },
             "line": {
              "color": "white"
             }
            },
            "type": "table"
           }
          ]
         },
         "layout": {
          "annotationdefaults": {
           "arrowcolor": "#2a3f5f",
           "arrowhead": 0,
           "arrowwidth": 1
          },
          "autotypenumbers": "strict",
          "coloraxis": {
           "colorbar": {
            "outlinewidth": 0,
            "ticks": ""
           }
          },
          "colorscale": {
           "diverging": [
            [
             0,
             "#8e0152"
            ],
            [
             0.1,
             "#c51b7d"
            ],
            [
             0.2,
             "#de77ae"
            ],
            [
             0.3,
             "#f1b6da"
            ],
            [
             0.4,
             "#fde0ef"
            ],
            [
             0.5,
             "#f7f7f7"
            ],
            [
             0.6,
             "#e6f5d0"
            ],
            [
             0.7,
             "#b8e186"
            ],
            [
             0.8,
             "#7fbc41"
            ],
            [
             0.9,
             "#4d9221"
            ],
            [
             1,
             "#276419"
            ]
           ],
           "sequential": [
            [
             0,
             "#0d0887"
            ],
            [
             0.1111111111111111,
             "#46039f"
            ],
            [
             0.2222222222222222,
             "#7201a8"
            ],
            [
             0.3333333333333333,
             "#9c179e"
            ],
            [
             0.4444444444444444,
             "#bd3786"
            ],
            [
             0.5555555555555556,
             "#d8576b"
            ],
            [
             0.6666666666666666,
             "#ed7953"
            ],
            [
             0.7777777777777778,
             "#fb9f3a"
            ],
            [
             0.8888888888888888,
             "#fdca26"
            ],
            [
             1,
             "#f0f921"
            ]
           ],
           "sequentialminus": [
            [
             0,
             "#0d0887"
            ],
            [
             0.1111111111111111,
             "#46039f"
            ],
            [
             0.2222222222222222,
             "#7201a8"
            ],
            [
             0.3333333333333333,
             "#9c179e"
            ],
            [
             0.4444444444444444,
             "#bd3786"
            ],
            [
             0.5555555555555556,
             "#d8576b"
            ],
            [
             0.6666666666666666,
             "#ed7953"
            ],
            [
             0.7777777777777778,
             "#fb9f3a"
            ],
            [
             0.8888888888888888,
             "#fdca26"
            ],
            [
             1,
             "#f0f921"
            ]
           ]
          },
          "colorway": [
           "#636efa",
           "#EF553B",
           "#00cc96",
           "#ab63fa",
           "#FFA15A",
           "#19d3f3",
           "#FF6692",
           "#B6E880",
           "#FF97FF",
           "#FECB52"
          ],
          "font": {
           "color": "#2a3f5f"
          },
          "geo": {
           "bgcolor": "white",
           "lakecolor": "white",
           "landcolor": "#E5ECF6",
           "showlakes": true,
           "showland": true,
           "subunitcolor": "white"
          },
          "hoverlabel": {
           "align": "left"
          },
          "hovermode": "closest",
          "mapbox": {
           "style": "light"
          },
          "paper_bgcolor": "white",
          "plot_bgcolor": "#E5ECF6",
          "polar": {
           "angularaxis": {
            "gridcolor": "white",
            "linecolor": "white",
            "ticks": ""
           },
           "bgcolor": "#E5ECF6",
           "radialaxis": {
            "gridcolor": "white",
            "linecolor": "white",
            "ticks": ""
           }
          },
          "scene": {
           "xaxis": {
            "backgroundcolor": "#E5ECF6",
            "gridcolor": "white",
            "gridwidth": 2,
            "linecolor": "white",
            "showbackground": true,
            "ticks": "",
            "zerolinecolor": "white"
           },
           "yaxis": {
            "backgroundcolor": "#E5ECF6",
            "gridcolor": "white",
            "gridwidth": 2,
            "linecolor": "white",
            "showbackground": true,
            "ticks": "",
            "zerolinecolor": "white"
           },
           "zaxis": {
            "backgroundcolor": "#E5ECF6",
            "gridcolor": "white",
            "gridwidth": 2,
            "linecolor": "white",
            "showbackground": true,
            "ticks": "",
            "zerolinecolor": "white"
           }
          },
          "shapedefaults": {
           "line": {
            "color": "#2a3f5f"
           }
          },
          "ternary": {
           "aaxis": {
            "gridcolor": "white",
            "linecolor": "white",
            "ticks": ""
           },
           "baxis": {
            "gridcolor": "white",
            "linecolor": "white",
            "ticks": ""
           },
           "bgcolor": "#E5ECF6",
           "caxis": {
            "gridcolor": "white",
            "linecolor": "white",
            "ticks": ""
           }
          },
          "title": {
           "x": 0.05
          },
          "xaxis": {
           "automargin": true,
           "gridcolor": "white",
           "linecolor": "white",
           "ticks": "",
           "title": {
            "standoff": 15
           },
           "zerolinecolor": "white",
           "zerolinewidth": 2
          },
          "yaxis": {
           "automargin": true,
           "gridcolor": "white",
           "linecolor": "white",
           "ticks": "",
           "title": {
            "standoff": 15
           },
           "zerolinecolor": "white",
           "zerolinewidth": 2
          }
         }
        },
        "title": {
         "text": "Distribution of Video Engagement Rates"
        },
        "xaxis": {
         "anchor": "y",
         "domain": [
          0,
          1
         ],
         "title": {
          "text": "Engagement_Rate"
         }
        },
        "yaxis": {
         "anchor": "x",
         "domain": [
          0,
          1
         ],
         "title": {
          "text": "count"
         }
        }
       }
      },
      "text/html": [
       "<div>                            <div id=\"699db7dc-4e67-4aea-8f96-64de903bfbed\" class=\"plotly-graph-div\" style=\"height:525px; width:100%;\"></div>            <script type=\"text/javascript\">                require([\"plotly\"], function(Plotly) {                    window.PLOTLYENV=window.PLOTLYENV || {};                                    if (document.getElementById(\"699db7dc-4e67-4aea-8f96-64de903bfbed\")) {                    Plotly.newPlot(                        \"699db7dc-4e67-4aea-8f96-64de903bfbed\",                        [{\"alignmentgroup\":\"True\",\"bingroup\":\"x\",\"hovertemplate\":\"Engagement_Rate=%{x}<br>count=%{y}<extra></extra>\",\"legendgroup\":\"\",\"marker\":{\"color\":\"#636efa\",\"pattern\":{\"shape\":\"\"}},\"name\":\"\",\"offsetgroup\":\"\",\"orientation\":\"v\",\"showlegend\":false,\"x\":[0.6803580985402946,0.45856163252488963,0.7406232161398444,0.7800419002643659,1.4118795537464561,0.3674835370099457,0.2956595598853045,0.9101085997734262,1.0708525170673329,0.8352992944569639,0.4704194438401062,0.3611535509054297,0.9295170871506732,0.6777233030284485,0.7509552956229306,0.8320211090777546,0.7779641814775708,0.8049995626686475,2.2089498387010136,0.39960225219875617,0.7359766755349616,4.1122199681028055,1.0847922903443772,1.1298881449322928,1.0680569870280745,1.0094519140254503,1.0745131898862499,1.0852848842531515,1.0438601841967312,1.1325427273377642,1.7080301304591636,3.4778847785998983,1.4904807399423743,2.4021554715205053,2.3188875722928914,4.0,4.761904761904762,2.3089346297884483,1.2675010400507,0.7179989054626169,1.5369972828126643,0.3704807274166909,1.3212564717911934,1.0025474291077294,5.536591122342661,1.6263695251467976,0.5390125727573368,1.7262386978930244,0.7166100787086997,1.4773832444788955,0.8881625293249467,4.978060679240057,1.7019444309070282,1.047413422384877,2.058068279085269,1.2701055307917901,2.644448174742381,2.1790636858766392,2.8185369494249937,0.7058242294492003,2.5213090666422784,2.091008939619336,1.3299530725341124,4.822872472701788,3.171657414915689,2.352683408813679,2.4931376798134277,1.6429531769135943,1.3434435983868236,2.0933493348853878,2.4008355000252233,1.2654311246573366,2.8667712028693346,1.8952210177586237,2.1775739320920042,3.1843260194272442,1.7125635415135085,0.6526468455402465,1.9413886319154867,1.858281207875634,2.6571380498351362,1.1834859866660215,1.5292081971675462,1.7866009392709659,1.1164530989117096,1.937386285212372,1.899048564099044,1.3721891908038453,1.3229774725198178,1.5877356343167253,1.4429651318079821,1.0367133160595374,2.710557768045761,1.0432538835210936,3.796284210068311,1.483779506006819,2.6586418671777157,5.1564299689801345,2.0556325598910172,1.3606393251304776,1.6205571069541576,null,1.9678378318097673,4.072776604397372,1.7777367340833512,2.32693906274739,0.7464113006077934,1.3838592860838075,1.700330360990229,2.0339871016074653,2.249236763155177,1.8888348139211815,2.1053477247905223,1.1403548300239872,2.0435281090456545,2.0428220510159836,2.2859387649915512,0.7893250191022673,3.9821773755142753,7.437289291469364,1.961588015693232,2.9058013794481434,1.6112274555716792,1.531994748810326,1.5287211615305873,2.5930864599662056,0.979217139514609,2.610906714774777,1.7265122451505202,null,3.699738976545245,4.301320024449139,2.245643901462047,3.144489550579648,2.3127572771990934,0.7076614258462152,1.8262580166183608,0.08091183346658393,0.7103081889505194,5.236763882900157,1.529462030922714,0.8584658382809992,1.96998946998947,4.541823538497053,2.0591973146809726,1.4634906697822212,1.8683361803040688,1.2117495051822746,2.423497906099819,3.428930526153187,0.5705131612618325,1.4257878034158393,0.19332612920562325,1.6069780693571079,3.830803002624994,4.5578414402448875,1.8973927479049881,0.8722924134991462,2.9191859292181475,1.0207202719590314,2.8354720296175446,1.2511613186454174,0.42582685516226887,3.461371682348805,1.055428168103432,0.971359208503763,2.34378732195817,2.430313031758395,1.1998042384416565,0.9673317439693956,3.7112793515042113,3.0081609744363837,5.6533027472500015,1.6687920185588248,0.09317962968729869,2.578709002556638,2.790591291652169,4.95377037547221,3.1737670936043982,2.6539029297436367,2.5323819392630007,2.1929501047129705,2.5286096073459876,2.581582119658211,2.3904295753763445,2.228358686854022,1.3296764108888544,1.913702974689526,1.4184937068615509,2.176837807823568,1.1279126561614625,2.2466925672656712,1.1480703550620939,1.5640273182797462,4.0613363625952195,1.5797658999754443,3.9672432176282433,1.3027529987438276,1.507587851294699,1.9851581010693236,2.15961628129062,2.231078089355907,1.344292199581269,4.768148342392874,2.169195914476,1.6387147829515238,0.5681357398379845,2.157675092706153,1.97996467418503,2.44055546766565,2.4230222693616956,3.1107579416410394,5.292939490653293,2.249227543094129,4.168294619563163,2.4148560336179665,2.2457435326068036,2.4449451722756455,1.4279744655117939,1.3928743410255275,1.4942703686565282,3.6107895251283844,1.9712467508146239,2.682407993375789,1.086543679168791,3.1980095534520787,1.8429928307385959,2.1466077214038335,2.9554333379883104,3.4727453887093245,1.1951188828783494,2.3870013079943635,1.7803707699995588,2.596995640080312,3.068839058741942,2.5035438064211286,2.7415939406644987,3.82779455495835,3.1961514942702856,2.6819746221614134,1.13854548842024,3.8179376977383335,4.708094685398018,1.0677966116065105,3.1424202789086824,2.6113831779703327,4.10156578159762,4.051472344177673,2.360911103985351,3.9864168516016276,1.3583386289095896,3.4811771898050017,2.13647501602992,1.2455264744932346,1.2455264744932346,2.4195884121678866,1.9738899066671522,2.616273081228069,1.6778540901693075,2.604685316341758,2.291262425702287,2.2380531784470032,2.6717857542224563,1.7848879295340434,2.135193470076419,3.044862117105436,2.2516627289199715,6.471594039859033,0.6516357153474959,3.8650285534935804,1.7142694503625064,4.824834376664348,3.2440478463846367,2.9287850073699726,3.7679159618979794,4.492887378218259,3.143270039798965,7.5106267378311875,1.8724307838481415,2.296906730016136,2.932384940638395,2.6787234667214705,2.002667745725127,3.5677879429359303,5.534116126514985,0.8203866163626767,2.4455193878720336,5.456138862974584,0.6991528858411168,4.067653138321703,1.2579325172521412,3.4426293805032064,8.101931596458831,1.7594723018256924,1.0103535559679722,2.0092607844745074,2.2870200285223548,2.4943400898510735,4.31423216202937,2.124859506417461,1.4676156133468765,2.9357586830660196,4.277310480516565,1.5224502277383867,2.5674576526620703,2.613027521671014,1.305641909965493,1.650537014760712,1.3609345672164967,3.4228006539472555,0.9463584211624009,0.8327231030942308,6.63439098986795,1.1839304512353284,null,1.52118865017207,3.675569309243614,1.8293407686592114,2.888815719085459,2.2356488707013384,3.1100063382800243,2.4650266345203296,2.2125844125058713,1.7211099402880226,2.7835075353758123,4.923682914820286,4.00351579227439,1.763216861790403,2.1880543229495997,2.62363316900087,3.3165854226629174,2.6823516457299115,2.1399992658664613,7.016142735768904,0.7494822229057734,4.780637568438827,3.5175809438068764,2.3596484282207615,0.9430407057877725,4.2233787737801665,1.6361893779425634,0.19491377814716448,3.101614399583601,3.78765918797225,2.3286272420529213,1.8069639047137234,6.205616874189874,4.679744741195934,3.2545334766478278,1.6668352352869766,3.150142160052228,2.0504481696783943,1.3110566676804667,1.7022027962977342,4.865424430641822,5.833614331187202,2.0990927723071446,0.6413439209724652,8.53753403345002,2.616273081228069,4.661868886970303,0.8815778730235763,5.280037183360446,1.0970398957740006,1.3380624787425337,1.6231206600472947,1.9481331439340757,4.769428695818067,2.2521915037086986,4.140860736115322,4.303503418380178,1.5345231114024056,1.549724668654643,1.7100842042955218,4.814645657303799,1.9064548858966597,1.6932991143059244,3.9573825756268395,3.122821692457828,0.43849707916781216,1.6062717147222179,7.103820304209409,2.475487300020971,4.667615698373254,2.863459008233395,0.59378819233368,2.9102744782229384,3.8429688698052447,2.7076900157104933,1.3632515246193089,6.937508183229523,0.5658498634145492,3.37010486007525,0.8312873558807068,0.8905965635186947,0.7193926696787183,4.976955767043754,3.540305010893246,1.4743972902968718,1.23294554860597,0.7876383780579187,2.974264570523913,1.5891487874143424,3.4822871492952356,1.603860399728625,0.7545975728078518,2.383072488265745,4.187592805307489,1.5079606774027379,2.737655459682038,3.916470982891647,1.7147782663680562,2.1294792866292767,0.7821527485420386,1.3431567452001276,5.081535167188272,1.5401523380149673,1.6821491338187295,1.3658074395729316,2.5087468114937117,3.5458734646755854,1.218241337162513,2.4114711466490513,1.5084343671419247,4.0289037329625295,1.6650125737302592,6.109254685456922,2.5364788271032936,0.2878219137956762,6.060989901963805,5.075940124132895,5.603196307573439,1.2377698646646218,15.027370651598094,1.5205701178591742,3.8856277234703356,2.8476942074649756,0.7735267776165428,2.052893978599979,4.4843736601871536,3.5908556473047457,4.015561099695071,0.995487139257816,1.3703799228273856,8.01317233809001,2.6537682883559786,0.2724503965470417,4.4190558449341575,2.484939293334495,0.7749200994500789,2.1378981185501886,1.906889772282346,9.896361786478616,0.44452175778201714,5.023949434595822,2.671589282487838,1.5747063600229376,1.9492477269134,0.044539140274216654,1.2522527825192487,2.0344572308538726,4.132815235343827,1.7389550284687756,2.348106530375691,1.455953185749674,2.8460710605075317,3.7454733772414617,3.185893855817121,0.9891628137793979,1.9465775901438966,null,1.5219581257317105,1.740076770076277,1.0954766911027682,0.4673384590374551,6.044587940499678,1.153640991849638,1.1861381775091975,1.8973919327772808,0.5418000578944201,6.079025190570542,4.361821584529008,1.186748239183426,4.820300472474385,2.2163829913255113,3.1627821442132236,3.5127028877651725,2.532365620700864,5.545816135972377,1.6580672714297437,2.437102161572628,3.2786704224298058,2.9344085406227265,4.202496374204895,1.665513172242443,1.3458305244434339,1.172092658262363,1.870760870958537,3.1523739191752145,1.142850631131839,6.224889137267717,3.2276215228022327,2.9775298703768263,3.7163851080487094,0.4640597865923667,2.7796241516844518,4.894225271583762,1.9597696488782599,3.32956419778389,2.16473575622917,3.710870105034361,2.8700719674607686,4.508490722498974,1.244415025649512,3.2076185237391273,3.4383652253317494,1.9581476846836268,1.22219839055739,3.314190507738578,5.215939475644977,5.839297037775161,2.1211266723062945,3.624671553035541,1.5875960530108364,1.7537064865451053,1.9527157316422739,2.3665022079739044,3.2666003384306843,2.555131771385965,2.7629671808675846,1.3161841773460479,2.728996581524811,2.7047261326977106,2.0317394125322665,0.4807038883603414,1.4209584364759362,2.24056905370844,2.6416495214072246,2.4318653145871094,0.5396810591331874,3.889400288074591,4.4463525408015885,3.4712719972152555,3.416354510008098,2.875392943586859,2.3157618104529654,3.2553862586759004,7.888315414306629,1.3858762445107224,4.6602180172053105,3.2434756147630064,3.931896479986686,0.4931781644685724,4.814258251846001,2.483512266066072,1.8118205734086905,0.6388650037162068,1.2839214520505782,0.41001746653787474,6.456328592920606,1.690034555348135,3.1744757229881784,6.943833979422309,3.0174234721332067,2.8899601639628196,7.145858632587367,5.730286991834467,4.366881022698603,4.400566308940981,2.387329108863517,3.2333563289703355,2.5987793541591953,0.7899634429129292,2.5152575599730342,2.9922969922838694,4.053157045339237,1.5326307956241447,0.9275946539140458,3.3907774946487548,0.41169604901634693,2.096038396350446,2.714331252797492,4.80869955962973,3.4782153660223694,4.259332064861911,3.6371779962123734,3.959620892273754,2.9445384298843216,1.9885040746204403,1.3976674639192976,2.678482654274289,0.4658211245495254,10.82834598380858,5.685474739550619,3.0161752374358457,5.5169713192079435,1.200605186976567,6.918000475570432,0.8997390941272387,6.056399248366668,3.8895105892024877,1.7328757022001156,1.7675703672988337,2.4000445774803625,5.781645077903183,2.7905213030884877,1.838843889601417,3.5899781388258556,1.3697639270119122,15.70838030815483,2.4735657709258176,3.587615615965606,3.1188114604315937,3.733590194274145,0.8459767911799732,2.9636372358168352,4.878427753503089,1.5392681062589253,3.9854318418314256,3.7336751777877444,10.254310254310255,3.581163664366069,4.20201055841517,1.157863129734783,5.432410736494584,2.5765955216436947,4.326342114636587,1.1001469217606974,3.25526186065301,3.416234456039493,2.4278622125838116,6.071675387501234,0.8275827206277776,3.9203465901467642,7.619540991674986,2.145095820214694,0.7743332452720572,2.1739115663592044,1.209367604021787,5.208192128749588,1.1281505355566344,3.779906070265794,2.7949633389290396,0.41572509973382576,0.35001762286226196,3.8387413243884305,2.1494040167637296,1.9545085377848541,2.4687760008926602,7.5784900786661975,3.7852809244011567,1.879935022713003,0.6919778164884028,0.07453748426870883,1.5342023195426335,1.0111967503825041,5.120418824578912,2.6901141011462104,4.050540169411152,3.512901561436579,2.998168171531971,0.5669663439154632,2.1595124642812444,3.7537534028905584,4.043409916128332,4.321980322730299,1.8939981856926507,3.388478489823869,3.3396377690520738,1.7886231836841078,0.9766546658330759,3.7056802207528508,3.614965950621828,0.25110506193956555,3.8233382090037384,6.1501460230201,null,1.4637095847159531,0.42749757742188155,4.049344335102031,3.9121407496448475,1.207255336442956,3.1186094069529653,3.3864921786028663,2.1229667302674873,4.754246173683016,1.2911576044676683,3.7739395192361904,3.4230032867136106,1.5268678597082048,0.7870858456658452,4.288402422291414,0.3575395677311339,4.253712239509757,1.315407661072581,2.724910457195028,3.2432917296701604,2.4554655697935694,1.3230740276691069,4.333226700697874,2.657221546126909,1.6141738996981736,3.2013708382680464,5.05522972879168,4.1799188803365395,1.9248401040445562,2.667910290991286,0.9950022334140444,4.486187627504509,3.8334249575548034,3.255413706411461,3.9091120747307473,4.378672633262567,5.387391659422008,4.161945300990316,2.8396371787305377,6.59210345930631,5.413375460768826,2.4240728688275417,6.934987185438284,3.321189906801064,5.277073923102347,1.968102432653757,2.1842992154555803,2.204779831943105,3.94748904493867,3.6704826135749165,4.08720838789601,1.0233113799608107,1.1809309601282534,3.5271699302551767,5.734073750545954,1.1274172552552255,1.0036948498075269,1.0450872747492785,1.2703534812199102,7.116384204092528,3.559887895516685,4.7249655338219325,2.4140054616821733,1.4054879781546417,1.5335427134656479,0.6434528082610759,1.0555978752317923,7.43801652892562,2.0616140194218104,0.9946332737030411,5.360069038696593,0.8293512594152427,3.9561523486144092,1.1250403446844919,2.1394057835158335,6.539802364289271,5.056469198939541,1.364133543990491,0.7687272852541468,1.1960785230748863,4.083584725185785,2.970569654352162,0.8386649531394581,5.124149416569271,1.7460781798908476,2.503279911122742,3.549147941817067,3.7526532868713693,0.61061551490628,3.0835714218950083,3.509756132981518,3.3037075270745038,3.1821764523464955,9.101056983017394,4.8046220765606735,3.1282176634761396,1.4471190132953686,2.6095789841424537,1.4135449396517783,0.8171255345201722,3.839407615291262,4.831732397963172,3.6624907466663554,5.658627087198516,1.9000029684454252,4.127259492430838,3.2383597969478863,5.98517482369273,1.8285337003262636,4.047133343047425,4.353990903725307,1.073765217401609,1.7941163124384867,3.61826763751632,0.6295891967877493,3.7204526415029924,2.3173119385725993,1.4345898751384654,3.946741229257885,1.7986251668721431,3.3423623432265632,1.9432890907800413,3.897619067488963,1.4663042014202188,0.9340100293941812,3.6264559434807513,0.4939720657539676,2.050131739486868,2.0633202770304004,3.406531420995667,1.3408478793908527,9.526513612737274,4.193106785328587,4.185448128252735,0.6824187462084992,2.136865606242565,5.404919200497589,1.1563313410733778,2.7967472184703768,5.273905440381488,3.0040440683468725,0.8188244021084016,5.030919930404432,3.362921369108292,2.467122582896823,0.8252670523680219,4.503460993170678,3.2884929007767223,4.2506134640572,1.142334029537833,2.8117439649372926,1.43324302392988,7.825557584813769,4.84274928585896,3.1863789086917644,2.5251984223596433,1.457841222446051,3.062080536912752,1.6751160410917822,1.6714356052732904,7.14444173026975,3.594068043035766,3.532010661004391,3.2838902554272145,2.4757928306914385,1.371948462248054,0.8161895003887748,2.1494494730934175,1.6124455762361884,3.468942469688182,1.8514652708515351,2.4411827642439947,3.524013105775767,4.256267483204834,3.706056354052106,3.2934714022698395,2.9511815582817644,3.4519250820259813,0.8063706823998478,2.3787656645901025,3.979092469702016,1.621671195214798,3.580170513888186,1.9059325188929443,0.6853440620246029,0.616291487197945,1.6470454673542505,2.7819533318623124,4.903710662282762,7.20141976547046,4.729378186737227,2.254487097727269,3.5067232147162413,5.210600400031721,1.3055556896071911,1.195612639471825,4.489900939148335,2.7870083101038894,4.572674472705825,0.8672250454066196,0.517563426001487,1.8316130189239486,3.5911159219836835,2.8403727191760724,3.9088543838738237,1.869906605180739,2.436793076571443,2.7126449140880324,9.094144161954846,5.447163718201901,2.898920919564197,3.402388895508161,3.048923612518241,1.1294343240651965,0.9932257240868723,4.486220969612086,1.0240930387599771,3.847451027035129,3.6266321044546848,3.213310571928787,2.3428041321404423,2.1862022654324393,0.4342239705479432,4.115946414416666,4.414593122798549,5.402686132056255,1.1903103603862775,7.100591715976331,0.3736005131762477,1.0560482589940174,3.7563377978083485,1.2618456980707797,3.1361631354400177,1.8792864949406907,2.4359033758773925,3.756218312433446,4.685559137156922,3.1544008787430156,4.492446918711432,1.4434916058523053,3.0316971764773464,4.440239806813157,3.1248462484624846,1.8198384114392396,1.3925849925721676,3.707653249616579,4.686869210786792,6.009432527004412,2.3395618655782133,3.611571323943548,1.1624715484132788,5.5522611653818545,3.3335558373940324,2.6638977406996314,2.9380548592408755,0.46418665319470087,6.465717517571319,0.32768375449491294,0.5273231329752102,2.89535651724435,0.5625371664136376,2.43211699975917,2.402113127875178,2.2829581065383917,5.167926000125757,3.857065175172843,3.048718306253733,4.99534595097735,5.612175954642621,3.9423805913570886,0.97070165329551,4.665609304784563,3.4948005791759904,5.302958828951092,0.41529791043153613,3.0534842863480476,4.8949862199112095,1.4808803193116533,7.916734748175536,2.8594765771978334,3.5247479277724536,3.144193407694204,1.022156720705418,2.81410487139856,4.100954460988971,3.6191405775858385,4.052190679124671,2.3831780608976043,1.3687600644122384,2.0329086082491976,2.788554066481321,4.1763079477259035,1.4843469117928243,6.005947707513505,2.5682880038419587,4.880417793193926,5.710805673544731,4.092204876601739,1.4860045754272642,3.811303309740297,5.242487898438213,5.5376636413066205,4.674222516323915,4.997466513715673,1.6193660103459497,0.12123919216411957,1.5804619835652907,3.4991346688840457,3.4399837245152893,2.6955128876367263,1.2889950403560602,6.204301667224243,2.6354663989090064,2.1292482597490183,6.148798954407134,1.9737631802346014,2.8027750076441285,0.7296527168638116,4.904567279076227,2.6552189569673077,2.5926048017354777,3.6760926141731014,2.20408617301346,3.174464444577084,3.1386247925515454,1.4474190389592223,3.9989715533338113,1.4181912600511886,0.4477401199053004,3.9912349350446084,4.770959377700951,3.762315898548156,4.8786140564343246,3.3342602957808074,3.094871587134408,1.235173181373314,9.38751801817553,10.411620431605751,2.3885659323506827,3.037841588947186,6.096675557868714,3.7917417302741825,2.653505106159067,1.1966527685370665,4.158204605579785,7.773855941909756,4.60317585755191,2.797765685490429,0.5773457286492621,2.0391319620889936,2.780364980759755,2.6778277527902716,5.056702829702195,5.579160038393642,4.2385286444499535,1.4524246272517756,3.8649073028291228,3.3882706771399596,1.0939030046899965,3.8443888659859407,3.8450147674531823,4.276899888454797,5.486461177869114,3.5068960752534175,4.268006771165854,2.5394218240252457,4.380792001553795,5.5079676508589746,3.2011686368236334,null,5.543107443661162,3.848911690142958,4.953927547145128,4.979964625463548,1.1725998670724376,2.7523373907330817,4.538349218171885,2.849276383418612,2.2985488029164918,6.9111408829048235,1.355942370444786,1.696918485751252,4.067653712531636,0.7942062551162304,null,2.9536172871371678,3.89574097621713,5.393280099799679,1.839364490590108,1.887863080084655,3.0134332003582185,0.35123186319326105,5.709959085572976,3.4481799653831233,0.654233399889545,2.678117963426699,5.085554865635707,4.763621248433126,7.651499714435774,0.46919129035196944,3.6484986297549646,0.9776086661469168,4.556653758716086,6.679878931180126,5.98524894114168,3.394477261807185,2.1604723324898827,4.026086693800742,1.613205727976585,5.095932908109082,4.98608715793032,3.309976832527639,7.126125694745211,3.118779104533703,2.587923273752825,6.132019026535436,1.699847921780008,3.493512532156952,2.4163506951373646,4.094803605207522,3.015241822501978,2.758024614683932,3.0552712634336987,5.110132158590308,6.147205957223453,3.032388596825818,3.369459136475813,5.717003155937919,6.7669172932330826,1.616400551941652,2.2747332103024953,2.6291198383634296,7.409598948060486,2.5881767415052996,4.654579596021697,2.7221762089650845,4.957540963999522,1.0489772471839955,3.856708502609037,5.372495923951714,3.841063808280065,5.776353420310652,1.9846126687177599,4.642976573912738,6.216034157631315,6.399834842971794,5.38485375795571,2.2413106542283914,3.2644756049011368,1.2500044351562416,4.438986304043723,2.2272777094013376,3.2053240202492708,4.48602956047335,6.68626941910242,5.830402803627484,5.447318925440931,3.4990877368040914,2.677414812728809,4.79956775871435,2.990794962792846,1.7471071670601517,6.542021197193611,2.2372664978589034,3.6857310969925754,5.478852624749144,0.6200018670068768,2.827302663626975,2.8788847152189088,2.958389143496689,3.552774813914658,1.6724890270899715,3.411419192599251,5.243320704344241,4.487299390221092,2.5954736244840024,2.35750326786684,2.9599209065328163,2.3955680081507897,2.7514414610021474,4.2671108787374,4.984435328369534,2.7305822027296993,4.185112459835773,5.463139530165943,2.394336473341903,3.416380427591332,2.9717169767089096,3.4961079219781115,2.535734850442495,4.028340008390134,1.54918061306148,3.57867766495404,2.5551729013223357,1.5196932052618735,5.567978095765834,3.9731398955495565,11.192013705851345,3.225091701267991,4.388016817973268,7.314762175478491,2.1376241234610074,3.4844210282744323,6.713587562782858,2.41423279342948,3.039359422578099,7.548379575658662,2.429620576488096,5.797101449275362,4.260257689648478,8.127748318675634,0.5213082423227201,5.276776161439467,2.6204575864764252,3.001932367149758,1.6703540982918978,2.0319787726068377,1.8145060926031429,5.335121584161504,1.1477059017148368,2.8843081611779233,2.7524776616766315,3.6661162065285087,3.6955736103117345,2.084005197488924,4.758947865179702,4.078239282061298,1.2094693723725476,3.7146168992018294,5.083842972556172,2.4509750352431356,4.960415954112003,3.042059173591565,1.6734292831027453,4.139682003923763,3.452870050383244,2.567133149010707,6.293672998353974,3.1414625915329397,1.974311468336741,3.5019677755726732,1.5186734852006818,4.932095299094885,5.176627773995801,3.4024383596489636,3.3520617820348035,3.268735434809273,2.9446159643027476,2.81395684144759,1.5337154036192173,5.764456993695991,3.1252219159334023,2.7680455384511644,1.3777490297542045,2.6659126008744263,5.367458279845956,1.1357439348119038,4.854240865321198,6.397390420848113,6.748285938762937,5.892821289722015,5.743850991005333,1.5517681836429327,1.2097757191613847,1.4046723456942085,2.6109577875801606,3.2704408066984345,3.3912135876269094,4.165456801203706,3.168092648614539,2.1997919485659314,2.479873490511788,6.374783334403287,3.1238425972019224,2.8646518649842796,1.6613246168004823,0.6109701050199857,1.3898554470801106,3.3975040311918328,0.24538990246713313,2.3070559314630485,3.000238149800718,5.282968261063925,0.02285824280266118,1.1319845857418112,1.783728069524982,2.2974809824482936,2.3488954050693156,3.5546950173002223,4.648967214052755,3.1491347365531697,4.602931701030928,4.100698746221319,1.1632681959784763,0.951597542769875,0.4282549969667466,1.5261772978858543,3.7860689753400534,4.361049476099028,7.182402598888152,1.3747543433933367,3.0232781727554374,7.3191517054831445,2.094822795092129,1.075745214935676,3.6901585430175916,3.0063015701702467,2.7629027379956943,0.5103923641299248,3.8241284293758233,2.589662630929303,5.247841691725676,1.7100753941055518,4.215841869860049,1.1699662774425914,1.4744027303754266,1.916113280098135,4.736939063067908,4.360445310477332,1.297675468291582,2.009054895302773,4.701805552974511,2.54284854660056,null,9.502032770728102,1.4489311001760397,2.514592791624201,0.6382852080991845,2.412945920926612,2.421804207239143,4.241175304104855,2.669783283801382,4.314212987628012,4.324272830383139,1.359599099200977,1.1707385100801004,2.3433979269941414,1.8629816929769278,1.4777136554332198,2.756994904302953,5.430395693017473,4.183217477656405,2.7472527472527473,1.9426982973749882,0.6575206890016635,1.0502495516688526,2.406982516348172,3.628196268140981,1.9284338966311643,1.043728872907492,1.9844890510948905,0.7340041539795528,4.76262530735767,1.3814661692043964,3.6486000224895987,5.660397547517736,5.393392010524814,4.33664482491369,1.246231582523035,4.776269482151835,2.9418712408918286,5.240435578683627,2.764830267615561,1.4675471061763896,1.3440935716314182,2.008992678735375,2.8414030542441804,1.0114962436943862,3.082241106150079,3.430727983742892,5.240435578683627,7.649757729085374,3.7694314866147605,0.932121627089104,2.6066451781938715,1.1236166086780952,2.2743806329062766,1.6590120911050708,0.35386205631783396,1.5314766223838352,6.008101004940271,1.210030314176634,3.6148611768130707,6.467786647280986,0.28656743173172045,6.038991916310033,5.11149147693967,5.498473850140752,2.0350334878928384,2.5076765609007166,3.0399753078556784,2.050051630929964,4.87041786542461,4.870500920247437,1.9425167157841365,3.2446255893870375,3.841933824789988,1.3887463571991143,1.4005135341148092,7.312529110386586,5.234237692167834,3.2098985453040414,1.1328066775972574,0.5535094628829327,3.515469414850203,8.496452383499127,2.0182660489741893,1.6339753732464708,4.47944006999125,3.3415817469750406,8.111710568073626,4.244436212350041,2.024384987222513,2.1302980580114896,11.721756290083867,1.7315480204733307,9.726129666011788,1.7495508737546954,2.1862452771289247,1.1227579781038899,0.8254803126597999,1.3732564769694442,11.532727458388644,17.82104957872584,1.9209489664940467,4.041469500969347,1.9403521379805964,1.0800470278779668,3.8358863755034416,5.239734381352487,3.0590698042365716,1.2451395396430456,5.939535830618892,14.456673654786862,6.563210800498936,7.487380818844644,4.2151556156968875,8.452900810979413,5.555555555555555,5.16118196105719,6.8254188010521935,10.299030149515074,10.017235075991017,3.2192313481511214,1.4646214745175654,14.841696535244923,3.4235085919170842,2.5268504462068866,12.733480618598112,5.632760037610963,2.4039515295738485,5.084793298805228,7.09723025347159,12.244221644766604,0.7743161837673138,1.638272242299088,2.274341278656882,8.361889927310488,3.2071308687917623,2.6918633218682353,17.72219265566791,3.0603981407944585,4.864241212214445,4.294290242946483,6.390775144138374,7.90882830327288,16.541353383458645,5.793755832179603,10.12606811890721,8.704253214638971,0.7464503042596349,9.646213377556661,4.690550005741187,6.078813467576053,6.233228551713562,5.148457952876572,3.309753644902064,3.550555691207398,4.85778551734146,null,3.68137552170656,8.001929020802736,4.526384317696842,1.004793381500063,1.9507680918008512,8.953207697588415,8.977344907897523,6.744532803180915,2.3713826366559485,2.7640733712839975,4.171500022597508,1.3099979040033536,1.0089628681177976,5.81738354942718,1.5250335699213504,6.7605112057788475,1.3313161875945536,1.3612136121361214,4.336157278665201,8.25909428359317,8.002836136072876,9.948053083014823,7.259921441148584,12.736483088430273,1.14238319914243,3.6526181353767564,6.001280460778267,1.29328558267122,7.7377602701181765,1.30835455317085,3.1257314679774573,5.867451411722032,1.1560693641618496,1.8035599062022944,17.13855421686747,1.3566739606126914,6.410139923677994,0.5731451499665984,1.26444935942912,1.8261139954959624,2.7604600766794465,5.429801894918174,5.501529937383268,4.294290242946483,9.270331737068856,4.18186921133876,3.490826083211301,10.49294413299826,4.287071712033984,7.805695142378559,2.089735709895513,12.517000248287005,4.088397790055249,4.8565230253426686,2.8375733855185907,4.927251265705868,2.21156475998448,9.445709241276774,15.746128652739355,0.5134008503263409,5.310978907517577,2.337453320089022,16.257249185291002,13.88798964066041,5.656607730818162,3.2152750296794617,4.1049860404643566,1.0579832385847012,4.051860484475152,0.46244065127580697,0.5523828583817576,6.31857737419599,1.201034537665859,2.8108244496309847,3.0078459133410025,7.072221645740376,3.49953339554726,9.669902912621358,9.280813409017068,10.759130601058066,10.03630705394191,5.974464823814252,10.029035380148404,9.964441985100475,5.119280302016118,5.534857424508198,6.379665867104321,null,7.593366414207364,6.638471711206841,1.134014578991857,5.475312186718317,9.314336598397151,5.528597814857715,5.111126691439389,3.234042553191489,17.356536062797055,4.510460490541198,6.462683962538537,11.288347032325468,7.798335481334235,3.4988664108824556,5.545347467608952,6.331199221236288,1.845444059976932,6.451300899506722,13.196851413948366,1.195155585992101,9.909310076129783,7.722583003008069,6.701312910284464,12.81168492436098,5.186626219994724,1.2600428695626105,10.028166154939228,3.376790732743848,6.780985456913393,6.603274751077692,0.7483516649315771,6.900749663612482,6.138131384125199,4.937947494033413,4.333093877343437,3.781223852521473,5.046658362771323,5.745260594817091,5.655255617553913,7.835759406756386,6.220113780264228,7.23706112832595,12.272727272727273,6.008199621235771,7.606927566740025,5.899729912221472,2.3828301764819964,4.505020028091349,6.221906789685356,4.498700029075525,5.303216302479745,2.506795530051344,3.2984704957096405,8.322893994175525,1.2779552715654952,7.792836398838335,6.645260365768532,5.371096427494311,2.1281549781130673,6.462396345900305,4.774073829677042,4.605060641507111,3.1137781137781135,2.5495750708215295,1.312681798970738,3.5696952954088985,17.195692619947003,2.5279989428127787,4.494629578628477,10.35740335521517,1.1822327309576086,8.069879674314775,1.9625816978485853,1.763016786225209,10.58168316831683,7.079646017699115,5.233809859131203,9.75609756097561,4.3992969396195205,6.1028598514773265,8.79155882938483,5.820996391364778,7.939274502619356,1.4024041213508873,13.774429008712033,7.778420261362322,12.373737373737374,8.449117536612842,7.119653492149432,1.1450381679389312,6.818118914370803,2.3521720603142757,1.0355880660803813,5.841908751479829,16.407904022582922,0.4148643650806413,5.829365590014155,0.7483493997553807,1.2419949543954978,12.93205193053448,1.6632548618219039,3.7737954428797784,10.436799381523,5.078748651564186,7.244007242656,2.6650576246353492,8.344063868143188,4.930416296005911,26.334896384813188,6.156402962351928,6.232195451692337,7.025594928324738,4.54012659217004,6.136886419860249,3.2511167216935326,9.012760241773002,4.08955223880597,2.35946093454805,3.7450396825396823,1.59930212271009,4.61217828940146,1.9896377457850258,8.087543611054882,5.41209814946371,5.767399616190323,15.24397872074251,3.2254371655075698,11.051042933729784,2.930945944636611,2.4864844500536853,2.492100703292223,5.657382604963668,2.410437272944234,1.6904048603323907,3.3524776278883395,3.2620720934569936,7.397612751054249,7.295459413150568,8.087253109234979,6.343809025903939,7.4016411458714915,5.858699154008614,3.5359824899052796,3.4533431300514326,2.137583401309322,7.009978852762358,8.01858210462533,13.14475873544093,6.198433058309645,8.858151854031783,9.94878162346733,8.376166000380735,0.6299212598425197,1.4225941422594142,1.8929563704088177,3.591689417426311,2.5698002417822807,1.9372942636662889,5.384063173007897,1.9936434556486564,14.766015447523854,2.28956228956229,3.464909579818133,1.8528120571053268,1.9509690668720319,6.271186440677965,11.291164698422763,3.472505923686576,7.222864575805753,8.169864194869584,1.9252984212552944,3.308158706520583,11.821903787103377,2.1086188903661136,2.2867252479426816,3.06920317601064,15.697797319578912,2.1803803426849933,5.849104002679619,4.965369114559452,5.309171708991042,7.338551859099804,1.7240818920841745,1.9986176032990077,4.40876643184532,5.438047311487102,3.5118325242718447,10.492706862942798,5.370682392586352,11.899634396754646,9.434076955808157,7.221273481336911,3.814458082687159,6.20793895857395,6.337396994457062,8.1631780681381,9.713945172824792,16.10968294772922,7.2860247033863,9.502428590087016,7.381643622984277,5.068550062318238,8.73684091243895,16.735347985347985,2.468692669697695,7.09796672828096,21.183174124350597,9.438919631475258,5.691934178581063,6.489458172749943,14.779332145302341,3.2762268658516134,12.714890789801512,3.9979085387925837,9.975051113693066,2.7299231380864035,9.371828126762152,7.324425615121395,2.704850223664988,10.638743748079019,8.154793786823781,6.385062128579147,5.4726979792816515,11.28492825547524,9.309413916223983,3.5118325242718447,6.011721583001744,11.76304300028269,7.129993920693729,5.550014667057789,10.626245672925627,3.548564111944394,15.968147527242246,5.531334486202109,6.677975489856677,6.805545259100007,11.504022027283794,4.457590974754075,5.1267056530214425,3.687880149294996,11.50561797752809,6.608126625464918,3.7567371892848525,7.937479038672038,2.9581347881885756,12.587064676616915,13.053441788590451,5.490126627114141,1.9319042393706627,5.6116357321176595,16.127558015538515,9.059203444564048,7.153417929828622,7.222699914015478,6.105690271471356,8.321833938580909,2.413795473446188,1.9847422936178132,5.719180338670356,1.9737880941102164,3.544490096277672,9.532704155197273,11.341154819415689,3.5800240673886883,7.442170279762626,7.2875133235955944,0.38682169012416356,11.34420844376423,4.407407659667214,8.684117140105108,2.008532668616078,2.4963391674220765,9.62649523964521,6.503691269786114,12.67839166222538,5.912764141946494,0.7921373037993251,5.773762765121759,6.244178548398653,4.464469973171906,4.339586886488536,7.108645568085365,5.598582637307011,null,3.1895047695293917,1.6975656697791208,5.33073250262024,4.45564415982393,4.0054798095113835,2.3091247672253257,13.46998801699408,3.7285965754520722,5.910300266058533,4.195517759269734,4.166380965441579,5.562708102108768,4.9784473560667495,5.8621466381349245,6.096059113300493,4.293614040669558,1.9279156121261385,3.733275026625946,5.072536068485223,10.343141781599517,13.053294952279456,7.867413390595554,1.135491170646947,0.9479824987846379,5.551216364146283,6.785569085371137,0.9234414747186117,3.185715130373086,11.177510980966325,3.5966489351843274,5.1290760869565215,10.99305435202837,4.880320387445282,6.328277925426103,10.04313571158491,2.360867950554406,3.185195702588859,2.967079159703497,2.4972098214285716,8.013053634582896,2.9199035628181087,2.4329645602850176,3.474823137744486,3.141955213574036,2.87939730575241,6.799950251850009,4.314690706363798,5.26128688233203,8.464219630793062,4.249392835458409,0.607284072140009,9.747101304987133],\"xaxis\":\"x\",\"yaxis\":\"y\",\"type\":\"histogram\"}],                        {\"template\":{\"data\":{\"histogram2dcontour\":[{\"type\":\"histogram2dcontour\",\"colorbar\":{\"outlinewidth\":0,\"ticks\":\"\"},\"colorscale\":[[0.0,\"#0d0887\"],[0.1111111111111111,\"#46039f\"],[0.2222222222222222,\"#7201a8\"],[0.3333333333333333,\"#9c179e\"],[0.4444444444444444,\"#bd3786\"],[0.5555555555555556,\"#d8576b\"],[0.6666666666666666,\"#ed7953\"],[0.7777777777777778,\"#fb9f3a\"],[0.8888888888888888,\"#fdca26\"],[1.0,\"#f0f921\"]]}],\"choropleth\":[{\"type\":\"choropleth\",\"colorbar\":{\"outlinewidth\":0,\"ticks\":\"\"}}],\"histogram2d\":[{\"type\":\"histogram2d\",\"colorbar\":{\"outlinewidth\":0,\"ticks\":\"\"},\"colorscale\":[[0.0,\"#0d0887\"],[0.1111111111111111,\"#46039f\"],[0.2222222222222222,\"#7201a8\"],[0.3333333333333333,\"#9c179e\"],[0.4444444444444444,\"#bd3786\"],[0.5555555555555556,\"#d8576b\"],[0.6666666666666666,\"#ed7953\"],[0.7777777777777778,\"#fb9f3a\"],[0.8888888888888888,\"#fdca26\"],[1.0,\"#f0f921\"]]}],\"heatmap\":[{\"type\":\"heatmap\",\"colorbar\":{\"outlinewidth\":0,\"ticks\":\"\"},\"colorscale\":[[0.0,\"#0d0887\"],[0.1111111111111111,\"#46039f\"],[0.2222222222222222,\"#7201a8\"],[0.3333333333333333,\"#9c179e\"],[0.4444444444444444,\"#bd3786\"],[0.5555555555555556,\"#d8576b\"],[0.6666666666666666,\"#ed7953\"],[0.7777777777777778,\"#fb9f3a\"],[0.8888888888888888,\"#fdca26\"],[1.0,\"#f0f921\"]]}],\"heatmapgl\":[{\"type\":\"heatmapgl\",\"colorbar\":{\"outlinewidth\":0,\"ticks\":\"\"},\"colorscale\":[[0.0,\"#0d0887\"],[0.1111111111111111,\"#46039f\"],[0.2222222222222222,\"#7201a8\"],[0.3333333333333333,\"#9c179e\"],[0.4444444444444444,\"#bd3786\"],[0.5555555555555556,\"#d8576b\"],[0.6666666666666666,\"#ed7953\"],[0.7777777777777778,\"#fb9f3a\"],[0.8888888888888888,\"#fdca26\"],[1.0,\"#f0f921\"]]}],\"contourcarpet\":[{\"type\":\"contourcarpet\",\"colorbar\":{\"outlinewidth\":0,\"ticks\":\"\"}}],\"contour\":[{\"type\":\"contour\",\"colorbar\":{\"outlinewidth\":0,\"ticks\":\"\"},\"colorscale\":[[0.0,\"#0d0887\"],[0.1111111111111111,\"#46039f\"],[0.2222222222222222,\"#7201a8\"],[0.3333333333333333,\"#9c179e\"],[0.4444444444444444,\"#bd3786\"],[0.5555555555555556,\"#d8576b\"],[0.6666666666666666,\"#ed7953\"],[0.7777777777777778,\"#fb9f3a\"],[0.8888888888888888,\"#fdca26\"],[1.0,\"#f0f921\"]]}],\"surface\":[{\"type\":\"surface\",\"colorbar\":{\"outlinewidth\":0,\"ticks\":\"\"},\"colorscale\":[[0.0,\"#0d0887\"],[0.1111111111111111,\"#46039f\"],[0.2222222222222222,\"#7201a8\"],[0.3333333333333333,\"#9c179e\"],[0.4444444444444444,\"#bd3786\"],[0.5555555555555556,\"#d8576b\"],[0.6666666666666666,\"#ed7953\"],[0.7777777777777778,\"#fb9f3a\"],[0.8888888888888888,\"#fdca26\"],[1.0,\"#f0f921\"]]}],\"mesh3d\":[{\"type\":\"mesh3d\",\"colorbar\":{\"outlinewidth\":0,\"ticks\":\"\"}}],\"scatter\":[{\"fillpattern\":{\"fillmode\":\"overlay\",\"size\":10,\"solidity\":0.2},\"type\":\"scatter\"}],\"parcoords\":[{\"type\":\"parcoords\",\"line\":{\"colorbar\":{\"outlinewidth\":0,\"ticks\":\"\"}}}],\"scatterpolargl\":[{\"type\":\"scatterpolargl\",\"marker\":{\"colorbar\":{\"outlinewidth\":0,\"ticks\":\"\"}}}],\"bar\":[{\"error_x\":{\"color\":\"#2a3f5f\"},\"error_y\":{\"color\":\"#2a3f5f\"},\"marker\":{\"line\":{\"color\":\"#E5ECF6\",\"width\":0.5},\"pattern\":{\"fillmode\":\"overlay\",\"size\":10,\"solidity\":0.2}},\"type\":\"bar\"}],\"scattergeo\":[{\"type\":\"scattergeo\",\"marker\":{\"colorbar\":{\"outlinewidth\":0,\"ticks\":\"\"}}}],\"scatterpolar\":[{\"type\":\"scatterpolar\",\"marker\":{\"colorbar\":{\"outlinewidth\":0,\"ticks\":\"\"}}}],\"histogram\":[{\"marker\":{\"pattern\":{\"fillmode\":\"overlay\",\"size\":10,\"solidity\":0.2}},\"type\":\"histogram\"}],\"scattergl\":[{\"type\":\"scattergl\",\"marker\":{\"colorbar\":{\"outlinewidth\":0,\"ticks\":\"\"}}}],\"scatter3d\":[{\"type\":\"scatter3d\",\"line\":{\"colorbar\":{\"outlinewidth\":0,\"ticks\":\"\"}},\"marker\":{\"colorbar\":{\"outlinewidth\":0,\"ticks\":\"\"}}}],\"scattermapbox\":[{\"type\":\"scattermapbox\",\"marker\":{\"colorbar\":{\"outlinewidth\":0,\"ticks\":\"\"}}}],\"scatterternary\":[{\"type\":\"scatterternary\",\"marker\":{\"colorbar\":{\"outlinewidth\":0,\"ticks\":\"\"}}}],\"scattercarpet\":[{\"type\":\"scattercarpet\",\"marker\":{\"colorbar\":{\"outlinewidth\":0,\"ticks\":\"\"}}}],\"carpet\":[{\"aaxis\":{\"endlinecolor\":\"#2a3f5f\",\"gridcolor\":\"white\",\"linecolor\":\"white\",\"minorgridcolor\":\"white\",\"startlinecolor\":\"#2a3f5f\"},\"baxis\":{\"endlinecolor\":\"#2a3f5f\",\"gridcolor\":\"white\",\"linecolor\":\"white\",\"minorgridcolor\":\"white\",\"startlinecolor\":\"#2a3f5f\"},\"type\":\"carpet\"}],\"table\":[{\"cells\":{\"fill\":{\"color\":\"#EBF0F8\"},\"line\":{\"color\":\"white\"}},\"header\":{\"fill\":{\"color\":\"#C8D4E3\"},\"line\":{\"color\":\"white\"}},\"type\":\"table\"}],\"barpolar\":[{\"marker\":{\"line\":{\"color\":\"#E5ECF6\",\"width\":0.5},\"pattern\":{\"fillmode\":\"overlay\",\"size\":10,\"solidity\":0.2}},\"type\":\"barpolar\"}],\"pie\":[{\"automargin\":true,\"type\":\"pie\"}]},\"layout\":{\"autotypenumbers\":\"strict\",\"colorway\":[\"#636efa\",\"#EF553B\",\"#00cc96\",\"#ab63fa\",\"#FFA15A\",\"#19d3f3\",\"#FF6692\",\"#B6E880\",\"#FF97FF\",\"#FECB52\"],\"font\":{\"color\":\"#2a3f5f\"},\"hovermode\":\"closest\",\"hoverlabel\":{\"align\":\"left\"},\"paper_bgcolor\":\"white\",\"plot_bgcolor\":\"#E5ECF6\",\"polar\":{\"bgcolor\":\"#E5ECF6\",\"angularaxis\":{\"gridcolor\":\"white\",\"linecolor\":\"white\",\"ticks\":\"\"},\"radialaxis\":{\"gridcolor\":\"white\",\"linecolor\":\"white\",\"ticks\":\"\"}},\"ternary\":{\"bgcolor\":\"#E5ECF6\",\"aaxis\":{\"gridcolor\":\"white\",\"linecolor\":\"white\",\"ticks\":\"\"},\"baxis\":{\"gridcolor\":\"white\",\"linecolor\":\"white\",\"ticks\":\"\"},\"caxis\":{\"gridcolor\":\"white\",\"linecolor\":\"white\",\"ticks\":\"\"}},\"coloraxis\":{\"colorbar\":{\"outlinewidth\":0,\"ticks\":\"\"}},\"colorscale\":{\"sequential\":[[0.0,\"#0d0887\"],[0.1111111111111111,\"#46039f\"],[0.2222222222222222,\"#7201a8\"],[0.3333333333333333,\"#9c179e\"],[0.4444444444444444,\"#bd3786\"],[0.5555555555555556,\"#d8576b\"],[0.6666666666666666,\"#ed7953\"],[0.7777777777777778,\"#fb9f3a\"],[0.8888888888888888,\"#fdca26\"],[1.0,\"#f0f921\"]],\"sequentialminus\":[[0.0,\"#0d0887\"],[0.1111111111111111,\"#46039f\"],[0.2222222222222222,\"#7201a8\"],[0.3333333333333333,\"#9c179e\"],[0.4444444444444444,\"#bd3786\"],[0.5555555555555556,\"#d8576b\"],[0.6666666666666666,\"#ed7953\"],[0.7777777777777778,\"#fb9f3a\"],[0.8888888888888888,\"#fdca26\"],[1.0,\"#f0f921\"]],\"diverging\":[[0,\"#8e0152\"],[0.1,\"#c51b7d\"],[0.2,\"#de77ae\"],[0.3,\"#f1b6da\"],[0.4,\"#fde0ef\"],[0.5,\"#f7f7f7\"],[0.6,\"#e6f5d0\"],[0.7,\"#b8e186\"],[0.8,\"#7fbc41\"],[0.9,\"#4d9221\"],[1,\"#276419\"]]},\"xaxis\":{\"gridcolor\":\"white\",\"linecolor\":\"white\",\"ticks\":\"\",\"title\":{\"standoff\":15},\"zerolinecolor\":\"white\",\"automargin\":true,\"zerolinewidth\":2},\"yaxis\":{\"gridcolor\":\"white\",\"linecolor\":\"white\",\"ticks\":\"\",\"title\":{\"standoff\":15},\"zerolinecolor\":\"white\",\"automargin\":true,\"zerolinewidth\":2},\"scene\":{\"xaxis\":{\"backgroundcolor\":\"#E5ECF6\",\"gridcolor\":\"white\",\"linecolor\":\"white\",\"showbackground\":true,\"ticks\":\"\",\"zerolinecolor\":\"white\",\"gridwidth\":2},\"yaxis\":{\"backgroundcolor\":\"#E5ECF6\",\"gridcolor\":\"white\",\"linecolor\":\"white\",\"showbackground\":true,\"ticks\":\"\",\"zerolinecolor\":\"white\",\"gridwidth\":2},\"zaxis\":{\"backgroundcolor\":\"#E5ECF6\",\"gridcolor\":\"white\",\"linecolor\":\"white\",\"showbackground\":true,\"ticks\":\"\",\"zerolinecolor\":\"white\",\"gridwidth\":2}},\"shapedefaults\":{\"line\":{\"color\":\"#2a3f5f\"}},\"annotationdefaults\":{\"arrowcolor\":\"#2a3f5f\",\"arrowhead\":0,\"arrowwidth\":1},\"geo\":{\"bgcolor\":\"white\",\"landcolor\":\"#E5ECF6\",\"subunitcolor\":\"white\",\"showland\":true,\"showlakes\":true,\"lakecolor\":\"white\"},\"title\":{\"x\":0.05},\"mapbox\":{\"style\":\"light\"}}},\"xaxis\":{\"anchor\":\"y\",\"domain\":[0.0,1.0],\"title\":{\"text\":\"Engagement_Rate\"}},\"yaxis\":{\"anchor\":\"x\",\"domain\":[0.0,1.0],\"title\":{\"text\":\"count\"}},\"legend\":{\"tracegroupgap\":0},\"title\":{\"text\":\"Distribution of Video Engagement Rates\"},\"barmode\":\"relative\"},                        {\"responsive\": true}                    ).then(function(){\n",
       "                            \n",
       "var gd = document.getElementById('699db7dc-4e67-4aea-8f96-64de903bfbed');\n",
       "var x = new MutationObserver(function (mutations, observer) {{\n",
       "        var display = window.getComputedStyle(gd).display;\n",
       "        if (!display || display === 'none') {{\n",
       "            console.log([gd, 'removed!']);\n",
       "            Plotly.purge(gd);\n",
       "            observer.disconnect();\n",
       "        }}\n",
       "}});\n",
       "\n",
       "// Listen for the removal of the full notebook cells\n",
       "var notebookContainer = gd.closest('#notebook-container');\n",
       "if (notebookContainer) {{\n",
       "    x.observe(notebookContainer, {childList: true});\n",
       "}}\n",
       "\n",
       "// Listen for the clearing of the current output cell\n",
       "var outputEl = gd.closest('.output');\n",
       "if (outputEl) {{\n",
       "    x.observe(outputEl, {childList: true});\n",
       "}}\n",
       "\n",
       "                        })                };                });            </script>        </div>"
      ]
     },
     "metadata": {},
     "output_type": "display_data"
    }
   ],
   "source": [
    "# 4. Engagement Rate Analysis\n",
    "videos_clean['Engagement_Rate'] = (videos_clean['Likes'] + videos_clean['Comments']) / videos_clean['Views'] * 100\n",
    "fig = px.histogram(videos_clean, x='Engagement_Rate',\n",
    "                  title='Distribution of Video Engagement Rates')\n",
    "fig.show()"
   ]
  },
  {
   "cell_type": "code",
   "execution_count": 39,
   "id": "457f11fb",
   "metadata": {},
   "outputs": [
    {
     "data": {
      "image/png": "[encoded data removed]",
      "text/plain": [
       "<Figure size 1000x600 with 1 Axes>"
      ]
     },
     "metadata": {},
     "output_type": "display_data"
    }
   ],
   "source": [
    "# 5. Sentiment vs Likes Box Plot\n",
    "plt.figure(figsize=(10, 6))\n",
    "sns.boxplot(data=comments_clean, x='Sentiment_Label', y='Likes')\n",
    "plt.title('Comment Likes Distribution by Sentiment')\n",
    "plt.xticks(rotation=45)\n",
    "plt.show()"
   ]
  },
  {
   "cell_type": "code",
   "execution_count": 40,
   "id": "da1cb20c",
   "metadata": {},
   "outputs": [
    {
     "data": {
      "application/vnd.plotly.v1+json": {
       "config": {
        "plotlyServerURL": "https://plot.ly"
       },
       "data": [
        {
         "alignmentgroup": "True",
         "hovertemplate": "x=%{x}<br>y=%{y}<extra></extra>",
         "legendgroup": "",
         "marker": {
          "color": "#636efa",
          "pattern": {
           "shape": ""
          }
         },
         "name": "",
         "offsetgroup": "",
         "orientation": "v",
         "showlegend": false,
         "textposition": "auto",
         "type": "bar",
         "x": [
          "2007-07",
          "2007-12",
          "2008-07",
          "2009-02",
          "2009-06",
          "2009-07",
          "2009-08",
          "2009-10",
          "2009-12",
          "2010-03",
          "2010-05",
          "2010-06",
          "2010-09",
          "2010-10",
          "2011-02",
          "2011-05",
          "2011-09",
          "2011-10",
          "2012-01",
          "2012-02",
          "2012-03",
          "2012-04",
          "2012-06",
          "2012-08",
          "2012-10",
          "2012-11",
          "2013-03",
          "2013-04",
          "2013-05",
          "2013-06",
          "2014-02",
          "2014-04",
          "2014-07",
          "2014-08",
          "2014-09",
          "2014-12",
          "2015-01",
          "2015-02",
          "2015-03",
          "2015-04",
          "2015-05",
          "2015-06",
          "2015-07",
          "2015-08",
          "2015-09",
          "2015-10",
          "2015-11",
          "2015-12",
          "2016-01",
          "2016-02",
          "2016-03",
          "2016-04",
          "2016-05",
          "2016-06",
          "2016-07",
          "2016-08",
          "2016-09",
          "2016-10",
          "2016-11",
          "2016-12",
          "2017-01",
          "2017-02",
          "2017-03",
          "2017-04",
          "2017-05",
          "2017-06",
          "2017-08",
          "2017-09",
          "2017-10",
          "2017-11",
          "2017-12",
          "2018-01",
          "2018-02",
          "2018-03",
          "2018-04",
          "2018-06",
          "2018-07",
          "2018-08",
          "2018-09",
          "2018-10",
          "2018-11",
          "2018-12",
          "2019-01",
          "2019-02",
          "2019-03",
          "2019-04",
          "2019-05",
          "2019-06",
          "2019-07",
          "2019-08",
          "2019-09",
          "2019-10",
          "2019-11",
          "2019-12",
          "2020-01",
          "2020-02",
          "2020-03",
          "2020-04",
          "2020-05",
          "2020-06",
          "2020-07",
          "2020-08",
          "2020-09",
          "2020-10",
          "2020-11",
          "2020-12",
          "2021-01",
          "2021-02",
          "2021-03",
          "2021-04",
          "2021-05",
          "2021-06",
          "2021-07",
          "2021-08",
          "2021-09",
          "2021-10",
          "2021-11",
          "2021-12",
          "2022-01",
          "2022-02",
          "2022-03",
          "2022-04",
          "2022-05",
          "2022-06",
          "2022-07",
          "2022-08"
         ],
         "xaxis": "x",
         "y": [
          1,
          1,
          1,
          2,
          2,
          1,
          1,
          1,
          2,
          1,
          2,
          1,
          1,
          1,
          1,
          1,
          1,
          1,
          1,
          3,
          2,
          1,
          1,
          1,
          1,
          2,
          1,
          2,
          2,
          1,
          1,
          2,
          2,
          2,
          2,
          1,
          1,
          1,
          1,
          1,
          2,
          1,
          1,
          1,
          2,
          2,
          1,
          1,
          4,
          3,
          2,
          3,
          4,
          3,
          1,
          4,
          3,
          1,
          5,
          1,
          4,
          8,
          6,
          1,
          6,
          1,
          6,
          3,
          5,
          2,
          5,
          7,
          5,
          3,
          4,
          7,
          5,
          6,
          7,
          5,
          5,
          3,
          6,
          3,
          4,
          4,
          8,
          9,
          10,
          6,
          6,
          11,
          10,
          10,
          3,
          8,
          14,
          12,
          9,
          14,
          15,
          15,
          17,
          16,
          20,
          16,
          17,
          13,
          16,
          15,
          15,
          13,
          12,
          24,
          21,
          20,
          31,
          33,
          34,
          31,
          34,
          52,
          77,
          71,
          121,
          782
         ],
         "yaxis": "y"
        }
       ],
       "layout": {
        "barmode": "relative",
        "legend": {
         "tracegroupgap": 0
        },
        "template": {
         "data": {
          "bar": [
           {
            "error_x": {
             "color": "#2a3f5f"
            },
            "error_y": {
             "color": "#2a3f5f"
            },
            "marker": {
             "line": {
              "color": "#E5ECF6",
              "width": 0.5
             },
             "pattern": {
              "fillmode": "overlay",
              "size": 10,
              "solidity": 0.2
             }
            },
            "type": "bar"
           }
          ],
          "barpolar": [
           {
            "marker": {
             "line": {
              "color": "#E5ECF6",
              "width": 0.5
             },
             "pattern": {
              "fillmode": "overlay",
              "size": 10,
              "solidity": 0.2
             }
            },
            "type": "barpolar"
           }
          ],
          "carpet": [
           {
            "aaxis": {
             "endlinecolor": "#2a3f5f",
             "gridcolor": "white",
             "linecolor": "white",
             "minorgridcolor": "white",
             "startlinecolor": "#2a3f5f"
            },
            "baxis": {
             "endlinecolor": "#2a3f5f",
             "gridcolor": "white",
             "linecolor": "white",
             "minorgridcolor": "white",
             "startlinecolor": "#2a3f5f"
            },
            "type": "carpet"
           }
          ],
          "choropleth": [
           {
            "colorbar": {
             "outlinewidth": 0,
             "ticks": ""
            },
            "type": "choropleth"
           }
          ],
          "contour": [
           {
            "colorbar": {
             "outlinewidth": 0,
             "ticks": ""
            },
            "colorscale": [
             [
              0,
              "#0d0887"
             ],
             [
              0.1111111111111111,
              "#46039f"
             ],
             [
              0.2222222222222222,
              "#7201a8"
             ],
             [
              0.3333333333333333,
              "#9c179e"
             ],
             [
              0.4444444444444444,
              "#bd3786"
             ],
             [
              0.5555555555555556,
              "#d8576b"
             ],
             [
              0.6666666666666666,
              "#ed7953"
             ],
             [
              0.7777777777777778,
              "#fb9f3a"
             ],
             [
              0.8888888888888888,
              "#fdca26"
             ],
             [
              1,
              "#f0f921"
             ]
            ],
            "type": "contour"
           }
          ],
          "contourcarpet": [
           {
            "colorbar": {
             "outlinewidth": 0,
             "ticks": ""
            },
            "type": "contourcarpet"
           }
          ],
          "heatmap": [
           {
            "colorbar": {
             "outlinewidth": 0,
             "ticks": ""
            },
            "colorscale": [
             [
              0,
              "#0d0887"
             ],
             [
              0.1111111111111111,
              "#46039f"
             ],
             [
              0.2222222222222222,
              "#7201a8"
             ],
             [
              0.3333333333333333,
              "#9c179e"
             ],
             [
              0.4444444444444444,
              "#bd3786"
             ],
             [
              0.5555555555555556,
              "#d8576b"
             ],
             [
              0.6666666666666666,
              "#ed7953"
             ],
             [
              0.7777777777777778,
              "#fb9f3a"
             ],
             [
              0.8888888888888888,
              "#fdca26"
             ],
             [
              1,
              "#f0f921"
             ]
            ],
            "type": "heatmap"
           }
          ],
          "heatmapgl": [
           {
            "colorbar": {
             "outlinewidth": 0,
             "ticks": ""
            },
            "colorscale": [
             [
              0,
              "#0d0887"
             ],
             [
              0.1111111111111111,
              "#46039f"
             ],
             [
              0.2222222222222222,
              "#7201a8"
             ],
             [
              0.3333333333333333,
              "#9c179e"
             ],
             [
              0.4444444444444444,
              "#bd3786"
             ],
             [
              0.5555555555555556,
              "#d8576b"
             ],
             [
              0.6666666666666666,
              "#ed7953"
             ],
             [
              0.7777777777777778,
              "#fb9f3a"
             ],
             [
              0.8888888888888888,
              "#fdca26"
             ],
             [
              1,
              "#f0f921"
             ]
            ],
            "type": "heatmapgl"
           }
          ],
          "histogram": [
           {
            "marker": {
             "pattern": {
              "fillmode": "overlay",
              "size": 10,
              "solidity": 0.2
             }
            },
            "type": "histogram"
           }
          ],
          "histogram2d": [
           {
            "colorbar": {
             "outlinewidth": 0,
             "ticks": ""
            },
            "colorscale": [
             [
              0,
              "#0d0887"
             ],
             [
              0.1111111111111111,
              "#46039f"
             ],
             [
              0.2222222222222222,
              "#7201a8"
             ],
             [
              0.3333333333333333,
              "#9c179e"
             ],
             [
              0.4444444444444444,
              "#bd3786"
             ],
             [
              0.5555555555555556,
              "#d8576b"
             ],
             [
              0.6666666666666666,
              "#ed7953"
             ],
             [
              0.7777777777777778,
              "#fb9f3a"
             ],
             [
              0.8888888888888888,
              "#fdca26"
             ],
             [
              1,
              "#f0f921"
             ]
            ],
            "type": "histogram2d"
           }
          ],
          "histogram2dcontour": [
           {
            "colorbar": {
             "outlinewidth": 0,
             "ticks": ""
            },
            "colorscale": [
             [
              0,
              "#0d0887"
             ],
             [
              0.1111111111111111,
              "#46039f"
             ],
             [
              0.2222222222222222,
              "#7201a8"
             ],
             [
              0.3333333333333333,
              "#9c179e"
             ],
             [
              0.4444444444444444,
              "#bd3786"
             ],
             [
              0.5555555555555556,
              "#d8576b"
             ],
             [
              0.6666666666666666,
              "#ed7953"
             ],
             [
              0.7777777777777778,
              "#fb9f3a"
             ],
             [
              0.8888888888888888,
              "#fdca26"
             ],
             [
              1,
              "#f0f921"
             ]
            ],
            "type": "histogram2dcontour"
           }
          ],
          "mesh3d": [
           {
            "colorbar": {
             "outlinewidth": 0,
             "ticks": ""
            },
            "type": "mesh3d"
           }
          ],
          "parcoords": [
           {
            "line": {
             "colorbar": {
              "outlinewidth": 0,
              "ticks": ""
             }
            },
            "type": "parcoords"
           }
          ],
          "pie": [
           {
            "automargin": true,
            "type": "pie"
           }
          ],
          "scatter": [
           {
            "fillpattern": {
             "fillmode": "overlay",
             "size": 10,
             "solidity": 0.2
            },
            "type": "scatter"
           }
          ],
          "scatter3d": [
           {
            "line": {
             "colorbar": {
              "outlinewidth": 0,
              "ticks": ""
             }
            },
            "marker": {
             "colorbar": {
              "outlinewidth": 0,
              "ticks": ""
             }
            },
            "type": "scatter3d"
           }
          ],
          "scattercarpet": [
           {
            "marker": {
             "colorbar": {
              "outlinewidth": 0,
              "ticks": ""
             }
            },
            "type": "scattercarpet"
           }
          ],
          "scattergeo": [
           {
            "marker": {
             "colorbar": {
              "outlinewidth": 0,
              "ticks": ""
             }
            },
            "type": "scattergeo"
           }
          ],
          "scattergl": [
           {
            "marker": {
             "colorbar": {
              "outlinewidth": 0,
              "ticks": ""
             }
            },
            "type": "scattergl"
           }
          ],
          "scattermapbox": [
           {
            "marker": {
             "colorbar": {
              "outlinewidth": 0,
              "ticks": ""
             }
            },
            "type": "scattermapbox"
           }
          ],
          "scatterpolar": [
           {
            "marker": {
             "colorbar": {
              "outlinewidth": 0,
              "ticks": ""
             }
            },
            "type": "scatterpolar"
           }
          ],
          "scatterpolargl": [
           {
            "marker": {
             "colorbar": {
              "outlinewidth": 0,
              "ticks": ""
             }
            },
            "type": "scatterpolargl"
           }
          ],
          "scatterternary": [
           {
            "marker": {
             "colorbar": {
              "outlinewidth": 0,
              "ticks": ""
             }
            },
            "type": "scatterternary"
           }
          ],
          "surface": [
           {
            "colorbar": {
             "outlinewidth": 0,
             "ticks": ""
            },
            "colorscale": [
             [
              0,
              "#0d0887"
             ],
             [
              0.1111111111111111,
              "#46039f"
             ],
             [
              0.2222222222222222,
              "#7201a8"
             ],
             [
              0.3333333333333333,
              "#9c179e"
             ],
             [
              0.4444444444444444,
              "#bd3786"
             ],
             [
              0.5555555555555556,
              "#d8576b"
             ],
             [
              0.6666666666666666,
              "#ed7953"
             ],
             [
              0.7777777777777778,
              "#fb9f3a"
             ],
             [
              0.8888888888888888,
              "#fdca26"
             ],
             [
              1,
              "#f0f921"
             ]
            ],
            "type": "surface"
           }
          ],
          "table": [
           {
            "cells": {
             "fill": {
              "color": "#EBF0F8"
             },
             "line": {
              "color": "white"
             }
            },
            "header": {
             "fill": {
              "color": "#C8D4E3"
             },
             "line": {
              "color": "white"
             }
            },
            "type": "table"
           }
          ]
         },
         "layout": {
          "annotationdefaults": {
           "arrowcolor": "#2a3f5f",
           "arrowhead": 0,
           "arrowwidth": 1
          },
          "autotypenumbers": "strict",
          "coloraxis": {
           "colorbar": {
            "outlinewidth": 0,
            "ticks": ""
           }
          },
          "colorscale": {
           "diverging": [
            [
             0,
             "#8e0152"
            ],
            [
             0.1,
             "#c51b7d"
            ],
            [
             0.2,
             "#de77ae"
            ],
            [
             0.3,
             "#f1b6da"
            ],
            [
             0.4,
             "#fde0ef"
            ],
            [
             0.5,
             "#f7f7f7"
            ],
            [
             0.6,
             "#e6f5d0"
            ],
            [
             0.7,
             "#b8e186"
            ],
            [
             0.8,
             "#7fbc41"
            ],
            [
             0.9,
             "#4d9221"
            ],
            [
             1,
             "#276419"
            ]
           ],
           "sequential": [
            [
             0,
             "#0d0887"
            ],
            [
             0.1111111111111111,
             "#46039f"
            ],
            [
             0.2222222222222222,
             "#7201a8"
            ],
            [
             0.3333333333333333,
             "#9c179e"
            ],
            [
             0.4444444444444444,
             "#bd3786"
            ],
            [
             0.5555555555555556,
             "#d8576b"
            ],
            [
             0.6666666666666666,
             "#ed7953"
            ],
            [
             0.7777777777777778,
             "#fb9f3a"
            ],
            [
             0.8888888888888888,
             "#fdca26"
            ],
            [
             1,
             "#f0f921"
            ]
           ],
           "sequentialminus": [
            [
             0,
             "#0d0887"
            ],
            [
             0.1111111111111111,
             "#46039f"
            ],
            [
             0.2222222222222222,
             "#7201a8"
            ],
            [
             0.3333333333333333,
             "#9c179e"
            ],
            [
             0.4444444444444444,
             "#bd3786"
            ],
            [
             0.5555555555555556,
             "#d8576b"
            ],
            [
             0.6666666666666666,
             "#ed7953"
            ],
            [
             0.7777777777777778,
             "#fb9f3a"
            ],
            [
             0.8888888888888888,
             "#fdca26"
            ],
            [
             1,
             "#f0f921"
            ]
           ]
          },
          "colorway": [
           "#636efa",
           "#EF553B",
           "#00cc96",
           "#ab63fa",
           "#FFA15A",
           "#19d3f3",
           "#FF6692",
           "#B6E880",
           "#FF97FF",
           "#FECB52"
          ],
          "font": {
           "color": "#2a3f5f"
          },
          "geo": {
           "bgcolor": "white",
           "lakecolor": "white",
           "landcolor": "#E5ECF6",
           "showlakes": true,
           "showland": true,
           "subunitcolor": "white"
          },
          "hoverlabel": {
           "align": "left"
          },
          "hovermode": "closest",
          "mapbox": {
           "style": "light"
          },
          "paper_bgcolor": "white",
          "plot_bgcolor": "#E5ECF6",
          "polar": {
           "angularaxis": {
            "gridcolor": "white",
            "linecolor": "white",
            "ticks": ""
           },
           "bgcolor": "#E5ECF6",
           "radialaxis": {
            "gridcolor": "white",
            "linecolor": "white",
            "ticks": ""
           }
          },
          "scene": {
           "xaxis": {
            "backgroundcolor": "#E5ECF6",
            "gridcolor": "white",
            "gridwidth": 2,
            "linecolor": "white",
            "showbackground": true,
            "ticks": "",
            "zerolinecolor": "white"
           },
           "yaxis": {
            "backgroundcolor": "#E5ECF6",
            "gridcolor": "white",
            "gridwidth": 2,
            "linecolor": "white",
            "showbackground": true,
            "ticks": "",
            "zerolinecolor": "white"
           },
           "zaxis": {
            "backgroundcolor": "#E5ECF6",
            "gridcolor": "white",
            "gridwidth": 2,
            "linecolor": "white",
            "showbackground": true,
            "ticks": "",
            "zerolinecolor": "white"
           }
          },
          "shapedefaults": {
           "line": {
            "color": "#2a3f5f"
           }
          },
          "ternary": {
           "aaxis": {
            "gridcolor": "white",
            "linecolor": "white",
            "ticks": ""
           },
           "baxis": {
            "gridcolor": "white",
            "linecolor": "white",
            "ticks": ""
           },
           "bgcolor": "#E5ECF6",
           "caxis": {
            "gridcolor": "white",
            "linecolor": "white",
            "ticks": ""
           }
          },
          "title": {
           "x": 0.05
          },
          "xaxis": {
           "automargin": true,
           "gridcolor": "white",
           "linecolor": "white",
           "ticks": "",
           "title": {
            "standoff": 15
           },
           "zerolinecolor": "white",
           "zerolinewidth": 2
          },
          "yaxis": {
           "automargin": true,
           "gridcolor": "white",
           "linecolor": "white",
           "ticks": "",
           "title": {
            "standoff": 15
           },
           "zerolinecolor": "white",
           "zerolinewidth": 2
          }
         }
        },
        "title": {
         "text": "Number of Videos Uploaded per Month"
        },
        "xaxis": {
         "anchor": "y",
         "domain": [
          0,
          1
         ],
         "title": {
          "text": "x"
         }
        },
        "yaxis": {
         "anchor": "x",
         "domain": [
          0,
          1
         ],
         "title": {
          "text": "y"
         }
        }
       }
      },
      "text/html": [
       "<div>                            <div id=\"0a2e194f-42f4-4242-946c-1a6ce70ea474\" class=\"plotly-graph-div\" style=\"height:525px; width:100%;\"></div>            <script type=\"text/javascript\">                require([\"plotly\"], function(Plotly) {                    window.PLOTLYENV=window.PLOTLYENV || {};                                    if (document.getElementById(\"0a2e194f-42f4-4242-946c-1a6ce70ea474\")) {                    Plotly.newPlot(                        \"0a2e194f-42f4-4242-946c-1a6ce70ea474\",                        [{\"alignmentgroup\":\"True\",\"hovertemplate\":\"x=%{x}<br>y=%{y}<extra></extra>\",\"legendgroup\":\"\",\"marker\":{\"color\":\"#636efa\",\"pattern\":{\"shape\":\"\"}},\"name\":\"\",\"offsetgroup\":\"\",\"orientation\":\"v\",\"showlegend\":false,\"textposition\":\"auto\",\"x\":[\"2007-07\",\"2007-12\",\"2008-07\",\"2009-02\",\"2009-06\",\"2009-07\",\"2009-08\",\"2009-10\",\"2009-12\",\"2010-03\",\"2010-05\",\"2010-06\",\"2010-09\",\"2010-10\",\"2011-02\",\"2011-05\",\"2011-09\",\"2011-10\",\"2012-01\",\"2012-02\",\"2012-03\",\"2012-04\",\"2012-06\",\"2012-08\",\"2012-10\",\"2012-11\",\"2013-03\",\"2013-04\",\"2013-05\",\"2013-06\",\"2014-02\",\"2014-04\",\"2014-07\",\"2014-08\",\"2014-09\",\"2014-12\",\"2015-01\",\"2015-02\",\"2015-03\",\"2015-04\",\"2015-05\",\"2015-06\",\"2015-07\",\"2015-08\",\"2015-09\",\"2015-10\",\"2015-11\",\"2015-12\",\"2016-01\",\"2016-02\",\"2016-03\",\"2016-04\",\"2016-05\",\"2016-06\",\"2016-07\",\"2016-08\",\"2016-09\",\"2016-10\",\"2016-11\",\"2016-12\",\"2017-01\",\"2017-02\",\"2017-03\",\"2017-04\",\"2017-05\",\"2017-06\",\"2017-08\",\"2017-09\",\"2017-10\",\"2017-11\",\"2017-12\",\"2018-01\",\"2018-02\",\"2018-03\",\"2018-04\",\"2018-06\",\"2018-07\",\"2018-08\",\"2018-09\",\"2018-10\",\"2018-11\",\"2018-12\",\"2019-01\",\"2019-02\",\"2019-03\",\"2019-04\",\"2019-05\",\"2019-06\",\"2019-07\",\"2019-08\",\"2019-09\",\"2019-10\",\"2019-11\",\"2019-12\",\"2020-01\",\"2020-02\",\"2020-03\",\"2020-04\",\"2020-05\",\"2020-06\",\"2020-07\",\"2020-08\",\"2020-09\",\"2020-10\",\"2020-11\",\"2020-12\",\"2021-01\",\"2021-02\",\"2021-03\",\"2021-04\",\"2021-05\",\"2021-06\",\"2021-07\",\"2021-08\",\"2021-09\",\"2021-10\",\"2021-11\",\"2021-12\",\"2022-01\",\"2022-02\",\"2022-03\",\"2022-04\",\"2022-05\",\"2022-06\",\"2022-07\",\"2022-08\"],\"xaxis\":\"x\",\"y\":[1,1,1,2,2,1,1,1,2,1,2,1,1,1,1,1,1,1,1,3,2,1,1,1,1,2,1,2,2,1,1,2,2,2,2,1,1,1,1,1,2,1,1,1,2,2,1,1,4,3,2,3,4,3,1,4,3,1,5,1,4,8,6,1,6,1,6,3,5,2,5,7,5,3,4,7,5,6,7,5,5,3,6,3,4,4,8,9,10,6,6,11,10,10,3,8,14,12,9,14,15,15,17,16,20,16,17,13,16,15,15,13,12,24,21,20,31,33,34,31,34,52,77,71,121,782],\"yaxis\":\"y\",\"type\":\"bar\"}],                        {\"template\":{\"data\":{\"histogram2dcontour\":[{\"type\":\"histogram2dcontour\",\"colorbar\":{\"outlinewidth\":0,\"ticks\":\"\"},\"colorscale\":[[0.0,\"#0d0887\"],[0.1111111111111111,\"#46039f\"],[0.2222222222222222,\"#7201a8\"],[0.3333333333333333,\"#9c179e\"],[0.4444444444444444,\"#bd3786\"],[0.5555555555555556,\"#d8576b\"],[0.6666666666666666,\"#ed7953\"],[0.7777777777777778,\"#fb9f3a\"],[0.8888888888888888,\"#fdca26\"],[1.0,\"#f0f921\"]]}],\"choropleth\":[{\"type\":\"choropleth\",\"colorbar\":{\"outlinewidth\":0,\"ticks\":\"\"}}],\"histogram2d\":[{\"type\":\"histogram2d\",\"colorbar\":{\"outlinewidth\":0,\"ticks\":\"\"},\"colorscale\":[[0.0,\"#0d0887\"],[0.1111111111111111,\"#46039f\"],[0.2222222222222222,\"#7201a8\"],[0.3333333333333333,\"#9c179e\"],[0.4444444444444444,\"#bd3786\"],[0.5555555555555556,\"#d8576b\"],[0.6666666666666666,\"#ed7953\"],[0.7777777777777778,\"#fb9f3a\"],[0.8888888888888888,\"#fdca26\"],[1.0,\"#f0f921\"]]}],\"heatmap\":[{\"type\":\"heatmap\",\"colorbar\":{\"outlinewidth\":0,\"ticks\":\"\"},\"colorscale\":[[0.0,\"#0d0887\"],[0.1111111111111111,\"#46039f\"],[0.2222222222222222,\"#7201a8\"],[0.3333333333333333,\"#9c179e\"],[0.4444444444444444,\"#bd3786\"],[0.5555555555555556,\"#d8576b\"],[0.6666666666666666,\"#ed7953\"],[0.7777777777777778,\"#fb9f3a\"],[0.8888888888888888,\"#fdca26\"],[1.0,\"#f0f921\"]]}],\"heatmapgl\":[{\"type\":\"heatmapgl\",\"colorbar\":{\"outlinewidth\":0,\"ticks\":\"\"},\"colorscale\":[[0.0,\"#0d0887\"],[0.1111111111111111,\"#46039f\"],[0.2222222222222222,\"#7201a8\"],[0.3333333333333333,\"#9c179e\"],[0.4444444444444444,\"#bd3786\"],[0.5555555555555556,\"#d8576b\"],[0.6666666666666666,\"#ed7953\"],[0.7777777777777778,\"#fb9f3a\"],[0.8888888888888888,\"#fdca26\"],[1.0,\"#f0f921\"]]}],\"contourcarpet\":[{\"type\":\"contourcarpet\",\"colorbar\":{\"outlinewidth\":0,\"ticks\":\"\"}}],\"contour\":[{\"type\":\"contour\",\"colorbar\":{\"outlinewidth\":0,\"ticks\":\"\"},\"colorscale\":[[0.0,\"#0d0887\"],[0.1111111111111111,\"#46039f\"],[0.2222222222222222,\"#7201a8\"],[0.3333333333333333,\"#9c179e\"],[0.4444444444444444,\"#bd3786\"],[0.5555555555555556,\"#d8576b\"],[0.6666666666666666,\"#ed7953\"],[0.7777777777777778,\"#fb9f3a\"],[0.8888888888888888,\"#fdca26\"],[1.0,\"#f0f921\"]]}],\"surface\":[{\"type\":\"surface\",\"colorbar\":{\"outlinewidth\":0,\"ticks\":\"\"},\"colorscale\":[[0.0,\"#0d0887\"],[0.1111111111111111,\"#46039f\"],[0.2222222222222222,\"#7201a8\"],[0.3333333333333333,\"#9c179e\"],[0.4444444444444444,\"#bd3786\"],[0.5555555555555556,\"#d8576b\"],[0.6666666666666666,\"#ed7953\"],[0.7777777777777778,\"#fb9f3a\"],[0.8888888888888888,\"#fdca26\"],[1.0,\"#f0f921\"]]}],\"mesh3d\":[{\"type\":\"mesh3d\",\"colorbar\":{\"outlinewidth\":0,\"ticks\":\"\"}}],\"scatter\":[{\"fillpattern\":{\"fillmode\":\"overlay\",\"size\":10,\"solidity\":0.2},\"type\":\"scatter\"}],\"parcoords\":[{\"type\":\"parcoords\",\"line\":{\"colorbar\":{\"outlinewidth\":0,\"ticks\":\"\"}}}],\"scatterpolargl\":[{\"type\":\"scatterpolargl\",\"marker\":{\"colorbar\":{\"outlinewidth\":0,\"ticks\":\"\"}}}],\"bar\":[{\"error_x\":{\"color\":\"#2a3f5f\"},\"error_y\":{\"color\":\"#2a3f5f\"},\"marker\":{\"line\":{\"color\":\"#E5ECF6\",\"width\":0.5},\"pattern\":{\"fillmode\":\"overlay\",\"size\":10,\"solidity\":0.2}},\"type\":\"bar\"}],\"scattergeo\":[{\"type\":\"scattergeo\",\"marker\":{\"colorbar\":{\"outlinewidth\":0,\"ticks\":\"\"}}}],\"scatterpolar\":[{\"type\":\"scatterpolar\",\"marker\":{\"colorbar\":{\"outlinewidth\":0,\"ticks\":\"\"}}}],\"histogram\":[{\"marker\":{\"pattern\":{\"fillmode\":\"overlay\",\"size\":10,\"solidity\":0.2}},\"type\":\"histogram\"}],\"scattergl\":[{\"type\":\"scattergl\",\"marker\":{\"colorbar\":{\"outlinewidth\":0,\"ticks\":\"\"}}}],\"scatter3d\":[{\"type\":\"scatter3d\",\"line\":{\"colorbar\":{\"outlinewidth\":0,\"ticks\":\"\"}},\"marker\":{\"colorbar\":{\"outlinewidth\":0,\"ticks\":\"\"}}}],\"scattermapbox\":[{\"type\":\"scattermapbox\",\"marker\":{\"colorbar\":{\"outlinewidth\":0,\"ticks\":\"\"}}}],\"scatterternary\":[{\"type\":\"scatterternary\",\"marker\":{\"colorbar\":{\"outlinewidth\":0,\"ticks\":\"\"}}}],\"scattercarpet\":[{\"type\":\"scattercarpet\",\"marker\":{\"colorbar\":{\"outlinewidth\":0,\"ticks\":\"\"}}}],\"carpet\":[{\"aaxis\":{\"endlinecolor\":\"#2a3f5f\",\"gridcolor\":\"white\",\"linecolor\":\"white\",\"minorgridcolor\":\"white\",\"startlinecolor\":\"#2a3f5f\"},\"baxis\":{\"endlinecolor\":\"#2a3f5f\",\"gridcolor\":\"white\",\"linecolor\":\"white\",\"minorgridcolor\":\"white\",\"startlinecolor\":\"#2a3f5f\"},\"type\":\"carpet\"}],\"table\":[{\"cells\":{\"fill\":{\"color\":\"#EBF0F8\"},\"line\":{\"color\":\"white\"}},\"header\":{\"fill\":{\"color\":\"#C8D4E3\"},\"line\":{\"color\":\"white\"}},\"type\":\"table\"}],\"barpolar\":[{\"marker\":{\"line\":{\"color\":\"#E5ECF6\",\"width\":0.5},\"pattern\":{\"fillmode\":\"overlay\",\"size\":10,\"solidity\":0.2}},\"type\":\"barpolar\"}],\"pie\":[{\"automargin\":true,\"type\":\"pie\"}]},\"layout\":{\"autotypenumbers\":\"strict\",\"colorway\":[\"#636efa\",\"#EF553B\",\"#00cc96\",\"#ab63fa\",\"#FFA15A\",\"#19d3f3\",\"#FF6692\",\"#B6E880\",\"#FF97FF\",\"#FECB52\"],\"font\":{\"color\":\"#2a3f5f\"},\"hovermode\":\"closest\",\"hoverlabel\":{\"align\":\"left\"},\"paper_bgcolor\":\"white\",\"plot_bgcolor\":\"#E5ECF6\",\"polar\":{\"bgcolor\":\"#E5ECF6\",\"angularaxis\":{\"gridcolor\":\"white\",\"linecolor\":\"white\",\"ticks\":\"\"},\"radialaxis\":{\"gridcolor\":\"white\",\"linecolor\":\"white\",\"ticks\":\"\"}},\"ternary\":{\"bgcolor\":\"#E5ECF6\",\"aaxis\":{\"gridcolor\":\"white\",\"linecolor\":\"white\",\"ticks\":\"\"},\"baxis\":{\"gridcolor\":\"white\",\"linecolor\":\"white\",\"ticks\":\"\"},\"caxis\":{\"gridcolor\":\"white\",\"linecolor\":\"white\",\"ticks\":\"\"}},\"coloraxis\":{\"colorbar\":{\"outlinewidth\":0,\"ticks\":\"\"}},\"colorscale\":{\"sequential\":[[0.0,\"#0d0887\"],[0.1111111111111111,\"#46039f\"],[0.2222222222222222,\"#7201a8\"],[0.3333333333333333,\"#9c179e\"],[0.4444444444444444,\"#bd3786\"],[0.5555555555555556,\"#d8576b\"],[0.6666666666666666,\"#ed7953\"],[0.7777777777777778,\"#fb9f3a\"],[0.8888888888888888,\"#fdca26\"],[1.0,\"#f0f921\"]],\"sequentialminus\":[[0.0,\"#0d0887\"],[0.1111111111111111,\"#46039f\"],[0.2222222222222222,\"#7201a8\"],[0.3333333333333333,\"#9c179e\"],[0.4444444444444444,\"#bd3786\"],[0.5555555555555556,\"#d8576b\"],[0.6666666666666666,\"#ed7953\"],[0.7777777777777778,\"#fb9f3a\"],[0.8888888888888888,\"#fdca26\"],[1.0,\"#f0f921\"]],\"diverging\":[[0,\"#8e0152\"],[0.1,\"#c51b7d\"],[0.2,\"#de77ae\"],[0.3,\"#f1b6da\"],[0.4,\"#fde0ef\"],[0.5,\"#f7f7f7\"],[0.6,\"#e6f5d0\"],[0.7,\"#b8e186\"],[0.8,\"#7fbc41\"],[0.9,\"#4d9221\"],[1,\"#276419\"]]},\"xaxis\":{\"gridcolor\":\"white\",\"linecolor\":\"white\",\"ticks\":\"\",\"title\":{\"standoff\":15},\"zerolinecolor\":\"white\",\"automargin\":true,\"zerolinewidth\":2},\"yaxis\":{\"gridcolor\":\"white\",\"linecolor\":\"white\",\"ticks\":\"\",\"title\":{\"standoff\":15},\"zerolinecolor\":\"white\",\"automargin\":true,\"zerolinewidth\":2},\"scene\":{\"xaxis\":{\"backgroundcolor\":\"#E5ECF6\",\"gridcolor\":\"white\",\"linecolor\":\"white\",\"showbackground\":true,\"ticks\":\"\",\"zerolinecolor\":\"white\",\"gridwidth\":2},\"yaxis\":{\"backgroundcolor\":\"#E5ECF6\",\"gridcolor\":\"white\",\"linecolor\":\"white\",\"showbackground\":true,\"ticks\":\"\",\"zerolinecolor\":\"white\",\"gridwidth\":2},\"zaxis\":{\"backgroundcolor\":\"#E5ECF6\",\"gridcolor\":\"white\",\"linecolor\":\"white\",\"showbackground\":true,\"ticks\":\"\",\"zerolinecolor\":\"white\",\"gridwidth\":2}},\"shapedefaults\":{\"line\":{\"color\":\"#2a3f5f\"}},\"annotationdefaults\":{\"arrowcolor\":\"#2a3f5f\",\"arrowhead\":0,\"arrowwidth\":1},\"geo\":{\"bgcolor\":\"white\",\"landcolor\":\"#E5ECF6\",\"subunitcolor\":\"white\",\"showland\":true,\"showlakes\":true,\"lakecolor\":\"white\"},\"title\":{\"x\":0.05},\"mapbox\":{\"style\":\"light\"}}},\"xaxis\":{\"anchor\":\"y\",\"domain\":[0.0,1.0],\"title\":{\"text\":\"x\"}},\"yaxis\":{\"anchor\":\"x\",\"domain\":[0.0,1.0],\"title\":{\"text\":\"y\"}},\"legend\":{\"tracegroupgap\":0},\"title\":{\"text\":\"Number of Videos Uploaded per Month\"},\"barmode\":\"relative\"},                        {\"responsive\": true}                    ).then(function(){\n",
       "                            \n",
       "var gd = document.getElementById('0a2e194f-42f4-4242-946c-1a6ce70ea474');\n",
       "var x = new MutationObserver(function (mutations, observer) {{\n",
       "        var display = window.getComputedStyle(gd).display;\n",
       "        if (!display || display === 'none') {{\n",
       "            console.log([gd, 'removed!']);\n",
       "            Plotly.purge(gd);\n",
       "            observer.disconnect();\n",
       "        }}\n",
       "}});\n",
       "\n",
       "// Listen for the removal of the full notebook cells\n",
       "var notebookContainer = gd.closest('#notebook-container');\n",
       "if (notebookContainer) {{\n",
       "    x.observe(notebookContainer, {childList: true});\n",
       "}}\n",
       "\n",
       "// Listen for the clearing of the current output cell\n",
       "var outputEl = gd.closest('.output');\n",
       "if (outputEl) {{\n",
       "    x.observe(outputEl, {childList: true});\n",
       "}}\n",
       "\n",
       "                        })                };                });            </script>        </div>"
      ]
     },
     "metadata": {},
     "output_type": "display_data"
    }
   ],
   "source": [
    "# 6. Monthly Video Upload Frequency\n",
    "videos_clean['Month'] = videos_clean['Published At'].dt.strftime('%Y-%m')\n",
    "monthly_uploads = videos_clean['Month'].value_counts().sort_index()\n",
    "fig = px.bar(x=monthly_uploads.index, y=monthly_uploads.values,\n",
    "             title='Number of Videos Uploaded per Month')\n",
    "fig.show()"
   ]
  },
  {
   "cell_type": "code",
   "execution_count": 41,
   "id": "2eae2720",
   "metadata": {},
   "outputs": [
    {
     "data": {
      "image/png": "[encoded data removed]",
      "text/plain": [
       "<Figure size 800x600 with 2 Axes>"
      ]
     },
     "metadata": {},
     "output_type": "display_data"
    }
   ],
   "source": [
    "# 7. Correlation Heatmap\n",
    "plt.figure(figsize=(8, 6))\n",
    "correlation = videos_clean[['Views', 'Likes', 'Comments']].corr()\n",
    "sns.heatmap(correlation, annot=True, cmap='coolwarm')\n",
    "plt.title('Correlation between Video Metrics')\n",
    "plt.show()"
   ]
  },
  {
   "cell_type": "markdown",
   "id": "adcaca85",
   "metadata": {},
   "source": [
    "# Model Training"
   ]
  },
  {
   "cell_type": "code",
   "execution_count": 68,
   "id": "19f78361",
   "metadata": {
    "scrolled": true
   },
   "outputs": [],
   "source": [
    "import pandas as pd\n",
    "import numpy as np\n",
    "from sklearn.model_selection import train_test_split, cross_val_score\n",
    "from sklearn.ensemble import RandomForestRegressor\n",
    "import matplotlib.pyplot as plt\n",
    "import seaborn as sns\n",
    "from vaderSentiment.vaderSentiment import SentimentIntensityAnalyzer"
   ]
  },
  {
   "cell_type": "code",
   "execution_count": 107,
   "id": "1f67b2c5",
   "metadata": {},
   "outputs": [],
   "source": [
    "class ContentStrategyAnalyzer:\n",
    "    def __init__(self, videos_df, comments_df):\n",
    "        self.videos_df = videos_df.copy()\n",
    "        self.comments_df = comments_df.copy()\n",
    "        self.sentiment_analyzer = SentimentIntensityAnalyzer()\n",
    "        self.engagement_model = None\n",
    "        self.prepare_date_features()\n",
    "        self.train_engagement_model()\n",
    "        \n",
    "    def prepare_date_features(self):\n",
    "        \"\"\"Extract date-based features\"\"\"\n",
    "        self.videos_df['Published At'] = pd.to_datetime(self.videos_df['Published At'])\n",
    "        self.videos_df['day_of_week'] = self.videos_df['Published At'].dt.dayofweek\n",
    "        self.videos_df['month'] = self.videos_df['Published At'].dt.month\n",
    "        self.videos_df['year'] = self.videos_df['Published At'].dt.year\n",
    "        \n",
    "    def train_engagement_model(self):\n",
    "        \"\"\"Train and validate the model with date features\"\"\"\n",
    "        # Calculate engagement rate with safeguards against infinity and NaN\n",
    "        self.videos_df['engagement_rate'] = np.where(\n",
    "            self.videos_df['Views'] > 0,\n",
    "            (self.videos_df['Likes'] + self.videos_df['Comments']) / self.videos_df['Views'] * 100,\n",
    "            0  # Set to 0 if views are 0\n",
    "        )\n",
    "\n",
    "        # Replace infinite values with NaN then fill with median\n",
    "        self.videos_df['engagement_rate'].replace([np.inf, -np.inf], np.nan, inplace=True)\n",
    "        self.videos_df['engagement_rate'].fillna(self.videos_df['engagement_rate'].median(), inplace=True)\n",
    "\n",
    "        # Prepare features\n",
    "        features = ['day_of_week', 'month', 'year']\n",
    "        X = self.videos_df[features]\n",
    "        y = self.videos_df['engagement_rate']\n",
    "\n",
    "        # Split and train\n",
    "        X_train, X_test, y_train, y_test = train_test_split(X, y, test_size=0.2, random_state=42)\n",
    "        self.engagement_model = RandomForestRegressor(n_estimators=100, random_state=42)\n",
    "        self.engagement_model.fit(X_train, y_train)\n",
    "\n",
    "        # Store validation scores\n",
    "        self.train_score = self.engagement_model.score(X_train, y_train)\n",
    "        self.test_score = self.engagement_model.score(X_test, y_test)\n",
    "        self.cv_scores = cross_val_score(self.engagement_model, X, y, cv=5)\n",
    "\n",
    "        # Store feature importance\n",
    "        self.feature_importance = pd.DataFrame({\n",
    "            'feature': features,\n",
    "            'importance': self.engagement_model.feature_importances_\n",
    "        }).sort_values('importance', ascending=False)\n",
    "\n",
    "    def predict_and_visualize(self, title, publish_date):\n",
    "        \"\"\"Make prediction and create visualization for the specific input\"\"\"\n",
    "        # Get prediction\n",
    "        prediction_results = self.predict_engagement(title, publish_date)\n",
    "        \n",
    "        # Create visualization for the prediction\n",
    "        plt.figure(figsize=(15, 5))\n",
    "        \n",
    "        # Plot 1: Compare predicted engagement with distribution\n",
    "        plt.subplot(131)\n",
    "        sns.histplot(data=self.videos_df, x='engagement_rate', bins=30)\n",
    "        plt.axvline(prediction_results['predicted_engagement'], \n",
    "                    color='r', \n",
    "                    linestyle='--', \n",
    "                    label=f'Your prediction: {prediction_results[\"predicted_engagement\"]:.2f}%')\n",
    "        plt.title('Your Predicted Engagement vs Distribution')\n",
    "        plt.legend()\n",
    "        \n",
    "        # Plot 2: Day of week comparison\n",
    "        plt.subplot(132)\n",
    "        daily_engagement = self.videos_df.groupby('day_of_week')['engagement_rate'].mean()\n",
    "        sns.barplot(x=daily_engagement.index, y=daily_engagement.values)\n",
    "        plt.axvline(publish_date.weekday(), color='r', linestyle='--', \n",
    "                    label=f'Your day: {publish_date.strftime(\"%A\")}')\n",
    "        plt.title('Your Upload Day vs Average Engagement')\n",
    "        plt.xticks(range(7), ['Mon', 'Tue', 'Wed', 'Thu', 'Fri', 'Sat', 'Sun'])\n",
    "        plt.legend()\n",
    "        \n",
    "        # Plot 3: Month comparison\n",
    "        plt.subplot(133)\n",
    "        monthly_engagement = self.videos_df.groupby('month')['engagement_rate'].mean()\n",
    "        sns.barplot(x=monthly_engagement.index, y=monthly_engagement.values)\n",
    "        plt.axvline(publish_date.month - 1, color='r', linestyle='--', \n",
    "                    label=f'Your month: {publish_date.strftime(\"%B\")}')\n",
    "        plt.title('Your Upload Month vs Average Engagement')\n",
    "        plt.xticks(range(1, 13), ['Jan', 'Feb', 'Mar', 'Apr', 'May', 'Jun', \n",
    "                               'Jul', 'Aug', 'Sep', 'Oct', 'Nov', 'Dec'])\n",
    "        plt.legend()\n",
    "        \n",
    "        plt.tight_layout()\n",
    "        plt.show()\n",
    "\n",
    "    def predict_engagement(self, title, publish_date):\n",
    "        \"\"\"Predict engagement using date features\"\"\"\n",
    "        features = pd.DataFrame({\n",
    "            'day_of_week': [publish_date.weekday()],\n",
    "            'month': [publish_date.month],\n",
    "            'year': [publish_date.year]\n",
    "        })\n",
    "        \n",
    "        predicted_engagement = self.engagement_model.predict(features)[0]\n",
    "        sentiment = self.sentiment_analyzer.polarity_scores(title)\n",
    "        \n",
    "        return {\n",
    "            'predicted_engagement': predicted_engagement,\n",
    "            'title_analysis': {\n",
    "                'length': len(title),\n",
    "                'has_question': '?' in title,\n",
    "                'has_exclamation': '!' in title,\n",
    "                'sentiment': sentiment\n",
    "            },\n",
    "            'timing': {\n",
    "                'day': publish_date.strftime('%A'),\n",
    "                'month': publish_date.strftime('%B'),\n",
    "                'year': publish_date.year\n",
    "            }\n",
    "        }\n",
    "    \n",
    "    def plot_model_performance(self):\n",
    "        \"\"\"Plot model validation results\"\"\"\n",
    "        plt.figure(figsize=(15, 5))\n",
    "        \n",
    "        # Plot 1: Feature Importance\n",
    "        plt.subplot(131)\n",
    "        sns.barplot(data=self.feature_importance, x='feature', y='importance')\n",
    "        plt.title('Feature Importance')\n",
    "        plt.xticks(rotation=45)\n",
    "        \n",
    "        # Plot 2: Engagement Rate Distribution\n",
    "        plt.subplot(132)\n",
    "        sns.histplot(data=self.videos_df, x='engagement_rate', bins=30)\n",
    "        plt.title('Engagement Rate Distribution')\n",
    "        \n",
    "        # Plot 3: Cross-validation Scores\n",
    "        plt.subplot(133)\n",
    "        sns.boxplot(data=self.cv_scores)\n",
    "        plt.title('Cross-validation Scores')\n",
    "        plt.ylabel('R² Score')\n",
    "        \n",
    "        plt.tight_layout()\n",
    "        plt.show()\n",
    "    \n",
    "    def plot_timing_analysis(self):\n",
    "        \"\"\"Plot engagement patterns by date components\"\"\"\n",
    "        plt.figure(figsize=(15, 5))\n",
    "        \n",
    "        # Plot 1: Day of Week Analysis\n",
    "        plt.subplot(131)\n",
    "        daily_engagement = self.videos_df.groupby('day_of_week')['engagement_rate'].mean()\n",
    "        sns.barplot(x=daily_engagement.index, y=daily_engagement.values)\n",
    "        plt.title('Average Engagement by Day')\n",
    "        plt.xticks(range(7), ['Mon', 'Tue', 'Wed', 'Thu', 'Fri', 'Sat', 'Sun'])\n",
    "        \n",
    "        # Plot 2: Monthly Analysis\n",
    "        plt.subplot(132)\n",
    "        monthly_engagement = self.videos_df.groupby('month')['engagement_rate'].mean()\n",
    "        sns.barplot(x=monthly_engagement.index, y=monthly_engagement.values)\n",
    "        plt.title('Average Engagement by Month')\n",
    "        plt.xticks(range(1, 13), ['Jan', 'Feb', 'Mar', 'Apr', 'May', 'Jun', \n",
    "                                 'Jul', 'Aug', 'Sep', 'Oct', 'Nov', 'Dec'])\n",
    "        \n",
    "        # Plot 3: Yearly Analysis\n",
    "        plt.subplot(133)\n",
    "        yearly_engagement = self.videos_df.groupby('year')['engagement_rate'].mean()\n",
    "        sns.barplot(x=yearly_engagement.index, y=yearly_engagement.values)\n",
    "        plt.title('Average Engagement by Year')\n",
    "        \n",
    "        plt.tight_layout()\n",
    "        plt.show()"
   ]
  },
  {
   "cell_type": "code",
   "execution_count": 108,
   "id": "42078d6b",
   "metadata": {},
   "outputs": [],
   "source": [
    "def test_analyzer():\n",
    "    print(\"=== YouTube Content Strategy Analyzer ===\")\n",
    "    \n",
    "    while True:\n",
    "        try:\n",
    "            title = input(\"Enter video title: \")\n",
    "            date_str = input(\"Enter publish date (YYYY-MM-DD): \")  # Changed format\n",
    "            \n",
    "            # Parse date without time\n",
    "            publish_date = pd.to_datetime(date_str)\n",
    "            break\n",
    "        except (ValueError, OutOfBoundsDatetime):\n",
    "            print(\"Invalid date format. Please use YYYY-MM-DD\")\n",
    "    \n",
    "    # Initialize and analyze\n",
    "    analyzer = ContentStrategyAnalyzer(videos_clean, comments_clean)\n",
    "    results = analyzer.predict_engagement(title, publish_date)\n",
    "    \n",
    "    print(\"\\n=== Analysis Results ===\")\n",
    "    print(\"\\nTitle Analysis:\")\n",
    "    print(f\"Length: {results['title_analysis']['length']} characters\")\n",
    "    print(f\"Question Mark: {'Yes' if results['title_analysis']['has_question'] else 'No'}\")\n",
    "    print(f\"Exclamation Mark: {'Yes' if results['title_analysis']['has_exclamation'] else 'No'}\")\n",
    "    print(f\"Sentiment Score: {results['title_analysis']['sentiment']['compound']:.2f}\")\n",
    "    \n",
    "    print(\"\\nTiming Analysis:\")\n",
    "    print(f\"Day: {results['timing']['day']}\")\n",
    "    print(f\"Month: {results['timing']['month']}\")\n",
    "    \n",
    "    print(f\"\\nPredicted Engagement Rate: {results['predicted_engagement']:.2f}%\")\n",
    "    \n",
    "    print(\"\\nGenerating visualizations...\")\n",
    "    analyzer.predict_and_visualize(title, publish_date)\n",
    "    \n",
    "    return analyzer, results"
   ]
  },
  {
   "cell_type": "code",
   "execution_count": 109,
   "id": "aaa14b5a",
   "metadata": {
    "scrolled": true
   },
   "outputs": [
    {
     "name": "stdout",
     "output_type": "stream",
     "text": [
      "=== YouTube Content Strategy Analyzer ===\n",
      "Enter video title: Youtube prank gone wrong\n",
      "Enter publish date (YYYY-MM-DD): 2022-02-02\n",
      "\n",
      "=== Analysis Results ===\n",
      "\n",
      "Title Analysis:\n",
      "Length: 24 characters\n",
      "Question Mark: No\n",
      "Exclamation Mark: No\n",
      "Sentiment Score: -0.48\n",
      "\n",
      "Timing Analysis:\n",
      "Day: Wednesday\n",
      "Month: February\n",
      "\n",
      "Predicted Engagement Rate: 2.49%\n",
      "\n",
      "Generating visualizations...\n"
     ]
    },
    {
     "data": {
      "image/png": "[encoded data removed]",
      "text/plain": [
       "<Figure size 1500x500 with 3 Axes>"
      ]
     },
     "metadata": {},
     "output_type": "display_data"
    }
   ],
   "source": [
    "if __name__ == \"__main__\":\n",
    "    analyzer, results = test_analyzer()"
   ]
  },
  {
   "cell_type": "code",
   "execution_count": null,
   "id": "15ea6d3a",
   "metadata": {},
   "outputs": [],
   "source": []
  }
 ],
 "metadata": {
  "kernelspec": {
   "display_name": "Python 3 (ipykernel)",
   "language": "python",
   "name": "python3"
  },
  "language_info": {
   "codemirror_mode": {
    "name": "ipython",
    "version": 3
   },
   "file_extension": ".py",
   "mimetype": "text/x-python",
   "name": "python",
   "nbconvert_exporter": "python",
   "pygments_lexer": "ipython3",
   "version": "3.11.5"
  }
 },
 "nbformat": 4,
 "nbformat_minor": 5
}
